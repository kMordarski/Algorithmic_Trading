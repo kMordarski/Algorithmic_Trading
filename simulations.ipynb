{
 "cells": [
  {
   "cell_type": "code",
   "execution_count": 2,
   "metadata": {},
   "outputs": [],
   "source": [
    "import numpy as np\n",
    "import plotly as plt"
   ]
  },
  {
   "cell_type": "code",
   "execution_count": 1,
   "metadata": {},
   "outputs": [],
   "source": [
    "import plotly.graph_objs as go\n",
    "from plotly.subplots import make_subplots\n",
    "import plotly.express as px"
   ]
  },
  {
   "cell_type": "markdown",
   "metadata": {},
   "source": [
    "We use the values of parameters from the paper, apart from sigma whcih was unfortunately not specified."
   ]
  },
  {
   "cell_type": "code",
   "execution_count": 3,
   "metadata": {},
   "outputs": [],
   "source": [
    "# Parameters\n",
    "\n",
    "# General\n",
    "t = 0\n",
    "T = 300\n",
    "np.random.seed(100)\n",
    "\n",
    "# Price\n",
    "b = 0\n",
    "sigma = 0.1\n",
    "P_0 = 45\n",
    "dt = 1 / 1000   # time difference for Brownian motion simulation\n",
    "\n",
    "# Spread\n",
    "intensity = 1\n",
    "\n",
    "# Cash and inventory\n",
    "Y_0 = 0\n",
    "X_0 = 0\n",
    "delta = 0.005\n",
    "\n",
    "# For Monte Carlo\n",
    "l_const = 100 # constant size of trades for random and constant benchamrk srategies\n",
    "M = 1000 # number of paths generated"
   ]
  },
  {
   "cell_type": "markdown",
   "metadata": {},
   "source": [
    "# Spread"
   ]
  },
  {
   "cell_type": "markdown",
   "metadata": {},
   "source": [
    "The spread process is the combination of two stochastic processes. The first one is nonhomogenuous Possion process $(N_t)_t$ with intensity $\\lambda(t)$, which determines the times when spread is afected by buy and sell orders. The second one, being the discrete-time stationary Markov chain governs the subsequent states of spread (here there are $m=6$ states) with probability transition matrix $\\bold{P}$. The resultuing spread is a continuous time Markov chain: \n",
    "$$S_t = \\hat{S}_{N_t}, t\\geq 0 $$"
   ]
  },
  {
   "cell_type": "code",
   "execution_count": 4,
   "metadata": {},
   "outputs": [],
   "source": [
    "def poisson_point_process_sim(intensity, T):\n",
    "    '''\n",
    "    Returns the arrival times and the number of arrivals.\n",
    "\n",
    "    Parameters:\n",
    "        intensity (float): The intensity of the process\n",
    "        T (float): The timespan\n",
    "\n",
    "    Returns:\n",
    "        N, T_i ((int, np.array)): Tuple with realisations of the Poisson Process   \n",
    "    '''\n",
    "    N = np.random.poisson(intensity * T)    # number of changes of spread\n",
    "    T_i = np.cumsum(np.random.exponential(1 / intensity, N))     # arrival times of changes of spread\n",
    "\n",
    "    return (N, T_i)"
   ]
  },
  {
   "cell_type": "code",
   "execution_count": 5,
   "metadata": {},
   "outputs": [],
   "source": [
    "def spread_sim(initial_state, spread_values, T, matrix, N): \n",
    "    '''\n",
    "    Simulates the spread process.\n",
    "\n",
    "    Parameters:\n",
    "        initial_state (int): The iniitial value of spread (at time 0)\n",
    "        spread_values (list): Possible values of the spread\n",
    "        T (float): The timespan\n",
    "        matrix (np.array): Probability transition matrix of the Markov chain\n",
    "        N (int): Number of arrivals\n",
    "\n",
    "    Returns:\n",
    "        s (list): Realisation of the spread process   \n",
    "    '''\n",
    "    U = np.random.uniform(0, 1, 1000)  # uniform random variable determining the subsequent values of the Markov chain\n",
    "    matrix_sum = np.cumsum(matrix, axis = 1)   # cumulative probabilities\n",
    "    s = [initial_state]   # initial state is 0\n",
    "    for i in range(1, N):\n",
    "        potential_position = np.sum(U[i] > matrix_sum[s[i - 1], ])   # checking the positions based on the draw of the uniform random variable\n",
    "        if potential_position == s[i - 1] or potential_position == 6:   # can't stay in the same state\n",
    "            s.append(potential_position - 1)\n",
    "        else:\n",
    "            s.append(potential_position)\n",
    "            \n",
    "    return s"
   ]
  },
  {
   "cell_type": "code",
   "execution_count": 6,
   "metadata": {},
   "outputs": [],
   "source": [
    "# spread specific objects\n",
    "\n",
    "prob_matrix = np.array([[0, 0.41, 0.22, 0.16, 0.142, 0.065], \n",
    "                        [0.201, 0, 0.435, 0.192, 0.103, 0.067],\n",
    "                        [0.113, 0.221, 0, 0.4582, 0.147, 0.059],\n",
    "                        [0.07, 0.085, 0.275, 0, 0.465, 0.102],\n",
    "                        [0.068, 0.049, 0.073, 0.363, 0, 0.446],\n",
    "                        [0.077, 0.057, 0.059, 0.112, 0.692, 0]])   # probability transition matrix\n",
    "                        \n",
    "spread_values = [0.005, 0.01, 0.015, 0.02, 0.025, 0.03]  # posisible values of spread\n"
   ]
  },
  {
   "cell_type": "code",
   "execution_count": 7,
   "metadata": {},
   "outputs": [],
   "source": [
    "PPP_spread = poisson_point_process_sim(intensity, T)   # realisation of tick time clock process - number and arrival times\n",
    "spread_simulated = spread_sim(0, spread_values, T, prob_matrix, PPP_spread[0])   # simulated spread positions\n",
    "s_t = np.array([spread_values[i] for i in spread_simulated])   # simulated spread values"
   ]
  },
  {
   "cell_type": "code",
   "execution_count": 8,
   "metadata": {},
   "outputs": [
    {
     "data": {
      "application/vnd.plotly.v1+json": {
       "config": {
        "plotlyServerURL": "https://plot.ly"
       },
       "data": [
        {
         "hovertemplate": "variable=0<br>index=%{x}<br>value=%{y}<extra></extra>",
         "legendgroup": "0",
         "line": {
          "color": "maroon",
          "dash": "solid"
         },
         "marker": {
          "symbol": "circle"
         },
         "mode": "lines",
         "name": "0",
         "orientation": "v",
         "showlegend": true,
         "type": "scatter",
         "x": [
          0,
          1,
          2,
          3,
          4,
          5,
          6,
          7,
          8,
          9,
          10,
          11,
          12,
          13,
          14,
          15,
          16,
          17,
          18,
          19,
          20,
          21,
          22,
          23,
          24,
          25,
          26,
          27,
          28,
          29,
          30,
          31,
          32,
          33,
          34,
          35,
          36,
          37,
          38,
          39,
          40,
          41,
          42,
          43,
          44,
          45,
          46,
          47,
          48,
          49,
          50,
          51,
          52,
          53,
          54,
          55,
          56,
          57,
          58,
          59,
          60,
          61,
          62,
          63,
          64,
          65,
          66,
          67,
          68,
          69,
          70,
          71,
          72,
          73,
          74,
          75,
          76,
          77,
          78,
          79,
          80,
          81,
          82,
          83,
          84,
          85,
          86,
          87,
          88,
          89,
          90,
          91,
          92,
          93,
          94,
          95,
          96,
          97,
          98,
          99,
          100,
          101,
          102,
          103,
          104,
          105,
          106,
          107,
          108,
          109,
          110,
          111,
          112,
          113,
          114,
          115,
          116,
          117,
          118,
          119,
          120,
          121,
          122,
          123,
          124,
          125,
          126,
          127,
          128,
          129,
          130,
          131,
          132,
          133,
          134,
          135,
          136,
          137,
          138,
          139,
          140,
          141,
          142,
          143,
          144,
          145,
          146,
          147,
          148,
          149,
          150,
          151,
          152,
          153,
          154,
          155,
          156,
          157,
          158,
          159,
          160,
          161,
          162,
          163,
          164,
          165,
          166,
          167,
          168,
          169,
          170,
          171,
          172,
          173,
          174,
          175,
          176,
          177,
          178,
          179,
          180,
          181,
          182,
          183,
          184,
          185,
          186,
          187,
          188,
          189,
          190,
          191,
          192,
          193,
          194,
          195,
          196,
          197,
          198,
          199,
          200,
          201,
          202,
          203,
          204,
          205,
          206,
          207,
          208,
          209,
          210,
          211,
          212,
          213,
          214,
          215,
          216,
          217,
          218,
          219,
          220,
          221,
          222,
          223,
          224,
          225,
          226,
          227,
          228,
          229,
          230,
          231,
          232,
          233,
          234,
          235,
          236,
          237,
          238,
          239,
          240,
          241,
          242,
          243,
          244,
          245,
          246,
          247,
          248,
          249,
          250,
          251,
          252,
          253,
          254,
          255,
          256,
          257,
          258,
          259,
          260,
          261,
          262,
          263,
          264,
          265,
          266,
          267,
          268,
          269,
          270,
          271,
          272,
          273,
          274,
          275,
          276,
          277,
          278,
          279,
          280,
          281,
          282,
          283,
          284,
          285,
          286,
          287,
          288,
          289,
          290,
          291,
          292,
          293,
          294,
          295,
          296,
          297,
          298,
          299,
          300,
          301
         ],
         "xaxis": "x",
         "y": [
          0,
          1,
          0,
          1,
          3,
          0,
          1,
          2,
          3,
          4,
          3,
          2,
          4,
          3,
          2,
          0,
          1,
          0,
          3,
          4,
          3,
          4,
          1,
          4,
          1,
          0,
          2,
          3,
          4,
          3,
          1,
          3,
          4,
          5,
          4,
          3,
          4,
          5,
          4,
          3,
          2,
          3,
          5,
          4,
          3,
          4,
          5,
          3,
          0,
          1,
          0,
          1,
          4,
          3,
          4,
          3,
          1,
          3,
          5,
          4,
          5,
          4,
          3,
          2,
          5,
          0,
          4,
          3,
          4,
          3,
          4,
          5,
          2,
          1,
          0,
          1,
          5,
          4,
          1,
          2,
          3,
          4,
          3,
          4,
          1,
          2,
          0,
          2,
          3,
          2,
          3,
          0,
          2,
          0,
          2,
          3,
          0,
          5,
          4,
          5,
          4,
          5,
          2,
          3,
          4,
          5,
          4,
          5,
          4,
          5,
          4,
          5,
          4,
          0,
          3,
          4,
          5,
          4,
          3,
          5,
          4,
          2,
          3,
          0,
          1,
          3,
          4,
          2,
          1,
          5,
          0,
          3,
          2,
          1,
          3,
          1,
          2,
          3,
          4,
          3,
          4,
          3,
          4,
          5,
          2,
          5,
          0,
          5,
          1,
          0,
          3,
          5,
          4,
          5,
          1,
          0,
          1,
          0,
          5,
          4,
          3,
          2,
          3,
          1,
          0,
          4,
          3,
          1,
          2,
          4,
          3,
          4,
          5,
          0,
          1,
          3,
          4,
          3,
          1,
          0,
          1,
          2,
          4,
          5,
          2,
          4,
          5,
          4,
          5,
          3,
          4,
          3,
          4,
          3,
          4,
          3,
          4,
          2,
          3,
          4,
          2,
          3,
          2,
          3,
          4,
          3,
          4,
          3,
          4,
          3,
          1,
          4,
          5,
          3,
          2,
          0,
          1,
          0,
          5,
          4,
          5,
          4,
          2,
          3,
          2,
          5,
          1,
          2,
          0,
          2,
          3,
          1,
          3,
          1,
          2,
          3,
          2,
          1,
          0,
          1,
          2,
          3,
          4,
          5,
          4,
          5,
          4,
          5,
          4,
          1,
          3,
          2,
          3,
          5,
          3,
          0,
          3,
          1,
          3,
          4,
          0,
          1,
          2,
          0,
          1,
          2,
          0,
          1,
          4,
          3,
          2,
          3,
          4,
          5,
          3,
          2,
          1,
          0,
          1,
          3,
          2,
          1,
          5,
          5,
          4,
          3,
          4,
          1,
          2,
          4,
          5,
          4,
          0,
          3,
          5,
          4,
          3,
          2,
          5,
          4,
          5,
          4
         ],
         "yaxis": "y"
        }
       ],
       "layout": {
        "font": {
         "color": "black"
        },
        "legend": {
         "title": {
          "text": "variable"
         },
         "tracegroupgap": 0
        },
        "margin": {
         "t": 60
        },
        "paper_bgcolor": "white",
        "plot_bgcolor": "white",
        "template": {
         "data": {
          "bar": [
           {
            "error_x": {
             "color": "#2a3f5f"
            },
            "error_y": {
             "color": "#2a3f5f"
            },
            "marker": {
             "line": {
              "color": "#E5ECF6",
              "width": 0.5
             },
             "pattern": {
              "fillmode": "overlay",
              "size": 10,
              "solidity": 0.2
             }
            },
            "type": "bar"
           }
          ],
          "barpolar": [
           {
            "marker": {
             "line": {
              "color": "#E5ECF6",
              "width": 0.5
             },
             "pattern": {
              "fillmode": "overlay",
              "size": 10,
              "solidity": 0.2
             }
            },
            "type": "barpolar"
           }
          ],
          "carpet": [
           {
            "aaxis": {
             "endlinecolor": "#2a3f5f",
             "gridcolor": "white",
             "linecolor": "white",
             "minorgridcolor": "white",
             "startlinecolor": "#2a3f5f"
            },
            "baxis": {
             "endlinecolor": "#2a3f5f",
             "gridcolor": "white",
             "linecolor": "white",
             "minorgridcolor": "white",
             "startlinecolor": "#2a3f5f"
            },
            "type": "carpet"
           }
          ],
          "choropleth": [
           {
            "colorbar": {
             "outlinewidth": 0,
             "ticks": ""
            },
            "type": "choropleth"
           }
          ],
          "contour": [
           {
            "colorbar": {
             "outlinewidth": 0,
             "ticks": ""
            },
            "colorscale": [
             [
              0,
              "#0d0887"
             ],
             [
              0.1111111111111111,
              "#46039f"
             ],
             [
              0.2222222222222222,
              "#7201a8"
             ],
             [
              0.3333333333333333,
              "#9c179e"
             ],
             [
              0.4444444444444444,
              "#bd3786"
             ],
             [
              0.5555555555555556,
              "#d8576b"
             ],
             [
              0.6666666666666666,
              "#ed7953"
             ],
             [
              0.7777777777777778,
              "#fb9f3a"
             ],
             [
              0.8888888888888888,
              "#fdca26"
             ],
             [
              1,
              "#f0f921"
             ]
            ],
            "type": "contour"
           }
          ],
          "contourcarpet": [
           {
            "colorbar": {
             "outlinewidth": 0,
             "ticks": ""
            },
            "type": "contourcarpet"
           }
          ],
          "heatmap": [
           {
            "colorbar": {
             "outlinewidth": 0,
             "ticks": ""
            },
            "colorscale": [
             [
              0,
              "#0d0887"
             ],
             [
              0.1111111111111111,
              "#46039f"
             ],
             [
              0.2222222222222222,
              "#7201a8"
             ],
             [
              0.3333333333333333,
              "#9c179e"
             ],
             [
              0.4444444444444444,
              "#bd3786"
             ],
             [
              0.5555555555555556,
              "#d8576b"
             ],
             [
              0.6666666666666666,
              "#ed7953"
             ],
             [
              0.7777777777777778,
              "#fb9f3a"
             ],
             [
              0.8888888888888888,
              "#fdca26"
             ],
             [
              1,
              "#f0f921"
             ]
            ],
            "type": "heatmap"
           }
          ],
          "heatmapgl": [
           {
            "colorbar": {
             "outlinewidth": 0,
             "ticks": ""
            },
            "colorscale": [
             [
              0,
              "#0d0887"
             ],
             [
              0.1111111111111111,
              "#46039f"
             ],
             [
              0.2222222222222222,
              "#7201a8"
             ],
             [
              0.3333333333333333,
              "#9c179e"
             ],
             [
              0.4444444444444444,
              "#bd3786"
             ],
             [
              0.5555555555555556,
              "#d8576b"
             ],
             [
              0.6666666666666666,
              "#ed7953"
             ],
             [
              0.7777777777777778,
              "#fb9f3a"
             ],
             [
              0.8888888888888888,
              "#fdca26"
             ],
             [
              1,
              "#f0f921"
             ]
            ],
            "type": "heatmapgl"
           }
          ],
          "histogram": [
           {
            "marker": {
             "pattern": {
              "fillmode": "overlay",
              "size": 10,
              "solidity": 0.2
             }
            },
            "type": "histogram"
           }
          ],
          "histogram2d": [
           {
            "colorbar": {
             "outlinewidth": 0,
             "ticks": ""
            },
            "colorscale": [
             [
              0,
              "#0d0887"
             ],
             [
              0.1111111111111111,
              "#46039f"
             ],
             [
              0.2222222222222222,
              "#7201a8"
             ],
             [
              0.3333333333333333,
              "#9c179e"
             ],
             [
              0.4444444444444444,
              "#bd3786"
             ],
             [
              0.5555555555555556,
              "#d8576b"
             ],
             [
              0.6666666666666666,
              "#ed7953"
             ],
             [
              0.7777777777777778,
              "#fb9f3a"
             ],
             [
              0.8888888888888888,
              "#fdca26"
             ],
             [
              1,
              "#f0f921"
             ]
            ],
            "type": "histogram2d"
           }
          ],
          "histogram2dcontour": [
           {
            "colorbar": {
             "outlinewidth": 0,
             "ticks": ""
            },
            "colorscale": [
             [
              0,
              "#0d0887"
             ],
             [
              0.1111111111111111,
              "#46039f"
             ],
             [
              0.2222222222222222,
              "#7201a8"
             ],
             [
              0.3333333333333333,
              "#9c179e"
             ],
             [
              0.4444444444444444,
              "#bd3786"
             ],
             [
              0.5555555555555556,
              "#d8576b"
             ],
             [
              0.6666666666666666,
              "#ed7953"
             ],
             [
              0.7777777777777778,
              "#fb9f3a"
             ],
             [
              0.8888888888888888,
              "#fdca26"
             ],
             [
              1,
              "#f0f921"
             ]
            ],
            "type": "histogram2dcontour"
           }
          ],
          "mesh3d": [
           {
            "colorbar": {
             "outlinewidth": 0,
             "ticks": ""
            },
            "type": "mesh3d"
           }
          ],
          "parcoords": [
           {
            "line": {
             "colorbar": {
              "outlinewidth": 0,
              "ticks": ""
             }
            },
            "type": "parcoords"
           }
          ],
          "pie": [
           {
            "automargin": true,
            "type": "pie"
           }
          ],
          "scatter": [
           {
            "fillpattern": {
             "fillmode": "overlay",
             "size": 10,
             "solidity": 0.2
            },
            "type": "scatter"
           }
          ],
          "scatter3d": [
           {
            "line": {
             "colorbar": {
              "outlinewidth": 0,
              "ticks": ""
             }
            },
            "marker": {
             "colorbar": {
              "outlinewidth": 0,
              "ticks": ""
             }
            },
            "type": "scatter3d"
           }
          ],
          "scattercarpet": [
           {
            "marker": {
             "colorbar": {
              "outlinewidth": 0,
              "ticks": ""
             }
            },
            "type": "scattercarpet"
           }
          ],
          "scattergeo": [
           {
            "marker": {
             "colorbar": {
              "outlinewidth": 0,
              "ticks": ""
             }
            },
            "type": "scattergeo"
           }
          ],
          "scattergl": [
           {
            "marker": {
             "colorbar": {
              "outlinewidth": 0,
              "ticks": ""
             }
            },
            "type": "scattergl"
           }
          ],
          "scattermapbox": [
           {
            "marker": {
             "colorbar": {
              "outlinewidth": 0,
              "ticks": ""
             }
            },
            "type": "scattermapbox"
           }
          ],
          "scatterpolar": [
           {
            "marker": {
             "colorbar": {
              "outlinewidth": 0,
              "ticks": ""
             }
            },
            "type": "scatterpolar"
           }
          ],
          "scatterpolargl": [
           {
            "marker": {
             "colorbar": {
              "outlinewidth": 0,
              "ticks": ""
             }
            },
            "type": "scatterpolargl"
           }
          ],
          "scatterternary": [
           {
            "marker": {
             "colorbar": {
              "outlinewidth": 0,
              "ticks": ""
             }
            },
            "type": "scatterternary"
           }
          ],
          "surface": [
           {
            "colorbar": {
             "outlinewidth": 0,
             "ticks": ""
            },
            "colorscale": [
             [
              0,
              "#0d0887"
             ],
             [
              0.1111111111111111,
              "#46039f"
             ],
             [
              0.2222222222222222,
              "#7201a8"
             ],
             [
              0.3333333333333333,
              "#9c179e"
             ],
             [
              0.4444444444444444,
              "#bd3786"
             ],
             [
              0.5555555555555556,
              "#d8576b"
             ],
             [
              0.6666666666666666,
              "#ed7953"
             ],
             [
              0.7777777777777778,
              "#fb9f3a"
             ],
             [
              0.8888888888888888,
              "#fdca26"
             ],
             [
              1,
              "#f0f921"
             ]
            ],
            "type": "surface"
           }
          ],
          "table": [
           {
            "cells": {
             "fill": {
              "color": "#EBF0F8"
             },
             "line": {
              "color": "white"
             }
            },
            "header": {
             "fill": {
              "color": "#C8D4E3"
             },
             "line": {
              "color": "white"
             }
            },
            "type": "table"
           }
          ]
         },
         "layout": {
          "annotationdefaults": {
           "arrowcolor": "#2a3f5f",
           "arrowhead": 0,
           "arrowwidth": 1
          },
          "autotypenumbers": "strict",
          "coloraxis": {
           "colorbar": {
            "outlinewidth": 0,
            "ticks": ""
           }
          },
          "colorscale": {
           "diverging": [
            [
             0,
             "#8e0152"
            ],
            [
             0.1,
             "#c51b7d"
            ],
            [
             0.2,
             "#de77ae"
            ],
            [
             0.3,
             "#f1b6da"
            ],
            [
             0.4,
             "#fde0ef"
            ],
            [
             0.5,
             "#f7f7f7"
            ],
            [
             0.6,
             "#e6f5d0"
            ],
            [
             0.7,
             "#b8e186"
            ],
            [
             0.8,
             "#7fbc41"
            ],
            [
             0.9,
             "#4d9221"
            ],
            [
             1,
             "#276419"
            ]
           ],
           "sequential": [
            [
             0,
             "#0d0887"
            ],
            [
             0.1111111111111111,
             "#46039f"
            ],
            [
             0.2222222222222222,
             "#7201a8"
            ],
            [
             0.3333333333333333,
             "#9c179e"
            ],
            [
             0.4444444444444444,
             "#bd3786"
            ],
            [
             0.5555555555555556,
             "#d8576b"
            ],
            [
             0.6666666666666666,
             "#ed7953"
            ],
            [
             0.7777777777777778,
             "#fb9f3a"
            ],
            [
             0.8888888888888888,
             "#fdca26"
            ],
            [
             1,
             "#f0f921"
            ]
           ],
           "sequentialminus": [
            [
             0,
             "#0d0887"
            ],
            [
             0.1111111111111111,
             "#46039f"
            ],
            [
             0.2222222222222222,
             "#7201a8"
            ],
            [
             0.3333333333333333,
             "#9c179e"
            ],
            [
             0.4444444444444444,
             "#bd3786"
            ],
            [
             0.5555555555555556,
             "#d8576b"
            ],
            [
             0.6666666666666666,
             "#ed7953"
            ],
            [
             0.7777777777777778,
             "#fb9f3a"
            ],
            [
             0.8888888888888888,
             "#fdca26"
            ],
            [
             1,
             "#f0f921"
            ]
           ]
          },
          "colorway": [
           "#636efa",
           "#EF553B",
           "#00cc96",
           "#ab63fa",
           "#FFA15A",
           "#19d3f3",
           "#FF6692",
           "#B6E880",
           "#FF97FF",
           "#FECB52"
          ],
          "font": {
           "color": "#2a3f5f"
          },
          "geo": {
           "bgcolor": "white",
           "lakecolor": "white",
           "landcolor": "#E5ECF6",
           "showlakes": true,
           "showland": true,
           "subunitcolor": "white"
          },
          "hoverlabel": {
           "align": "left"
          },
          "hovermode": "closest",
          "mapbox": {
           "style": "light"
          },
          "paper_bgcolor": "white",
          "plot_bgcolor": "#E5ECF6",
          "polar": {
           "angularaxis": {
            "gridcolor": "white",
            "linecolor": "white",
            "ticks": ""
           },
           "bgcolor": "#E5ECF6",
           "radialaxis": {
            "gridcolor": "white",
            "linecolor": "white",
            "ticks": ""
           }
          },
          "scene": {
           "xaxis": {
            "backgroundcolor": "#E5ECF6",
            "gridcolor": "white",
            "gridwidth": 2,
            "linecolor": "white",
            "showbackground": true,
            "ticks": "",
            "zerolinecolor": "white"
           },
           "yaxis": {
            "backgroundcolor": "#E5ECF6",
            "gridcolor": "white",
            "gridwidth": 2,
            "linecolor": "white",
            "showbackground": true,
            "ticks": "",
            "zerolinecolor": "white"
           },
           "zaxis": {
            "backgroundcolor": "#E5ECF6",
            "gridcolor": "white",
            "gridwidth": 2,
            "linecolor": "white",
            "showbackground": true,
            "ticks": "",
            "zerolinecolor": "white"
           }
          },
          "shapedefaults": {
           "line": {
            "color": "#2a3f5f"
           }
          },
          "ternary": {
           "aaxis": {
            "gridcolor": "white",
            "linecolor": "white",
            "ticks": ""
           },
           "baxis": {
            "gridcolor": "white",
            "linecolor": "white",
            "ticks": ""
           },
           "bgcolor": "#E5ECF6",
           "caxis": {
            "gridcolor": "white",
            "linecolor": "white",
            "ticks": ""
           }
          },
          "title": {
           "x": 0.05
          },
          "xaxis": {
           "automargin": true,
           "gridcolor": "white",
           "linecolor": "white",
           "ticks": "",
           "title": {
            "standoff": 15
           },
           "zerolinecolor": "white",
           "zerolinewidth": 2
          },
          "yaxis": {
           "automargin": true,
           "gridcolor": "white",
           "linecolor": "white",
           "ticks": "",
           "title": {
            "standoff": 15
           },
           "zerolinecolor": "white",
           "zerolinewidth": 2
          }
         }
        },
        "title": {
         "text": "Spread evolution",
         "x": 0.5
        },
        "xaxis": {
         "anchor": "y",
         "color": "black",
         "domain": [
          0,
          1
         ],
         "gridcolor": "black",
         "tickcolor": "black",
         "title": {
          "text": "Index"
         }
        },
        "yaxis": {
         "anchor": "x",
         "color": "black",
         "domain": [
          0,
          1
         ],
         "gridcolor": "black",
         "tickcolor": "black",
         "title": {
          "text": "Spread"
         }
        }
       }
      }
     },
     "metadata": {},
     "output_type": "display_data"
    }
   ],
   "source": [
    "fig = px.line(spread_simulated)\n",
    "fig.update_traces(line_color = \"maroon\")\n",
    "\n",
    "fig.update_layout(\n",
    "    title_text=\"Spread evolution\",\n",
    "    title_x=0.5,\n",
    "    plot_bgcolor='white',  # set background color to white\n",
    "    paper_bgcolor='white',  # set background color to white\n",
    "    font=dict(color='black'),  # set font color to black\n",
    "    xaxis=dict(title_text=\"Index\", color='black', tickcolor='black', gridcolor='black'),  # set x-axis color, tick color, grid color, and grid width\n",
    "    yaxis=dict(title_text=\"Spread\", color='black', tickcolor='black', gridcolor='black'),  # set y-axis color, tick color, grid color, and grid width\n",
    ")\n",
    "fig.show()"
   ]
  },
  {
   "cell_type": "markdown",
   "metadata": {},
   "source": [
    "# Execution of orders"
   ]
  },
  {
   "cell_type": "code",
   "execution_count": 9,
   "metadata": {},
   "outputs": [],
   "source": [
    "def orders_simulaton(intensity_matrix, spread_changes, spread, lambda_max, initial_intensities, q):\n",
    "    '''\n",
    "    Simulates the execution orders (either ask or bid) through acceptance-rejection algorithm.\n",
    "\n",
    "    Parameters:\n",
    "        intensity_matrix (np.array): Values of intensity in relation to market maker's choice of quotes and spread.\n",
    "        spread_changes (np.array): Times when spread shifts\n",
    "        spread (np.array): Values of spread\n",
    "        lambda_max (float): Maximum possible value of lambda needed for acceptance-rejection algorithm, serving as a reference for accepting or rejecting the given arrival time\n",
    "        initial_intensities (np.array): Arrival times for the orders but generated with lambda_max as intensity\n",
    "        q (np.array): choice of quotes of the market maker\n",
    "\n",
    "    Returns:\n",
    "        (arrival_times, q_filtered) ((list, np.array)): Final arrival times of orders and matching quotes   \n",
    "    '''\n",
    "    lambda_process = []\n",
    "\n",
    "    for t, i in zip(initial_intensities, range(len(initial_intensities) + 1)):\n",
    "        spread_position = np.sum(t >= spread_changes)  # checking the spread at the arrival time t\n",
    "        lambda_process.append(intensity_matrix[spread[spread_position - 1], q[i]])   # choosing the realisation of intensity process based on the estimated intensity function and simulated spread\n",
    "\n",
    "\n",
    "    acceptance = np.where(lambda_process / lambda_max < np.random.uniform(0, 1, len(initial_intensities)), False, True)  # accepted arrival times\n",
    "\n",
    "    arrival_times = initial_intensities[acceptance]  # final arrival times\n",
    "    q_filtered = q[acceptance]  # filtered quotes - only at accepted arrival times\n",
    "\n",
    "    return (arrival_times, q_filtered)"
   ]
  },
  {
   "cell_type": "code",
   "execution_count": 10,
   "metadata": {},
   "outputs": [],
   "source": [
    "intensity_matrix_a = np.array([[0.0539, 0.1485], \n",
    "                              [0.0465, 0.0979],\n",
    "                              [0.0401, 0.0846],\n",
    "                              [0.0360, 0.0856],\n",
    "                              [0.0435, 0.1009],\n",
    "                              [0.0554, 0.1202]]) # Estimated intensities for given quotes and spread for ask\n",
    "\n",
    "intensity_matrix_b = np.array([[0.0718, 0.1763], \n",
    "                              [0.0520, 0.1144],\n",
    "                              [0.0419, 0.0915],\n",
    "                              [0.0409, 0.0896],\n",
    "                              [0.0452, 0.0930],\n",
    "                              [0.0614, 0.1255]])    # Estimated intensities for given quotes and spread for bid\n",
    "\n",
    "intensity_matrix_sym = (intensity_matrix_a + intensity_matrix_b) / 2    # Making bid and ask sides symmetric"
   ]
  },
  {
   "cell_type": "code",
   "execution_count": 11,
   "metadata": {},
   "outputs": [],
   "source": [
    "lambda_max = np.max(intensity_matrix_sym)  # maximum lambda serving as a reference for acceptance probability\n",
    "intensity_orders_simulation = poisson_point_process_sim(np.max(lambda_max), T) # simulation of the poisson process with maximum lambda as intensity\n",
    "\n",
    "q_a_initial = np.random.binomial(1, 0.5, len(intensity_orders_simulation[1]))  # ad-hoc choice of quotes for ask\n",
    "q_b_initial = np.random.binomial(1, 0.5, len(intensity_orders_simulation[1]))  # ad-hoc choice of quotes for bid"
   ]
  },
  {
   "cell_type": "code",
   "execution_count": 12,
   "metadata": {},
   "outputs": [],
   "source": [
    "orders_a_simulated = orders_simulaton(intensity_matrix_sym, PPP_spread[1], spread_simulated, lambda_max, intensity_orders_simulation[1], q_a_initial)\n",
    "orders_b_simulated = orders_simulaton(intensity_matrix_sym, PPP_spread[1], spread_simulated, lambda_max, intensity_orders_simulation[1], q_b_initial)\n",
    "\n",
    "orders_a = orders_a_simulated[0]  # final arrival times of ask orders\n",
    "orders_b = orders_b_simulated[0]  # final arrival times of bid orders\n",
    "q_a = orders_a_simulated[1]  # final quotes of ask orders at arrival times\n",
    "q_b = orders_b_simulated[1]  # final quotes of bid orders at arrival times"
   ]
  },
  {
   "cell_type": "code",
   "execution_count": 13,
   "metadata": {},
   "outputs": [
    {
     "data": {
      "application/vnd.plotly.v1+json": {
       "config": {
        "plotlyServerURL": "https://plot.ly"
       },
       "data": [
        {
         "line": {
          "color": "Maroon"
         },
         "mode": "lines",
         "name": "Ba",
         "type": "scatter",
         "x": [
          0.05,
          0.1,
          0.15,
          0.2,
          0.25,
          0.3
         ],
         "y": [
          0.0539,
          0.0465,
          0.0401,
          0.036,
          0.0435,
          0.0554
         ]
        },
        {
         "line": {
          "color": "turquoise"
         },
         "mode": "lines",
         "name": "Ba-",
         "type": "scatter",
         "x": [
          0.05,
          0.1,
          0.15,
          0.2,
          0.25,
          0.3
         ],
         "y": [
          0.1485,
          0.0979,
          0.0846,
          0.0856,
          0.1009,
          0.1202
         ]
        },
        {
         "line": {
          "color": "darkorange"
         },
         "mode": "lines",
         "name": "Bb",
         "type": "scatter",
         "x": [
          0.05,
          0.1,
          0.15,
          0.2,
          0.25,
          0.3
         ],
         "y": [
          0.0718,
          0.052,
          0.0419,
          0.0409,
          0.0452,
          0.0614
         ]
        },
        {
         "line": {
          "color": "green"
         },
         "mode": "lines",
         "name": "Bb+",
         "type": "scatter",
         "x": [
          0.05,
          0.1,
          0.15,
          0.2,
          0.25,
          0.3
         ],
         "y": [
          0.1763,
          0.1144,
          0.0915,
          0.0896,
          0.093,
          0.1255
         ]
        }
       ],
       "layout": {
        "font": {
         "color": "black"
        },
        "paper_bgcolor": "white",
        "plot_bgcolor": "white",
        "template": {
         "data": {
          "bar": [
           {
            "error_x": {
             "color": "#2a3f5f"
            },
            "error_y": {
             "color": "#2a3f5f"
            },
            "marker": {
             "line": {
              "color": "#E5ECF6",
              "width": 0.5
             },
             "pattern": {
              "fillmode": "overlay",
              "size": 10,
              "solidity": 0.2
             }
            },
            "type": "bar"
           }
          ],
          "barpolar": [
           {
            "marker": {
             "line": {
              "color": "#E5ECF6",
              "width": 0.5
             },
             "pattern": {
              "fillmode": "overlay",
              "size": 10,
              "solidity": 0.2
             }
            },
            "type": "barpolar"
           }
          ],
          "carpet": [
           {
            "aaxis": {
             "endlinecolor": "#2a3f5f",
             "gridcolor": "white",
             "linecolor": "white",
             "minorgridcolor": "white",
             "startlinecolor": "#2a3f5f"
            },
            "baxis": {
             "endlinecolor": "#2a3f5f",
             "gridcolor": "white",
             "linecolor": "white",
             "minorgridcolor": "white",
             "startlinecolor": "#2a3f5f"
            },
            "type": "carpet"
           }
          ],
          "choropleth": [
           {
            "colorbar": {
             "outlinewidth": 0,
             "ticks": ""
            },
            "type": "choropleth"
           }
          ],
          "contour": [
           {
            "colorbar": {
             "outlinewidth": 0,
             "ticks": ""
            },
            "colorscale": [
             [
              0,
              "#0d0887"
             ],
             [
              0.1111111111111111,
              "#46039f"
             ],
             [
              0.2222222222222222,
              "#7201a8"
             ],
             [
              0.3333333333333333,
              "#9c179e"
             ],
             [
              0.4444444444444444,
              "#bd3786"
             ],
             [
              0.5555555555555556,
              "#d8576b"
             ],
             [
              0.6666666666666666,
              "#ed7953"
             ],
             [
              0.7777777777777778,
              "#fb9f3a"
             ],
             [
              0.8888888888888888,
              "#fdca26"
             ],
             [
              1,
              "#f0f921"
             ]
            ],
            "type": "contour"
           }
          ],
          "contourcarpet": [
           {
            "colorbar": {
             "outlinewidth": 0,
             "ticks": ""
            },
            "type": "contourcarpet"
           }
          ],
          "heatmap": [
           {
            "colorbar": {
             "outlinewidth": 0,
             "ticks": ""
            },
            "colorscale": [
             [
              0,
              "#0d0887"
             ],
             [
              0.1111111111111111,
              "#46039f"
             ],
             [
              0.2222222222222222,
              "#7201a8"
             ],
             [
              0.3333333333333333,
              "#9c179e"
             ],
             [
              0.4444444444444444,
              "#bd3786"
             ],
             [
              0.5555555555555556,
              "#d8576b"
             ],
             [
              0.6666666666666666,
              "#ed7953"
             ],
             [
              0.7777777777777778,
              "#fb9f3a"
             ],
             [
              0.8888888888888888,
              "#fdca26"
             ],
             [
              1,
              "#f0f921"
             ]
            ],
            "type": "heatmap"
           }
          ],
          "heatmapgl": [
           {
            "colorbar": {
             "outlinewidth": 0,
             "ticks": ""
            },
            "colorscale": [
             [
              0,
              "#0d0887"
             ],
             [
              0.1111111111111111,
              "#46039f"
             ],
             [
              0.2222222222222222,
              "#7201a8"
             ],
             [
              0.3333333333333333,
              "#9c179e"
             ],
             [
              0.4444444444444444,
              "#bd3786"
             ],
             [
              0.5555555555555556,
              "#d8576b"
             ],
             [
              0.6666666666666666,
              "#ed7953"
             ],
             [
              0.7777777777777778,
              "#fb9f3a"
             ],
             [
              0.8888888888888888,
              "#fdca26"
             ],
             [
              1,
              "#f0f921"
             ]
            ],
            "type": "heatmapgl"
           }
          ],
          "histogram": [
           {
            "marker": {
             "pattern": {
              "fillmode": "overlay",
              "size": 10,
              "solidity": 0.2
             }
            },
            "type": "histogram"
           }
          ],
          "histogram2d": [
           {
            "colorbar": {
             "outlinewidth": 0,
             "ticks": ""
            },
            "colorscale": [
             [
              0,
              "#0d0887"
             ],
             [
              0.1111111111111111,
              "#46039f"
             ],
             [
              0.2222222222222222,
              "#7201a8"
             ],
             [
              0.3333333333333333,
              "#9c179e"
             ],
             [
              0.4444444444444444,
              "#bd3786"
             ],
             [
              0.5555555555555556,
              "#d8576b"
             ],
             [
              0.6666666666666666,
              "#ed7953"
             ],
             [
              0.7777777777777778,
              "#fb9f3a"
             ],
             [
              0.8888888888888888,
              "#fdca26"
             ],
             [
              1,
              "#f0f921"
             ]
            ],
            "type": "histogram2d"
           }
          ],
          "histogram2dcontour": [
           {
            "colorbar": {
             "outlinewidth": 0,
             "ticks": ""
            },
            "colorscale": [
             [
              0,
              "#0d0887"
             ],
             [
              0.1111111111111111,
              "#46039f"
             ],
             [
              0.2222222222222222,
              "#7201a8"
             ],
             [
              0.3333333333333333,
              "#9c179e"
             ],
             [
              0.4444444444444444,
              "#bd3786"
             ],
             [
              0.5555555555555556,
              "#d8576b"
             ],
             [
              0.6666666666666666,
              "#ed7953"
             ],
             [
              0.7777777777777778,
              "#fb9f3a"
             ],
             [
              0.8888888888888888,
              "#fdca26"
             ],
             [
              1,
              "#f0f921"
             ]
            ],
            "type": "histogram2dcontour"
           }
          ],
          "mesh3d": [
           {
            "colorbar": {
             "outlinewidth": 0,
             "ticks": ""
            },
            "type": "mesh3d"
           }
          ],
          "parcoords": [
           {
            "line": {
             "colorbar": {
              "outlinewidth": 0,
              "ticks": ""
             }
            },
            "type": "parcoords"
           }
          ],
          "pie": [
           {
            "automargin": true,
            "type": "pie"
           }
          ],
          "scatter": [
           {
            "fillpattern": {
             "fillmode": "overlay",
             "size": 10,
             "solidity": 0.2
            },
            "type": "scatter"
           }
          ],
          "scatter3d": [
           {
            "line": {
             "colorbar": {
              "outlinewidth": 0,
              "ticks": ""
             }
            },
            "marker": {
             "colorbar": {
              "outlinewidth": 0,
              "ticks": ""
             }
            },
            "type": "scatter3d"
           }
          ],
          "scattercarpet": [
           {
            "marker": {
             "colorbar": {
              "outlinewidth": 0,
              "ticks": ""
             }
            },
            "type": "scattercarpet"
           }
          ],
          "scattergeo": [
           {
            "marker": {
             "colorbar": {
              "outlinewidth": 0,
              "ticks": ""
             }
            },
            "type": "scattergeo"
           }
          ],
          "scattergl": [
           {
            "marker": {
             "colorbar": {
              "outlinewidth": 0,
              "ticks": ""
             }
            },
            "type": "scattergl"
           }
          ],
          "scattermapbox": [
           {
            "marker": {
             "colorbar": {
              "outlinewidth": 0,
              "ticks": ""
             }
            },
            "type": "scattermapbox"
           }
          ],
          "scatterpolar": [
           {
            "marker": {
             "colorbar": {
              "outlinewidth": 0,
              "ticks": ""
             }
            },
            "type": "scatterpolar"
           }
          ],
          "scatterpolargl": [
           {
            "marker": {
             "colorbar": {
              "outlinewidth": 0,
              "ticks": ""
             }
            },
            "type": "scatterpolargl"
           }
          ],
          "scatterternary": [
           {
            "marker": {
             "colorbar": {
              "outlinewidth": 0,
              "ticks": ""
             }
            },
            "type": "scatterternary"
           }
          ],
          "surface": [
           {
            "colorbar": {
             "outlinewidth": 0,
             "ticks": ""
            },
            "colorscale": [
             [
              0,
              "#0d0887"
             ],
             [
              0.1111111111111111,
              "#46039f"
             ],
             [
              0.2222222222222222,
              "#7201a8"
             ],
             [
              0.3333333333333333,
              "#9c179e"
             ],
             [
              0.4444444444444444,
              "#bd3786"
             ],
             [
              0.5555555555555556,
              "#d8576b"
             ],
             [
              0.6666666666666666,
              "#ed7953"
             ],
             [
              0.7777777777777778,
              "#fb9f3a"
             ],
             [
              0.8888888888888888,
              "#fdca26"
             ],
             [
              1,
              "#f0f921"
             ]
            ],
            "type": "surface"
           }
          ],
          "table": [
           {
            "cells": {
             "fill": {
              "color": "#EBF0F8"
             },
             "line": {
              "color": "white"
             }
            },
            "header": {
             "fill": {
              "color": "#C8D4E3"
             },
             "line": {
              "color": "white"
             }
            },
            "type": "table"
           }
          ]
         },
         "layout": {
          "annotationdefaults": {
           "arrowcolor": "#2a3f5f",
           "arrowhead": 0,
           "arrowwidth": 1
          },
          "autotypenumbers": "strict",
          "coloraxis": {
           "colorbar": {
            "outlinewidth": 0,
            "ticks": ""
           }
          },
          "colorscale": {
           "diverging": [
            [
             0,
             "#8e0152"
            ],
            [
             0.1,
             "#c51b7d"
            ],
            [
             0.2,
             "#de77ae"
            ],
            [
             0.3,
             "#f1b6da"
            ],
            [
             0.4,
             "#fde0ef"
            ],
            [
             0.5,
             "#f7f7f7"
            ],
            [
             0.6,
             "#e6f5d0"
            ],
            [
             0.7,
             "#b8e186"
            ],
            [
             0.8,
             "#7fbc41"
            ],
            [
             0.9,
             "#4d9221"
            ],
            [
             1,
             "#276419"
            ]
           ],
           "sequential": [
            [
             0,
             "#0d0887"
            ],
            [
             0.1111111111111111,
             "#46039f"
            ],
            [
             0.2222222222222222,
             "#7201a8"
            ],
            [
             0.3333333333333333,
             "#9c179e"
            ],
            [
             0.4444444444444444,
             "#bd3786"
            ],
            [
             0.5555555555555556,
             "#d8576b"
            ],
            [
             0.6666666666666666,
             "#ed7953"
            ],
            [
             0.7777777777777778,
             "#fb9f3a"
            ],
            [
             0.8888888888888888,
             "#fdca26"
            ],
            [
             1,
             "#f0f921"
            ]
           ],
           "sequentialminus": [
            [
             0,
             "#0d0887"
            ],
            [
             0.1111111111111111,
             "#46039f"
            ],
            [
             0.2222222222222222,
             "#7201a8"
            ],
            [
             0.3333333333333333,
             "#9c179e"
            ],
            [
             0.4444444444444444,
             "#bd3786"
            ],
            [
             0.5555555555555556,
             "#d8576b"
            ],
            [
             0.6666666666666666,
             "#ed7953"
            ],
            [
             0.7777777777777778,
             "#fb9f3a"
            ],
            [
             0.8888888888888888,
             "#fdca26"
            ],
            [
             1,
             "#f0f921"
            ]
           ]
          },
          "colorway": [
           "#636efa",
           "#EF553B",
           "#00cc96",
           "#ab63fa",
           "#FFA15A",
           "#19d3f3",
           "#FF6692",
           "#B6E880",
           "#FF97FF",
           "#FECB52"
          ],
          "font": {
           "color": "#2a3f5f"
          },
          "geo": {
           "bgcolor": "white",
           "lakecolor": "white",
           "landcolor": "#E5ECF6",
           "showlakes": true,
           "showland": true,
           "subunitcolor": "white"
          },
          "hoverlabel": {
           "align": "left"
          },
          "hovermode": "closest",
          "mapbox": {
           "style": "light"
          },
          "paper_bgcolor": "white",
          "plot_bgcolor": "#E5ECF6",
          "polar": {
           "angularaxis": {
            "gridcolor": "white",
            "linecolor": "white",
            "ticks": ""
           },
           "bgcolor": "#E5ECF6",
           "radialaxis": {
            "gridcolor": "white",
            "linecolor": "white",
            "ticks": ""
           }
          },
          "scene": {
           "xaxis": {
            "backgroundcolor": "#E5ECF6",
            "gridcolor": "white",
            "gridwidth": 2,
            "linecolor": "white",
            "showbackground": true,
            "ticks": "",
            "zerolinecolor": "white"
           },
           "yaxis": {
            "backgroundcolor": "#E5ECF6",
            "gridcolor": "white",
            "gridwidth": 2,
            "linecolor": "white",
            "showbackground": true,
            "ticks": "",
            "zerolinecolor": "white"
           },
           "zaxis": {
            "backgroundcolor": "#E5ECF6",
            "gridcolor": "white",
            "gridwidth": 2,
            "linecolor": "white",
            "showbackground": true,
            "ticks": "",
            "zerolinecolor": "white"
           }
          },
          "shapedefaults": {
           "line": {
            "color": "#2a3f5f"
           }
          },
          "ternary": {
           "aaxis": {
            "gridcolor": "white",
            "linecolor": "white",
            "ticks": ""
           },
           "baxis": {
            "gridcolor": "white",
            "linecolor": "white",
            "ticks": ""
           },
           "bgcolor": "#E5ECF6",
           "caxis": {
            "gridcolor": "white",
            "linecolor": "white",
            "ticks": ""
           }
          },
          "title": {
           "x": 0.05
          },
          "xaxis": {
           "automargin": true,
           "gridcolor": "white",
           "linecolor": "white",
           "ticks": "",
           "title": {
            "standoff": 15
           },
           "zerolinecolor": "white",
           "zerolinewidth": 2
          },
          "yaxis": {
           "automargin": true,
           "gridcolor": "white",
           "linecolor": "white",
           "ticks": "",
           "title": {
            "standoff": 15
           },
           "zerolinecolor": "white",
           "zerolinewidth": 2
          }
         }
        },
        "title": {
         "text": "Plot of execution intensities as a function of the spread, expressed as frequency",
         "x": 0.5
        },
        "xaxis": {
         "color": "black",
         "gridcolor": "black",
         "tickcolor": "black",
         "title": {
          "text": "Tick"
         }
        },
        "yaxis": {
         "color": "black",
         "gridcolor": "black",
         "tickcolor": "black",
         "title": {
          "text": "Execution intensities"
         }
        }
       }
      }
     },
     "metadata": {},
     "output_type": "display_data"
    }
   ],
   "source": [
    "import plotly.graph_objects as go\n",
    "\n",
    "x_values = [0.05, 0.1, 0.15, 0.2, 0.25, 0.3]\n",
    "\n",
    "fig = go.Figure()\n",
    "\n",
    "# Add lines to the plot\n",
    "fig.add_scatter(y=intensity_matrix_a[:,0], x=x_values, mode=\"lines\", name=\"Ba\", line_color=\"Maroon\")\n",
    "fig.add_scatter(y=intensity_matrix_a[:,1], x=x_values, mode=\"lines\", name=\"Ba-\", line_color=\"turquoise\")\n",
    "fig.add_scatter(y=intensity_matrix_b[:,0], x=x_values, mode=\"lines\", name=\"Bb\", line_color=\"darkorange\")\n",
    "fig.add_scatter(y=intensity_matrix_b[:,1], x=x_values, mode=\"lines\", name=\"Bb+\", line_color=\"green\")\n",
    "\n",
    "fig.update_layout(\n",
    "    title_text=\"Plot of execution intensities as a function of the spread, expressed as frequency\",\n",
    "    title_x=0.5,\n",
    "    plot_bgcolor='white',  # set background color to white\n",
    "    paper_bgcolor='white',  # set background color to white\n",
    "    font=dict(color='black'),  # set font color to black\n",
    "    xaxis=dict(title_text=\"Tick\", color='black', tickcolor='black', gridcolor='black'),  # set x-axis color, tick color, grid color, and grid width\n",
    "    yaxis=dict(title_text=\"Execution intensities\", color='black', tickcolor='black', gridcolor='black'),  # set y-axis color, tick color, grid color, and grid width\n",
    ")\n",
    "\n",
    "fig.show()"
   ]
  },
  {
   "cell_type": "markdown",
   "metadata": {},
   "source": [
    "# Price process"
   ]
  },
  {
   "cell_type": "markdown",
   "metadata": {},
   "source": [
    "The price is assumed to follow Bachelier model dynamics given by: \n",
    "$$dP_t=bdt+\\sigma dW_t$$\n",
    "Therefore:\n",
    "$$P_t = P_0 + bt + \\sigma W_t$$"
   ]
  },
  {
   "cell_type": "code",
   "execution_count": 14,
   "metadata": {},
   "outputs": [],
   "source": [
    "def price_sim(b, P_0, t, sigma, W):\n",
    "    return P_0 + b * t + sigma * W  # Bachelier model dynamics"
   ]
  },
  {
   "cell_type": "code",
   "execution_count": 15,
   "metadata": {},
   "outputs": [],
   "source": [
    "timeline = np.sort(np.concatenate((orders_a, orders_b, PPP_spread[1])))  # merged times at which there is a trade execution or change of spread\n",
    "W_t = np.cumsum(np.concatenate(([0], np.random.normal(0, np.sqrt(T * dt), int(1 / dt))))) # simulation of Brownian motion between subsequent times (variance equal to time difference)\n",
    "t_price = np.arange(0, T + T * dt / 2, T * dt) \n",
    "\n",
    "p_t = price_sim(b, P_0, t_price, sigma, np.array(W_t))  # final price process"
   ]
  },
  {
   "cell_type": "code",
   "execution_count": 16,
   "metadata": {},
   "outputs": [
    {
     "data": {
      "application/vnd.plotly.v1+json": {
       "config": {
        "plotlyServerURL": "https://plot.ly"
       },
       "data": [
        {
         "hovertemplate": "variable=0<br>index=%{x}<br>value=%{y}<extra></extra>",
         "legendgroup": "0",
         "line": {
          "color": "maroon",
          "dash": "solid"
         },
         "marker": {
          "symbol": "circle"
         },
         "mode": "lines",
         "name": "0",
         "showlegend": true,
         "type": "scattergl",
         "x": [
          0,
          1,
          2,
          3,
          4,
          5,
          6,
          7,
          8,
          9,
          10,
          11,
          12,
          13,
          14,
          15,
          16,
          17,
          18,
          19,
          20,
          21,
          22,
          23,
          24,
          25,
          26,
          27,
          28,
          29,
          30,
          31,
          32,
          33,
          34,
          35,
          36,
          37,
          38,
          39,
          40,
          41,
          42,
          43,
          44,
          45,
          46,
          47,
          48,
          49,
          50,
          51,
          52,
          53,
          54,
          55,
          56,
          57,
          58,
          59,
          60,
          61,
          62,
          63,
          64,
          65,
          66,
          67,
          68,
          69,
          70,
          71,
          72,
          73,
          74,
          75,
          76,
          77,
          78,
          79,
          80,
          81,
          82,
          83,
          84,
          85,
          86,
          87,
          88,
          89,
          90,
          91,
          92,
          93,
          94,
          95,
          96,
          97,
          98,
          99,
          100,
          101,
          102,
          103,
          104,
          105,
          106,
          107,
          108,
          109,
          110,
          111,
          112,
          113,
          114,
          115,
          116,
          117,
          118,
          119,
          120,
          121,
          122,
          123,
          124,
          125,
          126,
          127,
          128,
          129,
          130,
          131,
          132,
          133,
          134,
          135,
          136,
          137,
          138,
          139,
          140,
          141,
          142,
          143,
          144,
          145,
          146,
          147,
          148,
          149,
          150,
          151,
          152,
          153,
          154,
          155,
          156,
          157,
          158,
          159,
          160,
          161,
          162,
          163,
          164,
          165,
          166,
          167,
          168,
          169,
          170,
          171,
          172,
          173,
          174,
          175,
          176,
          177,
          178,
          179,
          180,
          181,
          182,
          183,
          184,
          185,
          186,
          187,
          188,
          189,
          190,
          191,
          192,
          193,
          194,
          195,
          196,
          197,
          198,
          199,
          200,
          201,
          202,
          203,
          204,
          205,
          206,
          207,
          208,
          209,
          210,
          211,
          212,
          213,
          214,
          215,
          216,
          217,
          218,
          219,
          220,
          221,
          222,
          223,
          224,
          225,
          226,
          227,
          228,
          229,
          230,
          231,
          232,
          233,
          234,
          235,
          236,
          237,
          238,
          239,
          240,
          241,
          242,
          243,
          244,
          245,
          246,
          247,
          248,
          249,
          250,
          251,
          252,
          253,
          254,
          255,
          256,
          257,
          258,
          259,
          260,
          261,
          262,
          263,
          264,
          265,
          266,
          267,
          268,
          269,
          270,
          271,
          272,
          273,
          274,
          275,
          276,
          277,
          278,
          279,
          280,
          281,
          282,
          283,
          284,
          285,
          286,
          287,
          288,
          289,
          290,
          291,
          292,
          293,
          294,
          295,
          296,
          297,
          298,
          299,
          300,
          301,
          302,
          303,
          304,
          305,
          306,
          307,
          308,
          309,
          310,
          311,
          312,
          313,
          314,
          315,
          316,
          317,
          318,
          319,
          320,
          321,
          322,
          323,
          324,
          325,
          326,
          327,
          328,
          329,
          330,
          331,
          332,
          333,
          334,
          335,
          336,
          337,
          338,
          339,
          340,
          341,
          342,
          343,
          344,
          345,
          346,
          347,
          348,
          349,
          350,
          351,
          352,
          353,
          354,
          355,
          356,
          357,
          358,
          359,
          360,
          361,
          362,
          363,
          364,
          365,
          366,
          367,
          368,
          369,
          370,
          371,
          372,
          373,
          374,
          375,
          376,
          377,
          378,
          379,
          380,
          381,
          382,
          383,
          384,
          385,
          386,
          387,
          388,
          389,
          390,
          391,
          392,
          393,
          394,
          395,
          396,
          397,
          398,
          399,
          400,
          401,
          402,
          403,
          404,
          405,
          406,
          407,
          408,
          409,
          410,
          411,
          412,
          413,
          414,
          415,
          416,
          417,
          418,
          419,
          420,
          421,
          422,
          423,
          424,
          425,
          426,
          427,
          428,
          429,
          430,
          431,
          432,
          433,
          434,
          435,
          436,
          437,
          438,
          439,
          440,
          441,
          442,
          443,
          444,
          445,
          446,
          447,
          448,
          449,
          450,
          451,
          452,
          453,
          454,
          455,
          456,
          457,
          458,
          459,
          460,
          461,
          462,
          463,
          464,
          465,
          466,
          467,
          468,
          469,
          470,
          471,
          472,
          473,
          474,
          475,
          476,
          477,
          478,
          479,
          480,
          481,
          482,
          483,
          484,
          485,
          486,
          487,
          488,
          489,
          490,
          491,
          492,
          493,
          494,
          495,
          496,
          497,
          498,
          499,
          500,
          501,
          502,
          503,
          504,
          505,
          506,
          507,
          508,
          509,
          510,
          511,
          512,
          513,
          514,
          515,
          516,
          517,
          518,
          519,
          520,
          521,
          522,
          523,
          524,
          525,
          526,
          527,
          528,
          529,
          530,
          531,
          532,
          533,
          534,
          535,
          536,
          537,
          538,
          539,
          540,
          541,
          542,
          543,
          544,
          545,
          546,
          547,
          548,
          549,
          550,
          551,
          552,
          553,
          554,
          555,
          556,
          557,
          558,
          559,
          560,
          561,
          562,
          563,
          564,
          565,
          566,
          567,
          568,
          569,
          570,
          571,
          572,
          573,
          574,
          575,
          576,
          577,
          578,
          579,
          580,
          581,
          582,
          583,
          584,
          585,
          586,
          587,
          588,
          589,
          590,
          591,
          592,
          593,
          594,
          595,
          596,
          597,
          598,
          599,
          600,
          601,
          602,
          603,
          604,
          605,
          606,
          607,
          608,
          609,
          610,
          611,
          612,
          613,
          614,
          615,
          616,
          617,
          618,
          619,
          620,
          621,
          622,
          623,
          624,
          625,
          626,
          627,
          628,
          629,
          630,
          631,
          632,
          633,
          634,
          635,
          636,
          637,
          638,
          639,
          640,
          641,
          642,
          643,
          644,
          645,
          646,
          647,
          648,
          649,
          650,
          651,
          652,
          653,
          654,
          655,
          656,
          657,
          658,
          659,
          660,
          661,
          662,
          663,
          664,
          665,
          666,
          667,
          668,
          669,
          670,
          671,
          672,
          673,
          674,
          675,
          676,
          677,
          678,
          679,
          680,
          681,
          682,
          683,
          684,
          685,
          686,
          687,
          688,
          689,
          690,
          691,
          692,
          693,
          694,
          695,
          696,
          697,
          698,
          699,
          700,
          701,
          702,
          703,
          704,
          705,
          706,
          707,
          708,
          709,
          710,
          711,
          712,
          713,
          714,
          715,
          716,
          717,
          718,
          719,
          720,
          721,
          722,
          723,
          724,
          725,
          726,
          727,
          728,
          729,
          730,
          731,
          732,
          733,
          734,
          735,
          736,
          737,
          738,
          739,
          740,
          741,
          742,
          743,
          744,
          745,
          746,
          747,
          748,
          749,
          750,
          751,
          752,
          753,
          754,
          755,
          756,
          757,
          758,
          759,
          760,
          761,
          762,
          763,
          764,
          765,
          766,
          767,
          768,
          769,
          770,
          771,
          772,
          773,
          774,
          775,
          776,
          777,
          778,
          779,
          780,
          781,
          782,
          783,
          784,
          785,
          786,
          787,
          788,
          789,
          790,
          791,
          792,
          793,
          794,
          795,
          796,
          797,
          798,
          799,
          800,
          801,
          802,
          803,
          804,
          805,
          806,
          807,
          808,
          809,
          810,
          811,
          812,
          813,
          814,
          815,
          816,
          817,
          818,
          819,
          820,
          821,
          822,
          823,
          824,
          825,
          826,
          827,
          828,
          829,
          830,
          831,
          832,
          833,
          834,
          835,
          836,
          837,
          838,
          839,
          840,
          841,
          842,
          843,
          844,
          845,
          846,
          847,
          848,
          849,
          850,
          851,
          852,
          853,
          854,
          855,
          856,
          857,
          858,
          859,
          860,
          861,
          862,
          863,
          864,
          865,
          866,
          867,
          868,
          869,
          870,
          871,
          872,
          873,
          874,
          875,
          876,
          877,
          878,
          879,
          880,
          881,
          882,
          883,
          884,
          885,
          886,
          887,
          888,
          889,
          890,
          891,
          892,
          893,
          894,
          895,
          896,
          897,
          898,
          899,
          900,
          901,
          902,
          903,
          904,
          905,
          906,
          907,
          908,
          909,
          910,
          911,
          912,
          913,
          914,
          915,
          916,
          917,
          918,
          919,
          920,
          921,
          922,
          923,
          924,
          925,
          926,
          927,
          928,
          929,
          930,
          931,
          932,
          933,
          934,
          935,
          936,
          937,
          938,
          939,
          940,
          941,
          942,
          943,
          944,
          945,
          946,
          947,
          948,
          949,
          950,
          951,
          952,
          953,
          954,
          955,
          956,
          957,
          958,
          959,
          960,
          961,
          962,
          963,
          964,
          965,
          966,
          967,
          968,
          969,
          970,
          971,
          972,
          973,
          974,
          975,
          976,
          977,
          978,
          979,
          980,
          981,
          982,
          983,
          984,
          985,
          986,
          987,
          988,
          989,
          990,
          991,
          992,
          993,
          994,
          995,
          996,
          997,
          998,
          999,
          1000
         ],
         "xaxis": "x",
         "y": [
          45,
          44.97094231520561,
          44.95552621365125,
          44.92024587700764,
          44.85835179156633,
          44.794719217846854,
          44.80399397331374,
          44.80072417154304,
          44.861293328214316,
          44.82504004997317,
          44.805403953243385,
          44.80150579262455,
          44.80686601375703,
          44.903849508588785,
          44.943072518735285,
          44.92926801008804,
          45.02063796108217,
          44.97498629123612,
          45.0388059257544,
          45.04802088596139,
          45.04270689483073,
          44.9819988798729,
          45.045705900066025,
          44.924975419467366,
          44.91821855640705,
          44.89416780042379,
          44.928673643292406,
          44.881046389606716,
          44.84774041706971,
          44.91343058051031,
          45.06268611709594,
          45.08737542262367,
          45.04139533400536,
          45.03919373715354,
          45.08767210707317,
          45.17454447264827,
          45.28550097094361,
          45.369319010381126,
          45.46970195453869,
          45.5227710427727,
          45.53212455193321,
          45.57090300116444,
          45.64219512927018,
          45.66286760398642,
          45.619712481831705,
          45.67055276633287,
          45.78192247107856,
          45.81375955184275,
          45.89924389436595,
          45.90328124371402,
          45.90205671621345,
          45.939607593988995,
          45.927553694091195,
          45.81423589475975,
          45.84894031421701,
          45.720722543139736,
          45.697726626294966,
          45.75344749197886,
          45.7321351942536,
          45.691753682584505,
          45.69139228409559,
          45.70653697450069,
          45.67448054035249,
          45.79943095965566,
          45.86261184592277,
          45.93366518408698,
          45.92145609094238,
          45.9403094387727,
          45.83085902120723,
          45.86106812107989,
          45.815349706356535,
          45.77094990205115,
          45.77663676088229,
          45.76083275612416,
          45.70992207124941,
          45.73450324550035,
          45.7040461380554,
          45.775795181753,
          45.738199731860725,
          45.67612922250106,
          45.66712840283251,
          45.72521389715146,
          45.69620379913964,
          45.67315472416673,
          45.531127559923156,
          45.5468845014947,
          45.59126052533118,
          45.596843880217165,
          45.58147973492092,
          45.54983381989499,
          45.53651259850357,
          45.45476390184118,
          45.46802129823931,
          45.39062587011399,
          45.33884776097031,
          45.42221950670805,
          45.53180082648412,
          45.49584946883906,
          45.4699469464286,
          45.56559334409913,
          45.64463450629051,
          45.594274200393045,
          45.65398433343606,
          45.713826493321996,
          45.69607205576524,
          45.741188653402254,
          45.84827145018078,
          45.81260756297898,
          45.865675681223095,
          45.88869313292579,
          45.79515773620064,
          45.794833261400214,
          45.754274569990955,
          45.82833415034053,
          45.79300667295648,
          45.78450915134682,
          45.780749022143034,
          45.75706988039698,
          45.636697336128755,
          45.68556831318769,
          45.69344790445091,
          45.76331524727766,
          45.737627762876805,
          45.7635966492012,
          45.80020616307338,
          45.73422115679295,
          45.68760273238227,
          45.73684981105139,
          45.788181905422775,
          45.840411997389936,
          45.71963350647186,
          45.59468124214928,
          45.56118082843409,
          45.7150744980524,
          45.72470596434353,
          45.69015805781624,
          45.791790472710126,
          45.80056995865724,
          45.72263727937647,
          45.702499719850145,
          45.59918345096579,
          45.64052675969947,
          45.73808844784368,
          45.77383443553628,
          45.78684305408518,
          45.819388806587014,
          45.757335437642965,
          45.78458068430883,
          45.77120340877999,
          45.82820388303674,
          45.8135758000825,
          45.77647944480712,
          45.73969396936089,
          45.88350479528766,
          45.82233510500298,
          45.87361582512583,
          45.84260473880174,
          45.81492574797555,
          45.767470118838325,
          45.84398866432936,
          45.79677925351634,
          45.79047188083549,
          45.791048999522836,
          45.76258843936108,
          45.748918858606565,
          45.87180914785891,
          45.845354334618264,
          45.71559994660353,
          45.66512288609149,
          45.74832212408544,
          45.778583708785355,
          45.74064397428615,
          45.68258493081787,
          45.76294434985075,
          45.75374736660695,
          45.79536310233302,
          45.783936419480845,
          45.78129521172335,
          45.77125137167808,
          45.841525861406204,
          45.87903188408729,
          45.906846724050595,
          45.92963997786604,
          45.93747005262702,
          45.93409457180214,
          45.91685189622068,
          45.95305950303232,
          45.89309108610901,
          45.8740657095423,
          45.94846621623149,
          45.93214085792227,
          45.92775453648127,
          45.95484934711055,
          46.03006953257636,
          45.979198936790965,
          45.92134406518504,
          45.93242203143615,
          45.89527269924562,
          45.89406702677077,
          45.78997949200935,
          45.733896184581525,
          45.745675946656036,
          45.716827497997436,
          45.68810301111863,
          45.718066326856444,
          45.72456954226039,
          45.59830183289709,
          45.63773737168331,
          45.5673821594311,
          45.64170694863729,
          45.66825430941379,
          45.654226290438444,
          45.728422228962756,
          45.842126725077144,
          45.87865325791129,
          45.82312954311002,
          45.833897498513196,
          45.84544749771346,
          45.760419666460244,
          45.69958770015831,
          45.724259622736454,
          45.8491574149851,
          45.94186442174202,
          45.99029250669613,
          45.96079874545083,
          45.940167442044455,
          45.91648466541272,
          46.00306096984383,
          45.91078579920822,
          46.027770550907505,
          46.027110806114,
          46.01116733695056,
          46.0419743347778,
          46.08204372089617,
          46.09344148134628,
          46.10148667402214,
          46.12939584257676,
          46.21377554411747,
          46.306134727720725,
          46.24167189657759,
          46.231291032414006,
          46.233169096675354,
          46.21488009655339,
          46.193950228300906,
          46.24723252799111,
          46.26413936835504,
          46.2891569686506,
          46.26945519187466,
          46.22302722028574,
          46.28939140319621,
          46.204760885173876,
          46.24217568617907,
          46.26168467279904,
          46.25519584199419,
          46.248261639847975,
          46.22885471927693,
          46.31773006989742,
          46.344448784963596,
          46.28299490348508,
          46.2133349095411,
          46.20001417014248,
          46.168977949160634,
          46.20352516496142,
          46.19645005252173,
          46.24195772367571,
          46.18971935727256,
          46.21492593854987,
          46.30589364000569,
          46.26404543214903,
          46.271040496097584,
          46.225624296673374,
          46.19821218421481,
          46.2358750086666,
          46.31992593765761,
          46.2631138793535,
          46.20062054515473,
          46.232720699871926,
          46.193263753153595,
          46.21044566995029,
          46.241710586684626,
          46.29163479823822,
          46.27507715410939,
          46.160497853843985,
          46.13977521593055,
          46.08621719691644,
          46.05869720947326,
          46.11969884912723,
          46.082989156399705,
          46.063575668279654,
          46.15317836144602,
          46.31364249716338,
          46.369782062566586,
          46.41504409365316,
          46.34905872314933,
          46.40952351960606,
          46.43202445078142,
          46.36830811152852,
          46.329358132625664,
          46.28676238498307,
          46.24834068018117,
          46.276646234338436,
          46.25394863931102,
          46.223189373334634,
          46.242015530551214,
          46.33773125719633,
          46.367302791339874,
          46.34017971410285,
          46.365540194117,
          46.37854182949325,
          46.34612414544041,
          46.38200931317857,
          46.387185948567115,
          46.452004124685,
          46.43986613011757,
          46.397320741913674,
          46.400406552976364,
          46.4202599990231,
          46.44383167163252,
          46.44720606358088,
          46.29282208045558,
          46.33812846145207,
          46.385348664543024,
          46.356646897634334,
          46.38708967187868,
          46.37067355861668,
          46.32372921396719,
          46.360294519691145,
          46.41187658001323,
          46.376441005777124,
          46.5023013823954,
          46.572204361294204,
          46.546456298255194,
          46.50706375631413,
          46.49840598919305,
          46.468375383161366,
          46.43030812413649,
          46.402479443945055,
          46.448767866082704,
          46.428820557779865,
          46.434525189972526,
          46.372483057728985,
          46.42699155128018,
          46.509358325008854,
          46.48976131337529,
          46.51382008552236,
          46.567287490496156,
          46.59733317619913,
          46.612662493220284,
          46.637887521626276,
          46.53844303768179,
          46.57891705070342,
          46.59721598713465,
          46.534960421951226,
          46.553411595902574,
          46.4476889132426,
          46.49919974513433,
          46.49490329640695,
          46.45719035826575,
          46.41758674265984,
          46.462189138656456,
          46.52868591702458,
          46.440395760779495,
          46.46135483338136,
          46.50768742232595,
          46.52540693535178,
          46.53513398161843,
          46.536378723996286,
          46.59713615529199,
          46.63801336252375,
          46.68453254951375,
          46.64525004497232,
          46.679602964509314,
          46.633341842492854,
          46.64021504309771,
          46.641294662679336,
          46.65943989971762,
          46.73573065250234,
          46.715694928883046,
          46.84030772525813,
          46.81780186931684,
          46.77049533850798,
          46.80385743225975,
          46.87297767766851,
          46.94119784657683,
          46.90808705711359,
          46.91954959183682,
          46.92332162679048,
          46.97374621772736,
          47.02132415202119,
          47.02748530842925,
          47.05669898188734,
          47.071254167890146,
          47.099226046639565,
          47.06496417124509,
          47.13018322744296,
          47.16688921341064,
          47.13748172796169,
          47.08955056061675,
          47.01385340114694,
          46.87038949404469,
          46.90249509125652,
          46.86073175237616,
          46.89577342951648,
          47.01386379789427,
          47.073318753512446,
          46.98680056274663,
          46.98217865953268,
          46.97632987655963,
          46.92860666514075,
          46.96741425050074,
          46.95771711638305,
          46.86418007910048,
          46.89121391187002,
          46.76705150931423,
          46.819593612119085,
          46.87422306196838,
          46.880999967045874,
          46.84273010930452,
          46.85863165767337,
          46.8109404024411,
          46.89012018284035,
          46.917231916647,
          46.87094024284478,
          46.856545380143004,
          47.031678734255955,
          47.031620739072665,
          47.010900534242225,
          47.06627587723726,
          47.03158148451759,
          46.99950651390272,
          47.042072483629006,
          46.999979670182725,
          46.92893853645015,
          46.96933694568634,
          47.0105759864675,
          46.884261144607486,
          46.839935435050265,
          46.826958022915946,
          46.844699153689156,
          46.90341878258456,
          46.9081538572415,
          46.91492917092225,
          46.856748474150095,
          46.8110298540212,
          46.86023626665798,
          46.79996005941705,
          46.834678593742474,
          46.78454716467556,
          46.71348170986195,
          46.68980849718535,
          46.74783726570847,
          46.62955153760344,
          46.64453763774575,
          46.65647209903513,
          46.71540381017667,
          46.71920336615657,
          46.7447629486489,
          46.66102783638505,
          46.610328533640576,
          46.574007244394316,
          46.44945129781675,
          46.5133594578428,
          46.47365323791258,
          46.51424717591071,
          46.459364640919375,
          46.419289696123,
          46.451951178506455,
          46.48132797356542,
          46.405784675380815,
          46.41340277045369,
          46.40986924268696,
          46.404650930913746,
          46.423161410281224,
          46.50974463033579,
          46.47165931009499,
          46.558587751255224,
          46.58052065009566,
          46.54536701736148,
          46.50743053722141,
          46.476607128233006,
          46.450892282734756,
          46.3992432069185,
          46.37959896480871,
          46.4114413181152,
          46.41758721832583,
          46.505157796987206,
          46.52182530549633,
          46.57269606406744,
          46.46917298207372,
          46.52346239075571,
          46.55345621573847,
          46.629449437620885,
          46.67708248392055,
          46.706760246010816,
          46.73801632211052,
          46.72335145152585,
          46.74484558300458,
          46.70581322825854,
          46.63728861651854,
          46.735297883152704,
          46.71418715639464,
          46.69559870160045,
          46.67010896537071,
          46.62331165547021,
          46.63308316826306,
          46.64608126252461,
          46.68676533638253,
          46.700420606695516,
          46.59462638851162,
          46.63805815264396,
          46.55383568627412,
          46.6299534729998,
          46.694784978151624,
          46.62698402428956,
          46.74395267414702,
          46.73482098654012,
          46.69555105492089,
          46.67124017999995,
          46.70588608539339,
          46.685593580542104,
          46.58009738148366,
          46.5258996238791,
          46.4659874803608,
          46.46515090991445,
          46.34068427913334,
          46.48149085039137,
          46.47844557174814,
          46.43960436913125,
          46.398805108823844,
          46.33524461234463,
          46.35137077430412,
          46.29605543172374,
          46.291451326145065,
          46.32630907553738,
          46.31971907334983,
          46.303466515094236,
          46.31739740219612,
          46.40693402553928,
          46.367406492940944,
          46.423379641140436,
          46.43395041296207,
          46.407807949442386,
          46.39292798158559,
          46.37937083216498,
          46.31735542366092,
          46.272933903344075,
          46.26719727318959,
          46.26522939570586,
          46.229437242545075,
          46.18477277557854,
          46.36294149025324,
          46.345287912982926,
          46.25787789049082,
          46.20600093637264,
          46.180468537031295,
          46.11494394132069,
          46.077763974883766,
          46.06526742201459,
          45.984545960167566,
          45.94009049719877,
          45.93498717295192,
          45.94114928518135,
          45.94619266238195,
          45.870239172775904,
          45.91560653370202,
          45.916123059103,
          45.9371646079509,
          45.98005796810691,
          45.97848721667079,
          46.00997145572872,
          45.99787492172995,
          46.07911197664824,
          46.10860527358818,
          46.00249144271168,
          45.9600843182586,
          46.014109927651035,
          46.07641543797719,
          46.00365137429305,
          46.054666294292566,
          46.07741314099102,
          46.21795422287736,
          46.28976562998156,
          46.278575904062414,
          46.24966803639711,
          46.246587292880164,
          46.236330269761254,
          46.25908035697944,
          46.249203641732805,
          46.18140888169486,
          46.20383527588155,
          46.257019961849,
          46.26008136726334,
          46.25271857272088,
          46.209256334310716,
          46.27764021111132,
          46.21494524224741,
          46.164398688309774,
          46.07909779988154,
          46.01589687213576,
          46.04316843902205,
          45.915095931069864,
          45.87272433457104,
          45.910008709058125,
          45.87051638751642,
          45.904651644435724,
          45.83189629476673,
          45.93244092834666,
          45.9651108899792,
          46.0262887461418,
          46.07847948091733,
          46.048584915027284,
          46.078440092473436,
          46.027637072372556,
          46.05813909543884,
          45.91274387316947,
          45.89908982769242,
          45.760312547153106,
          45.771597913457356,
          45.80126344991803,
          45.82985445626407,
          45.86074323371388,
          45.85755604409799,
          45.91658977783115,
          45.953787701544286,
          45.98076644718537,
          45.975067303842664,
          45.9791917848292,
          45.95812330896196,
          45.86695431782837,
          45.88834749885092,
          45.96461929333388,
          45.97384373616455,
          45.95234185877241,
          45.93578424315767,
          45.90629971382929,
          45.88409233147651,
          46.010529560305244,
          45.94691257387727,
          45.96691703451719,
          45.94568476019812,
          45.928098719007046,
          45.936179588063155,
          45.953724315812565,
          46.088139264746786,
          46.16929285096124,
          46.2454950995226,
          46.27871815665502,
          46.206032716880095,
          46.189211920870335,
          46.137523475208525,
          46.09437004761057,
          46.037328466963075,
          45.9835453698936,
          46.030152051255506,
          46.028090158911134,
          46.022121175755835,
          46.0369255758579,
          46.04961708850524,
          45.965876272022484,
          46.04729009907791,
          45.95810893886282,
          46.00474844260811,
          46.09103964601586,
          45.995085370338664,
          45.95852729193279,
          45.992640333032284,
          45.91723362841977,
          46.04086039646486,
          46.060848210103735,
          45.99091270430517,
          45.909879761780644,
          45.900647759980664,
          45.842950239266784,
          45.86716526572833,
          45.97231389611847,
          46.025603622970195,
          46.01852077879398,
          46.0531504321501,
          46.088753558982326,
          46.03171763608584,
          45.927681310734904,
          45.80437060507044,
          45.77648466842831,
          45.75033809929845,
          45.798684103841154,
          45.81084614350138,
          45.86026734334946,
          45.88791255475475,
          45.957895436134685,
          45.85280552400612,
          45.92069763533483,
          45.92796954439275,
          45.876803288955784,
          45.83981222202403,
          45.77861261409127,
          45.72825836059608,
          45.638154727223714,
          45.66552141307655,
          45.6574184177949,
          45.70129171778528,
          45.665351894835084,
          45.62534934956141,
          45.683003294941685,
          45.69427991903066,
          45.65544947093264,
          45.64024969240892,
          45.66902270121136,
          45.66340101909685,
          45.58278708150821,
          45.573366163650334,
          45.57145720318908,
          45.5097869516592,
          45.51600559533595,
          45.4172931840498,
          45.42156242934518,
          45.33143122679357,
          45.272097950533514,
          45.28710115089409,
          45.274907933879526,
          45.238139397166876,
          45.214867366331575,
          45.20218397348047,
          45.18837916869124,
          45.18618908485568,
          45.19103370159433,
          45.23119277875775,
          45.13286440209126,
          45.085714579231585,
          45.06603575904379,
          45.16799475015829,
          45.17213989776325,
          45.18948723496435,
          45.18177081183363,
          45.13817488510276,
          45.127451766593424,
          45.14478245317657,
          45.098746592854006,
          45.13681582548511,
          45.277820283770524,
          45.27571145134603,
          45.22733763062525,
          45.22007402689011,
          45.28831627710199,
          45.286716086446205,
          45.218538018222155,
          45.25737193998048,
          45.31725253862294,
          45.20124716368304,
          45.23162403274818,
          45.25209814846128,
          45.200351928541664,
          45.23638694322057,
          45.328991883488925,
          45.33983449371245,
          45.36520127334332,
          45.37440603523114,
          45.38225892420992,
          45.26709628169567,
          45.18304723714085,
          45.21274480830484,
          45.21390255049642,
          45.19246782587241,
          45.25684834293492,
          45.24795262404572,
          45.22989552640253,
          45.19320359701029,
          45.23678883103687,
          45.12365892637355,
          45.21392098517296,
          45.2572818172813,
          45.25870852224543,
          45.265270459706734,
          45.287197707711584,
          45.25801279000537,
          45.2882209394108,
          45.285850123221216,
          45.331640913195606,
          45.27128692844349,
          45.372026230892075,
          45.326057042212156,
          45.276583384400595,
          45.21983847439018,
          45.23946986030784,
          45.32772591950502,
          45.26622371952433,
          45.26590952964374,
          45.30307784585673,
          45.343363614274686,
          45.282219711218154,
          45.25913331956899,
          45.214702559502605,
          45.242819985760455,
          45.273470813728665,
          45.34123544989796,
          45.33960501728382,
          45.374751095327014,
          45.42740824662241,
          45.428581843532136,
          45.414215610004206,
          45.36538117254459,
          45.3080299440748,
          45.34777583086201,
          45.3960802561768,
          45.38262047959938,
          45.34560546482676,
          45.415346768245186,
          45.32539752934187,
          45.3316101146027,
          45.28946198855883,
          45.23575328855368,
          45.2998961737191,
          45.243894882546584,
          45.27853177088382,
          45.27531120003873,
          45.222613242666164,
          45.271174273146556,
          45.34046324369612,
          45.44844790771808,
          45.32824971031095,
          45.3251039494187,
          45.29637496680181,
          45.31772308482759,
          45.214120093931406,
          45.13619816324168,
          45.06932890608488,
          45.127023078058286,
          45.15048754541143,
          45.123487248813575,
          45.07525310745239,
          45.10768972415459,
          45.12394772853667,
          45.11492784425981,
          45.130315401020106,
          45.21553494028124,
          45.256387845173826,
          45.249051832285176,
          45.2368845750523,
          45.26046522560004,
          45.28293540782792,
          45.362787416376584,
          45.29419346915621,
          45.36582534174176,
          45.39845230100282,
          45.29727109854859,
          45.300417983968806,
          45.27748346110616,
          45.236397019198385,
          45.21704064294851,
          45.18720240972968,
          45.14936158672883,
          45.351761491263446,
          45.36567738726556,
          45.33009117041061,
          45.36216435777995,
          45.34759649731116,
          45.343278844321404,
          45.38314970736516,
          45.458020628284444,
          45.36672182310911,
          45.38522395648307,
          45.3966119483669,
          45.31451627601064,
          45.365130910373296,
          45.42588428370135,
          45.380567220450125,
          45.334976869059716,
          45.372517157470725,
          45.485048547156744,
          45.561241491821534,
          45.54585469412966,
          45.51953246460233,
          45.5061713050349,
          45.51459698187092,
          45.619811153592,
          45.48444779261197,
          45.49429985008285,
          45.462558928001094,
          45.41471429301282,
          45.423804982913,
          45.430850929181915,
          45.43111053992103,
          45.42319348657765,
          45.3708701770021,
          45.451588900502486,
          45.359411121420166,
          45.39887544860065,
          45.413017943949384,
          45.452977261332855,
          45.42611896171766,
          45.4346478540792,
          45.442576127950396,
          45.41212211659365,
          45.523589843862254,
          45.56005265483999,
          45.49646874734083,
          45.48402191230067,
          45.42127697919164,
          45.416138059043796,
          45.39493356303723,
          45.35156915073869,
          45.395483341965786,
          45.40323735162909,
          45.40977959624467,
          45.37720581545967,
          45.32730339070933,
          45.315578605858164,
          45.372104536806766,
          45.43140242560761,
          45.39361815342367,
          45.39919897276853,
          45.358279425397185,
          45.456255487738076,
          45.417920495419146,
          45.47413472485922,
          45.5388781726373,
          45.50383262299957,
          45.54179220488671,
          45.5015127716259,
          45.57997102498353,
          45.5800827597999,
          45.577211429779844,
          45.495510487758594,
          45.51469991060693,
          45.43635047994791,
          45.46722231089487,
          45.474498602859114,
          45.50955642191461,
          45.508212239520645,
          45.5061279002295,
          45.596725010182716,
          45.651920194449794,
          45.55448006556893,
          45.55367904987895,
          45.59071877684142,
          45.60226278636836,
          45.500287671831295,
          45.51547854197782,
          45.522027790243506,
          45.52708343853749,
          45.58300174788433,
          45.5549385931206,
          45.55269252226047,
          45.53407117258697,
          45.56551411359168,
          45.71136316556208,
          45.636418180862606,
          45.60395225147689,
          45.57664811831587,
          45.497275843877894,
          45.55467308953136,
          45.51580060576678,
          45.57660802756031,
          45.67088374292386,
          45.76085959484841,
          45.784194825310486,
          45.88783709989326,
          46.009733300665275,
          45.96133577440222,
          46.01767495446812,
          46.04984048024669,
          46.0250908480528,
          46.05106516792594,
          46.04582203425941,
          46.065960339936254,
          46.050848281045184,
          46.09060062091163,
          46.16468493633982,
          46.07072091457793,
          46.10848235974064,
          46.06919914404496,
          46.03492232709239,
          46.03225924824967,
          46.01673011387863,
          46.017866863733765,
          45.984969590861276,
          45.9201540861,
          45.97389776876613,
          46.03175017859177,
          45.95774752570324,
          45.89242020646075,
          45.94203874653783,
          45.935995312079854,
          45.883036728083184,
          45.96901456635631,
          46.02896467473917,
          46.08167952548225,
          46.131341574251636,
          46.22775568176802,
          46.2834934900052,
          46.37342150634636,
          46.42703158228796,
          46.45178181709796,
          46.49295559278282,
          46.518130063067346,
          46.58481646712431,
          46.607760527090676,
          46.55112209738757,
          46.64128548200211,
          46.5758672370286,
          46.5624838485782,
          46.61126289835908
         ],
         "yaxis": "y"
        }
       ],
       "layout": {
        "font": {
         "color": "black"
        },
        "legend": {
         "title": {
          "text": "variable"
         },
         "tracegroupgap": 0
        },
        "margin": {
         "t": 60
        },
        "paper_bgcolor": "white",
        "plot_bgcolor": "white",
        "template": {
         "data": {
          "bar": [
           {
            "error_x": {
             "color": "#2a3f5f"
            },
            "error_y": {
             "color": "#2a3f5f"
            },
            "marker": {
             "line": {
              "color": "#E5ECF6",
              "width": 0.5
             },
             "pattern": {
              "fillmode": "overlay",
              "size": 10,
              "solidity": 0.2
             }
            },
            "type": "bar"
           }
          ],
          "barpolar": [
           {
            "marker": {
             "line": {
              "color": "#E5ECF6",
              "width": 0.5
             },
             "pattern": {
              "fillmode": "overlay",
              "size": 10,
              "solidity": 0.2
             }
            },
            "type": "barpolar"
           }
          ],
          "carpet": [
           {
            "aaxis": {
             "endlinecolor": "#2a3f5f",
             "gridcolor": "white",
             "linecolor": "white",
             "minorgridcolor": "white",
             "startlinecolor": "#2a3f5f"
            },
            "baxis": {
             "endlinecolor": "#2a3f5f",
             "gridcolor": "white",
             "linecolor": "white",
             "minorgridcolor": "white",
             "startlinecolor": "#2a3f5f"
            },
            "type": "carpet"
           }
          ],
          "choropleth": [
           {
            "colorbar": {
             "outlinewidth": 0,
             "ticks": ""
            },
            "type": "choropleth"
           }
          ],
          "contour": [
           {
            "colorbar": {
             "outlinewidth": 0,
             "ticks": ""
            },
            "colorscale": [
             [
              0,
              "#0d0887"
             ],
             [
              0.1111111111111111,
              "#46039f"
             ],
             [
              0.2222222222222222,
              "#7201a8"
             ],
             [
              0.3333333333333333,
              "#9c179e"
             ],
             [
              0.4444444444444444,
              "#bd3786"
             ],
             [
              0.5555555555555556,
              "#d8576b"
             ],
             [
              0.6666666666666666,
              "#ed7953"
             ],
             [
              0.7777777777777778,
              "#fb9f3a"
             ],
             [
              0.8888888888888888,
              "#fdca26"
             ],
             [
              1,
              "#f0f921"
             ]
            ],
            "type": "contour"
           }
          ],
          "contourcarpet": [
           {
            "colorbar": {
             "outlinewidth": 0,
             "ticks": ""
            },
            "type": "contourcarpet"
           }
          ],
          "heatmap": [
           {
            "colorbar": {
             "outlinewidth": 0,
             "ticks": ""
            },
            "colorscale": [
             [
              0,
              "#0d0887"
             ],
             [
              0.1111111111111111,
              "#46039f"
             ],
             [
              0.2222222222222222,
              "#7201a8"
             ],
             [
              0.3333333333333333,
              "#9c179e"
             ],
             [
              0.4444444444444444,
              "#bd3786"
             ],
             [
              0.5555555555555556,
              "#d8576b"
             ],
             [
              0.6666666666666666,
              "#ed7953"
             ],
             [
              0.7777777777777778,
              "#fb9f3a"
             ],
             [
              0.8888888888888888,
              "#fdca26"
             ],
             [
              1,
              "#f0f921"
             ]
            ],
            "type": "heatmap"
           }
          ],
          "heatmapgl": [
           {
            "colorbar": {
             "outlinewidth": 0,
             "ticks": ""
            },
            "colorscale": [
             [
              0,
              "#0d0887"
             ],
             [
              0.1111111111111111,
              "#46039f"
             ],
             [
              0.2222222222222222,
              "#7201a8"
             ],
             [
              0.3333333333333333,
              "#9c179e"
             ],
             [
              0.4444444444444444,
              "#bd3786"
             ],
             [
              0.5555555555555556,
              "#d8576b"
             ],
             [
              0.6666666666666666,
              "#ed7953"
             ],
             [
              0.7777777777777778,
              "#fb9f3a"
             ],
             [
              0.8888888888888888,
              "#fdca26"
             ],
             [
              1,
              "#f0f921"
             ]
            ],
            "type": "heatmapgl"
           }
          ],
          "histogram": [
           {
            "marker": {
             "pattern": {
              "fillmode": "overlay",
              "size": 10,
              "solidity": 0.2
             }
            },
            "type": "histogram"
           }
          ],
          "histogram2d": [
           {
            "colorbar": {
             "outlinewidth": 0,
             "ticks": ""
            },
            "colorscale": [
             [
              0,
              "#0d0887"
             ],
             [
              0.1111111111111111,
              "#46039f"
             ],
             [
              0.2222222222222222,
              "#7201a8"
             ],
             [
              0.3333333333333333,
              "#9c179e"
             ],
             [
              0.4444444444444444,
              "#bd3786"
             ],
             [
              0.5555555555555556,
              "#d8576b"
             ],
             [
              0.6666666666666666,
              "#ed7953"
             ],
             [
              0.7777777777777778,
              "#fb9f3a"
             ],
             [
              0.8888888888888888,
              "#fdca26"
             ],
             [
              1,
              "#f0f921"
             ]
            ],
            "type": "histogram2d"
           }
          ],
          "histogram2dcontour": [
           {
            "colorbar": {
             "outlinewidth": 0,
             "ticks": ""
            },
            "colorscale": [
             [
              0,
              "#0d0887"
             ],
             [
              0.1111111111111111,
              "#46039f"
             ],
             [
              0.2222222222222222,
              "#7201a8"
             ],
             [
              0.3333333333333333,
              "#9c179e"
             ],
             [
              0.4444444444444444,
              "#bd3786"
             ],
             [
              0.5555555555555556,
              "#d8576b"
             ],
             [
              0.6666666666666666,
              "#ed7953"
             ],
             [
              0.7777777777777778,
              "#fb9f3a"
             ],
             [
              0.8888888888888888,
              "#fdca26"
             ],
             [
              1,
              "#f0f921"
             ]
            ],
            "type": "histogram2dcontour"
           }
          ],
          "mesh3d": [
           {
            "colorbar": {
             "outlinewidth": 0,
             "ticks": ""
            },
            "type": "mesh3d"
           }
          ],
          "parcoords": [
           {
            "line": {
             "colorbar": {
              "outlinewidth": 0,
              "ticks": ""
             }
            },
            "type": "parcoords"
           }
          ],
          "pie": [
           {
            "automargin": true,
            "type": "pie"
           }
          ],
          "scatter": [
           {
            "fillpattern": {
             "fillmode": "overlay",
             "size": 10,
             "solidity": 0.2
            },
            "type": "scatter"
           }
          ],
          "scatter3d": [
           {
            "line": {
             "colorbar": {
              "outlinewidth": 0,
              "ticks": ""
             }
            },
            "marker": {
             "colorbar": {
              "outlinewidth": 0,
              "ticks": ""
             }
            },
            "type": "scatter3d"
           }
          ],
          "scattercarpet": [
           {
            "marker": {
             "colorbar": {
              "outlinewidth": 0,
              "ticks": ""
             }
            },
            "type": "scattercarpet"
           }
          ],
          "scattergeo": [
           {
            "marker": {
             "colorbar": {
              "outlinewidth": 0,
              "ticks": ""
             }
            },
            "type": "scattergeo"
           }
          ],
          "scattergl": [
           {
            "marker": {
             "colorbar": {
              "outlinewidth": 0,
              "ticks": ""
             }
            },
            "type": "scattergl"
           }
          ],
          "scattermapbox": [
           {
            "marker": {
             "colorbar": {
              "outlinewidth": 0,
              "ticks": ""
             }
            },
            "type": "scattermapbox"
           }
          ],
          "scatterpolar": [
           {
            "marker": {
             "colorbar": {
              "outlinewidth": 0,
              "ticks": ""
             }
            },
            "type": "scatterpolar"
           }
          ],
          "scatterpolargl": [
           {
            "marker": {
             "colorbar": {
              "outlinewidth": 0,
              "ticks": ""
             }
            },
            "type": "scatterpolargl"
           }
          ],
          "scatterternary": [
           {
            "marker": {
             "colorbar": {
              "outlinewidth": 0,
              "ticks": ""
             }
            },
            "type": "scatterternary"
           }
          ],
          "surface": [
           {
            "colorbar": {
             "outlinewidth": 0,
             "ticks": ""
            },
            "colorscale": [
             [
              0,
              "#0d0887"
             ],
             [
              0.1111111111111111,
              "#46039f"
             ],
             [
              0.2222222222222222,
              "#7201a8"
             ],
             [
              0.3333333333333333,
              "#9c179e"
             ],
             [
              0.4444444444444444,
              "#bd3786"
             ],
             [
              0.5555555555555556,
              "#d8576b"
             ],
             [
              0.6666666666666666,
              "#ed7953"
             ],
             [
              0.7777777777777778,
              "#fb9f3a"
             ],
             [
              0.8888888888888888,
              "#fdca26"
             ],
             [
              1,
              "#f0f921"
             ]
            ],
            "type": "surface"
           }
          ],
          "table": [
           {
            "cells": {
             "fill": {
              "color": "#EBF0F8"
             },
             "line": {
              "color": "white"
             }
            },
            "header": {
             "fill": {
              "color": "#C8D4E3"
             },
             "line": {
              "color": "white"
             }
            },
            "type": "table"
           }
          ]
         },
         "layout": {
          "annotationdefaults": {
           "arrowcolor": "#2a3f5f",
           "arrowhead": 0,
           "arrowwidth": 1
          },
          "autotypenumbers": "strict",
          "coloraxis": {
           "colorbar": {
            "outlinewidth": 0,
            "ticks": ""
           }
          },
          "colorscale": {
           "diverging": [
            [
             0,
             "#8e0152"
            ],
            [
             0.1,
             "#c51b7d"
            ],
            [
             0.2,
             "#de77ae"
            ],
            [
             0.3,
             "#f1b6da"
            ],
            [
             0.4,
             "#fde0ef"
            ],
            [
             0.5,
             "#f7f7f7"
            ],
            [
             0.6,
             "#e6f5d0"
            ],
            [
             0.7,
             "#b8e186"
            ],
            [
             0.8,
             "#7fbc41"
            ],
            [
             0.9,
             "#4d9221"
            ],
            [
             1,
             "#276419"
            ]
           ],
           "sequential": [
            [
             0,
             "#0d0887"
            ],
            [
             0.1111111111111111,
             "#46039f"
            ],
            [
             0.2222222222222222,
             "#7201a8"
            ],
            [
             0.3333333333333333,
             "#9c179e"
            ],
            [
             0.4444444444444444,
             "#bd3786"
            ],
            [
             0.5555555555555556,
             "#d8576b"
            ],
            [
             0.6666666666666666,
             "#ed7953"
            ],
            [
             0.7777777777777778,
             "#fb9f3a"
            ],
            [
             0.8888888888888888,
             "#fdca26"
            ],
            [
             1,
             "#f0f921"
            ]
           ],
           "sequentialminus": [
            [
             0,
             "#0d0887"
            ],
            [
             0.1111111111111111,
             "#46039f"
            ],
            [
             0.2222222222222222,
             "#7201a8"
            ],
            [
             0.3333333333333333,
             "#9c179e"
            ],
            [
             0.4444444444444444,
             "#bd3786"
            ],
            [
             0.5555555555555556,
             "#d8576b"
            ],
            [
             0.6666666666666666,
             "#ed7953"
            ],
            [
             0.7777777777777778,
             "#fb9f3a"
            ],
            [
             0.8888888888888888,
             "#fdca26"
            ],
            [
             1,
             "#f0f921"
            ]
           ]
          },
          "colorway": [
           "#636efa",
           "#EF553B",
           "#00cc96",
           "#ab63fa",
           "#FFA15A",
           "#19d3f3",
           "#FF6692",
           "#B6E880",
           "#FF97FF",
           "#FECB52"
          ],
          "font": {
           "color": "#2a3f5f"
          },
          "geo": {
           "bgcolor": "white",
           "lakecolor": "white",
           "landcolor": "#E5ECF6",
           "showlakes": true,
           "showland": true,
           "subunitcolor": "white"
          },
          "hoverlabel": {
           "align": "left"
          },
          "hovermode": "closest",
          "mapbox": {
           "style": "light"
          },
          "paper_bgcolor": "white",
          "plot_bgcolor": "#E5ECF6",
          "polar": {
           "angularaxis": {
            "gridcolor": "white",
            "linecolor": "white",
            "ticks": ""
           },
           "bgcolor": "#E5ECF6",
           "radialaxis": {
            "gridcolor": "white",
            "linecolor": "white",
            "ticks": ""
           }
          },
          "scene": {
           "xaxis": {
            "backgroundcolor": "#E5ECF6",
            "gridcolor": "white",
            "gridwidth": 2,
            "linecolor": "white",
            "showbackground": true,
            "ticks": "",
            "zerolinecolor": "white"
           },
           "yaxis": {
            "backgroundcolor": "#E5ECF6",
            "gridcolor": "white",
            "gridwidth": 2,
            "linecolor": "white",
            "showbackground": true,
            "ticks": "",
            "zerolinecolor": "white"
           },
           "zaxis": {
            "backgroundcolor": "#E5ECF6",
            "gridcolor": "white",
            "gridwidth": 2,
            "linecolor": "white",
            "showbackground": true,
            "ticks": "",
            "zerolinecolor": "white"
           }
          },
          "shapedefaults": {
           "line": {
            "color": "#2a3f5f"
           }
          },
          "ternary": {
           "aaxis": {
            "gridcolor": "white",
            "linecolor": "white",
            "ticks": ""
           },
           "baxis": {
            "gridcolor": "white",
            "linecolor": "white",
            "ticks": ""
           },
           "bgcolor": "#E5ECF6",
           "caxis": {
            "gridcolor": "white",
            "linecolor": "white",
            "ticks": ""
           }
          },
          "title": {
           "x": 0.05
          },
          "xaxis": {
           "automargin": true,
           "gridcolor": "white",
           "linecolor": "white",
           "ticks": "",
           "title": {
            "standoff": 15
           },
           "zerolinecolor": "white",
           "zerolinewidth": 2
          },
          "yaxis": {
           "automargin": true,
           "gridcolor": "white",
           "linecolor": "white",
           "ticks": "",
           "title": {
            "standoff": 15
           },
           "zerolinecolor": "white",
           "zerolinewidth": 2
          }
         }
        },
        "title": {
         "text": "Price evolution",
         "x": 0.5
        },
        "xaxis": {
         "anchor": "y",
         "color": "black",
         "domain": [
          0,
          1
         ],
         "gridcolor": "black",
         "tickcolor": "black",
         "title": {
          "text": "Index"
         }
        },
        "yaxis": {
         "anchor": "x",
         "color": "black",
         "domain": [
          0,
          1
         ],
         "gridcolor": "black",
         "tickcolor": "black",
         "title": {
          "text": "Price"
         }
        }
       }
      }
     },
     "metadata": {},
     "output_type": "display_data"
    }
   ],
   "source": [
    "fig = px.line(p_t)\n",
    "fig.update_traces(line_color = \"maroon\")\n",
    "\n",
    "fig.update_layout(\n",
    "    title_text=\"Price evolution\",\n",
    "    title_x=0.5,\n",
    "    plot_bgcolor='white',  # set background color to white\n",
    "    paper_bgcolor='white',  # set background color to white\n",
    "    font=dict(color='black'),  # set font color to black\n",
    "    xaxis=dict(title_text=\"Index\", color='black', tickcolor='black', gridcolor='black'),  # set x-axis color, tick color, grid color, and grid width\n",
    "    yaxis=dict(title_text=\"Price\", color='black', tickcolor='black', gridcolor='black'),  # set y-axis color, tick color, grid color, and grid width\n",
    ")\n",
    "\n",
    "fig.show()"
   ]
  },
  {
   "cell_type": "markdown",
   "metadata": {},
   "source": [
    "# Cash and inventory"
   ]
  },
  {
   "cell_type": "markdown",
   "metadata": {},
   "source": [
    "The inventory follows the natural dynamics given by arrival times of buy and sell orders and sizes of the respective transactions ($L_t^a$ and $L_t^b$):\n",
    "\n",
    "$$dY_t = L_t^bdN_t^b - L_t^adN_t^a$$\n",
    "\n",
    "The cash dynamics is very similar with reversed signs (when the market makers buy, he/she uses cash and vice versa) and prices of the market maker $\\pi^b(Q_t^b, P_{t^-}, S_{t^-})$ and $\\pi^a(Q_t^a, P_{t^-}, S_{t^-})$:\n",
    "\n",
    "$$dX_t = -\\pi^b(Q_t^b, P_{t^-}, S_{t^-}) L_t^bdN_t^b + \\pi^a(Q_t^a, P_{t^-}, S_{t^-}) L_t^adN_t^a$$\n",
    "\n",
    "where \n",
    "\n",
    "$$\\pi^b(Q_t^b, P_{t^-}, S_{t^-}) = \n",
    "\\begin{cases}\n",
    "    p-\\frac{s}{2} & \\text{for } q_b = Bb \\\\\n",
    "    p-\\frac{s}{2} + \\delta & \\text{for } q_b = Bb_+\n",
    "\\end{cases}$$\n",
    "\n",
    "$$\\pi^a(Q_t^a, P_{t^-}, S_{t^-}) = \n",
    "\\begin{cases}\n",
    "    p+\\frac{s}{2} & \\text{for } q_a = Ba \\\\\n",
    "    p+\\frac{s}{2} - \\delta & \\text{for } q_a = Ba_-\n",
    "\\end{cases}$$\n",
    "\n",
    "where $p$ is the price, $s$ is the spread, $Bb$, $Ba$ are the choices of the existing spread and $Bb_+$, $Ba_-$ are the choices of spread updated by a tick to have a more favourable position.\n"
   ]
  },
  {
   "cell_type": "code",
   "execution_count": 17,
   "metadata": {},
   "outputs": [],
   "source": [
    "def inventory_sim(N_a, N_b, L_a, L_b, Y_0):\n",
    "    '''\n",
    "    Simulates the inventory process.\n",
    "\n",
    "    Parameters:\n",
    "        N_a (np.array): Arrival times of buy orders\n",
    "        N_b (np.array): Arrival times of sell orders\n",
    "        L_a (np.array): Sizes of buy orders\n",
    "        L_b (np.array): Sizes of sell orders\n",
    "        Y_0 (float): Initial inventory (at time t=0)\n",
    "\n",
    "    Returns:\n",
    "       Y (np.array): Realisation of the inventory process\n",
    "    '''\n",
    "    Y = [Y_0]\n",
    "    index_a = 0   # counter for sizes of ask orders \n",
    "    index_b = 0   # counter for sizes of bid orders \n",
    "\n",
    "    for t, index_y in zip(np.sort(np.concatenate((N_a, N_b))), range(1, len(np.concatenate((N_a, N_b)) + 1))):      # merged times of orders\n",
    "        \n",
    "        # check whether at a given time it is a bid or an ask order \n",
    "        if t in N_b:        \n",
    "            Y.append(Y[index_y - 1] + l_b[index_b])   # if bid - add inventory\n",
    "            index_b =+ 1\n",
    "        else:\n",
    "            Y.append(Y[index_y - 1] - l_a[index_a])   # if ask - subtract inventory\n",
    "            index_a =+ 1\n",
    "\n",
    "    return Y"
   ]
  },
  {
   "cell_type": "code",
   "execution_count": 18,
   "metadata": {},
   "outputs": [],
   "source": [
    "def cash_sim(N_a, N_b, L_a, L_b, X_0, delta, q_a, q_b, s, spread_changes, p, price_changes):\n",
    "    '''\n",
    "    Simulates the cash process.\n",
    "\n",
    "    Parameters:\n",
    "        N_a (np.array): Arrival times of buy orders\n",
    "        N_b (np.array): Arrival times of sell orders\n",
    "        L_a (np.array): Sizes of buy orders\n",
    "        L_b (np.array): Sizes of sell orders\n",
    "        X_0 (float): Initial cash (at time t=0)\n",
    "        delta (float): Parameter which may be used by a market maker to update the spread\n",
    "        s (np.array): Realisation of the spread process\n",
    "        spread_changes (np.array): Times when spread changes\n",
    "        p (np.array): Realisation of the price process\n",
    "        price_changes (np.array): Times when price changes\n",
    "\n",
    "    Returns:\n",
    "       X (np.array): Realisation of the cash process\n",
    "    '''\n",
    "    l_a = np.random.uniform(0, 100, len(N_a)) # ad-hoc choice of size of order for ask side\n",
    "    l_b = np.random.uniform(0, 100, len(N_b)) # ad-hoc choice of size of order for bid side\n",
    "\n",
    "    X = [X_0]\n",
    "    index_a = 0\n",
    "    index_b = 0\n",
    "\n",
    "    for t, index_x in zip(np.sort(np.concatenate((N_a, N_b))), range(1, len(np.concatenate((N_a, N_b)) + 1))):\n",
    "        \n",
    "        spread_position = np.sum(t >= spread_changes)  # extracting spread at time t\n",
    "        price_position = np.sum(t >= price_changes)  # extracting price at time t\n",
    "        \n",
    "        # check whether at a given time it is a bid or an ask order \n",
    "        if t in N_b:\n",
    "            if q_b[index_b] == 1:   # checking which quote to use\n",
    "                pi_b = p[price_position - 1] - s[spread_position - 1] / 2 + delta\n",
    "            else:\n",
    "                pi_b = p[price_position - 1] - s[spread_position - 1] / 2\n",
    "            X.append((X[index_x - 1] - pi_b * l_b[index_b]))    # if bid subtract cash as I bought\n",
    "            index_b =+ 1\n",
    "        else:\n",
    "            if q_a[index_a] == 1:\n",
    "                pi_a = p[price_position - 1] + s[spread_position - 1] / 2 - delta\n",
    "            else:\n",
    "                pi_a = p[price_position - 1] + s[spread_position - 1] / 2\n",
    "            X.append((X[index_x - 1] + pi_a * l_a[index_a]))  # If ask add cash as I sold\n",
    "            index_a =+ 1\n",
    "\n",
    "    return X"
   ]
  },
  {
   "cell_type": "code",
   "execution_count": 19,
   "metadata": {},
   "outputs": [],
   "source": [
    "l_a = np.random.uniform(0, 100, len(orders_a)) # ad-hoc choice of sizes of orders for ask side\n",
    "l_b = np.random.uniform(0, 100, len(orders_b)) # ad-hoc choice of sizes of orders for bid side"
   ]
  },
  {
   "cell_type": "code",
   "execution_count": 20,
   "metadata": {},
   "outputs": [],
   "source": [
    "Y_t = inventory_sim(orders_a, orders_b, l_a, l_b, Y_0)  # realisation of inventory\n",
    "X_t = cash_sim(orders_a, orders_b, l_a, l_b, X_0, delta, q_a, q_b, s_t, PPP_spread[1], p_t, t_price) # realisation of cash\n"
   ]
  },
  {
   "cell_type": "code",
   "execution_count": 21,
   "metadata": {},
   "outputs": [
    {
     "data": {
      "application/vnd.plotly.v1+json": {
       "config": {
        "plotlyServerURL": "https://plot.ly"
       },
       "data": [
        {
         "hovertemplate": "variable=0<br>index=%{x}<br>value=%{y}<extra></extra>",
         "legendgroup": "0",
         "line": {
          "color": "maroon",
          "dash": "solid"
         },
         "marker": {
          "symbol": "circle"
         },
         "mode": "lines",
         "name": "0",
         "orientation": "v",
         "showlegend": true,
         "type": "scatter",
         "x": [
          0,
          1,
          2,
          3,
          4,
          5,
          6,
          7,
          8,
          9,
          10,
          11,
          12,
          13,
          14,
          15,
          16,
          17,
          18,
          19,
          20,
          21,
          22,
          23,
          24,
          25,
          26,
          27,
          28,
          29,
          30,
          31,
          32,
          33,
          34,
          35,
          36,
          37,
          38,
          39
         ],
         "xaxis": "x",
         "y": [
          0,
          60.83957198509534,
          138.1392690833911,
          215.43896618168685,
          292.7386632799826,
          370.0383603782783,
          447.338057476574,
          524.6377545748697,
          601.9374516731655,
          679.2371487714612,
          756.5368458697569,
          833.8365429680526,
          781.4526094180051,
          858.7523065163008,
          854.5575790626496,
          931.8572761609453,
          1009.156973259241,
          1004.9622458055898,
          1082.2619429038855,
          1159.5616400021813,
          1155.36691254853,
          1151.1721850948788,
          1228.4718821931747,
          1224.2771547395234,
          1301.5768518378193,
          1378.8765489361151,
          1456.176246034411,
          1451.9815185807597,
          1447.7867911271085,
          1525.0864882254043,
          1602.3861853237001,
          1679.685882421996,
          1756.9855795202918,
          1834.2852766185877,
          1911.5849737168835,
          1907.3902462632323,
          1984.689943361528,
          2061.989640459824,
          2057.7949130061725,
          2135.0946101044683
         ],
         "yaxis": "y"
        }
       ],
       "layout": {
        "font": {
         "color": "black"
        },
        "legend": {
         "title": {
          "text": "variable"
         },
         "tracegroupgap": 0
        },
        "margin": {
         "t": 60
        },
        "paper_bgcolor": "white",
        "plot_bgcolor": "white",
        "template": {
         "data": {
          "bar": [
           {
            "error_x": {
             "color": "#2a3f5f"
            },
            "error_y": {
             "color": "#2a3f5f"
            },
            "marker": {
             "line": {
              "color": "#E5ECF6",
              "width": 0.5
             },
             "pattern": {
              "fillmode": "overlay",
              "size": 10,
              "solidity": 0.2
             }
            },
            "type": "bar"
           }
          ],
          "barpolar": [
           {
            "marker": {
             "line": {
              "color": "#E5ECF6",
              "width": 0.5
             },
             "pattern": {
              "fillmode": "overlay",
              "size": 10,
              "solidity": 0.2
             }
            },
            "type": "barpolar"
           }
          ],
          "carpet": [
           {
            "aaxis": {
             "endlinecolor": "#2a3f5f",
             "gridcolor": "white",
             "linecolor": "white",
             "minorgridcolor": "white",
             "startlinecolor": "#2a3f5f"
            },
            "baxis": {
             "endlinecolor": "#2a3f5f",
             "gridcolor": "white",
             "linecolor": "white",
             "minorgridcolor": "white",
             "startlinecolor": "#2a3f5f"
            },
            "type": "carpet"
           }
          ],
          "choropleth": [
           {
            "colorbar": {
             "outlinewidth": 0,
             "ticks": ""
            },
            "type": "choropleth"
           }
          ],
          "contour": [
           {
            "colorbar": {
             "outlinewidth": 0,
             "ticks": ""
            },
            "colorscale": [
             [
              0,
              "#0d0887"
             ],
             [
              0.1111111111111111,
              "#46039f"
             ],
             [
              0.2222222222222222,
              "#7201a8"
             ],
             [
              0.3333333333333333,
              "#9c179e"
             ],
             [
              0.4444444444444444,
              "#bd3786"
             ],
             [
              0.5555555555555556,
              "#d8576b"
             ],
             [
              0.6666666666666666,
              "#ed7953"
             ],
             [
              0.7777777777777778,
              "#fb9f3a"
             ],
             [
              0.8888888888888888,
              "#fdca26"
             ],
             [
              1,
              "#f0f921"
             ]
            ],
            "type": "contour"
           }
          ],
          "contourcarpet": [
           {
            "colorbar": {
             "outlinewidth": 0,
             "ticks": ""
            },
            "type": "contourcarpet"
           }
          ],
          "heatmap": [
           {
            "colorbar": {
             "outlinewidth": 0,
             "ticks": ""
            },
            "colorscale": [
             [
              0,
              "#0d0887"
             ],
             [
              0.1111111111111111,
              "#46039f"
             ],
             [
              0.2222222222222222,
              "#7201a8"
             ],
             [
              0.3333333333333333,
              "#9c179e"
             ],
             [
              0.4444444444444444,
              "#bd3786"
             ],
             [
              0.5555555555555556,
              "#d8576b"
             ],
             [
              0.6666666666666666,
              "#ed7953"
             ],
             [
              0.7777777777777778,
              "#fb9f3a"
             ],
             [
              0.8888888888888888,
              "#fdca26"
             ],
             [
              1,
              "#f0f921"
             ]
            ],
            "type": "heatmap"
           }
          ],
          "heatmapgl": [
           {
            "colorbar": {
             "outlinewidth": 0,
             "ticks": ""
            },
            "colorscale": [
             [
              0,
              "#0d0887"
             ],
             [
              0.1111111111111111,
              "#46039f"
             ],
             [
              0.2222222222222222,
              "#7201a8"
             ],
             [
              0.3333333333333333,
              "#9c179e"
             ],
             [
              0.4444444444444444,
              "#bd3786"
             ],
             [
              0.5555555555555556,
              "#d8576b"
             ],
             [
              0.6666666666666666,
              "#ed7953"
             ],
             [
              0.7777777777777778,
              "#fb9f3a"
             ],
             [
              0.8888888888888888,
              "#fdca26"
             ],
             [
              1,
              "#f0f921"
             ]
            ],
            "type": "heatmapgl"
           }
          ],
          "histogram": [
           {
            "marker": {
             "pattern": {
              "fillmode": "overlay",
              "size": 10,
              "solidity": 0.2
             }
            },
            "type": "histogram"
           }
          ],
          "histogram2d": [
           {
            "colorbar": {
             "outlinewidth": 0,
             "ticks": ""
            },
            "colorscale": [
             [
              0,
              "#0d0887"
             ],
             [
              0.1111111111111111,
              "#46039f"
             ],
             [
              0.2222222222222222,
              "#7201a8"
             ],
             [
              0.3333333333333333,
              "#9c179e"
             ],
             [
              0.4444444444444444,
              "#bd3786"
             ],
             [
              0.5555555555555556,
              "#d8576b"
             ],
             [
              0.6666666666666666,
              "#ed7953"
             ],
             [
              0.7777777777777778,
              "#fb9f3a"
             ],
             [
              0.8888888888888888,
              "#fdca26"
             ],
             [
              1,
              "#f0f921"
             ]
            ],
            "type": "histogram2d"
           }
          ],
          "histogram2dcontour": [
           {
            "colorbar": {
             "outlinewidth": 0,
             "ticks": ""
            },
            "colorscale": [
             [
              0,
              "#0d0887"
             ],
             [
              0.1111111111111111,
              "#46039f"
             ],
             [
              0.2222222222222222,
              "#7201a8"
             ],
             [
              0.3333333333333333,
              "#9c179e"
             ],
             [
              0.4444444444444444,
              "#bd3786"
             ],
             [
              0.5555555555555556,
              "#d8576b"
             ],
             [
              0.6666666666666666,
              "#ed7953"
             ],
             [
              0.7777777777777778,
              "#fb9f3a"
             ],
             [
              0.8888888888888888,
              "#fdca26"
             ],
             [
              1,
              "#f0f921"
             ]
            ],
            "type": "histogram2dcontour"
           }
          ],
          "mesh3d": [
           {
            "colorbar": {
             "outlinewidth": 0,
             "ticks": ""
            },
            "type": "mesh3d"
           }
          ],
          "parcoords": [
           {
            "line": {
             "colorbar": {
              "outlinewidth": 0,
              "ticks": ""
             }
            },
            "type": "parcoords"
           }
          ],
          "pie": [
           {
            "automargin": true,
            "type": "pie"
           }
          ],
          "scatter": [
           {
            "fillpattern": {
             "fillmode": "overlay",
             "size": 10,
             "solidity": 0.2
            },
            "type": "scatter"
           }
          ],
          "scatter3d": [
           {
            "line": {
             "colorbar": {
              "outlinewidth": 0,
              "ticks": ""
             }
            },
            "marker": {
             "colorbar": {
              "outlinewidth": 0,
              "ticks": ""
             }
            },
            "type": "scatter3d"
           }
          ],
          "scattercarpet": [
           {
            "marker": {
             "colorbar": {
              "outlinewidth": 0,
              "ticks": ""
             }
            },
            "type": "scattercarpet"
           }
          ],
          "scattergeo": [
           {
            "marker": {
             "colorbar": {
              "outlinewidth": 0,
              "ticks": ""
             }
            },
            "type": "scattergeo"
           }
          ],
          "scattergl": [
           {
            "marker": {
             "colorbar": {
              "outlinewidth": 0,
              "ticks": ""
             }
            },
            "type": "scattergl"
           }
          ],
          "scattermapbox": [
           {
            "marker": {
             "colorbar": {
              "outlinewidth": 0,
              "ticks": ""
             }
            },
            "type": "scattermapbox"
           }
          ],
          "scatterpolar": [
           {
            "marker": {
             "colorbar": {
              "outlinewidth": 0,
              "ticks": ""
             }
            },
            "type": "scatterpolar"
           }
          ],
          "scatterpolargl": [
           {
            "marker": {
             "colorbar": {
              "outlinewidth": 0,
              "ticks": ""
             }
            },
            "type": "scatterpolargl"
           }
          ],
          "scatterternary": [
           {
            "marker": {
             "colorbar": {
              "outlinewidth": 0,
              "ticks": ""
             }
            },
            "type": "scatterternary"
           }
          ],
          "surface": [
           {
            "colorbar": {
             "outlinewidth": 0,
             "ticks": ""
            },
            "colorscale": [
             [
              0,
              "#0d0887"
             ],
             [
              0.1111111111111111,
              "#46039f"
             ],
             [
              0.2222222222222222,
              "#7201a8"
             ],
             [
              0.3333333333333333,
              "#9c179e"
             ],
             [
              0.4444444444444444,
              "#bd3786"
             ],
             [
              0.5555555555555556,
              "#d8576b"
             ],
             [
              0.6666666666666666,
              "#ed7953"
             ],
             [
              0.7777777777777778,
              "#fb9f3a"
             ],
             [
              0.8888888888888888,
              "#fdca26"
             ],
             [
              1,
              "#f0f921"
             ]
            ],
            "type": "surface"
           }
          ],
          "table": [
           {
            "cells": {
             "fill": {
              "color": "#EBF0F8"
             },
             "line": {
              "color": "white"
             }
            },
            "header": {
             "fill": {
              "color": "#C8D4E3"
             },
             "line": {
              "color": "white"
             }
            },
            "type": "table"
           }
          ]
         },
         "layout": {
          "annotationdefaults": {
           "arrowcolor": "#2a3f5f",
           "arrowhead": 0,
           "arrowwidth": 1
          },
          "autotypenumbers": "strict",
          "coloraxis": {
           "colorbar": {
            "outlinewidth": 0,
            "ticks": ""
           }
          },
          "colorscale": {
           "diverging": [
            [
             0,
             "#8e0152"
            ],
            [
             0.1,
             "#c51b7d"
            ],
            [
             0.2,
             "#de77ae"
            ],
            [
             0.3,
             "#f1b6da"
            ],
            [
             0.4,
             "#fde0ef"
            ],
            [
             0.5,
             "#f7f7f7"
            ],
            [
             0.6,
             "#e6f5d0"
            ],
            [
             0.7,
             "#b8e186"
            ],
            [
             0.8,
             "#7fbc41"
            ],
            [
             0.9,
             "#4d9221"
            ],
            [
             1,
             "#276419"
            ]
           ],
           "sequential": [
            [
             0,
             "#0d0887"
            ],
            [
             0.1111111111111111,
             "#46039f"
            ],
            [
             0.2222222222222222,
             "#7201a8"
            ],
            [
             0.3333333333333333,
             "#9c179e"
            ],
            [
             0.4444444444444444,
             "#bd3786"
            ],
            [
             0.5555555555555556,
             "#d8576b"
            ],
            [
             0.6666666666666666,
             "#ed7953"
            ],
            [
             0.7777777777777778,
             "#fb9f3a"
            ],
            [
             0.8888888888888888,
             "#fdca26"
            ],
            [
             1,
             "#f0f921"
            ]
           ],
           "sequentialminus": [
            [
             0,
             "#0d0887"
            ],
            [
             0.1111111111111111,
             "#46039f"
            ],
            [
             0.2222222222222222,
             "#7201a8"
            ],
            [
             0.3333333333333333,
             "#9c179e"
            ],
            [
             0.4444444444444444,
             "#bd3786"
            ],
            [
             0.5555555555555556,
             "#d8576b"
            ],
            [
             0.6666666666666666,
             "#ed7953"
            ],
            [
             0.7777777777777778,
             "#fb9f3a"
            ],
            [
             0.8888888888888888,
             "#fdca26"
            ],
            [
             1,
             "#f0f921"
            ]
           ]
          },
          "colorway": [
           "#636efa",
           "#EF553B",
           "#00cc96",
           "#ab63fa",
           "#FFA15A",
           "#19d3f3",
           "#FF6692",
           "#B6E880",
           "#FF97FF",
           "#FECB52"
          ],
          "font": {
           "color": "#2a3f5f"
          },
          "geo": {
           "bgcolor": "white",
           "lakecolor": "white",
           "landcolor": "#E5ECF6",
           "showlakes": true,
           "showland": true,
           "subunitcolor": "white"
          },
          "hoverlabel": {
           "align": "left"
          },
          "hovermode": "closest",
          "mapbox": {
           "style": "light"
          },
          "paper_bgcolor": "white",
          "plot_bgcolor": "#E5ECF6",
          "polar": {
           "angularaxis": {
            "gridcolor": "white",
            "linecolor": "white",
            "ticks": ""
           },
           "bgcolor": "#E5ECF6",
           "radialaxis": {
            "gridcolor": "white",
            "linecolor": "white",
            "ticks": ""
           }
          },
          "scene": {
           "xaxis": {
            "backgroundcolor": "#E5ECF6",
            "gridcolor": "white",
            "gridwidth": 2,
            "linecolor": "white",
            "showbackground": true,
            "ticks": "",
            "zerolinecolor": "white"
           },
           "yaxis": {
            "backgroundcolor": "#E5ECF6",
            "gridcolor": "white",
            "gridwidth": 2,
            "linecolor": "white",
            "showbackground": true,
            "ticks": "",
            "zerolinecolor": "white"
           },
           "zaxis": {
            "backgroundcolor": "#E5ECF6",
            "gridcolor": "white",
            "gridwidth": 2,
            "linecolor": "white",
            "showbackground": true,
            "ticks": "",
            "zerolinecolor": "white"
           }
          },
          "shapedefaults": {
           "line": {
            "color": "#2a3f5f"
           }
          },
          "ternary": {
           "aaxis": {
            "gridcolor": "white",
            "linecolor": "white",
            "ticks": ""
           },
           "baxis": {
            "gridcolor": "white",
            "linecolor": "white",
            "ticks": ""
           },
           "bgcolor": "#E5ECF6",
           "caxis": {
            "gridcolor": "white",
            "linecolor": "white",
            "ticks": ""
           }
          },
          "title": {
           "x": 0.05
          },
          "xaxis": {
           "automargin": true,
           "gridcolor": "white",
           "linecolor": "white",
           "ticks": "",
           "title": {
            "standoff": 15
           },
           "zerolinecolor": "white",
           "zerolinewidth": 2
          },
          "yaxis": {
           "automargin": true,
           "gridcolor": "white",
           "linecolor": "white",
           "ticks": "",
           "title": {
            "standoff": 15
           },
           "zerolinecolor": "white",
           "zerolinewidth": 2
          }
         }
        },
        "title": {
         "text": "Inventory evolution",
         "x": 0.5
        },
        "xaxis": {
         "anchor": "y",
         "color": "black",
         "domain": [
          0,
          1
         ],
         "gridcolor": "black",
         "tickcolor": "black",
         "title": {
          "text": "Index"
         }
        },
        "yaxis": {
         "anchor": "x",
         "color": "black",
         "domain": [
          0,
          1
         ],
         "gridcolor": "black",
         "tickcolor": "black",
         "title": {
          "text": "Y"
         }
        }
       }
      }
     },
     "metadata": {},
     "output_type": "display_data"
    }
   ],
   "source": [
    "fig = px.line(Y_t)\n",
    "fig.update_traces(line_color = \"maroon\")\n",
    "\n",
    "fig.update_layout(\n",
    "    title_text=\"Inventory evolution\",\n",
    "    title_x=0.5,\n",
    "    plot_bgcolor='white',  # set background color to white\n",
    "    paper_bgcolor='white',  # set background color to white\n",
    "    font=dict(color='black'),  # set font color to black\n",
    "    xaxis=dict(title_text=\"Index\", color='black', tickcolor='black', gridcolor='black'),  # set x-axis color, tick color, grid color, and grid width\n",
    "    yaxis=dict(title_text=\"Y\", color='black', tickcolor='black', gridcolor='black'),  # set y-axis color, tick color, grid color, and grid width\n",
    ")\n",
    "\n",
    "fig.show()"
   ]
  },
  {
   "cell_type": "code",
   "execution_count": 22,
   "metadata": {},
   "outputs": [
    {
     "data": {
      "application/vnd.plotly.v1+json": {
       "config": {
        "plotlyServerURL": "https://plot.ly"
       },
       "data": [
        {
         "hovertemplate": "variable=0<br>index=%{x}<br>value=%{y}<extra></extra>",
         "legendgroup": "0",
         "line": {
          "color": "maroon",
          "dash": "solid"
         },
         "marker": {
          "symbol": "circle"
         },
         "mode": "lines",
         "name": "0",
         "orientation": "v",
         "showlegend": true,
         "type": "scatter",
         "x": [
          0,
          1,
          2,
          3,
          4,
          5,
          6,
          7,
          8,
          9,
          10,
          11,
          12,
          13,
          14,
          15,
          16,
          17,
          18,
          19,
          20,
          21,
          22,
          23,
          24,
          25,
          26,
          27,
          28,
          29,
          30,
          31,
          32,
          33,
          34,
          35,
          36,
          37,
          38,
          39
         ],
         "xaxis": "x",
         "y": [
          0,
          -3937.4099269294275,
          -8417.650053944015,
          -12897.890180958602,
          -17360.903282752333,
          -21823.916384546064,
          -26290.515105341034,
          -30756.292918894895,
          -35212.63760502034,
          -39668.98229114578,
          -44116.374008894025,
          -48563.76572664227,
          -48133.273312745725,
          -52592.86988056653,
          -48264.21338323655,
          -52790.73559747636,
          -57317.257811716176,
          -52864.13473705528,
          -57423.845554838714,
          -61983.556372622144,
          -57564.55766850292,
          -53169.10799564749,
          -57662.04980101883,
          -53310.853421897424,
          -57791.330922238696,
          -62271.80842257997,
          -66782.7912599181,
          -62405.09144070857,
          -58040.256954724835,
          -62519.18374606826,
          -67001.73900324303,
          -71477.91090576336,
          -75954.0828082837,
          -80449.01178196704,
          -84943.94075565039,
          -80570.8011736358,
          -85042.7745532428,
          -89458.69924111034,
          -85174.62011661983,
          -89593.45811741374
         ],
         "yaxis": "y"
        }
       ],
       "layout": {
        "font": {
         "color": "black"
        },
        "legend": {
         "title": {
          "text": "variable"
         },
         "tracegroupgap": 0
        },
        "margin": {
         "t": 60
        },
        "paper_bgcolor": "white",
        "plot_bgcolor": "white",
        "template": {
         "data": {
          "bar": [
           {
            "error_x": {
             "color": "#2a3f5f"
            },
            "error_y": {
             "color": "#2a3f5f"
            },
            "marker": {
             "line": {
              "color": "#E5ECF6",
              "width": 0.5
             },
             "pattern": {
              "fillmode": "overlay",
              "size": 10,
              "solidity": 0.2
             }
            },
            "type": "bar"
           }
          ],
          "barpolar": [
           {
            "marker": {
             "line": {
              "color": "#E5ECF6",
              "width": 0.5
             },
             "pattern": {
              "fillmode": "overlay",
              "size": 10,
              "solidity": 0.2
             }
            },
            "type": "barpolar"
           }
          ],
          "carpet": [
           {
            "aaxis": {
             "endlinecolor": "#2a3f5f",
             "gridcolor": "white",
             "linecolor": "white",
             "minorgridcolor": "white",
             "startlinecolor": "#2a3f5f"
            },
            "baxis": {
             "endlinecolor": "#2a3f5f",
             "gridcolor": "white",
             "linecolor": "white",
             "minorgridcolor": "white",
             "startlinecolor": "#2a3f5f"
            },
            "type": "carpet"
           }
          ],
          "choropleth": [
           {
            "colorbar": {
             "outlinewidth": 0,
             "ticks": ""
            },
            "type": "choropleth"
           }
          ],
          "contour": [
           {
            "colorbar": {
             "outlinewidth": 0,
             "ticks": ""
            },
            "colorscale": [
             [
              0,
              "#0d0887"
             ],
             [
              0.1111111111111111,
              "#46039f"
             ],
             [
              0.2222222222222222,
              "#7201a8"
             ],
             [
              0.3333333333333333,
              "#9c179e"
             ],
             [
              0.4444444444444444,
              "#bd3786"
             ],
             [
              0.5555555555555556,
              "#d8576b"
             ],
             [
              0.6666666666666666,
              "#ed7953"
             ],
             [
              0.7777777777777778,
              "#fb9f3a"
             ],
             [
              0.8888888888888888,
              "#fdca26"
             ],
             [
              1,
              "#f0f921"
             ]
            ],
            "type": "contour"
           }
          ],
          "contourcarpet": [
           {
            "colorbar": {
             "outlinewidth": 0,
             "ticks": ""
            },
            "type": "contourcarpet"
           }
          ],
          "heatmap": [
           {
            "colorbar": {
             "outlinewidth": 0,
             "ticks": ""
            },
            "colorscale": [
             [
              0,
              "#0d0887"
             ],
             [
              0.1111111111111111,
              "#46039f"
             ],
             [
              0.2222222222222222,
              "#7201a8"
             ],
             [
              0.3333333333333333,
              "#9c179e"
             ],
             [
              0.4444444444444444,
              "#bd3786"
             ],
             [
              0.5555555555555556,
              "#d8576b"
             ],
             [
              0.6666666666666666,
              "#ed7953"
             ],
             [
              0.7777777777777778,
              "#fb9f3a"
             ],
             [
              0.8888888888888888,
              "#fdca26"
             ],
             [
              1,
              "#f0f921"
             ]
            ],
            "type": "heatmap"
           }
          ],
          "heatmapgl": [
           {
            "colorbar": {
             "outlinewidth": 0,
             "ticks": ""
            },
            "colorscale": [
             [
              0,
              "#0d0887"
             ],
             [
              0.1111111111111111,
              "#46039f"
             ],
             [
              0.2222222222222222,
              "#7201a8"
             ],
             [
              0.3333333333333333,
              "#9c179e"
             ],
             [
              0.4444444444444444,
              "#bd3786"
             ],
             [
              0.5555555555555556,
              "#d8576b"
             ],
             [
              0.6666666666666666,
              "#ed7953"
             ],
             [
              0.7777777777777778,
              "#fb9f3a"
             ],
             [
              0.8888888888888888,
              "#fdca26"
             ],
             [
              1,
              "#f0f921"
             ]
            ],
            "type": "heatmapgl"
           }
          ],
          "histogram": [
           {
            "marker": {
             "pattern": {
              "fillmode": "overlay",
              "size": 10,
              "solidity": 0.2
             }
            },
            "type": "histogram"
           }
          ],
          "histogram2d": [
           {
            "colorbar": {
             "outlinewidth": 0,
             "ticks": ""
            },
            "colorscale": [
             [
              0,
              "#0d0887"
             ],
             [
              0.1111111111111111,
              "#46039f"
             ],
             [
              0.2222222222222222,
              "#7201a8"
             ],
             [
              0.3333333333333333,
              "#9c179e"
             ],
             [
              0.4444444444444444,
              "#bd3786"
             ],
             [
              0.5555555555555556,
              "#d8576b"
             ],
             [
              0.6666666666666666,
              "#ed7953"
             ],
             [
              0.7777777777777778,
              "#fb9f3a"
             ],
             [
              0.8888888888888888,
              "#fdca26"
             ],
             [
              1,
              "#f0f921"
             ]
            ],
            "type": "histogram2d"
           }
          ],
          "histogram2dcontour": [
           {
            "colorbar": {
             "outlinewidth": 0,
             "ticks": ""
            },
            "colorscale": [
             [
              0,
              "#0d0887"
             ],
             [
              0.1111111111111111,
              "#46039f"
             ],
             [
              0.2222222222222222,
              "#7201a8"
             ],
             [
              0.3333333333333333,
              "#9c179e"
             ],
             [
              0.4444444444444444,
              "#bd3786"
             ],
             [
              0.5555555555555556,
              "#d8576b"
             ],
             [
              0.6666666666666666,
              "#ed7953"
             ],
             [
              0.7777777777777778,
              "#fb9f3a"
             ],
             [
              0.8888888888888888,
              "#fdca26"
             ],
             [
              1,
              "#f0f921"
             ]
            ],
            "type": "histogram2dcontour"
           }
          ],
          "mesh3d": [
           {
            "colorbar": {
             "outlinewidth": 0,
             "ticks": ""
            },
            "type": "mesh3d"
           }
          ],
          "parcoords": [
           {
            "line": {
             "colorbar": {
              "outlinewidth": 0,
              "ticks": ""
             }
            },
            "type": "parcoords"
           }
          ],
          "pie": [
           {
            "automargin": true,
            "type": "pie"
           }
          ],
          "scatter": [
           {
            "fillpattern": {
             "fillmode": "overlay",
             "size": 10,
             "solidity": 0.2
            },
            "type": "scatter"
           }
          ],
          "scatter3d": [
           {
            "line": {
             "colorbar": {
              "outlinewidth": 0,
              "ticks": ""
             }
            },
            "marker": {
             "colorbar": {
              "outlinewidth": 0,
              "ticks": ""
             }
            },
            "type": "scatter3d"
           }
          ],
          "scattercarpet": [
           {
            "marker": {
             "colorbar": {
              "outlinewidth": 0,
              "ticks": ""
             }
            },
            "type": "scattercarpet"
           }
          ],
          "scattergeo": [
           {
            "marker": {
             "colorbar": {
              "outlinewidth": 0,
              "ticks": ""
             }
            },
            "type": "scattergeo"
           }
          ],
          "scattergl": [
           {
            "marker": {
             "colorbar": {
              "outlinewidth": 0,
              "ticks": ""
             }
            },
            "type": "scattergl"
           }
          ],
          "scattermapbox": [
           {
            "marker": {
             "colorbar": {
              "outlinewidth": 0,
              "ticks": ""
             }
            },
            "type": "scattermapbox"
           }
          ],
          "scatterpolar": [
           {
            "marker": {
             "colorbar": {
              "outlinewidth": 0,
              "ticks": ""
             }
            },
            "type": "scatterpolar"
           }
          ],
          "scatterpolargl": [
           {
            "marker": {
             "colorbar": {
              "outlinewidth": 0,
              "ticks": ""
             }
            },
            "type": "scatterpolargl"
           }
          ],
          "scatterternary": [
           {
            "marker": {
             "colorbar": {
              "outlinewidth": 0,
              "ticks": ""
             }
            },
            "type": "scatterternary"
           }
          ],
          "surface": [
           {
            "colorbar": {
             "outlinewidth": 0,
             "ticks": ""
            },
            "colorscale": [
             [
              0,
              "#0d0887"
             ],
             [
              0.1111111111111111,
              "#46039f"
             ],
             [
              0.2222222222222222,
              "#7201a8"
             ],
             [
              0.3333333333333333,
              "#9c179e"
             ],
             [
              0.4444444444444444,
              "#bd3786"
             ],
             [
              0.5555555555555556,
              "#d8576b"
             ],
             [
              0.6666666666666666,
              "#ed7953"
             ],
             [
              0.7777777777777778,
              "#fb9f3a"
             ],
             [
              0.8888888888888888,
              "#fdca26"
             ],
             [
              1,
              "#f0f921"
             ]
            ],
            "type": "surface"
           }
          ],
          "table": [
           {
            "cells": {
             "fill": {
              "color": "#EBF0F8"
             },
             "line": {
              "color": "white"
             }
            },
            "header": {
             "fill": {
              "color": "#C8D4E3"
             },
             "line": {
              "color": "white"
             }
            },
            "type": "table"
           }
          ]
         },
         "layout": {
          "annotationdefaults": {
           "arrowcolor": "#2a3f5f",
           "arrowhead": 0,
           "arrowwidth": 1
          },
          "autotypenumbers": "strict",
          "coloraxis": {
           "colorbar": {
            "outlinewidth": 0,
            "ticks": ""
           }
          },
          "colorscale": {
           "diverging": [
            [
             0,
             "#8e0152"
            ],
            [
             0.1,
             "#c51b7d"
            ],
            [
             0.2,
             "#de77ae"
            ],
            [
             0.3,
             "#f1b6da"
            ],
            [
             0.4,
             "#fde0ef"
            ],
            [
             0.5,
             "#f7f7f7"
            ],
            [
             0.6,
             "#e6f5d0"
            ],
            [
             0.7,
             "#b8e186"
            ],
            [
             0.8,
             "#7fbc41"
            ],
            [
             0.9,
             "#4d9221"
            ],
            [
             1,
             "#276419"
            ]
           ],
           "sequential": [
            [
             0,
             "#0d0887"
            ],
            [
             0.1111111111111111,
             "#46039f"
            ],
            [
             0.2222222222222222,
             "#7201a8"
            ],
            [
             0.3333333333333333,
             "#9c179e"
            ],
            [
             0.4444444444444444,
             "#bd3786"
            ],
            [
             0.5555555555555556,
             "#d8576b"
            ],
            [
             0.6666666666666666,
             "#ed7953"
            ],
            [
             0.7777777777777778,
             "#fb9f3a"
            ],
            [
             0.8888888888888888,
             "#fdca26"
            ],
            [
             1,
             "#f0f921"
            ]
           ],
           "sequentialminus": [
            [
             0,
             "#0d0887"
            ],
            [
             0.1111111111111111,
             "#46039f"
            ],
            [
             0.2222222222222222,
             "#7201a8"
            ],
            [
             0.3333333333333333,
             "#9c179e"
            ],
            [
             0.4444444444444444,
             "#bd3786"
            ],
            [
             0.5555555555555556,
             "#d8576b"
            ],
            [
             0.6666666666666666,
             "#ed7953"
            ],
            [
             0.7777777777777778,
             "#fb9f3a"
            ],
            [
             0.8888888888888888,
             "#fdca26"
            ],
            [
             1,
             "#f0f921"
            ]
           ]
          },
          "colorway": [
           "#636efa",
           "#EF553B",
           "#00cc96",
           "#ab63fa",
           "#FFA15A",
           "#19d3f3",
           "#FF6692",
           "#B6E880",
           "#FF97FF",
           "#FECB52"
          ],
          "font": {
           "color": "#2a3f5f"
          },
          "geo": {
           "bgcolor": "white",
           "lakecolor": "white",
           "landcolor": "#E5ECF6",
           "showlakes": true,
           "showland": true,
           "subunitcolor": "white"
          },
          "hoverlabel": {
           "align": "left"
          },
          "hovermode": "closest",
          "mapbox": {
           "style": "light"
          },
          "paper_bgcolor": "white",
          "plot_bgcolor": "#E5ECF6",
          "polar": {
           "angularaxis": {
            "gridcolor": "white",
            "linecolor": "white",
            "ticks": ""
           },
           "bgcolor": "#E5ECF6",
           "radialaxis": {
            "gridcolor": "white",
            "linecolor": "white",
            "ticks": ""
           }
          },
          "scene": {
           "xaxis": {
            "backgroundcolor": "#E5ECF6",
            "gridcolor": "white",
            "gridwidth": 2,
            "linecolor": "white",
            "showbackground": true,
            "ticks": "",
            "zerolinecolor": "white"
           },
           "yaxis": {
            "backgroundcolor": "#E5ECF6",
            "gridcolor": "white",
            "gridwidth": 2,
            "linecolor": "white",
            "showbackground": true,
            "ticks": "",
            "zerolinecolor": "white"
           },
           "zaxis": {
            "backgroundcolor": "#E5ECF6",
            "gridcolor": "white",
            "gridwidth": 2,
            "linecolor": "white",
            "showbackground": true,
            "ticks": "",
            "zerolinecolor": "white"
           }
          },
          "shapedefaults": {
           "line": {
            "color": "#2a3f5f"
           }
          },
          "ternary": {
           "aaxis": {
            "gridcolor": "white",
            "linecolor": "white",
            "ticks": ""
           },
           "baxis": {
            "gridcolor": "white",
            "linecolor": "white",
            "ticks": ""
           },
           "bgcolor": "#E5ECF6",
           "caxis": {
            "gridcolor": "white",
            "linecolor": "white",
            "ticks": ""
           }
          },
          "title": {
           "x": 0.05
          },
          "xaxis": {
           "automargin": true,
           "gridcolor": "white",
           "linecolor": "white",
           "ticks": "",
           "title": {
            "standoff": 15
           },
           "zerolinecolor": "white",
           "zerolinewidth": 2
          },
          "yaxis": {
           "automargin": true,
           "gridcolor": "white",
           "linecolor": "white",
           "ticks": "",
           "title": {
            "standoff": 15
           },
           "zerolinecolor": "white",
           "zerolinewidth": 2
          }
         }
        },
        "title": {
         "text": "Cash evolution",
         "x": 0.5
        },
        "xaxis": {
         "anchor": "y",
         "color": "black",
         "domain": [
          0,
          1
         ],
         "gridcolor": "black",
         "tickcolor": "black",
         "title": {
          "text": "Index"
         }
        },
        "yaxis": {
         "anchor": "x",
         "color": "black",
         "domain": [
          0,
          1
         ],
         "gridcolor": "black",
         "tickcolor": "black",
         "title": {
          "text": "X"
         }
        }
       }
      }
     },
     "metadata": {},
     "output_type": "display_data"
    }
   ],
   "source": [
    "fig = px.line(X_t)\n",
    "fig.update_traces(line_color = \"maroon\")\n",
    "fig.update_layout(\n",
    "    title_text=\"Cash evolution\",\n",
    "    title_x=0.5,\n",
    "    plot_bgcolor='white',  # set background color to white\n",
    "    paper_bgcolor='white',  # set background color to white\n",
    "    font=dict(color='black'),  # set font color to black\n",
    "    xaxis=dict(title_text=\"Index\", color='black', tickcolor='black', gridcolor='black'),  # set x-axis color, tick color, grid color, and grid width\n",
    "    yaxis=dict(title_text=\"X\", color='black', tickcolor='black', gridcolor='black'),  # set y-axis color, tick color, grid color, and grid width\n",
    ")\n",
    "\n",
    "fig.show()"
   ]
  },
  {
   "cell_type": "markdown",
   "metadata": {},
   "source": [
    "# Implementation of strategies"
   ]
  },
  {
   "cell_type": "code",
   "execution_count": 23,
   "metadata": {},
   "outputs": [],
   "source": [
    "def Monte_Carlo_path(q_a_opt, q_b_opt, l_a_opt, l_b_opt, lambda_max, intensity_matrix, T, dt, X_0, Y_0, P_0, b, sigma, delta, l_const, initial_state_spread, spread_values, transition_matrix, intensity_spread, strategy):\n",
    "    \n",
    "    # spread\n",
    "\n",
    "    PPP_spread = poisson_point_process_sim(intensity_spread, T)   # realisation of tick time clock process - number and arrival times\n",
    "    spread_simulated = spread_sim(0, spread_values, T, transition_matrix, PPP_spread[0])   # simulated spread positions\n",
    "    s_t = np.array([spread_values[i] for i in spread_simulated])   # simulated spread values\n",
    "\n",
    "    # execution of orders\n",
    "\n",
    "    lambda_max = np.max(intensity_matrix) \n",
    "    intensity_orders_simulation = poisson_point_process_sim(np.max(lambda_max), T) # simulation of the poisson process with maximum lambda as intensity\n",
    "\n",
    "    if strategy == \"random\":\n",
    "        q_a = np.random.binomial(1, 0.5, len(intensity_orders_simulation[1]))  # choice of quotes for ask\n",
    "        q_b = np.random.binomial(1, 0.5, len(intensity_orders_simulation[1]))  # choice of quotes for bid\n",
    "    elif strategy == \"constant\":\n",
    "        q_a = np.repeat(0, len(intensity_orders_simulation[1]))  # choice of quotes for ask\n",
    "        q_b = np.repeat(0, len(intensity_orders_simulation[1]))  # choice of quotes for bid\n",
    "    elif strategy == \"womo\":\n",
    "        q_a = q_a_opt # choice of quotes for ask\n",
    "        q_a = q_b_opt  # choice of quotes for bid\n",
    "\n",
    "    orders_a_simulated = orders_simulaton(intensity_matrix, PPP_spread[1], spread_simulated, lambda_max, intensity_orders_simulation[1], q_a)\n",
    "    orders_b_simulated = orders_simulaton(intensity_matrix, PPP_spread[1], spread_simulated, lambda_max, intensity_orders_simulation[1], q_b)\n",
    "\n",
    "    orders_a = orders_a_simulated[0]  # final arrival times of ask orders\n",
    "    orders_b = orders_b_simulated[0]  # final arrival times of bid orders\n",
    "    q_a = orders_a_simulated[1]  # final quotes of ask orders at arrival times\n",
    "    q_b = orders_b_simulated[1]  # final quotes of bid orders at arrival times\n",
    "\n",
    "    # price\n",
    "\n",
    "    W_t = np.cumsum(np.concatenate(([0], np.random.normal(0, np.sqrt(T * dt), int(1 / dt))))) # simulation of Brownian motion between subsequent times (variance equal to time difference)\n",
    "    t_price = np.arange(0, T + T * dt / 2, T * dt) \n",
    "\n",
    "    p_t = price_sim(b, P_0, t_price, sigma, np.array(W_t))  # final price process\n",
    "\n",
    "    # the choice of sizes of trades\n",
    "\n",
    "    if strategy == \"womo\":\n",
    "        to_do = 1  # will fill in with optimal l\n",
    "    else:\n",
    "        l_a = np.repeat(l_const, len(orders_a))\n",
    "        l_b = np.repeat(l_const, len(orders_b))\n",
    "\n",
    "    # cash and inventory\n",
    "\n",
    "    Y_t = inventory_sim(orders_a, orders_b, l_a, l_b, Y_0)  # realisation of inventory\n",
    "    X_t = cash_sim(orders_a, orders_b, l_a, l_b, X_0, delta, q_a, q_b, s_t, PPP_spread[1], p_t, t_price) # realisation of cash\n",
    "\n",
    "    return Y_t[-1], X_t[-1], orders_a, orders_b, max(Y_t)"
   ]
  },
  {
   "cell_type": "markdown",
   "metadata": {},
   "source": [
    "## Random Strategy"
   ]
  },
  {
   "cell_type": "code",
   "execution_count": 25,
   "metadata": {},
   "outputs": [],
   "source": [
    "lambda_max = np.max(intensity_matrix_sym)  # maximum lambda serving as a reference for acceptance probability\n",
    "intensity_orders_simulation = poisson_point_process_sim(np.max(lambda_max), T) # simulation of the poisson process with maximum lambda as intensity\n",
    "\n",
    "q_a_initial = np.random.binomial(1, 0.5, len(intensity_orders_simulation[1]))  # ad-hoc choice of quotes for ask\n",
    "q_b_initial = np.random.binomial(1, 0.5, len(intensity_orders_simulation[1]))  # ad-hoc choice of quotes for bid"
   ]
  },
  {
   "cell_type": "code",
   "execution_count": 28,
   "metadata": {},
   "outputs": [],
   "source": [
    "n = 1000 # number of paths\n",
    "\n",
    "arr_res_Y_rand = [None] * n\n",
    "arr_res_X_rand = [None] * n\n",
    "arr_res_or_a_rand = [None] * n\n",
    "arr_res_or_b_rand = [None] * n\n",
    "arr_res_max_Y_rand = [None] * n\n",
    "\n",
    "\n",
    "for i in range(n):\n",
    "    res_acc = Monte_Carlo_path(q_a_initial, q_b_initial, l_a, l_b, lambda_max, intensity_matrix_sym, T, dt, X_0, Y_0, P_0, b, sigma, delta, l_const, 0, spread_values, prob_matrix, intensity, \"random\")\n",
    "    \n",
    "    arr_res_Y_rand[i] = res_acc[0]\n",
    "    arr_res_X_rand[i] = res_acc[1]\n",
    "    arr_res_or_a_rand[i] = res_acc[2]\n",
    "    arr_res_or_b_rand[i] = res_acc[3]\n",
    "    arr_res_max_Y_rand[i] = res_acc[4]"
   ]
  },
  {
   "cell_type": "code",
   "execution_count": 42,
   "metadata": {},
   "outputs": [
    {
     "data": {
      "text/plain": [
       "2435.557167949537"
      ]
     },
     "execution_count": 42,
     "metadata": {},
     "output_type": "execute_result"
    }
   ],
   "source": [
    "m_XT_rand = np.mean(arr_res_X_rand)\n",
    "std_XT_rand = np.std(arr_res_X_rand)\n",
    "m_sup_Y_rand = np.mean(arr_res_max_Y_rand)\n",
    "\n",
    "m_sup_Y_rand"
   ]
  },
  {
   "cell_type": "markdown",
   "metadata": {},
   "source": [
    "## Constant Strategy"
   ]
  },
  {
   "cell_type": "markdown",
   "metadata": {},
   "source": [
    "In order to do the strategies simulation we have to do as follows for each of the 1000 paths: \n",
    "1) simulate values for price and spread. \n",
    "2) simulate orders_a, orders_b based on the choice of spread q_a, q_b\n",
    "3) simulate l_a, l_b\n",
    "4) multiply l times price, corrected by spread (and tick if q == 1)\n",
    "5) calculate cash and inventory"
   ]
  },
  {
   "cell_type": "code",
   "execution_count": 34,
   "metadata": {},
   "outputs": [],
   "source": [
    "n = 1000 # number of paths\n",
    "\n",
    "arr_res_Y_const = [None] * n\n",
    "arr_res_X_const = [None] * n\n",
    "arr_res_or_a_const = [None] * n\n",
    "arr_res_or_b_const = [None] * n\n",
    "arr_res_max_Y_const = [None] * n\n",
    "\n",
    "\n",
    "for i in range(n):\n",
    "    res_acc = Monte_Carlo_path(q_a_initial, q_b_initial, l_a, l_b, lambda_max, intensity_matrix_sym, T, dt, X_0, Y_0, P_0, b, sigma, delta, l_const, 0, spread_values, prob_matrix, intensity, \"constant\")\n",
    "    \n",
    "    arr_res_Y_const[i] = res_acc[0]\n",
    "    arr_res_X_const[i] = res_acc[1]\n",
    "    arr_res_or_a_const[i] = res_acc[2]\n",
    "    arr_res_or_b_const[i] = res_acc[3]\n",
    "    arr_res_max_Y_const[i] = res_acc"
   ]
  },
  {
   "cell_type": "code",
   "execution_count": 41,
   "metadata": {},
   "outputs": [
    {
     "data": {
      "text/plain": [
       "30008.945020324565"
      ]
     },
     "execution_count": 41,
     "metadata": {},
     "output_type": "execute_result"
    }
   ],
   "source": [
    "m_XT_cst = np.mean(arr_res_X_const)\n",
    "std_XT_cst = np.std(arr_res_X_const)\n",
    "\n",
    "std_XT_cst"
   ]
  },
  {
   "cell_type": "code",
   "execution_count": null,
   "metadata": {},
   "outputs": [],
   "source": []
  },
  {
   "cell_type": "markdown",
   "metadata": {},
   "source": [
    "## Optimal strategy without market orders (WOMO)"
   ]
  },
  {
   "cell_type": "code",
   "execution_count": 35,
   "metadata": {},
   "outputs": [
    {
     "ename": "IndexError",
     "evalue": "index 52 is out of bounds for axis 0 with size 52",
     "output_type": "error",
     "traceback": [
      "\u001b[1;31m---------------------------------------------------------------------------\u001b[0m",
      "\u001b[1;31mIndexError\u001b[0m                                Traceback (most recent call last)",
      "Cell \u001b[1;32mIn[35], line 11\u001b[0m\n\u001b[0;32m      7\u001b[0m arr_res_max_Y_womo \u001b[38;5;241m=\u001b[39m [\u001b[38;5;28;01mNone\u001b[39;00m] \u001b[38;5;241m*\u001b[39m n\n\u001b[0;32m     10\u001b[0m \u001b[38;5;28;01mfor\u001b[39;00m i \u001b[38;5;129;01min\u001b[39;00m \u001b[38;5;28mrange\u001b[39m(n):\n\u001b[1;32m---> 11\u001b[0m     res_acc \u001b[38;5;241m=\u001b[39m \u001b[43mMonte_Carlo_path\u001b[49m\u001b[43m(\u001b[49m\u001b[43mq_a_initial\u001b[49m\u001b[43m,\u001b[49m\u001b[43m \u001b[49m\u001b[43mq_b_initial\u001b[49m\u001b[43m,\u001b[49m\u001b[43m \u001b[49m\u001b[43ml_a\u001b[49m\u001b[43m,\u001b[49m\u001b[43m \u001b[49m\u001b[43ml_b\u001b[49m\u001b[43m,\u001b[49m\u001b[43m \u001b[49m\u001b[43mlambda_max\u001b[49m\u001b[43m,\u001b[49m\u001b[43m \u001b[49m\u001b[43mintensity_matrix_sym\u001b[49m\u001b[43m,\u001b[49m\u001b[43m \u001b[49m\u001b[43mT\u001b[49m\u001b[43m,\u001b[49m\u001b[43m \u001b[49m\u001b[43mdt\u001b[49m\u001b[43m,\u001b[49m\u001b[43m \u001b[49m\u001b[43mX_0\u001b[49m\u001b[43m,\u001b[49m\u001b[43m \u001b[49m\u001b[43mY_0\u001b[49m\u001b[43m,\u001b[49m\u001b[43m \u001b[49m\u001b[43mP_0\u001b[49m\u001b[43m,\u001b[49m\u001b[43m \u001b[49m\u001b[43mb\u001b[49m\u001b[43m,\u001b[49m\u001b[43m \u001b[49m\u001b[43msigma\u001b[49m\u001b[43m,\u001b[49m\u001b[43m \u001b[49m\u001b[43mdelta\u001b[49m\u001b[43m,\u001b[49m\u001b[43m \u001b[49m\u001b[43ml_const\u001b[49m\u001b[43m,\u001b[49m\u001b[43m \u001b[49m\u001b[38;5;241;43m0\u001b[39;49m\u001b[43m,\u001b[49m\u001b[43m \u001b[49m\u001b[43mspread_values\u001b[49m\u001b[43m,\u001b[49m\u001b[43m \u001b[49m\u001b[43mprob_matrix\u001b[49m\u001b[43m,\u001b[49m\u001b[43m \u001b[49m\u001b[43mintensity\u001b[49m\u001b[43m,\u001b[49m\u001b[43m \u001b[49m\u001b[38;5;124;43m\"\u001b[39;49m\u001b[38;5;124;43mwomo\u001b[39;49m\u001b[38;5;124;43m\"\u001b[39;49m\u001b[43m)\u001b[49m\n\u001b[0;32m     13\u001b[0m     arr_res_Y_womo[i] \u001b[38;5;241m=\u001b[39m res_acc[\u001b[38;5;241m0\u001b[39m]\n\u001b[0;32m     14\u001b[0m     arr_res_X_womo[i] \u001b[38;5;241m=\u001b[39m res_acc[\u001b[38;5;241m1\u001b[39m]\n",
      "Cell \u001b[1;32mIn[23], line 24\u001b[0m, in \u001b[0;36mMonte_Carlo_path\u001b[1;34m(q_a_opt, q_b_opt, l_a_opt, l_b_opt, lambda_max, intensity_matrix, T, dt, X_0, Y_0, P_0, b, sigma, delta, l_const, initial_state_spread, spread_values, transition_matrix, intensity_spread, strategy)\u001b[0m\n\u001b[0;32m     21\u001b[0m     q_a \u001b[38;5;241m=\u001b[39m q_a_opt \u001b[38;5;66;03m# choice of quotes for ask\u001b[39;00m\n\u001b[0;32m     22\u001b[0m     q_a \u001b[38;5;241m=\u001b[39m q_b_opt  \u001b[38;5;66;03m# choice of quotes for bid\u001b[39;00m\n\u001b[1;32m---> 24\u001b[0m orders_a_simulated \u001b[38;5;241m=\u001b[39m \u001b[43morders_simulaton\u001b[49m\u001b[43m(\u001b[49m\u001b[43mintensity_matrix\u001b[49m\u001b[43m,\u001b[49m\u001b[43m \u001b[49m\u001b[43mPPP_spread\u001b[49m\u001b[43m[\u001b[49m\u001b[38;5;241;43m1\u001b[39;49m\u001b[43m]\u001b[49m\u001b[43m,\u001b[49m\u001b[43m \u001b[49m\u001b[43mspread_simulated\u001b[49m\u001b[43m,\u001b[49m\u001b[43m \u001b[49m\u001b[43mlambda_max\u001b[49m\u001b[43m,\u001b[49m\u001b[43m \u001b[49m\u001b[43mintensity_orders_simulation\u001b[49m\u001b[43m[\u001b[49m\u001b[38;5;241;43m1\u001b[39;49m\u001b[43m]\u001b[49m\u001b[43m,\u001b[49m\u001b[43m \u001b[49m\u001b[43mq_a\u001b[49m\u001b[43m)\u001b[49m\n\u001b[0;32m     25\u001b[0m orders_b_simulated \u001b[38;5;241m=\u001b[39m orders_simulaton(intensity_matrix, PPP_spread[\u001b[38;5;241m1\u001b[39m], spread_simulated, lambda_max, intensity_orders_simulation[\u001b[38;5;241m1\u001b[39m], q_b)\n\u001b[0;32m     27\u001b[0m orders_a \u001b[38;5;241m=\u001b[39m orders_a_simulated[\u001b[38;5;241m0\u001b[39m]  \u001b[38;5;66;03m# final arrival times of ask orders\u001b[39;00m\n",
      "Cell \u001b[1;32mIn[9], line 20\u001b[0m, in \u001b[0;36morders_simulaton\u001b[1;34m(intensity_matrix, spread_changes, spread, lambda_max, initial_intensities, q)\u001b[0m\n\u001b[0;32m     18\u001b[0m \u001b[38;5;28;01mfor\u001b[39;00m t, i \u001b[38;5;129;01min\u001b[39;00m \u001b[38;5;28mzip\u001b[39m(initial_intensities, \u001b[38;5;28mrange\u001b[39m(\u001b[38;5;28mlen\u001b[39m(initial_intensities) \u001b[38;5;241m+\u001b[39m \u001b[38;5;241m1\u001b[39m)):\n\u001b[0;32m     19\u001b[0m     spread_position \u001b[38;5;241m=\u001b[39m np\u001b[38;5;241m.\u001b[39msum(t \u001b[38;5;241m>\u001b[39m\u001b[38;5;241m=\u001b[39m spread_changes)  \u001b[38;5;66;03m# checking the spread at the arrival time t\u001b[39;00m\n\u001b[1;32m---> 20\u001b[0m     lambda_process\u001b[38;5;241m.\u001b[39mappend(intensity_matrix[spread[spread_position \u001b[38;5;241m-\u001b[39m \u001b[38;5;241m1\u001b[39m], \u001b[43mq\u001b[49m\u001b[43m[\u001b[49m\u001b[43mi\u001b[49m\u001b[43m]\u001b[49m])   \u001b[38;5;66;03m# choosing the realisation of intensity process based on the estimated intensity function and simulated spread\u001b[39;00m\n\u001b[0;32m     23\u001b[0m acceptance \u001b[38;5;241m=\u001b[39m np\u001b[38;5;241m.\u001b[39mwhere(lambda_process \u001b[38;5;241m/\u001b[39m lambda_max \u001b[38;5;241m<\u001b[39m np\u001b[38;5;241m.\u001b[39mrandom\u001b[38;5;241m.\u001b[39muniform(\u001b[38;5;241m0\u001b[39m, \u001b[38;5;241m1\u001b[39m, \u001b[38;5;28mlen\u001b[39m(initial_intensities)), \u001b[38;5;28;01mFalse\u001b[39;00m, \u001b[38;5;28;01mTrue\u001b[39;00m)  \u001b[38;5;66;03m# accepted arrival times\u001b[39;00m\n\u001b[0;32m     25\u001b[0m arrival_times \u001b[38;5;241m=\u001b[39m initial_intensities[acceptance]  \u001b[38;5;66;03m# final arrival times\u001b[39;00m\n",
      "\u001b[1;31mIndexError\u001b[0m: index 52 is out of bounds for axis 0 with size 52"
     ]
    }
   ],
   "source": [
    "n = 1000 # number of paths\n",
    "\n",
    "arr_res_Y_womo = [None] * n\n",
    "arr_res_X_womo = [None] * n\n",
    "arr_res_or_a_womo = [None] * n\n",
    "arr_res_or_b_womo = [None] * n\n",
    "arr_res_max_Y_womo = [None] * n\n",
    "\n",
    "\n",
    "for i in range(n):\n",
    "    res_acc = Monte_Carlo_path(q_a_initial, q_b_initial, l_a, l_b, lambda_max, intensity_matrix_sym, T, dt, X_0, Y_0, P_0, b, sigma, delta, l_const, 0, spread_values, prob_matrix, intensity, \"womo\")\n",
    "    \n",
    "    arr_res_Y_womo[i] = res_acc[0]\n",
    "    arr_res_X_womo[i] = res_acc[1]\n",
    "    arr_res_or_a_womo[i] = res_acc[2]\n",
    "    arr_res_or_b_womo[i] = res_acc[3]\n",
    "    arr_res_max_Y_womo[i] = res_acc[4]"
   ]
  }
 ],
 "metadata": {
  "kernelspec": {
   "display_name": "Python 3",
   "language": "python",
   "name": "python3"
  },
  "language_info": {
   "codemirror_mode": {
    "name": "ipython",
    "version": 3
   },
   "file_extension": ".py",
   "mimetype": "text/x-python",
   "name": "python",
   "nbconvert_exporter": "python",
   "pygments_lexer": "ipython3",
   "version": "3.11.5"
  }
 },
 "nbformat": 4,
 "nbformat_minor": 2
}
