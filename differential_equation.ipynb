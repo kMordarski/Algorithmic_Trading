{
 "cells": [
  {
   "cell_type": "code",
   "execution_count": 97,
   "metadata": {},
   "outputs": [],
   "source": [
    "import numpy as np\n",
    "import plotly as plt\n",
    "from scipy.optimize import minimize\n",
    "from tqdm import tqdm"
   ]
  },
  {
   "cell_type": "code",
   "execution_count": 98,
   "metadata": {},
   "outputs": [],
   "source": [
    "import plotly.graph_objs as go\n",
    "from plotly.subplots import make_subplots\n",
    "import plotly.express as px"
   ]
  },
  {
   "cell_type": "code",
   "execution_count": 99,
   "metadata": {},
   "outputs": [],
   "source": [
    "eps = 0.0012   # Per share fee parameter\n",
    "delta = 0.005   # tick size\n",
    "gamma = 5 # inventory penelisation \n",
    "m = 6  # the number of states of the spread\n",
    "n = 100 # grid of inventory\n",
    "e = 100 # max volumne for market orders\n",
    "T = 300 # timespan\n",
    "dt = T / 100 # time difference for Euler scheme\n",
    "l_max = 100 # maximum volume of an ordinary order\n",
    "initial_x = [50, 0] # initial guess for optimisation inside the differential equation"
   ]
  },
  {
   "cell_type": "code",
   "execution_count": 100,
   "metadata": {},
   "outputs": [],
   "source": [
    "intensity_matrix_a = np.array([[0.0539, 0.1485], \n",
    "                              [0.0465, 0.0979],\n",
    "                              [0.0401, 0.0846],\n",
    "                              [0.0360, 0.0856],\n",
    "                              [0.0435, 0.1009],\n",
    "                              [0.0554, 0.1202]]) # Estimated intensities for given quotes and spread for ask\n",
    "\n",
    "intensity_matrix_b = np.array([[0.0718, 0.1763], \n",
    "                              [0.0520, 0.1144],\n",
    "                              [0.0419, 0.0915],\n",
    "                              [0.0409, 0.0896],\n",
    "                              [0.0452, 0.0930],\n",
    "                              [0.0614, 0.1255]])    # Estimated intensities for given quotes and spread for bid\n",
    "\n",
    "intensity_matrix_sym = (intensity_matrix_a + intensity_matrix_b) / 2    # Making bid and ask sides symmetric"
   ]
  },
  {
   "cell_type": "code",
   "execution_count": 101,
   "metadata": {},
   "outputs": [],
   "source": [
    "prob_matrix = np.array([[0, 0.41, 0.22, 0.16, 0.142, 0.065], \n",
    "                        [0.201, 0, 0.435, 0.192, 0.103, 0.067],\n",
    "                        [0.113, 0.221, 0, 0.4582, 0.147, 0.059],\n",
    "                        [0.07, 0.085, 0.275, 0, 0.465, 0.102],\n",
    "                        [0.068, 0.049, 0.073, 0.363, 0, 0.446],\n",
    "                        [0.077, 0.057, 0.059, 0.112, 0.692, 0]])   # probability transition matrix\n",
    "R = prob_matrix\n",
    "R[np.arange(0, R.shape[0]), np.arange(0, R.shape[0])] = -np.sum(R, axis = 1)  # intensity matrix of Markov chain that determines the spread process"
   ]
  },
  {
   "cell_type": "code",
   "execution_count": 102,
   "metadata": {},
   "outputs": [],
   "source": [
    "i = 1 # spread position\n",
    "y = np.linspace(-1000, 1000, n) # mesh grid in inventory"
   ]
  },
  {
   "cell_type": "code",
   "execution_count": 103,
   "metadata": {},
   "outputs": [],
   "source": [
    "def g(y):\n",
    "    return y ** 2"
   ]
  },
  {
   "cell_type": "code",
   "execution_count": 104,
   "metadata": {},
   "outputs": [],
   "source": [
    "def phi_objective(x, i, delta, phi_t, y, y_current, intensity_matrix, bid_or_ask):\n",
    "    \n",
    "    l = x[0]\n",
    "    q = 1 if 1 == 1 else 0\n",
    "\n",
    "    lambda_phi = intensity_matrix[i, q]\n",
    "\n",
    "    if bid_or_ask == \"ask\":\n",
    "        y_shift = y_current - l\n",
    "    else:\n",
    "        y_shift = y_current + l\n",
    "\n",
    "    #y_broadcasted = y.reshape(1, -1)\n",
    "    #shifted_y_broadcasted = y_shift.reshape(-1, 1)\n",
    "    #y_difference = np.abs(y_broadcasted - shifted_y_broadcasted)\n",
    "    #y_index = np.argmin(y_difference, axis = 1)\n",
    "    y_index_l = np.argmin(np.abs(y - y_shift))\n",
    "    y_index = np.argmin(np.abs(y - y_current))\n",
    "    phi_y_l = phi_t[y_index_l]\n",
    "    phi_t = phi_t[y_index]\n",
    "\n",
    "    if bid_or_ask == \"ask\":\n",
    "        objective = lambda_phi * (phi_y_l - phi_t + (i *  delta / 2 - delta * q) * l)\n",
    "    else:\n",
    "        objective = lambda_phi * (phi_y_l - phi_t + (i *  delta / 2 - delta * q) * l)\n",
    "    return -objective"
   ]
  },
  {
   "cell_type": "code",
   "execution_count": 105,
   "metadata": {},
   "outputs": [],
   "source": [
    "def optimise_phi(y, y_current, initial_x, phi_t, delta, i, intensity_matrix, constraints, bid_or_ask):\n",
    "    \n",
    "\n",
    "    solution = minimize(phi_objective, initial_x, bounds = [(0, l_max), (-1, 1)], constraints = constraints, tol = 1e-16,\n",
    "                                args = (i, delta, phi_t, y, y_current, intensity_matrix, bid_or_ask))\n",
    "                            \n",
    "    f = -solution.fun\n",
    "    solution = solution.x\n",
    "\n",
    "    return (solution, f)"
   ]
  },
  {
   "cell_type": "code",
   "execution_count": 106,
   "metadata": {},
   "outputs": [],
   "source": [
    "phi_terminal = -np.abs(y) * i * delta / 2 - eps\n",
    "constraints = ({'type': 'eq', 'fun': lambda x: 1 - x[1]**2})"
   ]
  },
  {
   "cell_type": "code",
   "execution_count": 107,
   "metadata": {},
   "outputs": [
    {
     "name": "stderr",
     "output_type": "stream",
     "text": [
      "100%|██████████| 99/99 [00:56<00:00,  1.75it/s]\n"
     ]
    }
   ],
   "source": [
    "phi = [phi_terminal]\n",
    "q_b = [[0 for 0 in range(phi_terminal)]]\n",
    "l_b = [[0 for 0 in range(phi_terminal)]]\n",
    "q_a = [[0 for 0 in range(phi_terminal)]]\n",
    "l_a = [[0 for 0 in range(phi_terminal)]]\n",
    "phi_temp = phi_terminal\n",
    "\n",
    "for t in tqdm(range(1, int(T / dt))):\n",
    "\n",
    "    phi_ask_result = []\n",
    "    phi_bid_result = []\n",
    "    q_b_temp = []\n",
    "    l_b_temp = []\n",
    "    q_a_temp = []\n",
    "    l_a_temp = []\n",
    "\n",
    "    for y_current in np.nditer(y):\n",
    "        phi_opt_ask = optimise_phi(y_current = y_current, y = y, initial_x = initial_x, phi_t = phi_temp, \n",
    "                                    delta = delta, i = i, intensity_matrix = intensity_matrix_sym, constraints = constraints, bid_or_ask = \"ask\")\n",
    "        phi_opt_bid = optimise_phi(y_current = y_current, y = y, initial_x = initial_x, phi_t = phi_temp, \n",
    "                                    delta = delta, i = i, intensity_matrix = intensity_matrix_sym, constraints = constraints, bid_or_ask = \"bid\")\n",
    "        phi_ask_result.append(phi_opt_ask[1])\n",
    "        l_b_temp.append(phi_opt_ask[0][0])\n",
    "        q_b_temp.append(phi_opt_ask[0][1])\n",
    "        phi_bid_result.append(phi_opt_bid[1])\n",
    "        l_a_temp.append(phi_opt_bid[0][0])\n",
    "        q_a_temp.append(phi_opt_bid[0][1])\n",
    "\n",
    "    phi_temp = -dt * (np.array(phi_ask_result) + np.array(phi_bid_result) - gamma * g(y))\n",
    "    phi.append(phi_temp)\n",
    "    q_b.append(q_b_temp)\n",
    "    l_b.append(l_b_temp)\n",
    "    q_a.append(q_a_temp)\n",
    "    l_a.append(l_b_temp)\n",
    "\n",
    "\n",
    "phi.reverse()"
   ]
  },
  {
   "cell_type": "code",
   "execution_count": 144,
   "metadata": {},
   "outputs": [
    {
     "data": {
      "text/plain": [
       "1.0"
      ]
     },
     "execution_count": 144,
     "metadata": {},
     "output_type": "execute_result"
    }
   ],
   "source": [
    "optimise_phi(y, y_current, initial_x, phi_terminal, delta, i, intensity_matrix_sym, constraints, \"bid\")[0][1]"
   ]
  }
 ],
 "metadata": {
  "kernelspec": {
   "display_name": "base",
   "language": "python",
   "name": "python3"
  },
  "language_info": {
   "codemirror_mode": {
    "name": "ipython",
    "version": 3
   },
   "file_extension": ".py",
   "mimetype": "text/x-python",
   "name": "python",
   "nbconvert_exporter": "python",
   "pygments_lexer": "ipython3",
   "version": "3.8.8"
  }
 },
 "nbformat": 4,
 "nbformat_minor": 2
}
