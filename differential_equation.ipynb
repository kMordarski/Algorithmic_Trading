{
 "cells": [
  {
   "cell_type": "code",
   "execution_count": 1,
   "metadata": {},
   "outputs": [],
   "source": [
    "import numpy as np\n",
    "import plotly as plt\n",
    "from scipy.optimize import minimize\n",
    "from tqdm import tqdm"
   ]
  },
  {
   "cell_type": "code",
   "execution_count": 2,
   "metadata": {},
   "outputs": [],
   "source": [
    "import plotly.graph_objs as go\n",
    "from plotly.subplots import make_subplots\n",
    "import plotly.express as px"
   ]
  },
  {
   "cell_type": "code",
   "execution_count": 3,
   "metadata": {},
   "outputs": [],
   "source": [
    "eps = 0.0012   # Per share fee parameter\n",
    "delta = 0.005   # tick size\n",
    "gamma = 5 # inventory penelisation \n",
    "m = 6  # the number of states of the spread\n",
    "n = 100 # grid of inventory\n",
    "e = 100 # max volumne for market orders\n",
    "T = 300 # timespan\n",
    "dt = T / 100 # time difference for Euler scheme\n",
    "l_max = 100 # maximum volume of an ordinary order\n",
    "initial_x = [50, 0] # initial guess for optimisation inside the differential equation\n",
    "y = np.linspace(-1000, 1000, n) # mesh grid in inventory"
   ]
  },
  {
   "cell_type": "code",
   "execution_count": 4,
   "metadata": {},
   "outputs": [],
   "source": [
    "intensity_matrix_a = np.array([[0.0539, 0.1485], \n",
    "                              [0.0465, 0.0979],\n",
    "                              [0.0401, 0.0846],\n",
    "                              [0.0360, 0.0856],\n",
    "                              [0.0435, 0.1009],\n",
    "                              [0.0554, 0.1202]]) # Estimated intensities for given quotes and spread for ask\n",
    "\n",
    "intensity_matrix_b = np.array([[0.0718, 0.1763], \n",
    "                              [0.0520, 0.1144],\n",
    "                              [0.0419, 0.0915],\n",
    "                              [0.0409, 0.0896],\n",
    "                              [0.0452, 0.0930],\n",
    "                              [0.0614, 0.1255]])    # Estimated intensities for given quotes and spread for bid\n",
    "\n",
    "intensity_matrix_sym = (intensity_matrix_a + intensity_matrix_b) / 2    # Making bid and ask sides symmetric"
   ]
  },
  {
   "cell_type": "code",
   "execution_count": 5,
   "metadata": {},
   "outputs": [],
   "source": [
    "prob_matrix = np.array([[0, 0.41, 0.22, 0.16, 0.142, 0.065], \n",
    "                        [0.201, 0, 0.435, 0.192, 0.103, 0.067],\n",
    "                        [0.113, 0.221, 0, 0.4582, 0.147, 0.059],\n",
    "                        [0.07, 0.085, 0.275, 0, 0.465, 0.102],\n",
    "                        [0.068, 0.049, 0.073, 0.363, 0, 0.446],\n",
    "                        [0.077, 0.057, 0.059, 0.112, 0.692, 0]])   # probability transition matrix\n",
    "R = prob_matrix\n",
    "R[np.arange(0, R.shape[0]), np.arange(0, R.shape[0])] = -np.sum(R, axis = 1)  # intensity matrix of Markov chain that determines the spread process"
   ]
  },
  {
   "cell_type": "code",
   "execution_count": 6,
   "metadata": {},
   "outputs": [],
   "source": [
    "def g(y):\n",
    "    return y ** 2"
   ]
  },
  {
   "cell_type": "code",
   "execution_count": 7,
   "metadata": {},
   "outputs": [],
   "source": [
    "def phi_objective(x, i, delta, phi_t, y, y_current, intensity_matrix, bid_or_ask):\n",
    "    \n",
    "    l = x[0]\n",
    "    q = 1 if 1 == 1 else 0\n",
    "\n",
    "    lambda_phi = intensity_matrix[i, q]\n",
    "\n",
    "    if bid_or_ask == \"ask\":\n",
    "        y_shift = y_current - l\n",
    "    else:\n",
    "        y_shift = y_current + l\n",
    "\n",
    "    #y_broadcasted = y.reshape(1, -1)\n",
    "    #shifted_y_broadcasted = y_shift.reshape(-1, 1)\n",
    "    #y_difference = np.abs(y_broadcasted - shifted_y_broadcasted)\n",
    "    #y_index = np.argmin(y_difference, axis = 1)\n",
    "    y_index_l = np.argmin(np.abs(y - y_shift))\n",
    "    y_index = np.argmin(np.abs(y - y_current))\n",
    "    phi_y_l = phi_t[y_index_l]\n",
    "    phi_t = phi_t[y_index]\n",
    "\n",
    "    objective = lambda_phi * (phi_y_l - phi_t + ((i + 1) *  delta / 2 - delta * q) * l)\n",
    "\n",
    "    return -objective"
   ]
  },
  {
   "cell_type": "code",
   "execution_count": 8,
   "metadata": {},
   "outputs": [],
   "source": [
    "def optimise_phi(y, y_current, initial_x, phi_t, delta, i, intensity_matrix, constraints, bid_or_ask):\n",
    "    \n",
    "\n",
    "    solution = minimize(phi_objective, initial_x, bounds = [(0, l_max), (-1, 1)], constraints = constraints, tol = 1e-16,\n",
    "                                args = (i, delta, phi_t, y, y_current, intensity_matrix, bid_or_ask))\n",
    "                            \n",
    "    f = -solution.fun\n",
    "    solution = solution.x\n",
    "\n",
    "    return (solution, f)"
   ]
  },
  {
   "cell_type": "code",
   "execution_count": 9,
   "metadata": {},
   "outputs": [
    {
     "ename": "SyntaxError",
     "evalue": "'return' outside function (<ipython-input-9-44a996a5119e>, line 42)",
     "output_type": "error",
     "traceback": [
      "\u001b[1;36m  File \u001b[1;32m\"<ipython-input-9-44a996a5119e>\"\u001b[1;36m, line \u001b[1;32m42\u001b[0m\n\u001b[1;33m    return phi, q_b, l_b, q_a, l_a\u001b[0m\n\u001b[1;37m    ^\u001b[0m\n\u001b[1;31mSyntaxError\u001b[0m\u001b[1;31m:\u001b[0m 'return' outside function\n"
     ]
    }
   ],
   "source": [
    "def solve_phi(y, initial_x, phi_terminal, intensity_matrix, R, constraints, T, dt, m, gamma, delta):\n",
    "    \n",
    "    phi = np.empty((n, m, int(T / dt)))\n",
    "    q_b = np.zeros((n, m, int(T / dt)))\n",
    "    l_b = np.zeros((n, m, int(T / dt)))\n",
    "    q_a = np.zeros((n, m, int(T / dt)))\n",
    "    l_a = np.zeros((n, m, int(T / dt)))\n",
    "    phi[0] = phi_terminal\n",
    "\n",
    "    for t in tqdm(range(1, int(T / dt))):\n",
    "\n",
    "        for i in tqdm(range(0, m)):\n",
    "\n",
    "            phi_sum = np.dot(R[i, :], np.array(phi[t - 1] - phi[t - 1][i]))\n",
    "\n",
    "            phi_ask_result = []\n",
    "            phi_bid_result = []\n",
    "            q_b_temp = []\n",
    "            l_b_temp = []\n",
    "            q_a_temp = []\n",
    "            l_a_temp = []\n",
    "\n",
    "            for y_current in np.nditer(y):\n",
    "                phi_opt_ask = optimise_phi(y_current = y_current, y = y, initial_x = initial_x, phi_t = phi[t - 1][i], \n",
    "                                            delta = delta, i = i, intensity_matrix = intensity_matrix_sym, constraints = constraints, bid_or_ask = \"ask\")\n",
    "                phi_opt_bid = optimise_phi(y_current = y_current, y = y, initial_x = initial_x, phi_t = phi[t - 1][i], \n",
    "                                            delta = delta, i = i, intensity_matrix = intensity_matrix_sym, constraints = constraints, bid_or_ask = \"bid\")\n",
    "                phi_ask_result.append(phi_opt_ask[1])\n",
    "                l_b_temp.append(phi_opt_ask[0][0])\n",
    "                q_b_temp.append(phi_opt_ask[0][1])\n",
    "                phi_bid_result.append(phi_opt_bid[1])\n",
    "                l_a_temp.append(phi_opt_bid[0][0])\n",
    "                q_a_temp.append(phi_opt_bid[0][1])\n",
    "\n",
    "            phi[t][i] = -dt * (phi_sum + np.array(phi_ask_result) + np.array(phi_bid_result) - gamma * g(y))\n",
    "        \n",
    "            q_b[t][i] = q_b_temp\n",
    "            l_b[t][i] = l_b_temp\n",
    "            q_a[t][i] = q_a_temp\n",
    "            l_a[t][i] = l_b_temp\n",
    "\n",
    "    return phi, q_b, l_b, q_a, l_a"
   ]
  },
  {
   "cell_type": "code",
   "execution_count": null,
   "metadata": {},
   "outputs": [],
   "source": [
    "constraints = ({'type': 'eq', 'fun': lambda x: 1 - x[1]**2})"
   ]
  },
  {
   "cell_type": "code",
   "execution_count": null,
   "metadata": {},
   "outputs": [],
   "source": [
    "phi_terminal = np.ones((m,n))\n",
    "\n",
    "for i in range(0, m):\n",
    "\n",
    "    phi_terminal[i, ] = -np.abs(y) * (i + 1) * delta / 2 - eps   "
   ]
  },
  {
   "cell_type": "code",
   "execution_count": null,
   "metadata": {},
   "outputs": [],
   "source": [
    "phi_solved = solve_phi(y, initial_x, phi_terminal, intensity_matrix_sym, R, constraints, T, dt, m, gamma, delta)"
   ]
  },
  {
   "cell_type": "code",
   "execution_count": null,
   "metadata": {},
   "outputs": [],
   "source": [
    "np.save(\"phi_solved.npy\", phi_solved[0])\n",
    "np.save(\"q_b_solved.npy\", phi_solved[1])\n",
    "np.save(\"l_b_solved.npy\", phi_solved[2])\n",
    "np.save(\"q_a_solved.npy\", phi_solved[3])\n",
    "np.save(\"l_a_solved.npy\", phi_solved[4])"
   ]
  }
 ],
 "metadata": {
  "kernelspec": {
   "display_name": "base",
   "language": "python",
   "name": "python3"
  },
  "language_info": {
   "codemirror_mode": {
    "name": "ipython",
    "version": 3
   },
   "file_extension": ".py",
   "mimetype": "text/x-python",
   "name": "python",
   "nbconvert_exporter": "python",
   "pygments_lexer": "ipython3",
   "version": "3.8.8"
  }
 },
 "nbformat": 4,
 "nbformat_minor": 2
}
