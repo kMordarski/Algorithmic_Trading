{
 "cells": [
  {
   "cell_type": "code",
   "execution_count": 426,
   "metadata": {},
   "outputs": [],
   "source": [
    "import numpy as np\n",
    "import matplotlib.pyplot as plt"
   ]
  },
  {
   "cell_type": "code",
   "execution_count": null,
   "metadata": {},
   "outputs": [],
   "source": []
  },
  {
   "cell_type": "code",
   "execution_count": 427,
   "metadata": {},
   "outputs": [],
   "source": [
    "# Parameters\n",
    "\n",
    "# General\n",
    "t = 0\n",
    "T = 300\n",
    "time = np.arange(0, T + 1)  # Time span of 300 seconds\n",
    "np.random.seed(100)\n",
    "\n",
    "# Price\n",
    "mu = 0\n",
    "sigma = 0.1\n",
    "P_0 = 100\n",
    "\n",
    "# Spread\n",
    "intensity = 1"
   ]
  },
  {
   "cell_type": "markdown",
   "metadata": {},
   "source": [
    "# Price process"
   ]
  },
  {
   "cell_type": "code",
   "execution_count": 428,
   "metadata": {},
   "outputs": [],
   "source": [
    "def price_sim(mu, P_0, t, sigma, W):\n",
    "    return P_0 + mu * t + sigma * W"
   ]
  },
  {
   "cell_type": "code",
   "execution_count": 434,
   "metadata": {},
   "outputs": [],
   "source": [
    "W_t = np.cumsum(np.concatenate(([0], np.random.normal(0, 1, T))))"
   ]
  },
  {
   "cell_type": "markdown",
   "metadata": {},
   "source": [
    "# Spread"
   ]
  },
  {
   "cell_type": "code",
   "execution_count": 430,
   "metadata": {},
   "outputs": [],
   "source": [
    "def spread_sim(initial_state, spread_values, matrix, intensity, T):\n",
    "\n",
    "    N = np.random.poisson(intensity * T)\n",
    "    T_i = np.cumsum(np.random.exponential(1 / intensity, N))    \n",
    "    U = np.random.uniform(0, 1, 1000)\n",
    "    matrix_sum = np.cumsum(matrix, axis = 1)\n",
    "    s = [initial_state]\n",
    "    for i in range(1, N):\n",
    "        potential_position = np.sum(U[i] > matrix_sum[s[i - 1], ])\n",
    "        if potential_position == s[i - 1] or potential_position == 6:\n",
    "            s.append(potential_position - 1)\n",
    "        else:\n",
    "            s.append(potential_position)\n",
    "\n",
    "    return (s, T_i)"
   ]
  },
  {
   "cell_type": "code",
   "execution_count": 431,
   "metadata": {},
   "outputs": [],
   "source": [
    "# Spread specific objects\n",
    "\n",
    "prob_matrix = np.array([[0, 0.41, 0.22, 0.16, 0.142, 0.065], \n",
    "                        [0.201, 0, 0.435, 0.192, 0.103, 0.067],\n",
    "                        [0.113, 0.221, 0, 0.4582, 0.147, 0.059],\n",
    "                        [0.07, 0.085, 0.275, 0, 0.465, 0.102],\n",
    "                        [0.068, 0.049, 0.073, 0.363, 0, 0.446],\n",
    "                        [0.077, 0.057, 0.059, 0.112, 0.692, 0]])\n",
    "                        \n",
    "spread_values = [0.005, 0.01, 0.015, 0.02, 0.025, 0.03]\n"
   ]
  },
  {
   "cell_type": "code",
   "execution_count": 436,
   "metadata": {},
   "outputs": [],
   "source": [
    "spread_simulation = spread_sim(0, spread_values, prob_matrix, intensity, T)\n",
    "s_t = [spread_values[i] for i in spread_simulation[0]]\n",
    "\n",
    "W_t = np.cumsum(np.concatenate(([0], np.random.normal(0, 1, len(spread_simulation[1]) - 1))))"
   ]
  }
 ],
 "metadata": {
  "kernelspec": {
   "display_name": "base",
   "language": "python",
   "name": "python3"
  },
  "language_info": {
   "codemirror_mode": {
    "name": "ipython",
    "version": 3
   },
   "file_extension": ".py",
   "mimetype": "text/x-python",
   "name": "python",
   "nbconvert_exporter": "python",
   "pygments_lexer": "ipython3",
   "version": "3.8.8"
  }
 },
 "nbformat": 4,
 "nbformat_minor": 2
}
