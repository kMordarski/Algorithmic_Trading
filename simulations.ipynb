{
 "cells": [
  {
   "cell_type": "code",
   "execution_count": 382,
   "metadata": {},
   "outputs": [],
   "source": [
    "import numpy as np\n",
    "import plotly as plt\n",
    "from tqdm import tqdm"
   ]
  },
  {
   "cell_type": "code",
   "execution_count": 383,
   "metadata": {},
   "outputs": [],
   "source": [
    "import plotly.graph_objs as go\n",
    "from plotly.subplots import make_subplots\n",
    "import plotly.express as px"
   ]
  },
  {
   "cell_type": "markdown",
   "metadata": {},
   "source": [
    "We use the values of parameters from the paper, apart from sigma whcih was unfortunately not specified."
   ]
  },
  {
   "cell_type": "code",
   "execution_count": 384,
   "metadata": {},
   "outputs": [],
   "source": [
    "# Parameters\n",
    "\n",
    "# General\n",
    "t = 0\n",
    "T = 300\n",
    "np.random.seed(100)\n",
    "\n",
    "# Price\n",
    "b = 0\n",
    "sigma = 0.1\n",
    "P_0 = 45\n",
    "dt = 1 / 1000   # time difference for Brownian motion simulation\n",
    "\n",
    "# Spread\n",
    "intensity = 1\n",
    "\n",
    "# Cash and inventory\n",
    "Y_0 = 0\n",
    "X_0 = 0\n",
    "delta = 0.005\n",
    "\n",
    "# For Monte Carlo\n",
    "l_const = 100 # constant size of trades for random and constant benchamrk srategies\n",
    "M = 1000 # number of paths generated\n",
    "n = 100 # number of divisions for grid in y"
   ]
  },
  {
   "cell_type": "markdown",
   "metadata": {},
   "source": [
    "# Spread"
   ]
  },
  {
   "cell_type": "markdown",
   "metadata": {},
   "source": [
    "The spread process is the combination of two stochastic processes. The first one is nonhomogenuous Possion process $(N_t)_t$ with intensity $\\lambda(t)$, which determines the times when spread is afected by buy and sell orders. The second one, being the discrete-time stationary Markov chain governs the subsequent states of spread (here there are $m=6$ states) with probability transition matrix $\\bold{P}$. The resultuing spread is a continuous time Markov chain: \n",
    "$$S_t = \\hat{S}_{N_t}, t\\geq 0 $$"
   ]
  },
  {
   "cell_type": "code",
   "execution_count": 385,
   "metadata": {},
   "outputs": [],
   "source": [
    "def poisson_point_process_sim(intensity, T):\n",
    "    '''\n",
    "    Returns the arrival times and the number of arrivals.\n",
    "\n",
    "    Parameters:\n",
    "        intensity (float): The intensity of the process\n",
    "        T (float): The timespan\n",
    "\n",
    "    Returns:\n",
    "        N, T_i ((int, np.array)): Tuple with realisations of the Poisson Process   \n",
    "    '''\n",
    "    N = np.random.poisson(intensity * T)    # number of changes of spread\n",
    "    T_i = np.cumsum(np.random.exponential(1 / intensity, N))     # arrival times of changes of spread\n",
    "\n",
    "    return (N, T_i)"
   ]
  },
  {
   "cell_type": "code",
   "execution_count": 386,
   "metadata": {},
   "outputs": [],
   "source": [
    "def spread_sim(initial_state, spread_values, T, matrix, N): \n",
    "    '''\n",
    "    Simulates the spread process.\n",
    "\n",
    "    Parameters:\n",
    "        initial_state (int): The iniitial value of spread (at time 0)\n",
    "        spread_values (list): Possible values of the spread\n",
    "        T (float): The timespan\n",
    "        matrix (np.array): Probability transition matrix of the Markov chain\n",
    "        N (int): Number of arrivals\n",
    "\n",
    "    Returns:\n",
    "        s (list): Realisation of the spread process   \n",
    "    '''\n",
    "    U = np.random.uniform(0, 1, 1000)  # uniform random variable determining the subsequent values of the Markov chain\n",
    "    matrix_sum = np.cumsum(matrix, axis = 1)   # cumulative probabilities\n",
    "    s = [initial_state]   # initial state is 0\n",
    "    for i in range(1, N):\n",
    "        potential_position = np.sum(U[i] > matrix_sum[s[i - 1], ])   # checking the positions based on the draw of the uniform random variable\n",
    "        if potential_position == s[i - 1] or potential_position == 6:   # can't stay in the same state\n",
    "            s.append(potential_position - 1)\n",
    "        else:\n",
    "            s.append(potential_position)\n",
    "            \n",
    "    return s"
   ]
  },
  {
   "cell_type": "code",
   "execution_count": 387,
   "metadata": {},
   "outputs": [],
   "source": [
    "# spread specific objects\n",
    "\n",
    "prob_matrix = np.array([[0, 0.41, 0.22, 0.16, 0.142, 0.065], \n",
    "                        [0.201, 0, 0.435, 0.192, 0.103, 0.067],\n",
    "                        [0.113, 0.221, 0, 0.4582, 0.147, 0.059],\n",
    "                        [0.07, 0.085, 0.275, 0, 0.465, 0.102],\n",
    "                        [0.068, 0.049, 0.073, 0.363, 0, 0.446],\n",
    "                        [0.077, 0.057, 0.059, 0.112, 0.692, 0]])   # probability transition matrix\n",
    "                        \n",
    "spread_values = [0.005, 0.01, 0.015, 0.02, 0.025, 0.03]  # posisible values of spread\n"
   ]
  },
  {
   "cell_type": "code",
   "execution_count": 388,
   "metadata": {},
   "outputs": [],
   "source": [
    "PPP_spread = poisson_point_process_sim(intensity, T)   # realisation of tick time clock process - number and arrival times\n",
    "spread_simulated = spread_sim(0, spread_values, T, prob_matrix, PPP_spread[0])   # simulated spread positions\n",
    "s_t = np.array([spread_values[i] for i in spread_simulated])   # simulated spread values"
   ]
  },
  {
   "cell_type": "code",
   "execution_count": 389,
   "metadata": {},
   "outputs": [
    {
     "data": {
      "application/vnd.plotly.v1+json": {
       "config": {
        "plotlyServerURL": "https://plot.ly"
       },
       "data": [
        {
         "hovertemplate": "variable=0<br>index=%{x}<br>value=%{y}<extra></extra>",
         "legendgroup": "0",
         "line": {
          "color": "maroon",
          "dash": "solid"
         },
         "marker": {
          "symbol": "circle"
         },
         "mode": "lines",
         "name": "0",
         "orientation": "v",
         "showlegend": true,
         "type": "scatter",
         "x": [
          0,
          1,
          2,
          3,
          4,
          5,
          6,
          7,
          8,
          9,
          10,
          11,
          12,
          13,
          14,
          15,
          16,
          17,
          18,
          19,
          20,
          21,
          22,
          23,
          24,
          25,
          26,
          27,
          28,
          29,
          30,
          31,
          32,
          33,
          34,
          35,
          36,
          37,
          38,
          39,
          40,
          41,
          42,
          43,
          44,
          45,
          46,
          47,
          48,
          49,
          50,
          51,
          52,
          53,
          54,
          55,
          56,
          57,
          58,
          59,
          60,
          61,
          62,
          63,
          64,
          65,
          66,
          67,
          68,
          69,
          70,
          71,
          72,
          73,
          74,
          75,
          76,
          77,
          78,
          79,
          80,
          81,
          82,
          83,
          84,
          85,
          86,
          87,
          88,
          89,
          90,
          91,
          92,
          93,
          94,
          95,
          96,
          97,
          98,
          99,
          100,
          101,
          102,
          103,
          104,
          105,
          106,
          107,
          108,
          109,
          110,
          111,
          112,
          113,
          114,
          115,
          116,
          117,
          118,
          119,
          120,
          121,
          122,
          123,
          124,
          125,
          126,
          127,
          128,
          129,
          130,
          131,
          132,
          133,
          134,
          135,
          136,
          137,
          138,
          139,
          140,
          141,
          142,
          143,
          144,
          145,
          146,
          147,
          148,
          149,
          150,
          151,
          152,
          153,
          154,
          155,
          156,
          157,
          158,
          159,
          160,
          161,
          162,
          163,
          164,
          165,
          166,
          167,
          168,
          169,
          170,
          171,
          172,
          173,
          174,
          175,
          176,
          177,
          178,
          179,
          180,
          181,
          182,
          183,
          184,
          185,
          186,
          187,
          188,
          189,
          190,
          191,
          192,
          193,
          194,
          195,
          196,
          197,
          198,
          199,
          200,
          201,
          202,
          203,
          204,
          205,
          206,
          207,
          208,
          209,
          210,
          211,
          212,
          213,
          214,
          215,
          216,
          217,
          218,
          219,
          220,
          221,
          222,
          223,
          224,
          225,
          226,
          227,
          228,
          229,
          230,
          231,
          232,
          233,
          234,
          235,
          236,
          237,
          238,
          239,
          240,
          241,
          242,
          243,
          244,
          245,
          246,
          247,
          248,
          249,
          250,
          251,
          252,
          253,
          254,
          255,
          256,
          257,
          258,
          259,
          260,
          261,
          262,
          263,
          264,
          265,
          266,
          267,
          268,
          269,
          270,
          271,
          272,
          273,
          274,
          275,
          276,
          277,
          278,
          279,
          280,
          281,
          282,
          283,
          284,
          285,
          286,
          287,
          288,
          289,
          290,
          291,
          292,
          293,
          294,
          295,
          296,
          297,
          298,
          299,
          300,
          301
         ],
         "xaxis": "x",
         "y": [
          0,
          1,
          0,
          1,
          3,
          0,
          1,
          2,
          3,
          4,
          3,
          2,
          4,
          3,
          2,
          0,
          1,
          0,
          3,
          4,
          3,
          4,
          1,
          4,
          1,
          0,
          2,
          3,
          4,
          3,
          1,
          3,
          4,
          5,
          4,
          3,
          4,
          5,
          4,
          3,
          2,
          3,
          5,
          4,
          3,
          4,
          5,
          3,
          0,
          1,
          0,
          1,
          4,
          3,
          4,
          3,
          1,
          3,
          5,
          4,
          5,
          4,
          3,
          2,
          5,
          0,
          4,
          3,
          4,
          3,
          4,
          5,
          2,
          1,
          0,
          1,
          5,
          4,
          1,
          2,
          3,
          4,
          3,
          4,
          1,
          2,
          0,
          2,
          3,
          2,
          3,
          0,
          2,
          0,
          2,
          3,
          0,
          5,
          4,
          5,
          4,
          5,
          2,
          3,
          4,
          5,
          4,
          5,
          4,
          5,
          4,
          5,
          4,
          0,
          3,
          4,
          5,
          4,
          3,
          5,
          4,
          2,
          3,
          0,
          1,
          3,
          4,
          2,
          1,
          5,
          0,
          3,
          2,
          1,
          3,
          1,
          2,
          3,
          4,
          3,
          4,
          3,
          4,
          5,
          2,
          5,
          0,
          5,
          1,
          0,
          3,
          5,
          4,
          5,
          1,
          0,
          1,
          0,
          5,
          4,
          3,
          2,
          3,
          1,
          0,
          4,
          3,
          1,
          2,
          4,
          3,
          4,
          5,
          0,
          1,
          3,
          4,
          3,
          1,
          0,
          1,
          2,
          4,
          5,
          2,
          4,
          5,
          4,
          5,
          3,
          4,
          3,
          4,
          3,
          4,
          3,
          4,
          2,
          3,
          4,
          2,
          3,
          2,
          3,
          4,
          3,
          4,
          3,
          4,
          3,
          1,
          4,
          5,
          3,
          2,
          0,
          1,
          0,
          5,
          4,
          5,
          4,
          2,
          3,
          2,
          5,
          1,
          2,
          0,
          2,
          3,
          1,
          3,
          1,
          2,
          3,
          2,
          1,
          0,
          1,
          2,
          3,
          4,
          5,
          4,
          5,
          4,
          5,
          4,
          1,
          3,
          2,
          3,
          5,
          3,
          0,
          3,
          1,
          3,
          4,
          0,
          1,
          2,
          0,
          1,
          2,
          0,
          1,
          4,
          3,
          2,
          3,
          4,
          5,
          3,
          2,
          1,
          0,
          1,
          3,
          2,
          1,
          5,
          5,
          4,
          3,
          4,
          1,
          2,
          4,
          5,
          4,
          0,
          3,
          5,
          4,
          3,
          2,
          5,
          4,
          5,
          4
         ],
         "yaxis": "y"
        }
       ],
       "layout": {
        "font": {
         "color": "black"
        },
        "legend": {
         "title": {
          "text": "variable"
         },
         "tracegroupgap": 0
        },
        "margin": {
         "t": 60
        },
        "paper_bgcolor": "white",
        "plot_bgcolor": "white",
        "template": {
         "data": {
          "bar": [
           {
            "error_x": {
             "color": "#2a3f5f"
            },
            "error_y": {
             "color": "#2a3f5f"
            },
            "marker": {
             "line": {
              "color": "#E5ECF6",
              "width": 0.5
             },
             "pattern": {
              "fillmode": "overlay",
              "size": 10,
              "solidity": 0.2
             }
            },
            "type": "bar"
           }
          ],
          "barpolar": [
           {
            "marker": {
             "line": {
              "color": "#E5ECF6",
              "width": 0.5
             },
             "pattern": {
              "fillmode": "overlay",
              "size": 10,
              "solidity": 0.2
             }
            },
            "type": "barpolar"
           }
          ],
          "carpet": [
           {
            "aaxis": {
             "endlinecolor": "#2a3f5f",
             "gridcolor": "white",
             "linecolor": "white",
             "minorgridcolor": "white",
             "startlinecolor": "#2a3f5f"
            },
            "baxis": {
             "endlinecolor": "#2a3f5f",
             "gridcolor": "white",
             "linecolor": "white",
             "minorgridcolor": "white",
             "startlinecolor": "#2a3f5f"
            },
            "type": "carpet"
           }
          ],
          "choropleth": [
           {
            "colorbar": {
             "outlinewidth": 0,
             "ticks": ""
            },
            "type": "choropleth"
           }
          ],
          "contour": [
           {
            "colorbar": {
             "outlinewidth": 0,
             "ticks": ""
            },
            "colorscale": [
             [
              0,
              "#0d0887"
             ],
             [
              0.1111111111111111,
              "#46039f"
             ],
             [
              0.2222222222222222,
              "#7201a8"
             ],
             [
              0.3333333333333333,
              "#9c179e"
             ],
             [
              0.4444444444444444,
              "#bd3786"
             ],
             [
              0.5555555555555556,
              "#d8576b"
             ],
             [
              0.6666666666666666,
              "#ed7953"
             ],
             [
              0.7777777777777778,
              "#fb9f3a"
             ],
             [
              0.8888888888888888,
              "#fdca26"
             ],
             [
              1,
              "#f0f921"
             ]
            ],
            "type": "contour"
           }
          ],
          "contourcarpet": [
           {
            "colorbar": {
             "outlinewidth": 0,
             "ticks": ""
            },
            "type": "contourcarpet"
           }
          ],
          "heatmap": [
           {
            "colorbar": {
             "outlinewidth": 0,
             "ticks": ""
            },
            "colorscale": [
             [
              0,
              "#0d0887"
             ],
             [
              0.1111111111111111,
              "#46039f"
             ],
             [
              0.2222222222222222,
              "#7201a8"
             ],
             [
              0.3333333333333333,
              "#9c179e"
             ],
             [
              0.4444444444444444,
              "#bd3786"
             ],
             [
              0.5555555555555556,
              "#d8576b"
             ],
             [
              0.6666666666666666,
              "#ed7953"
             ],
             [
              0.7777777777777778,
              "#fb9f3a"
             ],
             [
              0.8888888888888888,
              "#fdca26"
             ],
             [
              1,
              "#f0f921"
             ]
            ],
            "type": "heatmap"
           }
          ],
          "heatmapgl": [
           {
            "colorbar": {
             "outlinewidth": 0,
             "ticks": ""
            },
            "colorscale": [
             [
              0,
              "#0d0887"
             ],
             [
              0.1111111111111111,
              "#46039f"
             ],
             [
              0.2222222222222222,
              "#7201a8"
             ],
             [
              0.3333333333333333,
              "#9c179e"
             ],
             [
              0.4444444444444444,
              "#bd3786"
             ],
             [
              0.5555555555555556,
              "#d8576b"
             ],
             [
              0.6666666666666666,
              "#ed7953"
             ],
             [
              0.7777777777777778,
              "#fb9f3a"
             ],
             [
              0.8888888888888888,
              "#fdca26"
             ],
             [
              1,
              "#f0f921"
             ]
            ],
            "type": "heatmapgl"
           }
          ],
          "histogram": [
           {
            "marker": {
             "pattern": {
              "fillmode": "overlay",
              "size": 10,
              "solidity": 0.2
             }
            },
            "type": "histogram"
           }
          ],
          "histogram2d": [
           {
            "colorbar": {
             "outlinewidth": 0,
             "ticks": ""
            },
            "colorscale": [
             [
              0,
              "#0d0887"
             ],
             [
              0.1111111111111111,
              "#46039f"
             ],
             [
              0.2222222222222222,
              "#7201a8"
             ],
             [
              0.3333333333333333,
              "#9c179e"
             ],
             [
              0.4444444444444444,
              "#bd3786"
             ],
             [
              0.5555555555555556,
              "#d8576b"
             ],
             [
              0.6666666666666666,
              "#ed7953"
             ],
             [
              0.7777777777777778,
              "#fb9f3a"
             ],
             [
              0.8888888888888888,
              "#fdca26"
             ],
             [
              1,
              "#f0f921"
             ]
            ],
            "type": "histogram2d"
           }
          ],
          "histogram2dcontour": [
           {
            "colorbar": {
             "outlinewidth": 0,
             "ticks": ""
            },
            "colorscale": [
             [
              0,
              "#0d0887"
             ],
             [
              0.1111111111111111,
              "#46039f"
             ],
             [
              0.2222222222222222,
              "#7201a8"
             ],
             [
              0.3333333333333333,
              "#9c179e"
             ],
             [
              0.4444444444444444,
              "#bd3786"
             ],
             [
              0.5555555555555556,
              "#d8576b"
             ],
             [
              0.6666666666666666,
              "#ed7953"
             ],
             [
              0.7777777777777778,
              "#fb9f3a"
             ],
             [
              0.8888888888888888,
              "#fdca26"
             ],
             [
              1,
              "#f0f921"
             ]
            ],
            "type": "histogram2dcontour"
           }
          ],
          "mesh3d": [
           {
            "colorbar": {
             "outlinewidth": 0,
             "ticks": ""
            },
            "type": "mesh3d"
           }
          ],
          "parcoords": [
           {
            "line": {
             "colorbar": {
              "outlinewidth": 0,
              "ticks": ""
             }
            },
            "type": "parcoords"
           }
          ],
          "pie": [
           {
            "automargin": true,
            "type": "pie"
           }
          ],
          "scatter": [
           {
            "fillpattern": {
             "fillmode": "overlay",
             "size": 10,
             "solidity": 0.2
            },
            "type": "scatter"
           }
          ],
          "scatter3d": [
           {
            "line": {
             "colorbar": {
              "outlinewidth": 0,
              "ticks": ""
             }
            },
            "marker": {
             "colorbar": {
              "outlinewidth": 0,
              "ticks": ""
             }
            },
            "type": "scatter3d"
           }
          ],
          "scattercarpet": [
           {
            "marker": {
             "colorbar": {
              "outlinewidth": 0,
              "ticks": ""
             }
            },
            "type": "scattercarpet"
           }
          ],
          "scattergeo": [
           {
            "marker": {
             "colorbar": {
              "outlinewidth": 0,
              "ticks": ""
             }
            },
            "type": "scattergeo"
           }
          ],
          "scattergl": [
           {
            "marker": {
             "colorbar": {
              "outlinewidth": 0,
              "ticks": ""
             }
            },
            "type": "scattergl"
           }
          ],
          "scattermapbox": [
           {
            "marker": {
             "colorbar": {
              "outlinewidth": 0,
              "ticks": ""
             }
            },
            "type": "scattermapbox"
           }
          ],
          "scatterpolar": [
           {
            "marker": {
             "colorbar": {
              "outlinewidth": 0,
              "ticks": ""
             }
            },
            "type": "scatterpolar"
           }
          ],
          "scatterpolargl": [
           {
            "marker": {
             "colorbar": {
              "outlinewidth": 0,
              "ticks": ""
             }
            },
            "type": "scatterpolargl"
           }
          ],
          "scatterternary": [
           {
            "marker": {
             "colorbar": {
              "outlinewidth": 0,
              "ticks": ""
             }
            },
            "type": "scatterternary"
           }
          ],
          "surface": [
           {
            "colorbar": {
             "outlinewidth": 0,
             "ticks": ""
            },
            "colorscale": [
             [
              0,
              "#0d0887"
             ],
             [
              0.1111111111111111,
              "#46039f"
             ],
             [
              0.2222222222222222,
              "#7201a8"
             ],
             [
              0.3333333333333333,
              "#9c179e"
             ],
             [
              0.4444444444444444,
              "#bd3786"
             ],
             [
              0.5555555555555556,
              "#d8576b"
             ],
             [
              0.6666666666666666,
              "#ed7953"
             ],
             [
              0.7777777777777778,
              "#fb9f3a"
             ],
             [
              0.8888888888888888,
              "#fdca26"
             ],
             [
              1,
              "#f0f921"
             ]
            ],
            "type": "surface"
           }
          ],
          "table": [
           {
            "cells": {
             "fill": {
              "color": "#EBF0F8"
             },
             "line": {
              "color": "white"
             }
            },
            "header": {
             "fill": {
              "color": "#C8D4E3"
             },
             "line": {
              "color": "white"
             }
            },
            "type": "table"
           }
          ]
         },
         "layout": {
          "annotationdefaults": {
           "arrowcolor": "#2a3f5f",
           "arrowhead": 0,
           "arrowwidth": 1
          },
          "autotypenumbers": "strict",
          "coloraxis": {
           "colorbar": {
            "outlinewidth": 0,
            "ticks": ""
           }
          },
          "colorscale": {
           "diverging": [
            [
             0,
             "#8e0152"
            ],
            [
             0.1,
             "#c51b7d"
            ],
            [
             0.2,
             "#de77ae"
            ],
            [
             0.3,
             "#f1b6da"
            ],
            [
             0.4,
             "#fde0ef"
            ],
            [
             0.5,
             "#f7f7f7"
            ],
            [
             0.6,
             "#e6f5d0"
            ],
            [
             0.7,
             "#b8e186"
            ],
            [
             0.8,
             "#7fbc41"
            ],
            [
             0.9,
             "#4d9221"
            ],
            [
             1,
             "#276419"
            ]
           ],
           "sequential": [
            [
             0,
             "#0d0887"
            ],
            [
             0.1111111111111111,
             "#46039f"
            ],
            [
             0.2222222222222222,
             "#7201a8"
            ],
            [
             0.3333333333333333,
             "#9c179e"
            ],
            [
             0.4444444444444444,
             "#bd3786"
            ],
            [
             0.5555555555555556,
             "#d8576b"
            ],
            [
             0.6666666666666666,
             "#ed7953"
            ],
            [
             0.7777777777777778,
             "#fb9f3a"
            ],
            [
             0.8888888888888888,
             "#fdca26"
            ],
            [
             1,
             "#f0f921"
            ]
           ],
           "sequentialminus": [
            [
             0,
             "#0d0887"
            ],
            [
             0.1111111111111111,
             "#46039f"
            ],
            [
             0.2222222222222222,
             "#7201a8"
            ],
            [
             0.3333333333333333,
             "#9c179e"
            ],
            [
             0.4444444444444444,
             "#bd3786"
            ],
            [
             0.5555555555555556,
             "#d8576b"
            ],
            [
             0.6666666666666666,
             "#ed7953"
            ],
            [
             0.7777777777777778,
             "#fb9f3a"
            ],
            [
             0.8888888888888888,
             "#fdca26"
            ],
            [
             1,
             "#f0f921"
            ]
           ]
          },
          "colorway": [
           "#636efa",
           "#EF553B",
           "#00cc96",
           "#ab63fa",
           "#FFA15A",
           "#19d3f3",
           "#FF6692",
           "#B6E880",
           "#FF97FF",
           "#FECB52"
          ],
          "font": {
           "color": "#2a3f5f"
          },
          "geo": {
           "bgcolor": "white",
           "lakecolor": "white",
           "landcolor": "#E5ECF6",
           "showlakes": true,
           "showland": true,
           "subunitcolor": "white"
          },
          "hoverlabel": {
           "align": "left"
          },
          "hovermode": "closest",
          "mapbox": {
           "style": "light"
          },
          "paper_bgcolor": "white",
          "plot_bgcolor": "#E5ECF6",
          "polar": {
           "angularaxis": {
            "gridcolor": "white",
            "linecolor": "white",
            "ticks": ""
           },
           "bgcolor": "#E5ECF6",
           "radialaxis": {
            "gridcolor": "white",
            "linecolor": "white",
            "ticks": ""
           }
          },
          "scene": {
           "xaxis": {
            "backgroundcolor": "#E5ECF6",
            "gridcolor": "white",
            "gridwidth": 2,
            "linecolor": "white",
            "showbackground": true,
            "ticks": "",
            "zerolinecolor": "white"
           },
           "yaxis": {
            "backgroundcolor": "#E5ECF6",
            "gridcolor": "white",
            "gridwidth": 2,
            "linecolor": "white",
            "showbackground": true,
            "ticks": "",
            "zerolinecolor": "white"
           },
           "zaxis": {
            "backgroundcolor": "#E5ECF6",
            "gridcolor": "white",
            "gridwidth": 2,
            "linecolor": "white",
            "showbackground": true,
            "ticks": "",
            "zerolinecolor": "white"
           }
          },
          "shapedefaults": {
           "line": {
            "color": "#2a3f5f"
           }
          },
          "ternary": {
           "aaxis": {
            "gridcolor": "white",
            "linecolor": "white",
            "ticks": ""
           },
           "baxis": {
            "gridcolor": "white",
            "linecolor": "white",
            "ticks": ""
           },
           "bgcolor": "#E5ECF6",
           "caxis": {
            "gridcolor": "white",
            "linecolor": "white",
            "ticks": ""
           }
          },
          "title": {
           "x": 0.05
          },
          "xaxis": {
           "automargin": true,
           "gridcolor": "white",
           "linecolor": "white",
           "ticks": "",
           "title": {
            "standoff": 15
           },
           "zerolinecolor": "white",
           "zerolinewidth": 2
          },
          "yaxis": {
           "automargin": true,
           "gridcolor": "white",
           "linecolor": "white",
           "ticks": "",
           "title": {
            "standoff": 15
           },
           "zerolinecolor": "white",
           "zerolinewidth": 2
          }
         }
        },
        "title": {
         "text": "Spread evolution",
         "x": 0.5
        },
        "xaxis": {
         "anchor": "y",
         "color": "black",
         "domain": [
          0,
          1
         ],
         "gridcolor": "black",
         "tickcolor": "black",
         "title": {
          "text": "Index"
         }
        },
        "yaxis": {
         "anchor": "x",
         "color": "black",
         "domain": [
          0,
          1
         ],
         "gridcolor": "black",
         "tickcolor": "black",
         "title": {
          "text": "Spread"
         }
        }
       }
      }
     },
     "metadata": {},
     "output_type": "display_data"
    }
   ],
   "source": [
    "fig = px.line(spread_simulated)\n",
    "fig.update_traces(line_color = \"maroon\")\n",
    "\n",
    "fig.update_layout(\n",
    "    title_text=\"Spread evolution\",\n",
    "    title_x=0.5,\n",
    "    plot_bgcolor='white',  # set background color to white\n",
    "    paper_bgcolor='white',  # set background color to white\n",
    "    font=dict(color='black'),  # set font color to black\n",
    "    xaxis=dict(title_text=\"Index\", color='black', tickcolor='black', gridcolor='black'),  # set x-axis color, tick color, grid color, and grid width\n",
    "    yaxis=dict(title_text=\"Spread\", color='black', tickcolor='black', gridcolor='black'),  # set y-axis color, tick color, grid color, and grid width\n",
    ")\n",
    "fig.show()"
   ]
  },
  {
   "cell_type": "markdown",
   "metadata": {},
   "source": [
    "# Execution of orders"
   ]
  },
  {
   "cell_type": "code",
   "execution_count": 390,
   "metadata": {},
   "outputs": [],
   "source": [
    "def orders_simulaton(intensity_matrix, spread_changes, spread, lambda_max, initial_intensities, q):\n",
    "    '''\n",
    "    Simulates the execution orders (either ask or bid) through acceptance-rejection algorithm.\n",
    "\n",
    "    Parameters:\n",
    "        intensity_matrix (np.array): Values of intensity in relation to market maker's choice of quotes and spread.\n",
    "        spread_changes (np.array): Times when spread shifts\n",
    "        spread (np.array): Values of spread\n",
    "        lambda_max (float): Maximum possible value of lambda needed for acceptance-rejection algorithm, serving as a reference for accepting or rejecting the given arrival time\n",
    "        initial_intensities (np.array): Arrival times for the orders but generated with lambda_max as intensity\n",
    "        q (np.array): choice of quotes of the market maker\n",
    "\n",
    "    Returns:\n",
    "        (arrival_times, q_filtered) ((list, np.array)): Final arrival times of orders and matching quotes   \n",
    "    '''\n",
    "    lambda_process = []\n",
    "\n",
    "    for t, i in zip(initial_intensities, range(len(initial_intensities) + 1)):\n",
    "        spread_position = np.sum(t >= spread_changes)  # checking the spread at the arrival time t\n",
    "        lambda_process.append(intensity_matrix[spread[spread_position - 1], q[i]])   # choosing the realisation of intensity process based on the estimated intensity function and simulated spread\n",
    "\n",
    "\n",
    "    acceptance = np.where(lambda_process / lambda_max < np.random.uniform(0, 1, len(initial_intensities)), False, True)  # accepted arrival times\n",
    "\n",
    "    arrival_times = initial_intensities[acceptance]  # final arrival times\n",
    "    q_filtered = q[acceptance]  # filtered quotes - only at accepted arrival times\n",
    "\n",
    "    return (arrival_times, q_filtered)"
   ]
  },
  {
   "cell_type": "code",
   "execution_count": 391,
   "metadata": {},
   "outputs": [],
   "source": [
    "intensity_matrix_a = np.array([[0.0539, 0.1485], \n",
    "                              [0.0465, 0.0979],\n",
    "                              [0.0401, 0.0846],\n",
    "                              [0.0360, 0.0856],\n",
    "                              [0.0435, 0.1009],\n",
    "                              [0.0554, 0.1202]]) # Estimated intensities for given quotes and spread for ask\n",
    "\n",
    "intensity_matrix_b = np.array([[0.0718, 0.1763], \n",
    "                              [0.0520, 0.1144],\n",
    "                              [0.0419, 0.0915],\n",
    "                              [0.0409, 0.0896],\n",
    "                              [0.0452, 0.0930],\n",
    "                              [0.0614, 0.1255]])    # Estimated intensities for given quotes and spread for bid\n",
    "\n",
    "intensity_matrix_sym = (intensity_matrix_a + intensity_matrix_b) / 2    # Making bid and ask sides symmetric"
   ]
  },
  {
   "cell_type": "code",
   "execution_count": 392,
   "metadata": {},
   "outputs": [],
   "source": [
    "lambda_max = np.max(intensity_matrix_sym)  # maximum lambda serving as a reference for acceptance probability\n",
    "intensity_orders_a_simulation = poisson_point_process_sim(np.max(lambda_max), T) # simulation of the poisson process with maximum lambda as intensity for  ask\n",
    "intensity_orders_b_simulation = poisson_point_process_sim(np.max(lambda_max), T) # simulation of the poisson process with maximum lambda as intensity for bid\n",
    "\n",
    "q_a_initial = np.random.binomial(1, 0.5, len(intensity_orders_a_simulation[1]))  # ad-hoc choice of quotes for ask\n",
    "q_b_initial = np.random.binomial(1, 0.5, len(intensity_orders_b_simulation[1]))  # ad-hoc choice of quotes for bid"
   ]
  },
  {
   "cell_type": "code",
   "execution_count": 393,
   "metadata": {},
   "outputs": [],
   "source": [
    "orders_a_simulated = orders_simulaton(intensity_matrix_sym, PPP_spread[1], spread_simulated, lambda_max, intensity_orders_a_simulation[1], q_a_initial)\n",
    "orders_b_simulated = orders_simulaton(intensity_matrix_sym, PPP_spread[1], spread_simulated, lambda_max, intensity_orders_b_simulation[1], q_b_initial)\n",
    "\n",
    "orders_a = orders_a_simulated[0]  # final arrival times of ask orders\n",
    "orders_b = orders_b_simulated[0]  # final arrival times of bid orders\n",
    "q_a = orders_a_simulated[1]  # final quotes of ask orders at arrival times\n",
    "q_b = orders_b_simulated[1]  # final quotes of bid orders at arrival times"
   ]
  },
  {
   "cell_type": "code",
   "execution_count": 394,
   "metadata": {},
   "outputs": [
    {
     "data": {
      "application/vnd.plotly.v1+json": {
       "config": {
        "plotlyServerURL": "https://plot.ly"
       },
       "data": [
        {
         "line": {
          "color": "Maroon"
         },
         "mode": "lines",
         "name": "Ba",
         "type": "scatter",
         "x": [
          0.005,
          0.01,
          0.015,
          0.02,
          0.025,
          0.03
         ],
         "y": [
          0.0539,
          0.0465,
          0.0401,
          0.036,
          0.0435,
          0.0554
         ]
        },
        {
         "line": {
          "color": "turquoise"
         },
         "mode": "lines",
         "name": "Ba-",
         "type": "scatter",
         "x": [
          0.005,
          0.01,
          0.015,
          0.02,
          0.025,
          0.03
         ],
         "y": [
          0.1485,
          0.0979,
          0.0846,
          0.0856,
          0.1009,
          0.1202
         ]
        },
        {
         "line": {
          "color": "darkorange"
         },
         "mode": "lines",
         "name": "Bb",
         "type": "scatter",
         "x": [
          0.005,
          0.01,
          0.015,
          0.02,
          0.025,
          0.03
         ],
         "y": [
          0.0718,
          0.052,
          0.0419,
          0.0409,
          0.0452,
          0.0614
         ]
        },
        {
         "line": {
          "color": "green"
         },
         "mode": "lines",
         "name": "Bb+",
         "type": "scatter",
         "x": [
          0.005,
          0.01,
          0.015,
          0.02,
          0.025,
          0.03
         ],
         "y": [
          0.1763,
          0.1144,
          0.0915,
          0.0896,
          0.093,
          0.1255
         ]
        }
       ],
       "layout": {
        "font": {
         "color": "black"
        },
        "paper_bgcolor": "white",
        "plot_bgcolor": "white",
        "template": {
         "data": {
          "bar": [
           {
            "error_x": {
             "color": "#2a3f5f"
            },
            "error_y": {
             "color": "#2a3f5f"
            },
            "marker": {
             "line": {
              "color": "#E5ECF6",
              "width": 0.5
             },
             "pattern": {
              "fillmode": "overlay",
              "size": 10,
              "solidity": 0.2
             }
            },
            "type": "bar"
           }
          ],
          "barpolar": [
           {
            "marker": {
             "line": {
              "color": "#E5ECF6",
              "width": 0.5
             },
             "pattern": {
              "fillmode": "overlay",
              "size": 10,
              "solidity": 0.2
             }
            },
            "type": "barpolar"
           }
          ],
          "carpet": [
           {
            "aaxis": {
             "endlinecolor": "#2a3f5f",
             "gridcolor": "white",
             "linecolor": "white",
             "minorgridcolor": "white",
             "startlinecolor": "#2a3f5f"
            },
            "baxis": {
             "endlinecolor": "#2a3f5f",
             "gridcolor": "white",
             "linecolor": "white",
             "minorgridcolor": "white",
             "startlinecolor": "#2a3f5f"
            },
            "type": "carpet"
           }
          ],
          "choropleth": [
           {
            "colorbar": {
             "outlinewidth": 0,
             "ticks": ""
            },
            "type": "choropleth"
           }
          ],
          "contour": [
           {
            "colorbar": {
             "outlinewidth": 0,
             "ticks": ""
            },
            "colorscale": [
             [
              0,
              "#0d0887"
             ],
             [
              0.1111111111111111,
              "#46039f"
             ],
             [
              0.2222222222222222,
              "#7201a8"
             ],
             [
              0.3333333333333333,
              "#9c179e"
             ],
             [
              0.4444444444444444,
              "#bd3786"
             ],
             [
              0.5555555555555556,
              "#d8576b"
             ],
             [
              0.6666666666666666,
              "#ed7953"
             ],
             [
              0.7777777777777778,
              "#fb9f3a"
             ],
             [
              0.8888888888888888,
              "#fdca26"
             ],
             [
              1,
              "#f0f921"
             ]
            ],
            "type": "contour"
           }
          ],
          "contourcarpet": [
           {
            "colorbar": {
             "outlinewidth": 0,
             "ticks": ""
            },
            "type": "contourcarpet"
           }
          ],
          "heatmap": [
           {
            "colorbar": {
             "outlinewidth": 0,
             "ticks": ""
            },
            "colorscale": [
             [
              0,
              "#0d0887"
             ],
             [
              0.1111111111111111,
              "#46039f"
             ],
             [
              0.2222222222222222,
              "#7201a8"
             ],
             [
              0.3333333333333333,
              "#9c179e"
             ],
             [
              0.4444444444444444,
              "#bd3786"
             ],
             [
              0.5555555555555556,
              "#d8576b"
             ],
             [
              0.6666666666666666,
              "#ed7953"
             ],
             [
              0.7777777777777778,
              "#fb9f3a"
             ],
             [
              0.8888888888888888,
              "#fdca26"
             ],
             [
              1,
              "#f0f921"
             ]
            ],
            "type": "heatmap"
           }
          ],
          "heatmapgl": [
           {
            "colorbar": {
             "outlinewidth": 0,
             "ticks": ""
            },
            "colorscale": [
             [
              0,
              "#0d0887"
             ],
             [
              0.1111111111111111,
              "#46039f"
             ],
             [
              0.2222222222222222,
              "#7201a8"
             ],
             [
              0.3333333333333333,
              "#9c179e"
             ],
             [
              0.4444444444444444,
              "#bd3786"
             ],
             [
              0.5555555555555556,
              "#d8576b"
             ],
             [
              0.6666666666666666,
              "#ed7953"
             ],
             [
              0.7777777777777778,
              "#fb9f3a"
             ],
             [
              0.8888888888888888,
              "#fdca26"
             ],
             [
              1,
              "#f0f921"
             ]
            ],
            "type": "heatmapgl"
           }
          ],
          "histogram": [
           {
            "marker": {
             "pattern": {
              "fillmode": "overlay",
              "size": 10,
              "solidity": 0.2
             }
            },
            "type": "histogram"
           }
          ],
          "histogram2d": [
           {
            "colorbar": {
             "outlinewidth": 0,
             "ticks": ""
            },
            "colorscale": [
             [
              0,
              "#0d0887"
             ],
             [
              0.1111111111111111,
              "#46039f"
             ],
             [
              0.2222222222222222,
              "#7201a8"
             ],
             [
              0.3333333333333333,
              "#9c179e"
             ],
             [
              0.4444444444444444,
              "#bd3786"
             ],
             [
              0.5555555555555556,
              "#d8576b"
             ],
             [
              0.6666666666666666,
              "#ed7953"
             ],
             [
              0.7777777777777778,
              "#fb9f3a"
             ],
             [
              0.8888888888888888,
              "#fdca26"
             ],
             [
              1,
              "#f0f921"
             ]
            ],
            "type": "histogram2d"
           }
          ],
          "histogram2dcontour": [
           {
            "colorbar": {
             "outlinewidth": 0,
             "ticks": ""
            },
            "colorscale": [
             [
              0,
              "#0d0887"
             ],
             [
              0.1111111111111111,
              "#46039f"
             ],
             [
              0.2222222222222222,
              "#7201a8"
             ],
             [
              0.3333333333333333,
              "#9c179e"
             ],
             [
              0.4444444444444444,
              "#bd3786"
             ],
             [
              0.5555555555555556,
              "#d8576b"
             ],
             [
              0.6666666666666666,
              "#ed7953"
             ],
             [
              0.7777777777777778,
              "#fb9f3a"
             ],
             [
              0.8888888888888888,
              "#fdca26"
             ],
             [
              1,
              "#f0f921"
             ]
            ],
            "type": "histogram2dcontour"
           }
          ],
          "mesh3d": [
           {
            "colorbar": {
             "outlinewidth": 0,
             "ticks": ""
            },
            "type": "mesh3d"
           }
          ],
          "parcoords": [
           {
            "line": {
             "colorbar": {
              "outlinewidth": 0,
              "ticks": ""
             }
            },
            "type": "parcoords"
           }
          ],
          "pie": [
           {
            "automargin": true,
            "type": "pie"
           }
          ],
          "scatter": [
           {
            "fillpattern": {
             "fillmode": "overlay",
             "size": 10,
             "solidity": 0.2
            },
            "type": "scatter"
           }
          ],
          "scatter3d": [
           {
            "line": {
             "colorbar": {
              "outlinewidth": 0,
              "ticks": ""
             }
            },
            "marker": {
             "colorbar": {
              "outlinewidth": 0,
              "ticks": ""
             }
            },
            "type": "scatter3d"
           }
          ],
          "scattercarpet": [
           {
            "marker": {
             "colorbar": {
              "outlinewidth": 0,
              "ticks": ""
             }
            },
            "type": "scattercarpet"
           }
          ],
          "scattergeo": [
           {
            "marker": {
             "colorbar": {
              "outlinewidth": 0,
              "ticks": ""
             }
            },
            "type": "scattergeo"
           }
          ],
          "scattergl": [
           {
            "marker": {
             "colorbar": {
              "outlinewidth": 0,
              "ticks": ""
             }
            },
            "type": "scattergl"
           }
          ],
          "scattermapbox": [
           {
            "marker": {
             "colorbar": {
              "outlinewidth": 0,
              "ticks": ""
             }
            },
            "type": "scattermapbox"
           }
          ],
          "scatterpolar": [
           {
            "marker": {
             "colorbar": {
              "outlinewidth": 0,
              "ticks": ""
             }
            },
            "type": "scatterpolar"
           }
          ],
          "scatterpolargl": [
           {
            "marker": {
             "colorbar": {
              "outlinewidth": 0,
              "ticks": ""
             }
            },
            "type": "scatterpolargl"
           }
          ],
          "scatterternary": [
           {
            "marker": {
             "colorbar": {
              "outlinewidth": 0,
              "ticks": ""
             }
            },
            "type": "scatterternary"
           }
          ],
          "surface": [
           {
            "colorbar": {
             "outlinewidth": 0,
             "ticks": ""
            },
            "colorscale": [
             [
              0,
              "#0d0887"
             ],
             [
              0.1111111111111111,
              "#46039f"
             ],
             [
              0.2222222222222222,
              "#7201a8"
             ],
             [
              0.3333333333333333,
              "#9c179e"
             ],
             [
              0.4444444444444444,
              "#bd3786"
             ],
             [
              0.5555555555555556,
              "#d8576b"
             ],
             [
              0.6666666666666666,
              "#ed7953"
             ],
             [
              0.7777777777777778,
              "#fb9f3a"
             ],
             [
              0.8888888888888888,
              "#fdca26"
             ],
             [
              1,
              "#f0f921"
             ]
            ],
            "type": "surface"
           }
          ],
          "table": [
           {
            "cells": {
             "fill": {
              "color": "#EBF0F8"
             },
             "line": {
              "color": "white"
             }
            },
            "header": {
             "fill": {
              "color": "#C8D4E3"
             },
             "line": {
              "color": "white"
             }
            },
            "type": "table"
           }
          ]
         },
         "layout": {
          "annotationdefaults": {
           "arrowcolor": "#2a3f5f",
           "arrowhead": 0,
           "arrowwidth": 1
          },
          "autotypenumbers": "strict",
          "coloraxis": {
           "colorbar": {
            "outlinewidth": 0,
            "ticks": ""
           }
          },
          "colorscale": {
           "diverging": [
            [
             0,
             "#8e0152"
            ],
            [
             0.1,
             "#c51b7d"
            ],
            [
             0.2,
             "#de77ae"
            ],
            [
             0.3,
             "#f1b6da"
            ],
            [
             0.4,
             "#fde0ef"
            ],
            [
             0.5,
             "#f7f7f7"
            ],
            [
             0.6,
             "#e6f5d0"
            ],
            [
             0.7,
             "#b8e186"
            ],
            [
             0.8,
             "#7fbc41"
            ],
            [
             0.9,
             "#4d9221"
            ],
            [
             1,
             "#276419"
            ]
           ],
           "sequential": [
            [
             0,
             "#0d0887"
            ],
            [
             0.1111111111111111,
             "#46039f"
            ],
            [
             0.2222222222222222,
             "#7201a8"
            ],
            [
             0.3333333333333333,
             "#9c179e"
            ],
            [
             0.4444444444444444,
             "#bd3786"
            ],
            [
             0.5555555555555556,
             "#d8576b"
            ],
            [
             0.6666666666666666,
             "#ed7953"
            ],
            [
             0.7777777777777778,
             "#fb9f3a"
            ],
            [
             0.8888888888888888,
             "#fdca26"
            ],
            [
             1,
             "#f0f921"
            ]
           ],
           "sequentialminus": [
            [
             0,
             "#0d0887"
            ],
            [
             0.1111111111111111,
             "#46039f"
            ],
            [
             0.2222222222222222,
             "#7201a8"
            ],
            [
             0.3333333333333333,
             "#9c179e"
            ],
            [
             0.4444444444444444,
             "#bd3786"
            ],
            [
             0.5555555555555556,
             "#d8576b"
            ],
            [
             0.6666666666666666,
             "#ed7953"
            ],
            [
             0.7777777777777778,
             "#fb9f3a"
            ],
            [
             0.8888888888888888,
             "#fdca26"
            ],
            [
             1,
             "#f0f921"
            ]
           ]
          },
          "colorway": [
           "#636efa",
           "#EF553B",
           "#00cc96",
           "#ab63fa",
           "#FFA15A",
           "#19d3f3",
           "#FF6692",
           "#B6E880",
           "#FF97FF",
           "#FECB52"
          ],
          "font": {
           "color": "#2a3f5f"
          },
          "geo": {
           "bgcolor": "white",
           "lakecolor": "white",
           "landcolor": "#E5ECF6",
           "showlakes": true,
           "showland": true,
           "subunitcolor": "white"
          },
          "hoverlabel": {
           "align": "left"
          },
          "hovermode": "closest",
          "mapbox": {
           "style": "light"
          },
          "paper_bgcolor": "white",
          "plot_bgcolor": "#E5ECF6",
          "polar": {
           "angularaxis": {
            "gridcolor": "white",
            "linecolor": "white",
            "ticks": ""
           },
           "bgcolor": "#E5ECF6",
           "radialaxis": {
            "gridcolor": "white",
            "linecolor": "white",
            "ticks": ""
           }
          },
          "scene": {
           "xaxis": {
            "backgroundcolor": "#E5ECF6",
            "gridcolor": "white",
            "gridwidth": 2,
            "linecolor": "white",
            "showbackground": true,
            "ticks": "",
            "zerolinecolor": "white"
           },
           "yaxis": {
            "backgroundcolor": "#E5ECF6",
            "gridcolor": "white",
            "gridwidth": 2,
            "linecolor": "white",
            "showbackground": true,
            "ticks": "",
            "zerolinecolor": "white"
           },
           "zaxis": {
            "backgroundcolor": "#E5ECF6",
            "gridcolor": "white",
            "gridwidth": 2,
            "linecolor": "white",
            "showbackground": true,
            "ticks": "",
            "zerolinecolor": "white"
           }
          },
          "shapedefaults": {
           "line": {
            "color": "#2a3f5f"
           }
          },
          "ternary": {
           "aaxis": {
            "gridcolor": "white",
            "linecolor": "white",
            "ticks": ""
           },
           "baxis": {
            "gridcolor": "white",
            "linecolor": "white",
            "ticks": ""
           },
           "bgcolor": "#E5ECF6",
           "caxis": {
            "gridcolor": "white",
            "linecolor": "white",
            "ticks": ""
           }
          },
          "title": {
           "x": 0.05
          },
          "xaxis": {
           "automargin": true,
           "gridcolor": "white",
           "linecolor": "white",
           "ticks": "",
           "title": {
            "standoff": 15
           },
           "zerolinecolor": "white",
           "zerolinewidth": 2
          },
          "yaxis": {
           "automargin": true,
           "gridcolor": "white",
           "linecolor": "white",
           "ticks": "",
           "title": {
            "standoff": 15
           },
           "zerolinecolor": "white",
           "zerolinewidth": 2
          }
         }
        },
        "title": {
         "text": "Plot of execution intensities as a function of the spread, expressed as frequency",
         "x": 0.5
        },
        "xaxis": {
         "color": "black",
         "gridcolor": "black",
         "tickcolor": "black",
         "title": {
          "text": "Tick"
         }
        },
        "yaxis": {
         "color": "black",
         "gridcolor": "black",
         "tickcolor": "black",
         "title": {
          "text": "Execution intensities"
         }
        }
       }
      }
     },
     "metadata": {},
     "output_type": "display_data"
    }
   ],
   "source": [
    "import plotly.graph_objects as go\n",
    "\n",
    "x_values = [0.005, 0.01, 0.015, 0.02, 0.025, 0.03]\n",
    "\n",
    "fig = go.Figure()\n",
    "\n",
    "# Add lines to the plot\n",
    "fig.add_scatter(y=intensity_matrix_a[:,0], x=x_values, mode=\"lines\", name=\"Ba\", line_color=\"Maroon\")\n",
    "fig.add_scatter(y=intensity_matrix_a[:,1], x=x_values, mode=\"lines\", name=\"Ba-\", line_color=\"turquoise\")\n",
    "fig.add_scatter(y=intensity_matrix_b[:,0], x=x_values, mode=\"lines\", name=\"Bb\", line_color=\"darkorange\")\n",
    "fig.add_scatter(y=intensity_matrix_b[:,1], x=x_values, mode=\"lines\", name=\"Bb+\", line_color=\"green\")\n",
    "\n",
    "fig.update_layout(\n",
    "    title_text=\"Plot of execution intensities as a function of the spread, expressed as frequency\",\n",
    "    title_x=0.5,\n",
    "    plot_bgcolor='white',  # set background color to white\n",
    "    paper_bgcolor='white',  # set background color to white\n",
    "    font=dict(color='black'),  # set font color to black\n",
    "    xaxis=dict(title_text=\"Tick\", color='black', tickcolor='black', gridcolor='black'),  # set x-axis color, tick color, grid color, and grid width\n",
    "    yaxis=dict(title_text=\"Execution intensities\", color='black', tickcolor='black', gridcolor='black'),  # set y-axis color, tick color, grid color, and grid width\n",
    ")\n",
    "\n",
    "fig.show()"
   ]
  },
  {
   "cell_type": "markdown",
   "metadata": {},
   "source": [
    "# Price process"
   ]
  },
  {
   "cell_type": "markdown",
   "metadata": {},
   "source": [
    "The price is assumed to follow Bachelier model dynamics given by: \n",
    "$$dP_t=bdt+\\sigma dW_t$$\n",
    "Therefore:\n",
    "$$P_t = P_0 + bt + \\sigma W_t$$"
   ]
  },
  {
   "cell_type": "code",
   "execution_count": 395,
   "metadata": {},
   "outputs": [],
   "source": [
    "def price_sim(b, P_0, t, sigma, W):\n",
    "    return P_0 + b * t + sigma * W  # Bachelier model dynamics"
   ]
  },
  {
   "cell_type": "code",
   "execution_count": 396,
   "metadata": {},
   "outputs": [],
   "source": [
    "timeline = np.sort(np.concatenate((orders_a, orders_b, PPP_spread[1])))  # merged times at which there is a trade execution or change of spread\n",
    "W_t = np.cumsum(np.concatenate(([0], np.random.normal(0, np.sqrt(T * dt), int(1 / dt))))) # simulation of Brownian motion between subsequent times (variance equal to time difference)\n",
    "t_price = np.arange(0, T + T * dt / 2, T * dt) \n",
    "\n",
    "p_t = price_sim(b, P_0, t_price, sigma, np.array(W_t))  # final price process"
   ]
  },
  {
   "cell_type": "code",
   "execution_count": 397,
   "metadata": {},
   "outputs": [
    {
     "data": {
      "application/vnd.plotly.v1+json": {
       "config": {
        "plotlyServerURL": "https://plot.ly"
       },
       "data": [
        {
         "hovertemplate": "variable=0<br>index=%{x}<br>value=%{y}<extra></extra>",
         "legendgroup": "0",
         "line": {
          "color": "maroon",
          "dash": "solid"
         },
         "marker": {
          "symbol": "circle"
         },
         "mode": "lines",
         "name": "0",
         "showlegend": true,
         "type": "scattergl",
         "x": [
          0,
          1,
          2,
          3,
          4,
          5,
          6,
          7,
          8,
          9,
          10,
          11,
          12,
          13,
          14,
          15,
          16,
          17,
          18,
          19,
          20,
          21,
          22,
          23,
          24,
          25,
          26,
          27,
          28,
          29,
          30,
          31,
          32,
          33,
          34,
          35,
          36,
          37,
          38,
          39,
          40,
          41,
          42,
          43,
          44,
          45,
          46,
          47,
          48,
          49,
          50,
          51,
          52,
          53,
          54,
          55,
          56,
          57,
          58,
          59,
          60,
          61,
          62,
          63,
          64,
          65,
          66,
          67,
          68,
          69,
          70,
          71,
          72,
          73,
          74,
          75,
          76,
          77,
          78,
          79,
          80,
          81,
          82,
          83,
          84,
          85,
          86,
          87,
          88,
          89,
          90,
          91,
          92,
          93,
          94,
          95,
          96,
          97,
          98,
          99,
          100,
          101,
          102,
          103,
          104,
          105,
          106,
          107,
          108,
          109,
          110,
          111,
          112,
          113,
          114,
          115,
          116,
          117,
          118,
          119,
          120,
          121,
          122,
          123,
          124,
          125,
          126,
          127,
          128,
          129,
          130,
          131,
          132,
          133,
          134,
          135,
          136,
          137,
          138,
          139,
          140,
          141,
          142,
          143,
          144,
          145,
          146,
          147,
          148,
          149,
          150,
          151,
          152,
          153,
          154,
          155,
          156,
          157,
          158,
          159,
          160,
          161,
          162,
          163,
          164,
          165,
          166,
          167,
          168,
          169,
          170,
          171,
          172,
          173,
          174,
          175,
          176,
          177,
          178,
          179,
          180,
          181,
          182,
          183,
          184,
          185,
          186,
          187,
          188,
          189,
          190,
          191,
          192,
          193,
          194,
          195,
          196,
          197,
          198,
          199,
          200,
          201,
          202,
          203,
          204,
          205,
          206,
          207,
          208,
          209,
          210,
          211,
          212,
          213,
          214,
          215,
          216,
          217,
          218,
          219,
          220,
          221,
          222,
          223,
          224,
          225,
          226,
          227,
          228,
          229,
          230,
          231,
          232,
          233,
          234,
          235,
          236,
          237,
          238,
          239,
          240,
          241,
          242,
          243,
          244,
          245,
          246,
          247,
          248,
          249,
          250,
          251,
          252,
          253,
          254,
          255,
          256,
          257,
          258,
          259,
          260,
          261,
          262,
          263,
          264,
          265,
          266,
          267,
          268,
          269,
          270,
          271,
          272,
          273,
          274,
          275,
          276,
          277,
          278,
          279,
          280,
          281,
          282,
          283,
          284,
          285,
          286,
          287,
          288,
          289,
          290,
          291,
          292,
          293,
          294,
          295,
          296,
          297,
          298,
          299,
          300,
          301,
          302,
          303,
          304,
          305,
          306,
          307,
          308,
          309,
          310,
          311,
          312,
          313,
          314,
          315,
          316,
          317,
          318,
          319,
          320,
          321,
          322,
          323,
          324,
          325,
          326,
          327,
          328,
          329,
          330,
          331,
          332,
          333,
          334,
          335,
          336,
          337,
          338,
          339,
          340,
          341,
          342,
          343,
          344,
          345,
          346,
          347,
          348,
          349,
          350,
          351,
          352,
          353,
          354,
          355,
          356,
          357,
          358,
          359,
          360,
          361,
          362,
          363,
          364,
          365,
          366,
          367,
          368,
          369,
          370,
          371,
          372,
          373,
          374,
          375,
          376,
          377,
          378,
          379,
          380,
          381,
          382,
          383,
          384,
          385,
          386,
          387,
          388,
          389,
          390,
          391,
          392,
          393,
          394,
          395,
          396,
          397,
          398,
          399,
          400,
          401,
          402,
          403,
          404,
          405,
          406,
          407,
          408,
          409,
          410,
          411,
          412,
          413,
          414,
          415,
          416,
          417,
          418,
          419,
          420,
          421,
          422,
          423,
          424,
          425,
          426,
          427,
          428,
          429,
          430,
          431,
          432,
          433,
          434,
          435,
          436,
          437,
          438,
          439,
          440,
          441,
          442,
          443,
          444,
          445,
          446,
          447,
          448,
          449,
          450,
          451,
          452,
          453,
          454,
          455,
          456,
          457,
          458,
          459,
          460,
          461,
          462,
          463,
          464,
          465,
          466,
          467,
          468,
          469,
          470,
          471,
          472,
          473,
          474,
          475,
          476,
          477,
          478,
          479,
          480,
          481,
          482,
          483,
          484,
          485,
          486,
          487,
          488,
          489,
          490,
          491,
          492,
          493,
          494,
          495,
          496,
          497,
          498,
          499,
          500,
          501,
          502,
          503,
          504,
          505,
          506,
          507,
          508,
          509,
          510,
          511,
          512,
          513,
          514,
          515,
          516,
          517,
          518,
          519,
          520,
          521,
          522,
          523,
          524,
          525,
          526,
          527,
          528,
          529,
          530,
          531,
          532,
          533,
          534,
          535,
          536,
          537,
          538,
          539,
          540,
          541,
          542,
          543,
          544,
          545,
          546,
          547,
          548,
          549,
          550,
          551,
          552,
          553,
          554,
          555,
          556,
          557,
          558,
          559,
          560,
          561,
          562,
          563,
          564,
          565,
          566,
          567,
          568,
          569,
          570,
          571,
          572,
          573,
          574,
          575,
          576,
          577,
          578,
          579,
          580,
          581,
          582,
          583,
          584,
          585,
          586,
          587,
          588,
          589,
          590,
          591,
          592,
          593,
          594,
          595,
          596,
          597,
          598,
          599,
          600,
          601,
          602,
          603,
          604,
          605,
          606,
          607,
          608,
          609,
          610,
          611,
          612,
          613,
          614,
          615,
          616,
          617,
          618,
          619,
          620,
          621,
          622,
          623,
          624,
          625,
          626,
          627,
          628,
          629,
          630,
          631,
          632,
          633,
          634,
          635,
          636,
          637,
          638,
          639,
          640,
          641,
          642,
          643,
          644,
          645,
          646,
          647,
          648,
          649,
          650,
          651,
          652,
          653,
          654,
          655,
          656,
          657,
          658,
          659,
          660,
          661,
          662,
          663,
          664,
          665,
          666,
          667,
          668,
          669,
          670,
          671,
          672,
          673,
          674,
          675,
          676,
          677,
          678,
          679,
          680,
          681,
          682,
          683,
          684,
          685,
          686,
          687,
          688,
          689,
          690,
          691,
          692,
          693,
          694,
          695,
          696,
          697,
          698,
          699,
          700,
          701,
          702,
          703,
          704,
          705,
          706,
          707,
          708,
          709,
          710,
          711,
          712,
          713,
          714,
          715,
          716,
          717,
          718,
          719,
          720,
          721,
          722,
          723,
          724,
          725,
          726,
          727,
          728,
          729,
          730,
          731,
          732,
          733,
          734,
          735,
          736,
          737,
          738,
          739,
          740,
          741,
          742,
          743,
          744,
          745,
          746,
          747,
          748,
          749,
          750,
          751,
          752,
          753,
          754,
          755,
          756,
          757,
          758,
          759,
          760,
          761,
          762,
          763,
          764,
          765,
          766,
          767,
          768,
          769,
          770,
          771,
          772,
          773,
          774,
          775,
          776,
          777,
          778,
          779,
          780,
          781,
          782,
          783,
          784,
          785,
          786,
          787,
          788,
          789,
          790,
          791,
          792,
          793,
          794,
          795,
          796,
          797,
          798,
          799,
          800,
          801,
          802,
          803,
          804,
          805,
          806,
          807,
          808,
          809,
          810,
          811,
          812,
          813,
          814,
          815,
          816,
          817,
          818,
          819,
          820,
          821,
          822,
          823,
          824,
          825,
          826,
          827,
          828,
          829,
          830,
          831,
          832,
          833,
          834,
          835,
          836,
          837,
          838,
          839,
          840,
          841,
          842,
          843,
          844,
          845,
          846,
          847,
          848,
          849,
          850,
          851,
          852,
          853,
          854,
          855,
          856,
          857,
          858,
          859,
          860,
          861,
          862,
          863,
          864,
          865,
          866,
          867,
          868,
          869,
          870,
          871,
          872,
          873,
          874,
          875,
          876,
          877,
          878,
          879,
          880,
          881,
          882,
          883,
          884,
          885,
          886,
          887,
          888,
          889,
          890,
          891,
          892,
          893,
          894,
          895,
          896,
          897,
          898,
          899,
          900,
          901,
          902,
          903,
          904,
          905,
          906,
          907,
          908,
          909,
          910,
          911,
          912,
          913,
          914,
          915,
          916,
          917,
          918,
          919,
          920,
          921,
          922,
          923,
          924,
          925,
          926,
          927,
          928,
          929,
          930,
          931,
          932,
          933,
          934,
          935,
          936,
          937,
          938,
          939,
          940,
          941,
          942,
          943,
          944,
          945,
          946,
          947,
          948,
          949,
          950,
          951,
          952,
          953,
          954,
          955,
          956,
          957,
          958,
          959,
          960,
          961,
          962,
          963,
          964,
          965,
          966,
          967,
          968,
          969,
          970,
          971,
          972,
          973,
          974,
          975,
          976,
          977,
          978,
          979,
          980,
          981,
          982,
          983,
          984,
          985,
          986,
          987,
          988,
          989,
          990,
          991,
          992,
          993,
          994,
          995,
          996,
          997,
          998,
          999,
          1000
         ],
         "xaxis": "x",
         "y": [
          45,
          45.011176426804795,
          45.036436200597045,
          45.03140032893113,
          44.92112177904901,
          44.9731922130378,
          44.95147768608948,
          44.90460676537614,
          44.85113098099842,
          44.86306574737006,
          44.789108364405905,
          44.72427098875995,
          44.72832722021333,
          44.760058572662494,
          44.77463053273087,
          44.91980500441783,
          44.88383756170982,
          44.94128423973302,
          44.95036811582807,
          44.96434866917997,
          45.02012444922694,
          44.996965636213304,
          45.00075212431581,
          45.00616494357203,
          45.04146816896707,
          45.058275669965674,
          45.08388601193868,
          45.06872969458423,
          45.056157744541345,
          45.114550900182245,
          45.19444815862348,
          45.284974005519274,
          45.30799036520324,
          45.21027983150343,
          45.26909787233138,
          45.266533250747216,
          45.27566068502511,
          45.28057752668096,
          45.325846200049405,
          45.37407983085976,
          45.354783370455955,
          45.35131634214086,
          45.2915199627875,
          45.339563132796854,
          45.324703536944206,
          45.31534107726657,
          45.284409828269595,
          45.283665433239555,
          45.349823705942974,
          45.37340017838211,
          45.47636374575359,
          45.40292789921947,
          45.51941802571347,
          45.48972790671501,
          45.5435482890858,
          45.4722750832983,
          45.478938210821894,
          45.50296961934502,
          45.59891865456044,
          45.53997810120488,
          45.51984483934182,
          45.474486404123525,
          45.398794668767295,
          45.38135961646948,
          45.467810557573806,
          45.44573767504378,
          45.39568665369524,
          45.3764762532592,
          45.44526624180212,
          45.49928606931368,
          45.49731834711138,
          45.47622370491933,
          45.482607263312225,
          45.41504507083044,
          45.47921753375503,
          45.48413268899423,
          45.43870428429513,
          45.40565023164443,
          45.337405340219895,
          45.3841912906319,
          45.3558797487272,
          45.3640647797134,
          45.32200884522859,
          45.235053954343186,
          45.256905711154666,
          45.27278658454903,
          45.21083409031649,
          45.29270813985276,
          45.33076319312833,
          45.3884471037255,
          45.34561132526912,
          45.33724737797855,
          45.37270089772799,
          45.39573377555764,
          45.449087197180056,
          45.525198286436996,
          45.541446406551536,
          45.48268444010381,
          45.43066317356654,
          45.39160113419264,
          45.39654213957544,
          45.26682304068703,
          45.26314000944245,
          45.2191675814576,
          45.27553609184182,
          45.26823297657762,
          45.244547375740815,
          45.38569480912342,
          45.32580049663628,
          45.3136180827986,
          45.358710699021685,
          45.38447102968006,
          45.40656587764003,
          45.36181456766781,
          45.42717096745437,
          45.47615893158993,
          45.427093983219876,
          45.38797927149256,
          45.46989938653833,
          45.378630056989856,
          45.51192154867741,
          45.5166276538713,
          45.38577685713217,
          45.4854663928712,
          45.52331790200754,
          45.44762740263595,
          45.431959865704044,
          45.32799421293801,
          45.34587517773416,
          45.45288900889009,
          45.43037810806026,
          45.531997942315236,
          45.5833164753441,
          45.64073077536837,
          45.668274541283196,
          45.658686144473755,
          45.70147965574112,
          45.69406081550549,
          45.61199966235264,
          45.5680412464049,
          45.57433332367966,
          45.56241456637115,
          45.58881922806374,
          45.56641628762896,
          45.5875738084332,
          45.60220603891854,
          45.59581625888948,
          45.58014400082084,
          45.5345337726482,
          45.554774057664574,
          45.65148100052379,
          45.6491073320122,
          45.61173621825662,
          45.578563931213665,
          45.69912688113146,
          45.72314310993274,
          45.64723866587707,
          45.6023457081166,
          45.64150555192213,
          45.62222217375358,
          45.51504784298755,
          45.48725994291371,
          45.55785653825294,
          45.63817738695562,
          45.56521980867439,
          45.60183403081172,
          45.63110168122834,
          45.605461978572826,
          45.65071309207683,
          45.60063817422066,
          45.51404166296666,
          45.50160477587051,
          45.43710776280045,
          45.33379666004206,
          45.27877175824519,
          45.310562842545124,
          45.40461550074752,
          45.402234041102986,
          45.341645087542915,
          45.335911122298356,
          45.3013906108513,
          45.26699198253461,
          45.25592869838232,
          45.3112354860583,
          45.34207149683261,
          45.313464416819286,
          45.24829850448246,
          45.18538568918504,
          45.18657371937548,
          45.25138253853795,
          45.34344690125788,
          45.38225359529675,
          45.43709917137759,
          45.53209486911388,
          45.414327594778804,
          45.46652040708122,
          45.5703269878553,
          45.552408899039385,
          45.52729258466777,
          45.6476652572055,
          45.68108868622743,
          45.68981094618919,
          45.61869645069963,
          45.519078313717344,
          45.5458489644208,
          45.50800740807458,
          45.48227479109547,
          45.45992927746102,
          45.38954110243144,
          45.38810666851278,
          45.531497971806914,
          45.57031512427294,
          45.585760115170416,
          45.63809003665399,
          45.565357637826615,
          45.63638339135578,
          45.72790349252859,
          45.65879803541169,
          45.67911547823904,
          45.673496152329506,
          45.716297396097644,
          45.77909628537919,
          45.78790113156751,
          45.75993187114198,
          45.77942272362402,
          45.710674580896026,
          45.63828884013704,
          45.72107538060348,
          45.769958053151356,
          45.79704814179437,
          45.7595722746669,
          45.687399173581724,
          45.67515162121806,
          45.62584784933846,
          45.735326226992804,
          45.760450197480004,
          45.734341056681046,
          45.73760796192575,
          45.73540505005717,
          45.839521102057695,
          45.79869840380156,
          45.78200109382715,
          45.719310592391494,
          45.69032185795858,
          45.70409991076239,
          45.754168362726716,
          45.76218864210465,
          45.78051351353302,
          45.76249105025561,
          45.72536406881185,
          45.648596419464084,
          45.711271153820555,
          45.78399933494077,
          45.81803964606202,
          45.75938552889151,
          45.702826548457445,
          45.772226869600836,
          45.79310331488874,
          45.79208863632124,
          45.85385062725401,
          45.82687292068454,
          45.80153896378489,
          45.79356365415392,
          45.77552680399953,
          45.740731060579996,
          45.744572732761725,
          45.68834645348929,
          45.79180422666682,
          45.79923121037477,
          45.842664313718544,
          45.90591707263556,
          45.85492429049076,
          45.825000525969635,
          45.752915599893875,
          45.78226147917445,
          45.8267822608125,
          45.780389173890256,
          45.767701198275155,
          45.75584062564327,
          45.71291675814555,
          45.666927930310315,
          45.58915659982099,
          45.60064681521681,
          45.63134098361184,
          45.67773398352736,
          45.706851551608466,
          45.683931280165886,
          45.64296414862885,
          45.64560824878295,
          45.659352126449235,
          45.65599967108304,
          45.58464892726876,
          45.60170944946052,
          45.60327103315564,
          45.591950507900805,
          45.592850344979546,
          45.61894220080854,
          45.520270330916055,
          45.493082556496816,
          45.46411866391959,
          45.50878768409586,
          45.524674594964566,
          45.55234052922304,
          45.51614373842111,
          45.46410823404834,
          45.432136143817246,
          45.463848964514824,
          45.466064495142504,
          45.44174161988477,
          45.37957632825957,
          45.39345737723982,
          45.31865962567635,
          45.27970620895168,
          45.2539974974079,
          45.20015118728729,
          45.30682887436352,
          45.32593771143418,
          45.31672820026561,
          45.31907194552047,
          45.35440624706506,
          45.29689032968993,
          45.32283962379089,
          45.40971789886912,
          45.40605517660587,
          45.408695049882525,
          45.387413049345696,
          45.407590890121334,
          45.31808272238816,
          45.36518969119507,
          45.245357180862605,
          45.363951957088794,
          45.35432739169657,
          45.36792833492546,
          45.409615841269606,
          45.36358283950634,
          45.401419899835226,
          45.507647195460386,
          45.53419181096256,
          45.475408690070786,
          45.4845252524792,
          45.53961145469296,
          45.497040585778336,
          45.54473272898776,
          45.50971704868254,
          45.54198250844192,
          45.57243696357636,
          45.661521364936974,
          45.76830778717268,
          45.824848213737134,
          45.76212239282681,
          45.758447397478626,
          45.81970704760288,
          45.78172434252977,
          45.73736957356939,
          45.7523170633969,
          45.751419591002985,
          45.754611798283264,
          45.71498244776451,
          45.7608732863326,
          45.780844622656375,
          45.74803375694972,
          45.70637384834838,
          45.73885511996661,
          45.783580264252,
          45.79407409353184,
          45.845725425544344,
          45.88469328506,
          45.816451161079726,
          45.777622669202145,
          45.74733758834805,
          45.79275615868218,
          45.71846748482625,
          45.674377489961564,
          45.67533497164221,
          45.65016845682692,
          45.733643810153914,
          45.7068355456629,
          45.7201916149368,
          45.64396708790992,
          45.62537791862387,
          45.760945079434975,
          45.7581148510421,
          45.756324034934,
          45.63709737948711,
          45.58071523754863,
          45.587000018844726,
          45.62934671488832,
          45.64837196552682,
          45.55156271213729,
          45.60879288777403,
          45.48762439558725,
          45.50576653226312,
          45.54782560442671,
          45.56400938419095,
          45.53319403987121,
          45.47493371401892,
          45.453208360529395,
          45.461035247343844,
          45.39235215073799,
          45.371637239340984,
          45.3715030696075,
          45.26256892746776,
          45.261778021977776,
          45.292039559955896,
          45.320543204543306,
          45.336359238542016,
          45.244106567742655,
          45.26748812095491,
          45.26003636428594,
          45.28693684764092,
          45.31559083640623,
          45.30355825176736,
          45.389317592387016,
          45.438711917156716,
          45.42520809342421,
          45.43387298877816,
          45.35223697585372,
          45.44075299513518,
          45.45604594670176,
          45.50344204958854,
          45.437019612532566,
          45.399640411771,
          45.34989719404325,
          45.4051661996193,
          45.37975178018912,
          45.34340354121398,
          45.33165738110505,
          45.33509106965849,
          45.39869565504696,
          45.44827540998116,
          45.42753002321407,
          45.45277180057911,
          45.456733789426146,
          45.3493091775466,
          45.41341244972845,
          45.362348424417036,
          45.27908493531921,
          45.16716343808844,
          45.14376315568426,
          45.110368618480294,
          45.136447217014776,
          45.18832449233263,
          45.142830297044625,
          45.11100699276811,
          45.07438395502787,
          44.9890342194975,
          45.03180685947444,
          44.96358596014757,
          44.869628695733894,
          44.89667144780747,
          44.990469182080744,
          44.94755599466507,
          44.98383953362229,
          44.94473875211718,
          44.90677117125175,
          44.883217480106545,
          44.825844625580366,
          44.83968515157604,
          44.781911688948945,
          44.785608095335725,
          44.82008909957808,
          44.779727971162885,
          44.848773056644994,
          44.94831910543136,
          44.989597423312965,
          45.015792131346785,
          45.07703912853931,
          45.12438939298668,
          45.157428971824245,
          45.17032160718138,
          45.180061333382405,
          45.13842584757008,
          45.09556869310369,
          45.060485701147456,
          44.94699390130128,
          44.90938769672665,
          44.930780042246795,
          44.95528362461049,
          44.876628760467725,
          44.79734495676177,
          44.85128607789849,
          44.75043844468237,
          44.76233147046224,
          44.72346854324093,
          44.733416824910954,
          44.70914165400238,
          44.74080933085251,
          44.79409897507662,
          44.88760001940723,
          44.84501806188501,
          44.8395450240229,
          44.89841959341601,
          44.88190284706381,
          44.8362034748101,
          44.77596571662475,
          44.677600077316576,
          44.66110272911565,
          44.606716688364244,
          44.529695757231615,
          44.297328780942394,
          44.1936011527159,
          44.11812483429562,
          44.14411261779345,
          44.17001159581115,
          44.09024754542195,
          44.08383724931119,
          44.01616448573996,
          44.00485157743152,
          43.95271334610143,
          43.93863198604247,
          43.88202137457221,
          43.91450461377998,
          44.008959500533116,
          43.988430790499706,
          44.021985432781925,
          44.03693001644185,
          43.99737194822531,
          43.915291806766234,
          43.79966354523114,
          43.93379483889547,
          43.82032745967413,
          43.72988316261194,
          43.727266778393414,
          43.619837772436284,
          43.58703659088025,
          43.56254265289031,
          43.508456554824356,
          43.46941930937654,
          43.43208835414774,
          43.31640116568474,
          43.211240499730664,
          43.22749178539043,
          43.27432824043273,
          43.11693573079965,
          43.235535262079416,
          43.22407136607973,
          43.25419220732983,
          43.26286202620112,
          43.30305790953941,
          43.2817411329268,
          43.36776581349559,
          43.299790287875766,
          43.25645908174989,
          43.28161273646498,
          43.240369820775776,
          43.29932316545137,
          43.373036660622645,
          43.411085032753,
          43.32259503916214,
          43.1644502162549,
          43.21151964136724,
          43.195331336089026,
          43.20960792014656,
          43.20070886893201,
          43.264115860930914,
          43.26951020980365,
          43.26721618880777,
          43.24787024647292,
          43.21488911279168,
          43.279054853484055,
          43.270092977448336,
          43.25025890815079,
          43.25661519778944,
          43.31628312230292,
          43.362945992439116,
          43.291357793968416,
          43.23058281644585,
          43.189519886566,
          43.10951223052054,
          43.046114538133835,
          42.96113158940024,
          43.0507136294601,
          43.05953725101806,
          43.094032726008116,
          43.0543532854184,
          43.07973929487632,
          43.011553465092526,
          43.06130964164318,
          43.05108018477894,
          42.980309990683025,
          43.041036938199696,
          43.017230356048785,
          43.04090277420395,
          43.00165875321342,
          43.09735998573284,
          43.13991319246327,
          43.14152961544543,
          43.136666732982164,
          43.15974378763373,
          43.2023394762281,
          43.20137948592033,
          43.145677969477205,
          43.17394571561679,
          43.15383079805536,
          43.15299182740381,
          43.11903250129366,
          43.18068040048746,
          43.20441936550281,
          43.232021927389425,
          43.21756881082006,
          43.19274377897852,
          43.27204587229293,
          43.256964471327294,
          43.220620138435606,
          43.22724684444715,
          43.19149837254108,
          43.20848596307163,
          43.20001292308409,
          43.19576131481902,
          43.200818668574115,
          43.21978905599506,
          43.15559668516367,
          43.15161900153126,
          43.164978125256674,
          43.115082778410695,
          43.089928501099976,
          43.06226208799731,
          43.07891622026874,
          43.18087277936596,
          43.296763988054735,
          43.35335490875137,
          43.33035675594263,
          43.41395107570638,
          43.38002325946477,
          43.33269809167334,
          43.341478029237415,
          43.335978626673544,
          43.30603788069185,
          43.353430582120474,
          43.34503802135167,
          43.24579335544871,
          43.18674172677004,
          43.146989228966305,
          43.20448190180718,
          43.21078117165612,
          43.207091559177286,
          43.19104687190531,
          43.279286097963315,
          43.32401628689845,
          43.25152056869742,
          43.35607428661134,
          43.36589241497392,
          43.361711007523276,
          43.38568534040087,
          43.51494446178694,
          43.43716441035737,
          43.50848397714762,
          43.437245456010174,
          43.40424579770618,
          43.50570893121295,
          43.473052140216254,
          43.353042691892846,
          43.451612769885784,
          43.46237941949474,
          43.47675222584931,
          43.44459812559677,
          43.511873698670264,
          43.496374147153375,
          43.49399330552387,
          43.483884787138976,
          43.3951476226061,
          43.465693024037805,
          43.43231184587071,
          43.46995387378195,
          43.45216300218843,
          43.52509534461193,
          43.54929975067771,
          43.567527054519886,
          43.571954300240044,
          43.59494783124294,
          43.677027448165525,
          43.73013149382801,
          43.7137484670966,
          43.633249599697415,
          43.64947302870589,
          43.58236957831332,
          43.51927267769649,
          43.427636608476526,
          43.35828458791154,
          43.39290272066845,
          43.430482074120846,
          43.401535920162395,
          43.38847262387436,
          43.43147753965316,
          43.44440583244194,
          43.393876263672965,
          43.356549744838006,
          43.220650434217504,
          43.19281091748394,
          43.1941051129068,
          43.1768253500401,
          43.178480321188125,
          43.11606529032886,
          43.076645456446784,
          42.99286084515815,
          42.93342161712844,
          42.90264687986272,
          42.8823232569244,
          42.915795407943634,
          42.85962292371226,
          42.7957813773402,
          42.69352600791895,
          42.742260250085366,
          42.74363273555496,
          42.683893188630975,
          42.66074356928679,
          42.672199932575005,
          42.65938801100127,
          42.632129210607815,
          42.62463093368659,
          42.65755689210092,
          42.66802184344959,
          42.7183830228317,
          42.67009288881386,
          42.67268211286259,
          42.70344019203174,
          42.702246900877185,
          42.63488573524496,
          42.62778917216193,
          42.712577460175496,
          42.710117051224486,
          42.71429399717373,
          42.66861866888787,
          42.617429709742595,
          42.596632422825195,
          42.64622493673244,
          42.66534090094541,
          42.67874605106121,
          42.70595843775642,
          42.744885242743784,
          42.75206886404887,
          42.804205963111606,
          42.83420228725003,
          42.82599942131145,
          42.882893020780735,
          42.918450268944106,
          42.77258037452542,
          42.73691571742162,
          42.7280648400356,
          42.77836779844019,
          42.74154745002002,
          42.76118169818234,
          42.67256300136184,
          42.750657378270624,
          42.73189684927754,
          42.732907264495346,
          42.70007106655625,
          42.76243335797386,
          42.79000095260927,
          42.91286454352239,
          42.89324969130642,
          42.809840842779344,
          42.782725516866755,
          42.823321978973446,
          42.745270680371796,
          42.72711269556685,
          42.66881713646248,
          42.693513209726504,
          42.702180818947504,
          42.77213641476978,
          42.77134393587175,
          42.7250438701938,
          42.74767380332939,
          42.80558658100032,
          42.76608361646643,
          42.80255198650519,
          42.832834327485145,
          42.83058893541221,
          42.91070831055434,
          42.933452655695746,
          42.95948556785294,
          42.867103084519535,
          42.882682470829344,
          42.86513111257819,
          42.85708334192674,
          42.86533488785375,
          42.853354905405595,
          42.83049404056223,
          42.84318861624856,
          42.773565480855694,
          42.695695980295035,
          42.6569055041892,
          42.66640085512011,
          42.76088105716843,
          42.78855975741693,
          42.852600737257134,
          42.789996255441565,
          42.78058141463415,
          42.773530522338795,
          42.69932836120814,
          42.6936189149366,
          42.66372594278926,
          42.77559524959556,
          42.746253200592605,
          42.7486541851458,
          42.64706418031148,
          42.62030798735499,
          42.50203948305188,
          42.53676987615992,
          42.603816964311356,
          42.52631220384134,
          42.50913071135521,
          42.52616025273568,
          42.5876029784686,
          42.52966135335547,
          42.56307746564716,
          42.482945086690194,
          42.459679991200616,
          42.47151551570843,
          42.51067270863416,
          42.4791893390088,
          42.45593809534379,
          42.51547973490566,
          42.58295228518001,
          42.66513051556309,
          42.66721542357159,
          42.75276577692317,
          42.71351340717346,
          42.69050881304546,
          42.65257985639387,
          42.632219541588135,
          42.63762995456103,
          42.54534897416123,
          42.49725057992213,
          42.496937440554944,
          42.427253414102985,
          42.48751046779499,
          42.368964026696766,
          42.322835277559214,
          42.40265229853881,
          42.43408105866242,
          42.446417628778725,
          42.48819977250573,
          42.53736400084249,
          42.50775015545774,
          42.4941795071768,
          42.463678197585565,
          42.51287768393048,
          42.464020032709186,
          42.4802633673064,
          42.40232412931271,
          42.354466731298025,
          42.36510996048246,
          42.41381011250758,
          42.370273444806095,
          42.36641125887944,
          42.31947577774942,
          42.27912435713484,
          42.28157895037062,
          42.339959054032185,
          42.442997280921,
          42.44530151239496,
          42.39463758325585,
          42.280938582343786,
          42.21838276056932,
          42.27367589877653,
          42.287790813487426,
          42.306561546694034,
          42.25849778506199,
          42.24442405300099,
          42.26930997413962,
          42.2848681018946,
          42.300679506344046,
          42.32197726232853,
          42.37062528191903,
          42.288354829396596,
          42.27550082712809,
          42.22410208057003,
          42.24753094582013,
          42.22157946903394,
          42.217735375453024,
          42.29354278967242,
          42.26041594887652,
          42.29865966622401,
          42.26806100447025,
          42.25840527193511,
          42.27015216377587,
          42.32664740799375,
          42.28023795713149,
          42.18236568864886,
          42.14005932842813,
          42.02968381462109,
          42.11900703426456,
          42.18164015971375,
          42.23830903079631,
          42.295740559299844,
          42.33042971105026,
          42.371700263145435,
          42.32352886247527,
          42.47234215070063,
          42.51782523820272,
          42.47699610586689,
          42.433850448142884,
          42.436618150617136,
          42.42347686465749,
          42.49444501807686,
          42.515843156532746,
          42.54435522230207,
          42.46852398088774,
          42.46724608586368,
          42.58190190039264,
          42.62604790024833,
          42.54981373819453,
          42.553056209038935,
          42.597997910415565,
          42.64882108756902,
          42.61470266651545,
          42.60042885698271,
          42.636591460319956,
          42.748586347264144,
          42.66342451418604,
          42.53206089490635,
          42.55105750889354,
          42.508946755732076,
          42.46678742966356,
          42.37446974325731,
          42.33003537784247,
          42.36505969791384,
          42.431051628187475,
          42.50335804667101,
          42.6157317115187,
          42.63339097598468,
          42.725601610623926,
          42.67734466497665,
          42.681867206623586,
          42.70671056459414,
          42.74315178569428,
          42.69331445625081,
          42.660069767957424,
          42.64354674565483,
          42.70471643921487,
          42.72371476408326,
          42.75319609689768,
          42.814832387073615,
          42.9167552935471,
          42.85996063259208,
          42.817189451561596,
          42.78772644144716,
          42.78238438093606,
          42.89342973595239,
          42.90334001216375,
          42.84884859577668,
          42.78732809624849,
          42.8534013885677,
          42.88870885550596,
          42.85898181170905,
          42.841750067037,
          42.962608939356706,
          42.91537760731706,
          42.98327744505327,
          43.03361730203952,
          43.0451097696749,
          43.05134498429751,
          43.02104146989651,
          42.96695176021344,
          43.026560158283324,
          42.935779757577635,
          42.984025908428755,
          43.00753540405586,
          43.05629576147681,
          43.09012790099745,
          43.03035378116145,
          43.05071346088639,
          42.98241452484104,
          43.07238336388401,
          43.116649092593875,
          43.13299803101903,
          43.162381751507965,
          43.030629056524035,
          43.03708340280846,
          43.01220185881666,
          43.05964041100327,
          43.14668247103817,
          43.15502023540477,
          43.18573635761336,
          43.227605672864954,
          43.12990108791532,
          43.08725630138102,
          43.014522918907666,
          42.93142853508323,
          42.92473235625297,
          42.978632707018406,
          42.870005273660475,
          42.86191437988854,
          42.89499856441933,
          42.94761070136283,
          43.03368331664571,
          43.044279888650756,
          43.00348149136458,
          42.99507363408073,
          43.000619744384245,
          42.89359547568426,
          43.058021398995024,
          43.10787617571257,
          43.21077955898161,
          43.18244038695196,
          43.147636671284125,
          43.201638675980014,
          43.134232237192,
          43.173323391656545,
          43.211528543378314
         ],
         "yaxis": "y"
        }
       ],
       "layout": {
        "font": {
         "color": "black"
        },
        "legend": {
         "title": {
          "text": "variable"
         },
         "tracegroupgap": 0
        },
        "margin": {
         "t": 60
        },
        "paper_bgcolor": "white",
        "plot_bgcolor": "white",
        "template": {
         "data": {
          "bar": [
           {
            "error_x": {
             "color": "#2a3f5f"
            },
            "error_y": {
             "color": "#2a3f5f"
            },
            "marker": {
             "line": {
              "color": "#E5ECF6",
              "width": 0.5
             },
             "pattern": {
              "fillmode": "overlay",
              "size": 10,
              "solidity": 0.2
             }
            },
            "type": "bar"
           }
          ],
          "barpolar": [
           {
            "marker": {
             "line": {
              "color": "#E5ECF6",
              "width": 0.5
             },
             "pattern": {
              "fillmode": "overlay",
              "size": 10,
              "solidity": 0.2
             }
            },
            "type": "barpolar"
           }
          ],
          "carpet": [
           {
            "aaxis": {
             "endlinecolor": "#2a3f5f",
             "gridcolor": "white",
             "linecolor": "white",
             "minorgridcolor": "white",
             "startlinecolor": "#2a3f5f"
            },
            "baxis": {
             "endlinecolor": "#2a3f5f",
             "gridcolor": "white",
             "linecolor": "white",
             "minorgridcolor": "white",
             "startlinecolor": "#2a3f5f"
            },
            "type": "carpet"
           }
          ],
          "choropleth": [
           {
            "colorbar": {
             "outlinewidth": 0,
             "ticks": ""
            },
            "type": "choropleth"
           }
          ],
          "contour": [
           {
            "colorbar": {
             "outlinewidth": 0,
             "ticks": ""
            },
            "colorscale": [
             [
              0,
              "#0d0887"
             ],
             [
              0.1111111111111111,
              "#46039f"
             ],
             [
              0.2222222222222222,
              "#7201a8"
             ],
             [
              0.3333333333333333,
              "#9c179e"
             ],
             [
              0.4444444444444444,
              "#bd3786"
             ],
             [
              0.5555555555555556,
              "#d8576b"
             ],
             [
              0.6666666666666666,
              "#ed7953"
             ],
             [
              0.7777777777777778,
              "#fb9f3a"
             ],
             [
              0.8888888888888888,
              "#fdca26"
             ],
             [
              1,
              "#f0f921"
             ]
            ],
            "type": "contour"
           }
          ],
          "contourcarpet": [
           {
            "colorbar": {
             "outlinewidth": 0,
             "ticks": ""
            },
            "type": "contourcarpet"
           }
          ],
          "heatmap": [
           {
            "colorbar": {
             "outlinewidth": 0,
             "ticks": ""
            },
            "colorscale": [
             [
              0,
              "#0d0887"
             ],
             [
              0.1111111111111111,
              "#46039f"
             ],
             [
              0.2222222222222222,
              "#7201a8"
             ],
             [
              0.3333333333333333,
              "#9c179e"
             ],
             [
              0.4444444444444444,
              "#bd3786"
             ],
             [
              0.5555555555555556,
              "#d8576b"
             ],
             [
              0.6666666666666666,
              "#ed7953"
             ],
             [
              0.7777777777777778,
              "#fb9f3a"
             ],
             [
              0.8888888888888888,
              "#fdca26"
             ],
             [
              1,
              "#f0f921"
             ]
            ],
            "type": "heatmap"
           }
          ],
          "heatmapgl": [
           {
            "colorbar": {
             "outlinewidth": 0,
             "ticks": ""
            },
            "colorscale": [
             [
              0,
              "#0d0887"
             ],
             [
              0.1111111111111111,
              "#46039f"
             ],
             [
              0.2222222222222222,
              "#7201a8"
             ],
             [
              0.3333333333333333,
              "#9c179e"
             ],
             [
              0.4444444444444444,
              "#bd3786"
             ],
             [
              0.5555555555555556,
              "#d8576b"
             ],
             [
              0.6666666666666666,
              "#ed7953"
             ],
             [
              0.7777777777777778,
              "#fb9f3a"
             ],
             [
              0.8888888888888888,
              "#fdca26"
             ],
             [
              1,
              "#f0f921"
             ]
            ],
            "type": "heatmapgl"
           }
          ],
          "histogram": [
           {
            "marker": {
             "pattern": {
              "fillmode": "overlay",
              "size": 10,
              "solidity": 0.2
             }
            },
            "type": "histogram"
           }
          ],
          "histogram2d": [
           {
            "colorbar": {
             "outlinewidth": 0,
             "ticks": ""
            },
            "colorscale": [
             [
              0,
              "#0d0887"
             ],
             [
              0.1111111111111111,
              "#46039f"
             ],
             [
              0.2222222222222222,
              "#7201a8"
             ],
             [
              0.3333333333333333,
              "#9c179e"
             ],
             [
              0.4444444444444444,
              "#bd3786"
             ],
             [
              0.5555555555555556,
              "#d8576b"
             ],
             [
              0.6666666666666666,
              "#ed7953"
             ],
             [
              0.7777777777777778,
              "#fb9f3a"
             ],
             [
              0.8888888888888888,
              "#fdca26"
             ],
             [
              1,
              "#f0f921"
             ]
            ],
            "type": "histogram2d"
           }
          ],
          "histogram2dcontour": [
           {
            "colorbar": {
             "outlinewidth": 0,
             "ticks": ""
            },
            "colorscale": [
             [
              0,
              "#0d0887"
             ],
             [
              0.1111111111111111,
              "#46039f"
             ],
             [
              0.2222222222222222,
              "#7201a8"
             ],
             [
              0.3333333333333333,
              "#9c179e"
             ],
             [
              0.4444444444444444,
              "#bd3786"
             ],
             [
              0.5555555555555556,
              "#d8576b"
             ],
             [
              0.6666666666666666,
              "#ed7953"
             ],
             [
              0.7777777777777778,
              "#fb9f3a"
             ],
             [
              0.8888888888888888,
              "#fdca26"
             ],
             [
              1,
              "#f0f921"
             ]
            ],
            "type": "histogram2dcontour"
           }
          ],
          "mesh3d": [
           {
            "colorbar": {
             "outlinewidth": 0,
             "ticks": ""
            },
            "type": "mesh3d"
           }
          ],
          "parcoords": [
           {
            "line": {
             "colorbar": {
              "outlinewidth": 0,
              "ticks": ""
             }
            },
            "type": "parcoords"
           }
          ],
          "pie": [
           {
            "automargin": true,
            "type": "pie"
           }
          ],
          "scatter": [
           {
            "fillpattern": {
             "fillmode": "overlay",
             "size": 10,
             "solidity": 0.2
            },
            "type": "scatter"
           }
          ],
          "scatter3d": [
           {
            "line": {
             "colorbar": {
              "outlinewidth": 0,
              "ticks": ""
             }
            },
            "marker": {
             "colorbar": {
              "outlinewidth": 0,
              "ticks": ""
             }
            },
            "type": "scatter3d"
           }
          ],
          "scattercarpet": [
           {
            "marker": {
             "colorbar": {
              "outlinewidth": 0,
              "ticks": ""
             }
            },
            "type": "scattercarpet"
           }
          ],
          "scattergeo": [
           {
            "marker": {
             "colorbar": {
              "outlinewidth": 0,
              "ticks": ""
             }
            },
            "type": "scattergeo"
           }
          ],
          "scattergl": [
           {
            "marker": {
             "colorbar": {
              "outlinewidth": 0,
              "ticks": ""
             }
            },
            "type": "scattergl"
           }
          ],
          "scattermapbox": [
           {
            "marker": {
             "colorbar": {
              "outlinewidth": 0,
              "ticks": ""
             }
            },
            "type": "scattermapbox"
           }
          ],
          "scatterpolar": [
           {
            "marker": {
             "colorbar": {
              "outlinewidth": 0,
              "ticks": ""
             }
            },
            "type": "scatterpolar"
           }
          ],
          "scatterpolargl": [
           {
            "marker": {
             "colorbar": {
              "outlinewidth": 0,
              "ticks": ""
             }
            },
            "type": "scatterpolargl"
           }
          ],
          "scatterternary": [
           {
            "marker": {
             "colorbar": {
              "outlinewidth": 0,
              "ticks": ""
             }
            },
            "type": "scatterternary"
           }
          ],
          "surface": [
           {
            "colorbar": {
             "outlinewidth": 0,
             "ticks": ""
            },
            "colorscale": [
             [
              0,
              "#0d0887"
             ],
             [
              0.1111111111111111,
              "#46039f"
             ],
             [
              0.2222222222222222,
              "#7201a8"
             ],
             [
              0.3333333333333333,
              "#9c179e"
             ],
             [
              0.4444444444444444,
              "#bd3786"
             ],
             [
              0.5555555555555556,
              "#d8576b"
             ],
             [
              0.6666666666666666,
              "#ed7953"
             ],
             [
              0.7777777777777778,
              "#fb9f3a"
             ],
             [
              0.8888888888888888,
              "#fdca26"
             ],
             [
              1,
              "#f0f921"
             ]
            ],
            "type": "surface"
           }
          ],
          "table": [
           {
            "cells": {
             "fill": {
              "color": "#EBF0F8"
             },
             "line": {
              "color": "white"
             }
            },
            "header": {
             "fill": {
              "color": "#C8D4E3"
             },
             "line": {
              "color": "white"
             }
            },
            "type": "table"
           }
          ]
         },
         "layout": {
          "annotationdefaults": {
           "arrowcolor": "#2a3f5f",
           "arrowhead": 0,
           "arrowwidth": 1
          },
          "autotypenumbers": "strict",
          "coloraxis": {
           "colorbar": {
            "outlinewidth": 0,
            "ticks": ""
           }
          },
          "colorscale": {
           "diverging": [
            [
             0,
             "#8e0152"
            ],
            [
             0.1,
             "#c51b7d"
            ],
            [
             0.2,
             "#de77ae"
            ],
            [
             0.3,
             "#f1b6da"
            ],
            [
             0.4,
             "#fde0ef"
            ],
            [
             0.5,
             "#f7f7f7"
            ],
            [
             0.6,
             "#e6f5d0"
            ],
            [
             0.7,
             "#b8e186"
            ],
            [
             0.8,
             "#7fbc41"
            ],
            [
             0.9,
             "#4d9221"
            ],
            [
             1,
             "#276419"
            ]
           ],
           "sequential": [
            [
             0,
             "#0d0887"
            ],
            [
             0.1111111111111111,
             "#46039f"
            ],
            [
             0.2222222222222222,
             "#7201a8"
            ],
            [
             0.3333333333333333,
             "#9c179e"
            ],
            [
             0.4444444444444444,
             "#bd3786"
            ],
            [
             0.5555555555555556,
             "#d8576b"
            ],
            [
             0.6666666666666666,
             "#ed7953"
            ],
            [
             0.7777777777777778,
             "#fb9f3a"
            ],
            [
             0.8888888888888888,
             "#fdca26"
            ],
            [
             1,
             "#f0f921"
            ]
           ],
           "sequentialminus": [
            [
             0,
             "#0d0887"
            ],
            [
             0.1111111111111111,
             "#46039f"
            ],
            [
             0.2222222222222222,
             "#7201a8"
            ],
            [
             0.3333333333333333,
             "#9c179e"
            ],
            [
             0.4444444444444444,
             "#bd3786"
            ],
            [
             0.5555555555555556,
             "#d8576b"
            ],
            [
             0.6666666666666666,
             "#ed7953"
            ],
            [
             0.7777777777777778,
             "#fb9f3a"
            ],
            [
             0.8888888888888888,
             "#fdca26"
            ],
            [
             1,
             "#f0f921"
            ]
           ]
          },
          "colorway": [
           "#636efa",
           "#EF553B",
           "#00cc96",
           "#ab63fa",
           "#FFA15A",
           "#19d3f3",
           "#FF6692",
           "#B6E880",
           "#FF97FF",
           "#FECB52"
          ],
          "font": {
           "color": "#2a3f5f"
          },
          "geo": {
           "bgcolor": "white",
           "lakecolor": "white",
           "landcolor": "#E5ECF6",
           "showlakes": true,
           "showland": true,
           "subunitcolor": "white"
          },
          "hoverlabel": {
           "align": "left"
          },
          "hovermode": "closest",
          "mapbox": {
           "style": "light"
          },
          "paper_bgcolor": "white",
          "plot_bgcolor": "#E5ECF6",
          "polar": {
           "angularaxis": {
            "gridcolor": "white",
            "linecolor": "white",
            "ticks": ""
           },
           "bgcolor": "#E5ECF6",
           "radialaxis": {
            "gridcolor": "white",
            "linecolor": "white",
            "ticks": ""
           }
          },
          "scene": {
           "xaxis": {
            "backgroundcolor": "#E5ECF6",
            "gridcolor": "white",
            "gridwidth": 2,
            "linecolor": "white",
            "showbackground": true,
            "ticks": "",
            "zerolinecolor": "white"
           },
           "yaxis": {
            "backgroundcolor": "#E5ECF6",
            "gridcolor": "white",
            "gridwidth": 2,
            "linecolor": "white",
            "showbackground": true,
            "ticks": "",
            "zerolinecolor": "white"
           },
           "zaxis": {
            "backgroundcolor": "#E5ECF6",
            "gridcolor": "white",
            "gridwidth": 2,
            "linecolor": "white",
            "showbackground": true,
            "ticks": "",
            "zerolinecolor": "white"
           }
          },
          "shapedefaults": {
           "line": {
            "color": "#2a3f5f"
           }
          },
          "ternary": {
           "aaxis": {
            "gridcolor": "white",
            "linecolor": "white",
            "ticks": ""
           },
           "baxis": {
            "gridcolor": "white",
            "linecolor": "white",
            "ticks": ""
           },
           "bgcolor": "#E5ECF6",
           "caxis": {
            "gridcolor": "white",
            "linecolor": "white",
            "ticks": ""
           }
          },
          "title": {
           "x": 0.05
          },
          "xaxis": {
           "automargin": true,
           "gridcolor": "white",
           "linecolor": "white",
           "ticks": "",
           "title": {
            "standoff": 15
           },
           "zerolinecolor": "white",
           "zerolinewidth": 2
          },
          "yaxis": {
           "automargin": true,
           "gridcolor": "white",
           "linecolor": "white",
           "ticks": "",
           "title": {
            "standoff": 15
           },
           "zerolinecolor": "white",
           "zerolinewidth": 2
          }
         }
        },
        "title": {
         "text": "Price evolution",
         "x": 0.5
        },
        "xaxis": {
         "anchor": "y",
         "color": "black",
         "domain": [
          0,
          1
         ],
         "gridcolor": "black",
         "tickcolor": "black",
         "title": {
          "text": "Index"
         }
        },
        "yaxis": {
         "anchor": "x",
         "color": "black",
         "domain": [
          0,
          1
         ],
         "gridcolor": "black",
         "tickcolor": "black",
         "title": {
          "text": "Price"
         }
        }
       }
      }
     },
     "metadata": {},
     "output_type": "display_data"
    }
   ],
   "source": [
    "fig = px.line(p_t)\n",
    "fig.update_traces(line_color = \"maroon\")\n",
    "\n",
    "fig.update_layout(\n",
    "    title_text=\"Price evolution\",\n",
    "    title_x=0.5,\n",
    "    plot_bgcolor='white',  # set background color to white\n",
    "    paper_bgcolor='white',  # set background color to white\n",
    "    font=dict(color='black'),  # set font color to black\n",
    "    xaxis=dict(title_text=\"Index\", color='black', tickcolor='black', gridcolor='black'),  # set x-axis color, tick color, grid color, and grid width\n",
    "    yaxis=dict(title_text=\"Price\", color='black', tickcolor='black', gridcolor='black'),  # set y-axis color, tick color, grid color, and grid width\n",
    ")\n",
    "\n",
    "fig.show()"
   ]
  },
  {
   "cell_type": "markdown",
   "metadata": {},
   "source": [
    "# Cash and inventory"
   ]
  },
  {
   "cell_type": "markdown",
   "metadata": {},
   "source": [
    "The inventory follows the natural dynamics given by arrival times of buy and sell orders and sizes of the respective transactions ($L_t^a$ and $L_t^b$):\n",
    "\n",
    "$$dY_t = L_t^bdN_t^b - L_t^adN_t^a$$\n",
    "\n",
    "The cash dynamics is very similar with reversed signs (when the market makers buy, he/she uses cash and vice versa) and prices of the market maker $\\pi^b(Q_t^b, P_{t^-}, S_{t^-})$ and $\\pi^a(Q_t^a, P_{t^-}, S_{t^-})$:\n",
    "\n",
    "$$dX_t = -\\pi^b(Q_t^b, P_{t^-}, S_{t^-}) L_t^bdN_t^b + \\pi^a(Q_t^a, P_{t^-}, S_{t^-}) L_t^adN_t^a$$\n",
    "\n",
    "where \n",
    "\n",
    "$$\\pi^b(Q_t^b, P_{t^-}, S_{t^-}) = \n",
    "\\begin{cases}\n",
    "    p-\\frac{s}{2} & \\text{for } q_b = Bb \\\\\n",
    "    p-\\frac{s}{2} + \\delta & \\text{for } q_b = Bb_+\n",
    "\\end{cases}$$\n",
    "\n",
    "$$\\pi^a(Q_t^a, P_{t^-}, S_{t^-}) = \n",
    "\\begin{cases}\n",
    "    p+\\frac{s}{2} & \\text{for } q_a = Ba \\\\\n",
    "    p+\\frac{s}{2} - \\delta & \\text{for } q_a = Ba_-\n",
    "\\end{cases}$$\n",
    "\n",
    "where $p$ is the price, $s$ is the spread, $Bb$, $Ba$ are the choices of the existing spread and $Bb_+$, $Ba_-$ are the choices of spread updated by a tick to have a more favourable position.\n"
   ]
  },
  {
   "cell_type": "code",
   "execution_count": 398,
   "metadata": {},
   "outputs": [],
   "source": [
    "def inventory_sim(N_a, N_b, l_a, l_b, Y_0):\n",
    "    '''\n",
    "    Simulates the inventory process.\n",
    "\n",
    "    Parameters:\n",
    "        N_a (np.array): Arrival times of buy orders\n",
    "        N_b (np.array): Arrival times of sell orders\n",
    "        l_a (np.array): Sizes of buy orders\n",
    "        l_b (np.array): Sizes of sell orders\n",
    "        Y_0 (float): Initial inventory (at time t=0)\n",
    "\n",
    "    Returns:\n",
    "       Y (np.array): Realisation of the inventory process\n",
    "    '''\n",
    "    Y = [Y_0]\n",
    "    index_a = 0   # counter for sizes of ask orders \n",
    "    index_b = 0   # counter for sizes of bid orders \n",
    "\n",
    "    for t, index_y in zip(np.sort(np.concatenate((N_a, N_b))), range(1, len(np.concatenate((N_a, N_b)) + 1))):      # merged times of orders\n",
    "        \n",
    "        # check whether at a given time it is a bid or an ask order \n",
    "        if t in N_b:        \n",
    "            Y.append(Y[index_y - 1] + l_b[index_b])   # if bid - add inventory\n",
    "            index_b =+ 1\n",
    "        else:\n",
    "            Y.append(Y[index_y - 1] - l_a[index_a])   # if ask - subtract inventory\n",
    "            index_a =+ 1\n",
    "\n",
    "    return Y"
   ]
  },
  {
   "cell_type": "code",
   "execution_count": 399,
   "metadata": {},
   "outputs": [],
   "source": [
    "def cash_sim(N_a, N_b, l_a, l_b, X_0, delta, q_a, q_b, s, spread_changes, p, price_changes):\n",
    "    '''\n",
    "    Simulates the cash process.\n",
    "\n",
    "    Parameters:\n",
    "        N_a (np.array): Arrival times of buy orders\n",
    "        N_b (np.array): Arrival times of sell orders\n",
    "        l_a (np.array): Sizes of buy orders\n",
    "        l_b (np.array): Sizes of sell orders\n",
    "        X_0 (float): Initial cash (at time t=0)\n",
    "        delta (float): Parameter which may be used by a market maker to update the spread\n",
    "        s (np.array): Realisation of the spread process\n",
    "        spread_changes (np.array): Times when spread changes\n",
    "        p (np.array): Realisation of the price process\n",
    "        price_changes (np.array): Times when price changes\n",
    "\n",
    "    Returns:\n",
    "       X (np.array): Realisation of the cash process\n",
    "    '''\n",
    "\n",
    "    X = [X_0]\n",
    "    index_a = 0\n",
    "    index_b = 0\n",
    "\n",
    "    for t, index_x in zip(np.sort(np.concatenate((N_a, N_b))), range(1, len(np.concatenate((N_a, N_b)) + 1))):\n",
    "        \n",
    "        spread_position = np.sum(t >= spread_changes)  # extracting spread at time t\n",
    "        price_position = np.sum(t >= price_changes)  # extracting price at time t\n",
    "        \n",
    "        # check whether at a given time it is a bid or an ask order \n",
    "        if t in N_b:\n",
    "            if q_b[index_b] == 1:   # checking which quote to use\n",
    "                pi_b = p[price_position - 1] - s[spread_position - 1] / 2 + delta\n",
    "            else:\n",
    "                pi_b = p[price_position - 1] - s[spread_position - 1] / 2\n",
    "            X.append((X[index_x - 1] - pi_b * l_b[index_b]))    # if bid subtract cash as I bought\n",
    "            index_b =+ 1\n",
    "        else:\n",
    "            if q_a[index_a] == 1:\n",
    "                pi_a = p[price_position - 1] + s[spread_position - 1] / 2 - delta\n",
    "            else:\n",
    "                pi_a = p[price_position - 1] + s[spread_position - 1] / 2\n",
    "            X.append((X[index_x - 1] + pi_a * l_a[index_a]))  # If ask add cash as I sold\n",
    "            index_a =+ 1\n",
    "\n",
    "    return X"
   ]
  },
  {
   "cell_type": "code",
   "execution_count": 400,
   "metadata": {},
   "outputs": [],
   "source": [
    "l_a = np.repeat(l_const, len(orders_a))\n",
    "l_b = np.repeat(l_const, len(orders_b))\n"
   ]
  },
  {
   "cell_type": "code",
   "execution_count": 401,
   "metadata": {},
   "outputs": [],
   "source": [
    "Y_t = inventory_sim(orders_a, orders_b, l_a, l_b, Y_0)  # realisation of inventory\n",
    "X_t = cash_sim(orders_a, orders_b, l_a, l_b, X_0, delta, q_a, q_b, s_t, PPP_spread[1], p_t, t_price) # realisation of cash\n"
   ]
  },
  {
   "cell_type": "code",
   "execution_count": 402,
   "metadata": {},
   "outputs": [
    {
     "data": {
      "application/vnd.plotly.v1+json": {
       "config": {
        "plotlyServerURL": "https://plot.ly"
       },
       "data": [
        {
         "hovertemplate": "variable=0<br>index=%{x}<br>value=%{y}<extra></extra>",
         "legendgroup": "0",
         "line": {
          "color": "maroon",
          "dash": "solid"
         },
         "marker": {
          "symbol": "circle"
         },
         "mode": "lines",
         "name": "0",
         "orientation": "v",
         "showlegend": true,
         "type": "scatter",
         "x": [
          0,
          1,
          2,
          3,
          4,
          5,
          6,
          7,
          8,
          9,
          10,
          11,
          12,
          13,
          14,
          15,
          16,
          17,
          18,
          19,
          20,
          21,
          22,
          23,
          24,
          25,
          26,
          27,
          28,
          29,
          30,
          31,
          32,
          33,
          34,
          35,
          36,
          37,
          38,
          39,
          40,
          41,
          42,
          43
         ],
         "xaxis": "x",
         "y": [
          0,
          100,
          0,
          100,
          0,
          -100,
          -200,
          -300,
          -200,
          -100,
          0,
          100,
          0,
          100,
          0,
          100,
          200,
          300,
          400,
          500,
          600,
          500,
          600,
          700,
          800,
          900,
          800,
          900,
          800,
          900,
          800,
          700,
          800,
          700,
          600,
          700,
          800,
          900,
          800,
          700,
          600,
          500,
          400,
          300
         ],
         "yaxis": "y"
        }
       ],
       "layout": {
        "font": {
         "color": "black"
        },
        "legend": {
         "title": {
          "text": "variable"
         },
         "tracegroupgap": 0
        },
        "margin": {
         "t": 60
        },
        "paper_bgcolor": "white",
        "plot_bgcolor": "white",
        "template": {
         "data": {
          "bar": [
           {
            "error_x": {
             "color": "#2a3f5f"
            },
            "error_y": {
             "color": "#2a3f5f"
            },
            "marker": {
             "line": {
              "color": "#E5ECF6",
              "width": 0.5
             },
             "pattern": {
              "fillmode": "overlay",
              "size": 10,
              "solidity": 0.2
             }
            },
            "type": "bar"
           }
          ],
          "barpolar": [
           {
            "marker": {
             "line": {
              "color": "#E5ECF6",
              "width": 0.5
             },
             "pattern": {
              "fillmode": "overlay",
              "size": 10,
              "solidity": 0.2
             }
            },
            "type": "barpolar"
           }
          ],
          "carpet": [
           {
            "aaxis": {
             "endlinecolor": "#2a3f5f",
             "gridcolor": "white",
             "linecolor": "white",
             "minorgridcolor": "white",
             "startlinecolor": "#2a3f5f"
            },
            "baxis": {
             "endlinecolor": "#2a3f5f",
             "gridcolor": "white",
             "linecolor": "white",
             "minorgridcolor": "white",
             "startlinecolor": "#2a3f5f"
            },
            "type": "carpet"
           }
          ],
          "choropleth": [
           {
            "colorbar": {
             "outlinewidth": 0,
             "ticks": ""
            },
            "type": "choropleth"
           }
          ],
          "contour": [
           {
            "colorbar": {
             "outlinewidth": 0,
             "ticks": ""
            },
            "colorscale": [
             [
              0,
              "#0d0887"
             ],
             [
              0.1111111111111111,
              "#46039f"
             ],
             [
              0.2222222222222222,
              "#7201a8"
             ],
             [
              0.3333333333333333,
              "#9c179e"
             ],
             [
              0.4444444444444444,
              "#bd3786"
             ],
             [
              0.5555555555555556,
              "#d8576b"
             ],
             [
              0.6666666666666666,
              "#ed7953"
             ],
             [
              0.7777777777777778,
              "#fb9f3a"
             ],
             [
              0.8888888888888888,
              "#fdca26"
             ],
             [
              1,
              "#f0f921"
             ]
            ],
            "type": "contour"
           }
          ],
          "contourcarpet": [
           {
            "colorbar": {
             "outlinewidth": 0,
             "ticks": ""
            },
            "type": "contourcarpet"
           }
          ],
          "heatmap": [
           {
            "colorbar": {
             "outlinewidth": 0,
             "ticks": ""
            },
            "colorscale": [
             [
              0,
              "#0d0887"
             ],
             [
              0.1111111111111111,
              "#46039f"
             ],
             [
              0.2222222222222222,
              "#7201a8"
             ],
             [
              0.3333333333333333,
              "#9c179e"
             ],
             [
              0.4444444444444444,
              "#bd3786"
             ],
             [
              0.5555555555555556,
              "#d8576b"
             ],
             [
              0.6666666666666666,
              "#ed7953"
             ],
             [
              0.7777777777777778,
              "#fb9f3a"
             ],
             [
              0.8888888888888888,
              "#fdca26"
             ],
             [
              1,
              "#f0f921"
             ]
            ],
            "type": "heatmap"
           }
          ],
          "heatmapgl": [
           {
            "colorbar": {
             "outlinewidth": 0,
             "ticks": ""
            },
            "colorscale": [
             [
              0,
              "#0d0887"
             ],
             [
              0.1111111111111111,
              "#46039f"
             ],
             [
              0.2222222222222222,
              "#7201a8"
             ],
             [
              0.3333333333333333,
              "#9c179e"
             ],
             [
              0.4444444444444444,
              "#bd3786"
             ],
             [
              0.5555555555555556,
              "#d8576b"
             ],
             [
              0.6666666666666666,
              "#ed7953"
             ],
             [
              0.7777777777777778,
              "#fb9f3a"
             ],
             [
              0.8888888888888888,
              "#fdca26"
             ],
             [
              1,
              "#f0f921"
             ]
            ],
            "type": "heatmapgl"
           }
          ],
          "histogram": [
           {
            "marker": {
             "pattern": {
              "fillmode": "overlay",
              "size": 10,
              "solidity": 0.2
             }
            },
            "type": "histogram"
           }
          ],
          "histogram2d": [
           {
            "colorbar": {
             "outlinewidth": 0,
             "ticks": ""
            },
            "colorscale": [
             [
              0,
              "#0d0887"
             ],
             [
              0.1111111111111111,
              "#46039f"
             ],
             [
              0.2222222222222222,
              "#7201a8"
             ],
             [
              0.3333333333333333,
              "#9c179e"
             ],
             [
              0.4444444444444444,
              "#bd3786"
             ],
             [
              0.5555555555555556,
              "#d8576b"
             ],
             [
              0.6666666666666666,
              "#ed7953"
             ],
             [
              0.7777777777777778,
              "#fb9f3a"
             ],
             [
              0.8888888888888888,
              "#fdca26"
             ],
             [
              1,
              "#f0f921"
             ]
            ],
            "type": "histogram2d"
           }
          ],
          "histogram2dcontour": [
           {
            "colorbar": {
             "outlinewidth": 0,
             "ticks": ""
            },
            "colorscale": [
             [
              0,
              "#0d0887"
             ],
             [
              0.1111111111111111,
              "#46039f"
             ],
             [
              0.2222222222222222,
              "#7201a8"
             ],
             [
              0.3333333333333333,
              "#9c179e"
             ],
             [
              0.4444444444444444,
              "#bd3786"
             ],
             [
              0.5555555555555556,
              "#d8576b"
             ],
             [
              0.6666666666666666,
              "#ed7953"
             ],
             [
              0.7777777777777778,
              "#fb9f3a"
             ],
             [
              0.8888888888888888,
              "#fdca26"
             ],
             [
              1,
              "#f0f921"
             ]
            ],
            "type": "histogram2dcontour"
           }
          ],
          "mesh3d": [
           {
            "colorbar": {
             "outlinewidth": 0,
             "ticks": ""
            },
            "type": "mesh3d"
           }
          ],
          "parcoords": [
           {
            "line": {
             "colorbar": {
              "outlinewidth": 0,
              "ticks": ""
             }
            },
            "type": "parcoords"
           }
          ],
          "pie": [
           {
            "automargin": true,
            "type": "pie"
           }
          ],
          "scatter": [
           {
            "fillpattern": {
             "fillmode": "overlay",
             "size": 10,
             "solidity": 0.2
            },
            "type": "scatter"
           }
          ],
          "scatter3d": [
           {
            "line": {
             "colorbar": {
              "outlinewidth": 0,
              "ticks": ""
             }
            },
            "marker": {
             "colorbar": {
              "outlinewidth": 0,
              "ticks": ""
             }
            },
            "type": "scatter3d"
           }
          ],
          "scattercarpet": [
           {
            "marker": {
             "colorbar": {
              "outlinewidth": 0,
              "ticks": ""
             }
            },
            "type": "scattercarpet"
           }
          ],
          "scattergeo": [
           {
            "marker": {
             "colorbar": {
              "outlinewidth": 0,
              "ticks": ""
             }
            },
            "type": "scattergeo"
           }
          ],
          "scattergl": [
           {
            "marker": {
             "colorbar": {
              "outlinewidth": 0,
              "ticks": ""
             }
            },
            "type": "scattergl"
           }
          ],
          "scattermapbox": [
           {
            "marker": {
             "colorbar": {
              "outlinewidth": 0,
              "ticks": ""
             }
            },
            "type": "scattermapbox"
           }
          ],
          "scatterpolar": [
           {
            "marker": {
             "colorbar": {
              "outlinewidth": 0,
              "ticks": ""
             }
            },
            "type": "scatterpolar"
           }
          ],
          "scatterpolargl": [
           {
            "marker": {
             "colorbar": {
              "outlinewidth": 0,
              "ticks": ""
             }
            },
            "type": "scatterpolargl"
           }
          ],
          "scatterternary": [
           {
            "marker": {
             "colorbar": {
              "outlinewidth": 0,
              "ticks": ""
             }
            },
            "type": "scatterternary"
           }
          ],
          "surface": [
           {
            "colorbar": {
             "outlinewidth": 0,
             "ticks": ""
            },
            "colorscale": [
             [
              0,
              "#0d0887"
             ],
             [
              0.1111111111111111,
              "#46039f"
             ],
             [
              0.2222222222222222,
              "#7201a8"
             ],
             [
              0.3333333333333333,
              "#9c179e"
             ],
             [
              0.4444444444444444,
              "#bd3786"
             ],
             [
              0.5555555555555556,
              "#d8576b"
             ],
             [
              0.6666666666666666,
              "#ed7953"
             ],
             [
              0.7777777777777778,
              "#fb9f3a"
             ],
             [
              0.8888888888888888,
              "#fdca26"
             ],
             [
              1,
              "#f0f921"
             ]
            ],
            "type": "surface"
           }
          ],
          "table": [
           {
            "cells": {
             "fill": {
              "color": "#EBF0F8"
             },
             "line": {
              "color": "white"
             }
            },
            "header": {
             "fill": {
              "color": "#C8D4E3"
             },
             "line": {
              "color": "white"
             }
            },
            "type": "table"
           }
          ]
         },
         "layout": {
          "annotationdefaults": {
           "arrowcolor": "#2a3f5f",
           "arrowhead": 0,
           "arrowwidth": 1
          },
          "autotypenumbers": "strict",
          "coloraxis": {
           "colorbar": {
            "outlinewidth": 0,
            "ticks": ""
           }
          },
          "colorscale": {
           "diverging": [
            [
             0,
             "#8e0152"
            ],
            [
             0.1,
             "#c51b7d"
            ],
            [
             0.2,
             "#de77ae"
            ],
            [
             0.3,
             "#f1b6da"
            ],
            [
             0.4,
             "#fde0ef"
            ],
            [
             0.5,
             "#f7f7f7"
            ],
            [
             0.6,
             "#e6f5d0"
            ],
            [
             0.7,
             "#b8e186"
            ],
            [
             0.8,
             "#7fbc41"
            ],
            [
             0.9,
             "#4d9221"
            ],
            [
             1,
             "#276419"
            ]
           ],
           "sequential": [
            [
             0,
             "#0d0887"
            ],
            [
             0.1111111111111111,
             "#46039f"
            ],
            [
             0.2222222222222222,
             "#7201a8"
            ],
            [
             0.3333333333333333,
             "#9c179e"
            ],
            [
             0.4444444444444444,
             "#bd3786"
            ],
            [
             0.5555555555555556,
             "#d8576b"
            ],
            [
             0.6666666666666666,
             "#ed7953"
            ],
            [
             0.7777777777777778,
             "#fb9f3a"
            ],
            [
             0.8888888888888888,
             "#fdca26"
            ],
            [
             1,
             "#f0f921"
            ]
           ],
           "sequentialminus": [
            [
             0,
             "#0d0887"
            ],
            [
             0.1111111111111111,
             "#46039f"
            ],
            [
             0.2222222222222222,
             "#7201a8"
            ],
            [
             0.3333333333333333,
             "#9c179e"
            ],
            [
             0.4444444444444444,
             "#bd3786"
            ],
            [
             0.5555555555555556,
             "#d8576b"
            ],
            [
             0.6666666666666666,
             "#ed7953"
            ],
            [
             0.7777777777777778,
             "#fb9f3a"
            ],
            [
             0.8888888888888888,
             "#fdca26"
            ],
            [
             1,
             "#f0f921"
            ]
           ]
          },
          "colorway": [
           "#636efa",
           "#EF553B",
           "#00cc96",
           "#ab63fa",
           "#FFA15A",
           "#19d3f3",
           "#FF6692",
           "#B6E880",
           "#FF97FF",
           "#FECB52"
          ],
          "font": {
           "color": "#2a3f5f"
          },
          "geo": {
           "bgcolor": "white",
           "lakecolor": "white",
           "landcolor": "#E5ECF6",
           "showlakes": true,
           "showland": true,
           "subunitcolor": "white"
          },
          "hoverlabel": {
           "align": "left"
          },
          "hovermode": "closest",
          "mapbox": {
           "style": "light"
          },
          "paper_bgcolor": "white",
          "plot_bgcolor": "#E5ECF6",
          "polar": {
           "angularaxis": {
            "gridcolor": "white",
            "linecolor": "white",
            "ticks": ""
           },
           "bgcolor": "#E5ECF6",
           "radialaxis": {
            "gridcolor": "white",
            "linecolor": "white",
            "ticks": ""
           }
          },
          "scene": {
           "xaxis": {
            "backgroundcolor": "#E5ECF6",
            "gridcolor": "white",
            "gridwidth": 2,
            "linecolor": "white",
            "showbackground": true,
            "ticks": "",
            "zerolinecolor": "white"
           },
           "yaxis": {
            "backgroundcolor": "#E5ECF6",
            "gridcolor": "white",
            "gridwidth": 2,
            "linecolor": "white",
            "showbackground": true,
            "ticks": "",
            "zerolinecolor": "white"
           },
           "zaxis": {
            "backgroundcolor": "#E5ECF6",
            "gridcolor": "white",
            "gridwidth": 2,
            "linecolor": "white",
            "showbackground": true,
            "ticks": "",
            "zerolinecolor": "white"
           }
          },
          "shapedefaults": {
           "line": {
            "color": "#2a3f5f"
           }
          },
          "ternary": {
           "aaxis": {
            "gridcolor": "white",
            "linecolor": "white",
            "ticks": ""
           },
           "baxis": {
            "gridcolor": "white",
            "linecolor": "white",
            "ticks": ""
           },
           "bgcolor": "#E5ECF6",
           "caxis": {
            "gridcolor": "white",
            "linecolor": "white",
            "ticks": ""
           }
          },
          "title": {
           "x": 0.05
          },
          "xaxis": {
           "automargin": true,
           "gridcolor": "white",
           "linecolor": "white",
           "ticks": "",
           "title": {
            "standoff": 15
           },
           "zerolinecolor": "white",
           "zerolinewidth": 2
          },
          "yaxis": {
           "automargin": true,
           "gridcolor": "white",
           "linecolor": "white",
           "ticks": "",
           "title": {
            "standoff": 15
           },
           "zerolinecolor": "white",
           "zerolinewidth": 2
          }
         }
        },
        "title": {
         "text": "Inventory evolution",
         "x": 0.5
        },
        "xaxis": {
         "anchor": "y",
         "color": "black",
         "domain": [
          0,
          1
         ],
         "gridcolor": "black",
         "tickcolor": "black",
         "title": {
          "text": "Index"
         }
        },
        "yaxis": {
         "anchor": "x",
         "color": "black",
         "domain": [
          0,
          1
         ],
         "gridcolor": "black",
         "tickcolor": "black",
         "title": {
          "text": "Y"
         }
        }
       }
      }
     },
     "metadata": {},
     "output_type": "display_data"
    }
   ],
   "source": [
    "fig = px.line(Y_t)\n",
    "fig.update_traces(line_color = \"maroon\")\n",
    "\n",
    "fig.update_layout(\n",
    "    title_text=\"Inventory evolution\",\n",
    "    title_x=0.5,\n",
    "    plot_bgcolor='white',  # set background color to white\n",
    "    paper_bgcolor='white',  # set background color to white\n",
    "    font=dict(color='black'),  # set font color to black\n",
    "    xaxis=dict(title_text=\"Index\", color='black', tickcolor='black', gridcolor='black'),  # set x-axis color, tick color, grid color, and grid width\n",
    "    yaxis=dict(title_text=\"Y\", color='black', tickcolor='black', gridcolor='black'),  # set y-axis color, tick color, grid color, and grid width\n",
    ")\n",
    "\n",
    "fig.show()"
   ]
  },
  {
   "cell_type": "code",
   "execution_count": 403,
   "metadata": {},
   "outputs": [
    {
     "data": {
      "application/vnd.plotly.v1+json": {
       "config": {
        "plotlyServerURL": "https://plot.ly"
       },
       "data": [
        {
         "hovertemplate": "variable=0<br>index=%{x}<br>value=%{y}<extra></extra>",
         "legendgroup": "0",
         "line": {
          "color": "maroon",
          "dash": "solid"
         },
         "marker": {
          "symbol": "circle"
         },
         "mode": "lines",
         "name": "0",
         "orientation": "v",
         "showlegend": true,
         "type": "scatter",
         "x": [
          0,
          1,
          2,
          3,
          4,
          5,
          6,
          7,
          8,
          9,
          10,
          11,
          12,
          13,
          14,
          15,
          16,
          17,
          18,
          19,
          20,
          21,
          22,
          23,
          24,
          25,
          26,
          27,
          28,
          29,
          30,
          31,
          32,
          33,
          34,
          35,
          36,
          37,
          38,
          39,
          40,
          41,
          42,
          43
         ],
         "xaxis": "x",
         "y": [
          0,
          -4502.890032893113,
          -8.103221310306253,
          -4514.226190768729,
          14.089877733781577,
          4542.897630401877,
          9094.589432973224,
          13644.886394907726,
          9091.138584787237,
          4542.656750076099,
          -1.3821508129094582,
          -4564.242318935743,
          -20.781542655699013,
          -4553.4886923389595,
          6.087319178081998,
          -4556.221684487317,
          -9128.482480679893,
          -13698.015135525638,
          -18274.487822485724,
          -22832.903482467824,
          -27391.098533257904,
          -22831.403482467824,
          -27373.86709684955,
          -31923.588801717804,
          -36498.176130351065,
          -41070.561642347726,
          -36494.179238854325,
          -41051.00076260919,
          -36511.01554753539,
          -41047.4907255543,
          -36564.906262996265,
          -32046.650129658025,
          -36525.634625334205,
          -32048.651478287982,
          -27654.271994398434,
          -32010.276259687464,
          -36356.71819062512,
          -40679.217369164166,
          -36351.95807141933,
          -32039.054821289963,
          -27717.612884739683,
          -23373.88170015261,
          -19030.618039304958,
          -14710.457528014278
         ],
         "yaxis": "y"
        }
       ],
       "layout": {
        "font": {
         "color": "black"
        },
        "legend": {
         "title": {
          "text": "variable"
         },
         "tracegroupgap": 0
        },
        "margin": {
         "t": 60
        },
        "paper_bgcolor": "white",
        "plot_bgcolor": "white",
        "template": {
         "data": {
          "bar": [
           {
            "error_x": {
             "color": "#2a3f5f"
            },
            "error_y": {
             "color": "#2a3f5f"
            },
            "marker": {
             "line": {
              "color": "#E5ECF6",
              "width": 0.5
             },
             "pattern": {
              "fillmode": "overlay",
              "size": 10,
              "solidity": 0.2
             }
            },
            "type": "bar"
           }
          ],
          "barpolar": [
           {
            "marker": {
             "line": {
              "color": "#E5ECF6",
              "width": 0.5
             },
             "pattern": {
              "fillmode": "overlay",
              "size": 10,
              "solidity": 0.2
             }
            },
            "type": "barpolar"
           }
          ],
          "carpet": [
           {
            "aaxis": {
             "endlinecolor": "#2a3f5f",
             "gridcolor": "white",
             "linecolor": "white",
             "minorgridcolor": "white",
             "startlinecolor": "#2a3f5f"
            },
            "baxis": {
             "endlinecolor": "#2a3f5f",
             "gridcolor": "white",
             "linecolor": "white",
             "minorgridcolor": "white",
             "startlinecolor": "#2a3f5f"
            },
            "type": "carpet"
           }
          ],
          "choropleth": [
           {
            "colorbar": {
             "outlinewidth": 0,
             "ticks": ""
            },
            "type": "choropleth"
           }
          ],
          "contour": [
           {
            "colorbar": {
             "outlinewidth": 0,
             "ticks": ""
            },
            "colorscale": [
             [
              0,
              "#0d0887"
             ],
             [
              0.1111111111111111,
              "#46039f"
             ],
             [
              0.2222222222222222,
              "#7201a8"
             ],
             [
              0.3333333333333333,
              "#9c179e"
             ],
             [
              0.4444444444444444,
              "#bd3786"
             ],
             [
              0.5555555555555556,
              "#d8576b"
             ],
             [
              0.6666666666666666,
              "#ed7953"
             ],
             [
              0.7777777777777778,
              "#fb9f3a"
             ],
             [
              0.8888888888888888,
              "#fdca26"
             ],
             [
              1,
              "#f0f921"
             ]
            ],
            "type": "contour"
           }
          ],
          "contourcarpet": [
           {
            "colorbar": {
             "outlinewidth": 0,
             "ticks": ""
            },
            "type": "contourcarpet"
           }
          ],
          "heatmap": [
           {
            "colorbar": {
             "outlinewidth": 0,
             "ticks": ""
            },
            "colorscale": [
             [
              0,
              "#0d0887"
             ],
             [
              0.1111111111111111,
              "#46039f"
             ],
             [
              0.2222222222222222,
              "#7201a8"
             ],
             [
              0.3333333333333333,
              "#9c179e"
             ],
             [
              0.4444444444444444,
              "#bd3786"
             ],
             [
              0.5555555555555556,
              "#d8576b"
             ],
             [
              0.6666666666666666,
              "#ed7953"
             ],
             [
              0.7777777777777778,
              "#fb9f3a"
             ],
             [
              0.8888888888888888,
              "#fdca26"
             ],
             [
              1,
              "#f0f921"
             ]
            ],
            "type": "heatmap"
           }
          ],
          "heatmapgl": [
           {
            "colorbar": {
             "outlinewidth": 0,
             "ticks": ""
            },
            "colorscale": [
             [
              0,
              "#0d0887"
             ],
             [
              0.1111111111111111,
              "#46039f"
             ],
             [
              0.2222222222222222,
              "#7201a8"
             ],
             [
              0.3333333333333333,
              "#9c179e"
             ],
             [
              0.4444444444444444,
              "#bd3786"
             ],
             [
              0.5555555555555556,
              "#d8576b"
             ],
             [
              0.6666666666666666,
              "#ed7953"
             ],
             [
              0.7777777777777778,
              "#fb9f3a"
             ],
             [
              0.8888888888888888,
              "#fdca26"
             ],
             [
              1,
              "#f0f921"
             ]
            ],
            "type": "heatmapgl"
           }
          ],
          "histogram": [
           {
            "marker": {
             "pattern": {
              "fillmode": "overlay",
              "size": 10,
              "solidity": 0.2
             }
            },
            "type": "histogram"
           }
          ],
          "histogram2d": [
           {
            "colorbar": {
             "outlinewidth": 0,
             "ticks": ""
            },
            "colorscale": [
             [
              0,
              "#0d0887"
             ],
             [
              0.1111111111111111,
              "#46039f"
             ],
             [
              0.2222222222222222,
              "#7201a8"
             ],
             [
              0.3333333333333333,
              "#9c179e"
             ],
             [
              0.4444444444444444,
              "#bd3786"
             ],
             [
              0.5555555555555556,
              "#d8576b"
             ],
             [
              0.6666666666666666,
              "#ed7953"
             ],
             [
              0.7777777777777778,
              "#fb9f3a"
             ],
             [
              0.8888888888888888,
              "#fdca26"
             ],
             [
              1,
              "#f0f921"
             ]
            ],
            "type": "histogram2d"
           }
          ],
          "histogram2dcontour": [
           {
            "colorbar": {
             "outlinewidth": 0,
             "ticks": ""
            },
            "colorscale": [
             [
              0,
              "#0d0887"
             ],
             [
              0.1111111111111111,
              "#46039f"
             ],
             [
              0.2222222222222222,
              "#7201a8"
             ],
             [
              0.3333333333333333,
              "#9c179e"
             ],
             [
              0.4444444444444444,
              "#bd3786"
             ],
             [
              0.5555555555555556,
              "#d8576b"
             ],
             [
              0.6666666666666666,
              "#ed7953"
             ],
             [
              0.7777777777777778,
              "#fb9f3a"
             ],
             [
              0.8888888888888888,
              "#fdca26"
             ],
             [
              1,
              "#f0f921"
             ]
            ],
            "type": "histogram2dcontour"
           }
          ],
          "mesh3d": [
           {
            "colorbar": {
             "outlinewidth": 0,
             "ticks": ""
            },
            "type": "mesh3d"
           }
          ],
          "parcoords": [
           {
            "line": {
             "colorbar": {
              "outlinewidth": 0,
              "ticks": ""
             }
            },
            "type": "parcoords"
           }
          ],
          "pie": [
           {
            "automargin": true,
            "type": "pie"
           }
          ],
          "scatter": [
           {
            "fillpattern": {
             "fillmode": "overlay",
             "size": 10,
             "solidity": 0.2
            },
            "type": "scatter"
           }
          ],
          "scatter3d": [
           {
            "line": {
             "colorbar": {
              "outlinewidth": 0,
              "ticks": ""
             }
            },
            "marker": {
             "colorbar": {
              "outlinewidth": 0,
              "ticks": ""
             }
            },
            "type": "scatter3d"
           }
          ],
          "scattercarpet": [
           {
            "marker": {
             "colorbar": {
              "outlinewidth": 0,
              "ticks": ""
             }
            },
            "type": "scattercarpet"
           }
          ],
          "scattergeo": [
           {
            "marker": {
             "colorbar": {
              "outlinewidth": 0,
              "ticks": ""
             }
            },
            "type": "scattergeo"
           }
          ],
          "scattergl": [
           {
            "marker": {
             "colorbar": {
              "outlinewidth": 0,
              "ticks": ""
             }
            },
            "type": "scattergl"
           }
          ],
          "scattermapbox": [
           {
            "marker": {
             "colorbar": {
              "outlinewidth": 0,
              "ticks": ""
             }
            },
            "type": "scattermapbox"
           }
          ],
          "scatterpolar": [
           {
            "marker": {
             "colorbar": {
              "outlinewidth": 0,
              "ticks": ""
             }
            },
            "type": "scatterpolar"
           }
          ],
          "scatterpolargl": [
           {
            "marker": {
             "colorbar": {
              "outlinewidth": 0,
              "ticks": ""
             }
            },
            "type": "scatterpolargl"
           }
          ],
          "scatterternary": [
           {
            "marker": {
             "colorbar": {
              "outlinewidth": 0,
              "ticks": ""
             }
            },
            "type": "scatterternary"
           }
          ],
          "surface": [
           {
            "colorbar": {
             "outlinewidth": 0,
             "ticks": ""
            },
            "colorscale": [
             [
              0,
              "#0d0887"
             ],
             [
              0.1111111111111111,
              "#46039f"
             ],
             [
              0.2222222222222222,
              "#7201a8"
             ],
             [
              0.3333333333333333,
              "#9c179e"
             ],
             [
              0.4444444444444444,
              "#bd3786"
             ],
             [
              0.5555555555555556,
              "#d8576b"
             ],
             [
              0.6666666666666666,
              "#ed7953"
             ],
             [
              0.7777777777777778,
              "#fb9f3a"
             ],
             [
              0.8888888888888888,
              "#fdca26"
             ],
             [
              1,
              "#f0f921"
             ]
            ],
            "type": "surface"
           }
          ],
          "table": [
           {
            "cells": {
             "fill": {
              "color": "#EBF0F8"
             },
             "line": {
              "color": "white"
             }
            },
            "header": {
             "fill": {
              "color": "#C8D4E3"
             },
             "line": {
              "color": "white"
             }
            },
            "type": "table"
           }
          ]
         },
         "layout": {
          "annotationdefaults": {
           "arrowcolor": "#2a3f5f",
           "arrowhead": 0,
           "arrowwidth": 1
          },
          "autotypenumbers": "strict",
          "coloraxis": {
           "colorbar": {
            "outlinewidth": 0,
            "ticks": ""
           }
          },
          "colorscale": {
           "diverging": [
            [
             0,
             "#8e0152"
            ],
            [
             0.1,
             "#c51b7d"
            ],
            [
             0.2,
             "#de77ae"
            ],
            [
             0.3,
             "#f1b6da"
            ],
            [
             0.4,
             "#fde0ef"
            ],
            [
             0.5,
             "#f7f7f7"
            ],
            [
             0.6,
             "#e6f5d0"
            ],
            [
             0.7,
             "#b8e186"
            ],
            [
             0.8,
             "#7fbc41"
            ],
            [
             0.9,
             "#4d9221"
            ],
            [
             1,
             "#276419"
            ]
           ],
           "sequential": [
            [
             0,
             "#0d0887"
            ],
            [
             0.1111111111111111,
             "#46039f"
            ],
            [
             0.2222222222222222,
             "#7201a8"
            ],
            [
             0.3333333333333333,
             "#9c179e"
            ],
            [
             0.4444444444444444,
             "#bd3786"
            ],
            [
             0.5555555555555556,
             "#d8576b"
            ],
            [
             0.6666666666666666,
             "#ed7953"
            ],
            [
             0.7777777777777778,
             "#fb9f3a"
            ],
            [
             0.8888888888888888,
             "#fdca26"
            ],
            [
             1,
             "#f0f921"
            ]
           ],
           "sequentialminus": [
            [
             0,
             "#0d0887"
            ],
            [
             0.1111111111111111,
             "#46039f"
            ],
            [
             0.2222222222222222,
             "#7201a8"
            ],
            [
             0.3333333333333333,
             "#9c179e"
            ],
            [
             0.4444444444444444,
             "#bd3786"
            ],
            [
             0.5555555555555556,
             "#d8576b"
            ],
            [
             0.6666666666666666,
             "#ed7953"
            ],
            [
             0.7777777777777778,
             "#fb9f3a"
            ],
            [
             0.8888888888888888,
             "#fdca26"
            ],
            [
             1,
             "#f0f921"
            ]
           ]
          },
          "colorway": [
           "#636efa",
           "#EF553B",
           "#00cc96",
           "#ab63fa",
           "#FFA15A",
           "#19d3f3",
           "#FF6692",
           "#B6E880",
           "#FF97FF",
           "#FECB52"
          ],
          "font": {
           "color": "#2a3f5f"
          },
          "geo": {
           "bgcolor": "white",
           "lakecolor": "white",
           "landcolor": "#E5ECF6",
           "showlakes": true,
           "showland": true,
           "subunitcolor": "white"
          },
          "hoverlabel": {
           "align": "left"
          },
          "hovermode": "closest",
          "mapbox": {
           "style": "light"
          },
          "paper_bgcolor": "white",
          "plot_bgcolor": "#E5ECF6",
          "polar": {
           "angularaxis": {
            "gridcolor": "white",
            "linecolor": "white",
            "ticks": ""
           },
           "bgcolor": "#E5ECF6",
           "radialaxis": {
            "gridcolor": "white",
            "linecolor": "white",
            "ticks": ""
           }
          },
          "scene": {
           "xaxis": {
            "backgroundcolor": "#E5ECF6",
            "gridcolor": "white",
            "gridwidth": 2,
            "linecolor": "white",
            "showbackground": true,
            "ticks": "",
            "zerolinecolor": "white"
           },
           "yaxis": {
            "backgroundcolor": "#E5ECF6",
            "gridcolor": "white",
            "gridwidth": 2,
            "linecolor": "white",
            "showbackground": true,
            "ticks": "",
            "zerolinecolor": "white"
           },
           "zaxis": {
            "backgroundcolor": "#E5ECF6",
            "gridcolor": "white",
            "gridwidth": 2,
            "linecolor": "white",
            "showbackground": true,
            "ticks": "",
            "zerolinecolor": "white"
           }
          },
          "shapedefaults": {
           "line": {
            "color": "#2a3f5f"
           }
          },
          "ternary": {
           "aaxis": {
            "gridcolor": "white",
            "linecolor": "white",
            "ticks": ""
           },
           "baxis": {
            "gridcolor": "white",
            "linecolor": "white",
            "ticks": ""
           },
           "bgcolor": "#E5ECF6",
           "caxis": {
            "gridcolor": "white",
            "linecolor": "white",
            "ticks": ""
           }
          },
          "title": {
           "x": 0.05
          },
          "xaxis": {
           "automargin": true,
           "gridcolor": "white",
           "linecolor": "white",
           "ticks": "",
           "title": {
            "standoff": 15
           },
           "zerolinecolor": "white",
           "zerolinewidth": 2
          },
          "yaxis": {
           "automargin": true,
           "gridcolor": "white",
           "linecolor": "white",
           "ticks": "",
           "title": {
            "standoff": 15
           },
           "zerolinecolor": "white",
           "zerolinewidth": 2
          }
         }
        },
        "title": {
         "text": "Cash evolution",
         "x": 0.5
        },
        "xaxis": {
         "anchor": "y",
         "color": "black",
         "domain": [
          0,
          1
         ],
         "gridcolor": "black",
         "tickcolor": "black",
         "title": {
          "text": "Index"
         }
        },
        "yaxis": {
         "anchor": "x",
         "color": "black",
         "domain": [
          0,
          1
         ],
         "gridcolor": "black",
         "tickcolor": "black",
         "title": {
          "text": "X"
         }
        }
       }
      }
     },
     "metadata": {},
     "output_type": "display_data"
    }
   ],
   "source": [
    "fig = px.line(X_t)\n",
    "fig.update_traces(line_color = \"maroon\")\n",
    "fig.update_layout(\n",
    "    title_text=\"Cash evolution\",\n",
    "    title_x=0.5,\n",
    "    plot_bgcolor='white',  # set background color to white\n",
    "    paper_bgcolor='white',  # set background color to white\n",
    "    font=dict(color='black'),  # set font color to black\n",
    "    xaxis=dict(title_text=\"Index\", color='black', tickcolor='black', gridcolor='black'),  # set x-axis color, tick color, grid color, and grid width\n",
    "    yaxis=dict(title_text=\"X\", color='black', tickcolor='black', gridcolor='black'),  # set y-axis color, tick color, grid color, and grid width\n",
    ")\n",
    "\n",
    "fig.show()"
   ]
  },
  {
   "cell_type": "markdown",
   "metadata": {},
   "source": [
    "# Implementation of strategies"
   ]
  },
  {
   "cell_type": "code",
   "execution_count": 418,
   "metadata": {},
   "outputs": [],
   "source": [
    "def Monte_Carlo_path(intensity_matrix, T, dt, X_0, Y_0, P_0, b, sigma, delta, l_const, initial_state_spread, spread_values, transition_matrix, intensity_spread, strategy):\n",
    "    '''\n",
    "    Generates the path for Monte Carlo simulation.\n",
    "\n",
    "    Parameters:\n",
    "        intensity_matrix (np.array): matrix with intensities depending on the spread position and choice of quote\n",
    "        T (float): time span (here 300 s)\n",
    "        dt (float): time difference in Euler scheme\n",
    "        X_0 (float): Initial cash (at time t=0)\n",
    "        Y_0 (float): Initial inventory (at time t=0)\n",
    "        P_0 (float): Initial price (at time t=0)\n",
    "        b (float):Drift parameter for price process\n",
    "        sigma (float): Parameter which may be used by a market maker to update the spread\n",
    "        delta (float): Volatility of the price\n",
    "        l_const (float): The constant value for sizes of orders\n",
    "        initial_state_spread (np.array): Realisation of the spread process\n",
    "        spread_values (int): Initial value of spread (1 to 6)\n",
    "        transition_matrix (np.array): Probability transition matrix for Markov chain generating the spread\n",
    "        intensity_spread (np.array): Intensity for the spread process\n",
    "        strategy (str): strategy choice, can be \"constant\" or \"random\"\n",
    "\n",
    "    Returns:\n",
    "       Y_t[-1], X_t[-1] / 100, N_a, N_b, max(Y_t) (np.array, np.array, np.array, np.array, np.array): Realisation of the terminal cash, inventory process, the number of executed bid and ask orders and maximum inventory\n",
    "    '''\n",
    "    # spread\n",
    "\n",
    "    PPP_spread = poisson_point_process_sim(intensity_spread, T)   # realisation of tick time clock process - number and arrival times\n",
    "    spread_simulated = spread_sim(0, spread_values, T, transition_matrix, PPP_spread[0])   # simulated spread positions\n",
    "    s_t = np.array([spread_values[i] for i in spread_simulated])   # simulated spread values\n",
    "\n",
    "    # execution of orders\n",
    "\n",
    "    lambda_max = np.max(intensity_matrix) \n",
    "    intensity_orders_a_simulation = poisson_point_process_sim(np.max(lambda_max), T) # simulation of the poisson process with maximum lambda as intensity\n",
    "    intensity_orders_b_simulation = poisson_point_process_sim(np.max(lambda_max), T) # simulation of the poisson process with maximum lambda as intensity\n",
    "\n",
    "    if strategy == \"random\":\n",
    "        q_a = np.random.binomial(1, 0.5, len(intensity_orders_a_simulation[1]))  # choice of quotes for ask\n",
    "        q_b = np.random.binomial(1, 0.5, len(intensity_orders_b_simulation[1]))  # choice of quotes for bid\n",
    "    elif strategy == \"constant\":\n",
    "        q_a = np.repeat(0, len(intensity_orders_a_simulation[1]))  # choice of quotes for ask\n",
    "        q_b = np.repeat(0, len(intensity_orders_b_simulation[1]))  # choice of quotes for bid\n",
    "\n",
    "    orders_a_simulated = orders_simulaton(intensity_matrix, PPP_spread[1], spread_simulated, lambda_max, intensity_orders_a_simulation[1], q_a)\n",
    "    orders_b_simulated = orders_simulaton(intensity_matrix, PPP_spread[1], spread_simulated, lambda_max, intensity_orders_b_simulation[1], q_b)\n",
    "\n",
    "    orders_a = orders_a_simulated[0]  # final arrival times of ask orders\n",
    "    orders_b = orders_b_simulated[0]  # final arrival times of bid orders\n",
    "\n",
    "    q_a = orders_a_simulated[1]  # final quotes of ask orders at arrival times\n",
    "    q_b = orders_b_simulated[1]  # final quotes of bid orders at arrival times\n",
    "\n",
    "    # price\n",
    "\n",
    "    W_t = np.cumsum(np.concatenate(([0], np.random.normal(0, np.sqrt(T * dt), int(1 / dt))))) # simulation of Brownian motion between subsequent times (variance equal to time difference)\n",
    "    t_price = np.arange(0, T + T * dt / 2, T * dt) \n",
    "\n",
    "    p_t = price_sim(b, P_0, t_price, sigma, np.array(W_t))  # final price process\n",
    "\n",
    "    # the choice of sizes of trades\n",
    "\n",
    "    l_a = np.repeat(l_const, len(orders_a))\n",
    "    l_b = np.repeat(l_const, len(orders_b))\n",
    "\n",
    "    # inventory and cash\n",
    "    \n",
    "    Y_t = inventory_sim(orders_a, orders_b, l_a, l_b, Y_0)  # realisation of inventory\n",
    "    X_t = cash_sim(orders_a, orders_b, l_a, l_b, X_0, delta, q_a, q_b, s_t, PPP_spread[1], p_t, t_price) # realisation of cash\n",
    "\n",
    "    return Y_t[-1], X_t[-1] / 100, len(orders_a), len(orders_b), max(Y_t)"
   ]
  },
  {
   "cell_type": "markdown",
   "metadata": {},
   "source": [
    "## Random Strategy"
   ]
  },
  {
   "cell_type": "code",
   "execution_count": 419,
   "metadata": {},
   "outputs": [
    {
     "name": "stderr",
     "output_type": "stream",
     "text": [
      "100%|██████████| 1000/1000 [00:04<00:00, 204.92it/s]\n"
     ]
    }
   ],
   "source": [
    "n = 1000 # number of paths\n",
    "\n",
    "arr_res_Y_rand = [None] * n\n",
    "arr_res_X_rand = [None] * n\n",
    "arr_res_or_a_rand = [None] * n\n",
    "arr_res_or_b_rand = [None] * n\n",
    "arr_res_max_Y_rand = [None] * n\n",
    "\n",
    "\n",
    "for i in tqdm(range(n)):\n",
    "    res_acc = Monte_Carlo_path(intensity_matrix_sym, T, dt, X_0, Y_0, P_0, b, sigma, delta, l_const, 0, spread_values, prob_matrix, intensity, \"random\")\n",
    "    \n",
    "    arr_res_Y_rand[i] = res_acc[0]\n",
    "    arr_res_X_rand[i] = res_acc[1]\n",
    "    arr_res_or_a_rand[i] = res_acc[2]\n",
    "    arr_res_or_b_rand[i] = res_acc[3]\n",
    "    arr_res_max_Y_rand[i] = res_acc[4]"
   ]
  },
  {
   "cell_type": "code",
   "execution_count": 420,
   "metadata": {},
   "outputs": [
    {
     "data": {
      "text/plain": [
       "524.3"
      ]
     },
     "execution_count": 420,
     "metadata": {},
     "output_type": "execute_result"
    }
   ],
   "source": [
    "m_XT_rand = np.mean(arr_res_X_rand)\n",
    "std_XT_rand = np.std(arr_res_X_rand)\n",
    "m_sup_Y_rand = np.mean(arr_res_max_Y_rand)\n",
    "\n",
    "m_sup_Y_rand"
   ]
  },
  {
   "cell_type": "code",
   "execution_count": 421,
   "metadata": {},
   "outputs": [
    {
     "data": {
      "text/plain": [
       "-0.025031116807933584"
      ]
     },
     "execution_count": 421,
     "metadata": {},
     "output_type": "execute_result"
    }
   ],
   "source": [
    "m_XT_rand / std_XT_rand"
   ]
  },
  {
   "cell_type": "markdown",
   "metadata": {},
   "source": [
    "## Constant Strategy"
   ]
  },
  {
   "cell_type": "markdown",
   "metadata": {},
   "source": [
    "In order to do the strategies simulation we have to do as follows for each of the 1000 paths: \n",
    "1) simulate values for price and spread. \n",
    "2) simulate orders_a, orders_b based on the choice of spread q_a, q_b\n",
    "3) simulate l_a, l_b\n",
    "4) multiply l times price, corrected by spread (and tick if q == 1)\n",
    "5) calculate cash and inventory"
   ]
  },
  {
   "cell_type": "code",
   "execution_count": 422,
   "metadata": {},
   "outputs": [
    {
     "name": "stderr",
     "output_type": "stream",
     "text": [
      "100%|██████████| 1000/1000 [00:04<00:00, 221.75it/s]\n"
     ]
    }
   ],
   "source": [
    "n = 1000 # number of paths\n",
    "\n",
    "arr_res_Y_const = [None] * n\n",
    "arr_res_X_const = [None] * n\n",
    "arr_res_or_a_const = [None] * n\n",
    "arr_res_or_b_const = [None] * n\n",
    "arr_res_max_Y_const = [None] * n\n",
    "\n",
    "\n",
    "for i in tqdm(range(n)):\n",
    "    res_acc = Monte_Carlo_path(intensity_matrix_sym, T, dt, X_0, Y_0, P_0, b, sigma, delta, l_const, 0, spread_values, prob_matrix, intensity, \"constant\")\n",
    "    \n",
    "    arr_res_Y_const[i] = res_acc[0]\n",
    "    arr_res_X_const[i] = res_acc[1]\n",
    "    arr_res_or_a_const[i] = res_acc[2]\n",
    "    arr_res_or_b_const[i] = res_acc[3]\n",
    "    arr_res_max_Y_const[i] = res_acc[4]"
   ]
  },
  {
   "cell_type": "code",
   "execution_count": 423,
   "metadata": {},
   "outputs": [],
   "source": [
    "# Terminal wealth constant\n",
    "m_XT_cst = np.mean(arr_res_X_const)\n",
    "std_XT_cst = np.std(arr_res_X_const)\n",
    "m_std_XT_cst = m_XT_cst/std_XT_cst\n",
    "\n",
    "#Num. of exec. at bid constant\n",
    "lengths_b = arr_res_or_b_const\n",
    "\n",
    "m_NbT_cst = np.mean(lengths_b)\n",
    "std_NbT_cst = np.std(lengths_b)\n",
    "\n",
    "#Num. of exec. at ask constant\n",
    "lengths_a = arr_res_or_a_const\n",
    "\n",
    "m_NaT_cst = np.mean(lengths_a)\n",
    "std_NaT_cst = np.std(lengths_a)\n",
    "\n",
    "#Maximum Inventory constant\n",
    "m_sup_Y_cst = np.mean(arr_res_max_Y_const)\n",
    "std_sup_Y_cst = np.std(arr_res_max_Y_const)\n"
   ]
  },
  {
   "cell_type": "code",
   "execution_count": 424,
   "metadata": {},
   "outputs": [
    {
     "data": {
      "text/plain": [
       "-0.015662297595742794"
      ]
     },
     "execution_count": 424,
     "metadata": {},
     "output_type": "execute_result"
    }
   ],
   "source": [
    "m_XT_cst / std_XT_cst"
   ]
  },
  {
   "cell_type": "markdown",
   "metadata": {},
   "source": [
    "## Optimal strategy without market orders (WOMO)"
   ]
  },
  {
   "cell_type": "code",
   "execution_count": 474,
   "metadata": {},
   "outputs": [],
   "source": [
    "dt = 100\n",
    "y = np.linspace(-1000, 1000, 100) # mesh grid in inventory\n",
    "timespan = [t for t in range(0, int(T / dt))]"
   ]
  },
  {
   "cell_type": "code",
   "execution_count": 516,
   "metadata": {},
   "outputs": [],
   "source": [
    "def sim_womo(l_a, l_b, X_0, Y_0, delta, q_a, q_b, s, spread_positions, spread_changes, p, price_changes, y, timespan, initial_intensities, intensity_matrix, lambda_max):\n",
    "    '''\n",
    "    Simulates the cash, inventory and executions of orders using simialr methods as previous function, but also optimal trading strategy.\n",
    "\n",
    "    Parameters:\n",
    "        l_a (np.array): optimal sizes of buy orders\n",
    "        l_b (np.array): optimal sizes of sell orders\n",
    "        X_0 (float): Initial cash (at time t=0)\n",
    "        Y_0 (float): Initial inventory (at time t=0)\n",
    "        delta (float): Parameter which may be used by a market maker to update the spread\n",
    "        s (np.array): Realisation of the spread process\n",
    "        spread_positions (np.array): spread positions (1 to 6)\n",
    "        spread_changes (np.array): Times when spread changes\n",
    "        p (np.array): Realisation of the price process\n",
    "        price_changes (np.array): Times when price changes\n",
    "        y (np.array): vector of inventories\n",
    "        timespan (np.array): times of evaluation of the Euler scheme\n",
    "        initial_intensities (np.array): initial simulaton of orders as if they were generated with homogeneous Poisson Process\n",
    "        intensity_matrix (np.array): matrix with intensities depending on the spread position and choice of quote\n",
    "        lambda_max (np.array): maximum lambda used as the reference for acceptance-rejection scheme\n",
    "\n",
    "    Returns:\n",
    "       X, Y, number_a, number_b (np.array, np.array, np.array, np.array, np.array): Realisation of the cash, inventory process and the number of executed bid and ask orders\n",
    "    '''\n",
    "\n",
    "    X = [X_0]\n",
    "    Y = [Y_0]\n",
    "    number_a = 0  # number of buy orders\n",
    "    number_b = 0  # number of sell orders\n",
    "    index = 0\n",
    "\n",
    "    for t in initial_intensities:\n",
    "        \n",
    "        spread_position = np.sum(t >= spread_changes)  # extracting spread at time t\n",
    "        y_position = np.argmin(np.abs(y - Y[index - 1])) # extracting y\n",
    "        t_position = np.argmin(np.abs(timespan - t)) # extracting the given time\n",
    "        price_position = np.sum(t >= price_changes)  # extracting price at time t\n",
    "        \n",
    "        bid_or_ask = np.random.uniform(0, 1, 1)\n",
    "\n",
    "        if bid_or_ask >= 0.5:    # equal chance of being an ask or bid trade\n",
    "            lambda_t = intensity_matrix[spread_positions[spread_position - 1], int(q_b[t_position, spread_positions[spread_position - 1], y_position])]\n",
    "        else:\n",
    "            lambda_t = intensity_matrix[spread_positions[spread_position - 1], int(q_a[t_position, spread_positions[spread_position - 1], y_position])]\n",
    "\n",
    "        if lambda_t / lambda_max < np.random.uniform(0, 1, 1):\n",
    "    \n",
    "        # check whether at a given time it is a bid or an ask order \n",
    "            if np.random.uniform(0, 1, 1) >= 0.5:   # equal chance it is a bid order or ask order\n",
    "\n",
    "                if q_b[t_position, spread_positions[spread_position - 1], y_position] == 1:   # checking which quote to use\n",
    "                    pi_b = p[price_position - 1] - s[spread_position - 1] / 2 + delta\n",
    "                else:\n",
    "                    pi_b = p[price_position - 1] - s[spread_position - 1] / 2\n",
    "                X.append((X[index - 1] - pi_b * l_b[t_position, spread_positions[spread_position - 1], y_position]))    # if bid subtract cash as I bought\n",
    "                Y.append(Y[index - 1] + l_b[t_position, spread_positions[spread_position - 1], y_position])  # if bid - add inventory\n",
    "                number_a = number_a + 1\n",
    "\n",
    "            else:\n",
    "                if q_a[t_position, spread_positions[spread_position - 1], y_position] == 1:\n",
    "                    pi_a = p[price_position - 1] + s[spread_position - 1] / 2 - delta\n",
    "                else:\n",
    "                    pi_a = p[price_position - 1] + s[spread_position - 1] / 2\n",
    "                X.append((X[index - 1] + pi_a * l_a[t_position, spread_positions[spread_position - 1], y_position]))  # If ask add cash as I sold\n",
    "                Y.append(Y[index - 1] - l_a[t_position, spread_positions[spread_position - 1], y_position]) # if ask - subtract inventory\n",
    "                number_b = number_b + 1\n",
    "            index = index + 1\n",
    "\n",
    "    return X, Y, number_a, number_b"
   ]
  },
  {
   "cell_type": "code",
   "execution_count": 517,
   "metadata": {},
   "outputs": [],
   "source": [
    "def Monte_Carlo_womo_path(q_a, q_b, l_a, l_b, intensity_matrix, T, dt, X_0, Y_0, P_0, b, sigma, delta, initial_state_spread, spread_values, transition_matrix, intensity_spread, y, timespan):\n",
    "    '''\n",
    "    Generates the path for Monte Carlo simulation.\n",
    "\n",
    "    Parameters:\n",
    "        q_a (np.array): Optimal choices of ask quotes\n",
    "        q_b (np.array): Optimal choices of bid quotes\n",
    "        l_a (np.array): Optimal sizes of buy orders\n",
    "        l_b (np.array): Optimal sizes of sell orders\n",
    "        intensity_matrix (np.array): matrix with intensities depending on the spread position and choice of quote\n",
    "        T (float): time span (here 300 s)\n",
    "        dt (float): time difference in Euler scheme\n",
    "        X_0 (float): Initial cash (at time t=0)\n",
    "        Y_0 (float): Initial inventory (at time t=0)\n",
    "        P_0 (float): Initial price (at time t=0)\n",
    "        b (float): Drift parameter in price process\n",
    "        sigma (float): Parameter which may be used by a market maker to update the spread\n",
    "        delta (float): Volatility of the price\n",
    "        initial_state_spread (np.array): Realisation of the spread process\n",
    "        spread_values (int): Initial value of spread (1 to 6)\n",
    "        transition_matrix (np.array): Probability transition matrix for Markov chain generating the spread\n",
    "        intensity_spread (np.array): Intensity for the spread process\n",
    "        y (np.array): vector of inventorie\n",
    "        timespan (np.array): times of evaluation of the Euler scheme\n",
    "\n",
    "    Returns:\n",
    "       Y_t[-1], X_t[-1] / 100, N_a, N_b, max(Y_t) (np.array, np.array, np.array, np.array, np.array): Realisation of the terminal cash, inventory process, the number of executed bid and ask orders and maximum inventory\n",
    "    '''\n",
    "\n",
    "    # spread\n",
    "\n",
    "    PPP_spread = poisson_point_process_sim(intensity_spread, T)   # realisation of tick time clock process - number and arrival times\n",
    "    spread_simulated = spread_sim(0, spread_values, T, transition_matrix, PPP_spread[0])   # simulated spread positions\n",
    "    s_t = np.array([spread_values[i] for i in spread_simulated])   # simulated spread values\n",
    "\n",
    "    # price\n",
    "\n",
    "    W_t = np.cumsum(np.concatenate(([0], np.random.normal(0, np.sqrt(T * dt), int(1 / dt))))) # simulation of Brownian motion between subsequent times (variance equal to time difference)\n",
    "    t_price = np.arange(0, T + T * dt / 2, T * dt) \n",
    "\n",
    "    p_t = price_sim(b, P_0, t_price, sigma, np.array(W_t))  # final price process\n",
    "\n",
    "    # inventory and cash\n",
    "\n",
    "    lambda_max = np.max(intensity_matrix)\n",
    "    intensity_orders_womo = poisson_point_process_sim(np.max(lambda_max), T)\n",
    "    WOMO_result = sim_womo(l_a, l_b, X_0, Y_0, delta, q_a, q_b, s_t, spread_simulated, PPP_spread[1], p_t, t_price, y, timespan, intensity_orders_womo[1], 2 * intensity_matrix, lambda_max)\n",
    "    X_t = WOMO_result[0]\n",
    "    Y_t = WOMO_result[1]\n",
    "    N_a = WOMO_result[2]\n",
    "    N_b = WOMO_result[3]\n",
    "\n",
    "\n",
    "    return Y_t[-1], X_t[-1] / 100, N_a, N_b, max(Y_t)"
   ]
  },
  {
   "cell_type": "code",
   "execution_count": 518,
   "metadata": {},
   "outputs": [],
   "source": [
    "q_b = np.load(\"q_b_solved.npy\")[::-1, : , :]\n",
    "l_b = np.load(\"l_b_solved.npy\")[::-1, : , :]\n",
    "q_a = np.load(\"q_a_solved.npy\")[::-1, : , :]\n",
    "l_a = np.load(\"l_a_solved.npy\")[::-1, : , :]"
   ]
  },
  {
   "cell_type": "code",
   "execution_count": 519,
   "metadata": {},
   "outputs": [],
   "source": [
    "n = 1000 # number of paths\n",
    "\n",
    "arr_res_Y_womo = [None] * n\n",
    "arr_res_X_womo = [None] * n\n",
    "arr_res_or_a_womo = [None] * n\n",
    "arr_res_or_b_womo = [None] * n\n",
    "arr_res_max_Y_womo = [None] * n\n",
    "\n",
    "\n",
    "for i in range(n):\n",
    "    res_acc = Monte_Carlo_womo_path(q_a, q_b, l_a, l_b, intensity_matrix_sym, T, dt, X_0, Y_0, P_0, b, sigma, delta, 0, spread_values, prob_matrix, intensity, y, timespan)\n",
    "    \n",
    "    arr_res_Y_womo[i] = res_acc[0]\n",
    "    arr_res_X_womo[i] = res_acc[1]\n",
    "    arr_res_or_a_womo[i] = res_acc[2]\n",
    "    arr_res_or_b_womo[i] = res_acc[3]\n",
    "    arr_res_max_Y_womo[i] = res_acc[4]"
   ]
  },
  {
   "cell_type": "code",
   "execution_count": 521,
   "metadata": {},
   "outputs": [],
   "source": [
    "# Terminal wealth constant\n",
    "m_XT_womo = np.mean(arr_res_X_womo)\n",
    "std_XT_womo = np.std(arr_res_X_womo)\n",
    "m_std_XT_womo = m_XT_cst / std_XT_cst\n",
    "\n",
    "m_NbT_womo = np.mean(arr_res_or_b_womo)\n",
    "std_NbT_womo = np.std(arr_res_or_b_womo)\n",
    "\n",
    "m_NaT_womo = np.mean(arr_res_or_a_womo)\n",
    "std_NaT_womo = np.std(arr_res_or_a_womo)\n",
    "\n",
    "#Maximum Inventory constant\n",
    "m_sup_Y_cst = np.mean(arr_res_max_Y_womo)\n",
    "std_sup_Y_cst = np.std(arr_res_max_Y_womo)\n"
   ]
  },
  {
   "cell_type": "code",
   "execution_count": 522,
   "metadata": {},
   "outputs": [
    {
     "data": {
      "text/plain": [
       "-0.015662297595742794"
      ]
     },
     "execution_count": 522,
     "metadata": {},
     "output_type": "execute_result"
    }
   ],
   "source": [
    "m_std_XT_womo"
   ]
  },
  {
   "cell_type": "code",
   "execution_count": 531,
   "metadata": {},
   "outputs": [
    {
     "data": {
      "application/vnd.plotly.v1+json": {
       "config": {
        "plotlyServerURL": "https://plot.ly"
       },
       "data": [
        {
         "alignmentgroup": "True",
         "bingroup": "x",
         "hovertemplate": "variable=0<br>value=%{x}<br>count=%{y}<extra></extra>",
         "legendgroup": "0",
         "marker": {
          "color": "#636efa",
          "pattern": {
           "shape": ""
          }
         },
         "name": "0",
         "nbinsx": 75,
         "offsetgroup": "0",
         "orientation": "v",
         "showlegend": true,
         "type": "histogram",
         "x": [
          0.049999999999990906,
          45.048749999999956,
          45.07249999999995,
          22.547499999999967,
          0.026250000000009096,
          -44.96624999999995,
          -157.44624999999985,
          90.0737499999999,
          22.549999999999976,
          -89.9649999999999,
          -67.46374999999993,
          112.56374999999989,
          45.05999999999995,
          -112.4274999999999,
          -22.432499999999976,
          -67.44999999999993,
          90.06499999999991,
          0.0624999999999909,
          0.035,
          135.05874999999986,
          -112.4287499999999,
          90.05374999999991,
          -22.442499999999978,
          -112.44624999999989,
          225.06749999999974,
          45.056249999999956,
          -22.463749999999976,
          0.0775,
          22.552499999999966,
          90.03249999999991,
          22.52374999999998,
          135.05374999999987,
          -202.4474999999998,
          90.0587499999999,
          90.04749999999991,
          -44.96249999999995,
          0.06625,
          90.0574999999999,
          22.549999999999976,
          -44.921249999999944,
          45.04999999999995,
          -44.93124999999996,
          -22.429999999999968,
          0.0575,
          -112.45374999999989,
          0.065,
          -112.4424999999999,
          -89.9474999999999,
          -67.45874999999992,
          -22.45749999999998,
          45.04749999999994,
          22.536249999999978,
          67.55374999999992,
          0.0475,
          -22.453749999999978,
          -112.42874999999987,
          -67.42999999999992,
          67.55874999999993,
          67.53124999999993,
          22.544999999999977,
          0.04125,
          -134.93249999999986,
          -22.439999999999976,
          0.05999999999999091,
          -44.909999999999954,
          -22.467499999999976,
          -134.96124999999986,
          22.539999999999978,
          22.536249999999978,
          -44.96749999999995,
          157.56374999999986,
          22.55874999999998,
          -89.95374999999991,
          0.05124999999999091,
          67.59749999999993,
          -22.443749999999987,
          -44.94874999999995,
          -22.442499999999978,
          -89.94499999999991,
          67.55124999999992,
          0.0649999999999909,
          0.0625,
          -89.95249999999992,
          -44.938749999999956,
          -44.938749999999956,
          112.56124999999989,
          -112.45124999999989,
          -112.4424999999999,
          -22.443749999999977,
          -22.449999999999978,
          -44.95874999999995,
          67.55999999999993,
          90.04624999999992,
          22.55124999999998,
          -22.454999999999977,
          -22.457499999999985,
          22.574999999999967,
          -22.443749999999977,
          -22.454999999999977,
          -157.45249999999984,
          45.06999999999994,
          67.57624999999993,
          22.56124999999997,
          0.0475,
          112.53999999999989,
          157.53999999999985,
          -89.95749999999991,
          -22.452499999999976,
          112.5387499999999,
          22.56499999999997,
          45.03874999999996,
          22.551249999999968,
          112.54749999999989,
          22.571249999999967,
          -22.462499999999977,
          -67.46624999999993,
          -44.93374999999995,
          45.03999999999994,
          0.021249999999990905,
          -22.45749999999998,
          -89.95499999999991,
          -44.952499999999944,
          67.55374999999992,
          -134.94749999999988,
          0.0575,
          90.05499999999991,
          247.55499999999972,
          -112.45124999999989,
          -44.938749999999956,
          0.065,
          45.04624999999996,
          67.53124999999993,
          0.0724999999999909,
          -22.466249999999967,
          0.04625,
          22.57624999999997,
          -112.46749999999989,
          -89.9474999999999,
          135.04249999999988,
          0.04875,
          -112.46374999999989,
          180.0587499999998,
          -89.94374999999991,
          45.056249999999956,
          67.56999999999992,
          45.05749999999995,
          -22.46499999999998,
          -22.458749999999977,
          67.53499999999993,
          45.04749999999994,
          -44.953749999999964,
          0.05249999999999091,
          90.03749999999991,
          -44.947499999999955,
          112.55999999999989,
          -67.45249999999993,
          67.57124999999992,
          -44.954999999999956,
          -22.44499999999997,
          180.0499999999998,
          67.54124999999993,
          -89.9162499999999,
          -44.943749999999945,
          0.04625,
          67.54999999999993,
          67.52374999999992,
          45.07249999999995,
          0.07125,
          -22.46374999999997,
          67.56499999999994,
          -67.43624999999993,
          0.06375,
          45.04374999999995,
          -67.47249999999993,
          45.05499999999996,
          67.54374999999993,
          90.05374999999991,
          22.578749999999978,
          67.55124999999992,
          -89.92749999999992,
          90.03124999999991,
          0.06875,
          -22.453749999999967,
          -67.43124999999992,
          90.06499999999991,
          0.04875,
          45.066249999999954,
          67.55374999999992,
          -112.43624999999989,
          67.57249999999993,
          22.55499999999998,
          67.55374999999992,
          90.0712499999999,
          0.04125,
          45.03749999999995,
          -22.44374999999997,
          -89.92874999999992,
          0.0475,
          22.559999999999967,
          67.54124999999993,
          45.052499999999945,
          45.04624999999996,
          22.557499999999976,
          112.56624999999991,
          -89.94249999999991,
          -112.44749999999989,
          22.53874999999997,
          -89.94124999999991,
          22.563749999999985,
          90.03499999999991,
          22.556249999999977,
          -67.44374999999992,
          22.57249999999997,
          135.05749999999986,
          22.547499999999985,
          -67.45499999999993,
          90.0562499999999,
          90.0562499999999,
          67.52874999999993,
          22.53749999999997,
          180.06374999999983,
          0.0325000000000091,
          0.05,
          -22.446249999999978,
          90.0587499999999,
          -22.46874999999998,
          67.53874999999992,
          22.567499999999967,
          0.06125,
          22.52749999999998,
          0.06125,
          -67.45374999999993,
          -89.9649999999999,
          67.54749999999993,
          0.055,
          112.54624999999989,
          -67.43374999999993,
          67.52999999999993,
          90.06999999999991,
          -67.46624999999993,
          67.54499999999993,
          22.554999999999968,
          -89.94499999999991,
          -202.43249999999978,
          0.05,
          45.04249999999995,
          -89.9637499999999,
          157.54749999999984,
          67.55749999999995,
          -22.451249999999977,
          -134.94749999999988,
          45.048749999999956,
          -44.92249999999994,
          22.548749999999977,
          45.03499999999995,
          -44.952499999999944,
          45.06499999999995,
          22.541249999999977,
          -67.44749999999993,
          0.04625,
          112.57499999999989,
          -67.45999999999992,
          112.55624999999989,
          -112.44999999999989,
          22.546249999999976,
          45.06374999999994,
          -67.43249999999993,
          -134.95749999999987,
          -44.94249999999995,
          90.06249999999991,
          -112.4137499999999,
          -112.44999999999989,
          0.049999999999990906,
          -22.477499999999978,
          22.558749999999968,
          -89.9499999999999,
          -67.43499999999993,
          0.04375,
          67.54874999999993,
          -22.436249999999976,
          67.54124999999993,
          -112.4424999999999,
          -22.463749999999976,
          0.05625,
          -89.94249999999991,
          -44.96624999999995,
          -67.43749999999993,
          -22.444999999999986,
          0.0275,
          157.55499999999984,
          22.56874999999997,
          90.05249999999991,
          -89.9462499999999,
          90.04624999999992,
          22.532499999999978,
          -67.43749999999993,
          -22.44749999999997,
          22.563749999999978,
          -44.93749999999994,
          -67.44624999999992,
          22.558749999999968,
          67.56624999999993,
          22.557499999999976,
          112.5499999999999,
          -44.954999999999956,
          0.060000000000009095,
          -44.93999999999995,
          -89.95749999999991,
          -67.45749999999992,
          22.539999999999978,
          -44.95624999999995,
          -22.446249999999978,
          -44.95874999999995,
          0.058750000000009094,
          -89.9637499999999,
          -89.94249999999991,
          22.521249999999966,
          45.042499999999954,
          -44.96499999999995,
          -89.9474999999999,
          -44.954999999999956,
          0.0812499999999909,
          -22.45624999999997,
          45.068749999999945,
          22.549999999999976,
          22.55374999999997,
          22.53874999999997,
          67.55374999999992,
          112.5537499999999,
          -89.95999999999991,
          0.0549999999999909,
          -89.95624999999991,
          -44.94999999999995,
          45.06624999999995,
          -44.969999999999956,
          -22.466249999999977,
          -134.95249999999987,
          45.061249999999944,
          0.03625,
          45.07124999999994,
          -67.45749999999992,
          0.0624999999999909,
          90.0599999999999,
          0.0687500000000091,
          90.07999999999991,
          22.547499999999978,
          -67.45874999999992,
          45.024999999999956,
          22.52624999999997,
          -67.43999999999993,
          -22.46499999999998,
          22.536249999999967,
          -89.95874999999991,
          90.06499999999991,
          0.06374999999999091,
          -67.44499999999992,
          22.557499999999976,
          67.57624999999993,
          -67.42499999999993,
          -44.93124999999995,
          0.0375,
          -89.95499999999991,
          0.03625,
          -44.956249999999955,
          0.05875,
          67.55749999999993,
          -89.94499999999991,
          22.561249999999976,
          -44.951249999999945,
          -22.446249999999978,
          -89.93749999999993,
          22.547499999999978,
          0.04375,
          -89.94374999999991,
          -44.959999999999944,
          67.54249999999993,
          22.553749999999976,
          -67.46124999999992,
          45.036249999999946,
          -44.94749999999995,
          135.04874999999987,
          0.057499999999990906,
          22.587499999999988,
          22.571249999999985,
          -67.43749999999993,
          135.04249999999988,
          -44.92749999999995,
          45.04749999999994,
          -22.442499999999967,
          -44.949999999999946,
          -112.4449999999999,
          180.0799999999998,
          -67.42749999999992,
          -112.4262499999999,
          90.0562499999999,
          67.55124999999992,
          90.03374999999991,
          -89.9649999999999,
          45.05999999999997,
          157.54499999999985,
          -44.96499999999995,
          0.0674999999999909,
          45.064999999999955,
          -44.956249999999955,
          0.0625,
          -44.927499999999945,
          0.0550000000000091,
          157.56374999999986,
          -157.44499999999985,
          67.55874999999993,
          90.06124999999992,
          -44.95374999999996,
          -22.433749999999968,
          90.0287499999999,
          -67.44749999999993,
          -112.4412499999999,
          -134.95124999999987,
          0.04375,
          -89.95999999999991,
          0.03625,
          -67.44374999999992,
          22.548749999999977,
          -67.44624999999992,
          -22.47124999999997,
          0.0724999999999909,
          45.043749999999946,
          22.536249999999967,
          -112.4599999999999,
          -67.45999999999992,
          -67.45374999999993,
          0.0737499999999909,
          112.55874999999989,
          0.03125,
          -44.96499999999995,
          -22.45999999999997,
          0.0525,
          -89.93624999999992,
          45.057499999999955,
          -44.97749999999994,
          0.0475,
          0.049999999999990906,
          22.556249999999977,
          -89.95374999999991,
          -22.447499999999987,
          -22.446249999999978,
          45.03999999999994,
          90.03249999999991,
          67.55374999999992,
          -67.45499999999993,
          -67.44249999999992,
          45.061249999999944,
          0.04,
          -22.451249999999977,
          67.55499999999992,
          -89.95374999999991,
          -44.938749999999956,
          45.04749999999994,
          0.0425,
          0.051250000000009094,
          90.06624999999991,
          22.56124999999997,
          -22.451249999999977,
          -22.45624999999997,
          22.539999999999978,
          90.05124999999992,
          112.5537499999999,
          135.05499999999986,
          -44.93874999999994,
          22.576249999999977,
          -89.9499999999999,
          -89.95249999999992,
          -67.45374999999993,
          67.54874999999993,
          135.03624999999988,
          157.56374999999986,
          135.03374999999986,
          45.046249999999944,
          0.049999999999990906,
          -22.478749999999977,
          45.03874999999994,
          67.55249999999992,
          0.06,
          -44.95499999999995,
          -22.44374999999997,
          -22.47124999999997,
          45.07999999999996,
          -44.96624999999995,
          -67.46249999999992,
          -22.442499999999978,
          -112.42124999999989,
          -22.478749999999977,
          -89.94499999999991,
          45.03749999999995,
          -44.95374999999994,
          22.559999999999977,
          90.0424999999999,
          -89.9624999999999,
          22.557499999999976,
          0.045,
          0.0175,
          -134.95874999999987,
          -67.46249999999992,
          45.05499999999996,
          90.04624999999992,
          112.55624999999989,
          0.041249999999990905,
          67.55124999999992,
          67.54874999999993,
          0.039999999999990904,
          135.04999999999987,
          -112.43624999999989,
          0.0737500000000091,
          -22.438749999999985,
          67.54999999999993,
          -134.96499999999986,
          -22.43749999999998,
          112.55999999999989,
          22.574999999999985,
          -157.44499999999985,
          45.04499999999995,
          135.03624999999988,
          22.58124999999997,
          225.05124999999975,
          67.55999999999993,
          90.0412499999999,
          45.061249999999944,
          90.07749999999992,
          135.05749999999986,
          0.05999999999999091,
          -89.95874999999991,
          -134.93249999999986,
          -202.4474999999998,
          112.5537499999999,
          -112.4574999999999,
          -89.9487499999999,
          157.56874999999985,
          -22.462499999999977,
          -22.439999999999987,
          -22.44499999999998,
          0.0375,
          67.54249999999993,
          45.02249999999995,
          45.046249999999944,
          0.04375,
          0.04875,
          -44.93999999999995,
          -44.95249999999996,
          0.047499999999990904,
          22.567499999999967,
          0.0674999999999909,
          112.53999999999989,
          22.579999999999988,
          -44.971249999999955,
          45.06624999999995,
          22.55874999999998,
          0.05625,
          22.54249999999997,
          22.54124999999997,
          22.56624999999998,
          -44.93124999999995,
          45.06249999999994,
          -44.963749999999955,
          -89.9312499999999,
          -44.94374999999995,
          -44.93874999999994,
          112.5587499999999,
          -89.95874999999991,
          -44.949999999999946,
          -134.94374999999988,
          67.54499999999993,
          -134.93374999999986,
          0.03375,
          -67.43624999999993,
          180.04749999999981,
          202.5449999999998,
          -44.94499999999994,
          0.0325,
          90.05374999999991,
          -44.92749999999995,
          -44.966249999999945,
          0.05125,
          -22.45624999999997,
          67.56874999999992,
          -44.96499999999995,
          -44.954999999999956,
          90.04874999999991,
          -22.45499999999997,
          22.552499999999977,
          -22.44374999999997,
          -22.454999999999977,
          67.52874999999993,
          45.05374999999995,
          135.03749999999988,
          22.548749999999988,
          67.56749999999992,
          45.05124999999995,
          112.56374999999989,
          22.551249999999968,
          112.59624999999988,
          22.55124999999998,
          0.0325,
          67.55499999999992,
          112.55624999999989,
          112.55874999999989,
          -89.9474999999999,
          0.04,
          -89.94499999999991,
          -44.94999999999995,
          -89.9474999999999,
          -44.94499999999994,
          -44.942499999999946,
          90.03749999999991,
          67.53124999999993,
          45.04124999999995,
          -22.426249999999985,
          135.05249999999987,
          0.0675000000000091,
          22.562499999999968,
          45.059999999999945,
          -67.44624999999992,
          -67.45624999999993,
          22.568749999999987,
          90.05499999999991,
          0.0674999999999909,
          90.06499999999991,
          135.06624999999988,
          -22.44874999999997,
          45.072499999999955,
          -157.45624999999984,
          45.068749999999945,
          0.0562500000000091,
          67.55749999999993,
          -224.92874999999975,
          -67.43499999999993,
          112.54749999999989,
          67.53374999999993,
          45.06499999999996,
          157.56999999999985,
          -67.44249999999992,
          -44.94124999999995,
          -134.97624999999988,
          67.54249999999993,
          0.07375,
          -44.959999999999944,
          135.04999999999987,
          -112.4599999999999,
          67.55749999999993,
          -67.45249999999993,
          -89.9512499999999,
          90.04999999999991,
          135.04624999999984,
          0.04125,
          22.559999999999967,
          112.54249999999989,
          90.02999999999992,
          112.55999999999989,
          -44.94374999999995,
          112.5549999999999,
          45.04374999999995,
          22.557499999999976,
          0.04125,
          -22.47249999999998,
          -112.44749999999989,
          0.065,
          -22.433749999999968,
          157.54999999999984,
          -179.91499999999982,
          0.05,
          90.05249999999991,
          90.03874999999991,
          -44.95624999999995,
          22.583749999999988,
          -89.96124999999991,
          0.0475,
          -134.94999999999987,
          22.533749999999976,
          22.542499999999976,
          45.063749999999956,
          -44.954999999999956,
          0.03875,
          0.04875,
          -134.93624999999986,
          67.56374999999993,
          -22.46124999999998,
          67.53999999999992,
          0.06625,
          112.55624999999989,
          157.54749999999984,
          -22.438749999999978,
          0.04125,
          0.0725,
          0.0375,
          -22.417499999999976,
          -112.4412499999999,
          -22.453749999999978,
          45.06499999999995,
          -89.94374999999991,
          -44.936249999999966,
          -22.442499999999985,
          -22.45749999999998,
          -224.93624999999975,
          22.53749999999997,
          0.0400000000000091,
          -67.44999999999993,
          -67.43124999999992,
          22.548749999999977,
          -67.43874999999993,
          22.543749999999985,
          -44.92374999999995,
          22.568749999999987,
          67.56999999999992,
          45.04874999999995,
          45.053749999999944,
          -22.42999999999998,
          22.563749999999967,
          -67.43999999999993,
          45.02624999999995,
          22.536249999999978,
          90.06874999999991,
          0.042499999999990906,
          -22.431249999999967,
          45.043749999999946,
          90.06124999999992,
          0.02375,
          22.544999999999977,
          90.05124999999992,
          -112.44624999999989,
          45.067499999999946,
          22.551249999999968,
          -157.44874999999985,
          22.557499999999976,
          -67.46499999999993,
          22.552499999999966,
          -67.46499999999993,
          45.03999999999994,
          112.5662499999999,
          0.05124999999999091,
          67.54249999999993,
          22.546249999999976,
          -134.95499999999987,
          -44.942499999999946,
          -22.442499999999978,
          22.531249999999968,
          -67.42999999999992,
          -22.442499999999978,
          135.06874999999988,
          67.57374999999995,
          157.56249999999986,
          22.571249999999985,
          -44.948749999999954,
          67.55124999999992,
          -22.458749999999977,
          -89.9349999999999,
          -157.42499999999984,
          -67.46624999999993,
          -44.95749999999995,
          45.06124999999995,
          135.06749999999988,
          -67.45249999999993,
          -89.94249999999991,
          112.5537499999999,
          22.53874999999997,
          -44.949999999999946,
          0.046250000000009096,
          0.0674999999999909,
          67.55624999999992,
          45.068749999999945,
          45.03874999999996,
          -44.93249999999995,
          45.056249999999956,
          -44.96874999999996,
          -44.954999999999956,
          90.0574999999999,
          22.541249999999977,
          90.03749999999991,
          157.58374999999987,
          -179.94624999999982,
          -89.96124999999991,
          -22.46499999999998,
          -44.93749999999994,
          22.539999999999978,
          -44.957499999999946,
          67.56499999999993,
          22.543749999999978,
          112.5362499999999,
          0.035,
          -112.44749999999989,
          -157.46249999999986,
          0.06374999999999091,
          0.04125,
          -44.95374999999996,
          22.576249999999977,
          45.033749999999955,
          -67.45124999999993,
          180.07499999999982,
          112.5549999999999,
          67.53874999999992,
          -179.93749999999983,
          90.04624999999992,
          -44.934999999999945,
          112.55124999999987,
          -67.45374999999993,
          -22.442499999999967,
          -112.4574999999999,
          -22.433749999999986,
          -22.457499999999968,
          0.05999999999999091,
          -89.93999999999991,
          45.061249999999944,
          0.04125000000000909,
          -44.94374999999995,
          -112.4449999999999,
          45.043749999999946,
          -22.453749999999967,
          112.53374999999988,
          135.06749999999988,
          67.55249999999992,
          0.0875000000000091,
          22.54499999999997,
          22.536249999999978,
          -22.437499999999986,
          -67.45999999999992,
          0.045,
          -89.92374999999991,
          -134.95624999999987,
          -112.44874999999989,
          45.058749999999954,
          -22.45249999999997,
          0.03125,
          -67.44249999999992,
          45.07624999999995,
          112.5662499999999,
          -22.429999999999968,
          -44.948749999999954,
          45.068749999999945,
          90.05374999999991,
          157.53874999999985,
          67.54999999999993,
          -44.94624999999994,
          67.54124999999993,
          0.05249999999999091,
          112.53374999999988,
          -44.95124999999995,
          157.54749999999984,
          45.04749999999996,
          -89.9649999999999,
          135.04999999999987,
          -44.927499999999945,
          67.57249999999993,
          -67.46124999999992,
          -112.43999999999988,
          45.051249999999946,
          67.56249999999993,
          22.53874999999998,
          22.561249999999976,
          22.55374999999997,
          -67.45374999999993,
          -89.9312499999999,
          -44.95499999999995,
          45.04999999999995,
          -112.44999999999989,
          -22.442499999999978,
          45.04499999999995,
          45.03499999999995,
          -134.94749999999988,
          90.0424999999999,
          -89.9337499999999,
          -157.44749999999985,
          0.049999999999990906,
          -134.95374999999987,
          -67.45624999999993,
          90.0449999999999,
          90.06999999999991,
          -44.93624999999995,
          0.045000000000009095,
          22.564999999999976,
          22.576249999999977,
          -89.94499999999991,
          -89.95749999999991,
          0.04125,
          0.053750000000009096,
          -22.454999999999988,
          0.03625,
          -44.95999999999995,
          90.0437499999999,
          -67.45124999999993,
          -22.456249999999976,
          67.54749999999993,
          90.04624999999992,
          -89.9512499999999,
          -44.962499999999956,
          0.0462499999999909,
          22.53374999999997,
          -67.44499999999992,
          -67.43499999999993,
          22.557499999999987,
          -89.96124999999991,
          22.536249999999978,
          -67.45624999999993,
          -89.9637499999999,
          67.55624999999992,
          -89.92874999999991,
          45.06374999999994,
          -179.94499999999982,
          22.559999999999977,
          180.04249999999982,
          22.537499999999977,
          22.567499999999967,
          135.03874999999988,
          -112.4437499999999,
          0.0475,
          45.058749999999954,
          -89.94499999999991,
          -44.96999999999994,
          -44.927499999999945,
          45.04999999999995,
          45.07249999999995,
          0.051250000000009094,
          67.55874999999993,
          22.553749999999976,
          22.521249999999977,
          -67.44874999999993,
          0.047499999999990904,
          -67.45874999999992,
          -134.95124999999987,
          45.04749999999994,
          22.559999999999977,
          -22.443749999999977,
          0.05874999999999091,
          45.048749999999956,
          0.060000000000009095,
          22.549999999999986,
          -22.463749999999976,
          -67.44124999999993,
          0.06375,
          90.04999999999991,
          22.55874999999998,
          45.05874999999995,
          45.04124999999995,
          0.056249999999990904,
          -112.44624999999989,
          -89.92499999999991,
          67.53874999999992,
          45.059999999999945,
          -22.456249999999976,
          -134.93124999999986,
          -22.469999999999978,
          22.51874999999997,
          -67.44874999999993,
          -44.94624999999996,
          45.05624999999996,
          0.03625,
          -44.956249999999955,
          -67.41374999999992,
          22.572499999999987,
          22.53874999999998,
          0.0475,
          90.06749999999991,
          45.074999999999946,
          -89.96124999999991,
          0.035,
          -22.473749999999978,
          -44.95624999999995,
          22.53499999999998,
          67.53624999999992,
          22.55874999999998,
          90.0412499999999,
          -22.446249999999985,
          -44.941249999999954,
          112.54124999999989,
          67.54124999999993,
          -89.94374999999991,
          22.53499999999998,
          -67.45999999999992,
          90.04624999999992,
          22.54874999999997,
          45.051249999999946,
          -67.42874999999992,
          -134.94249999999988,
          67.52999999999993,
          112.5562499999999,
          0.04375,
          -22.474999999999977,
          45.06999999999994,
          -44.942499999999946,
          0.0624999999999909,
          45.04874999999995,
          -44.947499999999955,
          -89.9349999999999,
          -67.44624999999992,
          45.033749999999955,
          67.54874999999993,
          -67.45124999999993,
          -67.45624999999993,
          -22.438749999999978,
          -67.43499999999993,
          22.57249999999997,
          -44.94249999999995,
          22.549999999999976,
          45.03999999999994
         ],
         "xaxis": "x",
         "yaxis": "y"
        }
       ],
       "layout": {
        "barmode": "relative",
        "font": {
         "color": "black"
        },
        "legend": {
         "title": {
          "text": "variable"
         },
         "tracegroupgap": 0
        },
        "margin": {
         "t": 60
        },
        "paper_bgcolor": "white",
        "plot_bgcolor": "white",
        "template": {
         "data": {
          "bar": [
           {
            "error_x": {
             "color": "#2a3f5f"
            },
            "error_y": {
             "color": "#2a3f5f"
            },
            "marker": {
             "line": {
              "color": "#E5ECF6",
              "width": 0.5
             },
             "pattern": {
              "fillmode": "overlay",
              "size": 10,
              "solidity": 0.2
             }
            },
            "type": "bar"
           }
          ],
          "barpolar": [
           {
            "marker": {
             "line": {
              "color": "#E5ECF6",
              "width": 0.5
             },
             "pattern": {
              "fillmode": "overlay",
              "size": 10,
              "solidity": 0.2
             }
            },
            "type": "barpolar"
           }
          ],
          "carpet": [
           {
            "aaxis": {
             "endlinecolor": "#2a3f5f",
             "gridcolor": "white",
             "linecolor": "white",
             "minorgridcolor": "white",
             "startlinecolor": "#2a3f5f"
            },
            "baxis": {
             "endlinecolor": "#2a3f5f",
             "gridcolor": "white",
             "linecolor": "white",
             "minorgridcolor": "white",
             "startlinecolor": "#2a3f5f"
            },
            "type": "carpet"
           }
          ],
          "choropleth": [
           {
            "colorbar": {
             "outlinewidth": 0,
             "ticks": ""
            },
            "type": "choropleth"
           }
          ],
          "contour": [
           {
            "colorbar": {
             "outlinewidth": 0,
             "ticks": ""
            },
            "colorscale": [
             [
              0,
              "#0d0887"
             ],
             [
              0.1111111111111111,
              "#46039f"
             ],
             [
              0.2222222222222222,
              "#7201a8"
             ],
             [
              0.3333333333333333,
              "#9c179e"
             ],
             [
              0.4444444444444444,
              "#bd3786"
             ],
             [
              0.5555555555555556,
              "#d8576b"
             ],
             [
              0.6666666666666666,
              "#ed7953"
             ],
             [
              0.7777777777777778,
              "#fb9f3a"
             ],
             [
              0.8888888888888888,
              "#fdca26"
             ],
             [
              1,
              "#f0f921"
             ]
            ],
            "type": "contour"
           }
          ],
          "contourcarpet": [
           {
            "colorbar": {
             "outlinewidth": 0,
             "ticks": ""
            },
            "type": "contourcarpet"
           }
          ],
          "heatmap": [
           {
            "colorbar": {
             "outlinewidth": 0,
             "ticks": ""
            },
            "colorscale": [
             [
              0,
              "#0d0887"
             ],
             [
              0.1111111111111111,
              "#46039f"
             ],
             [
              0.2222222222222222,
              "#7201a8"
             ],
             [
              0.3333333333333333,
              "#9c179e"
             ],
             [
              0.4444444444444444,
              "#bd3786"
             ],
             [
              0.5555555555555556,
              "#d8576b"
             ],
             [
              0.6666666666666666,
              "#ed7953"
             ],
             [
              0.7777777777777778,
              "#fb9f3a"
             ],
             [
              0.8888888888888888,
              "#fdca26"
             ],
             [
              1,
              "#f0f921"
             ]
            ],
            "type": "heatmap"
           }
          ],
          "heatmapgl": [
           {
            "colorbar": {
             "outlinewidth": 0,
             "ticks": ""
            },
            "colorscale": [
             [
              0,
              "#0d0887"
             ],
             [
              0.1111111111111111,
              "#46039f"
             ],
             [
              0.2222222222222222,
              "#7201a8"
             ],
             [
              0.3333333333333333,
              "#9c179e"
             ],
             [
              0.4444444444444444,
              "#bd3786"
             ],
             [
              0.5555555555555556,
              "#d8576b"
             ],
             [
              0.6666666666666666,
              "#ed7953"
             ],
             [
              0.7777777777777778,
              "#fb9f3a"
             ],
             [
              0.8888888888888888,
              "#fdca26"
             ],
             [
              1,
              "#f0f921"
             ]
            ],
            "type": "heatmapgl"
           }
          ],
          "histogram": [
           {
            "marker": {
             "pattern": {
              "fillmode": "overlay",
              "size": 10,
              "solidity": 0.2
             }
            },
            "type": "histogram"
           }
          ],
          "histogram2d": [
           {
            "colorbar": {
             "outlinewidth": 0,
             "ticks": ""
            },
            "colorscale": [
             [
              0,
              "#0d0887"
             ],
             [
              0.1111111111111111,
              "#46039f"
             ],
             [
              0.2222222222222222,
              "#7201a8"
             ],
             [
              0.3333333333333333,
              "#9c179e"
             ],
             [
              0.4444444444444444,
              "#bd3786"
             ],
             [
              0.5555555555555556,
              "#d8576b"
             ],
             [
              0.6666666666666666,
              "#ed7953"
             ],
             [
              0.7777777777777778,
              "#fb9f3a"
             ],
             [
              0.8888888888888888,
              "#fdca26"
             ],
             [
              1,
              "#f0f921"
             ]
            ],
            "type": "histogram2d"
           }
          ],
          "histogram2dcontour": [
           {
            "colorbar": {
             "outlinewidth": 0,
             "ticks": ""
            },
            "colorscale": [
             [
              0,
              "#0d0887"
             ],
             [
              0.1111111111111111,
              "#46039f"
             ],
             [
              0.2222222222222222,
              "#7201a8"
             ],
             [
              0.3333333333333333,
              "#9c179e"
             ],
             [
              0.4444444444444444,
              "#bd3786"
             ],
             [
              0.5555555555555556,
              "#d8576b"
             ],
             [
              0.6666666666666666,
              "#ed7953"
             ],
             [
              0.7777777777777778,
              "#fb9f3a"
             ],
             [
              0.8888888888888888,
              "#fdca26"
             ],
             [
              1,
              "#f0f921"
             ]
            ],
            "type": "histogram2dcontour"
           }
          ],
          "mesh3d": [
           {
            "colorbar": {
             "outlinewidth": 0,
             "ticks": ""
            },
            "type": "mesh3d"
           }
          ],
          "parcoords": [
           {
            "line": {
             "colorbar": {
              "outlinewidth": 0,
              "ticks": ""
             }
            },
            "type": "parcoords"
           }
          ],
          "pie": [
           {
            "automargin": true,
            "type": "pie"
           }
          ],
          "scatter": [
           {
            "fillpattern": {
             "fillmode": "overlay",
             "size": 10,
             "solidity": 0.2
            },
            "type": "scatter"
           }
          ],
          "scatter3d": [
           {
            "line": {
             "colorbar": {
              "outlinewidth": 0,
              "ticks": ""
             }
            },
            "marker": {
             "colorbar": {
              "outlinewidth": 0,
              "ticks": ""
             }
            },
            "type": "scatter3d"
           }
          ],
          "scattercarpet": [
           {
            "marker": {
             "colorbar": {
              "outlinewidth": 0,
              "ticks": ""
             }
            },
            "type": "scattercarpet"
           }
          ],
          "scattergeo": [
           {
            "marker": {
             "colorbar": {
              "outlinewidth": 0,
              "ticks": ""
             }
            },
            "type": "scattergeo"
           }
          ],
          "scattergl": [
           {
            "marker": {
             "colorbar": {
              "outlinewidth": 0,
              "ticks": ""
             }
            },
            "type": "scattergl"
           }
          ],
          "scattermapbox": [
           {
            "marker": {
             "colorbar": {
              "outlinewidth": 0,
              "ticks": ""
             }
            },
            "type": "scattermapbox"
           }
          ],
          "scatterpolar": [
           {
            "marker": {
             "colorbar": {
              "outlinewidth": 0,
              "ticks": ""
             }
            },
            "type": "scatterpolar"
           }
          ],
          "scatterpolargl": [
           {
            "marker": {
             "colorbar": {
              "outlinewidth": 0,
              "ticks": ""
             }
            },
            "type": "scatterpolargl"
           }
          ],
          "scatterternary": [
           {
            "marker": {
             "colorbar": {
              "outlinewidth": 0,
              "ticks": ""
             }
            },
            "type": "scatterternary"
           }
          ],
          "surface": [
           {
            "colorbar": {
             "outlinewidth": 0,
             "ticks": ""
            },
            "colorscale": [
             [
              0,
              "#0d0887"
             ],
             [
              0.1111111111111111,
              "#46039f"
             ],
             [
              0.2222222222222222,
              "#7201a8"
             ],
             [
              0.3333333333333333,
              "#9c179e"
             ],
             [
              0.4444444444444444,
              "#bd3786"
             ],
             [
              0.5555555555555556,
              "#d8576b"
             ],
             [
              0.6666666666666666,
              "#ed7953"
             ],
             [
              0.7777777777777778,
              "#fb9f3a"
             ],
             [
              0.8888888888888888,
              "#fdca26"
             ],
             [
              1,
              "#f0f921"
             ]
            ],
            "type": "surface"
           }
          ],
          "table": [
           {
            "cells": {
             "fill": {
              "color": "#EBF0F8"
             },
             "line": {
              "color": "white"
             }
            },
            "header": {
             "fill": {
              "color": "#C8D4E3"
             },
             "line": {
              "color": "white"
             }
            },
            "type": "table"
           }
          ]
         },
         "layout": {
          "annotationdefaults": {
           "arrowcolor": "#2a3f5f",
           "arrowhead": 0,
           "arrowwidth": 1
          },
          "autotypenumbers": "strict",
          "coloraxis": {
           "colorbar": {
            "outlinewidth": 0,
            "ticks": ""
           }
          },
          "colorscale": {
           "diverging": [
            [
             0,
             "#8e0152"
            ],
            [
             0.1,
             "#c51b7d"
            ],
            [
             0.2,
             "#de77ae"
            ],
            [
             0.3,
             "#f1b6da"
            ],
            [
             0.4,
             "#fde0ef"
            ],
            [
             0.5,
             "#f7f7f7"
            ],
            [
             0.6,
             "#e6f5d0"
            ],
            [
             0.7,
             "#b8e186"
            ],
            [
             0.8,
             "#7fbc41"
            ],
            [
             0.9,
             "#4d9221"
            ],
            [
             1,
             "#276419"
            ]
           ],
           "sequential": [
            [
             0,
             "#0d0887"
            ],
            [
             0.1111111111111111,
             "#46039f"
            ],
            [
             0.2222222222222222,
             "#7201a8"
            ],
            [
             0.3333333333333333,
             "#9c179e"
            ],
            [
             0.4444444444444444,
             "#bd3786"
            ],
            [
             0.5555555555555556,
             "#d8576b"
            ],
            [
             0.6666666666666666,
             "#ed7953"
            ],
            [
             0.7777777777777778,
             "#fb9f3a"
            ],
            [
             0.8888888888888888,
             "#fdca26"
            ],
            [
             1,
             "#f0f921"
            ]
           ],
           "sequentialminus": [
            [
             0,
             "#0d0887"
            ],
            [
             0.1111111111111111,
             "#46039f"
            ],
            [
             0.2222222222222222,
             "#7201a8"
            ],
            [
             0.3333333333333333,
             "#9c179e"
            ],
            [
             0.4444444444444444,
             "#bd3786"
            ],
            [
             0.5555555555555556,
             "#d8576b"
            ],
            [
             0.6666666666666666,
             "#ed7953"
            ],
            [
             0.7777777777777778,
             "#fb9f3a"
            ],
            [
             0.8888888888888888,
             "#fdca26"
            ],
            [
             1,
             "#f0f921"
            ]
           ]
          },
          "colorway": [
           "#636efa",
           "#EF553B",
           "#00cc96",
           "#ab63fa",
           "#FFA15A",
           "#19d3f3",
           "#FF6692",
           "#B6E880",
           "#FF97FF",
           "#FECB52"
          ],
          "font": {
           "color": "#2a3f5f"
          },
          "geo": {
           "bgcolor": "white",
           "lakecolor": "white",
           "landcolor": "#E5ECF6",
           "showlakes": true,
           "showland": true,
           "subunitcolor": "white"
          },
          "hoverlabel": {
           "align": "left"
          },
          "hovermode": "closest",
          "mapbox": {
           "style": "light"
          },
          "paper_bgcolor": "white",
          "plot_bgcolor": "#E5ECF6",
          "polar": {
           "angularaxis": {
            "gridcolor": "white",
            "linecolor": "white",
            "ticks": ""
           },
           "bgcolor": "#E5ECF6",
           "radialaxis": {
            "gridcolor": "white",
            "linecolor": "white",
            "ticks": ""
           }
          },
          "scene": {
           "xaxis": {
            "backgroundcolor": "#E5ECF6",
            "gridcolor": "white",
            "gridwidth": 2,
            "linecolor": "white",
            "showbackground": true,
            "ticks": "",
            "zerolinecolor": "white"
           },
           "yaxis": {
            "backgroundcolor": "#E5ECF6",
            "gridcolor": "white",
            "gridwidth": 2,
            "linecolor": "white",
            "showbackground": true,
            "ticks": "",
            "zerolinecolor": "white"
           },
           "zaxis": {
            "backgroundcolor": "#E5ECF6",
            "gridcolor": "white",
            "gridwidth": 2,
            "linecolor": "white",
            "showbackground": true,
            "ticks": "",
            "zerolinecolor": "white"
           }
          },
          "shapedefaults": {
           "line": {
            "color": "#2a3f5f"
           }
          },
          "ternary": {
           "aaxis": {
            "gridcolor": "white",
            "linecolor": "white",
            "ticks": ""
           },
           "baxis": {
            "gridcolor": "white",
            "linecolor": "white",
            "ticks": ""
           },
           "bgcolor": "#E5ECF6",
           "caxis": {
            "gridcolor": "white",
            "linecolor": "white",
            "ticks": ""
           }
          },
          "title": {
           "x": 0.05
          },
          "xaxis": {
           "automargin": true,
           "gridcolor": "white",
           "linecolor": "white",
           "ticks": "",
           "title": {
            "standoff": 15
           },
           "zerolinecolor": "white",
           "zerolinewidth": 2
          },
          "yaxis": {
           "automargin": true,
           "gridcolor": "white",
           "linecolor": "white",
           "ticks": "",
           "title": {
            "standoff": 15
           },
           "zerolinecolor": "white",
           "zerolinewidth": 2
          }
         }
        },
        "title": {
         "text": "Performance empirical distribution of constant strategy",
         "x": 0.5
        },
        "xaxis": {
         "anchor": "y",
         "color": "black",
         "domain": [
          0,
          1
         ],
         "gridcolor": "black",
         "tickcolor": "black",
         "title": {
          "text": "Value"
         }
        },
        "yaxis": {
         "anchor": "x",
         "color": "black",
         "domain": [
          0,
          1
         ],
         "gridcolor": "black",
         "tickcolor": "black",
         "title": {
          "text": "Number of occurances"
         }
        }
       }
      }
     },
     "metadata": {},
     "output_type": "display_data"
    }
   ],
   "source": [
    "fig = px.histogram(arr_res_X_womo, nbins=75)\n",
    "\n",
    "fig.update_layout(\n",
    "    title_text=\"Performance empirical distribution of constant strategy\",\n",
    "    title_x=0.5,\n",
    "    plot_bgcolor='white',  # set background color to white\n",
    "    paper_bgcolor='white',  # set background color to white\n",
    "    font=dict(color='black'),  # set font color to black\n",
    "    xaxis=dict(title_text=\"Value\", color='black', tickcolor='black', gridcolor='black'),  # set x-axis color, tick color, grid color, and grid width\n",
    "    yaxis=dict(title_text=\"Number of occurances\", color='black', tickcolor='black', gridcolor='black'),  # set y-axis color, tick color, grid color, and grid width\n",
    ")"
   ]
  },
  {
   "cell_type": "code",
   "execution_count": 532,
   "metadata": {},
   "outputs": [
    {
     "data": {
      "application/vnd.plotly.v1+json": {
       "config": {
        "plotlyServerURL": "https://plot.ly"
       },
       "data": [
        {
         "alignmentgroup": "True",
         "bingroup": "x",
         "hovertemplate": "variable=0<br>value=%{x}<br>count=%{y}<extra></extra>",
         "legendgroup": "0",
         "marker": {
          "color": "#636efa",
          "pattern": {
           "shape": ""
          }
         },
         "name": "0",
         "nbinsx": 75,
         "offsetgroup": "0",
         "orientation": "v",
         "showlegend": true,
         "type": "histogram",
         "x": [
          11,
          12,
          17,
          10,
          9,
          4,
          7,
          16,
          9,
          7,
          9,
          13,
          10,
          8,
          11,
          10,
          13,
          13,
          7,
          12,
          13,
          13,
          10,
          9,
          18,
          11,
          5,
          16,
          12,
          7,
          7,
          16,
          5,
          15,
          14,
          5,
          13,
          13,
          10,
          11,
          8,
          13,
          15,
          10,
          7,
          15,
          7,
          9,
          4,
          7,
          9,
          7,
          12,
          10,
          8,
          9,
          10,
          12,
          7,
          9,
          7,
          7,
          11,
          8,
          15,
          9,
          5,
          11,
          8,
          5,
          15,
          12,
          5,
          10,
          16,
          10,
          6,
          11,
          10,
          8,
          17,
          14,
          6,
          16,
          14,
          13,
          6,
          8,
          11,
          6,
          6,
          15,
          12,
          11,
          12,
          9,
          14,
          11,
          10,
          5,
          14,
          14,
          10,
          7,
          12,
          12,
          6,
          14,
          11,
          11,
          9,
          13,
          13,
          15,
          8,
          10,
          12,
          10,
          7,
          9,
          6,
          7,
          13,
          7,
          10,
          13,
          16,
          8,
          15,
          13,
          8,
          9,
          16,
          12,
          11,
          17,
          4,
          6,
          13,
          9,
          5,
          17,
          9,
          10,
          11,
          14,
          5,
          7,
          10,
          10,
          9,
          14,
          10,
          8,
          15,
          4,
          11,
          12,
          15,
          13,
          12,
          13,
          6,
          8,
          12,
          7,
          14,
          14,
          5,
          14,
          11,
          12,
          10,
          3,
          13,
          12,
          10,
          11,
          13,
          11,
          13,
          14,
          9,
          8,
          11,
          12,
          12,
          11,
          8,
          13,
          11,
          13,
          14,
          7,
          13,
          13,
          10,
          11,
          12,
          10,
          11,
          9,
          16,
          15,
          10,
          9,
          9,
          7,
          9,
          9,
          13,
          6,
          11,
          14,
          11,
          10,
          15,
          11,
          9,
          7,
          16,
          9,
          9,
          12,
          13,
          7,
          10,
          10,
          11,
          8,
          11,
          7,
          6,
          10,
          9,
          12,
          11,
          7,
          17,
          6,
          9,
          8,
          9,
          10,
          6,
          9,
          6,
          14,
          9,
          11,
          10,
          11,
          14,
          8,
          7,
          8,
          10,
          7,
          5,
          13,
          18,
          6,
          11,
          7,
          9,
          15,
          12,
          10,
          6,
          16,
          13,
          7,
          10,
          5,
          14,
          9,
          9,
          9,
          10,
          7,
          9,
          7,
          7,
          13,
          11,
          5,
          8,
          9,
          7,
          13,
          9,
          13,
          10,
          13,
          6,
          10,
          8,
          10,
          13,
          14,
          13,
          11,
          11,
          10,
          8,
          11,
          11,
          5,
          9,
          11,
          7,
          8,
          5,
          15,
          6,
          8,
          9,
          10,
          6,
          9,
          8,
          14,
          7,
          16,
          11,
          13,
          10,
          10,
          10,
          5,
          13,
          9,
          11,
          13,
          4,
          8,
          5,
          15,
          8,
          17,
          6,
          14,
          15,
          11,
          15,
          9,
          6,
          8,
          10,
          9,
          5,
          9,
          7,
          11,
          14,
          8,
          11,
          16,
          7,
          16,
          6,
          6,
          5,
          6,
          14,
          13,
          11,
          14,
          10,
          9,
          10,
          6,
          7,
          12,
          6,
          9,
          14,
          6,
          7,
          9,
          13,
          10,
          14,
          15,
          13,
          11,
          11,
          10,
          9,
          11,
          12,
          20,
          12,
          10,
          13,
          10,
          9,
          6,
          13,
          13,
          10,
          13,
          12,
          9,
          14,
          13,
          12,
          16,
          8,
          13,
          13,
          10,
          7,
          7,
          7,
          11,
          5,
          10,
          5,
          7,
          10,
          11,
          10,
          6,
          17,
          11,
          7,
          8,
          8,
          8,
          15,
          18,
          12,
          7,
          5,
          7,
          10,
          10,
          7,
          9,
          11,
          9,
          8,
          12,
          12,
          9,
          8,
          11,
          7,
          10,
          16,
          9,
          10,
          14,
          8,
          10,
          10,
          12,
          9,
          13,
          11,
          10,
          11,
          7,
          16,
          11,
          10,
          14,
          12,
          7,
          6,
          9,
          11,
          12,
          17,
          10,
          9,
          10,
          5,
          8,
          10,
          10,
          9,
          11,
          7,
          14,
          5,
          4,
          11,
          12,
          7,
          6,
          6,
          9,
          11,
          10,
          6,
          8,
          5,
          4,
          6,
          11,
          13,
          15,
          15,
          7,
          9,
          12,
          9,
          14,
          7,
          11,
          10,
          13,
          2,
          12,
          12,
          15,
          10,
          9,
          10,
          21,
          15,
          11,
          9,
          12,
          13,
          11,
          9,
          6,
          8,
          4,
          13,
          6,
          6,
          13,
          9,
          8,
          12,
          9,
          9,
          5,
          12,
          8,
          10,
          9,
          5,
          9,
          13,
          10,
          14,
          15,
          5,
          13,
          12,
          10,
          8,
          9,
          13,
          10,
          12,
          8,
          8,
          9,
          9,
          15,
          7,
          10,
          8,
          10,
          10,
          7,
          9,
          13,
          14,
          9,
          6,
          15,
          11,
          5,
          9,
          9,
          13,
          6,
          8,
          14,
          10,
          11,
          14,
          9,
          11,
          12,
          10,
          9,
          15,
          14,
          18,
          14,
          19,
          8,
          7,
          13,
          12,
          15,
          11,
          8,
          9,
          7,
          5,
          7,
          8,
          10,
          7,
          11,
          12,
          12,
          11,
          12,
          13,
          11,
          7,
          13,
          13,
          12,
          16,
          17,
          9,
          14,
          1,
          12,
          11,
          14,
          8,
          10,
          13,
          7,
          8,
          18,
          7,
          12,
          2,
          13,
          10,
          7,
          15,
          9,
          9,
          10,
          7,
          15,
          15,
          7,
          13,
          10,
          14,
          12,
          10,
          14,
          10,
          11,
          9,
          5,
          5,
          13,
          8,
          11,
          10,
          9,
          11,
          11,
          6,
          16,
          6,
          10,
          8,
          6,
          9,
          18,
          10,
          12,
          11,
          9,
          16,
          7,
          10,
          11,
          14,
          12,
          9,
          10,
          13,
          7,
          11,
          13,
          6,
          16,
          7,
          15,
          10,
          9,
          9,
          7,
          11,
          8,
          8,
          14,
          15,
          13,
          16,
          13,
          15,
          13,
          11,
          11,
          13,
          12,
          5,
          8,
          11,
          8,
          12,
          9,
          14,
          5,
          11,
          13,
          6,
          10,
          11,
          8,
          10,
          6,
          11,
          6,
          9,
          16,
          8,
          10,
          9,
          5,
          10,
          11,
          9,
          15,
          8,
          19,
          16,
          18,
          14,
          9,
          13,
          8,
          13,
          12,
          5,
          7,
          14,
          17,
          8,
          9,
          15,
          10,
          9,
          7,
          12,
          14,
          16,
          10,
          11,
          11,
          7,
          9,
          14,
          7,
          9,
          21,
          8,
          3,
          8,
          12,
          7,
          7,
          13,
          10,
          11,
          8,
          7,
          4,
          11,
          10,
          9,
          15,
          10,
          4,
          19,
          10,
          12,
          11,
          7,
          11,
          13,
          6,
          10,
          4,
          14,
          5,
          13,
          13,
          13,
          9,
          9,
          7,
          10,
          11,
          8,
          18,
          12,
          11,
          6,
          6,
          13,
          8,
          7,
          14,
          8,
          8,
          11,
          5,
          8,
          12,
          14,
          19,
          15,
          10,
          17,
          12,
          13,
          12,
          11,
          10,
          12,
          9,
          9,
          12,
          10,
          5,
          13,
          13,
          14,
          8,
          12,
          12,
          12,
          7,
          9,
          11,
          7,
          8,
          9,
          12,
          8,
          11,
          9,
          10,
          8,
          11,
          8,
          8,
          7,
          6,
          7,
          11,
          20,
          11,
          10,
          15,
          18,
          6,
          8,
          6,
          11,
          7,
          8,
          6,
          11,
          5,
          11,
          10,
          15,
          8,
          7,
          8,
          9,
          11,
          11,
          12,
          6,
          6,
          8,
          5,
          14,
          11,
          17,
          8,
          10,
          15,
          9,
          14,
          11,
          9,
          10,
          11,
          6,
          7,
          17,
          13,
          15,
          9,
          10,
          12,
          7,
          9,
          10,
          8,
          6,
          11,
          14,
          11,
          12,
          12,
          12,
          7,
          8,
          10,
          12,
          11,
          7,
          12,
          8,
          10,
          8,
          15,
          10,
          12,
          9,
          12,
          6,
          8,
          10,
          8,
          11,
          8,
          5,
          13,
          16,
          9,
          11,
          11,
          11,
          5,
          10,
          6,
          9,
          6,
          11,
          12,
          11,
          13,
          10,
          11,
          11,
          6,
          8,
          8,
          13,
          9,
          10,
          11,
          8,
          8,
          15,
          7,
          5,
          11,
          9,
          12,
          12,
          11,
          10,
          10,
          12,
          11,
          9,
          5,
          13,
          11,
          14,
          10,
          11,
          9
         ],
         "xaxis": "x",
         "yaxis": "y"
        }
       ],
       "layout": {
        "barmode": "relative",
        "font": {
         "color": "black"
        },
        "legend": {
         "title": {
          "text": "variable"
         },
         "tracegroupgap": 0
        },
        "margin": {
         "t": 60
        },
        "paper_bgcolor": "white",
        "plot_bgcolor": "white",
        "template": {
         "data": {
          "bar": [
           {
            "error_x": {
             "color": "#2a3f5f"
            },
            "error_y": {
             "color": "#2a3f5f"
            },
            "marker": {
             "line": {
              "color": "#E5ECF6",
              "width": 0.5
             },
             "pattern": {
              "fillmode": "overlay",
              "size": 10,
              "solidity": 0.2
             }
            },
            "type": "bar"
           }
          ],
          "barpolar": [
           {
            "marker": {
             "line": {
              "color": "#E5ECF6",
              "width": 0.5
             },
             "pattern": {
              "fillmode": "overlay",
              "size": 10,
              "solidity": 0.2
             }
            },
            "type": "barpolar"
           }
          ],
          "carpet": [
           {
            "aaxis": {
             "endlinecolor": "#2a3f5f",
             "gridcolor": "white",
             "linecolor": "white",
             "minorgridcolor": "white",
             "startlinecolor": "#2a3f5f"
            },
            "baxis": {
             "endlinecolor": "#2a3f5f",
             "gridcolor": "white",
             "linecolor": "white",
             "minorgridcolor": "white",
             "startlinecolor": "#2a3f5f"
            },
            "type": "carpet"
           }
          ],
          "choropleth": [
           {
            "colorbar": {
             "outlinewidth": 0,
             "ticks": ""
            },
            "type": "choropleth"
           }
          ],
          "contour": [
           {
            "colorbar": {
             "outlinewidth": 0,
             "ticks": ""
            },
            "colorscale": [
             [
              0,
              "#0d0887"
             ],
             [
              0.1111111111111111,
              "#46039f"
             ],
             [
              0.2222222222222222,
              "#7201a8"
             ],
             [
              0.3333333333333333,
              "#9c179e"
             ],
             [
              0.4444444444444444,
              "#bd3786"
             ],
             [
              0.5555555555555556,
              "#d8576b"
             ],
             [
              0.6666666666666666,
              "#ed7953"
             ],
             [
              0.7777777777777778,
              "#fb9f3a"
             ],
             [
              0.8888888888888888,
              "#fdca26"
             ],
             [
              1,
              "#f0f921"
             ]
            ],
            "type": "contour"
           }
          ],
          "contourcarpet": [
           {
            "colorbar": {
             "outlinewidth": 0,
             "ticks": ""
            },
            "type": "contourcarpet"
           }
          ],
          "heatmap": [
           {
            "colorbar": {
             "outlinewidth": 0,
             "ticks": ""
            },
            "colorscale": [
             [
              0,
              "#0d0887"
             ],
             [
              0.1111111111111111,
              "#46039f"
             ],
             [
              0.2222222222222222,
              "#7201a8"
             ],
             [
              0.3333333333333333,
              "#9c179e"
             ],
             [
              0.4444444444444444,
              "#bd3786"
             ],
             [
              0.5555555555555556,
              "#d8576b"
             ],
             [
              0.6666666666666666,
              "#ed7953"
             ],
             [
              0.7777777777777778,
              "#fb9f3a"
             ],
             [
              0.8888888888888888,
              "#fdca26"
             ],
             [
              1,
              "#f0f921"
             ]
            ],
            "type": "heatmap"
           }
          ],
          "heatmapgl": [
           {
            "colorbar": {
             "outlinewidth": 0,
             "ticks": ""
            },
            "colorscale": [
             [
              0,
              "#0d0887"
             ],
             [
              0.1111111111111111,
              "#46039f"
             ],
             [
              0.2222222222222222,
              "#7201a8"
             ],
             [
              0.3333333333333333,
              "#9c179e"
             ],
             [
              0.4444444444444444,
              "#bd3786"
             ],
             [
              0.5555555555555556,
              "#d8576b"
             ],
             [
              0.6666666666666666,
              "#ed7953"
             ],
             [
              0.7777777777777778,
              "#fb9f3a"
             ],
             [
              0.8888888888888888,
              "#fdca26"
             ],
             [
              1,
              "#f0f921"
             ]
            ],
            "type": "heatmapgl"
           }
          ],
          "histogram": [
           {
            "marker": {
             "pattern": {
              "fillmode": "overlay",
              "size": 10,
              "solidity": 0.2
             }
            },
            "type": "histogram"
           }
          ],
          "histogram2d": [
           {
            "colorbar": {
             "outlinewidth": 0,
             "ticks": ""
            },
            "colorscale": [
             [
              0,
              "#0d0887"
             ],
             [
              0.1111111111111111,
              "#46039f"
             ],
             [
              0.2222222222222222,
              "#7201a8"
             ],
             [
              0.3333333333333333,
              "#9c179e"
             ],
             [
              0.4444444444444444,
              "#bd3786"
             ],
             [
              0.5555555555555556,
              "#d8576b"
             ],
             [
              0.6666666666666666,
              "#ed7953"
             ],
             [
              0.7777777777777778,
              "#fb9f3a"
             ],
             [
              0.8888888888888888,
              "#fdca26"
             ],
             [
              1,
              "#f0f921"
             ]
            ],
            "type": "histogram2d"
           }
          ],
          "histogram2dcontour": [
           {
            "colorbar": {
             "outlinewidth": 0,
             "ticks": ""
            },
            "colorscale": [
             [
              0,
              "#0d0887"
             ],
             [
              0.1111111111111111,
              "#46039f"
             ],
             [
              0.2222222222222222,
              "#7201a8"
             ],
             [
              0.3333333333333333,
              "#9c179e"
             ],
             [
              0.4444444444444444,
              "#bd3786"
             ],
             [
              0.5555555555555556,
              "#d8576b"
             ],
             [
              0.6666666666666666,
              "#ed7953"
             ],
             [
              0.7777777777777778,
              "#fb9f3a"
             ],
             [
              0.8888888888888888,
              "#fdca26"
             ],
             [
              1,
              "#f0f921"
             ]
            ],
            "type": "histogram2dcontour"
           }
          ],
          "mesh3d": [
           {
            "colorbar": {
             "outlinewidth": 0,
             "ticks": ""
            },
            "type": "mesh3d"
           }
          ],
          "parcoords": [
           {
            "line": {
             "colorbar": {
              "outlinewidth": 0,
              "ticks": ""
             }
            },
            "type": "parcoords"
           }
          ],
          "pie": [
           {
            "automargin": true,
            "type": "pie"
           }
          ],
          "scatter": [
           {
            "fillpattern": {
             "fillmode": "overlay",
             "size": 10,
             "solidity": 0.2
            },
            "type": "scatter"
           }
          ],
          "scatter3d": [
           {
            "line": {
             "colorbar": {
              "outlinewidth": 0,
              "ticks": ""
             }
            },
            "marker": {
             "colorbar": {
              "outlinewidth": 0,
              "ticks": ""
             }
            },
            "type": "scatter3d"
           }
          ],
          "scattercarpet": [
           {
            "marker": {
             "colorbar": {
              "outlinewidth": 0,
              "ticks": ""
             }
            },
            "type": "scattercarpet"
           }
          ],
          "scattergeo": [
           {
            "marker": {
             "colorbar": {
              "outlinewidth": 0,
              "ticks": ""
             }
            },
            "type": "scattergeo"
           }
          ],
          "scattergl": [
           {
            "marker": {
             "colorbar": {
              "outlinewidth": 0,
              "ticks": ""
             }
            },
            "type": "scattergl"
           }
          ],
          "scattermapbox": [
           {
            "marker": {
             "colorbar": {
              "outlinewidth": 0,
              "ticks": ""
             }
            },
            "type": "scattermapbox"
           }
          ],
          "scatterpolar": [
           {
            "marker": {
             "colorbar": {
              "outlinewidth": 0,
              "ticks": ""
             }
            },
            "type": "scatterpolar"
           }
          ],
          "scatterpolargl": [
           {
            "marker": {
             "colorbar": {
              "outlinewidth": 0,
              "ticks": ""
             }
            },
            "type": "scatterpolargl"
           }
          ],
          "scatterternary": [
           {
            "marker": {
             "colorbar": {
              "outlinewidth": 0,
              "ticks": ""
             }
            },
            "type": "scatterternary"
           }
          ],
          "surface": [
           {
            "colorbar": {
             "outlinewidth": 0,
             "ticks": ""
            },
            "colorscale": [
             [
              0,
              "#0d0887"
             ],
             [
              0.1111111111111111,
              "#46039f"
             ],
             [
              0.2222222222222222,
              "#7201a8"
             ],
             [
              0.3333333333333333,
              "#9c179e"
             ],
             [
              0.4444444444444444,
              "#bd3786"
             ],
             [
              0.5555555555555556,
              "#d8576b"
             ],
             [
              0.6666666666666666,
              "#ed7953"
             ],
             [
              0.7777777777777778,
              "#fb9f3a"
             ],
             [
              0.8888888888888888,
              "#fdca26"
             ],
             [
              1,
              "#f0f921"
             ]
            ],
            "type": "surface"
           }
          ],
          "table": [
           {
            "cells": {
             "fill": {
              "color": "#EBF0F8"
             },
             "line": {
              "color": "white"
             }
            },
            "header": {
             "fill": {
              "color": "#C8D4E3"
             },
             "line": {
              "color": "white"
             }
            },
            "type": "table"
           }
          ]
         },
         "layout": {
          "annotationdefaults": {
           "arrowcolor": "#2a3f5f",
           "arrowhead": 0,
           "arrowwidth": 1
          },
          "autotypenumbers": "strict",
          "coloraxis": {
           "colorbar": {
            "outlinewidth": 0,
            "ticks": ""
           }
          },
          "colorscale": {
           "diverging": [
            [
             0,
             "#8e0152"
            ],
            [
             0.1,
             "#c51b7d"
            ],
            [
             0.2,
             "#de77ae"
            ],
            [
             0.3,
             "#f1b6da"
            ],
            [
             0.4,
             "#fde0ef"
            ],
            [
             0.5,
             "#f7f7f7"
            ],
            [
             0.6,
             "#e6f5d0"
            ],
            [
             0.7,
             "#b8e186"
            ],
            [
             0.8,
             "#7fbc41"
            ],
            [
             0.9,
             "#4d9221"
            ],
            [
             1,
             "#276419"
            ]
           ],
           "sequential": [
            [
             0,
             "#0d0887"
            ],
            [
             0.1111111111111111,
             "#46039f"
            ],
            [
             0.2222222222222222,
             "#7201a8"
            ],
            [
             0.3333333333333333,
             "#9c179e"
            ],
            [
             0.4444444444444444,
             "#bd3786"
            ],
            [
             0.5555555555555556,
             "#d8576b"
            ],
            [
             0.6666666666666666,
             "#ed7953"
            ],
            [
             0.7777777777777778,
             "#fb9f3a"
            ],
            [
             0.8888888888888888,
             "#fdca26"
            ],
            [
             1,
             "#f0f921"
            ]
           ],
           "sequentialminus": [
            [
             0,
             "#0d0887"
            ],
            [
             0.1111111111111111,
             "#46039f"
            ],
            [
             0.2222222222222222,
             "#7201a8"
            ],
            [
             0.3333333333333333,
             "#9c179e"
            ],
            [
             0.4444444444444444,
             "#bd3786"
            ],
            [
             0.5555555555555556,
             "#d8576b"
            ],
            [
             0.6666666666666666,
             "#ed7953"
            ],
            [
             0.7777777777777778,
             "#fb9f3a"
            ],
            [
             0.8888888888888888,
             "#fdca26"
            ],
            [
             1,
             "#f0f921"
            ]
           ]
          },
          "colorway": [
           "#636efa",
           "#EF553B",
           "#00cc96",
           "#ab63fa",
           "#FFA15A",
           "#19d3f3",
           "#FF6692",
           "#B6E880",
           "#FF97FF",
           "#FECB52"
          ],
          "font": {
           "color": "#2a3f5f"
          },
          "geo": {
           "bgcolor": "white",
           "lakecolor": "white",
           "landcolor": "#E5ECF6",
           "showlakes": true,
           "showland": true,
           "subunitcolor": "white"
          },
          "hoverlabel": {
           "align": "left"
          },
          "hovermode": "closest",
          "mapbox": {
           "style": "light"
          },
          "paper_bgcolor": "white",
          "plot_bgcolor": "#E5ECF6",
          "polar": {
           "angularaxis": {
            "gridcolor": "white",
            "linecolor": "white",
            "ticks": ""
           },
           "bgcolor": "#E5ECF6",
           "radialaxis": {
            "gridcolor": "white",
            "linecolor": "white",
            "ticks": ""
           }
          },
          "scene": {
           "xaxis": {
            "backgroundcolor": "#E5ECF6",
            "gridcolor": "white",
            "gridwidth": 2,
            "linecolor": "white",
            "showbackground": true,
            "ticks": "",
            "zerolinecolor": "white"
           },
           "yaxis": {
            "backgroundcolor": "#E5ECF6",
            "gridcolor": "white",
            "gridwidth": 2,
            "linecolor": "white",
            "showbackground": true,
            "ticks": "",
            "zerolinecolor": "white"
           },
           "zaxis": {
            "backgroundcolor": "#E5ECF6",
            "gridcolor": "white",
            "gridwidth": 2,
            "linecolor": "white",
            "showbackground": true,
            "ticks": "",
            "zerolinecolor": "white"
           }
          },
          "shapedefaults": {
           "line": {
            "color": "#2a3f5f"
           }
          },
          "ternary": {
           "aaxis": {
            "gridcolor": "white",
            "linecolor": "white",
            "ticks": ""
           },
           "baxis": {
            "gridcolor": "white",
            "linecolor": "white",
            "ticks": ""
           },
           "bgcolor": "#E5ECF6",
           "caxis": {
            "gridcolor": "white",
            "linecolor": "white",
            "ticks": ""
           }
          },
          "title": {
           "x": 0.05
          },
          "xaxis": {
           "automargin": true,
           "gridcolor": "white",
           "linecolor": "white",
           "ticks": "",
           "title": {
            "standoff": 15
           },
           "zerolinecolor": "white",
           "zerolinewidth": 2
          },
          "yaxis": {
           "automargin": true,
           "gridcolor": "white",
           "linecolor": "white",
           "ticks": "",
           "title": {
            "standoff": 15
           },
           "zerolinecolor": "white",
           "zerolinewidth": 2
          }
         }
        },
        "title": {
         "text": "N bid empirical distribution, constant strategy",
         "x": 0.5
        },
        "xaxis": {
         "anchor": "y",
         "color": "black",
         "domain": [
          0,
          1
         ],
         "gridcolor": "black",
         "tickcolor": "black",
         "title": {
          "text": "Value"
         }
        },
        "yaxis": {
         "anchor": "x",
         "color": "black",
         "domain": [
          0,
          1
         ],
         "gridcolor": "black",
         "tickcolor": "black",
         "title": {
          "text": "Number of occurances"
         }
        }
       }
      }
     },
     "metadata": {},
     "output_type": "display_data"
    }
   ],
   "source": [
    "fig = px.histogram(arr_res_or_b_womo, nbins=75)\n",
    "\n",
    "fig.update_layout(\n",
    "    title_text=\"N bid empirical distribution, constant strategy\",\n",
    "    title_x=0.5,\n",
    "    plot_bgcolor='white',  # set background color to white\n",
    "    paper_bgcolor='white',  # set background color to white\n",
    "    font=dict(color='black'),  # set font color to black\n",
    "    xaxis=dict(title_text=\"Value\", color='black', tickcolor='black', gridcolor='black'),  # set x-axis color, tick color, grid color, and grid width\n",
    "    yaxis=dict(title_text=\"Number of occurances\", color='black', tickcolor='black', gridcolor='black'),  # set y-axis color, tick color, grid color, and grid width\n",
    ")"
   ]
  },
  {
   "cell_type": "code",
   "execution_count": 533,
   "metadata": {},
   "outputs": [
    {
     "data": {
      "application/vnd.plotly.v1+json": {
       "config": {
        "plotlyServerURL": "https://plot.ly"
       },
       "data": [
        {
         "alignmentgroup": "True",
         "bingroup": "x",
         "hovertemplate": "variable=0<br>value=%{x}<br>count=%{y}<extra></extra>",
         "legendgroup": "0",
         "marker": {
          "color": "#636efa",
          "pattern": {
           "shape": ""
          }
         },
         "name": "0",
         "nbinsx": 75,
         "offsetgroup": "0",
         "orientation": "v",
         "showlegend": true,
         "type": "histogram",
         "x": [
          9,
          7,
          10,
          8,
          3,
          7,
          15,
          11,
          8,
          8,
          9,
          8,
          13,
          18,
          14,
          11,
          11,
          14,
          9,
          11,
          17,
          7,
          12,
          12,
          9,
          13,
          8,
          16,
          9,
          5,
          6,
          8,
          16,
          13,
          5,
          11,
          11,
          11,
          12,
          16,
          11,
          15,
          10,
          13,
          10,
          13,
          14,
          10,
          13,
          7,
          6,
          11,
          10,
          9,
          9,
          16,
          15,
          9,
          7,
          8,
          9,
          17,
          11,
          15,
          17,
          8,
          14,
          7,
          9,
          7,
          10,
          10,
          10,
          9,
          17,
          16,
          13,
          10,
          10,
          9,
          15,
          9,
          13,
          12,
          9,
          9,
          12,
          13,
          11,
          11,
          9,
          11,
          7,
          11,
          10,
          13,
          12,
          14,
          7,
          13,
          10,
          16,
          15,
          13,
          5,
          5,
          9,
          8,
          7,
          10,
          7,
          8,
          5,
          14,
          6,
          8,
          11,
          9,
          5,
          8,
          9,
          12,
          8,
          16,
          10,
          6,
          5,
          14,
          13,
          14,
          7,
          4,
          16,
          6,
          9,
          13,
          9,
          13,
          6,
          10,
          12,
          7,
          10,
          9,
          15,
          17,
          9,
          11,
          3,
          10,
          11,
          9,
          10,
          12,
          6,
          14,
          14,
          8,
          15,
          6,
          6,
          18,
          13,
          11,
          9,
          7,
          10,
          13,
          8,
          11,
          15,
          11,
          10,
          7,
          11,
          5,
          9,
          15,
          8,
          16,
          6,
          13,
          8,
          18,
          13,
          7,
          12,
          11,
          13,
          13,
          10,
          12,
          10,
          8,
          6,
          8,
          13,
          9,
          9,
          8,
          8,
          7,
          10,
          10,
          18,
          12,
          8,
          12,
          17,
          7,
          9,
          11,
          15,
          5,
          11,
          7,
          8,
          8,
          5,
          7,
          12,
          6,
          11,
          9,
          10,
          7,
          8,
          15,
          16,
          6,
          9,
          10,
          9,
          8,
          10,
          6,
          15,
          7,
          11,
          8,
          8,
          13,
          11,
          16,
          10,
          10,
          13,
          4,
          9,
          10,
          13,
          9,
          14,
          10,
          9,
          11,
          14,
          6,
          12,
          6,
          16,
          12,
          11,
          15,
          9,
          12,
          14,
          9,
          13,
          8,
          16,
          15,
          10,
          5,
          8,
          10,
          12,
          10,
          7,
          14,
          5,
          14,
          6,
          7,
          8,
          10,
          13,
          13,
          4,
          9,
          12,
          11,
          10,
          7,
          8,
          15,
          10,
          15,
          11,
          11,
          13,
          14,
          10,
          7,
          12,
          12,
          12,
          10,
          8,
          7,
          13,
          10,
          11,
          8,
          6,
          16,
          5,
          10,
          10,
          10,
          11,
          14,
          14,
          7,
          14,
          8,
          8,
          7,
          7,
          10,
          10,
          7,
          8,
          10,
          8,
          5,
          15,
          9,
          7,
          10,
          12,
          9,
          9,
          13,
          13,
          8,
          12,
          4,
          4,
          12,
          8,
          5,
          9,
          13,
          14,
          13,
          10,
          9,
          18,
          16,
          10,
          9,
          6,
          10,
          10,
          8,
          12,
          12,
          10,
          13,
          13,
          11,
          9,
          11,
          9,
          4,
          7,
          11,
          5,
          11,
          7,
          13,
          16,
          15,
          8,
          4,
          16,
          10,
          12,
          9,
          18,
          8,
          14,
          15,
          10,
          11,
          7,
          10,
          10,
          9,
          6,
          11,
          16,
          10,
          10,
          14,
          16,
          6,
          13,
          8,
          11,
          10,
          15,
          5,
          11,
          14,
          14,
          10,
          10,
          8,
          16,
          11,
          11,
          8,
          14,
          9,
          7,
          10,
          10,
          10,
          16,
          8,
          4,
          8,
          8,
          12,
          13,
          9,
          8,
          10,
          12,
          12,
          11,
          13,
          9,
          6,
          8,
          7,
          10,
          12,
          11,
          7,
          12,
          8,
          12,
          13,
          9,
          7,
          11,
          11,
          10,
          12,
          7,
          11,
          7,
          10,
          10,
          10,
          13,
          13,
          13,
          9,
          6,
          7,
          9,
          9,
          10,
          10,
          9,
          8,
          11,
          14,
          7,
          10,
          6,
          13,
          7,
          9,
          10,
          17,
          7,
          13,
          9,
          6,
          10,
          10,
          10,
          14,
          11,
          4,
          9,
          7,
          11,
          4,
          10,
          12,
          8,
          10,
          11,
          5,
          14,
          16,
          15,
          8,
          13,
          14,
          10,
          14,
          12,
          10,
          6,
          12,
          8,
          11,
          11,
          12,
          15,
          8,
          10,
          10,
          15,
          18,
          12,
          8,
          13,
          8,
          9,
          13,
          14,
          7,
          8,
          3,
          8,
          8,
          10,
          10,
          11,
          10,
          9,
          17,
          4,
          10,
          7,
          11,
          9,
          14,
          10,
          8,
          16,
          18,
          15,
          8,
          16,
          10,
          11,
          11,
          12,
          10,
          16,
          7,
          18,
          5,
          16,
          7,
          3,
          11,
          9,
          9,
          17,
          7,
          6,
          8,
          13,
          14,
          11,
          9,
          12,
          10,
          8,
          9,
          3,
          12,
          5,
          12,
          10,
          10,
          8,
          8,
          15,
          9,
          4,
          9,
          10,
          6,
          12,
          11,
          11,
          13,
          14,
          12,
          12,
          6,
          3,
          9,
          18,
          8,
          16,
          9,
          11,
          11,
          10,
          13,
          7,
          15,
          7,
          7,
          12,
          13,
          13,
          15,
          12,
          11,
          20,
          16,
          5,
          6,
          16,
          8,
          15,
          7,
          9,
          4,
          18,
          9,
          5,
          9,
          12,
          12,
          13,
          9,
          5,
          8,
          8,
          7,
          6,
          9,
          10,
          8,
          6,
          10,
          7,
          4,
          12,
          11,
          14,
          10,
          22,
          11,
          9,
          4,
          10,
          18,
          10,
          9,
          12,
          7,
          9,
          14,
          10,
          8,
          8,
          14,
          9,
          7,
          7,
          12,
          7,
          5,
          13,
          9,
          14,
          8,
          18,
          13,
          11,
          11,
          13,
          12,
          15,
          8,
          18,
          7,
          8,
          14,
          18,
          8,
          11,
          8,
          15,
          17,
          11,
          7,
          12,
          15,
          8,
          13,
          6,
          6,
          12,
          7,
          13,
          10,
          9,
          7,
          7,
          10,
          16,
          14,
          11,
          13,
          11,
          7,
          10,
          8,
          7,
          10,
          7,
          7,
          8,
          10,
          14,
          10,
          5,
          19,
          10,
          5,
          14,
          7,
          12,
          11,
          12,
          10,
          11,
          17,
          9,
          8,
          9,
          7,
          10,
          10,
          6,
          7,
          14,
          13,
          12,
          8,
          7,
          6,
          13,
          9,
          9,
          10,
          10,
          6,
          7,
          9,
          11,
          13,
          6,
          11,
          6,
          8,
          9,
          8,
          3,
          8,
          10,
          18,
          17,
          6,
          11,
          10,
          6,
          13,
          8,
          7,
          6,
          17,
          8,
          16,
          9,
          12,
          11,
          13,
          11,
          12,
          11,
          10,
          10,
          11,
          14,
          15,
          9,
          10,
          5,
          9,
          9,
          17,
          11,
          8,
          13,
          14,
          12,
          17,
          11,
          13,
          8,
          8,
          7,
          9,
          13,
          10,
          11,
          14,
          11,
          11,
          5,
          6,
          9,
          8,
          8,
          4,
          10,
          5,
          10,
          11,
          7,
          14,
          15,
          9,
          14,
          8,
          9,
          6,
          12,
          10,
          11,
          15,
          10,
          7,
          10,
          11,
          10,
          5,
          11,
          5,
          15,
          14,
          13,
          14,
          10,
          8,
          8,
          13,
          10,
          11,
          11,
          13,
          12,
          10,
          12,
          11,
          7,
          10,
          5,
          16,
          11,
          7,
          4,
          15,
          8,
          12,
          9,
          14,
          14,
          9,
          9,
          8,
          9,
          11,
          8,
          17,
          10,
          16,
          11,
          9,
          8,
          12,
          4,
          12,
          10,
          8,
          14,
          4,
          10,
          6,
          12,
          10,
          11,
          10,
          7,
          12,
          13,
          9,
          13,
          8,
          8,
          10,
          12,
          8,
          11,
          10,
          6,
          11,
          11,
          9,
          14,
          12,
          7,
          13,
          13,
          17,
          7,
          8,
          9,
          16,
          8,
          6,
          12,
          12,
          8,
          8,
          10,
          16,
          10,
          8,
          8,
          13,
          16,
          10,
          6,
          8,
          6,
          7,
          3,
          10,
          9,
          13,
          13,
          7,
          7,
          14,
          6,
          10,
          6,
          9,
          9,
          18,
          16,
          6,
          6,
          8,
          8,
          16,
          11,
          11,
          8,
          12,
          13,
          11,
          4,
          7,
          8,
          12,
          12,
          15,
          12,
          9,
          7,
          7
         ],
         "xaxis": "x",
         "yaxis": "y"
        }
       ],
       "layout": {
        "barmode": "relative",
        "font": {
         "color": "black"
        },
        "legend": {
         "title": {
          "text": "variable"
         },
         "tracegroupgap": 0
        },
        "margin": {
         "t": 60
        },
        "paper_bgcolor": "white",
        "plot_bgcolor": "white",
        "template": {
         "data": {
          "bar": [
           {
            "error_x": {
             "color": "#2a3f5f"
            },
            "error_y": {
             "color": "#2a3f5f"
            },
            "marker": {
             "line": {
              "color": "#E5ECF6",
              "width": 0.5
             },
             "pattern": {
              "fillmode": "overlay",
              "size": 10,
              "solidity": 0.2
             }
            },
            "type": "bar"
           }
          ],
          "barpolar": [
           {
            "marker": {
             "line": {
              "color": "#E5ECF6",
              "width": 0.5
             },
             "pattern": {
              "fillmode": "overlay",
              "size": 10,
              "solidity": 0.2
             }
            },
            "type": "barpolar"
           }
          ],
          "carpet": [
           {
            "aaxis": {
             "endlinecolor": "#2a3f5f",
             "gridcolor": "white",
             "linecolor": "white",
             "minorgridcolor": "white",
             "startlinecolor": "#2a3f5f"
            },
            "baxis": {
             "endlinecolor": "#2a3f5f",
             "gridcolor": "white",
             "linecolor": "white",
             "minorgridcolor": "white",
             "startlinecolor": "#2a3f5f"
            },
            "type": "carpet"
           }
          ],
          "choropleth": [
           {
            "colorbar": {
             "outlinewidth": 0,
             "ticks": ""
            },
            "type": "choropleth"
           }
          ],
          "contour": [
           {
            "colorbar": {
             "outlinewidth": 0,
             "ticks": ""
            },
            "colorscale": [
             [
              0,
              "#0d0887"
             ],
             [
              0.1111111111111111,
              "#46039f"
             ],
             [
              0.2222222222222222,
              "#7201a8"
             ],
             [
              0.3333333333333333,
              "#9c179e"
             ],
             [
              0.4444444444444444,
              "#bd3786"
             ],
             [
              0.5555555555555556,
              "#d8576b"
             ],
             [
              0.6666666666666666,
              "#ed7953"
             ],
             [
              0.7777777777777778,
              "#fb9f3a"
             ],
             [
              0.8888888888888888,
              "#fdca26"
             ],
             [
              1,
              "#f0f921"
             ]
            ],
            "type": "contour"
           }
          ],
          "contourcarpet": [
           {
            "colorbar": {
             "outlinewidth": 0,
             "ticks": ""
            },
            "type": "contourcarpet"
           }
          ],
          "heatmap": [
           {
            "colorbar": {
             "outlinewidth": 0,
             "ticks": ""
            },
            "colorscale": [
             [
              0,
              "#0d0887"
             ],
             [
              0.1111111111111111,
              "#46039f"
             ],
             [
              0.2222222222222222,
              "#7201a8"
             ],
             [
              0.3333333333333333,
              "#9c179e"
             ],
             [
              0.4444444444444444,
              "#bd3786"
             ],
             [
              0.5555555555555556,
              "#d8576b"
             ],
             [
              0.6666666666666666,
              "#ed7953"
             ],
             [
              0.7777777777777778,
              "#fb9f3a"
             ],
             [
              0.8888888888888888,
              "#fdca26"
             ],
             [
              1,
              "#f0f921"
             ]
            ],
            "type": "heatmap"
           }
          ],
          "heatmapgl": [
           {
            "colorbar": {
             "outlinewidth": 0,
             "ticks": ""
            },
            "colorscale": [
             [
              0,
              "#0d0887"
             ],
             [
              0.1111111111111111,
              "#46039f"
             ],
             [
              0.2222222222222222,
              "#7201a8"
             ],
             [
              0.3333333333333333,
              "#9c179e"
             ],
             [
              0.4444444444444444,
              "#bd3786"
             ],
             [
              0.5555555555555556,
              "#d8576b"
             ],
             [
              0.6666666666666666,
              "#ed7953"
             ],
             [
              0.7777777777777778,
              "#fb9f3a"
             ],
             [
              0.8888888888888888,
              "#fdca26"
             ],
             [
              1,
              "#f0f921"
             ]
            ],
            "type": "heatmapgl"
           }
          ],
          "histogram": [
           {
            "marker": {
             "pattern": {
              "fillmode": "overlay",
              "size": 10,
              "solidity": 0.2
             }
            },
            "type": "histogram"
           }
          ],
          "histogram2d": [
           {
            "colorbar": {
             "outlinewidth": 0,
             "ticks": ""
            },
            "colorscale": [
             [
              0,
              "#0d0887"
             ],
             [
              0.1111111111111111,
              "#46039f"
             ],
             [
              0.2222222222222222,
              "#7201a8"
             ],
             [
              0.3333333333333333,
              "#9c179e"
             ],
             [
              0.4444444444444444,
              "#bd3786"
             ],
             [
              0.5555555555555556,
              "#d8576b"
             ],
             [
              0.6666666666666666,
              "#ed7953"
             ],
             [
              0.7777777777777778,
              "#fb9f3a"
             ],
             [
              0.8888888888888888,
              "#fdca26"
             ],
             [
              1,
              "#f0f921"
             ]
            ],
            "type": "histogram2d"
           }
          ],
          "histogram2dcontour": [
           {
            "colorbar": {
             "outlinewidth": 0,
             "ticks": ""
            },
            "colorscale": [
             [
              0,
              "#0d0887"
             ],
             [
              0.1111111111111111,
              "#46039f"
             ],
             [
              0.2222222222222222,
              "#7201a8"
             ],
             [
              0.3333333333333333,
              "#9c179e"
             ],
             [
              0.4444444444444444,
              "#bd3786"
             ],
             [
              0.5555555555555556,
              "#d8576b"
             ],
             [
              0.6666666666666666,
              "#ed7953"
             ],
             [
              0.7777777777777778,
              "#fb9f3a"
             ],
             [
              0.8888888888888888,
              "#fdca26"
             ],
             [
              1,
              "#f0f921"
             ]
            ],
            "type": "histogram2dcontour"
           }
          ],
          "mesh3d": [
           {
            "colorbar": {
             "outlinewidth": 0,
             "ticks": ""
            },
            "type": "mesh3d"
           }
          ],
          "parcoords": [
           {
            "line": {
             "colorbar": {
              "outlinewidth": 0,
              "ticks": ""
             }
            },
            "type": "parcoords"
           }
          ],
          "pie": [
           {
            "automargin": true,
            "type": "pie"
           }
          ],
          "scatter": [
           {
            "fillpattern": {
             "fillmode": "overlay",
             "size": 10,
             "solidity": 0.2
            },
            "type": "scatter"
           }
          ],
          "scatter3d": [
           {
            "line": {
             "colorbar": {
              "outlinewidth": 0,
              "ticks": ""
             }
            },
            "marker": {
             "colorbar": {
              "outlinewidth": 0,
              "ticks": ""
             }
            },
            "type": "scatter3d"
           }
          ],
          "scattercarpet": [
           {
            "marker": {
             "colorbar": {
              "outlinewidth": 0,
              "ticks": ""
             }
            },
            "type": "scattercarpet"
           }
          ],
          "scattergeo": [
           {
            "marker": {
             "colorbar": {
              "outlinewidth": 0,
              "ticks": ""
             }
            },
            "type": "scattergeo"
           }
          ],
          "scattergl": [
           {
            "marker": {
             "colorbar": {
              "outlinewidth": 0,
              "ticks": ""
             }
            },
            "type": "scattergl"
           }
          ],
          "scattermapbox": [
           {
            "marker": {
             "colorbar": {
              "outlinewidth": 0,
              "ticks": ""
             }
            },
            "type": "scattermapbox"
           }
          ],
          "scatterpolar": [
           {
            "marker": {
             "colorbar": {
              "outlinewidth": 0,
              "ticks": ""
             }
            },
            "type": "scatterpolar"
           }
          ],
          "scatterpolargl": [
           {
            "marker": {
             "colorbar": {
              "outlinewidth": 0,
              "ticks": ""
             }
            },
            "type": "scatterpolargl"
           }
          ],
          "scatterternary": [
           {
            "marker": {
             "colorbar": {
              "outlinewidth": 0,
              "ticks": ""
             }
            },
            "type": "scatterternary"
           }
          ],
          "surface": [
           {
            "colorbar": {
             "outlinewidth": 0,
             "ticks": ""
            },
            "colorscale": [
             [
              0,
              "#0d0887"
             ],
             [
              0.1111111111111111,
              "#46039f"
             ],
             [
              0.2222222222222222,
              "#7201a8"
             ],
             [
              0.3333333333333333,
              "#9c179e"
             ],
             [
              0.4444444444444444,
              "#bd3786"
             ],
             [
              0.5555555555555556,
              "#d8576b"
             ],
             [
              0.6666666666666666,
              "#ed7953"
             ],
             [
              0.7777777777777778,
              "#fb9f3a"
             ],
             [
              0.8888888888888888,
              "#fdca26"
             ],
             [
              1,
              "#f0f921"
             ]
            ],
            "type": "surface"
           }
          ],
          "table": [
           {
            "cells": {
             "fill": {
              "color": "#EBF0F8"
             },
             "line": {
              "color": "white"
             }
            },
            "header": {
             "fill": {
              "color": "#C8D4E3"
             },
             "line": {
              "color": "white"
             }
            },
            "type": "table"
           }
          ]
         },
         "layout": {
          "annotationdefaults": {
           "arrowcolor": "#2a3f5f",
           "arrowhead": 0,
           "arrowwidth": 1
          },
          "autotypenumbers": "strict",
          "coloraxis": {
           "colorbar": {
            "outlinewidth": 0,
            "ticks": ""
           }
          },
          "colorscale": {
           "diverging": [
            [
             0,
             "#8e0152"
            ],
            [
             0.1,
             "#c51b7d"
            ],
            [
             0.2,
             "#de77ae"
            ],
            [
             0.3,
             "#f1b6da"
            ],
            [
             0.4,
             "#fde0ef"
            ],
            [
             0.5,
             "#f7f7f7"
            ],
            [
             0.6,
             "#e6f5d0"
            ],
            [
             0.7,
             "#b8e186"
            ],
            [
             0.8,
             "#7fbc41"
            ],
            [
             0.9,
             "#4d9221"
            ],
            [
             1,
             "#276419"
            ]
           ],
           "sequential": [
            [
             0,
             "#0d0887"
            ],
            [
             0.1111111111111111,
             "#46039f"
            ],
            [
             0.2222222222222222,
             "#7201a8"
            ],
            [
             0.3333333333333333,
             "#9c179e"
            ],
            [
             0.4444444444444444,
             "#bd3786"
            ],
            [
             0.5555555555555556,
             "#d8576b"
            ],
            [
             0.6666666666666666,
             "#ed7953"
            ],
            [
             0.7777777777777778,
             "#fb9f3a"
            ],
            [
             0.8888888888888888,
             "#fdca26"
            ],
            [
             1,
             "#f0f921"
            ]
           ],
           "sequentialminus": [
            [
             0,
             "#0d0887"
            ],
            [
             0.1111111111111111,
             "#46039f"
            ],
            [
             0.2222222222222222,
             "#7201a8"
            ],
            [
             0.3333333333333333,
             "#9c179e"
            ],
            [
             0.4444444444444444,
             "#bd3786"
            ],
            [
             0.5555555555555556,
             "#d8576b"
            ],
            [
             0.6666666666666666,
             "#ed7953"
            ],
            [
             0.7777777777777778,
             "#fb9f3a"
            ],
            [
             0.8888888888888888,
             "#fdca26"
            ],
            [
             1,
             "#f0f921"
            ]
           ]
          },
          "colorway": [
           "#636efa",
           "#EF553B",
           "#00cc96",
           "#ab63fa",
           "#FFA15A",
           "#19d3f3",
           "#FF6692",
           "#B6E880",
           "#FF97FF",
           "#FECB52"
          ],
          "font": {
           "color": "#2a3f5f"
          },
          "geo": {
           "bgcolor": "white",
           "lakecolor": "white",
           "landcolor": "#E5ECF6",
           "showlakes": true,
           "showland": true,
           "subunitcolor": "white"
          },
          "hoverlabel": {
           "align": "left"
          },
          "hovermode": "closest",
          "mapbox": {
           "style": "light"
          },
          "paper_bgcolor": "white",
          "plot_bgcolor": "#E5ECF6",
          "polar": {
           "angularaxis": {
            "gridcolor": "white",
            "linecolor": "white",
            "ticks": ""
           },
           "bgcolor": "#E5ECF6",
           "radialaxis": {
            "gridcolor": "white",
            "linecolor": "white",
            "ticks": ""
           }
          },
          "scene": {
           "xaxis": {
            "backgroundcolor": "#E5ECF6",
            "gridcolor": "white",
            "gridwidth": 2,
            "linecolor": "white",
            "showbackground": true,
            "ticks": "",
            "zerolinecolor": "white"
           },
           "yaxis": {
            "backgroundcolor": "#E5ECF6",
            "gridcolor": "white",
            "gridwidth": 2,
            "linecolor": "white",
            "showbackground": true,
            "ticks": "",
            "zerolinecolor": "white"
           },
           "zaxis": {
            "backgroundcolor": "#E5ECF6",
            "gridcolor": "white",
            "gridwidth": 2,
            "linecolor": "white",
            "showbackground": true,
            "ticks": "",
            "zerolinecolor": "white"
           }
          },
          "shapedefaults": {
           "line": {
            "color": "#2a3f5f"
           }
          },
          "ternary": {
           "aaxis": {
            "gridcolor": "white",
            "linecolor": "white",
            "ticks": ""
           },
           "baxis": {
            "gridcolor": "white",
            "linecolor": "white",
            "ticks": ""
           },
           "bgcolor": "#E5ECF6",
           "caxis": {
            "gridcolor": "white",
            "linecolor": "white",
            "ticks": ""
           }
          },
          "title": {
           "x": 0.05
          },
          "xaxis": {
           "automargin": true,
           "gridcolor": "white",
           "linecolor": "white",
           "ticks": "",
           "title": {
            "standoff": 15
           },
           "zerolinecolor": "white",
           "zerolinewidth": 2
          },
          "yaxis": {
           "automargin": true,
           "gridcolor": "white",
           "linecolor": "white",
           "ticks": "",
           "title": {
            "standoff": 15
           },
           "zerolinecolor": "white",
           "zerolinewidth": 2
          }
         }
        },
        "title": {
         "text": "N ask empirical distribution, constant strategy",
         "x": 0.5
        },
        "xaxis": {
         "anchor": "y",
         "color": "black",
         "domain": [
          0,
          1
         ],
         "gridcolor": "black",
         "tickcolor": "black",
         "title": {
          "text": "Value"
         }
        },
        "yaxis": {
         "anchor": "x",
         "color": "black",
         "domain": [
          0,
          1
         ],
         "gridcolor": "black",
         "tickcolor": "black",
         "title": {
          "text": "Number of occurances"
         }
        }
       }
      }
     },
     "metadata": {},
     "output_type": "display_data"
    }
   ],
   "source": [
    "fig = px.histogram(arr_res_or_a_womo, nbins=75)\n",
    "\n",
    "fig.update_layout(\n",
    "    title_text=\"N ask empirical distribution, constant strategy\",\n",
    "    title_x=0.5,\n",
    "    plot_bgcolor='white',  # set background color to white\n",
    "    paper_bgcolor='white',  # set background color to white\n",
    "    font=dict(color='black'),  # set font color to black\n",
    "    xaxis=dict(title_text=\"Value\", color='black', tickcolor='black', gridcolor='black'),  # set x-axis color, tick color, grid color, and grid width\n",
    "    yaxis=dict(title_text=\"Number of occurances\", color='black', tickcolor='black', gridcolor='black'),  # set y-axis color, tick color, grid color, and grid width\n",
    ")"
   ]
  },
  {
   "cell_type": "code",
   "execution_count": 534,
   "metadata": {},
   "outputs": [
    {
     "data": {
      "application/vnd.plotly.v1+json": {
       "config": {
        "plotlyServerURL": "https://plot.ly"
       },
       "data": [
        {
         "alignmentgroup": "True",
         "bingroup": "x",
         "hovertemplate": "variable=0<br>value=%{x}<br>count=%{y}<extra></extra>",
         "legendgroup": "0",
         "marker": {
          "color": "#636efa",
          "pattern": {
           "shape": ""
          }
         },
         "name": "0",
         "nbinsx": 75,
         "offsetgroup": "0",
         "orientation": "v",
         "showlegend": true,
         "type": "histogram",
         "x": [
          11,
          12,
          17,
          10,
          9,
          4,
          7,
          16,
          9,
          7,
          9,
          13,
          10,
          8,
          11,
          10,
          13,
          13,
          7,
          12,
          13,
          13,
          10,
          9,
          18,
          11,
          5,
          16,
          12,
          7,
          7,
          16,
          5,
          15,
          14,
          5,
          13,
          13,
          10,
          11,
          8,
          13,
          15,
          10,
          7,
          15,
          7,
          9,
          4,
          7,
          9,
          7,
          12,
          10,
          8,
          9,
          10,
          12,
          7,
          9,
          7,
          7,
          11,
          8,
          15,
          9,
          5,
          11,
          8,
          5,
          15,
          12,
          5,
          10,
          16,
          10,
          6,
          11,
          10,
          8,
          17,
          14,
          6,
          16,
          14,
          13,
          6,
          8,
          11,
          6,
          6,
          15,
          12,
          11,
          12,
          9,
          14,
          11,
          10,
          5,
          14,
          14,
          10,
          7,
          12,
          12,
          6,
          14,
          11,
          11,
          9,
          13,
          13,
          15,
          8,
          10,
          12,
          10,
          7,
          9,
          6,
          7,
          13,
          7,
          10,
          13,
          16,
          8,
          15,
          13,
          8,
          9,
          16,
          12,
          11,
          17,
          4,
          6,
          13,
          9,
          5,
          17,
          9,
          10,
          11,
          14,
          5,
          7,
          10,
          10,
          9,
          14,
          10,
          8,
          15,
          4,
          11,
          12,
          15,
          13,
          12,
          13,
          6,
          8,
          12,
          7,
          14,
          14,
          5,
          14,
          11,
          12,
          10,
          3,
          13,
          12,
          10,
          11,
          13,
          11,
          13,
          14,
          9,
          8,
          11,
          12,
          12,
          11,
          8,
          13,
          11,
          13,
          14,
          7,
          13,
          13,
          10,
          11,
          12,
          10,
          11,
          9,
          16,
          15,
          10,
          9,
          9,
          7,
          9,
          9,
          13,
          6,
          11,
          14,
          11,
          10,
          15,
          11,
          9,
          7,
          16,
          9,
          9,
          12,
          13,
          7,
          10,
          10,
          11,
          8,
          11,
          7,
          6,
          10,
          9,
          12,
          11,
          7,
          17,
          6,
          9,
          8,
          9,
          10,
          6,
          9,
          6,
          14,
          9,
          11,
          10,
          11,
          14,
          8,
          7,
          8,
          10,
          7,
          5,
          13,
          18,
          6,
          11,
          7,
          9,
          15,
          12,
          10,
          6,
          16,
          13,
          7,
          10,
          5,
          14,
          9,
          9,
          9,
          10,
          7,
          9,
          7,
          7,
          13,
          11,
          5,
          8,
          9,
          7,
          13,
          9,
          13,
          10,
          13,
          6,
          10,
          8,
          10,
          13,
          14,
          13,
          11,
          11,
          10,
          8,
          11,
          11,
          5,
          9,
          11,
          7,
          8,
          5,
          15,
          6,
          8,
          9,
          10,
          6,
          9,
          8,
          14,
          7,
          16,
          11,
          13,
          10,
          10,
          10,
          5,
          13,
          9,
          11,
          13,
          4,
          8,
          5,
          15,
          8,
          17,
          6,
          14,
          15,
          11,
          15,
          9,
          6,
          8,
          10,
          9,
          5,
          9,
          7,
          11,
          14,
          8,
          11,
          16,
          7,
          16,
          6,
          6,
          5,
          6,
          14,
          13,
          11,
          14,
          10,
          9,
          10,
          6,
          7,
          12,
          6,
          9,
          14,
          6,
          7,
          9,
          13,
          10,
          14,
          15,
          13,
          11,
          11,
          10,
          9,
          11,
          12,
          20,
          12,
          10,
          13,
          10,
          9,
          6,
          13,
          13,
          10,
          13,
          12,
          9,
          14,
          13,
          12,
          16,
          8,
          13,
          13,
          10,
          7,
          7,
          7,
          11,
          5,
          10,
          5,
          7,
          10,
          11,
          10,
          6,
          17,
          11,
          7,
          8,
          8,
          8,
          15,
          18,
          12,
          7,
          5,
          7,
          10,
          10,
          7,
          9,
          11,
          9,
          8,
          12,
          12,
          9,
          8,
          11,
          7,
          10,
          16,
          9,
          10,
          14,
          8,
          10,
          10,
          12,
          9,
          13,
          11,
          10,
          11,
          7,
          16,
          11,
          10,
          14,
          12,
          7,
          6,
          9,
          11,
          12,
          17,
          10,
          9,
          10,
          5,
          8,
          10,
          10,
          9,
          11,
          7,
          14,
          5,
          4,
          11,
          12,
          7,
          6,
          6,
          9,
          11,
          10,
          6,
          8,
          5,
          4,
          6,
          11,
          13,
          15,
          15,
          7,
          9,
          12,
          9,
          14,
          7,
          11,
          10,
          13,
          2,
          12,
          12,
          15,
          10,
          9,
          10,
          21,
          15,
          11,
          9,
          12,
          13,
          11,
          9,
          6,
          8,
          4,
          13,
          6,
          6,
          13,
          9,
          8,
          12,
          9,
          9,
          5,
          12,
          8,
          10,
          9,
          5,
          9,
          13,
          10,
          14,
          15,
          5,
          13,
          12,
          10,
          8,
          9,
          13,
          10,
          12,
          8,
          8,
          9,
          9,
          15,
          7,
          10,
          8,
          10,
          10,
          7,
          9,
          13,
          14,
          9,
          6,
          15,
          11,
          5,
          9,
          9,
          13,
          6,
          8,
          14,
          10,
          11,
          14,
          9,
          11,
          12,
          10,
          9,
          15,
          14,
          18,
          14,
          19,
          8,
          7,
          13,
          12,
          15,
          11,
          8,
          9,
          7,
          5,
          7,
          8,
          10,
          7,
          11,
          12,
          12,
          11,
          12,
          13,
          11,
          7,
          13,
          13,
          12,
          16,
          17,
          9,
          14,
          1,
          12,
          11,
          14,
          8,
          10,
          13,
          7,
          8,
          18,
          7,
          12,
          2,
          13,
          10,
          7,
          15,
          9,
          9,
          10,
          7,
          15,
          15,
          7,
          13,
          10,
          14,
          12,
          10,
          14,
          10,
          11,
          9,
          5,
          5,
          13,
          8,
          11,
          10,
          9,
          11,
          11,
          6,
          16,
          6,
          10,
          8,
          6,
          9,
          18,
          10,
          12,
          11,
          9,
          16,
          7,
          10,
          11,
          14,
          12,
          9,
          10,
          13,
          7,
          11,
          13,
          6,
          16,
          7,
          15,
          10,
          9,
          9,
          7,
          11,
          8,
          8,
          14,
          15,
          13,
          16,
          13,
          15,
          13,
          11,
          11,
          13,
          12,
          5,
          8,
          11,
          8,
          12,
          9,
          14,
          5,
          11,
          13,
          6,
          10,
          11,
          8,
          10,
          6,
          11,
          6,
          9,
          16,
          8,
          10,
          9,
          5,
          10,
          11,
          9,
          15,
          8,
          19,
          16,
          18,
          14,
          9,
          13,
          8,
          13,
          12,
          5,
          7,
          14,
          17,
          8,
          9,
          15,
          10,
          9,
          7,
          12,
          14,
          16,
          10,
          11,
          11,
          7,
          9,
          14,
          7,
          9,
          21,
          8,
          3,
          8,
          12,
          7,
          7,
          13,
          10,
          11,
          8,
          7,
          4,
          11,
          10,
          9,
          15,
          10,
          4,
          19,
          10,
          12,
          11,
          7,
          11,
          13,
          6,
          10,
          4,
          14,
          5,
          13,
          13,
          13,
          9,
          9,
          7,
          10,
          11,
          8,
          18,
          12,
          11,
          6,
          6,
          13,
          8,
          7,
          14,
          8,
          8,
          11,
          5,
          8,
          12,
          14,
          19,
          15,
          10,
          17,
          12,
          13,
          12,
          11,
          10,
          12,
          9,
          9,
          12,
          10,
          5,
          13,
          13,
          14,
          8,
          12,
          12,
          12,
          7,
          9,
          11,
          7,
          8,
          9,
          12,
          8,
          11,
          9,
          10,
          8,
          11,
          8,
          8,
          7,
          6,
          7,
          11,
          20,
          11,
          10,
          15,
          18,
          6,
          8,
          6,
          11,
          7,
          8,
          6,
          11,
          5,
          11,
          10,
          15,
          8,
          7,
          8,
          9,
          11,
          11,
          12,
          6,
          6,
          8,
          5,
          14,
          11,
          17,
          8,
          10,
          15,
          9,
          14,
          11,
          9,
          10,
          11,
          6,
          7,
          17,
          13,
          15,
          9,
          10,
          12,
          7,
          9,
          10,
          8,
          6,
          11,
          14,
          11,
          12,
          12,
          12,
          7,
          8,
          10,
          12,
          11,
          7,
          12,
          8,
          10,
          8,
          15,
          10,
          12,
          9,
          12,
          6,
          8,
          10,
          8,
          11,
          8,
          5,
          13,
          16,
          9,
          11,
          11,
          11,
          5,
          10,
          6,
          9,
          6,
          11,
          12,
          11,
          13,
          10,
          11,
          11,
          6,
          8,
          8,
          13,
          9,
          10,
          11,
          8,
          8,
          15,
          7,
          5,
          11,
          9,
          12,
          12,
          11,
          10,
          10,
          12,
          11,
          9,
          5,
          13,
          11,
          14,
          10,
          11,
          9
         ],
         "xaxis": "x",
         "yaxis": "y"
        }
       ],
       "layout": {
        "barmode": "relative",
        "font": {
         "color": "black"
        },
        "legend": {
         "title": {
          "text": "variable"
         },
         "tracegroupgap": 0
        },
        "margin": {
         "t": 60
        },
        "paper_bgcolor": "white",
        "plot_bgcolor": "white",
        "template": {
         "data": {
          "bar": [
           {
            "error_x": {
             "color": "#2a3f5f"
            },
            "error_y": {
             "color": "#2a3f5f"
            },
            "marker": {
             "line": {
              "color": "#E5ECF6",
              "width": 0.5
             },
             "pattern": {
              "fillmode": "overlay",
              "size": 10,
              "solidity": 0.2
             }
            },
            "type": "bar"
           }
          ],
          "barpolar": [
           {
            "marker": {
             "line": {
              "color": "#E5ECF6",
              "width": 0.5
             },
             "pattern": {
              "fillmode": "overlay",
              "size": 10,
              "solidity": 0.2
             }
            },
            "type": "barpolar"
           }
          ],
          "carpet": [
           {
            "aaxis": {
             "endlinecolor": "#2a3f5f",
             "gridcolor": "white",
             "linecolor": "white",
             "minorgridcolor": "white",
             "startlinecolor": "#2a3f5f"
            },
            "baxis": {
             "endlinecolor": "#2a3f5f",
             "gridcolor": "white",
             "linecolor": "white",
             "minorgridcolor": "white",
             "startlinecolor": "#2a3f5f"
            },
            "type": "carpet"
           }
          ],
          "choropleth": [
           {
            "colorbar": {
             "outlinewidth": 0,
             "ticks": ""
            },
            "type": "choropleth"
           }
          ],
          "contour": [
           {
            "colorbar": {
             "outlinewidth": 0,
             "ticks": ""
            },
            "colorscale": [
             [
              0,
              "#0d0887"
             ],
             [
              0.1111111111111111,
              "#46039f"
             ],
             [
              0.2222222222222222,
              "#7201a8"
             ],
             [
              0.3333333333333333,
              "#9c179e"
             ],
             [
              0.4444444444444444,
              "#bd3786"
             ],
             [
              0.5555555555555556,
              "#d8576b"
             ],
             [
              0.6666666666666666,
              "#ed7953"
             ],
             [
              0.7777777777777778,
              "#fb9f3a"
             ],
             [
              0.8888888888888888,
              "#fdca26"
             ],
             [
              1,
              "#f0f921"
             ]
            ],
            "type": "contour"
           }
          ],
          "contourcarpet": [
           {
            "colorbar": {
             "outlinewidth": 0,
             "ticks": ""
            },
            "type": "contourcarpet"
           }
          ],
          "heatmap": [
           {
            "colorbar": {
             "outlinewidth": 0,
             "ticks": ""
            },
            "colorscale": [
             [
              0,
              "#0d0887"
             ],
             [
              0.1111111111111111,
              "#46039f"
             ],
             [
              0.2222222222222222,
              "#7201a8"
             ],
             [
              0.3333333333333333,
              "#9c179e"
             ],
             [
              0.4444444444444444,
              "#bd3786"
             ],
             [
              0.5555555555555556,
              "#d8576b"
             ],
             [
              0.6666666666666666,
              "#ed7953"
             ],
             [
              0.7777777777777778,
              "#fb9f3a"
             ],
             [
              0.8888888888888888,
              "#fdca26"
             ],
             [
              1,
              "#f0f921"
             ]
            ],
            "type": "heatmap"
           }
          ],
          "heatmapgl": [
           {
            "colorbar": {
             "outlinewidth": 0,
             "ticks": ""
            },
            "colorscale": [
             [
              0,
              "#0d0887"
             ],
             [
              0.1111111111111111,
              "#46039f"
             ],
             [
              0.2222222222222222,
              "#7201a8"
             ],
             [
              0.3333333333333333,
              "#9c179e"
             ],
             [
              0.4444444444444444,
              "#bd3786"
             ],
             [
              0.5555555555555556,
              "#d8576b"
             ],
             [
              0.6666666666666666,
              "#ed7953"
             ],
             [
              0.7777777777777778,
              "#fb9f3a"
             ],
             [
              0.8888888888888888,
              "#fdca26"
             ],
             [
              1,
              "#f0f921"
             ]
            ],
            "type": "heatmapgl"
           }
          ],
          "histogram": [
           {
            "marker": {
             "pattern": {
              "fillmode": "overlay",
              "size": 10,
              "solidity": 0.2
             }
            },
            "type": "histogram"
           }
          ],
          "histogram2d": [
           {
            "colorbar": {
             "outlinewidth": 0,
             "ticks": ""
            },
            "colorscale": [
             [
              0,
              "#0d0887"
             ],
             [
              0.1111111111111111,
              "#46039f"
             ],
             [
              0.2222222222222222,
              "#7201a8"
             ],
             [
              0.3333333333333333,
              "#9c179e"
             ],
             [
              0.4444444444444444,
              "#bd3786"
             ],
             [
              0.5555555555555556,
              "#d8576b"
             ],
             [
              0.6666666666666666,
              "#ed7953"
             ],
             [
              0.7777777777777778,
              "#fb9f3a"
             ],
             [
              0.8888888888888888,
              "#fdca26"
             ],
             [
              1,
              "#f0f921"
             ]
            ],
            "type": "histogram2d"
           }
          ],
          "histogram2dcontour": [
           {
            "colorbar": {
             "outlinewidth": 0,
             "ticks": ""
            },
            "colorscale": [
             [
              0,
              "#0d0887"
             ],
             [
              0.1111111111111111,
              "#46039f"
             ],
             [
              0.2222222222222222,
              "#7201a8"
             ],
             [
              0.3333333333333333,
              "#9c179e"
             ],
             [
              0.4444444444444444,
              "#bd3786"
             ],
             [
              0.5555555555555556,
              "#d8576b"
             ],
             [
              0.6666666666666666,
              "#ed7953"
             ],
             [
              0.7777777777777778,
              "#fb9f3a"
             ],
             [
              0.8888888888888888,
              "#fdca26"
             ],
             [
              1,
              "#f0f921"
             ]
            ],
            "type": "histogram2dcontour"
           }
          ],
          "mesh3d": [
           {
            "colorbar": {
             "outlinewidth": 0,
             "ticks": ""
            },
            "type": "mesh3d"
           }
          ],
          "parcoords": [
           {
            "line": {
             "colorbar": {
              "outlinewidth": 0,
              "ticks": ""
             }
            },
            "type": "parcoords"
           }
          ],
          "pie": [
           {
            "automargin": true,
            "type": "pie"
           }
          ],
          "scatter": [
           {
            "fillpattern": {
             "fillmode": "overlay",
             "size": 10,
             "solidity": 0.2
            },
            "type": "scatter"
           }
          ],
          "scatter3d": [
           {
            "line": {
             "colorbar": {
              "outlinewidth": 0,
              "ticks": ""
             }
            },
            "marker": {
             "colorbar": {
              "outlinewidth": 0,
              "ticks": ""
             }
            },
            "type": "scatter3d"
           }
          ],
          "scattercarpet": [
           {
            "marker": {
             "colorbar": {
              "outlinewidth": 0,
              "ticks": ""
             }
            },
            "type": "scattercarpet"
           }
          ],
          "scattergeo": [
           {
            "marker": {
             "colorbar": {
              "outlinewidth": 0,
              "ticks": ""
             }
            },
            "type": "scattergeo"
           }
          ],
          "scattergl": [
           {
            "marker": {
             "colorbar": {
              "outlinewidth": 0,
              "ticks": ""
             }
            },
            "type": "scattergl"
           }
          ],
          "scattermapbox": [
           {
            "marker": {
             "colorbar": {
              "outlinewidth": 0,
              "ticks": ""
             }
            },
            "type": "scattermapbox"
           }
          ],
          "scatterpolar": [
           {
            "marker": {
             "colorbar": {
              "outlinewidth": 0,
              "ticks": ""
             }
            },
            "type": "scatterpolar"
           }
          ],
          "scatterpolargl": [
           {
            "marker": {
             "colorbar": {
              "outlinewidth": 0,
              "ticks": ""
             }
            },
            "type": "scatterpolargl"
           }
          ],
          "scatterternary": [
           {
            "marker": {
             "colorbar": {
              "outlinewidth": 0,
              "ticks": ""
             }
            },
            "type": "scatterternary"
           }
          ],
          "surface": [
           {
            "colorbar": {
             "outlinewidth": 0,
             "ticks": ""
            },
            "colorscale": [
             [
              0,
              "#0d0887"
             ],
             [
              0.1111111111111111,
              "#46039f"
             ],
             [
              0.2222222222222222,
              "#7201a8"
             ],
             [
              0.3333333333333333,
              "#9c179e"
             ],
             [
              0.4444444444444444,
              "#bd3786"
             ],
             [
              0.5555555555555556,
              "#d8576b"
             ],
             [
              0.6666666666666666,
              "#ed7953"
             ],
             [
              0.7777777777777778,
              "#fb9f3a"
             ],
             [
              0.8888888888888888,
              "#fdca26"
             ],
             [
              1,
              "#f0f921"
             ]
            ],
            "type": "surface"
           }
          ],
          "table": [
           {
            "cells": {
             "fill": {
              "color": "#EBF0F8"
             },
             "line": {
              "color": "white"
             }
            },
            "header": {
             "fill": {
              "color": "#C8D4E3"
             },
             "line": {
              "color": "white"
             }
            },
            "type": "table"
           }
          ]
         },
         "layout": {
          "annotationdefaults": {
           "arrowcolor": "#2a3f5f",
           "arrowhead": 0,
           "arrowwidth": 1
          },
          "autotypenumbers": "strict",
          "coloraxis": {
           "colorbar": {
            "outlinewidth": 0,
            "ticks": ""
           }
          },
          "colorscale": {
           "diverging": [
            [
             0,
             "#8e0152"
            ],
            [
             0.1,
             "#c51b7d"
            ],
            [
             0.2,
             "#de77ae"
            ],
            [
             0.3,
             "#f1b6da"
            ],
            [
             0.4,
             "#fde0ef"
            ],
            [
             0.5,
             "#f7f7f7"
            ],
            [
             0.6,
             "#e6f5d0"
            ],
            [
             0.7,
             "#b8e186"
            ],
            [
             0.8,
             "#7fbc41"
            ],
            [
             0.9,
             "#4d9221"
            ],
            [
             1,
             "#276419"
            ]
           ],
           "sequential": [
            [
             0,
             "#0d0887"
            ],
            [
             0.1111111111111111,
             "#46039f"
            ],
            [
             0.2222222222222222,
             "#7201a8"
            ],
            [
             0.3333333333333333,
             "#9c179e"
            ],
            [
             0.4444444444444444,
             "#bd3786"
            ],
            [
             0.5555555555555556,
             "#d8576b"
            ],
            [
             0.6666666666666666,
             "#ed7953"
            ],
            [
             0.7777777777777778,
             "#fb9f3a"
            ],
            [
             0.8888888888888888,
             "#fdca26"
            ],
            [
             1,
             "#f0f921"
            ]
           ],
           "sequentialminus": [
            [
             0,
             "#0d0887"
            ],
            [
             0.1111111111111111,
             "#46039f"
            ],
            [
             0.2222222222222222,
             "#7201a8"
            ],
            [
             0.3333333333333333,
             "#9c179e"
            ],
            [
             0.4444444444444444,
             "#bd3786"
            ],
            [
             0.5555555555555556,
             "#d8576b"
            ],
            [
             0.6666666666666666,
             "#ed7953"
            ],
            [
             0.7777777777777778,
             "#fb9f3a"
            ],
            [
             0.8888888888888888,
             "#fdca26"
            ],
            [
             1,
             "#f0f921"
            ]
           ]
          },
          "colorway": [
           "#636efa",
           "#EF553B",
           "#00cc96",
           "#ab63fa",
           "#FFA15A",
           "#19d3f3",
           "#FF6692",
           "#B6E880",
           "#FF97FF",
           "#FECB52"
          ],
          "font": {
           "color": "#2a3f5f"
          },
          "geo": {
           "bgcolor": "white",
           "lakecolor": "white",
           "landcolor": "#E5ECF6",
           "showlakes": true,
           "showland": true,
           "subunitcolor": "white"
          },
          "hoverlabel": {
           "align": "left"
          },
          "hovermode": "closest",
          "mapbox": {
           "style": "light"
          },
          "paper_bgcolor": "white",
          "plot_bgcolor": "#E5ECF6",
          "polar": {
           "angularaxis": {
            "gridcolor": "white",
            "linecolor": "white",
            "ticks": ""
           },
           "bgcolor": "#E5ECF6",
           "radialaxis": {
            "gridcolor": "white",
            "linecolor": "white",
            "ticks": ""
           }
          },
          "scene": {
           "xaxis": {
            "backgroundcolor": "#E5ECF6",
            "gridcolor": "white",
            "gridwidth": 2,
            "linecolor": "white",
            "showbackground": true,
            "ticks": "",
            "zerolinecolor": "white"
           },
           "yaxis": {
            "backgroundcolor": "#E5ECF6",
            "gridcolor": "white",
            "gridwidth": 2,
            "linecolor": "white",
            "showbackground": true,
            "ticks": "",
            "zerolinecolor": "white"
           },
           "zaxis": {
            "backgroundcolor": "#E5ECF6",
            "gridcolor": "white",
            "gridwidth": 2,
            "linecolor": "white",
            "showbackground": true,
            "ticks": "",
            "zerolinecolor": "white"
           }
          },
          "shapedefaults": {
           "line": {
            "color": "#2a3f5f"
           }
          },
          "ternary": {
           "aaxis": {
            "gridcolor": "white",
            "linecolor": "white",
            "ticks": ""
           },
           "baxis": {
            "gridcolor": "white",
            "linecolor": "white",
            "ticks": ""
           },
           "bgcolor": "#E5ECF6",
           "caxis": {
            "gridcolor": "white",
            "linecolor": "white",
            "ticks": ""
           }
          },
          "title": {
           "x": 0.05
          },
          "xaxis": {
           "automargin": true,
           "gridcolor": "white",
           "linecolor": "white",
           "ticks": "",
           "title": {
            "standoff": 15
           },
           "zerolinecolor": "white",
           "zerolinewidth": 2
          },
          "yaxis": {
           "automargin": true,
           "gridcolor": "white",
           "linecolor": "white",
           "ticks": "",
           "title": {
            "standoff": 15
           },
           "zerolinecolor": "white",
           "zerolinewidth": 2
          }
         }
        },
        "title": {
         "text": "N bid empirical distribution, random strategy",
         "x": 0.5
        },
        "xaxis": {
         "anchor": "y",
         "color": "black",
         "domain": [
          0,
          1
         ],
         "gridcolor": "black",
         "tickcolor": "black",
         "title": {
          "text": "Value"
         }
        },
        "yaxis": {
         "anchor": "x",
         "color": "black",
         "domain": [
          0,
          1
         ],
         "gridcolor": "black",
         "tickcolor": "black",
         "title": {
          "text": "Number of occurances"
         }
        }
       }
      }
     },
     "metadata": {},
     "output_type": "display_data"
    }
   ],
   "source": [
    "fig = px.histogram(arr_res_or_b_womo, nbins=75)\n",
    "\n",
    "fig.update_layout(\n",
    "    title_text=\"N bid empirical distribution, random strategy\",\n",
    "    title_x=0.5,\n",
    "    plot_bgcolor='white',  # set background color to white\n",
    "    paper_bgcolor='white',  # set background color to white\n",
    "    font=dict(color='black'),  # set font color to black\n",
    "    xaxis=dict(title_text=\"Value\", color='black', tickcolor='black', gridcolor='black'),  # set x-axis color, tick color, grid color, and grid width\n",
    "    yaxis=dict(title_text=\"Number of occurances\", color='black', tickcolor='black', gridcolor='black'),  # set y-axis color, tick color, grid color, and grid width\n",
    ")"
   ]
  },
  {
   "cell_type": "code",
   "execution_count": 535,
   "metadata": {},
   "outputs": [
    {
     "data": {
      "application/vnd.plotly.v1+json": {
       "config": {
        "plotlyServerURL": "https://plot.ly"
       },
       "data": [
        {
         "alignmentgroup": "True",
         "bingroup": "x",
         "hovertemplate": "variable=0<br>value=%{x}<br>count=%{y}<extra></extra>",
         "legendgroup": "0",
         "marker": {
          "color": "#636efa",
          "pattern": {
           "shape": ""
          }
         },
         "name": "0",
         "nbinsx": 75,
         "offsetgroup": "0",
         "orientation": "v",
         "showlegend": true,
         "type": "histogram",
         "x": [
          9,
          7,
          10,
          8,
          3,
          7,
          15,
          11,
          8,
          8,
          9,
          8,
          13,
          18,
          14,
          11,
          11,
          14,
          9,
          11,
          17,
          7,
          12,
          12,
          9,
          13,
          8,
          16,
          9,
          5,
          6,
          8,
          16,
          13,
          5,
          11,
          11,
          11,
          12,
          16,
          11,
          15,
          10,
          13,
          10,
          13,
          14,
          10,
          13,
          7,
          6,
          11,
          10,
          9,
          9,
          16,
          15,
          9,
          7,
          8,
          9,
          17,
          11,
          15,
          17,
          8,
          14,
          7,
          9,
          7,
          10,
          10,
          10,
          9,
          17,
          16,
          13,
          10,
          10,
          9,
          15,
          9,
          13,
          12,
          9,
          9,
          12,
          13,
          11,
          11,
          9,
          11,
          7,
          11,
          10,
          13,
          12,
          14,
          7,
          13,
          10,
          16,
          15,
          13,
          5,
          5,
          9,
          8,
          7,
          10,
          7,
          8,
          5,
          14,
          6,
          8,
          11,
          9,
          5,
          8,
          9,
          12,
          8,
          16,
          10,
          6,
          5,
          14,
          13,
          14,
          7,
          4,
          16,
          6,
          9,
          13,
          9,
          13,
          6,
          10,
          12,
          7,
          10,
          9,
          15,
          17,
          9,
          11,
          3,
          10,
          11,
          9,
          10,
          12,
          6,
          14,
          14,
          8,
          15,
          6,
          6,
          18,
          13,
          11,
          9,
          7,
          10,
          13,
          8,
          11,
          15,
          11,
          10,
          7,
          11,
          5,
          9,
          15,
          8,
          16,
          6,
          13,
          8,
          18,
          13,
          7,
          12,
          11,
          13,
          13,
          10,
          12,
          10,
          8,
          6,
          8,
          13,
          9,
          9,
          8,
          8,
          7,
          10,
          10,
          18,
          12,
          8,
          12,
          17,
          7,
          9,
          11,
          15,
          5,
          11,
          7,
          8,
          8,
          5,
          7,
          12,
          6,
          11,
          9,
          10,
          7,
          8,
          15,
          16,
          6,
          9,
          10,
          9,
          8,
          10,
          6,
          15,
          7,
          11,
          8,
          8,
          13,
          11,
          16,
          10,
          10,
          13,
          4,
          9,
          10,
          13,
          9,
          14,
          10,
          9,
          11,
          14,
          6,
          12,
          6,
          16,
          12,
          11,
          15,
          9,
          12,
          14,
          9,
          13,
          8,
          16,
          15,
          10,
          5,
          8,
          10,
          12,
          10,
          7,
          14,
          5,
          14,
          6,
          7,
          8,
          10,
          13,
          13,
          4,
          9,
          12,
          11,
          10,
          7,
          8,
          15,
          10,
          15,
          11,
          11,
          13,
          14,
          10,
          7,
          12,
          12,
          12,
          10,
          8,
          7,
          13,
          10,
          11,
          8,
          6,
          16,
          5,
          10,
          10,
          10,
          11,
          14,
          14,
          7,
          14,
          8,
          8,
          7,
          7,
          10,
          10,
          7,
          8,
          10,
          8,
          5,
          15,
          9,
          7,
          10,
          12,
          9,
          9,
          13,
          13,
          8,
          12,
          4,
          4,
          12,
          8,
          5,
          9,
          13,
          14,
          13,
          10,
          9,
          18,
          16,
          10,
          9,
          6,
          10,
          10,
          8,
          12,
          12,
          10,
          13,
          13,
          11,
          9,
          11,
          9,
          4,
          7,
          11,
          5,
          11,
          7,
          13,
          16,
          15,
          8,
          4,
          16,
          10,
          12,
          9,
          18,
          8,
          14,
          15,
          10,
          11,
          7,
          10,
          10,
          9,
          6,
          11,
          16,
          10,
          10,
          14,
          16,
          6,
          13,
          8,
          11,
          10,
          15,
          5,
          11,
          14,
          14,
          10,
          10,
          8,
          16,
          11,
          11,
          8,
          14,
          9,
          7,
          10,
          10,
          10,
          16,
          8,
          4,
          8,
          8,
          12,
          13,
          9,
          8,
          10,
          12,
          12,
          11,
          13,
          9,
          6,
          8,
          7,
          10,
          12,
          11,
          7,
          12,
          8,
          12,
          13,
          9,
          7,
          11,
          11,
          10,
          12,
          7,
          11,
          7,
          10,
          10,
          10,
          13,
          13,
          13,
          9,
          6,
          7,
          9,
          9,
          10,
          10,
          9,
          8,
          11,
          14,
          7,
          10,
          6,
          13,
          7,
          9,
          10,
          17,
          7,
          13,
          9,
          6,
          10,
          10,
          10,
          14,
          11,
          4,
          9,
          7,
          11,
          4,
          10,
          12,
          8,
          10,
          11,
          5,
          14,
          16,
          15,
          8,
          13,
          14,
          10,
          14,
          12,
          10,
          6,
          12,
          8,
          11,
          11,
          12,
          15,
          8,
          10,
          10,
          15,
          18,
          12,
          8,
          13,
          8,
          9,
          13,
          14,
          7,
          8,
          3,
          8,
          8,
          10,
          10,
          11,
          10,
          9,
          17,
          4,
          10,
          7,
          11,
          9,
          14,
          10,
          8,
          16,
          18,
          15,
          8,
          16,
          10,
          11,
          11,
          12,
          10,
          16,
          7,
          18,
          5,
          16,
          7,
          3,
          11,
          9,
          9,
          17,
          7,
          6,
          8,
          13,
          14,
          11,
          9,
          12,
          10,
          8,
          9,
          3,
          12,
          5,
          12,
          10,
          10,
          8,
          8,
          15,
          9,
          4,
          9,
          10,
          6,
          12,
          11,
          11,
          13,
          14,
          12,
          12,
          6,
          3,
          9,
          18,
          8,
          16,
          9,
          11,
          11,
          10,
          13,
          7,
          15,
          7,
          7,
          12,
          13,
          13,
          15,
          12,
          11,
          20,
          16,
          5,
          6,
          16,
          8,
          15,
          7,
          9,
          4,
          18,
          9,
          5,
          9,
          12,
          12,
          13,
          9,
          5,
          8,
          8,
          7,
          6,
          9,
          10,
          8,
          6,
          10,
          7,
          4,
          12,
          11,
          14,
          10,
          22,
          11,
          9,
          4,
          10,
          18,
          10,
          9,
          12,
          7,
          9,
          14,
          10,
          8,
          8,
          14,
          9,
          7,
          7,
          12,
          7,
          5,
          13,
          9,
          14,
          8,
          18,
          13,
          11,
          11,
          13,
          12,
          15,
          8,
          18,
          7,
          8,
          14,
          18,
          8,
          11,
          8,
          15,
          17,
          11,
          7,
          12,
          15,
          8,
          13,
          6,
          6,
          12,
          7,
          13,
          10,
          9,
          7,
          7,
          10,
          16,
          14,
          11,
          13,
          11,
          7,
          10,
          8,
          7,
          10,
          7,
          7,
          8,
          10,
          14,
          10,
          5,
          19,
          10,
          5,
          14,
          7,
          12,
          11,
          12,
          10,
          11,
          17,
          9,
          8,
          9,
          7,
          10,
          10,
          6,
          7,
          14,
          13,
          12,
          8,
          7,
          6,
          13,
          9,
          9,
          10,
          10,
          6,
          7,
          9,
          11,
          13,
          6,
          11,
          6,
          8,
          9,
          8,
          3,
          8,
          10,
          18,
          17,
          6,
          11,
          10,
          6,
          13,
          8,
          7,
          6,
          17,
          8,
          16,
          9,
          12,
          11,
          13,
          11,
          12,
          11,
          10,
          10,
          11,
          14,
          15,
          9,
          10,
          5,
          9,
          9,
          17,
          11,
          8,
          13,
          14,
          12,
          17,
          11,
          13,
          8,
          8,
          7,
          9,
          13,
          10,
          11,
          14,
          11,
          11,
          5,
          6,
          9,
          8,
          8,
          4,
          10,
          5,
          10,
          11,
          7,
          14,
          15,
          9,
          14,
          8,
          9,
          6,
          12,
          10,
          11,
          15,
          10,
          7,
          10,
          11,
          10,
          5,
          11,
          5,
          15,
          14,
          13,
          14,
          10,
          8,
          8,
          13,
          10,
          11,
          11,
          13,
          12,
          10,
          12,
          11,
          7,
          10,
          5,
          16,
          11,
          7,
          4,
          15,
          8,
          12,
          9,
          14,
          14,
          9,
          9,
          8,
          9,
          11,
          8,
          17,
          10,
          16,
          11,
          9,
          8,
          12,
          4,
          12,
          10,
          8,
          14,
          4,
          10,
          6,
          12,
          10,
          11,
          10,
          7,
          12,
          13,
          9,
          13,
          8,
          8,
          10,
          12,
          8,
          11,
          10,
          6,
          11,
          11,
          9,
          14,
          12,
          7,
          13,
          13,
          17,
          7,
          8,
          9,
          16,
          8,
          6,
          12,
          12,
          8,
          8,
          10,
          16,
          10,
          8,
          8,
          13,
          16,
          10,
          6,
          8,
          6,
          7,
          3,
          10,
          9,
          13,
          13,
          7,
          7,
          14,
          6,
          10,
          6,
          9,
          9,
          18,
          16,
          6,
          6,
          8,
          8,
          16,
          11,
          11,
          8,
          12,
          13,
          11,
          4,
          7,
          8,
          12,
          12,
          15,
          12,
          9,
          7,
          7
         ],
         "xaxis": "x",
         "yaxis": "y"
        }
       ],
       "layout": {
        "barmode": "relative",
        "font": {
         "color": "black"
        },
        "legend": {
         "title": {
          "text": "variable"
         },
         "tracegroupgap": 0
        },
        "margin": {
         "t": 60
        },
        "paper_bgcolor": "white",
        "plot_bgcolor": "white",
        "template": {
         "data": {
          "bar": [
           {
            "error_x": {
             "color": "#2a3f5f"
            },
            "error_y": {
             "color": "#2a3f5f"
            },
            "marker": {
             "line": {
              "color": "#E5ECF6",
              "width": 0.5
             },
             "pattern": {
              "fillmode": "overlay",
              "size": 10,
              "solidity": 0.2
             }
            },
            "type": "bar"
           }
          ],
          "barpolar": [
           {
            "marker": {
             "line": {
              "color": "#E5ECF6",
              "width": 0.5
             },
             "pattern": {
              "fillmode": "overlay",
              "size": 10,
              "solidity": 0.2
             }
            },
            "type": "barpolar"
           }
          ],
          "carpet": [
           {
            "aaxis": {
             "endlinecolor": "#2a3f5f",
             "gridcolor": "white",
             "linecolor": "white",
             "minorgridcolor": "white",
             "startlinecolor": "#2a3f5f"
            },
            "baxis": {
             "endlinecolor": "#2a3f5f",
             "gridcolor": "white",
             "linecolor": "white",
             "minorgridcolor": "white",
             "startlinecolor": "#2a3f5f"
            },
            "type": "carpet"
           }
          ],
          "choropleth": [
           {
            "colorbar": {
             "outlinewidth": 0,
             "ticks": ""
            },
            "type": "choropleth"
           }
          ],
          "contour": [
           {
            "colorbar": {
             "outlinewidth": 0,
             "ticks": ""
            },
            "colorscale": [
             [
              0,
              "#0d0887"
             ],
             [
              0.1111111111111111,
              "#46039f"
             ],
             [
              0.2222222222222222,
              "#7201a8"
             ],
             [
              0.3333333333333333,
              "#9c179e"
             ],
             [
              0.4444444444444444,
              "#bd3786"
             ],
             [
              0.5555555555555556,
              "#d8576b"
             ],
             [
              0.6666666666666666,
              "#ed7953"
             ],
             [
              0.7777777777777778,
              "#fb9f3a"
             ],
             [
              0.8888888888888888,
              "#fdca26"
             ],
             [
              1,
              "#f0f921"
             ]
            ],
            "type": "contour"
           }
          ],
          "contourcarpet": [
           {
            "colorbar": {
             "outlinewidth": 0,
             "ticks": ""
            },
            "type": "contourcarpet"
           }
          ],
          "heatmap": [
           {
            "colorbar": {
             "outlinewidth": 0,
             "ticks": ""
            },
            "colorscale": [
             [
              0,
              "#0d0887"
             ],
             [
              0.1111111111111111,
              "#46039f"
             ],
             [
              0.2222222222222222,
              "#7201a8"
             ],
             [
              0.3333333333333333,
              "#9c179e"
             ],
             [
              0.4444444444444444,
              "#bd3786"
             ],
             [
              0.5555555555555556,
              "#d8576b"
             ],
             [
              0.6666666666666666,
              "#ed7953"
             ],
             [
              0.7777777777777778,
              "#fb9f3a"
             ],
             [
              0.8888888888888888,
              "#fdca26"
             ],
             [
              1,
              "#f0f921"
             ]
            ],
            "type": "heatmap"
           }
          ],
          "heatmapgl": [
           {
            "colorbar": {
             "outlinewidth": 0,
             "ticks": ""
            },
            "colorscale": [
             [
              0,
              "#0d0887"
             ],
             [
              0.1111111111111111,
              "#46039f"
             ],
             [
              0.2222222222222222,
              "#7201a8"
             ],
             [
              0.3333333333333333,
              "#9c179e"
             ],
             [
              0.4444444444444444,
              "#bd3786"
             ],
             [
              0.5555555555555556,
              "#d8576b"
             ],
             [
              0.6666666666666666,
              "#ed7953"
             ],
             [
              0.7777777777777778,
              "#fb9f3a"
             ],
             [
              0.8888888888888888,
              "#fdca26"
             ],
             [
              1,
              "#f0f921"
             ]
            ],
            "type": "heatmapgl"
           }
          ],
          "histogram": [
           {
            "marker": {
             "pattern": {
              "fillmode": "overlay",
              "size": 10,
              "solidity": 0.2
             }
            },
            "type": "histogram"
           }
          ],
          "histogram2d": [
           {
            "colorbar": {
             "outlinewidth": 0,
             "ticks": ""
            },
            "colorscale": [
             [
              0,
              "#0d0887"
             ],
             [
              0.1111111111111111,
              "#46039f"
             ],
             [
              0.2222222222222222,
              "#7201a8"
             ],
             [
              0.3333333333333333,
              "#9c179e"
             ],
             [
              0.4444444444444444,
              "#bd3786"
             ],
             [
              0.5555555555555556,
              "#d8576b"
             ],
             [
              0.6666666666666666,
              "#ed7953"
             ],
             [
              0.7777777777777778,
              "#fb9f3a"
             ],
             [
              0.8888888888888888,
              "#fdca26"
             ],
             [
              1,
              "#f0f921"
             ]
            ],
            "type": "histogram2d"
           }
          ],
          "histogram2dcontour": [
           {
            "colorbar": {
             "outlinewidth": 0,
             "ticks": ""
            },
            "colorscale": [
             [
              0,
              "#0d0887"
             ],
             [
              0.1111111111111111,
              "#46039f"
             ],
             [
              0.2222222222222222,
              "#7201a8"
             ],
             [
              0.3333333333333333,
              "#9c179e"
             ],
             [
              0.4444444444444444,
              "#bd3786"
             ],
             [
              0.5555555555555556,
              "#d8576b"
             ],
             [
              0.6666666666666666,
              "#ed7953"
             ],
             [
              0.7777777777777778,
              "#fb9f3a"
             ],
             [
              0.8888888888888888,
              "#fdca26"
             ],
             [
              1,
              "#f0f921"
             ]
            ],
            "type": "histogram2dcontour"
           }
          ],
          "mesh3d": [
           {
            "colorbar": {
             "outlinewidth": 0,
             "ticks": ""
            },
            "type": "mesh3d"
           }
          ],
          "parcoords": [
           {
            "line": {
             "colorbar": {
              "outlinewidth": 0,
              "ticks": ""
             }
            },
            "type": "parcoords"
           }
          ],
          "pie": [
           {
            "automargin": true,
            "type": "pie"
           }
          ],
          "scatter": [
           {
            "fillpattern": {
             "fillmode": "overlay",
             "size": 10,
             "solidity": 0.2
            },
            "type": "scatter"
           }
          ],
          "scatter3d": [
           {
            "line": {
             "colorbar": {
              "outlinewidth": 0,
              "ticks": ""
             }
            },
            "marker": {
             "colorbar": {
              "outlinewidth": 0,
              "ticks": ""
             }
            },
            "type": "scatter3d"
           }
          ],
          "scattercarpet": [
           {
            "marker": {
             "colorbar": {
              "outlinewidth": 0,
              "ticks": ""
             }
            },
            "type": "scattercarpet"
           }
          ],
          "scattergeo": [
           {
            "marker": {
             "colorbar": {
              "outlinewidth": 0,
              "ticks": ""
             }
            },
            "type": "scattergeo"
           }
          ],
          "scattergl": [
           {
            "marker": {
             "colorbar": {
              "outlinewidth": 0,
              "ticks": ""
             }
            },
            "type": "scattergl"
           }
          ],
          "scattermapbox": [
           {
            "marker": {
             "colorbar": {
              "outlinewidth": 0,
              "ticks": ""
             }
            },
            "type": "scattermapbox"
           }
          ],
          "scatterpolar": [
           {
            "marker": {
             "colorbar": {
              "outlinewidth": 0,
              "ticks": ""
             }
            },
            "type": "scatterpolar"
           }
          ],
          "scatterpolargl": [
           {
            "marker": {
             "colorbar": {
              "outlinewidth": 0,
              "ticks": ""
             }
            },
            "type": "scatterpolargl"
           }
          ],
          "scatterternary": [
           {
            "marker": {
             "colorbar": {
              "outlinewidth": 0,
              "ticks": ""
             }
            },
            "type": "scatterternary"
           }
          ],
          "surface": [
           {
            "colorbar": {
             "outlinewidth": 0,
             "ticks": ""
            },
            "colorscale": [
             [
              0,
              "#0d0887"
             ],
             [
              0.1111111111111111,
              "#46039f"
             ],
             [
              0.2222222222222222,
              "#7201a8"
             ],
             [
              0.3333333333333333,
              "#9c179e"
             ],
             [
              0.4444444444444444,
              "#bd3786"
             ],
             [
              0.5555555555555556,
              "#d8576b"
             ],
             [
              0.6666666666666666,
              "#ed7953"
             ],
             [
              0.7777777777777778,
              "#fb9f3a"
             ],
             [
              0.8888888888888888,
              "#fdca26"
             ],
             [
              1,
              "#f0f921"
             ]
            ],
            "type": "surface"
           }
          ],
          "table": [
           {
            "cells": {
             "fill": {
              "color": "#EBF0F8"
             },
             "line": {
              "color": "white"
             }
            },
            "header": {
             "fill": {
              "color": "#C8D4E3"
             },
             "line": {
              "color": "white"
             }
            },
            "type": "table"
           }
          ]
         },
         "layout": {
          "annotationdefaults": {
           "arrowcolor": "#2a3f5f",
           "arrowhead": 0,
           "arrowwidth": 1
          },
          "autotypenumbers": "strict",
          "coloraxis": {
           "colorbar": {
            "outlinewidth": 0,
            "ticks": ""
           }
          },
          "colorscale": {
           "diverging": [
            [
             0,
             "#8e0152"
            ],
            [
             0.1,
             "#c51b7d"
            ],
            [
             0.2,
             "#de77ae"
            ],
            [
             0.3,
             "#f1b6da"
            ],
            [
             0.4,
             "#fde0ef"
            ],
            [
             0.5,
             "#f7f7f7"
            ],
            [
             0.6,
             "#e6f5d0"
            ],
            [
             0.7,
             "#b8e186"
            ],
            [
             0.8,
             "#7fbc41"
            ],
            [
             0.9,
             "#4d9221"
            ],
            [
             1,
             "#276419"
            ]
           ],
           "sequential": [
            [
             0,
             "#0d0887"
            ],
            [
             0.1111111111111111,
             "#46039f"
            ],
            [
             0.2222222222222222,
             "#7201a8"
            ],
            [
             0.3333333333333333,
             "#9c179e"
            ],
            [
             0.4444444444444444,
             "#bd3786"
            ],
            [
             0.5555555555555556,
             "#d8576b"
            ],
            [
             0.6666666666666666,
             "#ed7953"
            ],
            [
             0.7777777777777778,
             "#fb9f3a"
            ],
            [
             0.8888888888888888,
             "#fdca26"
            ],
            [
             1,
             "#f0f921"
            ]
           ],
           "sequentialminus": [
            [
             0,
             "#0d0887"
            ],
            [
             0.1111111111111111,
             "#46039f"
            ],
            [
             0.2222222222222222,
             "#7201a8"
            ],
            [
             0.3333333333333333,
             "#9c179e"
            ],
            [
             0.4444444444444444,
             "#bd3786"
            ],
            [
             0.5555555555555556,
             "#d8576b"
            ],
            [
             0.6666666666666666,
             "#ed7953"
            ],
            [
             0.7777777777777778,
             "#fb9f3a"
            ],
            [
             0.8888888888888888,
             "#fdca26"
            ],
            [
             1,
             "#f0f921"
            ]
           ]
          },
          "colorway": [
           "#636efa",
           "#EF553B",
           "#00cc96",
           "#ab63fa",
           "#FFA15A",
           "#19d3f3",
           "#FF6692",
           "#B6E880",
           "#FF97FF",
           "#FECB52"
          ],
          "font": {
           "color": "#2a3f5f"
          },
          "geo": {
           "bgcolor": "white",
           "lakecolor": "white",
           "landcolor": "#E5ECF6",
           "showlakes": true,
           "showland": true,
           "subunitcolor": "white"
          },
          "hoverlabel": {
           "align": "left"
          },
          "hovermode": "closest",
          "mapbox": {
           "style": "light"
          },
          "paper_bgcolor": "white",
          "plot_bgcolor": "#E5ECF6",
          "polar": {
           "angularaxis": {
            "gridcolor": "white",
            "linecolor": "white",
            "ticks": ""
           },
           "bgcolor": "#E5ECF6",
           "radialaxis": {
            "gridcolor": "white",
            "linecolor": "white",
            "ticks": ""
           }
          },
          "scene": {
           "xaxis": {
            "backgroundcolor": "#E5ECF6",
            "gridcolor": "white",
            "gridwidth": 2,
            "linecolor": "white",
            "showbackground": true,
            "ticks": "",
            "zerolinecolor": "white"
           },
           "yaxis": {
            "backgroundcolor": "#E5ECF6",
            "gridcolor": "white",
            "gridwidth": 2,
            "linecolor": "white",
            "showbackground": true,
            "ticks": "",
            "zerolinecolor": "white"
           },
           "zaxis": {
            "backgroundcolor": "#E5ECF6",
            "gridcolor": "white",
            "gridwidth": 2,
            "linecolor": "white",
            "showbackground": true,
            "ticks": "",
            "zerolinecolor": "white"
           }
          },
          "shapedefaults": {
           "line": {
            "color": "#2a3f5f"
           }
          },
          "ternary": {
           "aaxis": {
            "gridcolor": "white",
            "linecolor": "white",
            "ticks": ""
           },
           "baxis": {
            "gridcolor": "white",
            "linecolor": "white",
            "ticks": ""
           },
           "bgcolor": "#E5ECF6",
           "caxis": {
            "gridcolor": "white",
            "linecolor": "white",
            "ticks": ""
           }
          },
          "title": {
           "x": 0.05
          },
          "xaxis": {
           "automargin": true,
           "gridcolor": "white",
           "linecolor": "white",
           "ticks": "",
           "title": {
            "standoff": 15
           },
           "zerolinecolor": "white",
           "zerolinewidth": 2
          },
          "yaxis": {
           "automargin": true,
           "gridcolor": "white",
           "linecolor": "white",
           "ticks": "",
           "title": {
            "standoff": 15
           },
           "zerolinecolor": "white",
           "zerolinewidth": 2
          }
         }
        },
        "title": {
         "text": "N ask empirical distribution, random strategy",
         "x": 0.5
        },
        "xaxis": {
         "anchor": "y",
         "color": "black",
         "domain": [
          0,
          1
         ],
         "gridcolor": "black",
         "tickcolor": "black",
         "title": {
          "text": "Value"
         }
        },
        "yaxis": {
         "anchor": "x",
         "color": "black",
         "domain": [
          0,
          1
         ],
         "gridcolor": "black",
         "tickcolor": "black",
         "title": {
          "text": "Number of occurances"
         }
        }
       }
      }
     },
     "metadata": {},
     "output_type": "display_data"
    }
   ],
   "source": [
    "fig = px.histogram(arr_res_or_a_womo, nbins=75)\n",
    "\n",
    "fig.update_layout(\n",
    "    title_text=\"N ask empirical distribution, random strategy\",\n",
    "    title_x=0.5,\n",
    "    plot_bgcolor='white',  # set background color to white\n",
    "    paper_bgcolor='white',  # set background color to white\n",
    "    font=dict(color='black'),  # set font color to black\n",
    "    xaxis=dict(title_text=\"Value\", color='black', tickcolor='black', gridcolor='black'),  # set x-axis color, tick color, grid color, and grid width\n",
    "    yaxis=dict(title_text=\"Number of occurances\", color='black', tickcolor='black', gridcolor='black'),  # set y-axis color, tick color, grid color, and grid width\n",
    ")"
   ]
  }
 ],
 "metadata": {
  "kernelspec": {
   "display_name": "Python 3",
   "language": "python",
   "name": "python3"
  },
  "language_info": {
   "codemirror_mode": {
    "name": "ipython",
    "version": 3
   },
   "file_extension": ".py",
   "mimetype": "text/x-python",
   "name": "python",
   "nbconvert_exporter": "python",
   "pygments_lexer": "ipython3",
   "version": "3.11.5"
  }
 },
 "nbformat": 4,
 "nbformat_minor": 2
}
