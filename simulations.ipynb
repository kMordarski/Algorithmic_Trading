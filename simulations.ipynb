{
 "cells": [
  {
   "cell_type": "code",
   "execution_count": 95,
   "metadata": {},
   "outputs": [],
   "source": [
    "import numpy as np\n",
    "import plotly as plt"
   ]
  },
  {
   "cell_type": "code",
   "execution_count": 96,
   "metadata": {},
   "outputs": [],
   "source": [
    "import plotly.graph_objs as go\n",
    "from plotly.subplots import make_subplots\n",
    "import plotly.express as px"
   ]
  },
  {
   "cell_type": "markdown",
   "metadata": {},
   "source": [
    "We use the values of parameters from the paper, apart from sigma whcih was unfortunately not specified."
   ]
  },
  {
   "cell_type": "code",
   "execution_count": 97,
   "metadata": {},
   "outputs": [],
   "source": [
    "# Parameters\n",
    "\n",
    "# General\n",
    "t = 0\n",
    "T = 300\n",
    "np.random.seed(100)\n",
    "\n",
    "# Price\n",
    "b = 0\n",
    "sigma = 0.1\n",
    "P_0 = 45\n",
    "dt = 1 / 1000   # time difference for Brownian motion simulation\n",
    "\n",
    "# Spread\n",
    "intensity = 1\n",
    "\n",
    "# Cash and inventory\n",
    "Y_0 = 0\n",
    "X_0 = 0\n",
    "delta = 0.005\n",
    "\n",
    "# For Monte Carlo\n",
    "l_const = 100 # constant size of trades for random and constant benchamrk srategies\n",
    "M = 1000 # number of paths generated"
   ]
  },
  {
   "cell_type": "markdown",
   "metadata": {},
   "source": [
    "# Spread"
   ]
  },
  {
   "cell_type": "markdown",
   "metadata": {},
   "source": [
    "The spread process is the combination of two stochastic processes. The first one is nonhomogenuous Possion process $(N_t)_t$ with intensity $\\lambda(t)$, which determines the times when spread is afected by buy and sell orders. The second one, being the discrete-time stationary Markov chain governs the subsequent states of spread (here there are $m=6$ states) with probability transition matrix $\\bold{P}$. The resultuing spread is a continuous time Markov chain: \n",
    "$$S_t = \\hat{S}_{N_t}, t\\geq 0 $$"
   ]
  },
  {
   "cell_type": "code",
   "execution_count": 98,
   "metadata": {},
   "outputs": [],
   "source": [
    "def poisson_point_process_sim(intensity, T):\n",
    "    '''\n",
    "    Returns the arrival times and the number of arrivals.\n",
    "\n",
    "    Parameters:\n",
    "        intensity (float): The intensity of the process\n",
    "        T (float): The timespan\n",
    "\n",
    "    Returns:\n",
    "        N, T_i ((int, np.array)): Tuple with realisations of the Poisson Process   \n",
    "    '''\n",
    "    N = np.random.poisson(intensity * T)    # number of changes of spread\n",
    "    T_i = np.cumsum(np.random.exponential(1 / intensity, N))     # arrival times of changes of spread\n",
    "\n",
    "    return (N, T_i)"
   ]
  },
  {
   "cell_type": "code",
   "execution_count": 99,
   "metadata": {},
   "outputs": [],
   "source": [
    "def spread_sim(initial_state, spread_values, T, matrix, N): \n",
    "    '''\n",
    "    Simulates the spread process.\n",
    "\n",
    "    Parameters:\n",
    "        initial_state (int): The iniitial value of spread (at time 0)\n",
    "        spread_values (list): Possible values of the spread\n",
    "        T (float): The timespan\n",
    "        matrix (np.array): Probability transition matrix of the Markov chain\n",
    "        N (int): Number of arrivals\n",
    "\n",
    "    Returns:\n",
    "        s (list): Realisation of the spread process   \n",
    "    '''\n",
    "    U = np.random.uniform(0, 1, 1000)  # uniform random variable determining the subsequent values of the Markov chain\n",
    "    matrix_sum = np.cumsum(matrix, axis = 1)   # cumulative probabilities\n",
    "    s = [initial_state]   # initial state is 0\n",
    "    for i in range(1, N):\n",
    "        potential_position = np.sum(U[i] > matrix_sum[s[i - 1], ])   # checking the positions based on the draw of the uniform random variable\n",
    "        if potential_position == s[i - 1] or potential_position == 6:   # can't stay in the same state\n",
    "            s.append(potential_position - 1)\n",
    "        else:\n",
    "            s.append(potential_position)\n",
    "            \n",
    "    return s"
   ]
  },
  {
   "cell_type": "code",
   "execution_count": 100,
   "metadata": {},
   "outputs": [],
   "source": [
    "# spread specific objects\n",
    "\n",
    "prob_matrix = np.array([[0, 0.41, 0.22, 0.16, 0.142, 0.065], \n",
    "                        [0.201, 0, 0.435, 0.192, 0.103, 0.067],\n",
    "                        [0.113, 0.221, 0, 0.4582, 0.147, 0.059],\n",
    "                        [0.07, 0.085, 0.275, 0, 0.465, 0.102],\n",
    "                        [0.068, 0.049, 0.073, 0.363, 0, 0.446],\n",
    "                        [0.077, 0.057, 0.059, 0.112, 0.692, 0]])   # probability transition matrix\n",
    "                        \n",
    "spread_values = [0.005, 0.01, 0.015, 0.02, 0.025, 0.03]  # posisible values of spread\n"
   ]
  },
  {
   "cell_type": "code",
   "execution_count": 101,
   "metadata": {},
   "outputs": [],
   "source": [
    "PPP_spread = poisson_point_process_sim(intensity, T)   # realisation of tick time clock process - number and arrival times\n",
    "spread_simulated = spread_sim(0, spread_values, T, prob_matrix, PPP_spread[0])   # simulated spread positions\n",
    "s_t = np.array([spread_values[i] for i in spread_simulated])   # simulated spread values"
   ]
  },
  {
   "cell_type": "code",
   "execution_count": 102,
   "metadata": {},
   "outputs": [
    {
     "data": {
      "application/vnd.plotly.v1+json": {
       "config": {
        "plotlyServerURL": "https://plot.ly"
       },
       "data": [
        {
         "hovertemplate": "variable=0<br>index=%{x}<br>value=%{y}<extra></extra>",
         "legendgroup": "0",
         "line": {
          "color": "maroon",
          "dash": "solid"
         },
         "marker": {
          "symbol": "circle"
         },
         "mode": "lines",
         "name": "0",
         "orientation": "v",
         "showlegend": true,
         "type": "scatter",
         "x": [
          0,
          1,
          2,
          3,
          4,
          5,
          6,
          7,
          8,
          9,
          10,
          11,
          12,
          13,
          14,
          15,
          16,
          17,
          18,
          19,
          20,
          21,
          22,
          23,
          24,
          25,
          26,
          27,
          28,
          29,
          30,
          31,
          32,
          33,
          34,
          35,
          36,
          37,
          38,
          39,
          40,
          41,
          42,
          43,
          44,
          45,
          46,
          47,
          48,
          49,
          50,
          51,
          52,
          53,
          54,
          55,
          56,
          57,
          58,
          59,
          60,
          61,
          62,
          63,
          64,
          65,
          66,
          67,
          68,
          69,
          70,
          71,
          72,
          73,
          74,
          75,
          76,
          77,
          78,
          79,
          80,
          81,
          82,
          83,
          84,
          85,
          86,
          87,
          88,
          89,
          90,
          91,
          92,
          93,
          94,
          95,
          96,
          97,
          98,
          99,
          100,
          101,
          102,
          103,
          104,
          105,
          106,
          107,
          108,
          109,
          110,
          111,
          112,
          113,
          114,
          115,
          116,
          117,
          118,
          119,
          120,
          121,
          122,
          123,
          124,
          125,
          126,
          127,
          128,
          129,
          130,
          131,
          132,
          133,
          134,
          135,
          136,
          137,
          138,
          139,
          140,
          141,
          142,
          143,
          144,
          145,
          146,
          147,
          148,
          149,
          150,
          151,
          152,
          153,
          154,
          155,
          156,
          157,
          158,
          159,
          160,
          161,
          162,
          163,
          164,
          165,
          166,
          167,
          168,
          169,
          170,
          171,
          172,
          173,
          174,
          175,
          176,
          177,
          178,
          179,
          180,
          181,
          182,
          183,
          184,
          185,
          186,
          187,
          188,
          189,
          190,
          191,
          192,
          193,
          194,
          195,
          196,
          197,
          198,
          199,
          200,
          201,
          202,
          203,
          204,
          205,
          206,
          207,
          208,
          209,
          210,
          211,
          212,
          213,
          214,
          215,
          216,
          217,
          218,
          219,
          220,
          221,
          222,
          223,
          224,
          225,
          226,
          227,
          228,
          229,
          230,
          231,
          232,
          233,
          234,
          235,
          236,
          237,
          238,
          239,
          240,
          241,
          242,
          243,
          244,
          245,
          246,
          247,
          248,
          249,
          250,
          251,
          252,
          253,
          254,
          255,
          256,
          257,
          258,
          259,
          260,
          261,
          262,
          263,
          264,
          265,
          266,
          267,
          268,
          269,
          270,
          271,
          272,
          273,
          274,
          275,
          276,
          277,
          278,
          279,
          280,
          281,
          282,
          283,
          284,
          285,
          286,
          287,
          288,
          289,
          290,
          291,
          292,
          293,
          294,
          295,
          296,
          297,
          298,
          299,
          300,
          301
         ],
         "xaxis": "x",
         "y": [
          0,
          1,
          0,
          1,
          3,
          0,
          1,
          2,
          3,
          4,
          3,
          2,
          4,
          3,
          2,
          0,
          1,
          0,
          3,
          4,
          3,
          4,
          1,
          4,
          1,
          0,
          2,
          3,
          4,
          3,
          1,
          3,
          4,
          5,
          4,
          3,
          4,
          5,
          4,
          3,
          2,
          3,
          5,
          4,
          3,
          4,
          5,
          3,
          0,
          1,
          0,
          1,
          4,
          3,
          4,
          3,
          1,
          3,
          5,
          4,
          5,
          4,
          3,
          2,
          5,
          0,
          4,
          3,
          4,
          3,
          4,
          5,
          2,
          1,
          0,
          1,
          5,
          4,
          1,
          2,
          3,
          4,
          3,
          4,
          1,
          2,
          0,
          2,
          3,
          2,
          3,
          0,
          2,
          0,
          2,
          3,
          0,
          5,
          4,
          5,
          4,
          5,
          2,
          3,
          4,
          5,
          4,
          5,
          4,
          5,
          4,
          5,
          4,
          0,
          3,
          4,
          5,
          4,
          3,
          5,
          4,
          2,
          3,
          0,
          1,
          3,
          4,
          2,
          1,
          5,
          0,
          3,
          2,
          1,
          3,
          1,
          2,
          3,
          4,
          3,
          4,
          3,
          4,
          5,
          2,
          5,
          0,
          5,
          1,
          0,
          3,
          5,
          4,
          5,
          1,
          0,
          1,
          0,
          5,
          4,
          3,
          2,
          3,
          1,
          0,
          4,
          3,
          1,
          2,
          4,
          3,
          4,
          5,
          0,
          1,
          3,
          4,
          3,
          1,
          0,
          1,
          2,
          4,
          5,
          2,
          4,
          5,
          4,
          5,
          3,
          4,
          3,
          4,
          3,
          4,
          3,
          4,
          2,
          3,
          4,
          2,
          3,
          2,
          3,
          4,
          3,
          4,
          3,
          4,
          3,
          1,
          4,
          5,
          3,
          2,
          0,
          1,
          0,
          5,
          4,
          5,
          4,
          2,
          3,
          2,
          5,
          1,
          2,
          0,
          2,
          3,
          1,
          3,
          1,
          2,
          3,
          2,
          1,
          0,
          1,
          2,
          3,
          4,
          5,
          4,
          5,
          4,
          5,
          4,
          1,
          3,
          2,
          3,
          5,
          3,
          0,
          3,
          1,
          3,
          4,
          0,
          1,
          2,
          0,
          1,
          2,
          0,
          1,
          4,
          3,
          2,
          3,
          4,
          5,
          3,
          2,
          1,
          0,
          1,
          3,
          2,
          1,
          5,
          5,
          4,
          3,
          4,
          1,
          2,
          4,
          5,
          4,
          0,
          3,
          5,
          4,
          3,
          2,
          5,
          4,
          5,
          4
         ],
         "yaxis": "y"
        }
       ],
       "layout": {
        "font": {
         "color": "black"
        },
        "legend": {
         "title": {
          "text": "variable"
         },
         "tracegroupgap": 0
        },
        "margin": {
         "t": 60
        },
        "paper_bgcolor": "white",
        "plot_bgcolor": "white",
        "template": {
         "data": {
          "bar": [
           {
            "error_x": {
             "color": "#2a3f5f"
            },
            "error_y": {
             "color": "#2a3f5f"
            },
            "marker": {
             "line": {
              "color": "#E5ECF6",
              "width": 0.5
             },
             "pattern": {
              "fillmode": "overlay",
              "size": 10,
              "solidity": 0.2
             }
            },
            "type": "bar"
           }
          ],
          "barpolar": [
           {
            "marker": {
             "line": {
              "color": "#E5ECF6",
              "width": 0.5
             },
             "pattern": {
              "fillmode": "overlay",
              "size": 10,
              "solidity": 0.2
             }
            },
            "type": "barpolar"
           }
          ],
          "carpet": [
           {
            "aaxis": {
             "endlinecolor": "#2a3f5f",
             "gridcolor": "white",
             "linecolor": "white",
             "minorgridcolor": "white",
             "startlinecolor": "#2a3f5f"
            },
            "baxis": {
             "endlinecolor": "#2a3f5f",
             "gridcolor": "white",
             "linecolor": "white",
             "minorgridcolor": "white",
             "startlinecolor": "#2a3f5f"
            },
            "type": "carpet"
           }
          ],
          "choropleth": [
           {
            "colorbar": {
             "outlinewidth": 0,
             "ticks": ""
            },
            "type": "choropleth"
           }
          ],
          "contour": [
           {
            "colorbar": {
             "outlinewidth": 0,
             "ticks": ""
            },
            "colorscale": [
             [
              0,
              "#0d0887"
             ],
             [
              0.1111111111111111,
              "#46039f"
             ],
             [
              0.2222222222222222,
              "#7201a8"
             ],
             [
              0.3333333333333333,
              "#9c179e"
             ],
             [
              0.4444444444444444,
              "#bd3786"
             ],
             [
              0.5555555555555556,
              "#d8576b"
             ],
             [
              0.6666666666666666,
              "#ed7953"
             ],
             [
              0.7777777777777778,
              "#fb9f3a"
             ],
             [
              0.8888888888888888,
              "#fdca26"
             ],
             [
              1,
              "#f0f921"
             ]
            ],
            "type": "contour"
           }
          ],
          "contourcarpet": [
           {
            "colorbar": {
             "outlinewidth": 0,
             "ticks": ""
            },
            "type": "contourcarpet"
           }
          ],
          "heatmap": [
           {
            "colorbar": {
             "outlinewidth": 0,
             "ticks": ""
            },
            "colorscale": [
             [
              0,
              "#0d0887"
             ],
             [
              0.1111111111111111,
              "#46039f"
             ],
             [
              0.2222222222222222,
              "#7201a8"
             ],
             [
              0.3333333333333333,
              "#9c179e"
             ],
             [
              0.4444444444444444,
              "#bd3786"
             ],
             [
              0.5555555555555556,
              "#d8576b"
             ],
             [
              0.6666666666666666,
              "#ed7953"
             ],
             [
              0.7777777777777778,
              "#fb9f3a"
             ],
             [
              0.8888888888888888,
              "#fdca26"
             ],
             [
              1,
              "#f0f921"
             ]
            ],
            "type": "heatmap"
           }
          ],
          "heatmapgl": [
           {
            "colorbar": {
             "outlinewidth": 0,
             "ticks": ""
            },
            "colorscale": [
             [
              0,
              "#0d0887"
             ],
             [
              0.1111111111111111,
              "#46039f"
             ],
             [
              0.2222222222222222,
              "#7201a8"
             ],
             [
              0.3333333333333333,
              "#9c179e"
             ],
             [
              0.4444444444444444,
              "#bd3786"
             ],
             [
              0.5555555555555556,
              "#d8576b"
             ],
             [
              0.6666666666666666,
              "#ed7953"
             ],
             [
              0.7777777777777778,
              "#fb9f3a"
             ],
             [
              0.8888888888888888,
              "#fdca26"
             ],
             [
              1,
              "#f0f921"
             ]
            ],
            "type": "heatmapgl"
           }
          ],
          "histogram": [
           {
            "marker": {
             "pattern": {
              "fillmode": "overlay",
              "size": 10,
              "solidity": 0.2
             }
            },
            "type": "histogram"
           }
          ],
          "histogram2d": [
           {
            "colorbar": {
             "outlinewidth": 0,
             "ticks": ""
            },
            "colorscale": [
             [
              0,
              "#0d0887"
             ],
             [
              0.1111111111111111,
              "#46039f"
             ],
             [
              0.2222222222222222,
              "#7201a8"
             ],
             [
              0.3333333333333333,
              "#9c179e"
             ],
             [
              0.4444444444444444,
              "#bd3786"
             ],
             [
              0.5555555555555556,
              "#d8576b"
             ],
             [
              0.6666666666666666,
              "#ed7953"
             ],
             [
              0.7777777777777778,
              "#fb9f3a"
             ],
             [
              0.8888888888888888,
              "#fdca26"
             ],
             [
              1,
              "#f0f921"
             ]
            ],
            "type": "histogram2d"
           }
          ],
          "histogram2dcontour": [
           {
            "colorbar": {
             "outlinewidth": 0,
             "ticks": ""
            },
            "colorscale": [
             [
              0,
              "#0d0887"
             ],
             [
              0.1111111111111111,
              "#46039f"
             ],
             [
              0.2222222222222222,
              "#7201a8"
             ],
             [
              0.3333333333333333,
              "#9c179e"
             ],
             [
              0.4444444444444444,
              "#bd3786"
             ],
             [
              0.5555555555555556,
              "#d8576b"
             ],
             [
              0.6666666666666666,
              "#ed7953"
             ],
             [
              0.7777777777777778,
              "#fb9f3a"
             ],
             [
              0.8888888888888888,
              "#fdca26"
             ],
             [
              1,
              "#f0f921"
             ]
            ],
            "type": "histogram2dcontour"
           }
          ],
          "mesh3d": [
           {
            "colorbar": {
             "outlinewidth": 0,
             "ticks": ""
            },
            "type": "mesh3d"
           }
          ],
          "parcoords": [
           {
            "line": {
             "colorbar": {
              "outlinewidth": 0,
              "ticks": ""
             }
            },
            "type": "parcoords"
           }
          ],
          "pie": [
           {
            "automargin": true,
            "type": "pie"
           }
          ],
          "scatter": [
           {
            "fillpattern": {
             "fillmode": "overlay",
             "size": 10,
             "solidity": 0.2
            },
            "type": "scatter"
           }
          ],
          "scatter3d": [
           {
            "line": {
             "colorbar": {
              "outlinewidth": 0,
              "ticks": ""
             }
            },
            "marker": {
             "colorbar": {
              "outlinewidth": 0,
              "ticks": ""
             }
            },
            "type": "scatter3d"
           }
          ],
          "scattercarpet": [
           {
            "marker": {
             "colorbar": {
              "outlinewidth": 0,
              "ticks": ""
             }
            },
            "type": "scattercarpet"
           }
          ],
          "scattergeo": [
           {
            "marker": {
             "colorbar": {
              "outlinewidth": 0,
              "ticks": ""
             }
            },
            "type": "scattergeo"
           }
          ],
          "scattergl": [
           {
            "marker": {
             "colorbar": {
              "outlinewidth": 0,
              "ticks": ""
             }
            },
            "type": "scattergl"
           }
          ],
          "scattermapbox": [
           {
            "marker": {
             "colorbar": {
              "outlinewidth": 0,
              "ticks": ""
             }
            },
            "type": "scattermapbox"
           }
          ],
          "scatterpolar": [
           {
            "marker": {
             "colorbar": {
              "outlinewidth": 0,
              "ticks": ""
             }
            },
            "type": "scatterpolar"
           }
          ],
          "scatterpolargl": [
           {
            "marker": {
             "colorbar": {
              "outlinewidth": 0,
              "ticks": ""
             }
            },
            "type": "scatterpolargl"
           }
          ],
          "scatterternary": [
           {
            "marker": {
             "colorbar": {
              "outlinewidth": 0,
              "ticks": ""
             }
            },
            "type": "scatterternary"
           }
          ],
          "surface": [
           {
            "colorbar": {
             "outlinewidth": 0,
             "ticks": ""
            },
            "colorscale": [
             [
              0,
              "#0d0887"
             ],
             [
              0.1111111111111111,
              "#46039f"
             ],
             [
              0.2222222222222222,
              "#7201a8"
             ],
             [
              0.3333333333333333,
              "#9c179e"
             ],
             [
              0.4444444444444444,
              "#bd3786"
             ],
             [
              0.5555555555555556,
              "#d8576b"
             ],
             [
              0.6666666666666666,
              "#ed7953"
             ],
             [
              0.7777777777777778,
              "#fb9f3a"
             ],
             [
              0.8888888888888888,
              "#fdca26"
             ],
             [
              1,
              "#f0f921"
             ]
            ],
            "type": "surface"
           }
          ],
          "table": [
           {
            "cells": {
             "fill": {
              "color": "#EBF0F8"
             },
             "line": {
              "color": "white"
             }
            },
            "header": {
             "fill": {
              "color": "#C8D4E3"
             },
             "line": {
              "color": "white"
             }
            },
            "type": "table"
           }
          ]
         },
         "layout": {
          "annotationdefaults": {
           "arrowcolor": "#2a3f5f",
           "arrowhead": 0,
           "arrowwidth": 1
          },
          "autotypenumbers": "strict",
          "coloraxis": {
           "colorbar": {
            "outlinewidth": 0,
            "ticks": ""
           }
          },
          "colorscale": {
           "diverging": [
            [
             0,
             "#8e0152"
            ],
            [
             0.1,
             "#c51b7d"
            ],
            [
             0.2,
             "#de77ae"
            ],
            [
             0.3,
             "#f1b6da"
            ],
            [
             0.4,
             "#fde0ef"
            ],
            [
             0.5,
             "#f7f7f7"
            ],
            [
             0.6,
             "#e6f5d0"
            ],
            [
             0.7,
             "#b8e186"
            ],
            [
             0.8,
             "#7fbc41"
            ],
            [
             0.9,
             "#4d9221"
            ],
            [
             1,
             "#276419"
            ]
           ],
           "sequential": [
            [
             0,
             "#0d0887"
            ],
            [
             0.1111111111111111,
             "#46039f"
            ],
            [
             0.2222222222222222,
             "#7201a8"
            ],
            [
             0.3333333333333333,
             "#9c179e"
            ],
            [
             0.4444444444444444,
             "#bd3786"
            ],
            [
             0.5555555555555556,
             "#d8576b"
            ],
            [
             0.6666666666666666,
             "#ed7953"
            ],
            [
             0.7777777777777778,
             "#fb9f3a"
            ],
            [
             0.8888888888888888,
             "#fdca26"
            ],
            [
             1,
             "#f0f921"
            ]
           ],
           "sequentialminus": [
            [
             0,
             "#0d0887"
            ],
            [
             0.1111111111111111,
             "#46039f"
            ],
            [
             0.2222222222222222,
             "#7201a8"
            ],
            [
             0.3333333333333333,
             "#9c179e"
            ],
            [
             0.4444444444444444,
             "#bd3786"
            ],
            [
             0.5555555555555556,
             "#d8576b"
            ],
            [
             0.6666666666666666,
             "#ed7953"
            ],
            [
             0.7777777777777778,
             "#fb9f3a"
            ],
            [
             0.8888888888888888,
             "#fdca26"
            ],
            [
             1,
             "#f0f921"
            ]
           ]
          },
          "colorway": [
           "#636efa",
           "#EF553B",
           "#00cc96",
           "#ab63fa",
           "#FFA15A",
           "#19d3f3",
           "#FF6692",
           "#B6E880",
           "#FF97FF",
           "#FECB52"
          ],
          "font": {
           "color": "#2a3f5f"
          },
          "geo": {
           "bgcolor": "white",
           "lakecolor": "white",
           "landcolor": "#E5ECF6",
           "showlakes": true,
           "showland": true,
           "subunitcolor": "white"
          },
          "hoverlabel": {
           "align": "left"
          },
          "hovermode": "closest",
          "mapbox": {
           "style": "light"
          },
          "paper_bgcolor": "white",
          "plot_bgcolor": "#E5ECF6",
          "polar": {
           "angularaxis": {
            "gridcolor": "white",
            "linecolor": "white",
            "ticks": ""
           },
           "bgcolor": "#E5ECF6",
           "radialaxis": {
            "gridcolor": "white",
            "linecolor": "white",
            "ticks": ""
           }
          },
          "scene": {
           "xaxis": {
            "backgroundcolor": "#E5ECF6",
            "gridcolor": "white",
            "gridwidth": 2,
            "linecolor": "white",
            "showbackground": true,
            "ticks": "",
            "zerolinecolor": "white"
           },
           "yaxis": {
            "backgroundcolor": "#E5ECF6",
            "gridcolor": "white",
            "gridwidth": 2,
            "linecolor": "white",
            "showbackground": true,
            "ticks": "",
            "zerolinecolor": "white"
           },
           "zaxis": {
            "backgroundcolor": "#E5ECF6",
            "gridcolor": "white",
            "gridwidth": 2,
            "linecolor": "white",
            "showbackground": true,
            "ticks": "",
            "zerolinecolor": "white"
           }
          },
          "shapedefaults": {
           "line": {
            "color": "#2a3f5f"
           }
          },
          "ternary": {
           "aaxis": {
            "gridcolor": "white",
            "linecolor": "white",
            "ticks": ""
           },
           "baxis": {
            "gridcolor": "white",
            "linecolor": "white",
            "ticks": ""
           },
           "bgcolor": "#E5ECF6",
           "caxis": {
            "gridcolor": "white",
            "linecolor": "white",
            "ticks": ""
           }
          },
          "title": {
           "x": 0.05
          },
          "xaxis": {
           "automargin": true,
           "gridcolor": "white",
           "linecolor": "white",
           "ticks": "",
           "title": {
            "standoff": 15
           },
           "zerolinecolor": "white",
           "zerolinewidth": 2
          },
          "yaxis": {
           "automargin": true,
           "gridcolor": "white",
           "linecolor": "white",
           "ticks": "",
           "title": {
            "standoff": 15
           },
           "zerolinecolor": "white",
           "zerolinewidth": 2
          }
         }
        },
        "title": {
         "text": "Spread evolution",
         "x": 0.5
        },
        "xaxis": {
         "anchor": "y",
         "color": "black",
         "domain": [
          0,
          1
         ],
         "gridcolor": "black",
         "tickcolor": "black",
         "title": {
          "text": "Index"
         }
        },
        "yaxis": {
         "anchor": "x",
         "color": "black",
         "domain": [
          0,
          1
         ],
         "gridcolor": "black",
         "tickcolor": "black",
         "title": {
          "text": "Spread"
         }
        }
       }
      }
     },
     "metadata": {},
     "output_type": "display_data"
    }
   ],
   "source": [
    "fig = px.line(spread_simulated)\n",
    "fig.update_traces(line_color = \"maroon\")\n",
    "\n",
    "fig.update_layout(\n",
    "    title_text=\"Spread evolution\",\n",
    "    title_x=0.5,\n",
    "    plot_bgcolor='white',  # set background color to white\n",
    "    paper_bgcolor='white',  # set background color to white\n",
    "    font=dict(color='black'),  # set font color to black\n",
    "    xaxis=dict(title_text=\"Index\", color='black', tickcolor='black', gridcolor='black'),  # set x-axis color, tick color, grid color, and grid width\n",
    "    yaxis=dict(title_text=\"Spread\", color='black', tickcolor='black', gridcolor='black'),  # set y-axis color, tick color, grid color, and grid width\n",
    ")\n",
    "fig.show()"
   ]
  },
  {
   "cell_type": "markdown",
   "metadata": {},
   "source": [
    "# Execution of orders"
   ]
  },
  {
   "cell_type": "code",
   "execution_count": 103,
   "metadata": {},
   "outputs": [],
   "source": [
    "def orders_simulaton(intensity_matrix, spread_changes, spread, lambda_max, initial_intensities, q):\n",
    "    '''\n",
    "    Simulates the execution orders (either ask or bid) through acceptance-rejection algorithm.\n",
    "\n",
    "    Parameters:\n",
    "        intensity_matrix (np.array): Values of intensity in relation to market maker's choice of quotes and spread.\n",
    "        spread_changes (np.array): Times when spread shifts\n",
    "        spread (np.array): Values of spread\n",
    "        lambda_max (float): Maximum possible value of lambda needed for acceptance-rejection algorithm, serving as a reference for accepting or rejecting the given arrival time\n",
    "        initial_intensities (np.array): Arrival times for the orders but generated with lambda_max as intensity\n",
    "        q (np.array): choice of quotes of the market maker\n",
    "\n",
    "    Returns:\n",
    "        (arrival_times, q_filtered) ((list, np.array)): Final arrival times of orders and matching quotes   \n",
    "    '''\n",
    "    lambda_process = []\n",
    "\n",
    "    for t, i in zip(initial_intensities, range(len(initial_intensities) + 1)):\n",
    "        spread_position = np.sum(t >= spread_changes)  # checking the spread at the arrival time t\n",
    "        lambda_process.append(intensity_matrix[spread[spread_position - 1], q[i]])   # choosing the realisation of intensity process based on the estimated intensity function and simulated spread\n",
    "\n",
    "\n",
    "    acceptance = np.where(lambda_process / lambda_max < np.random.uniform(0, 1, len(initial_intensities)), False, True)  # accepted arrival times\n",
    "\n",
    "    arrival_times = initial_intensities[acceptance]  # final arrival times\n",
    "    q_filtered = q[acceptance]  # filtered quotes - only at accepted arrival times\n",
    "\n",
    "    return (arrival_times, q_filtered)"
   ]
  },
  {
   "cell_type": "code",
   "execution_count": 104,
   "metadata": {},
   "outputs": [],
   "source": [
    "intensity_matrix_a = np.array([[0.0539, 0.1485], \n",
    "                              [0.0465, 0.0979],\n",
    "                              [0.0401, 0.0846],\n",
    "                              [0.0360, 0.0856],\n",
    "                              [0.0435, 0.1009],\n",
    "                              [0.0554, 0.1202]]) # Estimated intensities for given quotes and spread for ask\n",
    "\n",
    "intensity_matrix_b = np.array([[0.0718, 0.1763], \n",
    "                              [0.0520, 0.1144],\n",
    "                              [0.0419, 0.0915],\n",
    "                              [0.0409, 0.0896],\n",
    "                              [0.0452, 0.0930],\n",
    "                              [0.0614, 0.1255]])    # Estimated intensities for given quotes and spread for bid\n",
    "\n",
    "intensity_matrix_sym = (intensity_matrix_a + intensity_matrix_b) / 2    # Making bid and ask sides symmetric"
   ]
  },
  {
   "cell_type": "code",
   "execution_count": 105,
   "metadata": {},
   "outputs": [],
   "source": [
    "lambda_max = np.max(intensity_matrix_sym)  # maximum lambda serving as a reference for acceptance probability\n",
    "intensity_orders_a_simulation = poisson_point_process_sim(np.max(lambda_max), T) # simulation of the poisson process with maximum lambda as intensity for  ask\n",
    "intensity_orders_b_simulation = poisson_point_process_sim(np.max(lambda_max), T) # simulation of the poisson process with maximum lambda as intensity for bid\n",
    "\n",
    "q_a_initial = np.random.binomial(1, 0.5, len(intensity_orders_a_simulation[1]))  # ad-hoc choice of quotes for ask\n",
    "q_b_initial = np.random.binomial(1, 0.5, len(intensity_orders_b_simulation[1]))  # ad-hoc choice of quotes for bid"
   ]
  },
  {
   "cell_type": "code",
   "execution_count": 106,
   "metadata": {},
   "outputs": [],
   "source": [
    "orders_a_simulated = orders_simulaton(intensity_matrix_sym, PPP_spread[1], spread_simulated, lambda_max, intensity_orders_a_simulation[1], q_a_initial)\n",
    "orders_b_simulated = orders_simulaton(intensity_matrix_sym, PPP_spread[1], spread_simulated, lambda_max, intensity_orders_b_simulation[1], q_b_initial)\n",
    "\n",
    "orders_a = orders_a_simulated[0]  # final arrival times of ask orders\n",
    "orders_b = orders_b_simulated[0]  # final arrival times of bid orders\n",
    "q_a = orders_a_simulated[1]  # final quotes of ask orders at arrival times\n",
    "q_b = orders_b_simulated[1]  # final quotes of bid orders at arrival times"
   ]
  },
  {
   "cell_type": "code",
   "execution_count": 107,
   "metadata": {},
   "outputs": [
    {
     "data": {
      "application/vnd.plotly.v1+json": {
       "config": {
        "plotlyServerURL": "https://plot.ly"
       },
       "data": [
        {
         "line": {
          "color": "Maroon"
         },
         "mode": "lines",
         "name": "Ba",
         "type": "scatter",
         "x": [
          0.05,
          0.1,
          0.15,
          0.2,
          0.25,
          0.3
         ],
         "y": [
          0.0539,
          0.0465,
          0.0401,
          0.036,
          0.0435,
          0.0554
         ]
        },
        {
         "line": {
          "color": "turquoise"
         },
         "mode": "lines",
         "name": "Ba-",
         "type": "scatter",
         "x": [
          0.05,
          0.1,
          0.15,
          0.2,
          0.25,
          0.3
         ],
         "y": [
          0.1485,
          0.0979,
          0.0846,
          0.0856,
          0.1009,
          0.1202
         ]
        },
        {
         "line": {
          "color": "darkorange"
         },
         "mode": "lines",
         "name": "Bb",
         "type": "scatter",
         "x": [
          0.05,
          0.1,
          0.15,
          0.2,
          0.25,
          0.3
         ],
         "y": [
          0.0718,
          0.052,
          0.0419,
          0.0409,
          0.0452,
          0.0614
         ]
        },
        {
         "line": {
          "color": "green"
         },
         "mode": "lines",
         "name": "Bb+",
         "type": "scatter",
         "x": [
          0.05,
          0.1,
          0.15,
          0.2,
          0.25,
          0.3
         ],
         "y": [
          0.1763,
          0.1144,
          0.0915,
          0.0896,
          0.093,
          0.1255
         ]
        }
       ],
       "layout": {
        "font": {
         "color": "black"
        },
        "paper_bgcolor": "white",
        "plot_bgcolor": "white",
        "template": {
         "data": {
          "bar": [
           {
            "error_x": {
             "color": "#2a3f5f"
            },
            "error_y": {
             "color": "#2a3f5f"
            },
            "marker": {
             "line": {
              "color": "#E5ECF6",
              "width": 0.5
             },
             "pattern": {
              "fillmode": "overlay",
              "size": 10,
              "solidity": 0.2
             }
            },
            "type": "bar"
           }
          ],
          "barpolar": [
           {
            "marker": {
             "line": {
              "color": "#E5ECF6",
              "width": 0.5
             },
             "pattern": {
              "fillmode": "overlay",
              "size": 10,
              "solidity": 0.2
             }
            },
            "type": "barpolar"
           }
          ],
          "carpet": [
           {
            "aaxis": {
             "endlinecolor": "#2a3f5f",
             "gridcolor": "white",
             "linecolor": "white",
             "minorgridcolor": "white",
             "startlinecolor": "#2a3f5f"
            },
            "baxis": {
             "endlinecolor": "#2a3f5f",
             "gridcolor": "white",
             "linecolor": "white",
             "minorgridcolor": "white",
             "startlinecolor": "#2a3f5f"
            },
            "type": "carpet"
           }
          ],
          "choropleth": [
           {
            "colorbar": {
             "outlinewidth": 0,
             "ticks": ""
            },
            "type": "choropleth"
           }
          ],
          "contour": [
           {
            "colorbar": {
             "outlinewidth": 0,
             "ticks": ""
            },
            "colorscale": [
             [
              0,
              "#0d0887"
             ],
             [
              0.1111111111111111,
              "#46039f"
             ],
             [
              0.2222222222222222,
              "#7201a8"
             ],
             [
              0.3333333333333333,
              "#9c179e"
             ],
             [
              0.4444444444444444,
              "#bd3786"
             ],
             [
              0.5555555555555556,
              "#d8576b"
             ],
             [
              0.6666666666666666,
              "#ed7953"
             ],
             [
              0.7777777777777778,
              "#fb9f3a"
             ],
             [
              0.8888888888888888,
              "#fdca26"
             ],
             [
              1,
              "#f0f921"
             ]
            ],
            "type": "contour"
           }
          ],
          "contourcarpet": [
           {
            "colorbar": {
             "outlinewidth": 0,
             "ticks": ""
            },
            "type": "contourcarpet"
           }
          ],
          "heatmap": [
           {
            "colorbar": {
             "outlinewidth": 0,
             "ticks": ""
            },
            "colorscale": [
             [
              0,
              "#0d0887"
             ],
             [
              0.1111111111111111,
              "#46039f"
             ],
             [
              0.2222222222222222,
              "#7201a8"
             ],
             [
              0.3333333333333333,
              "#9c179e"
             ],
             [
              0.4444444444444444,
              "#bd3786"
             ],
             [
              0.5555555555555556,
              "#d8576b"
             ],
             [
              0.6666666666666666,
              "#ed7953"
             ],
             [
              0.7777777777777778,
              "#fb9f3a"
             ],
             [
              0.8888888888888888,
              "#fdca26"
             ],
             [
              1,
              "#f0f921"
             ]
            ],
            "type": "heatmap"
           }
          ],
          "heatmapgl": [
           {
            "colorbar": {
             "outlinewidth": 0,
             "ticks": ""
            },
            "colorscale": [
             [
              0,
              "#0d0887"
             ],
             [
              0.1111111111111111,
              "#46039f"
             ],
             [
              0.2222222222222222,
              "#7201a8"
             ],
             [
              0.3333333333333333,
              "#9c179e"
             ],
             [
              0.4444444444444444,
              "#bd3786"
             ],
             [
              0.5555555555555556,
              "#d8576b"
             ],
             [
              0.6666666666666666,
              "#ed7953"
             ],
             [
              0.7777777777777778,
              "#fb9f3a"
             ],
             [
              0.8888888888888888,
              "#fdca26"
             ],
             [
              1,
              "#f0f921"
             ]
            ],
            "type": "heatmapgl"
           }
          ],
          "histogram": [
           {
            "marker": {
             "pattern": {
              "fillmode": "overlay",
              "size": 10,
              "solidity": 0.2
             }
            },
            "type": "histogram"
           }
          ],
          "histogram2d": [
           {
            "colorbar": {
             "outlinewidth": 0,
             "ticks": ""
            },
            "colorscale": [
             [
              0,
              "#0d0887"
             ],
             [
              0.1111111111111111,
              "#46039f"
             ],
             [
              0.2222222222222222,
              "#7201a8"
             ],
             [
              0.3333333333333333,
              "#9c179e"
             ],
             [
              0.4444444444444444,
              "#bd3786"
             ],
             [
              0.5555555555555556,
              "#d8576b"
             ],
             [
              0.6666666666666666,
              "#ed7953"
             ],
             [
              0.7777777777777778,
              "#fb9f3a"
             ],
             [
              0.8888888888888888,
              "#fdca26"
             ],
             [
              1,
              "#f0f921"
             ]
            ],
            "type": "histogram2d"
           }
          ],
          "histogram2dcontour": [
           {
            "colorbar": {
             "outlinewidth": 0,
             "ticks": ""
            },
            "colorscale": [
             [
              0,
              "#0d0887"
             ],
             [
              0.1111111111111111,
              "#46039f"
             ],
             [
              0.2222222222222222,
              "#7201a8"
             ],
             [
              0.3333333333333333,
              "#9c179e"
             ],
             [
              0.4444444444444444,
              "#bd3786"
             ],
             [
              0.5555555555555556,
              "#d8576b"
             ],
             [
              0.6666666666666666,
              "#ed7953"
             ],
             [
              0.7777777777777778,
              "#fb9f3a"
             ],
             [
              0.8888888888888888,
              "#fdca26"
             ],
             [
              1,
              "#f0f921"
             ]
            ],
            "type": "histogram2dcontour"
           }
          ],
          "mesh3d": [
           {
            "colorbar": {
             "outlinewidth": 0,
             "ticks": ""
            },
            "type": "mesh3d"
           }
          ],
          "parcoords": [
           {
            "line": {
             "colorbar": {
              "outlinewidth": 0,
              "ticks": ""
             }
            },
            "type": "parcoords"
           }
          ],
          "pie": [
           {
            "automargin": true,
            "type": "pie"
           }
          ],
          "scatter": [
           {
            "fillpattern": {
             "fillmode": "overlay",
             "size": 10,
             "solidity": 0.2
            },
            "type": "scatter"
           }
          ],
          "scatter3d": [
           {
            "line": {
             "colorbar": {
              "outlinewidth": 0,
              "ticks": ""
             }
            },
            "marker": {
             "colorbar": {
              "outlinewidth": 0,
              "ticks": ""
             }
            },
            "type": "scatter3d"
           }
          ],
          "scattercarpet": [
           {
            "marker": {
             "colorbar": {
              "outlinewidth": 0,
              "ticks": ""
             }
            },
            "type": "scattercarpet"
           }
          ],
          "scattergeo": [
           {
            "marker": {
             "colorbar": {
              "outlinewidth": 0,
              "ticks": ""
             }
            },
            "type": "scattergeo"
           }
          ],
          "scattergl": [
           {
            "marker": {
             "colorbar": {
              "outlinewidth": 0,
              "ticks": ""
             }
            },
            "type": "scattergl"
           }
          ],
          "scattermapbox": [
           {
            "marker": {
             "colorbar": {
              "outlinewidth": 0,
              "ticks": ""
             }
            },
            "type": "scattermapbox"
           }
          ],
          "scatterpolar": [
           {
            "marker": {
             "colorbar": {
              "outlinewidth": 0,
              "ticks": ""
             }
            },
            "type": "scatterpolar"
           }
          ],
          "scatterpolargl": [
           {
            "marker": {
             "colorbar": {
              "outlinewidth": 0,
              "ticks": ""
             }
            },
            "type": "scatterpolargl"
           }
          ],
          "scatterternary": [
           {
            "marker": {
             "colorbar": {
              "outlinewidth": 0,
              "ticks": ""
             }
            },
            "type": "scatterternary"
           }
          ],
          "surface": [
           {
            "colorbar": {
             "outlinewidth": 0,
             "ticks": ""
            },
            "colorscale": [
             [
              0,
              "#0d0887"
             ],
             [
              0.1111111111111111,
              "#46039f"
             ],
             [
              0.2222222222222222,
              "#7201a8"
             ],
             [
              0.3333333333333333,
              "#9c179e"
             ],
             [
              0.4444444444444444,
              "#bd3786"
             ],
             [
              0.5555555555555556,
              "#d8576b"
             ],
             [
              0.6666666666666666,
              "#ed7953"
             ],
             [
              0.7777777777777778,
              "#fb9f3a"
             ],
             [
              0.8888888888888888,
              "#fdca26"
             ],
             [
              1,
              "#f0f921"
             ]
            ],
            "type": "surface"
           }
          ],
          "table": [
           {
            "cells": {
             "fill": {
              "color": "#EBF0F8"
             },
             "line": {
              "color": "white"
             }
            },
            "header": {
             "fill": {
              "color": "#C8D4E3"
             },
             "line": {
              "color": "white"
             }
            },
            "type": "table"
           }
          ]
         },
         "layout": {
          "annotationdefaults": {
           "arrowcolor": "#2a3f5f",
           "arrowhead": 0,
           "arrowwidth": 1
          },
          "autotypenumbers": "strict",
          "coloraxis": {
           "colorbar": {
            "outlinewidth": 0,
            "ticks": ""
           }
          },
          "colorscale": {
           "diverging": [
            [
             0,
             "#8e0152"
            ],
            [
             0.1,
             "#c51b7d"
            ],
            [
             0.2,
             "#de77ae"
            ],
            [
             0.3,
             "#f1b6da"
            ],
            [
             0.4,
             "#fde0ef"
            ],
            [
             0.5,
             "#f7f7f7"
            ],
            [
             0.6,
             "#e6f5d0"
            ],
            [
             0.7,
             "#b8e186"
            ],
            [
             0.8,
             "#7fbc41"
            ],
            [
             0.9,
             "#4d9221"
            ],
            [
             1,
             "#276419"
            ]
           ],
           "sequential": [
            [
             0,
             "#0d0887"
            ],
            [
             0.1111111111111111,
             "#46039f"
            ],
            [
             0.2222222222222222,
             "#7201a8"
            ],
            [
             0.3333333333333333,
             "#9c179e"
            ],
            [
             0.4444444444444444,
             "#bd3786"
            ],
            [
             0.5555555555555556,
             "#d8576b"
            ],
            [
             0.6666666666666666,
             "#ed7953"
            ],
            [
             0.7777777777777778,
             "#fb9f3a"
            ],
            [
             0.8888888888888888,
             "#fdca26"
            ],
            [
             1,
             "#f0f921"
            ]
           ],
           "sequentialminus": [
            [
             0,
             "#0d0887"
            ],
            [
             0.1111111111111111,
             "#46039f"
            ],
            [
             0.2222222222222222,
             "#7201a8"
            ],
            [
             0.3333333333333333,
             "#9c179e"
            ],
            [
             0.4444444444444444,
             "#bd3786"
            ],
            [
             0.5555555555555556,
             "#d8576b"
            ],
            [
             0.6666666666666666,
             "#ed7953"
            ],
            [
             0.7777777777777778,
             "#fb9f3a"
            ],
            [
             0.8888888888888888,
             "#fdca26"
            ],
            [
             1,
             "#f0f921"
            ]
           ]
          },
          "colorway": [
           "#636efa",
           "#EF553B",
           "#00cc96",
           "#ab63fa",
           "#FFA15A",
           "#19d3f3",
           "#FF6692",
           "#B6E880",
           "#FF97FF",
           "#FECB52"
          ],
          "font": {
           "color": "#2a3f5f"
          },
          "geo": {
           "bgcolor": "white",
           "lakecolor": "white",
           "landcolor": "#E5ECF6",
           "showlakes": true,
           "showland": true,
           "subunitcolor": "white"
          },
          "hoverlabel": {
           "align": "left"
          },
          "hovermode": "closest",
          "mapbox": {
           "style": "light"
          },
          "paper_bgcolor": "white",
          "plot_bgcolor": "#E5ECF6",
          "polar": {
           "angularaxis": {
            "gridcolor": "white",
            "linecolor": "white",
            "ticks": ""
           },
           "bgcolor": "#E5ECF6",
           "radialaxis": {
            "gridcolor": "white",
            "linecolor": "white",
            "ticks": ""
           }
          },
          "scene": {
           "xaxis": {
            "backgroundcolor": "#E5ECF6",
            "gridcolor": "white",
            "gridwidth": 2,
            "linecolor": "white",
            "showbackground": true,
            "ticks": "",
            "zerolinecolor": "white"
           },
           "yaxis": {
            "backgroundcolor": "#E5ECF6",
            "gridcolor": "white",
            "gridwidth": 2,
            "linecolor": "white",
            "showbackground": true,
            "ticks": "",
            "zerolinecolor": "white"
           },
           "zaxis": {
            "backgroundcolor": "#E5ECF6",
            "gridcolor": "white",
            "gridwidth": 2,
            "linecolor": "white",
            "showbackground": true,
            "ticks": "",
            "zerolinecolor": "white"
           }
          },
          "shapedefaults": {
           "line": {
            "color": "#2a3f5f"
           }
          },
          "ternary": {
           "aaxis": {
            "gridcolor": "white",
            "linecolor": "white",
            "ticks": ""
           },
           "baxis": {
            "gridcolor": "white",
            "linecolor": "white",
            "ticks": ""
           },
           "bgcolor": "#E5ECF6",
           "caxis": {
            "gridcolor": "white",
            "linecolor": "white",
            "ticks": ""
           }
          },
          "title": {
           "x": 0.05
          },
          "xaxis": {
           "automargin": true,
           "gridcolor": "white",
           "linecolor": "white",
           "ticks": "",
           "title": {
            "standoff": 15
           },
           "zerolinecolor": "white",
           "zerolinewidth": 2
          },
          "yaxis": {
           "automargin": true,
           "gridcolor": "white",
           "linecolor": "white",
           "ticks": "",
           "title": {
            "standoff": 15
           },
           "zerolinecolor": "white",
           "zerolinewidth": 2
          }
         }
        },
        "title": {
         "text": "Plot of execution intensities as a function of the spread, expressed as frequency",
         "x": 0.5
        },
        "xaxis": {
         "color": "black",
         "gridcolor": "black",
         "tickcolor": "black",
         "title": {
          "text": "Tick"
         }
        },
        "yaxis": {
         "color": "black",
         "gridcolor": "black",
         "tickcolor": "black",
         "title": {
          "text": "Execution intensities"
         }
        }
       }
      }
     },
     "metadata": {},
     "output_type": "display_data"
    }
   ],
   "source": [
    "import plotly.graph_objects as go\n",
    "\n",
    "x_values = [0.05, 0.1, 0.15, 0.2, 0.25, 0.3]\n",
    "\n",
    "fig = go.Figure()\n",
    "\n",
    "# Add lines to the plot\n",
    "fig.add_scatter(y=intensity_matrix_a[:,0], x=x_values, mode=\"lines\", name=\"Ba\", line_color=\"Maroon\")\n",
    "fig.add_scatter(y=intensity_matrix_a[:,1], x=x_values, mode=\"lines\", name=\"Ba-\", line_color=\"turquoise\")\n",
    "fig.add_scatter(y=intensity_matrix_b[:,0], x=x_values, mode=\"lines\", name=\"Bb\", line_color=\"darkorange\")\n",
    "fig.add_scatter(y=intensity_matrix_b[:,1], x=x_values, mode=\"lines\", name=\"Bb+\", line_color=\"green\")\n",
    "\n",
    "fig.update_layout(\n",
    "    title_text=\"Plot of execution intensities as a function of the spread, expressed as frequency\",\n",
    "    title_x=0.5,\n",
    "    plot_bgcolor='white',  # set background color to white\n",
    "    paper_bgcolor='white',  # set background color to white\n",
    "    font=dict(color='black'),  # set font color to black\n",
    "    xaxis=dict(title_text=\"Tick\", color='black', tickcolor='black', gridcolor='black'),  # set x-axis color, tick color, grid color, and grid width\n",
    "    yaxis=dict(title_text=\"Execution intensities\", color='black', tickcolor='black', gridcolor='black'),  # set y-axis color, tick color, grid color, and grid width\n",
    ")\n",
    "\n",
    "fig.show()"
   ]
  },
  {
   "cell_type": "markdown",
   "metadata": {},
   "source": [
    "# Price process"
   ]
  },
  {
   "cell_type": "markdown",
   "metadata": {},
   "source": [
    "The price is assumed to follow Bachelier model dynamics given by: \n",
    "$$dP_t=bdt+\\sigma dW_t$$\n",
    "Therefore:\n",
    "$$P_t = P_0 + bt + \\sigma W_t$$"
   ]
  },
  {
   "cell_type": "code",
   "execution_count": 108,
   "metadata": {},
   "outputs": [],
   "source": [
    "def price_sim(b, P_0, t, sigma, W):\n",
    "    return P_0 + b * t + sigma * W  # Bachelier model dynamics"
   ]
  },
  {
   "cell_type": "code",
   "execution_count": 109,
   "metadata": {},
   "outputs": [],
   "source": [
    "timeline = np.sort(np.concatenate((orders_a, orders_b, PPP_spread[1])))  # merged times at which there is a trade execution or change of spread\n",
    "W_t = np.cumsum(np.concatenate(([0], np.random.normal(0, np.sqrt(T * dt), int(1 / dt))))) # simulation of Brownian motion between subsequent times (variance equal to time difference)\n",
    "t_price = np.arange(0, T + T * dt / 2, T * dt) \n",
    "\n",
    "p_t = price_sim(b, P_0, t_price, sigma, np.array(W_t))  # final price process"
   ]
  },
  {
   "cell_type": "code",
   "execution_count": 110,
   "metadata": {},
   "outputs": [
    {
     "data": {
      "application/vnd.plotly.v1+json": {
       "config": {
        "plotlyServerURL": "https://plot.ly"
       },
       "data": [
        {
         "hovertemplate": "variable=0<br>index=%{x}<br>value=%{y}<extra></extra>",
         "legendgroup": "0",
         "line": {
          "color": "maroon",
          "dash": "solid"
         },
         "marker": {
          "symbol": "circle"
         },
         "mode": "lines",
         "name": "0",
         "showlegend": true,
         "type": "scattergl",
         "x": [
          0,
          1,
          2,
          3,
          4,
          5,
          6,
          7,
          8,
          9,
          10,
          11,
          12,
          13,
          14,
          15,
          16,
          17,
          18,
          19,
          20,
          21,
          22,
          23,
          24,
          25,
          26,
          27,
          28,
          29,
          30,
          31,
          32,
          33,
          34,
          35,
          36,
          37,
          38,
          39,
          40,
          41,
          42,
          43,
          44,
          45,
          46,
          47,
          48,
          49,
          50,
          51,
          52,
          53,
          54,
          55,
          56,
          57,
          58,
          59,
          60,
          61,
          62,
          63,
          64,
          65,
          66,
          67,
          68,
          69,
          70,
          71,
          72,
          73,
          74,
          75,
          76,
          77,
          78,
          79,
          80,
          81,
          82,
          83,
          84,
          85,
          86,
          87,
          88,
          89,
          90,
          91,
          92,
          93,
          94,
          95,
          96,
          97,
          98,
          99,
          100,
          101,
          102,
          103,
          104,
          105,
          106,
          107,
          108,
          109,
          110,
          111,
          112,
          113,
          114,
          115,
          116,
          117,
          118,
          119,
          120,
          121,
          122,
          123,
          124,
          125,
          126,
          127,
          128,
          129,
          130,
          131,
          132,
          133,
          134,
          135,
          136,
          137,
          138,
          139,
          140,
          141,
          142,
          143,
          144,
          145,
          146,
          147,
          148,
          149,
          150,
          151,
          152,
          153,
          154,
          155,
          156,
          157,
          158,
          159,
          160,
          161,
          162,
          163,
          164,
          165,
          166,
          167,
          168,
          169,
          170,
          171,
          172,
          173,
          174,
          175,
          176,
          177,
          178,
          179,
          180,
          181,
          182,
          183,
          184,
          185,
          186,
          187,
          188,
          189,
          190,
          191,
          192,
          193,
          194,
          195,
          196,
          197,
          198,
          199,
          200,
          201,
          202,
          203,
          204,
          205,
          206,
          207,
          208,
          209,
          210,
          211,
          212,
          213,
          214,
          215,
          216,
          217,
          218,
          219,
          220,
          221,
          222,
          223,
          224,
          225,
          226,
          227,
          228,
          229,
          230,
          231,
          232,
          233,
          234,
          235,
          236,
          237,
          238,
          239,
          240,
          241,
          242,
          243,
          244,
          245,
          246,
          247,
          248,
          249,
          250,
          251,
          252,
          253,
          254,
          255,
          256,
          257,
          258,
          259,
          260,
          261,
          262,
          263,
          264,
          265,
          266,
          267,
          268,
          269,
          270,
          271,
          272,
          273,
          274,
          275,
          276,
          277,
          278,
          279,
          280,
          281,
          282,
          283,
          284,
          285,
          286,
          287,
          288,
          289,
          290,
          291,
          292,
          293,
          294,
          295,
          296,
          297,
          298,
          299,
          300,
          301,
          302,
          303,
          304,
          305,
          306,
          307,
          308,
          309,
          310,
          311,
          312,
          313,
          314,
          315,
          316,
          317,
          318,
          319,
          320,
          321,
          322,
          323,
          324,
          325,
          326,
          327,
          328,
          329,
          330,
          331,
          332,
          333,
          334,
          335,
          336,
          337,
          338,
          339,
          340,
          341,
          342,
          343,
          344,
          345,
          346,
          347,
          348,
          349,
          350,
          351,
          352,
          353,
          354,
          355,
          356,
          357,
          358,
          359,
          360,
          361,
          362,
          363,
          364,
          365,
          366,
          367,
          368,
          369,
          370,
          371,
          372,
          373,
          374,
          375,
          376,
          377,
          378,
          379,
          380,
          381,
          382,
          383,
          384,
          385,
          386,
          387,
          388,
          389,
          390,
          391,
          392,
          393,
          394,
          395,
          396,
          397,
          398,
          399,
          400,
          401,
          402,
          403,
          404,
          405,
          406,
          407,
          408,
          409,
          410,
          411,
          412,
          413,
          414,
          415,
          416,
          417,
          418,
          419,
          420,
          421,
          422,
          423,
          424,
          425,
          426,
          427,
          428,
          429,
          430,
          431,
          432,
          433,
          434,
          435,
          436,
          437,
          438,
          439,
          440,
          441,
          442,
          443,
          444,
          445,
          446,
          447,
          448,
          449,
          450,
          451,
          452,
          453,
          454,
          455,
          456,
          457,
          458,
          459,
          460,
          461,
          462,
          463,
          464,
          465,
          466,
          467,
          468,
          469,
          470,
          471,
          472,
          473,
          474,
          475,
          476,
          477,
          478,
          479,
          480,
          481,
          482,
          483,
          484,
          485,
          486,
          487,
          488,
          489,
          490,
          491,
          492,
          493,
          494,
          495,
          496,
          497,
          498,
          499,
          500,
          501,
          502,
          503,
          504,
          505,
          506,
          507,
          508,
          509,
          510,
          511,
          512,
          513,
          514,
          515,
          516,
          517,
          518,
          519,
          520,
          521,
          522,
          523,
          524,
          525,
          526,
          527,
          528,
          529,
          530,
          531,
          532,
          533,
          534,
          535,
          536,
          537,
          538,
          539,
          540,
          541,
          542,
          543,
          544,
          545,
          546,
          547,
          548,
          549,
          550,
          551,
          552,
          553,
          554,
          555,
          556,
          557,
          558,
          559,
          560,
          561,
          562,
          563,
          564,
          565,
          566,
          567,
          568,
          569,
          570,
          571,
          572,
          573,
          574,
          575,
          576,
          577,
          578,
          579,
          580,
          581,
          582,
          583,
          584,
          585,
          586,
          587,
          588,
          589,
          590,
          591,
          592,
          593,
          594,
          595,
          596,
          597,
          598,
          599,
          600,
          601,
          602,
          603,
          604,
          605,
          606,
          607,
          608,
          609,
          610,
          611,
          612,
          613,
          614,
          615,
          616,
          617,
          618,
          619,
          620,
          621,
          622,
          623,
          624,
          625,
          626,
          627,
          628,
          629,
          630,
          631,
          632,
          633,
          634,
          635,
          636,
          637,
          638,
          639,
          640,
          641,
          642,
          643,
          644,
          645,
          646,
          647,
          648,
          649,
          650,
          651,
          652,
          653,
          654,
          655,
          656,
          657,
          658,
          659,
          660,
          661,
          662,
          663,
          664,
          665,
          666,
          667,
          668,
          669,
          670,
          671,
          672,
          673,
          674,
          675,
          676,
          677,
          678,
          679,
          680,
          681,
          682,
          683,
          684,
          685,
          686,
          687,
          688,
          689,
          690,
          691,
          692,
          693,
          694,
          695,
          696,
          697,
          698,
          699,
          700,
          701,
          702,
          703,
          704,
          705,
          706,
          707,
          708,
          709,
          710,
          711,
          712,
          713,
          714,
          715,
          716,
          717,
          718,
          719,
          720,
          721,
          722,
          723,
          724,
          725,
          726,
          727,
          728,
          729,
          730,
          731,
          732,
          733,
          734,
          735,
          736,
          737,
          738,
          739,
          740,
          741,
          742,
          743,
          744,
          745,
          746,
          747,
          748,
          749,
          750,
          751,
          752,
          753,
          754,
          755,
          756,
          757,
          758,
          759,
          760,
          761,
          762,
          763,
          764,
          765,
          766,
          767,
          768,
          769,
          770,
          771,
          772,
          773,
          774,
          775,
          776,
          777,
          778,
          779,
          780,
          781,
          782,
          783,
          784,
          785,
          786,
          787,
          788,
          789,
          790,
          791,
          792,
          793,
          794,
          795,
          796,
          797,
          798,
          799,
          800,
          801,
          802,
          803,
          804,
          805,
          806,
          807,
          808,
          809,
          810,
          811,
          812,
          813,
          814,
          815,
          816,
          817,
          818,
          819,
          820,
          821,
          822,
          823,
          824,
          825,
          826,
          827,
          828,
          829,
          830,
          831,
          832,
          833,
          834,
          835,
          836,
          837,
          838,
          839,
          840,
          841,
          842,
          843,
          844,
          845,
          846,
          847,
          848,
          849,
          850,
          851,
          852,
          853,
          854,
          855,
          856,
          857,
          858,
          859,
          860,
          861,
          862,
          863,
          864,
          865,
          866,
          867,
          868,
          869,
          870,
          871,
          872,
          873,
          874,
          875,
          876,
          877,
          878,
          879,
          880,
          881,
          882,
          883,
          884,
          885,
          886,
          887,
          888,
          889,
          890,
          891,
          892,
          893,
          894,
          895,
          896,
          897,
          898,
          899,
          900,
          901,
          902,
          903,
          904,
          905,
          906,
          907,
          908,
          909,
          910,
          911,
          912,
          913,
          914,
          915,
          916,
          917,
          918,
          919,
          920,
          921,
          922,
          923,
          924,
          925,
          926,
          927,
          928,
          929,
          930,
          931,
          932,
          933,
          934,
          935,
          936,
          937,
          938,
          939,
          940,
          941,
          942,
          943,
          944,
          945,
          946,
          947,
          948,
          949,
          950,
          951,
          952,
          953,
          954,
          955,
          956,
          957,
          958,
          959,
          960,
          961,
          962,
          963,
          964,
          965,
          966,
          967,
          968,
          969,
          970,
          971,
          972,
          973,
          974,
          975,
          976,
          977,
          978,
          979,
          980,
          981,
          982,
          983,
          984,
          985,
          986,
          987,
          988,
          989,
          990,
          991,
          992,
          993,
          994,
          995,
          996,
          997,
          998,
          999,
          1000
         ],
         "xaxis": "x",
         "y": [
          45,
          45.011176426804795,
          45.036436200597045,
          45.03140032893113,
          44.92112177904901,
          44.9731922130378,
          44.95147768608948,
          44.90460676537614,
          44.85113098099842,
          44.86306574737006,
          44.789108364405905,
          44.72427098875995,
          44.72832722021333,
          44.760058572662494,
          44.77463053273087,
          44.91980500441783,
          44.88383756170982,
          44.94128423973302,
          44.95036811582807,
          44.96434866917997,
          45.02012444922694,
          44.996965636213304,
          45.00075212431581,
          45.00616494357203,
          45.04146816896707,
          45.058275669965674,
          45.08388601193868,
          45.06872969458423,
          45.056157744541345,
          45.114550900182245,
          45.19444815862348,
          45.284974005519274,
          45.30799036520324,
          45.21027983150343,
          45.26909787233138,
          45.266533250747216,
          45.27566068502511,
          45.28057752668096,
          45.325846200049405,
          45.37407983085976,
          45.354783370455955,
          45.35131634214086,
          45.2915199627875,
          45.339563132796854,
          45.324703536944206,
          45.31534107726657,
          45.284409828269595,
          45.283665433239555,
          45.349823705942974,
          45.37340017838211,
          45.47636374575359,
          45.40292789921947,
          45.51941802571347,
          45.48972790671501,
          45.5435482890858,
          45.4722750832983,
          45.478938210821894,
          45.50296961934502,
          45.59891865456044,
          45.53997810120488,
          45.51984483934182,
          45.474486404123525,
          45.398794668767295,
          45.38135961646948,
          45.467810557573806,
          45.44573767504378,
          45.39568665369524,
          45.3764762532592,
          45.44526624180212,
          45.49928606931368,
          45.49731834711138,
          45.47622370491933,
          45.482607263312225,
          45.41504507083044,
          45.47921753375503,
          45.48413268899423,
          45.43870428429513,
          45.40565023164443,
          45.337405340219895,
          45.3841912906319,
          45.3558797487272,
          45.3640647797134,
          45.32200884522859,
          45.235053954343186,
          45.256905711154666,
          45.27278658454903,
          45.21083409031649,
          45.29270813985276,
          45.33076319312833,
          45.3884471037255,
          45.34561132526912,
          45.33724737797855,
          45.37270089772799,
          45.39573377555764,
          45.449087197180056,
          45.525198286436996,
          45.541446406551536,
          45.48268444010381,
          45.43066317356654,
          45.39160113419264,
          45.39654213957544,
          45.26682304068703,
          45.26314000944245,
          45.2191675814576,
          45.27553609184182,
          45.26823297657762,
          45.244547375740815,
          45.38569480912342,
          45.32580049663628,
          45.3136180827986,
          45.358710699021685,
          45.38447102968006,
          45.40656587764003,
          45.36181456766781,
          45.42717096745437,
          45.47615893158993,
          45.427093983219876,
          45.38797927149256,
          45.46989938653833,
          45.378630056989856,
          45.51192154867741,
          45.5166276538713,
          45.38577685713217,
          45.4854663928712,
          45.52331790200754,
          45.44762740263595,
          45.431959865704044,
          45.32799421293801,
          45.34587517773416,
          45.45288900889009,
          45.43037810806026,
          45.531997942315236,
          45.5833164753441,
          45.64073077536837,
          45.668274541283196,
          45.658686144473755,
          45.70147965574112,
          45.69406081550549,
          45.61199966235264,
          45.5680412464049,
          45.57433332367966,
          45.56241456637115,
          45.58881922806374,
          45.56641628762896,
          45.5875738084332,
          45.60220603891854,
          45.59581625888948,
          45.58014400082084,
          45.5345337726482,
          45.554774057664574,
          45.65148100052379,
          45.6491073320122,
          45.61173621825662,
          45.578563931213665,
          45.69912688113146,
          45.72314310993274,
          45.64723866587707,
          45.6023457081166,
          45.64150555192213,
          45.62222217375358,
          45.51504784298755,
          45.48725994291371,
          45.55785653825294,
          45.63817738695562,
          45.56521980867439,
          45.60183403081172,
          45.63110168122834,
          45.605461978572826,
          45.65071309207683,
          45.60063817422066,
          45.51404166296666,
          45.50160477587051,
          45.43710776280045,
          45.33379666004206,
          45.27877175824519,
          45.310562842545124,
          45.40461550074752,
          45.402234041102986,
          45.341645087542915,
          45.335911122298356,
          45.3013906108513,
          45.26699198253461,
          45.25592869838232,
          45.3112354860583,
          45.34207149683261,
          45.313464416819286,
          45.24829850448246,
          45.18538568918504,
          45.18657371937548,
          45.25138253853795,
          45.34344690125788,
          45.38225359529675,
          45.43709917137759,
          45.53209486911388,
          45.414327594778804,
          45.46652040708122,
          45.5703269878553,
          45.552408899039385,
          45.52729258466777,
          45.6476652572055,
          45.68108868622743,
          45.68981094618919,
          45.61869645069963,
          45.519078313717344,
          45.5458489644208,
          45.50800740807458,
          45.48227479109547,
          45.45992927746102,
          45.38954110243144,
          45.38810666851278,
          45.531497971806914,
          45.57031512427294,
          45.585760115170416,
          45.63809003665399,
          45.565357637826615,
          45.63638339135578,
          45.72790349252859,
          45.65879803541169,
          45.67911547823904,
          45.673496152329506,
          45.716297396097644,
          45.77909628537919,
          45.78790113156751,
          45.75993187114198,
          45.77942272362402,
          45.710674580896026,
          45.63828884013704,
          45.72107538060348,
          45.769958053151356,
          45.79704814179437,
          45.7595722746669,
          45.687399173581724,
          45.67515162121806,
          45.62584784933846,
          45.735326226992804,
          45.760450197480004,
          45.734341056681046,
          45.73760796192575,
          45.73540505005717,
          45.839521102057695,
          45.79869840380156,
          45.78200109382715,
          45.719310592391494,
          45.69032185795858,
          45.70409991076239,
          45.754168362726716,
          45.76218864210465,
          45.78051351353302,
          45.76249105025561,
          45.72536406881185,
          45.648596419464084,
          45.711271153820555,
          45.78399933494077,
          45.81803964606202,
          45.75938552889151,
          45.702826548457445,
          45.772226869600836,
          45.79310331488874,
          45.79208863632124,
          45.85385062725401,
          45.82687292068454,
          45.80153896378489,
          45.79356365415392,
          45.77552680399953,
          45.740731060579996,
          45.744572732761725,
          45.68834645348929,
          45.79180422666682,
          45.79923121037477,
          45.842664313718544,
          45.90591707263556,
          45.85492429049076,
          45.825000525969635,
          45.752915599893875,
          45.78226147917445,
          45.8267822608125,
          45.780389173890256,
          45.767701198275155,
          45.75584062564327,
          45.71291675814555,
          45.666927930310315,
          45.58915659982099,
          45.60064681521681,
          45.63134098361184,
          45.67773398352736,
          45.706851551608466,
          45.683931280165886,
          45.64296414862885,
          45.64560824878295,
          45.659352126449235,
          45.65599967108304,
          45.58464892726876,
          45.60170944946052,
          45.60327103315564,
          45.591950507900805,
          45.592850344979546,
          45.61894220080854,
          45.520270330916055,
          45.493082556496816,
          45.46411866391959,
          45.50878768409586,
          45.524674594964566,
          45.55234052922304,
          45.51614373842111,
          45.46410823404834,
          45.432136143817246,
          45.463848964514824,
          45.466064495142504,
          45.44174161988477,
          45.37957632825957,
          45.39345737723982,
          45.31865962567635,
          45.27970620895168,
          45.2539974974079,
          45.20015118728729,
          45.30682887436352,
          45.32593771143418,
          45.31672820026561,
          45.31907194552047,
          45.35440624706506,
          45.29689032968993,
          45.32283962379089,
          45.40971789886912,
          45.40605517660587,
          45.408695049882525,
          45.387413049345696,
          45.407590890121334,
          45.31808272238816,
          45.36518969119507,
          45.245357180862605,
          45.363951957088794,
          45.35432739169657,
          45.36792833492546,
          45.409615841269606,
          45.36358283950634,
          45.401419899835226,
          45.507647195460386,
          45.53419181096256,
          45.475408690070786,
          45.4845252524792,
          45.53961145469296,
          45.497040585778336,
          45.54473272898776,
          45.50971704868254,
          45.54198250844192,
          45.57243696357636,
          45.661521364936974,
          45.76830778717268,
          45.824848213737134,
          45.76212239282681,
          45.758447397478626,
          45.81970704760288,
          45.78172434252977,
          45.73736957356939,
          45.7523170633969,
          45.751419591002985,
          45.754611798283264,
          45.71498244776451,
          45.7608732863326,
          45.780844622656375,
          45.74803375694972,
          45.70637384834838,
          45.73885511996661,
          45.783580264252,
          45.79407409353184,
          45.845725425544344,
          45.88469328506,
          45.816451161079726,
          45.777622669202145,
          45.74733758834805,
          45.79275615868218,
          45.71846748482625,
          45.674377489961564,
          45.67533497164221,
          45.65016845682692,
          45.733643810153914,
          45.7068355456629,
          45.7201916149368,
          45.64396708790992,
          45.62537791862387,
          45.760945079434975,
          45.7581148510421,
          45.756324034934,
          45.63709737948711,
          45.58071523754863,
          45.587000018844726,
          45.62934671488832,
          45.64837196552682,
          45.55156271213729,
          45.60879288777403,
          45.48762439558725,
          45.50576653226312,
          45.54782560442671,
          45.56400938419095,
          45.53319403987121,
          45.47493371401892,
          45.453208360529395,
          45.461035247343844,
          45.39235215073799,
          45.371637239340984,
          45.3715030696075,
          45.26256892746776,
          45.261778021977776,
          45.292039559955896,
          45.320543204543306,
          45.336359238542016,
          45.244106567742655,
          45.26748812095491,
          45.26003636428594,
          45.28693684764092,
          45.31559083640623,
          45.30355825176736,
          45.389317592387016,
          45.438711917156716,
          45.42520809342421,
          45.43387298877816,
          45.35223697585372,
          45.44075299513518,
          45.45604594670176,
          45.50344204958854,
          45.437019612532566,
          45.399640411771,
          45.34989719404325,
          45.4051661996193,
          45.37975178018912,
          45.34340354121398,
          45.33165738110505,
          45.33509106965849,
          45.39869565504696,
          45.44827540998116,
          45.42753002321407,
          45.45277180057911,
          45.456733789426146,
          45.3493091775466,
          45.41341244972845,
          45.362348424417036,
          45.27908493531921,
          45.16716343808844,
          45.14376315568426,
          45.110368618480294,
          45.136447217014776,
          45.18832449233263,
          45.142830297044625,
          45.11100699276811,
          45.07438395502787,
          44.9890342194975,
          45.03180685947444,
          44.96358596014757,
          44.869628695733894,
          44.89667144780747,
          44.990469182080744,
          44.94755599466507,
          44.98383953362229,
          44.94473875211718,
          44.90677117125175,
          44.883217480106545,
          44.825844625580366,
          44.83968515157604,
          44.781911688948945,
          44.785608095335725,
          44.82008909957808,
          44.779727971162885,
          44.848773056644994,
          44.94831910543136,
          44.989597423312965,
          45.015792131346785,
          45.07703912853931,
          45.12438939298668,
          45.157428971824245,
          45.17032160718138,
          45.180061333382405,
          45.13842584757008,
          45.09556869310369,
          45.060485701147456,
          44.94699390130128,
          44.90938769672665,
          44.930780042246795,
          44.95528362461049,
          44.876628760467725,
          44.79734495676177,
          44.85128607789849,
          44.75043844468237,
          44.76233147046224,
          44.72346854324093,
          44.733416824910954,
          44.70914165400238,
          44.74080933085251,
          44.79409897507662,
          44.88760001940723,
          44.84501806188501,
          44.8395450240229,
          44.89841959341601,
          44.88190284706381,
          44.8362034748101,
          44.77596571662475,
          44.677600077316576,
          44.66110272911565,
          44.606716688364244,
          44.529695757231615,
          44.297328780942394,
          44.1936011527159,
          44.11812483429562,
          44.14411261779345,
          44.17001159581115,
          44.09024754542195,
          44.08383724931119,
          44.01616448573996,
          44.00485157743152,
          43.95271334610143,
          43.93863198604247,
          43.88202137457221,
          43.91450461377998,
          44.008959500533116,
          43.988430790499706,
          44.021985432781925,
          44.03693001644185,
          43.99737194822531,
          43.915291806766234,
          43.79966354523114,
          43.93379483889547,
          43.82032745967413,
          43.72988316261194,
          43.727266778393414,
          43.619837772436284,
          43.58703659088025,
          43.56254265289031,
          43.508456554824356,
          43.46941930937654,
          43.43208835414774,
          43.31640116568474,
          43.211240499730664,
          43.22749178539043,
          43.27432824043273,
          43.11693573079965,
          43.235535262079416,
          43.22407136607973,
          43.25419220732983,
          43.26286202620112,
          43.30305790953941,
          43.2817411329268,
          43.36776581349559,
          43.299790287875766,
          43.25645908174989,
          43.28161273646498,
          43.240369820775776,
          43.29932316545137,
          43.373036660622645,
          43.411085032753,
          43.32259503916214,
          43.1644502162549,
          43.21151964136724,
          43.195331336089026,
          43.20960792014656,
          43.20070886893201,
          43.264115860930914,
          43.26951020980365,
          43.26721618880777,
          43.24787024647292,
          43.21488911279168,
          43.279054853484055,
          43.270092977448336,
          43.25025890815079,
          43.25661519778944,
          43.31628312230292,
          43.362945992439116,
          43.291357793968416,
          43.23058281644585,
          43.189519886566,
          43.10951223052054,
          43.046114538133835,
          42.96113158940024,
          43.0507136294601,
          43.05953725101806,
          43.094032726008116,
          43.0543532854184,
          43.07973929487632,
          43.011553465092526,
          43.06130964164318,
          43.05108018477894,
          42.980309990683025,
          43.041036938199696,
          43.017230356048785,
          43.04090277420395,
          43.00165875321342,
          43.09735998573284,
          43.13991319246327,
          43.14152961544543,
          43.136666732982164,
          43.15974378763373,
          43.2023394762281,
          43.20137948592033,
          43.145677969477205,
          43.17394571561679,
          43.15383079805536,
          43.15299182740381,
          43.11903250129366,
          43.18068040048746,
          43.20441936550281,
          43.232021927389425,
          43.21756881082006,
          43.19274377897852,
          43.27204587229293,
          43.256964471327294,
          43.220620138435606,
          43.22724684444715,
          43.19149837254108,
          43.20848596307163,
          43.20001292308409,
          43.19576131481902,
          43.200818668574115,
          43.21978905599506,
          43.15559668516367,
          43.15161900153126,
          43.164978125256674,
          43.115082778410695,
          43.089928501099976,
          43.06226208799731,
          43.07891622026874,
          43.18087277936596,
          43.296763988054735,
          43.35335490875137,
          43.33035675594263,
          43.41395107570638,
          43.38002325946477,
          43.33269809167334,
          43.341478029237415,
          43.335978626673544,
          43.30603788069185,
          43.353430582120474,
          43.34503802135167,
          43.24579335544871,
          43.18674172677004,
          43.146989228966305,
          43.20448190180718,
          43.21078117165612,
          43.207091559177286,
          43.19104687190531,
          43.279286097963315,
          43.32401628689845,
          43.25152056869742,
          43.35607428661134,
          43.36589241497392,
          43.361711007523276,
          43.38568534040087,
          43.51494446178694,
          43.43716441035737,
          43.50848397714762,
          43.437245456010174,
          43.40424579770618,
          43.50570893121295,
          43.473052140216254,
          43.353042691892846,
          43.451612769885784,
          43.46237941949474,
          43.47675222584931,
          43.44459812559677,
          43.511873698670264,
          43.496374147153375,
          43.49399330552387,
          43.483884787138976,
          43.3951476226061,
          43.465693024037805,
          43.43231184587071,
          43.46995387378195,
          43.45216300218843,
          43.52509534461193,
          43.54929975067771,
          43.567527054519886,
          43.571954300240044,
          43.59494783124294,
          43.677027448165525,
          43.73013149382801,
          43.7137484670966,
          43.633249599697415,
          43.64947302870589,
          43.58236957831332,
          43.51927267769649,
          43.427636608476526,
          43.35828458791154,
          43.39290272066845,
          43.430482074120846,
          43.401535920162395,
          43.38847262387436,
          43.43147753965316,
          43.44440583244194,
          43.393876263672965,
          43.356549744838006,
          43.220650434217504,
          43.19281091748394,
          43.1941051129068,
          43.1768253500401,
          43.178480321188125,
          43.11606529032886,
          43.076645456446784,
          42.99286084515815,
          42.93342161712844,
          42.90264687986272,
          42.8823232569244,
          42.915795407943634,
          42.85962292371226,
          42.7957813773402,
          42.69352600791895,
          42.742260250085366,
          42.74363273555496,
          42.683893188630975,
          42.66074356928679,
          42.672199932575005,
          42.65938801100127,
          42.632129210607815,
          42.62463093368659,
          42.65755689210092,
          42.66802184344959,
          42.7183830228317,
          42.67009288881386,
          42.67268211286259,
          42.70344019203174,
          42.702246900877185,
          42.63488573524496,
          42.62778917216193,
          42.712577460175496,
          42.710117051224486,
          42.71429399717373,
          42.66861866888787,
          42.617429709742595,
          42.596632422825195,
          42.64622493673244,
          42.66534090094541,
          42.67874605106121,
          42.70595843775642,
          42.744885242743784,
          42.75206886404887,
          42.804205963111606,
          42.83420228725003,
          42.82599942131145,
          42.882893020780735,
          42.918450268944106,
          42.77258037452542,
          42.73691571742162,
          42.7280648400356,
          42.77836779844019,
          42.74154745002002,
          42.76118169818234,
          42.67256300136184,
          42.750657378270624,
          42.73189684927754,
          42.732907264495346,
          42.70007106655625,
          42.76243335797386,
          42.79000095260927,
          42.91286454352239,
          42.89324969130642,
          42.809840842779344,
          42.782725516866755,
          42.823321978973446,
          42.745270680371796,
          42.72711269556685,
          42.66881713646248,
          42.693513209726504,
          42.702180818947504,
          42.77213641476978,
          42.77134393587175,
          42.7250438701938,
          42.74767380332939,
          42.80558658100032,
          42.76608361646643,
          42.80255198650519,
          42.832834327485145,
          42.83058893541221,
          42.91070831055434,
          42.933452655695746,
          42.95948556785294,
          42.867103084519535,
          42.882682470829344,
          42.86513111257819,
          42.85708334192674,
          42.86533488785375,
          42.853354905405595,
          42.83049404056223,
          42.84318861624856,
          42.773565480855694,
          42.695695980295035,
          42.6569055041892,
          42.66640085512011,
          42.76088105716843,
          42.78855975741693,
          42.852600737257134,
          42.789996255441565,
          42.78058141463415,
          42.773530522338795,
          42.69932836120814,
          42.6936189149366,
          42.66372594278926,
          42.77559524959556,
          42.746253200592605,
          42.7486541851458,
          42.64706418031148,
          42.62030798735499,
          42.50203948305188,
          42.53676987615992,
          42.603816964311356,
          42.52631220384134,
          42.50913071135521,
          42.52616025273568,
          42.5876029784686,
          42.52966135335547,
          42.56307746564716,
          42.482945086690194,
          42.459679991200616,
          42.47151551570843,
          42.51067270863416,
          42.4791893390088,
          42.45593809534379,
          42.51547973490566,
          42.58295228518001,
          42.66513051556309,
          42.66721542357159,
          42.75276577692317,
          42.71351340717346,
          42.69050881304546,
          42.65257985639387,
          42.632219541588135,
          42.63762995456103,
          42.54534897416123,
          42.49725057992213,
          42.496937440554944,
          42.427253414102985,
          42.48751046779499,
          42.368964026696766,
          42.322835277559214,
          42.40265229853881,
          42.43408105866242,
          42.446417628778725,
          42.48819977250573,
          42.53736400084249,
          42.50775015545774,
          42.4941795071768,
          42.463678197585565,
          42.51287768393048,
          42.464020032709186,
          42.4802633673064,
          42.40232412931271,
          42.354466731298025,
          42.36510996048246,
          42.41381011250758,
          42.370273444806095,
          42.36641125887944,
          42.31947577774942,
          42.27912435713484,
          42.28157895037062,
          42.339959054032185,
          42.442997280921,
          42.44530151239496,
          42.39463758325585,
          42.280938582343786,
          42.21838276056932,
          42.27367589877653,
          42.287790813487426,
          42.306561546694034,
          42.25849778506199,
          42.24442405300099,
          42.26930997413962,
          42.2848681018946,
          42.300679506344046,
          42.32197726232853,
          42.37062528191903,
          42.288354829396596,
          42.27550082712809,
          42.22410208057003,
          42.24753094582013,
          42.22157946903394,
          42.217735375453024,
          42.29354278967242,
          42.26041594887652,
          42.29865966622401,
          42.26806100447025,
          42.25840527193511,
          42.27015216377587,
          42.32664740799375,
          42.28023795713149,
          42.18236568864886,
          42.14005932842813,
          42.02968381462109,
          42.11900703426456,
          42.18164015971375,
          42.23830903079631,
          42.295740559299844,
          42.33042971105026,
          42.371700263145435,
          42.32352886247527,
          42.47234215070063,
          42.51782523820272,
          42.47699610586689,
          42.433850448142884,
          42.436618150617136,
          42.42347686465749,
          42.49444501807686,
          42.515843156532746,
          42.54435522230207,
          42.46852398088774,
          42.46724608586368,
          42.58190190039264,
          42.62604790024833,
          42.54981373819453,
          42.553056209038935,
          42.597997910415565,
          42.64882108756902,
          42.61470266651545,
          42.60042885698271,
          42.636591460319956,
          42.748586347264144,
          42.66342451418604,
          42.53206089490635,
          42.55105750889354,
          42.508946755732076,
          42.46678742966356,
          42.37446974325731,
          42.33003537784247,
          42.36505969791384,
          42.431051628187475,
          42.50335804667101,
          42.6157317115187,
          42.63339097598468,
          42.725601610623926,
          42.67734466497665,
          42.681867206623586,
          42.70671056459414,
          42.74315178569428,
          42.69331445625081,
          42.660069767957424,
          42.64354674565483,
          42.70471643921487,
          42.72371476408326,
          42.75319609689768,
          42.814832387073615,
          42.9167552935471,
          42.85996063259208,
          42.817189451561596,
          42.78772644144716,
          42.78238438093606,
          42.89342973595239,
          42.90334001216375,
          42.84884859577668,
          42.78732809624849,
          42.8534013885677,
          42.88870885550596,
          42.85898181170905,
          42.841750067037,
          42.962608939356706,
          42.91537760731706,
          42.98327744505327,
          43.03361730203952,
          43.0451097696749,
          43.05134498429751,
          43.02104146989651,
          42.96695176021344,
          43.026560158283324,
          42.935779757577635,
          42.984025908428755,
          43.00753540405586,
          43.05629576147681,
          43.09012790099745,
          43.03035378116145,
          43.05071346088639,
          42.98241452484104,
          43.07238336388401,
          43.116649092593875,
          43.13299803101903,
          43.162381751507965,
          43.030629056524035,
          43.03708340280846,
          43.01220185881666,
          43.05964041100327,
          43.14668247103817,
          43.15502023540477,
          43.18573635761336,
          43.227605672864954,
          43.12990108791532,
          43.08725630138102,
          43.014522918907666,
          42.93142853508323,
          42.92473235625297,
          42.978632707018406,
          42.870005273660475,
          42.86191437988854,
          42.89499856441933,
          42.94761070136283,
          43.03368331664571,
          43.044279888650756,
          43.00348149136458,
          42.99507363408073,
          43.000619744384245,
          42.89359547568426,
          43.058021398995024,
          43.10787617571257,
          43.21077955898161,
          43.18244038695196,
          43.147636671284125,
          43.201638675980014,
          43.134232237192,
          43.173323391656545,
          43.211528543378314
         ],
         "yaxis": "y"
        }
       ],
       "layout": {
        "font": {
         "color": "black"
        },
        "legend": {
         "title": {
          "text": "variable"
         },
         "tracegroupgap": 0
        },
        "margin": {
         "t": 60
        },
        "paper_bgcolor": "white",
        "plot_bgcolor": "white",
        "template": {
         "data": {
          "bar": [
           {
            "error_x": {
             "color": "#2a3f5f"
            },
            "error_y": {
             "color": "#2a3f5f"
            },
            "marker": {
             "line": {
              "color": "#E5ECF6",
              "width": 0.5
             },
             "pattern": {
              "fillmode": "overlay",
              "size": 10,
              "solidity": 0.2
             }
            },
            "type": "bar"
           }
          ],
          "barpolar": [
           {
            "marker": {
             "line": {
              "color": "#E5ECF6",
              "width": 0.5
             },
             "pattern": {
              "fillmode": "overlay",
              "size": 10,
              "solidity": 0.2
             }
            },
            "type": "barpolar"
           }
          ],
          "carpet": [
           {
            "aaxis": {
             "endlinecolor": "#2a3f5f",
             "gridcolor": "white",
             "linecolor": "white",
             "minorgridcolor": "white",
             "startlinecolor": "#2a3f5f"
            },
            "baxis": {
             "endlinecolor": "#2a3f5f",
             "gridcolor": "white",
             "linecolor": "white",
             "minorgridcolor": "white",
             "startlinecolor": "#2a3f5f"
            },
            "type": "carpet"
           }
          ],
          "choropleth": [
           {
            "colorbar": {
             "outlinewidth": 0,
             "ticks": ""
            },
            "type": "choropleth"
           }
          ],
          "contour": [
           {
            "colorbar": {
             "outlinewidth": 0,
             "ticks": ""
            },
            "colorscale": [
             [
              0,
              "#0d0887"
             ],
             [
              0.1111111111111111,
              "#46039f"
             ],
             [
              0.2222222222222222,
              "#7201a8"
             ],
             [
              0.3333333333333333,
              "#9c179e"
             ],
             [
              0.4444444444444444,
              "#bd3786"
             ],
             [
              0.5555555555555556,
              "#d8576b"
             ],
             [
              0.6666666666666666,
              "#ed7953"
             ],
             [
              0.7777777777777778,
              "#fb9f3a"
             ],
             [
              0.8888888888888888,
              "#fdca26"
             ],
             [
              1,
              "#f0f921"
             ]
            ],
            "type": "contour"
           }
          ],
          "contourcarpet": [
           {
            "colorbar": {
             "outlinewidth": 0,
             "ticks": ""
            },
            "type": "contourcarpet"
           }
          ],
          "heatmap": [
           {
            "colorbar": {
             "outlinewidth": 0,
             "ticks": ""
            },
            "colorscale": [
             [
              0,
              "#0d0887"
             ],
             [
              0.1111111111111111,
              "#46039f"
             ],
             [
              0.2222222222222222,
              "#7201a8"
             ],
             [
              0.3333333333333333,
              "#9c179e"
             ],
             [
              0.4444444444444444,
              "#bd3786"
             ],
             [
              0.5555555555555556,
              "#d8576b"
             ],
             [
              0.6666666666666666,
              "#ed7953"
             ],
             [
              0.7777777777777778,
              "#fb9f3a"
             ],
             [
              0.8888888888888888,
              "#fdca26"
             ],
             [
              1,
              "#f0f921"
             ]
            ],
            "type": "heatmap"
           }
          ],
          "heatmapgl": [
           {
            "colorbar": {
             "outlinewidth": 0,
             "ticks": ""
            },
            "colorscale": [
             [
              0,
              "#0d0887"
             ],
             [
              0.1111111111111111,
              "#46039f"
             ],
             [
              0.2222222222222222,
              "#7201a8"
             ],
             [
              0.3333333333333333,
              "#9c179e"
             ],
             [
              0.4444444444444444,
              "#bd3786"
             ],
             [
              0.5555555555555556,
              "#d8576b"
             ],
             [
              0.6666666666666666,
              "#ed7953"
             ],
             [
              0.7777777777777778,
              "#fb9f3a"
             ],
             [
              0.8888888888888888,
              "#fdca26"
             ],
             [
              1,
              "#f0f921"
             ]
            ],
            "type": "heatmapgl"
           }
          ],
          "histogram": [
           {
            "marker": {
             "pattern": {
              "fillmode": "overlay",
              "size": 10,
              "solidity": 0.2
             }
            },
            "type": "histogram"
           }
          ],
          "histogram2d": [
           {
            "colorbar": {
             "outlinewidth": 0,
             "ticks": ""
            },
            "colorscale": [
             [
              0,
              "#0d0887"
             ],
             [
              0.1111111111111111,
              "#46039f"
             ],
             [
              0.2222222222222222,
              "#7201a8"
             ],
             [
              0.3333333333333333,
              "#9c179e"
             ],
             [
              0.4444444444444444,
              "#bd3786"
             ],
             [
              0.5555555555555556,
              "#d8576b"
             ],
             [
              0.6666666666666666,
              "#ed7953"
             ],
             [
              0.7777777777777778,
              "#fb9f3a"
             ],
             [
              0.8888888888888888,
              "#fdca26"
             ],
             [
              1,
              "#f0f921"
             ]
            ],
            "type": "histogram2d"
           }
          ],
          "histogram2dcontour": [
           {
            "colorbar": {
             "outlinewidth": 0,
             "ticks": ""
            },
            "colorscale": [
             [
              0,
              "#0d0887"
             ],
             [
              0.1111111111111111,
              "#46039f"
             ],
             [
              0.2222222222222222,
              "#7201a8"
             ],
             [
              0.3333333333333333,
              "#9c179e"
             ],
             [
              0.4444444444444444,
              "#bd3786"
             ],
             [
              0.5555555555555556,
              "#d8576b"
             ],
             [
              0.6666666666666666,
              "#ed7953"
             ],
             [
              0.7777777777777778,
              "#fb9f3a"
             ],
             [
              0.8888888888888888,
              "#fdca26"
             ],
             [
              1,
              "#f0f921"
             ]
            ],
            "type": "histogram2dcontour"
           }
          ],
          "mesh3d": [
           {
            "colorbar": {
             "outlinewidth": 0,
             "ticks": ""
            },
            "type": "mesh3d"
           }
          ],
          "parcoords": [
           {
            "line": {
             "colorbar": {
              "outlinewidth": 0,
              "ticks": ""
             }
            },
            "type": "parcoords"
           }
          ],
          "pie": [
           {
            "automargin": true,
            "type": "pie"
           }
          ],
          "scatter": [
           {
            "fillpattern": {
             "fillmode": "overlay",
             "size": 10,
             "solidity": 0.2
            },
            "type": "scatter"
           }
          ],
          "scatter3d": [
           {
            "line": {
             "colorbar": {
              "outlinewidth": 0,
              "ticks": ""
             }
            },
            "marker": {
             "colorbar": {
              "outlinewidth": 0,
              "ticks": ""
             }
            },
            "type": "scatter3d"
           }
          ],
          "scattercarpet": [
           {
            "marker": {
             "colorbar": {
              "outlinewidth": 0,
              "ticks": ""
             }
            },
            "type": "scattercarpet"
           }
          ],
          "scattergeo": [
           {
            "marker": {
             "colorbar": {
              "outlinewidth": 0,
              "ticks": ""
             }
            },
            "type": "scattergeo"
           }
          ],
          "scattergl": [
           {
            "marker": {
             "colorbar": {
              "outlinewidth": 0,
              "ticks": ""
             }
            },
            "type": "scattergl"
           }
          ],
          "scattermapbox": [
           {
            "marker": {
             "colorbar": {
              "outlinewidth": 0,
              "ticks": ""
             }
            },
            "type": "scattermapbox"
           }
          ],
          "scatterpolar": [
           {
            "marker": {
             "colorbar": {
              "outlinewidth": 0,
              "ticks": ""
             }
            },
            "type": "scatterpolar"
           }
          ],
          "scatterpolargl": [
           {
            "marker": {
             "colorbar": {
              "outlinewidth": 0,
              "ticks": ""
             }
            },
            "type": "scatterpolargl"
           }
          ],
          "scatterternary": [
           {
            "marker": {
             "colorbar": {
              "outlinewidth": 0,
              "ticks": ""
             }
            },
            "type": "scatterternary"
           }
          ],
          "surface": [
           {
            "colorbar": {
             "outlinewidth": 0,
             "ticks": ""
            },
            "colorscale": [
             [
              0,
              "#0d0887"
             ],
             [
              0.1111111111111111,
              "#46039f"
             ],
             [
              0.2222222222222222,
              "#7201a8"
             ],
             [
              0.3333333333333333,
              "#9c179e"
             ],
             [
              0.4444444444444444,
              "#bd3786"
             ],
             [
              0.5555555555555556,
              "#d8576b"
             ],
             [
              0.6666666666666666,
              "#ed7953"
             ],
             [
              0.7777777777777778,
              "#fb9f3a"
             ],
             [
              0.8888888888888888,
              "#fdca26"
             ],
             [
              1,
              "#f0f921"
             ]
            ],
            "type": "surface"
           }
          ],
          "table": [
           {
            "cells": {
             "fill": {
              "color": "#EBF0F8"
             },
             "line": {
              "color": "white"
             }
            },
            "header": {
             "fill": {
              "color": "#C8D4E3"
             },
             "line": {
              "color": "white"
             }
            },
            "type": "table"
           }
          ]
         },
         "layout": {
          "annotationdefaults": {
           "arrowcolor": "#2a3f5f",
           "arrowhead": 0,
           "arrowwidth": 1
          },
          "autotypenumbers": "strict",
          "coloraxis": {
           "colorbar": {
            "outlinewidth": 0,
            "ticks": ""
           }
          },
          "colorscale": {
           "diverging": [
            [
             0,
             "#8e0152"
            ],
            [
             0.1,
             "#c51b7d"
            ],
            [
             0.2,
             "#de77ae"
            ],
            [
             0.3,
             "#f1b6da"
            ],
            [
             0.4,
             "#fde0ef"
            ],
            [
             0.5,
             "#f7f7f7"
            ],
            [
             0.6,
             "#e6f5d0"
            ],
            [
             0.7,
             "#b8e186"
            ],
            [
             0.8,
             "#7fbc41"
            ],
            [
             0.9,
             "#4d9221"
            ],
            [
             1,
             "#276419"
            ]
           ],
           "sequential": [
            [
             0,
             "#0d0887"
            ],
            [
             0.1111111111111111,
             "#46039f"
            ],
            [
             0.2222222222222222,
             "#7201a8"
            ],
            [
             0.3333333333333333,
             "#9c179e"
            ],
            [
             0.4444444444444444,
             "#bd3786"
            ],
            [
             0.5555555555555556,
             "#d8576b"
            ],
            [
             0.6666666666666666,
             "#ed7953"
            ],
            [
             0.7777777777777778,
             "#fb9f3a"
            ],
            [
             0.8888888888888888,
             "#fdca26"
            ],
            [
             1,
             "#f0f921"
            ]
           ],
           "sequentialminus": [
            [
             0,
             "#0d0887"
            ],
            [
             0.1111111111111111,
             "#46039f"
            ],
            [
             0.2222222222222222,
             "#7201a8"
            ],
            [
             0.3333333333333333,
             "#9c179e"
            ],
            [
             0.4444444444444444,
             "#bd3786"
            ],
            [
             0.5555555555555556,
             "#d8576b"
            ],
            [
             0.6666666666666666,
             "#ed7953"
            ],
            [
             0.7777777777777778,
             "#fb9f3a"
            ],
            [
             0.8888888888888888,
             "#fdca26"
            ],
            [
             1,
             "#f0f921"
            ]
           ]
          },
          "colorway": [
           "#636efa",
           "#EF553B",
           "#00cc96",
           "#ab63fa",
           "#FFA15A",
           "#19d3f3",
           "#FF6692",
           "#B6E880",
           "#FF97FF",
           "#FECB52"
          ],
          "font": {
           "color": "#2a3f5f"
          },
          "geo": {
           "bgcolor": "white",
           "lakecolor": "white",
           "landcolor": "#E5ECF6",
           "showlakes": true,
           "showland": true,
           "subunitcolor": "white"
          },
          "hoverlabel": {
           "align": "left"
          },
          "hovermode": "closest",
          "mapbox": {
           "style": "light"
          },
          "paper_bgcolor": "white",
          "plot_bgcolor": "#E5ECF6",
          "polar": {
           "angularaxis": {
            "gridcolor": "white",
            "linecolor": "white",
            "ticks": ""
           },
           "bgcolor": "#E5ECF6",
           "radialaxis": {
            "gridcolor": "white",
            "linecolor": "white",
            "ticks": ""
           }
          },
          "scene": {
           "xaxis": {
            "backgroundcolor": "#E5ECF6",
            "gridcolor": "white",
            "gridwidth": 2,
            "linecolor": "white",
            "showbackground": true,
            "ticks": "",
            "zerolinecolor": "white"
           },
           "yaxis": {
            "backgroundcolor": "#E5ECF6",
            "gridcolor": "white",
            "gridwidth": 2,
            "linecolor": "white",
            "showbackground": true,
            "ticks": "",
            "zerolinecolor": "white"
           },
           "zaxis": {
            "backgroundcolor": "#E5ECF6",
            "gridcolor": "white",
            "gridwidth": 2,
            "linecolor": "white",
            "showbackground": true,
            "ticks": "",
            "zerolinecolor": "white"
           }
          },
          "shapedefaults": {
           "line": {
            "color": "#2a3f5f"
           }
          },
          "ternary": {
           "aaxis": {
            "gridcolor": "white",
            "linecolor": "white",
            "ticks": ""
           },
           "baxis": {
            "gridcolor": "white",
            "linecolor": "white",
            "ticks": ""
           },
           "bgcolor": "#E5ECF6",
           "caxis": {
            "gridcolor": "white",
            "linecolor": "white",
            "ticks": ""
           }
          },
          "title": {
           "x": 0.05
          },
          "xaxis": {
           "automargin": true,
           "gridcolor": "white",
           "linecolor": "white",
           "ticks": "",
           "title": {
            "standoff": 15
           },
           "zerolinecolor": "white",
           "zerolinewidth": 2
          },
          "yaxis": {
           "automargin": true,
           "gridcolor": "white",
           "linecolor": "white",
           "ticks": "",
           "title": {
            "standoff": 15
           },
           "zerolinecolor": "white",
           "zerolinewidth": 2
          }
         }
        },
        "title": {
         "text": "Price evolution",
         "x": 0.5
        },
        "xaxis": {
         "anchor": "y",
         "color": "black",
         "domain": [
          0,
          1
         ],
         "gridcolor": "black",
         "tickcolor": "black",
         "title": {
          "text": "Index"
         }
        },
        "yaxis": {
         "anchor": "x",
         "color": "black",
         "domain": [
          0,
          1
         ],
         "gridcolor": "black",
         "tickcolor": "black",
         "title": {
          "text": "Price"
         }
        }
       }
      }
     },
     "metadata": {},
     "output_type": "display_data"
    }
   ],
   "source": [
    "fig = px.line(p_t)\n",
    "fig.update_traces(line_color = \"maroon\")\n",
    "\n",
    "fig.update_layout(\n",
    "    title_text=\"Price evolution\",\n",
    "    title_x=0.5,\n",
    "    plot_bgcolor='white',  # set background color to white\n",
    "    paper_bgcolor='white',  # set background color to white\n",
    "    font=dict(color='black'),  # set font color to black\n",
    "    xaxis=dict(title_text=\"Index\", color='black', tickcolor='black', gridcolor='black'),  # set x-axis color, tick color, grid color, and grid width\n",
    "    yaxis=dict(title_text=\"Price\", color='black', tickcolor='black', gridcolor='black'),  # set y-axis color, tick color, grid color, and grid width\n",
    ")\n",
    "\n",
    "fig.show()"
   ]
  },
  {
   "cell_type": "markdown",
   "metadata": {},
   "source": [
    "# Cash and inventory"
   ]
  },
  {
   "cell_type": "markdown",
   "metadata": {},
   "source": [
    "The inventory follows the natural dynamics given by arrival times of buy and sell orders and sizes of the respective transactions ($L_t^a$ and $L_t^b$):\n",
    "\n",
    "$$dY_t = L_t^bdN_t^b - L_t^adN_t^a$$\n",
    "\n",
    "The cash dynamics is very similar with reversed signs (when the market makers buy, he/she uses cash and vice versa) and prices of the market maker $\\pi^b(Q_t^b, P_{t^-}, S_{t^-})$ and $\\pi^a(Q_t^a, P_{t^-}, S_{t^-})$:\n",
    "\n",
    "$$dX_t = -\\pi^b(Q_t^b, P_{t^-}, S_{t^-}) L_t^bdN_t^b + \\pi^a(Q_t^a, P_{t^-}, S_{t^-}) L_t^adN_t^a$$\n",
    "\n",
    "where \n",
    "\n",
    "$$\\pi^b(Q_t^b, P_{t^-}, S_{t^-}) = \n",
    "\\begin{cases}\n",
    "    p-\\frac{s}{2} & \\text{for } q_b = Bb \\\\\n",
    "    p-\\frac{s}{2} + \\delta & \\text{for } q_b = Bb_+\n",
    "\\end{cases}$$\n",
    "\n",
    "$$\\pi^a(Q_t^a, P_{t^-}, S_{t^-}) = \n",
    "\\begin{cases}\n",
    "    p+\\frac{s}{2} & \\text{for } q_a = Ba \\\\\n",
    "    p+\\frac{s}{2} - \\delta & \\text{for } q_a = Ba_-\n",
    "\\end{cases}$$\n",
    "\n",
    "where $p$ is the price, $s$ is the spread, $Bb$, $Ba$ are the choices of the existing spread and $Bb_+$, $Ba_-$ are the choices of spread updated by a tick to have a more favourable position.\n"
   ]
  },
  {
   "cell_type": "code",
   "execution_count": 111,
   "metadata": {},
   "outputs": [],
   "source": [
    "def inventory_sim(N_a, N_b, l_a, l_b, Y_0):\n",
    "    '''\n",
    "    Simulates the inventory process.\n",
    "\n",
    "    Parameters:\n",
    "        N_a (np.array): Arrival times of buy orders\n",
    "        N_b (np.array): Arrival times of sell orders\n",
    "        L_a (np.array): Sizes of buy orders\n",
    "        L_b (np.array): Sizes of sell orders\n",
    "        Y_0 (float): Initial inventory (at time t=0)\n",
    "\n",
    "    Returns:\n",
    "       Y (np.array): Realisation of the inventory process\n",
    "    '''\n",
    "    Y = [Y_0]\n",
    "    index_a = 0   # counter for sizes of ask orders \n",
    "    index_b = 0   # counter for sizes of bid orders \n",
    "\n",
    "    for t, index_y in zip(np.sort(np.concatenate((N_a, N_b))), range(1, len(np.concatenate((N_a, N_b)) + 1))):      # merged times of orders\n",
    "        \n",
    "        # check whether at a given time it is a bid or an ask order \n",
    "        if t in N_b:        \n",
    "            Y.append(Y[index_y - 1] + l_b[index_b])   # if bid - add inventory\n",
    "            index_b =+ 1\n",
    "        else:\n",
    "            Y.append(Y[index_y - 1] - l_a[index_a])   # if ask - subtract inventory\n",
    "            index_a =+ 1\n",
    "\n",
    "    return Y"
   ]
  },
  {
   "cell_type": "code",
   "execution_count": 112,
   "metadata": {},
   "outputs": [],
   "source": [
    "def cash_sim(N_a, N_b, l_a, l_b, X_0, delta, q_a, q_b, s, spread_changes, p, price_changes):\n",
    "    '''\n",
    "    Simulates the cash process.\n",
    "\n",
    "    Parameters:\n",
    "        N_a (np.array): Arrival times of buy orders\n",
    "        N_b (np.array): Arrival times of sell orders\n",
    "        L_a (np.array): Sizes of buy orders\n",
    "        L_b (np.array): Sizes of sell orders\n",
    "        X_0 (float): Initial cash (at time t=0)\n",
    "        delta (float): Parameter which may be used by a market maker to update the spread\n",
    "        s (np.array): Realisation of the spread process\n",
    "        spread_changes (np.array): Times when spread changes\n",
    "        p (np.array): Realisation of the price process\n",
    "        price_changes (np.array): Times when price changes\n",
    "\n",
    "    Returns:\n",
    "       X (np.array): Realisation of the cash process\n",
    "    '''\n",
    "\n",
    "    X = [X_0]\n",
    "    index_a = 0\n",
    "    index_b = 0\n",
    "\n",
    "    for t, index_x in zip(np.sort(np.concatenate((N_a, N_b))), range(1, len(np.concatenate((N_a, N_b)) + 1))):\n",
    "        \n",
    "        spread_position = np.sum(t >= spread_changes)  # extracting spread at time t\n",
    "        price_position = np.sum(t >= price_changes)  # extracting price at time t\n",
    "        \n",
    "        # check whether at a given time it is a bid or an ask order \n",
    "        if t in N_b:\n",
    "            if q_b[index_b] == 1:   # checking which quote to use\n",
    "                pi_b = p[price_position - 1] - s[spread_position - 1] / 2 + delta\n",
    "            else:\n",
    "                pi_b = p[price_position - 1] - s[spread_position - 1] / 2\n",
    "            X.append((X[index_x - 1] - pi_b * l_b[index_b]))    # if bid subtract cash as I bought\n",
    "            index_b =+ 1\n",
    "        else:\n",
    "            if q_a[index_a] == 1:\n",
    "                pi_a = p[price_position - 1] + s[spread_position - 1] / 2 - delta\n",
    "            else:\n",
    "                pi_a = p[price_position - 1] + s[spread_position - 1] / 2\n",
    "            X.append((X[index_x - 1] + pi_a * l_a[index_a]))  # If ask add cash as I sold\n",
    "            index_a =+ 1\n",
    "\n",
    "    return X"
   ]
  },
  {
   "cell_type": "code",
   "execution_count": 113,
   "metadata": {},
   "outputs": [],
   "source": [
    "l_a = np.random.uniform(0, 100, len(orders_a)) # ad-hoc choice of sizes of orders for ask side\n",
    "l_b = np.random.uniform(0, 100, len(orders_b)) # ad-hoc choice of sizes of orders for bid side"
   ]
  },
  {
   "cell_type": "code",
   "execution_count": 114,
   "metadata": {},
   "outputs": [],
   "source": [
    "Y_t = inventory_sim(orders_a, orders_b, l_a, l_b, Y_0)  # realisation of inventory\n",
    "X_t = cash_sim(orders_a, orders_b, l_a, l_b, X_0, delta, q_a, q_b, s_t, PPP_spread[1], p_t, t_price) # realisation of cash\n"
   ]
  },
  {
   "cell_type": "code",
   "execution_count": 115,
   "metadata": {},
   "outputs": [
    {
     "data": {
      "application/vnd.plotly.v1+json": {
       "config": {
        "plotlyServerURL": "https://plot.ly"
       },
       "data": [
        {
         "hovertemplate": "variable=0<br>index=%{x}<br>value=%{y}<extra></extra>",
         "legendgroup": "0",
         "line": {
          "color": "maroon",
          "dash": "solid"
         },
         "marker": {
          "symbol": "circle"
         },
         "mode": "lines",
         "name": "0",
         "orientation": "v",
         "showlegend": true,
         "type": "scatter",
         "x": [
          0,
          1,
          2,
          3,
          4,
          5,
          6,
          7,
          8,
          9,
          10,
          11,
          12,
          13,
          14,
          15,
          16,
          17,
          18,
          19,
          20,
          21,
          22,
          23,
          24,
          25,
          26,
          27,
          28,
          29,
          30,
          31,
          32,
          33,
          34,
          35,
          36,
          37,
          38,
          39,
          40,
          41,
          42,
          43
         ],
         "xaxis": "x",
         "y": [
          0,
          47.50972462521632,
          -15.590430622862002,
          75.93551693015945,
          59.09436306687233,
          42.253209203585214,
          25.412055340298096,
          8.570901477010977,
          100.09684903003243,
          191.62279658305388,
          283.1487441360753,
          374.6746916890968,
          357.8335378258097,
          449.35948537883115,
          432.51833151554405,
          524.0442790685655,
          615.5702266215869,
          707.0961741746083,
          798.6221217276297,
          890.1480692806512,
          981.6740168336726,
          964.8328629703855,
          1056.3588105234069,
          1147.8847580764284,
          1239.41070562945,
          1330.9366531824714,
          1314.0954993191842,
          1405.6214468722058,
          1388.7802930089185,
          1480.30624056194,
          1463.4650866986528,
          1446.6239328353656,
          1538.1498803883871,
          1521.3087265251,
          1504.4675726618127,
          1595.9935202148342,
          1687.5194677678558,
          1779.0454153208773,
          1762.20426145759,
          1745.3631075943028,
          1728.5219537310156,
          1711.6807998677284,
          1694.8396460044412,
          1677.998492141154
         ],
         "yaxis": "y"
        }
       ],
       "layout": {
        "font": {
         "color": "black"
        },
        "legend": {
         "title": {
          "text": "variable"
         },
         "tracegroupgap": 0
        },
        "margin": {
         "t": 60
        },
        "paper_bgcolor": "white",
        "plot_bgcolor": "white",
        "template": {
         "data": {
          "bar": [
           {
            "error_x": {
             "color": "#2a3f5f"
            },
            "error_y": {
             "color": "#2a3f5f"
            },
            "marker": {
             "line": {
              "color": "#E5ECF6",
              "width": 0.5
             },
             "pattern": {
              "fillmode": "overlay",
              "size": 10,
              "solidity": 0.2
             }
            },
            "type": "bar"
           }
          ],
          "barpolar": [
           {
            "marker": {
             "line": {
              "color": "#E5ECF6",
              "width": 0.5
             },
             "pattern": {
              "fillmode": "overlay",
              "size": 10,
              "solidity": 0.2
             }
            },
            "type": "barpolar"
           }
          ],
          "carpet": [
           {
            "aaxis": {
             "endlinecolor": "#2a3f5f",
             "gridcolor": "white",
             "linecolor": "white",
             "minorgridcolor": "white",
             "startlinecolor": "#2a3f5f"
            },
            "baxis": {
             "endlinecolor": "#2a3f5f",
             "gridcolor": "white",
             "linecolor": "white",
             "minorgridcolor": "white",
             "startlinecolor": "#2a3f5f"
            },
            "type": "carpet"
           }
          ],
          "choropleth": [
           {
            "colorbar": {
             "outlinewidth": 0,
             "ticks": ""
            },
            "type": "choropleth"
           }
          ],
          "contour": [
           {
            "colorbar": {
             "outlinewidth": 0,
             "ticks": ""
            },
            "colorscale": [
             [
              0,
              "#0d0887"
             ],
             [
              0.1111111111111111,
              "#46039f"
             ],
             [
              0.2222222222222222,
              "#7201a8"
             ],
             [
              0.3333333333333333,
              "#9c179e"
             ],
             [
              0.4444444444444444,
              "#bd3786"
             ],
             [
              0.5555555555555556,
              "#d8576b"
             ],
             [
              0.6666666666666666,
              "#ed7953"
             ],
             [
              0.7777777777777778,
              "#fb9f3a"
             ],
             [
              0.8888888888888888,
              "#fdca26"
             ],
             [
              1,
              "#f0f921"
             ]
            ],
            "type": "contour"
           }
          ],
          "contourcarpet": [
           {
            "colorbar": {
             "outlinewidth": 0,
             "ticks": ""
            },
            "type": "contourcarpet"
           }
          ],
          "heatmap": [
           {
            "colorbar": {
             "outlinewidth": 0,
             "ticks": ""
            },
            "colorscale": [
             [
              0,
              "#0d0887"
             ],
             [
              0.1111111111111111,
              "#46039f"
             ],
             [
              0.2222222222222222,
              "#7201a8"
             ],
             [
              0.3333333333333333,
              "#9c179e"
             ],
             [
              0.4444444444444444,
              "#bd3786"
             ],
             [
              0.5555555555555556,
              "#d8576b"
             ],
             [
              0.6666666666666666,
              "#ed7953"
             ],
             [
              0.7777777777777778,
              "#fb9f3a"
             ],
             [
              0.8888888888888888,
              "#fdca26"
             ],
             [
              1,
              "#f0f921"
             ]
            ],
            "type": "heatmap"
           }
          ],
          "heatmapgl": [
           {
            "colorbar": {
             "outlinewidth": 0,
             "ticks": ""
            },
            "colorscale": [
             [
              0,
              "#0d0887"
             ],
             [
              0.1111111111111111,
              "#46039f"
             ],
             [
              0.2222222222222222,
              "#7201a8"
             ],
             [
              0.3333333333333333,
              "#9c179e"
             ],
             [
              0.4444444444444444,
              "#bd3786"
             ],
             [
              0.5555555555555556,
              "#d8576b"
             ],
             [
              0.6666666666666666,
              "#ed7953"
             ],
             [
              0.7777777777777778,
              "#fb9f3a"
             ],
             [
              0.8888888888888888,
              "#fdca26"
             ],
             [
              1,
              "#f0f921"
             ]
            ],
            "type": "heatmapgl"
           }
          ],
          "histogram": [
           {
            "marker": {
             "pattern": {
              "fillmode": "overlay",
              "size": 10,
              "solidity": 0.2
             }
            },
            "type": "histogram"
           }
          ],
          "histogram2d": [
           {
            "colorbar": {
             "outlinewidth": 0,
             "ticks": ""
            },
            "colorscale": [
             [
              0,
              "#0d0887"
             ],
             [
              0.1111111111111111,
              "#46039f"
             ],
             [
              0.2222222222222222,
              "#7201a8"
             ],
             [
              0.3333333333333333,
              "#9c179e"
             ],
             [
              0.4444444444444444,
              "#bd3786"
             ],
             [
              0.5555555555555556,
              "#d8576b"
             ],
             [
              0.6666666666666666,
              "#ed7953"
             ],
             [
              0.7777777777777778,
              "#fb9f3a"
             ],
             [
              0.8888888888888888,
              "#fdca26"
             ],
             [
              1,
              "#f0f921"
             ]
            ],
            "type": "histogram2d"
           }
          ],
          "histogram2dcontour": [
           {
            "colorbar": {
             "outlinewidth": 0,
             "ticks": ""
            },
            "colorscale": [
             [
              0,
              "#0d0887"
             ],
             [
              0.1111111111111111,
              "#46039f"
             ],
             [
              0.2222222222222222,
              "#7201a8"
             ],
             [
              0.3333333333333333,
              "#9c179e"
             ],
             [
              0.4444444444444444,
              "#bd3786"
             ],
             [
              0.5555555555555556,
              "#d8576b"
             ],
             [
              0.6666666666666666,
              "#ed7953"
             ],
             [
              0.7777777777777778,
              "#fb9f3a"
             ],
             [
              0.8888888888888888,
              "#fdca26"
             ],
             [
              1,
              "#f0f921"
             ]
            ],
            "type": "histogram2dcontour"
           }
          ],
          "mesh3d": [
           {
            "colorbar": {
             "outlinewidth": 0,
             "ticks": ""
            },
            "type": "mesh3d"
           }
          ],
          "parcoords": [
           {
            "line": {
             "colorbar": {
              "outlinewidth": 0,
              "ticks": ""
             }
            },
            "type": "parcoords"
           }
          ],
          "pie": [
           {
            "automargin": true,
            "type": "pie"
           }
          ],
          "scatter": [
           {
            "fillpattern": {
             "fillmode": "overlay",
             "size": 10,
             "solidity": 0.2
            },
            "type": "scatter"
           }
          ],
          "scatter3d": [
           {
            "line": {
             "colorbar": {
              "outlinewidth": 0,
              "ticks": ""
             }
            },
            "marker": {
             "colorbar": {
              "outlinewidth": 0,
              "ticks": ""
             }
            },
            "type": "scatter3d"
           }
          ],
          "scattercarpet": [
           {
            "marker": {
             "colorbar": {
              "outlinewidth": 0,
              "ticks": ""
             }
            },
            "type": "scattercarpet"
           }
          ],
          "scattergeo": [
           {
            "marker": {
             "colorbar": {
              "outlinewidth": 0,
              "ticks": ""
             }
            },
            "type": "scattergeo"
           }
          ],
          "scattergl": [
           {
            "marker": {
             "colorbar": {
              "outlinewidth": 0,
              "ticks": ""
             }
            },
            "type": "scattergl"
           }
          ],
          "scattermapbox": [
           {
            "marker": {
             "colorbar": {
              "outlinewidth": 0,
              "ticks": ""
             }
            },
            "type": "scattermapbox"
           }
          ],
          "scatterpolar": [
           {
            "marker": {
             "colorbar": {
              "outlinewidth": 0,
              "ticks": ""
             }
            },
            "type": "scatterpolar"
           }
          ],
          "scatterpolargl": [
           {
            "marker": {
             "colorbar": {
              "outlinewidth": 0,
              "ticks": ""
             }
            },
            "type": "scatterpolargl"
           }
          ],
          "scatterternary": [
           {
            "marker": {
             "colorbar": {
              "outlinewidth": 0,
              "ticks": ""
             }
            },
            "type": "scatterternary"
           }
          ],
          "surface": [
           {
            "colorbar": {
             "outlinewidth": 0,
             "ticks": ""
            },
            "colorscale": [
             [
              0,
              "#0d0887"
             ],
             [
              0.1111111111111111,
              "#46039f"
             ],
             [
              0.2222222222222222,
              "#7201a8"
             ],
             [
              0.3333333333333333,
              "#9c179e"
             ],
             [
              0.4444444444444444,
              "#bd3786"
             ],
             [
              0.5555555555555556,
              "#d8576b"
             ],
             [
              0.6666666666666666,
              "#ed7953"
             ],
             [
              0.7777777777777778,
              "#fb9f3a"
             ],
             [
              0.8888888888888888,
              "#fdca26"
             ],
             [
              1,
              "#f0f921"
             ]
            ],
            "type": "surface"
           }
          ],
          "table": [
           {
            "cells": {
             "fill": {
              "color": "#EBF0F8"
             },
             "line": {
              "color": "white"
             }
            },
            "header": {
             "fill": {
              "color": "#C8D4E3"
             },
             "line": {
              "color": "white"
             }
            },
            "type": "table"
           }
          ]
         },
         "layout": {
          "annotationdefaults": {
           "arrowcolor": "#2a3f5f",
           "arrowhead": 0,
           "arrowwidth": 1
          },
          "autotypenumbers": "strict",
          "coloraxis": {
           "colorbar": {
            "outlinewidth": 0,
            "ticks": ""
           }
          },
          "colorscale": {
           "diverging": [
            [
             0,
             "#8e0152"
            ],
            [
             0.1,
             "#c51b7d"
            ],
            [
             0.2,
             "#de77ae"
            ],
            [
             0.3,
             "#f1b6da"
            ],
            [
             0.4,
             "#fde0ef"
            ],
            [
             0.5,
             "#f7f7f7"
            ],
            [
             0.6,
             "#e6f5d0"
            ],
            [
             0.7,
             "#b8e186"
            ],
            [
             0.8,
             "#7fbc41"
            ],
            [
             0.9,
             "#4d9221"
            ],
            [
             1,
             "#276419"
            ]
           ],
           "sequential": [
            [
             0,
             "#0d0887"
            ],
            [
             0.1111111111111111,
             "#46039f"
            ],
            [
             0.2222222222222222,
             "#7201a8"
            ],
            [
             0.3333333333333333,
             "#9c179e"
            ],
            [
             0.4444444444444444,
             "#bd3786"
            ],
            [
             0.5555555555555556,
             "#d8576b"
            ],
            [
             0.6666666666666666,
             "#ed7953"
            ],
            [
             0.7777777777777778,
             "#fb9f3a"
            ],
            [
             0.8888888888888888,
             "#fdca26"
            ],
            [
             1,
             "#f0f921"
            ]
           ],
           "sequentialminus": [
            [
             0,
             "#0d0887"
            ],
            [
             0.1111111111111111,
             "#46039f"
            ],
            [
             0.2222222222222222,
             "#7201a8"
            ],
            [
             0.3333333333333333,
             "#9c179e"
            ],
            [
             0.4444444444444444,
             "#bd3786"
            ],
            [
             0.5555555555555556,
             "#d8576b"
            ],
            [
             0.6666666666666666,
             "#ed7953"
            ],
            [
             0.7777777777777778,
             "#fb9f3a"
            ],
            [
             0.8888888888888888,
             "#fdca26"
            ],
            [
             1,
             "#f0f921"
            ]
           ]
          },
          "colorway": [
           "#636efa",
           "#EF553B",
           "#00cc96",
           "#ab63fa",
           "#FFA15A",
           "#19d3f3",
           "#FF6692",
           "#B6E880",
           "#FF97FF",
           "#FECB52"
          ],
          "font": {
           "color": "#2a3f5f"
          },
          "geo": {
           "bgcolor": "white",
           "lakecolor": "white",
           "landcolor": "#E5ECF6",
           "showlakes": true,
           "showland": true,
           "subunitcolor": "white"
          },
          "hoverlabel": {
           "align": "left"
          },
          "hovermode": "closest",
          "mapbox": {
           "style": "light"
          },
          "paper_bgcolor": "white",
          "plot_bgcolor": "#E5ECF6",
          "polar": {
           "angularaxis": {
            "gridcolor": "white",
            "linecolor": "white",
            "ticks": ""
           },
           "bgcolor": "#E5ECF6",
           "radialaxis": {
            "gridcolor": "white",
            "linecolor": "white",
            "ticks": ""
           }
          },
          "scene": {
           "xaxis": {
            "backgroundcolor": "#E5ECF6",
            "gridcolor": "white",
            "gridwidth": 2,
            "linecolor": "white",
            "showbackground": true,
            "ticks": "",
            "zerolinecolor": "white"
           },
           "yaxis": {
            "backgroundcolor": "#E5ECF6",
            "gridcolor": "white",
            "gridwidth": 2,
            "linecolor": "white",
            "showbackground": true,
            "ticks": "",
            "zerolinecolor": "white"
           },
           "zaxis": {
            "backgroundcolor": "#E5ECF6",
            "gridcolor": "white",
            "gridwidth": 2,
            "linecolor": "white",
            "showbackground": true,
            "ticks": "",
            "zerolinecolor": "white"
           }
          },
          "shapedefaults": {
           "line": {
            "color": "#2a3f5f"
           }
          },
          "ternary": {
           "aaxis": {
            "gridcolor": "white",
            "linecolor": "white",
            "ticks": ""
           },
           "baxis": {
            "gridcolor": "white",
            "linecolor": "white",
            "ticks": ""
           },
           "bgcolor": "#E5ECF6",
           "caxis": {
            "gridcolor": "white",
            "linecolor": "white",
            "ticks": ""
           }
          },
          "title": {
           "x": 0.05
          },
          "xaxis": {
           "automargin": true,
           "gridcolor": "white",
           "linecolor": "white",
           "ticks": "",
           "title": {
            "standoff": 15
           },
           "zerolinecolor": "white",
           "zerolinewidth": 2
          },
          "yaxis": {
           "automargin": true,
           "gridcolor": "white",
           "linecolor": "white",
           "ticks": "",
           "title": {
            "standoff": 15
           },
           "zerolinecolor": "white",
           "zerolinewidth": 2
          }
         }
        },
        "title": {
         "text": "Inventory evolution",
         "x": 0.5
        },
        "xaxis": {
         "anchor": "y",
         "color": "black",
         "domain": [
          0,
          1
         ],
         "gridcolor": "black",
         "tickcolor": "black",
         "title": {
          "text": "Index"
         }
        },
        "yaxis": {
         "anchor": "x",
         "color": "black",
         "domain": [
          0,
          1
         ],
         "gridcolor": "black",
         "tickcolor": "black",
         "title": {
          "text": "Y"
         }
        }
       }
      }
     },
     "metadata": {},
     "output_type": "display_data"
    }
   ],
   "source": [
    "fig = px.line(Y_t)\n",
    "fig.update_traces(line_color = \"maroon\")\n",
    "\n",
    "fig.update_layout(\n",
    "    title_text=\"Inventory evolution\",\n",
    "    title_x=0.5,\n",
    "    plot_bgcolor='white',  # set background color to white\n",
    "    paper_bgcolor='white',  # set background color to white\n",
    "    font=dict(color='black'),  # set font color to black\n",
    "    xaxis=dict(title_text=\"Index\", color='black', tickcolor='black', gridcolor='black'),  # set x-axis color, tick color, grid color, and grid width\n",
    "    yaxis=dict(title_text=\"Y\", color='black', tickcolor='black', gridcolor='black'),  # set y-axis color, tick color, grid color, and grid width\n",
    ")\n",
    "\n",
    "fig.show()"
   ]
  },
  {
   "cell_type": "code",
   "execution_count": 116,
   "metadata": {},
   "outputs": [
    {
     "data": {
      "application/vnd.plotly.v1+json": {
       "config": {
        "plotlyServerURL": "https://plot.ly"
       },
       "data": [
        {
         "hovertemplate": "variable=0<br>index=%{x}<br>value=%{y}<extra></extra>",
         "legendgroup": "0",
         "line": {
          "color": "maroon",
          "dash": "solid"
         },
         "marker": {
          "symbol": "circle"
         },
         "mode": "lines",
         "name": "0",
         "orientation": "v",
         "showlegend": true,
         "type": "scatter",
         "x": [
          0,
          1,
          2,
          3,
          4,
          5,
          6,
          7,
          8,
          9,
          10,
          11,
          12,
          13,
          14,
          15,
          16,
          17,
          18,
          19,
          20,
          21,
          22,
          23,
          24,
          25,
          26,
          27,
          28,
          29,
          30,
          31,
          32,
          33,
          34,
          35,
          36,
          37,
          38,
          39,
          40,
          41,
          42,
          43
         ],
         "xaxis": "x",
         "y": [
          0,
          -2139.3106548038304,
          696.9068013750702,
          -3427.3649443260983,
          -2664.7442678136363,
          -1902.0407860143268,
          -1135.4833661606594,
          -369.1608535647906,
          -4537.021685952532,
          -8700.062784448955,
          -12859.037445665523,
          -17035.238450059333,
          -16270.067230007911,
          -20418.670398559065,
          -19650.78518694595,
          -23826.48173284752,
          -28011.286751158095,
          -32193.5948122504,
          -36382.25480349584,
          -40554.38792969977,
          -44726.31914125032,
          -43958.413882050074,
          -48115.94674736417,
          -52280.122648770324,
          -56467.05704794237,
          -60651.97621357439,
          -59881.26061162967,
          -64051.93468954634,
          -63287.34879410527,
          -67439.4006862947,
          -66684.4817399035,
          -65923.5552725506,
          -70022.98827297114,
          -69269.01265274365,
          -68528.94844252508,
          -72515.8226217809,
          -76493.94478391342,
          -80450.15311504285,
          -79721.39271864624,
          -78995.05004631724,
          -78267.2693606702,
          -77535.7349084663,
          -76804.2791926547,
          -76076.71431380727
         ],
         "yaxis": "y"
        }
       ],
       "layout": {
        "font": {
         "color": "black"
        },
        "legend": {
         "title": {
          "text": "variable"
         },
         "tracegroupgap": 0
        },
        "margin": {
         "t": 60
        },
        "paper_bgcolor": "white",
        "plot_bgcolor": "white",
        "template": {
         "data": {
          "bar": [
           {
            "error_x": {
             "color": "#2a3f5f"
            },
            "error_y": {
             "color": "#2a3f5f"
            },
            "marker": {
             "line": {
              "color": "#E5ECF6",
              "width": 0.5
             },
             "pattern": {
              "fillmode": "overlay",
              "size": 10,
              "solidity": 0.2
             }
            },
            "type": "bar"
           }
          ],
          "barpolar": [
           {
            "marker": {
             "line": {
              "color": "#E5ECF6",
              "width": 0.5
             },
             "pattern": {
              "fillmode": "overlay",
              "size": 10,
              "solidity": 0.2
             }
            },
            "type": "barpolar"
           }
          ],
          "carpet": [
           {
            "aaxis": {
             "endlinecolor": "#2a3f5f",
             "gridcolor": "white",
             "linecolor": "white",
             "minorgridcolor": "white",
             "startlinecolor": "#2a3f5f"
            },
            "baxis": {
             "endlinecolor": "#2a3f5f",
             "gridcolor": "white",
             "linecolor": "white",
             "minorgridcolor": "white",
             "startlinecolor": "#2a3f5f"
            },
            "type": "carpet"
           }
          ],
          "choropleth": [
           {
            "colorbar": {
             "outlinewidth": 0,
             "ticks": ""
            },
            "type": "choropleth"
           }
          ],
          "contour": [
           {
            "colorbar": {
             "outlinewidth": 0,
             "ticks": ""
            },
            "colorscale": [
             [
              0,
              "#0d0887"
             ],
             [
              0.1111111111111111,
              "#46039f"
             ],
             [
              0.2222222222222222,
              "#7201a8"
             ],
             [
              0.3333333333333333,
              "#9c179e"
             ],
             [
              0.4444444444444444,
              "#bd3786"
             ],
             [
              0.5555555555555556,
              "#d8576b"
             ],
             [
              0.6666666666666666,
              "#ed7953"
             ],
             [
              0.7777777777777778,
              "#fb9f3a"
             ],
             [
              0.8888888888888888,
              "#fdca26"
             ],
             [
              1,
              "#f0f921"
             ]
            ],
            "type": "contour"
           }
          ],
          "contourcarpet": [
           {
            "colorbar": {
             "outlinewidth": 0,
             "ticks": ""
            },
            "type": "contourcarpet"
           }
          ],
          "heatmap": [
           {
            "colorbar": {
             "outlinewidth": 0,
             "ticks": ""
            },
            "colorscale": [
             [
              0,
              "#0d0887"
             ],
             [
              0.1111111111111111,
              "#46039f"
             ],
             [
              0.2222222222222222,
              "#7201a8"
             ],
             [
              0.3333333333333333,
              "#9c179e"
             ],
             [
              0.4444444444444444,
              "#bd3786"
             ],
             [
              0.5555555555555556,
              "#d8576b"
             ],
             [
              0.6666666666666666,
              "#ed7953"
             ],
             [
              0.7777777777777778,
              "#fb9f3a"
             ],
             [
              0.8888888888888888,
              "#fdca26"
             ],
             [
              1,
              "#f0f921"
             ]
            ],
            "type": "heatmap"
           }
          ],
          "heatmapgl": [
           {
            "colorbar": {
             "outlinewidth": 0,
             "ticks": ""
            },
            "colorscale": [
             [
              0,
              "#0d0887"
             ],
             [
              0.1111111111111111,
              "#46039f"
             ],
             [
              0.2222222222222222,
              "#7201a8"
             ],
             [
              0.3333333333333333,
              "#9c179e"
             ],
             [
              0.4444444444444444,
              "#bd3786"
             ],
             [
              0.5555555555555556,
              "#d8576b"
             ],
             [
              0.6666666666666666,
              "#ed7953"
             ],
             [
              0.7777777777777778,
              "#fb9f3a"
             ],
             [
              0.8888888888888888,
              "#fdca26"
             ],
             [
              1,
              "#f0f921"
             ]
            ],
            "type": "heatmapgl"
           }
          ],
          "histogram": [
           {
            "marker": {
             "pattern": {
              "fillmode": "overlay",
              "size": 10,
              "solidity": 0.2
             }
            },
            "type": "histogram"
           }
          ],
          "histogram2d": [
           {
            "colorbar": {
             "outlinewidth": 0,
             "ticks": ""
            },
            "colorscale": [
             [
              0,
              "#0d0887"
             ],
             [
              0.1111111111111111,
              "#46039f"
             ],
             [
              0.2222222222222222,
              "#7201a8"
             ],
             [
              0.3333333333333333,
              "#9c179e"
             ],
             [
              0.4444444444444444,
              "#bd3786"
             ],
             [
              0.5555555555555556,
              "#d8576b"
             ],
             [
              0.6666666666666666,
              "#ed7953"
             ],
             [
              0.7777777777777778,
              "#fb9f3a"
             ],
             [
              0.8888888888888888,
              "#fdca26"
             ],
             [
              1,
              "#f0f921"
             ]
            ],
            "type": "histogram2d"
           }
          ],
          "histogram2dcontour": [
           {
            "colorbar": {
             "outlinewidth": 0,
             "ticks": ""
            },
            "colorscale": [
             [
              0,
              "#0d0887"
             ],
             [
              0.1111111111111111,
              "#46039f"
             ],
             [
              0.2222222222222222,
              "#7201a8"
             ],
             [
              0.3333333333333333,
              "#9c179e"
             ],
             [
              0.4444444444444444,
              "#bd3786"
             ],
             [
              0.5555555555555556,
              "#d8576b"
             ],
             [
              0.6666666666666666,
              "#ed7953"
             ],
             [
              0.7777777777777778,
              "#fb9f3a"
             ],
             [
              0.8888888888888888,
              "#fdca26"
             ],
             [
              1,
              "#f0f921"
             ]
            ],
            "type": "histogram2dcontour"
           }
          ],
          "mesh3d": [
           {
            "colorbar": {
             "outlinewidth": 0,
             "ticks": ""
            },
            "type": "mesh3d"
           }
          ],
          "parcoords": [
           {
            "line": {
             "colorbar": {
              "outlinewidth": 0,
              "ticks": ""
             }
            },
            "type": "parcoords"
           }
          ],
          "pie": [
           {
            "automargin": true,
            "type": "pie"
           }
          ],
          "scatter": [
           {
            "fillpattern": {
             "fillmode": "overlay",
             "size": 10,
             "solidity": 0.2
            },
            "type": "scatter"
           }
          ],
          "scatter3d": [
           {
            "line": {
             "colorbar": {
              "outlinewidth": 0,
              "ticks": ""
             }
            },
            "marker": {
             "colorbar": {
              "outlinewidth": 0,
              "ticks": ""
             }
            },
            "type": "scatter3d"
           }
          ],
          "scattercarpet": [
           {
            "marker": {
             "colorbar": {
              "outlinewidth": 0,
              "ticks": ""
             }
            },
            "type": "scattercarpet"
           }
          ],
          "scattergeo": [
           {
            "marker": {
             "colorbar": {
              "outlinewidth": 0,
              "ticks": ""
             }
            },
            "type": "scattergeo"
           }
          ],
          "scattergl": [
           {
            "marker": {
             "colorbar": {
              "outlinewidth": 0,
              "ticks": ""
             }
            },
            "type": "scattergl"
           }
          ],
          "scattermapbox": [
           {
            "marker": {
             "colorbar": {
              "outlinewidth": 0,
              "ticks": ""
             }
            },
            "type": "scattermapbox"
           }
          ],
          "scatterpolar": [
           {
            "marker": {
             "colorbar": {
              "outlinewidth": 0,
              "ticks": ""
             }
            },
            "type": "scatterpolar"
           }
          ],
          "scatterpolargl": [
           {
            "marker": {
             "colorbar": {
              "outlinewidth": 0,
              "ticks": ""
             }
            },
            "type": "scatterpolargl"
           }
          ],
          "scatterternary": [
           {
            "marker": {
             "colorbar": {
              "outlinewidth": 0,
              "ticks": ""
             }
            },
            "type": "scatterternary"
           }
          ],
          "surface": [
           {
            "colorbar": {
             "outlinewidth": 0,
             "ticks": ""
            },
            "colorscale": [
             [
              0,
              "#0d0887"
             ],
             [
              0.1111111111111111,
              "#46039f"
             ],
             [
              0.2222222222222222,
              "#7201a8"
             ],
             [
              0.3333333333333333,
              "#9c179e"
             ],
             [
              0.4444444444444444,
              "#bd3786"
             ],
             [
              0.5555555555555556,
              "#d8576b"
             ],
             [
              0.6666666666666666,
              "#ed7953"
             ],
             [
              0.7777777777777778,
              "#fb9f3a"
             ],
             [
              0.8888888888888888,
              "#fdca26"
             ],
             [
              1,
              "#f0f921"
             ]
            ],
            "type": "surface"
           }
          ],
          "table": [
           {
            "cells": {
             "fill": {
              "color": "#EBF0F8"
             },
             "line": {
              "color": "white"
             }
            },
            "header": {
             "fill": {
              "color": "#C8D4E3"
             },
             "line": {
              "color": "white"
             }
            },
            "type": "table"
           }
          ]
         },
         "layout": {
          "annotationdefaults": {
           "arrowcolor": "#2a3f5f",
           "arrowhead": 0,
           "arrowwidth": 1
          },
          "autotypenumbers": "strict",
          "coloraxis": {
           "colorbar": {
            "outlinewidth": 0,
            "ticks": ""
           }
          },
          "colorscale": {
           "diverging": [
            [
             0,
             "#8e0152"
            ],
            [
             0.1,
             "#c51b7d"
            ],
            [
             0.2,
             "#de77ae"
            ],
            [
             0.3,
             "#f1b6da"
            ],
            [
             0.4,
             "#fde0ef"
            ],
            [
             0.5,
             "#f7f7f7"
            ],
            [
             0.6,
             "#e6f5d0"
            ],
            [
             0.7,
             "#b8e186"
            ],
            [
             0.8,
             "#7fbc41"
            ],
            [
             0.9,
             "#4d9221"
            ],
            [
             1,
             "#276419"
            ]
           ],
           "sequential": [
            [
             0,
             "#0d0887"
            ],
            [
             0.1111111111111111,
             "#46039f"
            ],
            [
             0.2222222222222222,
             "#7201a8"
            ],
            [
             0.3333333333333333,
             "#9c179e"
            ],
            [
             0.4444444444444444,
             "#bd3786"
            ],
            [
             0.5555555555555556,
             "#d8576b"
            ],
            [
             0.6666666666666666,
             "#ed7953"
            ],
            [
             0.7777777777777778,
             "#fb9f3a"
            ],
            [
             0.8888888888888888,
             "#fdca26"
            ],
            [
             1,
             "#f0f921"
            ]
           ],
           "sequentialminus": [
            [
             0,
             "#0d0887"
            ],
            [
             0.1111111111111111,
             "#46039f"
            ],
            [
             0.2222222222222222,
             "#7201a8"
            ],
            [
             0.3333333333333333,
             "#9c179e"
            ],
            [
             0.4444444444444444,
             "#bd3786"
            ],
            [
             0.5555555555555556,
             "#d8576b"
            ],
            [
             0.6666666666666666,
             "#ed7953"
            ],
            [
             0.7777777777777778,
             "#fb9f3a"
            ],
            [
             0.8888888888888888,
             "#fdca26"
            ],
            [
             1,
             "#f0f921"
            ]
           ]
          },
          "colorway": [
           "#636efa",
           "#EF553B",
           "#00cc96",
           "#ab63fa",
           "#FFA15A",
           "#19d3f3",
           "#FF6692",
           "#B6E880",
           "#FF97FF",
           "#FECB52"
          ],
          "font": {
           "color": "#2a3f5f"
          },
          "geo": {
           "bgcolor": "white",
           "lakecolor": "white",
           "landcolor": "#E5ECF6",
           "showlakes": true,
           "showland": true,
           "subunitcolor": "white"
          },
          "hoverlabel": {
           "align": "left"
          },
          "hovermode": "closest",
          "mapbox": {
           "style": "light"
          },
          "paper_bgcolor": "white",
          "plot_bgcolor": "#E5ECF6",
          "polar": {
           "angularaxis": {
            "gridcolor": "white",
            "linecolor": "white",
            "ticks": ""
           },
           "bgcolor": "#E5ECF6",
           "radialaxis": {
            "gridcolor": "white",
            "linecolor": "white",
            "ticks": ""
           }
          },
          "scene": {
           "xaxis": {
            "backgroundcolor": "#E5ECF6",
            "gridcolor": "white",
            "gridwidth": 2,
            "linecolor": "white",
            "showbackground": true,
            "ticks": "",
            "zerolinecolor": "white"
           },
           "yaxis": {
            "backgroundcolor": "#E5ECF6",
            "gridcolor": "white",
            "gridwidth": 2,
            "linecolor": "white",
            "showbackground": true,
            "ticks": "",
            "zerolinecolor": "white"
           },
           "zaxis": {
            "backgroundcolor": "#E5ECF6",
            "gridcolor": "white",
            "gridwidth": 2,
            "linecolor": "white",
            "showbackground": true,
            "ticks": "",
            "zerolinecolor": "white"
           }
          },
          "shapedefaults": {
           "line": {
            "color": "#2a3f5f"
           }
          },
          "ternary": {
           "aaxis": {
            "gridcolor": "white",
            "linecolor": "white",
            "ticks": ""
           },
           "baxis": {
            "gridcolor": "white",
            "linecolor": "white",
            "ticks": ""
           },
           "bgcolor": "#E5ECF6",
           "caxis": {
            "gridcolor": "white",
            "linecolor": "white",
            "ticks": ""
           }
          },
          "title": {
           "x": 0.05
          },
          "xaxis": {
           "automargin": true,
           "gridcolor": "white",
           "linecolor": "white",
           "ticks": "",
           "title": {
            "standoff": 15
           },
           "zerolinecolor": "white",
           "zerolinewidth": 2
          },
          "yaxis": {
           "automargin": true,
           "gridcolor": "white",
           "linecolor": "white",
           "ticks": "",
           "title": {
            "standoff": 15
           },
           "zerolinecolor": "white",
           "zerolinewidth": 2
          }
         }
        },
        "title": {
         "text": "Cash evolution",
         "x": 0.5
        },
        "xaxis": {
         "anchor": "y",
         "color": "black",
         "domain": [
          0,
          1
         ],
         "gridcolor": "black",
         "tickcolor": "black",
         "title": {
          "text": "Index"
         }
        },
        "yaxis": {
         "anchor": "x",
         "color": "black",
         "domain": [
          0,
          1
         ],
         "gridcolor": "black",
         "tickcolor": "black",
         "title": {
          "text": "X"
         }
        }
       }
      }
     },
     "metadata": {},
     "output_type": "display_data"
    }
   ],
   "source": [
    "fig = px.line(X_t)\n",
    "fig.update_traces(line_color = \"maroon\")\n",
    "fig.update_layout(\n",
    "    title_text=\"Cash evolution\",\n",
    "    title_x=0.5,\n",
    "    plot_bgcolor='white',  # set background color to white\n",
    "    paper_bgcolor='white',  # set background color to white\n",
    "    font=dict(color='black'),  # set font color to black\n",
    "    xaxis=dict(title_text=\"Index\", color='black', tickcolor='black', gridcolor='black'),  # set x-axis color, tick color, grid color, and grid width\n",
    "    yaxis=dict(title_text=\"X\", color='black', tickcolor='black', gridcolor='black'),  # set y-axis color, tick color, grid color, and grid width\n",
    ")\n",
    "\n",
    "fig.show()"
   ]
  },
  {
   "cell_type": "markdown",
   "metadata": {},
   "source": [
    "# Implementation of strategies"
   ]
  },
  {
   "cell_type": "code",
   "execution_count": 117,
   "metadata": {},
   "outputs": [],
   "source": [
    "def Monte_Carlo_path(q_a_opt, q_b_opt, l_a_opt, l_b_opt, lambda_max, intensity_matrix, T, dt, X_0, Y_0, P_0, b, sigma, delta, l_const, initial_state_spread, spread_values, transition_matrix, intensity_spread, strategy):\n",
    "    \n",
    "    # spread\n",
    "\n",
    "    PPP_spread = poisson_point_process_sim(intensity_spread, T)   # realisation of tick time clock process - number and arrival times\n",
    "    spread_simulated = spread_sim(0, spread_values, T, transition_matrix, PPP_spread[0])   # simulated spread positions\n",
    "    s_t = np.array([spread_values[i] for i in spread_simulated])   # simulated spread values\n",
    "\n",
    "    # execution of orders\n",
    "\n",
    "    lambda_max = np.max(intensity_matrix) \n",
    "    intensity_orders_a_simulation = poisson_point_process_sim(np.max(lambda_max), T) # simulation of the poisson process with maximum lambda as intensity\n",
    "    intensity_orders_b_simulation = poisson_point_process_sim(np.max(lambda_max), T) # simulation of the poisson process with maximum lambda as intensity\n",
    "\n",
    "    if strategy == \"random\":\n",
    "        q_a = np.random.binomial(1, 0.5, len(intensity_orders_a_simulation[1]))  # choice of quotes for ask\n",
    "        q_b = np.random.binomial(1, 0.5, len(intensity_orders_b_simulation[1]))  # choice of quotes for bid\n",
    "    elif strategy == \"constant\":\n",
    "        q_a = np.repeat(0, len(intensity_orders_a_simulation[1]))  # choice of quotes for ask\n",
    "        q_b = np.repeat(0, len(intensity_orders_b_simulation[1]))  # choice of quotes for bid\n",
    "    elif strategy == \"womo\":\n",
    "        q_a = q_a_opt # choice of quotes for ask\n",
    "        q_a = q_b_opt  # choice of quotes for bid\n",
    "\n",
    "    orders_a_simulated = orders_simulaton(intensity_matrix, PPP_spread[1], spread_simulated, lambda_max, intensity_orders_a_simulation[1], q_a)\n",
    "    orders_b_simulated = orders_simulaton(intensity_matrix, PPP_spread[1], spread_simulated, lambda_max, intensity_orders_b_simulation[1], q_b)\n",
    "\n",
    "    orders_a = orders_a_simulated[0]  # final arrival times of ask orders\n",
    "    orders_b = orders_b_simulated[0]  # final arrival times of bid orders\n",
    "    q_a = orders_a_simulated[1]  # final quotes of ask orders at arrival times\n",
    "    q_b = orders_b_simulated[1]  # final quotes of bid orders at arrival times\n",
    "\n",
    "    # price\n",
    "\n",
    "    W_t = np.cumsum(np.concatenate(([0], np.random.normal(0, np.sqrt(T * dt), int(1 / dt))))) # simulation of Brownian motion between subsequent times (variance equal to time difference)\n",
    "    t_price = np.arange(0, T + T * dt / 2, T * dt) \n",
    "\n",
    "    p_t = price_sim(b, P_0, t_price, sigma, np.array(W_t))  # final price process\n",
    "\n",
    "    # the choice of sizes of trades\n",
    "\n",
    "    if strategy == \"womo\":\n",
    "        to_do = 1  # will fill in with optimal l\n",
    "    else:\n",
    "        l_a = np.repeat(l_const, len(orders_a))\n",
    "        l_b = np.repeat(l_const, len(orders_b))\n",
    "\n",
    "    # cash and inventory\n",
    "\n",
    "    Y_t = inventory_sim(orders_a, orders_b, l_a, l_b, Y_0)  # realisation of inventory\n",
    "    X_t = cash_sim(orders_a, orders_b, l_a, l_b, X_0, delta, q_a, q_b, s_t, PPP_spread[1], p_t, t_price) # realisation of cash\n",
    "\n",
    "    return Y_t[-1], X_t[-1], len(orders_a), len(orders_b), max(Y_t)"
   ]
  },
  {
   "cell_type": "markdown",
   "metadata": {},
   "source": [
    "## Random Strategy"
   ]
  },
  {
   "cell_type": "code",
   "execution_count": 118,
   "metadata": {},
   "outputs": [],
   "source": [
    "lambda_max = np.max(intensity_matrix_sym)  # maximum lambda serving as a reference for acceptance probability\n",
    "intensity_orders_simulation = poisson_point_process_sim(np.max(lambda_max), T) # simulation of the poisson process with maximum lambda as intensity\n",
    "\n",
    "q_a_initial = np.random.binomial(1, 0.5, len(intensity_orders_simulation[1]))  # ad-hoc choice of quotes for ask\n",
    "q_b_initial = np.random.binomial(1, 0.5, len(intensity_orders_simulation[1]))  # ad-hoc choice of quotes for bid"
   ]
  },
  {
   "cell_type": "code",
   "execution_count": 119,
   "metadata": {},
   "outputs": [],
   "source": [
    "n = 1000 # number of paths\n",
    "\n",
    "arr_res_Y_rand = [None] * n\n",
    "arr_res_X_rand = [None] * n\n",
    "arr_res_or_a_rand = [None] * n\n",
    "arr_res_or_b_rand = [None] * n\n",
    "arr_res_max_Y_rand = [None] * n\n",
    "\n",
    "\n",
    "for i in range(n):\n",
    "    res_acc = Monte_Carlo_path(q_a_initial, q_b_initial, l_a, l_b, lambda_max, intensity_matrix_sym, T, dt, X_0, Y_0, P_0, b, sigma, delta, l_const, 0, spread_values, prob_matrix, intensity, \"random\")\n",
    "    \n",
    "    arr_res_Y_rand[i] = res_acc[0]\n",
    "    arr_res_X_rand[i] = res_acc[1]\n",
    "    arr_res_or_a_rand[i] = res_acc[2]\n",
    "    arr_res_or_b_rand[i] = res_acc[3]\n",
    "    arr_res_max_Y_rand[i] = res_acc[4]"
   ]
  },
  {
   "cell_type": "code",
   "execution_count": 120,
   "metadata": {},
   "outputs": [
    {
     "data": {
      "text/plain": [
       "531.4"
      ]
     },
     "execution_count": 120,
     "metadata": {},
     "output_type": "execute_result"
    }
   ],
   "source": [
    "m_XT_rand = np.mean(arr_res_X_rand)\n",
    "std_XT_rand = np.std(arr_res_X_rand)\n",
    "m_sup_Y_rand = np.mean(arr_res_max_Y_rand)\n",
    "\n",
    "m_sup_Y_rand"
   ]
  },
  {
   "cell_type": "code",
   "execution_count": 122,
   "metadata": {},
   "outputs": [
    {
     "data": {
      "text/plain": [
       "28104.940139310223"
      ]
     },
     "execution_count": 122,
     "metadata": {},
     "output_type": "execute_result"
    }
   ],
   "source": [
    "std_XT_rand"
   ]
  },
  {
   "cell_type": "markdown",
   "metadata": {},
   "source": [
    "## Constant Strategy"
   ]
  },
  {
   "cell_type": "markdown",
   "metadata": {},
   "source": [
    "In order to do the strategies simulation we have to do as follows for each of the 1000 paths: \n",
    "1) simulate values for price and spread. \n",
    "2) simulate orders_a, orders_b based on the choice of spread q_a, q_b\n",
    "3) simulate l_a, l_b\n",
    "4) multiply l times price, corrected by spread (and tick if q == 1)\n",
    "5) calculate cash and inventory"
   ]
  },
  {
   "cell_type": "code",
   "execution_count": 131,
   "metadata": {},
   "outputs": [],
   "source": [
    "n = 1000 # number of paths\n",
    "\n",
    "arr_res_Y_const = [None] * n\n",
    "arr_res_X_const = [None] * n\n",
    "arr_res_or_a_const = [None] * n\n",
    "arr_res_or_b_const = [None] * n\n",
    "arr_res_max_Y_const = [None] * n\n",
    "\n",
    "\n",
    "for i in range(n):\n",
    "    res_acc = Monte_Carlo_path(q_a_initial, q_b_initial, l_a, l_b, lambda_max, intensity_matrix_sym, T, dt, X_0, Y_0, P_0, b, sigma, delta, l_const, 0, spread_values, prob_matrix, intensity, \"constant\")\n",
    "    \n",
    "    arr_res_Y_const[i] = res_acc[0]\n",
    "    arr_res_X_const[i] = res_acc[1]\n",
    "    arr_res_or_a_const[i] = res_acc[2]\n",
    "    arr_res_or_b_const[i] = res_acc[3]\n",
    "    arr_res_max_Y_const[i] = res_acc[4]"
   ]
  },
  {
   "cell_type": "code",
   "execution_count": 132,
   "metadata": {},
   "outputs": [
    {
     "name": "stdout",
     "output_type": "stream",
     "text": [
      "Mean: 156.32232401430952\n",
      "Standard Deviation: 96.73585908403008\n"
     ]
    }
   ],
   "source": [
    "\n",
    "# Flatten each nd.array and concatenate them into one long array\n",
    "flattened_data = np.concatenate([arr.flatten() for arr in arr_res_or_a_const])\n",
    "\n",
    "# Calculate mean and standard deviation\n",
    "mean_value = np.mean(flattened_data)\n",
    "std_deviation = np.std(flattened_data)\n",
    "\n",
    "print(\"Mean:\", mean_value)\n",
    "print(\"Standard Deviation:\", std_deviation)"
   ]
  },
  {
   "cell_type": "code",
   "execution_count": 133,
   "metadata": {},
   "outputs": [],
   "source": [
    "# Terminal wealth constant\n",
    "m_XT_cst = np.mean(arr_res_X_const)\n",
    "std_XT_cst = np.std(arr_res_X_const)\n",
    "m_std_XT_cst = m_XT_cst/std_XT_cst\n",
    "\n",
    "#Num. of exec. at bid constant\n",
    "lengths_b = [arr.shape[0] for arr in arr_res_or_b_const]\n",
    "\n",
    "m_NbT_cst = np.mean(lengths_b)\n",
    "std_NbT_cst = np.std(lengths_b)\n",
    "\n",
    "#Num. of exec. at ask constant\n",
    "lengths_a = [arr.shape[0] for arr in arr_res_or_a_const]\n",
    "\n",
    "m_NaT_cst = np.mean(lengths_a)\n",
    "std_NaT_cst = np.std(lengths_a)\n",
    "\n",
    "#Maximum Inventory constant\n",
    "m_sup_Y_cst = np.mean(arr_res_max_Y_const)\n",
    "std_sup_Y_cst = np.std(arr_res_max_Y_const)\n"
   ]
  },
  {
   "cell_type": "code",
   "execution_count": 134,
   "metadata": {},
   "outputs": [
    {
     "data": {
      "text/plain": [
       "-894.3940713352678"
      ]
     },
     "execution_count": 134,
     "metadata": {},
     "output_type": "execute_result"
    }
   ],
   "source": [
    "m_XT_cst"
   ]
  },
  {
   "cell_type": "markdown",
   "metadata": {},
   "source": [
    "## Optimal strategy without market orders (WOMO)"
   ]
  },
  {
   "cell_type": "code",
   "execution_count": 94,
   "metadata": {},
   "outputs": [
    {
     "ename": "IndexError",
     "evalue": "boolean index did not match indexed array along dimension 0; dimension is 52 but corresponding boolean dimension is 51",
     "output_type": "error",
     "traceback": [
      "\u001b[1;31m---------------------------------------------------------------------------\u001b[0m",
      "\u001b[1;31mIndexError\u001b[0m                                Traceback (most recent call last)",
      "\u001b[1;32m<ipython-input-94-6dc993b5a04e>\u001b[0m in \u001b[0;36m<module>\u001b[1;34m\u001b[0m\n\u001b[0;32m      9\u001b[0m \u001b[1;33m\u001b[0m\u001b[0m\n\u001b[0;32m     10\u001b[0m \u001b[1;32mfor\u001b[0m \u001b[0mi\u001b[0m \u001b[1;32min\u001b[0m \u001b[0mrange\u001b[0m\u001b[1;33m(\u001b[0m\u001b[0mn\u001b[0m\u001b[1;33m)\u001b[0m\u001b[1;33m:\u001b[0m\u001b[1;33m\u001b[0m\u001b[1;33m\u001b[0m\u001b[0m\n\u001b[1;32m---> 11\u001b[1;33m     \u001b[0mres_acc\u001b[0m \u001b[1;33m=\u001b[0m \u001b[0mMonte_Carlo_path\u001b[0m\u001b[1;33m(\u001b[0m\u001b[0mq_a_initial\u001b[0m\u001b[1;33m,\u001b[0m \u001b[0mq_b_initial\u001b[0m\u001b[1;33m,\u001b[0m \u001b[0ml_a\u001b[0m\u001b[1;33m,\u001b[0m \u001b[0ml_b\u001b[0m\u001b[1;33m,\u001b[0m \u001b[0mlambda_max\u001b[0m\u001b[1;33m,\u001b[0m \u001b[0mintensity_matrix_sym\u001b[0m\u001b[1;33m,\u001b[0m \u001b[0mT\u001b[0m\u001b[1;33m,\u001b[0m \u001b[0mdt\u001b[0m\u001b[1;33m,\u001b[0m \u001b[0mX_0\u001b[0m\u001b[1;33m,\u001b[0m \u001b[0mY_0\u001b[0m\u001b[1;33m,\u001b[0m \u001b[0mP_0\u001b[0m\u001b[1;33m,\u001b[0m \u001b[0mb\u001b[0m\u001b[1;33m,\u001b[0m \u001b[0msigma\u001b[0m\u001b[1;33m,\u001b[0m \u001b[0mdelta\u001b[0m\u001b[1;33m,\u001b[0m \u001b[0ml_const\u001b[0m\u001b[1;33m,\u001b[0m \u001b[1;36m0\u001b[0m\u001b[1;33m,\u001b[0m \u001b[0mspread_values\u001b[0m\u001b[1;33m,\u001b[0m \u001b[0mprob_matrix\u001b[0m\u001b[1;33m,\u001b[0m \u001b[0mintensity\u001b[0m\u001b[1;33m,\u001b[0m \u001b[1;34m\"womo\"\u001b[0m\u001b[1;33m)\u001b[0m\u001b[1;33m\u001b[0m\u001b[1;33m\u001b[0m\u001b[0m\n\u001b[0m\u001b[0;32m     12\u001b[0m \u001b[1;33m\u001b[0m\u001b[0m\n\u001b[0;32m     13\u001b[0m     \u001b[0marr_res_Y_womo\u001b[0m\u001b[1;33m[\u001b[0m\u001b[0mi\u001b[0m\u001b[1;33m]\u001b[0m \u001b[1;33m=\u001b[0m \u001b[0mres_acc\u001b[0m\u001b[1;33m[\u001b[0m\u001b[1;36m0\u001b[0m\u001b[1;33m]\u001b[0m\u001b[1;33m\u001b[0m\u001b[1;33m\u001b[0m\u001b[0m\n",
      "\u001b[1;32m<ipython-input-86-d02198bd68ec>\u001b[0m in \u001b[0;36mMonte_Carlo_path\u001b[1;34m(q_a_opt, q_b_opt, l_a_opt, l_b_opt, lambda_max, intensity_matrix, T, dt, X_0, Y_0, P_0, b, sigma, delta, l_const, initial_state_spread, spread_values, transition_matrix, intensity_spread, strategy)\u001b[0m\n\u001b[0;32m     22\u001b[0m         \u001b[0mq_a\u001b[0m \u001b[1;33m=\u001b[0m \u001b[0mq_b_opt\u001b[0m  \u001b[1;31m# choice of quotes for bid\u001b[0m\u001b[1;33m\u001b[0m\u001b[1;33m\u001b[0m\u001b[0m\n\u001b[0;32m     23\u001b[0m \u001b[1;33m\u001b[0m\u001b[0m\n\u001b[1;32m---> 24\u001b[1;33m     \u001b[0morders_a_simulated\u001b[0m \u001b[1;33m=\u001b[0m \u001b[0morders_simulaton\u001b[0m\u001b[1;33m(\u001b[0m\u001b[0mintensity_matrix\u001b[0m\u001b[1;33m,\u001b[0m \u001b[0mPPP_spread\u001b[0m\u001b[1;33m[\u001b[0m\u001b[1;36m1\u001b[0m\u001b[1;33m]\u001b[0m\u001b[1;33m,\u001b[0m \u001b[0mspread_simulated\u001b[0m\u001b[1;33m,\u001b[0m \u001b[0mlambda_max\u001b[0m\u001b[1;33m,\u001b[0m \u001b[0mintensity_orders_simulation\u001b[0m\u001b[1;33m[\u001b[0m\u001b[1;36m1\u001b[0m\u001b[1;33m]\u001b[0m\u001b[1;33m,\u001b[0m \u001b[0mq_a\u001b[0m\u001b[1;33m)\u001b[0m\u001b[1;33m\u001b[0m\u001b[1;33m\u001b[0m\u001b[0m\n\u001b[0m\u001b[0;32m     25\u001b[0m     \u001b[0morders_b_simulated\u001b[0m \u001b[1;33m=\u001b[0m \u001b[0morders_simulaton\u001b[0m\u001b[1;33m(\u001b[0m\u001b[0mintensity_matrix\u001b[0m\u001b[1;33m,\u001b[0m \u001b[0mPPP_spread\u001b[0m\u001b[1;33m[\u001b[0m\u001b[1;36m1\u001b[0m\u001b[1;33m]\u001b[0m\u001b[1;33m,\u001b[0m \u001b[0mspread_simulated\u001b[0m\u001b[1;33m,\u001b[0m \u001b[0mlambda_max\u001b[0m\u001b[1;33m,\u001b[0m \u001b[0mintensity_orders_simulation\u001b[0m\u001b[1;33m[\u001b[0m\u001b[1;36m1\u001b[0m\u001b[1;33m]\u001b[0m\u001b[1;33m,\u001b[0m \u001b[0mq_b\u001b[0m\u001b[1;33m)\u001b[0m\u001b[1;33m\u001b[0m\u001b[1;33m\u001b[0m\u001b[0m\n\u001b[0;32m     26\u001b[0m \u001b[1;33m\u001b[0m\u001b[0m\n",
      "\u001b[1;32m<ipython-input-72-ee1d61e6b819>\u001b[0m in \u001b[0;36morders_simulaton\u001b[1;34m(intensity_matrix, spread_changes, spread, lambda_max, initial_intensities, q)\u001b[0m\n\u001b[0;32m     24\u001b[0m \u001b[1;33m\u001b[0m\u001b[0m\n\u001b[0;32m     25\u001b[0m     \u001b[0marrival_times\u001b[0m \u001b[1;33m=\u001b[0m \u001b[0minitial_intensities\u001b[0m\u001b[1;33m[\u001b[0m\u001b[0macceptance\u001b[0m\u001b[1;33m]\u001b[0m  \u001b[1;31m# final arrival times\u001b[0m\u001b[1;33m\u001b[0m\u001b[1;33m\u001b[0m\u001b[0m\n\u001b[1;32m---> 26\u001b[1;33m     \u001b[0mq_filtered\u001b[0m \u001b[1;33m=\u001b[0m \u001b[0mq\u001b[0m\u001b[1;33m[\u001b[0m\u001b[0macceptance\u001b[0m\u001b[1;33m]\u001b[0m  \u001b[1;31m# filtered quotes - only at accepted arrival times\u001b[0m\u001b[1;33m\u001b[0m\u001b[1;33m\u001b[0m\u001b[0m\n\u001b[0m\u001b[0;32m     27\u001b[0m \u001b[1;33m\u001b[0m\u001b[0m\n\u001b[0;32m     28\u001b[0m     \u001b[1;32mreturn\u001b[0m \u001b[1;33m(\u001b[0m\u001b[0marrival_times\u001b[0m\u001b[1;33m,\u001b[0m \u001b[0mq_filtered\u001b[0m\u001b[1;33m)\u001b[0m\u001b[1;33m\u001b[0m\u001b[1;33m\u001b[0m\u001b[0m\n",
      "\u001b[1;31mIndexError\u001b[0m: boolean index did not match indexed array along dimension 0; dimension is 52 but corresponding boolean dimension is 51"
     ]
    }
   ],
   "source": [
    "n = 1000 # number of paths\n",
    "\n",
    "arr_res_Y_womo = [None] * n\n",
    "arr_res_X_womo = [None] * n\n",
    "arr_res_or_a_womo = [None] * n\n",
    "arr_res_or_b_womo = [None] * n\n",
    "arr_res_max_Y_womo = [None] * n\n",
    "\n",
    "\n",
    "for i in range(n):\n",
    "    res_acc = Monte_Carlo_path(q_a_initial, q_b_initial, l_a, l_b, lambda_max, intensity_matrix_sym, T, dt, X_0, Y_0, P_0, b, sigma, delta, l_const, 0, spread_values, prob_matrix, intensity, \"womo\")\n",
    "    \n",
    "    arr_res_Y_womo[i] = res_acc[0]\n",
    "    arr_res_X_womo[i] = res_acc[1]\n",
    "    arr_res_or_a_womo[i] = res_acc[2]\n",
    "    arr_res_or_b_womo[i] = res_acc[3]\n",
    "    arr_res_max_Y_womo[i] = res_acc[4]"
   ]
  }
 ],
 "metadata": {
  "kernelspec": {
   "display_name": "Python 3",
   "language": "python",
   "name": "python3"
  },
  "language_info": {
   "codemirror_mode": {
    "name": "ipython",
    "version": 3
   },
   "file_extension": ".py",
   "mimetype": "text/x-python",
   "name": "python",
   "nbconvert_exporter": "python",
   "pygments_lexer": "ipython3",
   "version": "3.11.5"
  }
 },
 "nbformat": 4,
 "nbformat_minor": 2
}
