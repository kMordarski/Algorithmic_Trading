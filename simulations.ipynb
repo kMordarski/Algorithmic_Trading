{
 "cells": [
  {
   "cell_type": "code",
   "execution_count": 84,
   "metadata": {},
   "outputs": [],
   "source": [
    "import numpy as np\n",
    "import plotly as plt"
   ]
  },
  {
   "cell_type": "code",
   "execution_count": 85,
   "metadata": {},
   "outputs": [],
   "source": [
    "import plotly.express as px"
   ]
  },
  {
   "cell_type": "markdown",
   "metadata": {},
   "source": [
    "We use the values of parameters from the paper, apart from sigma whcih was unfortunately not specified."
   ]
  },
  {
   "cell_type": "code",
   "execution_count": 86,
   "metadata": {},
   "outputs": [],
   "source": [
    "# Parameters\n",
    "\n",
    "# General\n",
    "t = 0\n",
    "T = 300\n",
    "np.random.seed(100)\n",
    "\n",
    "# Price\n",
    "b = 0\n",
    "sigma = 0.1\n",
    "P_0 = 45\n",
    "dt = 1 / 1000   # time difference for Brownian motion simulation\n",
    "\n",
    "# Spread\n",
    "intensity = 1\n",
    "\n",
    "# Cash and inventory\n",
    "Y_0 = 0\n",
    "X_0 = 0\n",
    "delta = 0.005"
   ]
  },
  {
   "cell_type": "markdown",
   "metadata": {},
   "source": [
    "# Spread"
   ]
  },
  {
   "cell_type": "markdown",
   "metadata": {},
   "source": [
    "The spread process is the combination of two stochastic processes. The first one is nonhomogenuous Possion process $(N_t)_t$ with intensity $\\lambda(t)$, which determines the times when spread is afected by buy and sell orders. The second one, being the discrete-time stationary Markov chain governs the subsequent states of spread (here there are $m=6$ states) with probability transition matrix $\\bold{P}$. The resultuing spread is a continuous time Markov chain: \n",
    "$$S_t = \\hat{S}_{N_t}, t\\geq 0 $$"
   ]
  },
  {
   "cell_type": "code",
   "execution_count": 87,
   "metadata": {},
   "outputs": [],
   "source": [
    "def poisson_point_process_sim(intensity, T):\n",
    "    '''\n",
    "    Returns the arrival times and the number of arrivals.\n",
    "\n",
    "    Parameters:\n",
    "        intensity (float): The intensity of the process\n",
    "        T (float): The timespan\n",
    "\n",
    "    Returns:\n",
    "        N, T_i ((int, np.array)): Tuple with realisations of the Poisson Process   \n",
    "    '''\n",
    "    N = np.random.poisson(intensity * T)    # number of changes of spread\n",
    "    T_i = np.cumsum(np.random.exponential(1 / intensity, N))     # arrival times of changes of spread\n",
    "\n",
    "    return (N, T_i)"
   ]
  },
  {
   "cell_type": "code",
   "execution_count": 88,
   "metadata": {},
   "outputs": [],
   "source": [
    "def spread_sim(initial_state, spread_values, T, matrix, N): \n",
    "    '''\n",
    "    Simulates the spread process.\n",
    "\n",
    "    Parameters:\n",
    "        initial_state (int): The iniitial value of spread (at time 0)\n",
    "        spread_values (list): Possible values of the spread\n",
    "        T (float): The timespan\n",
    "        matrix (np.array): Probability transition matrix of the Markov chain\n",
    "        N (int): Number of arrivals\n",
    "\n",
    "    Returns:\n",
    "        s (list): Realisation of the spread process   \n",
    "    '''\n",
    "    U = np.random.uniform(0, 1, 1000)  # uniform random variable determining the subsequent values of the Markov chain\n",
    "    matrix_sum = np.cumsum(matrix, axis = 1)   # cumulative probabilities\n",
    "    s = [initial_state]   # initial state is 0\n",
    "    for i in range(1, N):\n",
    "        potential_position = np.sum(U[i] > matrix_sum[s[i - 1], ])   # checking the positions based on the draw of the uniform random variable\n",
    "        if potential_position == s[i - 1] or potential_position == 6:   # can't stay in the same state\n",
    "            s.append(potential_position - 1)\n",
    "        else:\n",
    "            s.append(potential_position)\n",
    "            \n",
    "    return s"
   ]
  },
  {
   "cell_type": "code",
   "execution_count": 89,
   "metadata": {},
   "outputs": [],
   "source": [
    "# spread specific objects\n",
    "\n",
    "prob_matrix = np.array([[0, 0.41, 0.22, 0.16, 0.142, 0.065], \n",
    "                        [0.201, 0, 0.435, 0.192, 0.103, 0.067],\n",
    "                        [0.113, 0.221, 0, 0.4582, 0.147, 0.059],\n",
    "                        [0.07, 0.085, 0.275, 0, 0.465, 0.102],\n",
    "                        [0.068, 0.049, 0.073, 0.363, 0, 0.446],\n",
    "                        [0.077, 0.057, 0.059, 0.112, 0.692, 0]])   # probability transition matrix\n",
    "                        \n",
    "spread_values = [0.005, 0.01, 0.015, 0.02, 0.025, 0.03]  # posisible values of spread\n"
   ]
  },
  {
   "cell_type": "code",
   "execution_count": 90,
   "metadata": {},
   "outputs": [],
   "source": [
    "PPP_spread = poisson_point_process_sim(intensity, T)   # realisation of tick time clock process - number and arrival times\n",
    "spread_simulated = spread_sim(0, spread_values, T, prob_matrix, PPP_spread[0])   # simulated spread positions\n",
    "s_t = np.array([spread_values[i] for i in spread_simulated])   # simulated spread values"
   ]
  },
  {
   "cell_type": "code",
   "execution_count": 91,
   "metadata": {},
   "outputs": [
    {
     "data": {
      "text/plain": [
       "302"
      ]
     },
     "execution_count": 91,
     "metadata": {},
     "output_type": "execute_result"
    }
   ],
   "source": [
    "len(s_t)"
   ]
  },
  {
   "cell_type": "code",
   "execution_count": 92,
   "metadata": {},
   "outputs": [
    {
     "data": {
      "text/plain": [
       "302"
      ]
     },
     "execution_count": 92,
     "metadata": {},
     "output_type": "execute_result"
    }
   ],
   "source": [
    "len(spread_simulated)"
   ]
  },
  {
   "cell_type": "code",
   "execution_count": 93,
   "metadata": {},
   "outputs": [
    {
     "data": {
      "application/vnd.plotly.v1+json": {
       "config": {
        "plotlyServerURL": "https://plot.ly"
       },
       "data": [
        {
         "hovertemplate": "variable=0<br>index=%{x}<br>value=%{y}<extra></extra>",
         "legendgroup": "0",
         "line": {
          "color": "maroon",
          "dash": "solid"
         },
         "marker": {
          "symbol": "circle"
         },
         "mode": "lines",
         "name": "0",
         "orientation": "v",
         "showlegend": true,
         "type": "scatter",
         "x": [
          0,
          1,
          2,
          3,
          4,
          5,
          6,
          7,
          8,
          9,
          10,
          11,
          12,
          13,
          14,
          15,
          16,
          17,
          18,
          19,
          20,
          21,
          22,
          23,
          24,
          25,
          26,
          27,
          28,
          29,
          30,
          31,
          32,
          33,
          34,
          35,
          36,
          37,
          38,
          39,
          40,
          41,
          42,
          43,
          44,
          45,
          46,
          47,
          48,
          49,
          50,
          51,
          52,
          53,
          54,
          55,
          56,
          57,
          58,
          59,
          60,
          61,
          62,
          63,
          64,
          65,
          66,
          67,
          68,
          69,
          70,
          71,
          72,
          73,
          74,
          75,
          76,
          77,
          78,
          79,
          80,
          81,
          82,
          83,
          84,
          85,
          86,
          87,
          88,
          89,
          90,
          91,
          92,
          93,
          94,
          95,
          96,
          97,
          98,
          99,
          100,
          101,
          102,
          103,
          104,
          105,
          106,
          107,
          108,
          109,
          110,
          111,
          112,
          113,
          114,
          115,
          116,
          117,
          118,
          119,
          120,
          121,
          122,
          123,
          124,
          125,
          126,
          127,
          128,
          129,
          130,
          131,
          132,
          133,
          134,
          135,
          136,
          137,
          138,
          139,
          140,
          141,
          142,
          143,
          144,
          145,
          146,
          147,
          148,
          149,
          150,
          151,
          152,
          153,
          154,
          155,
          156,
          157,
          158,
          159,
          160,
          161,
          162,
          163,
          164,
          165,
          166,
          167,
          168,
          169,
          170,
          171,
          172,
          173,
          174,
          175,
          176,
          177,
          178,
          179,
          180,
          181,
          182,
          183,
          184,
          185,
          186,
          187,
          188,
          189,
          190,
          191,
          192,
          193,
          194,
          195,
          196,
          197,
          198,
          199,
          200,
          201,
          202,
          203,
          204,
          205,
          206,
          207,
          208,
          209,
          210,
          211,
          212,
          213,
          214,
          215,
          216,
          217,
          218,
          219,
          220,
          221,
          222,
          223,
          224,
          225,
          226,
          227,
          228,
          229,
          230,
          231,
          232,
          233,
          234,
          235,
          236,
          237,
          238,
          239,
          240,
          241,
          242,
          243,
          244,
          245,
          246,
          247,
          248,
          249,
          250,
          251,
          252,
          253,
          254,
          255,
          256,
          257,
          258,
          259,
          260,
          261,
          262,
          263,
          264,
          265,
          266,
          267,
          268,
          269,
          270,
          271,
          272,
          273,
          274,
          275,
          276,
          277,
          278,
          279,
          280,
          281,
          282,
          283,
          284,
          285,
          286,
          287,
          288,
          289,
          290,
          291,
          292,
          293,
          294,
          295,
          296,
          297,
          298,
          299,
          300,
          301
         ],
         "xaxis": "x",
         "y": [
          0.005,
          0.01,
          0.005,
          0.01,
          0.02,
          0.005,
          0.01,
          0.015,
          0.02,
          0.025,
          0.02,
          0.015,
          0.025,
          0.02,
          0.015,
          0.005,
          0.01,
          0.005,
          0.02,
          0.025,
          0.02,
          0.025,
          0.01,
          0.025,
          0.01,
          0.005,
          0.015,
          0.02,
          0.025,
          0.02,
          0.01,
          0.02,
          0.025,
          0.03,
          0.025,
          0.02,
          0.025,
          0.03,
          0.025,
          0.02,
          0.015,
          0.02,
          0.03,
          0.025,
          0.02,
          0.025,
          0.03,
          0.02,
          0.005,
          0.01,
          0.005,
          0.01,
          0.025,
          0.02,
          0.025,
          0.02,
          0.01,
          0.02,
          0.03,
          0.025,
          0.03,
          0.025,
          0.02,
          0.015,
          0.03,
          0.005,
          0.025,
          0.02,
          0.025,
          0.02,
          0.025,
          0.03,
          0.015,
          0.01,
          0.005,
          0.01,
          0.03,
          0.025,
          0.01,
          0.015,
          0.02,
          0.025,
          0.02,
          0.025,
          0.01,
          0.015,
          0.005,
          0.015,
          0.02,
          0.015,
          0.02,
          0.005,
          0.015,
          0.005,
          0.015,
          0.02,
          0.005,
          0.03,
          0.025,
          0.03,
          0.025,
          0.03,
          0.015,
          0.02,
          0.025,
          0.03,
          0.025,
          0.03,
          0.025,
          0.03,
          0.025,
          0.03,
          0.025,
          0.005,
          0.02,
          0.025,
          0.03,
          0.025,
          0.02,
          0.03,
          0.025,
          0.015,
          0.02,
          0.005,
          0.01,
          0.02,
          0.025,
          0.015,
          0.01,
          0.03,
          0.005,
          0.02,
          0.015,
          0.01,
          0.02,
          0.01,
          0.015,
          0.02,
          0.025,
          0.02,
          0.025,
          0.02,
          0.025,
          0.03,
          0.015,
          0.03,
          0.005,
          0.03,
          0.01,
          0.005,
          0.02,
          0.03,
          0.025,
          0.03,
          0.01,
          0.005,
          0.01,
          0.005,
          0.03,
          0.025,
          0.02,
          0.015,
          0.02,
          0.01,
          0.005,
          0.025,
          0.02,
          0.01,
          0.015,
          0.025,
          0.02,
          0.025,
          0.03,
          0.005,
          0.01,
          0.02,
          0.025,
          0.02,
          0.01,
          0.005,
          0.01,
          0.015,
          0.025,
          0.03,
          0.015,
          0.025,
          0.03,
          0.025,
          0.03,
          0.02,
          0.025,
          0.02,
          0.025,
          0.02,
          0.025,
          0.02,
          0.025,
          0.015,
          0.02,
          0.025,
          0.015,
          0.02,
          0.015,
          0.02,
          0.025,
          0.02,
          0.025,
          0.02,
          0.025,
          0.02,
          0.01,
          0.025,
          0.03,
          0.02,
          0.015,
          0.005,
          0.01,
          0.005,
          0.03,
          0.025,
          0.03,
          0.025,
          0.015,
          0.02,
          0.015,
          0.03,
          0.01,
          0.015,
          0.005,
          0.015,
          0.02,
          0.01,
          0.02,
          0.01,
          0.015,
          0.02,
          0.015,
          0.01,
          0.005,
          0.01,
          0.015,
          0.02,
          0.025,
          0.03,
          0.025,
          0.03,
          0.025,
          0.03,
          0.025,
          0.01,
          0.02,
          0.015,
          0.02,
          0.03,
          0.02,
          0.005,
          0.02,
          0.01,
          0.02,
          0.025,
          0.005,
          0.01,
          0.015,
          0.005,
          0.01,
          0.015,
          0.005,
          0.01,
          0.025,
          0.02,
          0.015,
          0.02,
          0.025,
          0.03,
          0.02,
          0.015,
          0.01,
          0.005,
          0.01,
          0.02,
          0.015,
          0.01,
          0.03,
          0.03,
          0.025,
          0.02,
          0.025,
          0.01,
          0.015,
          0.025,
          0.03,
          0.025,
          0.005,
          0.02,
          0.03,
          0.025,
          0.02,
          0.015,
          0.03,
          0.025,
          0.03,
          0.025
         ],
         "yaxis": "y"
        }
       ],
       "layout": {
        "legend": {
         "title": {
          "text": "variable"
         },
         "tracegroupgap": 0
        },
        "margin": {
         "t": 60
        },
        "template": {
         "data": {
          "bar": [
           {
            "error_x": {
             "color": "#2a3f5f"
            },
            "error_y": {
             "color": "#2a3f5f"
            },
            "marker": {
             "line": {
              "color": "#E5ECF6",
              "width": 0.5
             },
             "pattern": {
              "fillmode": "overlay",
              "size": 10,
              "solidity": 0.2
             }
            },
            "type": "bar"
           }
          ],
          "barpolar": [
           {
            "marker": {
             "line": {
              "color": "#E5ECF6",
              "width": 0.5
             },
             "pattern": {
              "fillmode": "overlay",
              "size": 10,
              "solidity": 0.2
             }
            },
            "type": "barpolar"
           }
          ],
          "carpet": [
           {
            "aaxis": {
             "endlinecolor": "#2a3f5f",
             "gridcolor": "white",
             "linecolor": "white",
             "minorgridcolor": "white",
             "startlinecolor": "#2a3f5f"
            },
            "baxis": {
             "endlinecolor": "#2a3f5f",
             "gridcolor": "white",
             "linecolor": "white",
             "minorgridcolor": "white",
             "startlinecolor": "#2a3f5f"
            },
            "type": "carpet"
           }
          ],
          "choropleth": [
           {
            "colorbar": {
             "outlinewidth": 0,
             "ticks": ""
            },
            "type": "choropleth"
           }
          ],
          "contour": [
           {
            "colorbar": {
             "outlinewidth": 0,
             "ticks": ""
            },
            "colorscale": [
             [
              0,
              "#0d0887"
             ],
             [
              0.1111111111111111,
              "#46039f"
             ],
             [
              0.2222222222222222,
              "#7201a8"
             ],
             [
              0.3333333333333333,
              "#9c179e"
             ],
             [
              0.4444444444444444,
              "#bd3786"
             ],
             [
              0.5555555555555556,
              "#d8576b"
             ],
             [
              0.6666666666666666,
              "#ed7953"
             ],
             [
              0.7777777777777778,
              "#fb9f3a"
             ],
             [
              0.8888888888888888,
              "#fdca26"
             ],
             [
              1,
              "#f0f921"
             ]
            ],
            "type": "contour"
           }
          ],
          "contourcarpet": [
           {
            "colorbar": {
             "outlinewidth": 0,
             "ticks": ""
            },
            "type": "contourcarpet"
           }
          ],
          "heatmap": [
           {
            "colorbar": {
             "outlinewidth": 0,
             "ticks": ""
            },
            "colorscale": [
             [
              0,
              "#0d0887"
             ],
             [
              0.1111111111111111,
              "#46039f"
             ],
             [
              0.2222222222222222,
              "#7201a8"
             ],
             [
              0.3333333333333333,
              "#9c179e"
             ],
             [
              0.4444444444444444,
              "#bd3786"
             ],
             [
              0.5555555555555556,
              "#d8576b"
             ],
             [
              0.6666666666666666,
              "#ed7953"
             ],
             [
              0.7777777777777778,
              "#fb9f3a"
             ],
             [
              0.8888888888888888,
              "#fdca26"
             ],
             [
              1,
              "#f0f921"
             ]
            ],
            "type": "heatmap"
           }
          ],
          "heatmapgl": [
           {
            "colorbar": {
             "outlinewidth": 0,
             "ticks": ""
            },
            "colorscale": [
             [
              0,
              "#0d0887"
             ],
             [
              0.1111111111111111,
              "#46039f"
             ],
             [
              0.2222222222222222,
              "#7201a8"
             ],
             [
              0.3333333333333333,
              "#9c179e"
             ],
             [
              0.4444444444444444,
              "#bd3786"
             ],
             [
              0.5555555555555556,
              "#d8576b"
             ],
             [
              0.6666666666666666,
              "#ed7953"
             ],
             [
              0.7777777777777778,
              "#fb9f3a"
             ],
             [
              0.8888888888888888,
              "#fdca26"
             ],
             [
              1,
              "#f0f921"
             ]
            ],
            "type": "heatmapgl"
           }
          ],
          "histogram": [
           {
            "marker": {
             "pattern": {
              "fillmode": "overlay",
              "size": 10,
              "solidity": 0.2
             }
            },
            "type": "histogram"
           }
          ],
          "histogram2d": [
           {
            "colorbar": {
             "outlinewidth": 0,
             "ticks": ""
            },
            "colorscale": [
             [
              0,
              "#0d0887"
             ],
             [
              0.1111111111111111,
              "#46039f"
             ],
             [
              0.2222222222222222,
              "#7201a8"
             ],
             [
              0.3333333333333333,
              "#9c179e"
             ],
             [
              0.4444444444444444,
              "#bd3786"
             ],
             [
              0.5555555555555556,
              "#d8576b"
             ],
             [
              0.6666666666666666,
              "#ed7953"
             ],
             [
              0.7777777777777778,
              "#fb9f3a"
             ],
             [
              0.8888888888888888,
              "#fdca26"
             ],
             [
              1,
              "#f0f921"
             ]
            ],
            "type": "histogram2d"
           }
          ],
          "histogram2dcontour": [
           {
            "colorbar": {
             "outlinewidth": 0,
             "ticks": ""
            },
            "colorscale": [
             [
              0,
              "#0d0887"
             ],
             [
              0.1111111111111111,
              "#46039f"
             ],
             [
              0.2222222222222222,
              "#7201a8"
             ],
             [
              0.3333333333333333,
              "#9c179e"
             ],
             [
              0.4444444444444444,
              "#bd3786"
             ],
             [
              0.5555555555555556,
              "#d8576b"
             ],
             [
              0.6666666666666666,
              "#ed7953"
             ],
             [
              0.7777777777777778,
              "#fb9f3a"
             ],
             [
              0.8888888888888888,
              "#fdca26"
             ],
             [
              1,
              "#f0f921"
             ]
            ],
            "type": "histogram2dcontour"
           }
          ],
          "mesh3d": [
           {
            "colorbar": {
             "outlinewidth": 0,
             "ticks": ""
            },
            "type": "mesh3d"
           }
          ],
          "parcoords": [
           {
            "line": {
             "colorbar": {
              "outlinewidth": 0,
              "ticks": ""
             }
            },
            "type": "parcoords"
           }
          ],
          "pie": [
           {
            "automargin": true,
            "type": "pie"
           }
          ],
          "scatter": [
           {
            "fillpattern": {
             "fillmode": "overlay",
             "size": 10,
             "solidity": 0.2
            },
            "type": "scatter"
           }
          ],
          "scatter3d": [
           {
            "line": {
             "colorbar": {
              "outlinewidth": 0,
              "ticks": ""
             }
            },
            "marker": {
             "colorbar": {
              "outlinewidth": 0,
              "ticks": ""
             }
            },
            "type": "scatter3d"
           }
          ],
          "scattercarpet": [
           {
            "marker": {
             "colorbar": {
              "outlinewidth": 0,
              "ticks": ""
             }
            },
            "type": "scattercarpet"
           }
          ],
          "scattergeo": [
           {
            "marker": {
             "colorbar": {
              "outlinewidth": 0,
              "ticks": ""
             }
            },
            "type": "scattergeo"
           }
          ],
          "scattergl": [
           {
            "marker": {
             "colorbar": {
              "outlinewidth": 0,
              "ticks": ""
             }
            },
            "type": "scattergl"
           }
          ],
          "scattermapbox": [
           {
            "marker": {
             "colorbar": {
              "outlinewidth": 0,
              "ticks": ""
             }
            },
            "type": "scattermapbox"
           }
          ],
          "scatterpolar": [
           {
            "marker": {
             "colorbar": {
              "outlinewidth": 0,
              "ticks": ""
             }
            },
            "type": "scatterpolar"
           }
          ],
          "scatterpolargl": [
           {
            "marker": {
             "colorbar": {
              "outlinewidth": 0,
              "ticks": ""
             }
            },
            "type": "scatterpolargl"
           }
          ],
          "scatterternary": [
           {
            "marker": {
             "colorbar": {
              "outlinewidth": 0,
              "ticks": ""
             }
            },
            "type": "scatterternary"
           }
          ],
          "surface": [
           {
            "colorbar": {
             "outlinewidth": 0,
             "ticks": ""
            },
            "colorscale": [
             [
              0,
              "#0d0887"
             ],
             [
              0.1111111111111111,
              "#46039f"
             ],
             [
              0.2222222222222222,
              "#7201a8"
             ],
             [
              0.3333333333333333,
              "#9c179e"
             ],
             [
              0.4444444444444444,
              "#bd3786"
             ],
             [
              0.5555555555555556,
              "#d8576b"
             ],
             [
              0.6666666666666666,
              "#ed7953"
             ],
             [
              0.7777777777777778,
              "#fb9f3a"
             ],
             [
              0.8888888888888888,
              "#fdca26"
             ],
             [
              1,
              "#f0f921"
             ]
            ],
            "type": "surface"
           }
          ],
          "table": [
           {
            "cells": {
             "fill": {
              "color": "#EBF0F8"
             },
             "line": {
              "color": "white"
             }
            },
            "header": {
             "fill": {
              "color": "#C8D4E3"
             },
             "line": {
              "color": "white"
             }
            },
            "type": "table"
           }
          ]
         },
         "layout": {
          "annotationdefaults": {
           "arrowcolor": "#2a3f5f",
           "arrowhead": 0,
           "arrowwidth": 1
          },
          "autotypenumbers": "strict",
          "coloraxis": {
           "colorbar": {
            "outlinewidth": 0,
            "ticks": ""
           }
          },
          "colorscale": {
           "diverging": [
            [
             0,
             "#8e0152"
            ],
            [
             0.1,
             "#c51b7d"
            ],
            [
             0.2,
             "#de77ae"
            ],
            [
             0.3,
             "#f1b6da"
            ],
            [
             0.4,
             "#fde0ef"
            ],
            [
             0.5,
             "#f7f7f7"
            ],
            [
             0.6,
             "#e6f5d0"
            ],
            [
             0.7,
             "#b8e186"
            ],
            [
             0.8,
             "#7fbc41"
            ],
            [
             0.9,
             "#4d9221"
            ],
            [
             1,
             "#276419"
            ]
           ],
           "sequential": [
            [
             0,
             "#0d0887"
            ],
            [
             0.1111111111111111,
             "#46039f"
            ],
            [
             0.2222222222222222,
             "#7201a8"
            ],
            [
             0.3333333333333333,
             "#9c179e"
            ],
            [
             0.4444444444444444,
             "#bd3786"
            ],
            [
             0.5555555555555556,
             "#d8576b"
            ],
            [
             0.6666666666666666,
             "#ed7953"
            ],
            [
             0.7777777777777778,
             "#fb9f3a"
            ],
            [
             0.8888888888888888,
             "#fdca26"
            ],
            [
             1,
             "#f0f921"
            ]
           ],
           "sequentialminus": [
            [
             0,
             "#0d0887"
            ],
            [
             0.1111111111111111,
             "#46039f"
            ],
            [
             0.2222222222222222,
             "#7201a8"
            ],
            [
             0.3333333333333333,
             "#9c179e"
            ],
            [
             0.4444444444444444,
             "#bd3786"
            ],
            [
             0.5555555555555556,
             "#d8576b"
            ],
            [
             0.6666666666666666,
             "#ed7953"
            ],
            [
             0.7777777777777778,
             "#fb9f3a"
            ],
            [
             0.8888888888888888,
             "#fdca26"
            ],
            [
             1,
             "#f0f921"
            ]
           ]
          },
          "colorway": [
           "#636efa",
           "#EF553B",
           "#00cc96",
           "#ab63fa",
           "#FFA15A",
           "#19d3f3",
           "#FF6692",
           "#B6E880",
           "#FF97FF",
           "#FECB52"
          ],
          "font": {
           "color": "#2a3f5f"
          },
          "geo": {
           "bgcolor": "white",
           "lakecolor": "white",
           "landcolor": "#E5ECF6",
           "showlakes": true,
           "showland": true,
           "subunitcolor": "white"
          },
          "hoverlabel": {
           "align": "left"
          },
          "hovermode": "closest",
          "mapbox": {
           "style": "light"
          },
          "paper_bgcolor": "white",
          "plot_bgcolor": "#E5ECF6",
          "polar": {
           "angularaxis": {
            "gridcolor": "white",
            "linecolor": "white",
            "ticks": ""
           },
           "bgcolor": "#E5ECF6",
           "radialaxis": {
            "gridcolor": "white",
            "linecolor": "white",
            "ticks": ""
           }
          },
          "scene": {
           "xaxis": {
            "backgroundcolor": "#E5ECF6",
            "gridcolor": "white",
            "gridwidth": 2,
            "linecolor": "white",
            "showbackground": true,
            "ticks": "",
            "zerolinecolor": "white"
           },
           "yaxis": {
            "backgroundcolor": "#E5ECF6",
            "gridcolor": "white",
            "gridwidth": 2,
            "linecolor": "white",
            "showbackground": true,
            "ticks": "",
            "zerolinecolor": "white"
           },
           "zaxis": {
            "backgroundcolor": "#E5ECF6",
            "gridcolor": "white",
            "gridwidth": 2,
            "linecolor": "white",
            "showbackground": true,
            "ticks": "",
            "zerolinecolor": "white"
           }
          },
          "shapedefaults": {
           "line": {
            "color": "#2a3f5f"
           }
          },
          "ternary": {
           "aaxis": {
            "gridcolor": "white",
            "linecolor": "white",
            "ticks": ""
           },
           "baxis": {
            "gridcolor": "white",
            "linecolor": "white",
            "ticks": ""
           },
           "bgcolor": "#E5ECF6",
           "caxis": {
            "gridcolor": "white",
            "linecolor": "white",
            "ticks": ""
           }
          },
          "title": {
           "x": 0.05
          },
          "xaxis": {
           "automargin": true,
           "gridcolor": "white",
           "linecolor": "white",
           "ticks": "",
           "title": {
            "standoff": 15
           },
           "zerolinecolor": "white",
           "zerolinewidth": 2
          },
          "yaxis": {
           "automargin": true,
           "gridcolor": "white",
           "linecolor": "white",
           "ticks": "",
           "title": {
            "standoff": 15
           },
           "zerolinecolor": "white",
           "zerolinewidth": 2
          }
         }
        },
        "title": {
         "text": "Spread evolution",
         "x": 0.5
        },
        "xaxis": {
         "anchor": "y",
         "domain": [
          0,
          1
         ],
         "title": {
          "text": "index"
         }
        },
        "yaxis": {
         "anchor": "x",
         "domain": [
          0,
          1
         ],
         "title": {
          "text": "value"
         }
        }
       }
      }
     },
     "metadata": {},
     "output_type": "display_data"
    }
   ],
   "source": [
    "fig = px.line(s_t)\n",
    "fig.update_traces(line_color = \"maroon\")\n",
    "fig.update_layout(title_text = \"Spread evolution\", title_x = 0.5)\n",
    "fig.show()"
   ]
  },
  {
   "cell_type": "code",
   "execution_count": 94,
   "metadata": {},
   "outputs": [
    {
     "data": {
      "application/vnd.plotly.v1+json": {
       "config": {
        "plotlyServerURL": "https://plot.ly"
       },
       "data": [
        {
         "hovertemplate": "variable=0<br>index=%{x}<br>value=%{y}<extra></extra>",
         "legendgroup": "0",
         "line": {
          "color": "maroon",
          "dash": "solid"
         },
         "marker": {
          "symbol": "circle"
         },
         "mode": "lines",
         "name": "0",
         "orientation": "v",
         "showlegend": true,
         "type": "scatter",
         "x": [
          0,
          1,
          2,
          3,
          4,
          5,
          6,
          7,
          8,
          9,
          10,
          11,
          12,
          13,
          14,
          15,
          16,
          17,
          18,
          19,
          20,
          21,
          22,
          23,
          24,
          25,
          26,
          27,
          28,
          29,
          30,
          31,
          32,
          33,
          34,
          35,
          36,
          37,
          38,
          39,
          40,
          41,
          42,
          43,
          44,
          45,
          46,
          47,
          48,
          49,
          50,
          51,
          52,
          53,
          54,
          55,
          56,
          57,
          58,
          59,
          60,
          61,
          62,
          63,
          64,
          65,
          66,
          67,
          68,
          69,
          70,
          71,
          72,
          73,
          74,
          75,
          76,
          77,
          78,
          79,
          80,
          81,
          82,
          83,
          84,
          85,
          86,
          87,
          88,
          89,
          90,
          91,
          92,
          93,
          94,
          95,
          96,
          97,
          98,
          99,
          100,
          101,
          102,
          103,
          104,
          105,
          106,
          107,
          108,
          109,
          110,
          111,
          112,
          113,
          114,
          115,
          116,
          117,
          118,
          119,
          120,
          121,
          122,
          123,
          124,
          125,
          126,
          127,
          128,
          129,
          130,
          131,
          132,
          133,
          134,
          135,
          136,
          137,
          138,
          139,
          140,
          141,
          142,
          143,
          144,
          145,
          146,
          147,
          148,
          149,
          150,
          151,
          152,
          153,
          154,
          155,
          156,
          157,
          158,
          159,
          160,
          161,
          162,
          163,
          164,
          165,
          166,
          167,
          168,
          169,
          170,
          171,
          172,
          173,
          174,
          175,
          176,
          177,
          178,
          179,
          180,
          181,
          182,
          183,
          184,
          185,
          186,
          187,
          188,
          189,
          190,
          191,
          192,
          193,
          194,
          195,
          196,
          197,
          198,
          199,
          200,
          201,
          202,
          203,
          204,
          205,
          206,
          207,
          208,
          209,
          210,
          211,
          212,
          213,
          214,
          215,
          216,
          217,
          218,
          219,
          220,
          221,
          222,
          223,
          224,
          225,
          226,
          227,
          228,
          229,
          230,
          231,
          232,
          233,
          234,
          235,
          236,
          237,
          238,
          239,
          240,
          241,
          242,
          243,
          244,
          245,
          246,
          247,
          248,
          249,
          250,
          251,
          252,
          253,
          254,
          255,
          256,
          257,
          258,
          259,
          260,
          261,
          262,
          263,
          264,
          265,
          266,
          267,
          268,
          269,
          270,
          271,
          272,
          273,
          274,
          275,
          276,
          277,
          278,
          279,
          280,
          281,
          282,
          283,
          284,
          285,
          286,
          287,
          288,
          289,
          290,
          291,
          292,
          293,
          294,
          295,
          296,
          297,
          298,
          299,
          300,
          301
         ],
         "xaxis": "x",
         "y": [
          0,
          1,
          0,
          1,
          3,
          0,
          1,
          2,
          3,
          4,
          3,
          2,
          4,
          3,
          2,
          0,
          1,
          0,
          3,
          4,
          3,
          4,
          1,
          4,
          1,
          0,
          2,
          3,
          4,
          3,
          1,
          3,
          4,
          5,
          4,
          3,
          4,
          5,
          4,
          3,
          2,
          3,
          5,
          4,
          3,
          4,
          5,
          3,
          0,
          1,
          0,
          1,
          4,
          3,
          4,
          3,
          1,
          3,
          5,
          4,
          5,
          4,
          3,
          2,
          5,
          0,
          4,
          3,
          4,
          3,
          4,
          5,
          2,
          1,
          0,
          1,
          5,
          4,
          1,
          2,
          3,
          4,
          3,
          4,
          1,
          2,
          0,
          2,
          3,
          2,
          3,
          0,
          2,
          0,
          2,
          3,
          0,
          5,
          4,
          5,
          4,
          5,
          2,
          3,
          4,
          5,
          4,
          5,
          4,
          5,
          4,
          5,
          4,
          0,
          3,
          4,
          5,
          4,
          3,
          5,
          4,
          2,
          3,
          0,
          1,
          3,
          4,
          2,
          1,
          5,
          0,
          3,
          2,
          1,
          3,
          1,
          2,
          3,
          4,
          3,
          4,
          3,
          4,
          5,
          2,
          5,
          0,
          5,
          1,
          0,
          3,
          5,
          4,
          5,
          1,
          0,
          1,
          0,
          5,
          4,
          3,
          2,
          3,
          1,
          0,
          4,
          3,
          1,
          2,
          4,
          3,
          4,
          5,
          0,
          1,
          3,
          4,
          3,
          1,
          0,
          1,
          2,
          4,
          5,
          2,
          4,
          5,
          4,
          5,
          3,
          4,
          3,
          4,
          3,
          4,
          3,
          4,
          2,
          3,
          4,
          2,
          3,
          2,
          3,
          4,
          3,
          4,
          3,
          4,
          3,
          1,
          4,
          5,
          3,
          2,
          0,
          1,
          0,
          5,
          4,
          5,
          4,
          2,
          3,
          2,
          5,
          1,
          2,
          0,
          2,
          3,
          1,
          3,
          1,
          2,
          3,
          2,
          1,
          0,
          1,
          2,
          3,
          4,
          5,
          4,
          5,
          4,
          5,
          4,
          1,
          3,
          2,
          3,
          5,
          3,
          0,
          3,
          1,
          3,
          4,
          0,
          1,
          2,
          0,
          1,
          2,
          0,
          1,
          4,
          3,
          2,
          3,
          4,
          5,
          3,
          2,
          1,
          0,
          1,
          3,
          2,
          1,
          5,
          5,
          4,
          3,
          4,
          1,
          2,
          4,
          5,
          4,
          0,
          3,
          5,
          4,
          3,
          2,
          5,
          4,
          5,
          4
         ],
         "yaxis": "y"
        }
       ],
       "layout": {
        "legend": {
         "title": {
          "text": "variable"
         },
         "tracegroupgap": 0
        },
        "margin": {
         "t": 60
        },
        "template": {
         "data": {
          "bar": [
           {
            "error_x": {
             "color": "#2a3f5f"
            },
            "error_y": {
             "color": "#2a3f5f"
            },
            "marker": {
             "line": {
              "color": "#E5ECF6",
              "width": 0.5
             },
             "pattern": {
              "fillmode": "overlay",
              "size": 10,
              "solidity": 0.2
             }
            },
            "type": "bar"
           }
          ],
          "barpolar": [
           {
            "marker": {
             "line": {
              "color": "#E5ECF6",
              "width": 0.5
             },
             "pattern": {
              "fillmode": "overlay",
              "size": 10,
              "solidity": 0.2
             }
            },
            "type": "barpolar"
           }
          ],
          "carpet": [
           {
            "aaxis": {
             "endlinecolor": "#2a3f5f",
             "gridcolor": "white",
             "linecolor": "white",
             "minorgridcolor": "white",
             "startlinecolor": "#2a3f5f"
            },
            "baxis": {
             "endlinecolor": "#2a3f5f",
             "gridcolor": "white",
             "linecolor": "white",
             "minorgridcolor": "white",
             "startlinecolor": "#2a3f5f"
            },
            "type": "carpet"
           }
          ],
          "choropleth": [
           {
            "colorbar": {
             "outlinewidth": 0,
             "ticks": ""
            },
            "type": "choropleth"
           }
          ],
          "contour": [
           {
            "colorbar": {
             "outlinewidth": 0,
             "ticks": ""
            },
            "colorscale": [
             [
              0,
              "#0d0887"
             ],
             [
              0.1111111111111111,
              "#46039f"
             ],
             [
              0.2222222222222222,
              "#7201a8"
             ],
             [
              0.3333333333333333,
              "#9c179e"
             ],
             [
              0.4444444444444444,
              "#bd3786"
             ],
             [
              0.5555555555555556,
              "#d8576b"
             ],
             [
              0.6666666666666666,
              "#ed7953"
             ],
             [
              0.7777777777777778,
              "#fb9f3a"
             ],
             [
              0.8888888888888888,
              "#fdca26"
             ],
             [
              1,
              "#f0f921"
             ]
            ],
            "type": "contour"
           }
          ],
          "contourcarpet": [
           {
            "colorbar": {
             "outlinewidth": 0,
             "ticks": ""
            },
            "type": "contourcarpet"
           }
          ],
          "heatmap": [
           {
            "colorbar": {
             "outlinewidth": 0,
             "ticks": ""
            },
            "colorscale": [
             [
              0,
              "#0d0887"
             ],
             [
              0.1111111111111111,
              "#46039f"
             ],
             [
              0.2222222222222222,
              "#7201a8"
             ],
             [
              0.3333333333333333,
              "#9c179e"
             ],
             [
              0.4444444444444444,
              "#bd3786"
             ],
             [
              0.5555555555555556,
              "#d8576b"
             ],
             [
              0.6666666666666666,
              "#ed7953"
             ],
             [
              0.7777777777777778,
              "#fb9f3a"
             ],
             [
              0.8888888888888888,
              "#fdca26"
             ],
             [
              1,
              "#f0f921"
             ]
            ],
            "type": "heatmap"
           }
          ],
          "heatmapgl": [
           {
            "colorbar": {
             "outlinewidth": 0,
             "ticks": ""
            },
            "colorscale": [
             [
              0,
              "#0d0887"
             ],
             [
              0.1111111111111111,
              "#46039f"
             ],
             [
              0.2222222222222222,
              "#7201a8"
             ],
             [
              0.3333333333333333,
              "#9c179e"
             ],
             [
              0.4444444444444444,
              "#bd3786"
             ],
             [
              0.5555555555555556,
              "#d8576b"
             ],
             [
              0.6666666666666666,
              "#ed7953"
             ],
             [
              0.7777777777777778,
              "#fb9f3a"
             ],
             [
              0.8888888888888888,
              "#fdca26"
             ],
             [
              1,
              "#f0f921"
             ]
            ],
            "type": "heatmapgl"
           }
          ],
          "histogram": [
           {
            "marker": {
             "pattern": {
              "fillmode": "overlay",
              "size": 10,
              "solidity": 0.2
             }
            },
            "type": "histogram"
           }
          ],
          "histogram2d": [
           {
            "colorbar": {
             "outlinewidth": 0,
             "ticks": ""
            },
            "colorscale": [
             [
              0,
              "#0d0887"
             ],
             [
              0.1111111111111111,
              "#46039f"
             ],
             [
              0.2222222222222222,
              "#7201a8"
             ],
             [
              0.3333333333333333,
              "#9c179e"
             ],
             [
              0.4444444444444444,
              "#bd3786"
             ],
             [
              0.5555555555555556,
              "#d8576b"
             ],
             [
              0.6666666666666666,
              "#ed7953"
             ],
             [
              0.7777777777777778,
              "#fb9f3a"
             ],
             [
              0.8888888888888888,
              "#fdca26"
             ],
             [
              1,
              "#f0f921"
             ]
            ],
            "type": "histogram2d"
           }
          ],
          "histogram2dcontour": [
           {
            "colorbar": {
             "outlinewidth": 0,
             "ticks": ""
            },
            "colorscale": [
             [
              0,
              "#0d0887"
             ],
             [
              0.1111111111111111,
              "#46039f"
             ],
             [
              0.2222222222222222,
              "#7201a8"
             ],
             [
              0.3333333333333333,
              "#9c179e"
             ],
             [
              0.4444444444444444,
              "#bd3786"
             ],
             [
              0.5555555555555556,
              "#d8576b"
             ],
             [
              0.6666666666666666,
              "#ed7953"
             ],
             [
              0.7777777777777778,
              "#fb9f3a"
             ],
             [
              0.8888888888888888,
              "#fdca26"
             ],
             [
              1,
              "#f0f921"
             ]
            ],
            "type": "histogram2dcontour"
           }
          ],
          "mesh3d": [
           {
            "colorbar": {
             "outlinewidth": 0,
             "ticks": ""
            },
            "type": "mesh3d"
           }
          ],
          "parcoords": [
           {
            "line": {
             "colorbar": {
              "outlinewidth": 0,
              "ticks": ""
             }
            },
            "type": "parcoords"
           }
          ],
          "pie": [
           {
            "automargin": true,
            "type": "pie"
           }
          ],
          "scatter": [
           {
            "fillpattern": {
             "fillmode": "overlay",
             "size": 10,
             "solidity": 0.2
            },
            "type": "scatter"
           }
          ],
          "scatter3d": [
           {
            "line": {
             "colorbar": {
              "outlinewidth": 0,
              "ticks": ""
             }
            },
            "marker": {
             "colorbar": {
              "outlinewidth": 0,
              "ticks": ""
             }
            },
            "type": "scatter3d"
           }
          ],
          "scattercarpet": [
           {
            "marker": {
             "colorbar": {
              "outlinewidth": 0,
              "ticks": ""
             }
            },
            "type": "scattercarpet"
           }
          ],
          "scattergeo": [
           {
            "marker": {
             "colorbar": {
              "outlinewidth": 0,
              "ticks": ""
             }
            },
            "type": "scattergeo"
           }
          ],
          "scattergl": [
           {
            "marker": {
             "colorbar": {
              "outlinewidth": 0,
              "ticks": ""
             }
            },
            "type": "scattergl"
           }
          ],
          "scattermapbox": [
           {
            "marker": {
             "colorbar": {
              "outlinewidth": 0,
              "ticks": ""
             }
            },
            "type": "scattermapbox"
           }
          ],
          "scatterpolar": [
           {
            "marker": {
             "colorbar": {
              "outlinewidth": 0,
              "ticks": ""
             }
            },
            "type": "scatterpolar"
           }
          ],
          "scatterpolargl": [
           {
            "marker": {
             "colorbar": {
              "outlinewidth": 0,
              "ticks": ""
             }
            },
            "type": "scatterpolargl"
           }
          ],
          "scatterternary": [
           {
            "marker": {
             "colorbar": {
              "outlinewidth": 0,
              "ticks": ""
             }
            },
            "type": "scatterternary"
           }
          ],
          "surface": [
           {
            "colorbar": {
             "outlinewidth": 0,
             "ticks": ""
            },
            "colorscale": [
             [
              0,
              "#0d0887"
             ],
             [
              0.1111111111111111,
              "#46039f"
             ],
             [
              0.2222222222222222,
              "#7201a8"
             ],
             [
              0.3333333333333333,
              "#9c179e"
             ],
             [
              0.4444444444444444,
              "#bd3786"
             ],
             [
              0.5555555555555556,
              "#d8576b"
             ],
             [
              0.6666666666666666,
              "#ed7953"
             ],
             [
              0.7777777777777778,
              "#fb9f3a"
             ],
             [
              0.8888888888888888,
              "#fdca26"
             ],
             [
              1,
              "#f0f921"
             ]
            ],
            "type": "surface"
           }
          ],
          "table": [
           {
            "cells": {
             "fill": {
              "color": "#EBF0F8"
             },
             "line": {
              "color": "white"
             }
            },
            "header": {
             "fill": {
              "color": "#C8D4E3"
             },
             "line": {
              "color": "white"
             }
            },
            "type": "table"
           }
          ]
         },
         "layout": {
          "annotationdefaults": {
           "arrowcolor": "#2a3f5f",
           "arrowhead": 0,
           "arrowwidth": 1
          },
          "autotypenumbers": "strict",
          "coloraxis": {
           "colorbar": {
            "outlinewidth": 0,
            "ticks": ""
           }
          },
          "colorscale": {
           "diverging": [
            [
             0,
             "#8e0152"
            ],
            [
             0.1,
             "#c51b7d"
            ],
            [
             0.2,
             "#de77ae"
            ],
            [
             0.3,
             "#f1b6da"
            ],
            [
             0.4,
             "#fde0ef"
            ],
            [
             0.5,
             "#f7f7f7"
            ],
            [
             0.6,
             "#e6f5d0"
            ],
            [
             0.7,
             "#b8e186"
            ],
            [
             0.8,
             "#7fbc41"
            ],
            [
             0.9,
             "#4d9221"
            ],
            [
             1,
             "#276419"
            ]
           ],
           "sequential": [
            [
             0,
             "#0d0887"
            ],
            [
             0.1111111111111111,
             "#46039f"
            ],
            [
             0.2222222222222222,
             "#7201a8"
            ],
            [
             0.3333333333333333,
             "#9c179e"
            ],
            [
             0.4444444444444444,
             "#bd3786"
            ],
            [
             0.5555555555555556,
             "#d8576b"
            ],
            [
             0.6666666666666666,
             "#ed7953"
            ],
            [
             0.7777777777777778,
             "#fb9f3a"
            ],
            [
             0.8888888888888888,
             "#fdca26"
            ],
            [
             1,
             "#f0f921"
            ]
           ],
           "sequentialminus": [
            [
             0,
             "#0d0887"
            ],
            [
             0.1111111111111111,
             "#46039f"
            ],
            [
             0.2222222222222222,
             "#7201a8"
            ],
            [
             0.3333333333333333,
             "#9c179e"
            ],
            [
             0.4444444444444444,
             "#bd3786"
            ],
            [
             0.5555555555555556,
             "#d8576b"
            ],
            [
             0.6666666666666666,
             "#ed7953"
            ],
            [
             0.7777777777777778,
             "#fb9f3a"
            ],
            [
             0.8888888888888888,
             "#fdca26"
            ],
            [
             1,
             "#f0f921"
            ]
           ]
          },
          "colorway": [
           "#636efa",
           "#EF553B",
           "#00cc96",
           "#ab63fa",
           "#FFA15A",
           "#19d3f3",
           "#FF6692",
           "#B6E880",
           "#FF97FF",
           "#FECB52"
          ],
          "font": {
           "color": "#2a3f5f"
          },
          "geo": {
           "bgcolor": "white",
           "lakecolor": "white",
           "landcolor": "#E5ECF6",
           "showlakes": true,
           "showland": true,
           "subunitcolor": "white"
          },
          "hoverlabel": {
           "align": "left"
          },
          "hovermode": "closest",
          "mapbox": {
           "style": "light"
          },
          "paper_bgcolor": "white",
          "plot_bgcolor": "#E5ECF6",
          "polar": {
           "angularaxis": {
            "gridcolor": "white",
            "linecolor": "white",
            "ticks": ""
           },
           "bgcolor": "#E5ECF6",
           "radialaxis": {
            "gridcolor": "white",
            "linecolor": "white",
            "ticks": ""
           }
          },
          "scene": {
           "xaxis": {
            "backgroundcolor": "#E5ECF6",
            "gridcolor": "white",
            "gridwidth": 2,
            "linecolor": "white",
            "showbackground": true,
            "ticks": "",
            "zerolinecolor": "white"
           },
           "yaxis": {
            "backgroundcolor": "#E5ECF6",
            "gridcolor": "white",
            "gridwidth": 2,
            "linecolor": "white",
            "showbackground": true,
            "ticks": "",
            "zerolinecolor": "white"
           },
           "zaxis": {
            "backgroundcolor": "#E5ECF6",
            "gridcolor": "white",
            "gridwidth": 2,
            "linecolor": "white",
            "showbackground": true,
            "ticks": "",
            "zerolinecolor": "white"
           }
          },
          "shapedefaults": {
           "line": {
            "color": "#2a3f5f"
           }
          },
          "ternary": {
           "aaxis": {
            "gridcolor": "white",
            "linecolor": "white",
            "ticks": ""
           },
           "baxis": {
            "gridcolor": "white",
            "linecolor": "white",
            "ticks": ""
           },
           "bgcolor": "#E5ECF6",
           "caxis": {
            "gridcolor": "white",
            "linecolor": "white",
            "ticks": ""
           }
          },
          "title": {
           "x": 0.05
          },
          "xaxis": {
           "automargin": true,
           "gridcolor": "white",
           "linecolor": "white",
           "ticks": "",
           "title": {
            "standoff": 15
           },
           "zerolinecolor": "white",
           "zerolinewidth": 2
          },
          "yaxis": {
           "automargin": true,
           "gridcolor": "white",
           "linecolor": "white",
           "ticks": "",
           "title": {
            "standoff": 15
           },
           "zerolinecolor": "white",
           "zerolinewidth": 2
          }
         }
        },
        "title": {
         "text": "Spread evolution",
         "x": 0.5
        },
        "xaxis": {
         "anchor": "y",
         "domain": [
          0,
          1
         ],
         "title": {
          "text": "index"
         }
        },
        "yaxis": {
         "anchor": "x",
         "domain": [
          0,
          1
         ],
         "title": {
          "text": "value"
         }
        }
       }
      }
     },
     "metadata": {},
     "output_type": "display_data"
    }
   ],
   "source": [
    "fig = px.line(spread_simulated)\n",
    "fig.update_traces(line_color = \"maroon\")\n",
    "fig.update_layout(title_text = \"Spread evolution\", title_x = 0.5)\n",
    "fig.show()"
   ]
  },
  {
   "cell_type": "code",
   "execution_count": 95,
   "metadata": {},
   "outputs": [
    {
     "data": {
      "application/vnd.plotly.v1+json": {
       "config": {
        "plotlyServerURL": "https://plot.ly"
       },
       "data": [
        {
         "hovertemplate": "variable=0<br>index=%{x}<br>value=%{y}<extra></extra>",
         "legendgroup": "0",
         "line": {
          "color": "maroon",
          "dash": "solid"
         },
         "marker": {
          "symbol": "circle"
         },
         "mode": "lines",
         "name": "0",
         "showlegend": true,
         "type": "scattergl",
         "x": [
          0,
          1,
          2,
          3,
          4,
          5,
          6,
          7,
          8,
          9,
          10,
          11,
          12,
          13,
          14,
          15,
          16,
          17,
          18,
          19,
          20,
          21,
          22,
          23,
          24,
          25,
          26,
          27,
          28,
          29,
          30,
          31,
          32,
          33,
          34,
          35,
          36,
          37,
          38,
          39,
          40,
          41,
          42,
          43,
          44,
          45,
          46,
          47,
          48,
          49,
          50,
          51,
          52,
          53,
          54,
          55,
          56,
          57,
          58,
          59,
          60,
          61,
          62,
          63,
          64,
          65,
          66,
          67,
          68,
          69,
          70,
          71,
          72,
          73,
          74,
          75,
          76,
          77,
          78,
          79,
          80,
          81,
          82,
          83,
          84,
          85,
          86,
          87,
          88,
          89,
          90,
          91,
          92,
          93,
          94,
          95,
          96,
          97,
          98,
          99,
          100,
          101,
          102,
          103,
          104,
          105,
          106,
          107,
          108,
          109,
          110,
          111,
          112,
          113,
          114,
          115,
          116,
          117,
          118,
          119,
          120,
          121,
          122,
          123,
          124,
          125,
          126,
          127,
          128,
          129,
          130,
          131,
          132,
          133,
          134,
          135,
          136,
          137,
          138,
          139,
          140,
          141,
          142,
          143,
          144,
          145,
          146,
          147,
          148,
          149,
          150,
          151,
          152,
          153,
          154,
          155,
          156,
          157,
          158,
          159,
          160,
          161,
          162,
          163,
          164,
          165,
          166,
          167,
          168,
          169,
          170,
          171,
          172,
          173,
          174,
          175,
          176,
          177,
          178,
          179,
          180,
          181,
          182,
          183,
          184,
          185,
          186,
          187,
          188,
          189,
          190,
          191,
          192,
          193,
          194,
          195,
          196,
          197,
          198,
          199,
          200,
          201,
          202,
          203,
          204,
          205,
          206,
          207,
          208,
          209,
          210,
          211,
          212,
          213,
          214,
          215,
          216,
          217,
          218,
          219,
          220,
          221,
          222,
          223,
          224,
          225,
          226,
          227,
          228,
          229,
          230,
          231,
          232,
          233,
          234,
          235,
          236,
          237,
          238,
          239,
          240,
          241,
          242,
          243,
          244,
          245,
          246,
          247,
          248,
          249,
          250,
          251,
          252,
          253,
          254,
          255,
          256,
          257,
          258,
          259,
          260,
          261,
          262,
          263,
          264,
          265,
          266,
          267,
          268,
          269,
          270,
          271,
          272,
          273,
          274,
          275,
          276,
          277,
          278,
          279,
          280,
          281,
          282,
          283,
          284,
          285,
          286,
          287,
          288,
          289,
          290,
          291,
          292,
          293,
          294,
          295,
          296,
          297,
          298,
          299,
          300,
          301,
          302,
          303,
          304,
          305,
          306,
          307,
          308,
          309,
          310,
          311,
          312,
          313,
          314,
          315,
          316,
          317,
          318,
          319,
          320,
          321,
          322,
          323,
          324,
          325,
          326,
          327,
          328,
          329,
          330,
          331,
          332,
          333,
          334,
          335,
          336,
          337,
          338,
          339,
          340,
          341,
          342,
          343,
          344,
          345,
          346,
          347,
          348,
          349,
          350,
          351,
          352,
          353,
          354,
          355,
          356,
          357,
          358,
          359,
          360,
          361,
          362,
          363,
          364,
          365,
          366,
          367,
          368,
          369,
          370,
          371,
          372,
          373,
          374,
          375,
          376,
          377,
          378,
          379,
          380,
          381,
          382,
          383,
          384,
          385,
          386,
          387,
          388,
          389,
          390,
          391,
          392,
          393,
          394,
          395,
          396,
          397,
          398,
          399,
          400,
          401,
          402,
          403,
          404,
          405,
          406,
          407,
          408,
          409,
          410,
          411,
          412,
          413,
          414,
          415,
          416,
          417,
          418,
          419,
          420,
          421,
          422,
          423,
          424,
          425,
          426,
          427,
          428,
          429,
          430,
          431,
          432,
          433,
          434,
          435,
          436,
          437,
          438,
          439,
          440,
          441,
          442,
          443,
          444,
          445,
          446,
          447,
          448,
          449,
          450,
          451,
          452,
          453,
          454,
          455,
          456,
          457,
          458,
          459,
          460,
          461,
          462,
          463,
          464,
          465,
          466,
          467,
          468,
          469,
          470,
          471,
          472,
          473,
          474,
          475,
          476,
          477,
          478,
          479,
          480,
          481,
          482,
          483,
          484,
          485,
          486,
          487,
          488,
          489,
          490,
          491,
          492,
          493,
          494,
          495,
          496,
          497,
          498,
          499,
          500,
          501,
          502,
          503,
          504,
          505,
          506,
          507,
          508,
          509,
          510,
          511,
          512,
          513,
          514,
          515,
          516,
          517,
          518,
          519,
          520,
          521,
          522,
          523,
          524,
          525,
          526,
          527,
          528,
          529,
          530,
          531,
          532,
          533,
          534,
          535,
          536,
          537,
          538,
          539,
          540,
          541,
          542,
          543,
          544,
          545,
          546,
          547,
          548,
          549,
          550,
          551,
          552,
          553,
          554,
          555,
          556,
          557,
          558,
          559,
          560,
          561,
          562,
          563,
          564,
          565,
          566,
          567,
          568,
          569,
          570,
          571,
          572,
          573,
          574,
          575,
          576,
          577,
          578,
          579,
          580,
          581,
          582,
          583,
          584,
          585,
          586,
          587,
          588,
          589,
          590,
          591,
          592,
          593,
          594,
          595,
          596,
          597,
          598,
          599,
          600,
          601,
          602,
          603,
          604,
          605,
          606,
          607,
          608,
          609,
          610,
          611,
          612,
          613,
          614,
          615,
          616,
          617,
          618,
          619,
          620,
          621,
          622,
          623,
          624,
          625,
          626,
          627,
          628,
          629,
          630,
          631,
          632,
          633,
          634,
          635,
          636,
          637,
          638,
          639,
          640,
          641,
          642,
          643,
          644,
          645,
          646,
          647,
          648,
          649,
          650,
          651,
          652,
          653,
          654,
          655,
          656,
          657,
          658,
          659,
          660,
          661,
          662,
          663,
          664,
          665,
          666,
          667,
          668,
          669,
          670,
          671,
          672,
          673,
          674,
          675,
          676,
          677,
          678,
          679,
          680,
          681,
          682,
          683,
          684,
          685,
          686,
          687,
          688,
          689,
          690,
          691,
          692,
          693,
          694,
          695,
          696,
          697,
          698,
          699,
          700,
          701,
          702,
          703,
          704,
          705,
          706,
          707,
          708,
          709,
          710,
          711,
          712,
          713,
          714,
          715,
          716,
          717,
          718,
          719,
          720,
          721,
          722,
          723,
          724,
          725,
          726,
          727,
          728,
          729,
          730,
          731,
          732,
          733,
          734,
          735,
          736,
          737,
          738,
          739,
          740,
          741,
          742,
          743,
          744,
          745,
          746,
          747,
          748,
          749,
          750,
          751,
          752,
          753,
          754,
          755,
          756,
          757,
          758,
          759,
          760,
          761,
          762,
          763,
          764,
          765,
          766,
          767,
          768,
          769,
          770,
          771,
          772,
          773,
          774,
          775,
          776,
          777,
          778,
          779,
          780,
          781,
          782,
          783,
          784,
          785,
          786,
          787,
          788,
          789,
          790,
          791,
          792,
          793,
          794,
          795,
          796,
          797,
          798,
          799,
          800,
          801,
          802,
          803,
          804,
          805,
          806,
          807,
          808,
          809,
          810,
          811,
          812,
          813,
          814,
          815,
          816,
          817,
          818,
          819,
          820,
          821,
          822,
          823,
          824,
          825,
          826,
          827,
          828,
          829,
          830,
          831,
          832,
          833,
          834,
          835,
          836,
          837,
          838,
          839,
          840,
          841,
          842,
          843,
          844,
          845,
          846,
          847,
          848,
          849,
          850,
          851,
          852,
          853,
          854,
          855,
          856,
          857,
          858,
          859,
          860,
          861,
          862,
          863,
          864,
          865,
          866,
          867,
          868,
          869,
          870,
          871,
          872,
          873,
          874,
          875,
          876,
          877,
          878,
          879,
          880,
          881,
          882,
          883,
          884,
          885,
          886,
          887,
          888,
          889,
          890,
          891,
          892,
          893,
          894,
          895,
          896,
          897,
          898,
          899,
          900,
          901,
          902,
          903,
          904,
          905,
          906,
          907,
          908,
          909,
          910,
          911,
          912,
          913,
          914,
          915,
          916,
          917,
          918,
          919,
          920,
          921,
          922,
          923,
          924,
          925,
          926,
          927,
          928,
          929,
          930,
          931,
          932,
          933,
          934,
          935,
          936,
          937,
          938,
          939,
          940,
          941,
          942,
          943,
          944,
          945,
          946,
          947,
          948,
          949,
          950,
          951,
          952,
          953,
          954,
          955,
          956,
          957,
          958,
          959,
          960,
          961,
          962,
          963,
          964,
          965,
          966,
          967,
          968,
          969,
          970,
          971,
          972,
          973,
          974,
          975,
          976,
          977,
          978,
          979,
          980,
          981,
          982,
          983,
          984,
          985,
          986,
          987,
          988,
          989,
          990,
          991,
          992,
          993,
          994,
          995,
          996,
          997,
          998,
          999,
          1000
         ],
         "xaxis": "x",
         "y": [
          0,
          -0.49848872160006646,
          -0.69187614193619,
          -1.1012538772434501,
          -1.7785944699105243,
          -1.373202967596642,
          -1.4929147613260267,
          -1.0579571602714688,
          -0.7076564369635945,
          -0.5197034208423922,
          -0.3831725044747326,
          -0.29830253066192686,
          -0.7239993125872721,
          -0.5775295835256519,
          -0.9864123021942282,
          -0.08051739272022429,
          0.29750231690526413,
          0.06902904147766589,
          0.5643657443376459,
          1.7588737509441206,
          2.0435224854881344,
          1.9359996073766714,
          1.8558476461180802,
          2.4879263213706535,
          1.977000636474293,
          2.429033037289646,
          2.7209759012276815,
          1.8283088057215295,
          1.4628142646011473,
          2.05258097459513,
          2.2086670531858044,
          2.580884585419933,
          2.0867823233008043,
          1.4956004608003721,
          2.171864624847676,
          2.3474686270388556,
          3.42363786185074,
          4.2050498109532795,
          3.9052210042232147,
          4.696265281209336,
          5.412207227153912,
          6.496743328838825,
          6.217297229552697,
          6.949746528492603,
          6.96653599493646,
          7.470534282443841,
          7.183523500458523,
          6.848406826066656,
          7.526560382377205,
          6.901813003231237,
          6.934571904527917,
          7.124909365203071,
          6.958109280192685,
          6.7201811877074125,
          6.372678062377043,
          6.270010410769872,
          6.921347378288025,
          7.130960371722388,
          6.475890719523752,
          6.069215251975461,
          6.14181002031876,
          7.069261946929081,
          6.24530942648413,
          6.0617113048783136,
          6.840610775657563,
          6.547103544281355,
          6.641156396409427,
          6.74139434937659,
          7.258210120785561,
          6.519065006213859,
          6.173009437046545,
          6.884687869232172,
          6.963945900838019,
          7.14363489567097,
          6.688652932223063,
          6.754158247336916,
          6.876951900344656,
          6.348463853044494,
          6.340591186581031,
          7.484854049361374,
          7.8434693030336575,
          7.905085052645594,
          8.000230990293426,
          7.844816529822198,
          7.384786822218979,
          7.797878527735939,
          6.533130837738655,
          7.486853735028936,
          7.395536955182129,
          7.800655199297654,
          7.104506940672437,
          6.7997723804898955,
          7.287798227285332,
          8.008934546013192,
          7.525665521225625,
          6.596844346387777,
          6.366335593580201,
          6.753781349633545,
          6.07044968765364,
          6.312108478530969,
          7.370524370528981,
          6.732406309558601,
          6.146112053957711,
          5.600171287040453,
          5.092460916342807,
          4.15178240480645,
          4.548642911845958,
          3.5625072231500585,
          3.779347615706656,
          4.708089761998667,
          4.948481201836866,
          4.802564406302764,
          4.9622251746096095,
          4.560980666717872,
          3.3384582543580423,
          2.305863487332207,
          1.6976560620343952,
          1.603061703815939,
          2.0706235169336544,
          1.402263228605402,
          0.8811147688986899,
          0.19768594068245482,
          0.6669994754450783,
          0.8543856664094361,
          1.434665639272056,
          1.5044533149035497,
          0.7193151700420516,
          1.298826557751788,
          0.42719845433025894,
          1.0777819925173548,
          1.008700692237479,
          1.3651489801120076,
          2.039402548157236,
          1.3271801857642962,
          1.8568962221985124,
          1.6741994306745724,
          2.741135838572716,
          3.4230820148579633,
          2.95710293703649,
          2.4072634287134327,
          1.6037450348643594,
          1.8698844772301546,
          2.739070175881523,
          2.0942321365210677,
          2.3511459996495674,
          2.416971502179221,
          1.9620273468829383,
          1.5322814400216627,
          2.091532964033515,
          2.8562069482347496,
          3.13807276196778,
          3.1192026623366824,
          3.447450846720754,
          2.7329024692977217,
          3.044206754695917,
          3.018877627971152,
          2.1868742223620314,
          1.590141610400323,
          1.5752287386473391,
          0.828055281438349,
          1.1055145563739412,
          1.7669752496008027,
          1.6912618042765521,
          2.7733301366516665,
          1.6506486008783174,
          1.3422972444926973,
          1.5687478918589859,
          1.1313952042306081,
          0.5221236230485885,
          1.0288161246063057,
          0.9949893399732889,
          1.7472904908057982,
          2.7513390639477153,
          3.6200629447808055,
          3.0013303887123026,
          2.7637080809952366,
          2.149376240710127,
          2.5227158079268466,
          1.9181637076180738,
          1.651959762936288,
          1.587959847276452,
          1.2495657506193096,
          0.6554341908053309,
          0.3518123024684142,
          -0.10972638893644565,
          -1.5050604473558862,
          -1.4180080581215784,
          -1.153630131710606,
          -2.113409430846846,
          -2.433181221098262,
          -2.3486945016134952,
          -1.7065777068393064,
          -2.300829086885996,
          -1.4154970501146784,
          -2.05147169677914,
          -2.1401414113631128,
          -2.0203694651389634,
          -2.344600135407033,
          -3.0183407929503066,
          -3.321935964463717,
          -3.547806148202001,
          -3.4213496235142067,
          -4.2614750605096505,
          -3.6442678038199703,
          -3.033790129694873,
          -3.6630520504898745,
          -3.8928432194756883,
          -4.069515921515827,
          -3.6654693654499217,
          -3.291221088693793,
          -2.6109506109855793,
          -2.954360892534967,
          -3.408602978450903,
          -4.289935938236207,
          -4.410527840411753,
          -4.343892965514364,
          -3.81568752822199,
          -4.221500331459235,
          -4.314463202512468,
          -4.451283583710388,
          -4.938032711224447,
          -4.8951936193952,
          -5.421781823645263,
          -5.415151801047275,
          -5.818315471430858,
          -6.060041600529885,
          -6.059369853712936,
          -6.32159274754813,
          -5.30676797717342,
          -3.984935288540062,
          -4.567710034433358,
          -5.004114832182149,
          -5.620084273181775,
          -5.5411247899246305,
          -4.985239508927764,
          -4.327236386509385,
          -4.741173664677058,
          -5.718663521982724,
          -4.746545887851714,
          -5.448413511255046,
          -4.518337917983131,
          -4.003292620271745,
          -4.599546413195251,
          -4.216401864616911,
          -5.065086639814435,
          -4.847625464288716,
          -4.538225779949939,
          -4.252699521731852,
          -4.88668048512124,
          -5.007235710962723,
          -4.226066655149288,
          -3.9626872652511165,
          -3.565571734854726,
          -4.020618982029652,
          -2.8581232955677622,
          -1.8097721127947368,
          -1.6109026813954748,
          -0.9708642509017739,
          -1.171210433627859,
          -1.264069085641269,
          -1.7253836631307133,
          -1.3163502486969931,
          -0.45020691913567934,
          0.0939592899570506,
          -0.4570843575942428,
          -0.9863042513237259,
          -0.18240512330566894,
          -0.1166122664866844,
          -0.2642421190662075,
          0.15492213052550652,
          1.9358013437064234,
          1.9209976800310375,
          2.5589881393105847,
          2.551212786599421,
          2.5789052527792493,
          2.584606983947126,
          3.758989648709446,
          3.1435727298402423,
          3.646478560754349,
          3.7948897601288434,
          4.207646828336818,
          4.273874668642898,
          4.006896115620374,
          3.588507174575885,
          3.272069011002038,
          2.674072709083715,
          3.428562971149502,
          2.1396795878011847,
          1.1570793620739863,
          0.9344221295240618,
          1.2764243734728746,
          1.5114899964627067,
          2.4271618962078945,
          2.484382707338507,
          2.525516761162693,
          2.1849532705994057,
          1.4307077997330515,
          1.607605687327132,
          2.592145518690863,
          2.9982563628998884,
          3.623468967054405,
          3.4584959539903815,
          3.276444080803031,
          3.0155991734019545,
          2.0316628696915053,
          2.8949676862558524,
          2.904998641419736,
          3.127405297038697,
          3.7904825720138593,
          3.626759237476568,
          3.4743756073044865,
          4.411047599773791,
          3.083307709829959,
          3.4758076053041065,
          3.323513026603876,
          3.4001605770805785,
          2.6602563584522056,
          2.8651306893181188,
          2.885167207162869,
          2.15188835490983,
          2.074647218513348,
          2.344697413701325,
          2.9839973521732253,
          2.8518333885175986,
          3.291299250143827,
          3.2560392500720345,
          3.3815173496199624,
          3.7475181006648404,
          2.8382526984538785,
          2.483176652670487,
          2.054417079559655,
          1.699303659818661,
          2.107293597341359,
          1.7345252787523602,
          1.8568563249103291,
          2.2010534356783396,
          1.6977167705676055,
          2.0504053213247393,
          2.056081991766624,
          2.1533898178917195,
          2.6047196715924588,
          3.2757295659978234,
          3.5524045979739616,
          4.435935386040626,
          4.390889271924516,
          4.613913219891694,
          5.145321986787851,
          5.418966367831924,
          5.443460927084409,
          4.887198982373558,
          4.0894479766076826,
          3.0209439359899397,
          2.4769753947747843,
          1.0144957967080201,
          0.7410135227637864,
          0.994787585562166,
          0.8152795057455677,
          1.0999775200562119,
          1.051347325446244,
          1.1863839151421527,
          1.6986584521055224,
          1.556474301137687,
          1.3712604650449258,
          1.507510120780136,
          2.174489188783324,
          2.6688276307722636,
          3.6056242958204754,
          4.011748861994589,
          3.6507549624091484,
          3.383715024281292,
          3.6427861899072242,
          4.2647644312354664,
          4.407299841369092,
          4.3147438926892026,
          4.501798838022199,
          5.1809343919912125,
          4.747237520894497,
          5.129092941157814,
          5.261995918536441,
          4.73590582599363,
          5.408792897978979,
          5.62250467106053,
          4.890088810724114,
          4.276658294262919,
          4.338660060422195,
          4.883855978921503,
          5.046207282608416,
          4.7630503806385915,
          5.13564312315833,
          7.260071777029937,
          7.5435198841806,
          7.653995851792375,
          9.007152958550188,
          9.19722323639805,
          9.643665175332286,
          10.763471873989024,
          10.810161687087975,
          11.04270177817604,
          11.225047670195336,
          10.765966824880186,
          10.746237240153183,
          11.39079525005988,
          11.246010228201733,
          10.117011506966573,
          10.751765148109257,
          11.038753384137333,
          11.011106142857324,
          11.948957933112359,
          12.327116982796811,
          12.294314221201278,
          12.379599396173433,
          12.119220880590245,
          11.597686311882127,
          11.94790834303444,
          12.202562349118578,
          11.411691845315534,
          10.838512860502613,
          11.389049308155318,
          11.832029248113361,
          11.424977117086017,
          11.49745697975011,
          11.568161290351496,
          11.805693113619624,
          12.341648436836785,
          12.655659646567159,
          12.672230418530095,
          12.436491148137232,
          11.691051101045968,
          11.60072183764786,
          10.793116028813131,
          11.472200746937787,
          11.640068010224107,
          11.783635924944825,
          12.947862482834847,
          12.387983670962642,
          12.331427709956252,
          11.308999227866407,
          10.829223445143763,
          10.747361077015539,
          11.035241352377067,
          11.862245879000113,
          12.341632960506695,
          12.642293322507568,
          13.036274575661118,
          12.935795991374217,
          12.060543956832264,
          10.707053637531144,
          10.60260529883702,
          10.68572479158397,
          11.096798245573067,
          10.509428435907312,
          10.500183402598367,
          10.431297349780333,
          10.744718397619295,
          9.949381297346259,
          9.457798093502895,
          9.061409120379617,
          8.555443853831948,
          8.293537142466043,
          8.170647101387194,
          8.79847969476613,
          8.72702834160551,
          9.325010316907411,
          9.353775761574576,
          9.934144377213167,
          9.906776969547465,
          9.766890558884024,
          9.738000778925624,
          9.379734472270638,
          9.54304322739717,
          9.096500298914593,
          8.74197545776318,
          8.945168095256756,
          8.441227513187552,
          8.660375470068132,
          7.791488495334062,
          8.179919104618934,
          8.969316269042604,
          8.602031849741072,
          7.716816760960196,
          6.784221310031424,
          7.176036021955645,
          7.475469283163271,
          8.993408272544874,
          9.615621567406741,
          9.549527010312987,
          9.360603129004923,
          9.80444165119803,
          9.607450949989046,
          10.482042153378254,
          10.50689618550203,
          10.70453157464358,
          10.592600046585332,
          9.405609307144754,
          9.297817238281157,
          9.991429935949483,
          9.534936220064207,
          10.871621429750567,
          10.660096035426106,
          11.046240487860073,
          10.66449512446273,
          10.280658753005033,
          9.985095289747848,
          10.386657238246872,
          10.324981799695827,
          10.577611455599103,
          11.274314940030923,
          11.362052264546755,
          11.46814829986421,
          12.12378452921795,
          11.230013583249665,
          10.599097495361962,
          11.11027916252023,
          10.210692947518691,
          11.070634714484896,
          11.337963232385825,
          10.028790934368654,
          9.412293874362115,
          9.42948372589847,
          10.19184913581731,
          10.189389206777959,
          10.61017511229201,
          11.417331637809278,
          11.248389395274039,
          11.127573388352687,
          11.358685841461837,
          11.434392532768852,
          12.352383562670598,
          12.343373635379569,
          12.487007115797558,
          12.958641404682718,
          13.473120644908784,
          13.700071124174176,
          15.350864108884466,
          15.832930506667136,
          15.757748558101701,
          16.107896626467383,
          16.103372871240133,
          16.19298131520287,
          15.466177817310012,
          15.43271021694709,
          15.318384222711645,
          14.717664117523213,
          14.10297277614812,
          14.415792223734503,
          14.007756154083655,
          14.490995266988909,
          15.143190694319461,
          14.968691196906411,
          15.133379044858176,
          15.760675625156349,
          15.942543388984314,
          15.253252427462263,
          15.540606523617075,
          16.300077289672984,
          15.617136944190591,
          16.10406301559656,
          17.36612164644805,
          17.505311985443463,
          18.287684651918223,
          18.371140464858073,
          17.52552223415961,
          17.338974324462704,
          17.478492872475304,
          17.702727088924036,
          18.819150949457505,
          18.852529540608717,
          19.455555859288737,
          20.280101908351135,
          19.313763167962257,
          19.2310639822649,
          18.98720816101514,
          18.892664506902122,
          18.767876038123106,
          17.656267001865654,
          17.621695037465575,
          17.294591506241677,
          17.154493820902346,
          16.943641147181918,
          16.811906650550785,
          17.627659596562072,
          18.454314910136215,
          19.002739864443136,
          19.073662770802805,
          19.210836430597112,
          19.281345277027256,
          19.515591044836302,
          20.863855897373277,
          21.285539242510293,
          21.790025335698274,
          21.12095052621471,
          21.34328995114652,
          20.850552255161425,
          21.95538083037058,
          22.662732563154588,
          22.55384665735953,
          21.601485100886894,
          21.970314703566558,
          22.522423644667068,
          21.18282691829404,
          21.512480066683796,
          21.89732085762204,
          22.09004721622671,
          21.4729003482127,
          21.200941679529116,
          21.169162895956255,
          21.314412735766805,
          20.549363603083517,
          20.464515886100212,
          20.058470564599133,
          19.397182014295755,
          19.33758551375118,
          19.044897665064383,
          19.681058692493355,
          19.17040530275102,
          19.114661814324165,
          19.283546344470743,
          18.900495825906667,
          18.268980520775006,
          18.49379572227453,
          18.997109559118016,
          18.609559196745057,
          18.9311394354294,
          19.495132145510148,
          19.038391602239997,
          17.979734719455767,
          16.646081239289334,
          16.75822182815569,
          16.732023076143083,
          16.294186709336426,
          16.229169041029387,
          15.348775207118642,
          15.665447188803453,
          15.417497690744865,
          14.827070993857161,
          15.076226555318607,
          15.272797615126628,
          14.342738427086172,
          14.22895080458336,
          14.07400480557668,
          13.323846521176868,
          13.223428656922126,
          13.310172289140677,
          13.514164996066782,
          13.590704324189486,
          14.56082553487696,
          14.069889195265102,
          14.12716680527932,
          13.324380025049278,
          12.909436216418642,
          13.578694902379487,
          12.870009196917614,
          13.116955116751376,
          12.831126952441577,
          12.02428689507166,
          11.920555365151253,
          11.748125166318939,
          12.035303450052144,
          12.54506209214725,
          11.220837028287754,
          10.639742884667942,
          10.553362649992284,
          10.69696755044436,
          9.203071483144418,
          10.04239576946546,
          10.904701643135956,
          11.386616538472868,
          11.127018426057493,
          11.71020350173163,
          10.19804234830654,
          9.561635674654244,
          9.861197911068494,
          8.958095427597065,
          8.651381892144773,
          9.173592608955486,
          9.578614928114671,
          9.880482856821496,
          9.389519436790941,
          9.863476028782655,
          10.00472868128598,
          9.350440738723519,
          10.436923912531915,
          10.701467376200641,
          10.550902481202499,
          10.816128222776346,
          10.347668314963046,
          10.303764013944486,
          9.60103178081803,
          10.963545140088133,
          11.15437348979806,
          11.131877600560957,
          11.81660567964779,
          12.027627810326086,
          12.858350098484417,
          13.173239180444767,
          12.921542736450816,
          13.082236101525519,
          13.67264429076366,
          13.50939845099865,
          13.925108857554136,
          14.502329992778394,
          13.684092739932089,
          13.63522998173313,
          13.590627953149578,
          13.84052194674855,
          14.484645255231978,
          14.38953722369073,
          14.73981002600666,
          14.762402760499317,
          15.605281943877463,
          15.769204443888652,
          16.027623654603072,
          15.929228266553547,
          15.673731019810369,
          16.27609595363643,
          16.538169901878273,
          16.557462353284635,
          15.47284488520109,
          15.382664558093158,
          15.504250086896603,
          15.543274606789721,
          15.904601037880724,
          15.82977672746137,
          15.932978117334592,
          15.746634613803016,
          15.019815136132143,
          15.147871483341403,
          15.574513743743474,
          15.13073018361594,
          13.190038908634925,
          12.254513026084425,
          12.557041848697402,
          12.24248722868776,
          12.568163716771279,
          12.498493258663691,
          12.66513008888633,
          11.478010563176102,
          11.220191435792508,
          11.36085948235197,
          11.606298728032423,
          11.858153274058855,
          11.99332074116146,
          11.657171845510604,
          11.532347356570098,
          10.774412406530512,
          10.555987528773207,
          10.507867338322736,
          9.843925036788665,
          9.491729902993681,
          9.824234032606588,
          9.789931459315529,
          10.319596965495665,
          10.180852842275566,
          10.263080772395865,
          10.101986979516575,
          9.975270444547334,
          9.68195180074588,
          9.00468330267259,
          9.877522881797418,
          10.338022235880478,
          9.558979071461753,
          9.275510520783518,
          10.100662557134061,
          9.825151315332818,
          9.719527962026046,
          9.512104606490084,
          8.804868766950849,
          9.635735676497296,
          9.596277610818468,
          8.587805848590065,
          7.992476621890588,
          7.979415427766405,
          6.887633240959098,
          6.1158520534749865,
          5.686580792711465,
          6.283978682335245,
          6.626283106142695,
          5.938167263807355,
          6.370871079287455,
          5.851058305257792,
          5.383055645572537,
          5.185631102475627,
          5.436791205765041,
          5.335240464396213,
          6.0859109547037455,
          5.587322979690297,
          5.102541234053684,
          4.995660368111993,
          5.197467894104284,
          5.082584998954513,
          5.07902421999558,
          4.89458807623446,
          4.683467910580057,
          4.623420278224883,
          4.974502458516259,
          5.2978386925077965,
          4.810837510709868,
          4.338327887059684,
          3.5152468946087314,
          3.516953411467093,
          4.199528238614289,
          4.5539027468741535,
          4.821932567249566,
          4.163432686268164,
          4.733035520449078,
          5.817021407437963,
          5.355953290693145,
          6.119074101694973,
          6.123827908437631,
          5.689448556576279,
          5.379984111338434,
          5.969594309705817,
          5.080346751007283,
          5.600402025441654,
          5.27708372363817,
          4.753419854759175,
          4.874245519784388,
          4.57433516042291,
          3.826813637858308,
          4.030889376481203,
          3.7143002807907424,
          4.1526780181782375,
          5.206986415390365,
          4.817688918348692,
          5.272568813700618,
          5.009762820276492,
          4.781258430576313,
          4.938212956613097,
          5.4295089405107415,
          4.191475702292976,
          4.569253221612627,
          4.4601698298815515,
          3.829196911472512,
          2.6907737378632945,
          2.0930704595910994,
          1.112238427369041,
          1.3924301248072817,
          1.5229136535713583,
          2.0658846246360296,
          2.636893101363828,
          2.8701933496822423,
          3.2042742647139675,
          3.922480560171087,
          3.7914719934981314,
          3.813169630554975,
          3.8671262074613693,
          3.6382328030438384,
          3.665354607198652,
          3.6617100481397657,
          3.1975681554491864,
          2.6204837031051573,
          2.428294657219518,
          2.5030870730023596,
          2.518731907571268,
          2.145905396220182,
          2.5498480193490316,
          2.29212393283843,
          1.725370618548383,
          2.937438432543798,
          3.0218001258757967,
          3.283526689521616,
          3.875532084764013,
          3.848585489248414,
          3.515011031546347,
          2.6376227886206016,
          1.961091513608137,
          1.8262025239665993,
          2.657861462057283,
          2.418026754496995,
          2.7447049584574255,
          2.728120699005679,
          2.045503745757358,
          2.162562588073673,
          1.362033256281157,
          1.164028670160285,
          0.9573194348648193,
          1.3568942589758848,
          1.2431207032136828,
          2.0033609930448746,
          2.0824020151164317,
          2.6103270656306328,
          2.1876705640404297,
          2.744218275988361,
          2.941947530221677,
          3.3286178988768143,
          3.719156214759978,
          3.8145528022541373,
          4.277992153672434,
          4.378005422235047,
          3.5182909157166016,
          3.2390182461946595,
          3.244037635149832,
          3.6196828320602172,
          3.2416957573955103,
          3.373654538799196,
          4.302566176564053,
          5.254818750703007,
          5.968727637038761,
          5.851259399943581,
          5.762200659377618,
          6.3901007926211975,
          5.930068740569606,
          5.9591360897958126,
          6.603346424238317,
          6.8900070148296475,
          7.422947056264815,
          8.344103876536517,
          8.109377625914004,
          8.17641467290615,
          8.147859569837701,
          9.76535377997673,
          10.592749153667901,
          10.408807617818736,
          10.685802432627701,
          10.743154116788277,
          10.832292032607024,
          10.397340889844754,
          9.36618365335914,
          9.282495328873493,
          10.170583058385455,
          10.155654982244004,
          9.802612420088474,
          9.00513113479997,
          9.409494260851568,
          9.36138479454934,
          9.522286412537833,
          9.485602681937861,
          9.157694079358007,
          9.50147987903922,
          8.695553760048979,
          9.408481180344351,
          10.238845244388953,
          10.399589084042711,
          10.272968262133936,
          9.730832449970567,
          10.335190977040584,
          9.17188764867073,
          9.741499629285222,
          9.212712508240003,
          8.53208443573355,
          8.245803454197645,
          8.172850771630431,
          9.241209568554025,
          9.43206790463051,
          8.62027199186401,
          8.688320934380922,
          9.297789458982724,
          9.801637918319177,
          9.969395412641918,
          9.989916856795038,
          9.581210533222857,
          9.93050150260613,
          10.711304967385749,
          10.726073601060909,
          10.797143643150227,
          11.513064116721731,
          11.446162068073928,
          11.193664647271383,
          11.038808219263029,
          11.40974240246442,
          11.42921694890528,
          11.539120435687556,
          12.140768464464697,
          12.160774999721083,
          12.914006872999295,
          13.408437411653184,
          12.862055090373092,
          12.04974442701875,
          11.681139097544124,
          10.569340094797013,
          10.281380933527975,
          9.48935291907705,
          9.735300378883673,
          9.490514875986214,
          9.331187280096398,
          8.772067995930431,
          9.360413932160352,
          9.14333205958385,
          9.439527407150916,
          9.402526777684622,
          8.929627098627005,
          8.766883661864668,
          8.072663698117069,
          8.322795864991429,
          8.809655847798833,
          7.964284464637892,
          8.255571895312656,
          8.386230425966703,
          7.777907714981176,
          8.080788195782214,
          8.467114714023442,
          9.057583705424598,
          9.760569098002213,
          9.688868596251243,
          9.71235975667654,
          9.44346750841787,
          9.060174249877278,
          8.904904166077173,
          8.914701693922046,
          8.75437680588755,
          8.586406340359067
         ],
         "yaxis": "y"
        }
       ],
       "layout": {
        "legend": {
         "title": {
          "text": "variable"
         },
         "tracegroupgap": 0
        },
        "margin": {
         "t": 60
        },
        "template": {
         "data": {
          "bar": [
           {
            "error_x": {
             "color": "#2a3f5f"
            },
            "error_y": {
             "color": "#2a3f5f"
            },
            "marker": {
             "line": {
              "color": "#E5ECF6",
              "width": 0.5
             },
             "pattern": {
              "fillmode": "overlay",
              "size": 10,
              "solidity": 0.2
             }
            },
            "type": "bar"
           }
          ],
          "barpolar": [
           {
            "marker": {
             "line": {
              "color": "#E5ECF6",
              "width": 0.5
             },
             "pattern": {
              "fillmode": "overlay",
              "size": 10,
              "solidity": 0.2
             }
            },
            "type": "barpolar"
           }
          ],
          "carpet": [
           {
            "aaxis": {
             "endlinecolor": "#2a3f5f",
             "gridcolor": "white",
             "linecolor": "white",
             "minorgridcolor": "white",
             "startlinecolor": "#2a3f5f"
            },
            "baxis": {
             "endlinecolor": "#2a3f5f",
             "gridcolor": "white",
             "linecolor": "white",
             "minorgridcolor": "white",
             "startlinecolor": "#2a3f5f"
            },
            "type": "carpet"
           }
          ],
          "choropleth": [
           {
            "colorbar": {
             "outlinewidth": 0,
             "ticks": ""
            },
            "type": "choropleth"
           }
          ],
          "contour": [
           {
            "colorbar": {
             "outlinewidth": 0,
             "ticks": ""
            },
            "colorscale": [
             [
              0,
              "#0d0887"
             ],
             [
              0.1111111111111111,
              "#46039f"
             ],
             [
              0.2222222222222222,
              "#7201a8"
             ],
             [
              0.3333333333333333,
              "#9c179e"
             ],
             [
              0.4444444444444444,
              "#bd3786"
             ],
             [
              0.5555555555555556,
              "#d8576b"
             ],
             [
              0.6666666666666666,
              "#ed7953"
             ],
             [
              0.7777777777777778,
              "#fb9f3a"
             ],
             [
              0.8888888888888888,
              "#fdca26"
             ],
             [
              1,
              "#f0f921"
             ]
            ],
            "type": "contour"
           }
          ],
          "contourcarpet": [
           {
            "colorbar": {
             "outlinewidth": 0,
             "ticks": ""
            },
            "type": "contourcarpet"
           }
          ],
          "heatmap": [
           {
            "colorbar": {
             "outlinewidth": 0,
             "ticks": ""
            },
            "colorscale": [
             [
              0,
              "#0d0887"
             ],
             [
              0.1111111111111111,
              "#46039f"
             ],
             [
              0.2222222222222222,
              "#7201a8"
             ],
             [
              0.3333333333333333,
              "#9c179e"
             ],
             [
              0.4444444444444444,
              "#bd3786"
             ],
             [
              0.5555555555555556,
              "#d8576b"
             ],
             [
              0.6666666666666666,
              "#ed7953"
             ],
             [
              0.7777777777777778,
              "#fb9f3a"
             ],
             [
              0.8888888888888888,
              "#fdca26"
             ],
             [
              1,
              "#f0f921"
             ]
            ],
            "type": "heatmap"
           }
          ],
          "heatmapgl": [
           {
            "colorbar": {
             "outlinewidth": 0,
             "ticks": ""
            },
            "colorscale": [
             [
              0,
              "#0d0887"
             ],
             [
              0.1111111111111111,
              "#46039f"
             ],
             [
              0.2222222222222222,
              "#7201a8"
             ],
             [
              0.3333333333333333,
              "#9c179e"
             ],
             [
              0.4444444444444444,
              "#bd3786"
             ],
             [
              0.5555555555555556,
              "#d8576b"
             ],
             [
              0.6666666666666666,
              "#ed7953"
             ],
             [
              0.7777777777777778,
              "#fb9f3a"
             ],
             [
              0.8888888888888888,
              "#fdca26"
             ],
             [
              1,
              "#f0f921"
             ]
            ],
            "type": "heatmapgl"
           }
          ],
          "histogram": [
           {
            "marker": {
             "pattern": {
              "fillmode": "overlay",
              "size": 10,
              "solidity": 0.2
             }
            },
            "type": "histogram"
           }
          ],
          "histogram2d": [
           {
            "colorbar": {
             "outlinewidth": 0,
             "ticks": ""
            },
            "colorscale": [
             [
              0,
              "#0d0887"
             ],
             [
              0.1111111111111111,
              "#46039f"
             ],
             [
              0.2222222222222222,
              "#7201a8"
             ],
             [
              0.3333333333333333,
              "#9c179e"
             ],
             [
              0.4444444444444444,
              "#bd3786"
             ],
             [
              0.5555555555555556,
              "#d8576b"
             ],
             [
              0.6666666666666666,
              "#ed7953"
             ],
             [
              0.7777777777777778,
              "#fb9f3a"
             ],
             [
              0.8888888888888888,
              "#fdca26"
             ],
             [
              1,
              "#f0f921"
             ]
            ],
            "type": "histogram2d"
           }
          ],
          "histogram2dcontour": [
           {
            "colorbar": {
             "outlinewidth": 0,
             "ticks": ""
            },
            "colorscale": [
             [
              0,
              "#0d0887"
             ],
             [
              0.1111111111111111,
              "#46039f"
             ],
             [
              0.2222222222222222,
              "#7201a8"
             ],
             [
              0.3333333333333333,
              "#9c179e"
             ],
             [
              0.4444444444444444,
              "#bd3786"
             ],
             [
              0.5555555555555556,
              "#d8576b"
             ],
             [
              0.6666666666666666,
              "#ed7953"
             ],
             [
              0.7777777777777778,
              "#fb9f3a"
             ],
             [
              0.8888888888888888,
              "#fdca26"
             ],
             [
              1,
              "#f0f921"
             ]
            ],
            "type": "histogram2dcontour"
           }
          ],
          "mesh3d": [
           {
            "colorbar": {
             "outlinewidth": 0,
             "ticks": ""
            },
            "type": "mesh3d"
           }
          ],
          "parcoords": [
           {
            "line": {
             "colorbar": {
              "outlinewidth": 0,
              "ticks": ""
             }
            },
            "type": "parcoords"
           }
          ],
          "pie": [
           {
            "automargin": true,
            "type": "pie"
           }
          ],
          "scatter": [
           {
            "fillpattern": {
             "fillmode": "overlay",
             "size": 10,
             "solidity": 0.2
            },
            "type": "scatter"
           }
          ],
          "scatter3d": [
           {
            "line": {
             "colorbar": {
              "outlinewidth": 0,
              "ticks": ""
             }
            },
            "marker": {
             "colorbar": {
              "outlinewidth": 0,
              "ticks": ""
             }
            },
            "type": "scatter3d"
           }
          ],
          "scattercarpet": [
           {
            "marker": {
             "colorbar": {
              "outlinewidth": 0,
              "ticks": ""
             }
            },
            "type": "scattercarpet"
           }
          ],
          "scattergeo": [
           {
            "marker": {
             "colorbar": {
              "outlinewidth": 0,
              "ticks": ""
             }
            },
            "type": "scattergeo"
           }
          ],
          "scattergl": [
           {
            "marker": {
             "colorbar": {
              "outlinewidth": 0,
              "ticks": ""
             }
            },
            "type": "scattergl"
           }
          ],
          "scattermapbox": [
           {
            "marker": {
             "colorbar": {
              "outlinewidth": 0,
              "ticks": ""
             }
            },
            "type": "scattermapbox"
           }
          ],
          "scatterpolar": [
           {
            "marker": {
             "colorbar": {
              "outlinewidth": 0,
              "ticks": ""
             }
            },
            "type": "scatterpolar"
           }
          ],
          "scatterpolargl": [
           {
            "marker": {
             "colorbar": {
              "outlinewidth": 0,
              "ticks": ""
             }
            },
            "type": "scatterpolargl"
           }
          ],
          "scatterternary": [
           {
            "marker": {
             "colorbar": {
              "outlinewidth": 0,
              "ticks": ""
             }
            },
            "type": "scatterternary"
           }
          ],
          "surface": [
           {
            "colorbar": {
             "outlinewidth": 0,
             "ticks": ""
            },
            "colorscale": [
             [
              0,
              "#0d0887"
             ],
             [
              0.1111111111111111,
              "#46039f"
             ],
             [
              0.2222222222222222,
              "#7201a8"
             ],
             [
              0.3333333333333333,
              "#9c179e"
             ],
             [
              0.4444444444444444,
              "#bd3786"
             ],
             [
              0.5555555555555556,
              "#d8576b"
             ],
             [
              0.6666666666666666,
              "#ed7953"
             ],
             [
              0.7777777777777778,
              "#fb9f3a"
             ],
             [
              0.8888888888888888,
              "#fdca26"
             ],
             [
              1,
              "#f0f921"
             ]
            ],
            "type": "surface"
           }
          ],
          "table": [
           {
            "cells": {
             "fill": {
              "color": "#EBF0F8"
             },
             "line": {
              "color": "white"
             }
            },
            "header": {
             "fill": {
              "color": "#C8D4E3"
             },
             "line": {
              "color": "white"
             }
            },
            "type": "table"
           }
          ]
         },
         "layout": {
          "annotationdefaults": {
           "arrowcolor": "#2a3f5f",
           "arrowhead": 0,
           "arrowwidth": 1
          },
          "autotypenumbers": "strict",
          "coloraxis": {
           "colorbar": {
            "outlinewidth": 0,
            "ticks": ""
           }
          },
          "colorscale": {
           "diverging": [
            [
             0,
             "#8e0152"
            ],
            [
             0.1,
             "#c51b7d"
            ],
            [
             0.2,
             "#de77ae"
            ],
            [
             0.3,
             "#f1b6da"
            ],
            [
             0.4,
             "#fde0ef"
            ],
            [
             0.5,
             "#f7f7f7"
            ],
            [
             0.6,
             "#e6f5d0"
            ],
            [
             0.7,
             "#b8e186"
            ],
            [
             0.8,
             "#7fbc41"
            ],
            [
             0.9,
             "#4d9221"
            ],
            [
             1,
             "#276419"
            ]
           ],
           "sequential": [
            [
             0,
             "#0d0887"
            ],
            [
             0.1111111111111111,
             "#46039f"
            ],
            [
             0.2222222222222222,
             "#7201a8"
            ],
            [
             0.3333333333333333,
             "#9c179e"
            ],
            [
             0.4444444444444444,
             "#bd3786"
            ],
            [
             0.5555555555555556,
             "#d8576b"
            ],
            [
             0.6666666666666666,
             "#ed7953"
            ],
            [
             0.7777777777777778,
             "#fb9f3a"
            ],
            [
             0.8888888888888888,
             "#fdca26"
            ],
            [
             1,
             "#f0f921"
            ]
           ],
           "sequentialminus": [
            [
             0,
             "#0d0887"
            ],
            [
             0.1111111111111111,
             "#46039f"
            ],
            [
             0.2222222222222222,
             "#7201a8"
            ],
            [
             0.3333333333333333,
             "#9c179e"
            ],
            [
             0.4444444444444444,
             "#bd3786"
            ],
            [
             0.5555555555555556,
             "#d8576b"
            ],
            [
             0.6666666666666666,
             "#ed7953"
            ],
            [
             0.7777777777777778,
             "#fb9f3a"
            ],
            [
             0.8888888888888888,
             "#fdca26"
            ],
            [
             1,
             "#f0f921"
            ]
           ]
          },
          "colorway": [
           "#636efa",
           "#EF553B",
           "#00cc96",
           "#ab63fa",
           "#FFA15A",
           "#19d3f3",
           "#FF6692",
           "#B6E880",
           "#FF97FF",
           "#FECB52"
          ],
          "font": {
           "color": "#2a3f5f"
          },
          "geo": {
           "bgcolor": "white",
           "lakecolor": "white",
           "landcolor": "#E5ECF6",
           "showlakes": true,
           "showland": true,
           "subunitcolor": "white"
          },
          "hoverlabel": {
           "align": "left"
          },
          "hovermode": "closest",
          "mapbox": {
           "style": "light"
          },
          "paper_bgcolor": "white",
          "plot_bgcolor": "#E5ECF6",
          "polar": {
           "angularaxis": {
            "gridcolor": "white",
            "linecolor": "white",
            "ticks": ""
           },
           "bgcolor": "#E5ECF6",
           "radialaxis": {
            "gridcolor": "white",
            "linecolor": "white",
            "ticks": ""
           }
          },
          "scene": {
           "xaxis": {
            "backgroundcolor": "#E5ECF6",
            "gridcolor": "white",
            "gridwidth": 2,
            "linecolor": "white",
            "showbackground": true,
            "ticks": "",
            "zerolinecolor": "white"
           },
           "yaxis": {
            "backgroundcolor": "#E5ECF6",
            "gridcolor": "white",
            "gridwidth": 2,
            "linecolor": "white",
            "showbackground": true,
            "ticks": "",
            "zerolinecolor": "white"
           },
           "zaxis": {
            "backgroundcolor": "#E5ECF6",
            "gridcolor": "white",
            "gridwidth": 2,
            "linecolor": "white",
            "showbackground": true,
            "ticks": "",
            "zerolinecolor": "white"
           }
          },
          "shapedefaults": {
           "line": {
            "color": "#2a3f5f"
           }
          },
          "ternary": {
           "aaxis": {
            "gridcolor": "white",
            "linecolor": "white",
            "ticks": ""
           },
           "baxis": {
            "gridcolor": "white",
            "linecolor": "white",
            "ticks": ""
           },
           "bgcolor": "#E5ECF6",
           "caxis": {
            "gridcolor": "white",
            "linecolor": "white",
            "ticks": ""
           }
          },
          "title": {
           "x": 0.05
          },
          "xaxis": {
           "automargin": true,
           "gridcolor": "white",
           "linecolor": "white",
           "ticks": "",
           "title": {
            "standoff": 15
           },
           "zerolinecolor": "white",
           "zerolinewidth": 2
          },
          "yaxis": {
           "automargin": true,
           "gridcolor": "white",
           "linecolor": "white",
           "ticks": "",
           "title": {
            "standoff": 15
           },
           "zerolinecolor": "white",
           "zerolinewidth": 2
          }
         }
        },
        "title": {
         "text": "Evolution of price over time",
         "x": 0.5
        },
        "xaxis": {
         "anchor": "y",
         "domain": [
          0,
          1
         ],
         "title": {
          "text": "index"
         }
        },
        "yaxis": {
         "anchor": "x",
         "domain": [
          0,
          1
         ],
         "title": {
          "text": "value"
         }
        }
       }
      }
     },
     "metadata": {},
     "output_type": "display_data"
    }
   ],
   "source": [
    "fig = px.line(W_t)\n",
    "fig.update_traces(line_color = \"maroon\")\n",
    "fig.update_layout(title_text = \"Evolution of price over time\", title_x = 0.5)\n",
    "fig.show()"
   ]
  },
  {
   "cell_type": "code",
   "execution_count": 96,
   "metadata": {},
   "outputs": [
    {
     "data": {
      "application/vnd.plotly.v1+json": {
       "config": {
        "plotlyServerURL": "https://plot.ly"
       },
       "data": [
        {
         "hovertemplate": "variable=0<br>index=%{x}<br>value=%{y}<extra></extra>",
         "legendgroup": "0",
         "line": {
          "color": "#636efa",
          "dash": "solid"
         },
         "marker": {
          "symbol": "circle"
         },
         "mode": "lines",
         "name": "0",
         "showlegend": true,
         "type": "scattergl",
         "x": [
          0,
          1,
          2,
          3,
          4,
          5,
          6,
          7,
          8,
          9,
          10,
          11,
          12,
          13,
          14,
          15,
          16,
          17,
          18,
          19,
          20,
          21,
          22,
          23,
          24,
          25,
          26,
          27,
          28,
          29,
          30,
          31,
          32,
          33,
          34,
          35,
          36,
          37,
          38,
          39,
          40,
          41,
          42,
          43,
          44,
          45,
          46,
          47,
          48,
          49,
          50,
          51,
          52,
          53,
          54,
          55,
          56,
          57,
          58,
          59,
          60,
          61,
          62,
          63,
          64,
          65,
          66,
          67,
          68,
          69,
          70,
          71,
          72,
          73,
          74,
          75,
          76,
          77,
          78,
          79,
          80,
          81,
          82,
          83,
          84,
          85,
          86,
          87,
          88,
          89,
          90,
          91,
          92,
          93,
          94,
          95,
          96,
          97,
          98,
          99,
          100,
          101,
          102,
          103,
          104,
          105,
          106,
          107,
          108,
          109,
          110,
          111,
          112,
          113,
          114,
          115,
          116,
          117,
          118,
          119,
          120,
          121,
          122,
          123,
          124,
          125,
          126,
          127,
          128,
          129,
          130,
          131,
          132,
          133,
          134,
          135,
          136,
          137,
          138,
          139,
          140,
          141,
          142,
          143,
          144,
          145,
          146,
          147,
          148,
          149,
          150,
          151,
          152,
          153,
          154,
          155,
          156,
          157,
          158,
          159,
          160,
          161,
          162,
          163,
          164,
          165,
          166,
          167,
          168,
          169,
          170,
          171,
          172,
          173,
          174,
          175,
          176,
          177,
          178,
          179,
          180,
          181,
          182,
          183,
          184,
          185,
          186,
          187,
          188,
          189,
          190,
          191,
          192,
          193,
          194,
          195,
          196,
          197,
          198,
          199,
          200,
          201,
          202,
          203,
          204,
          205,
          206,
          207,
          208,
          209,
          210,
          211,
          212,
          213,
          214,
          215,
          216,
          217,
          218,
          219,
          220,
          221,
          222,
          223,
          224,
          225,
          226,
          227,
          228,
          229,
          230,
          231,
          232,
          233,
          234,
          235,
          236,
          237,
          238,
          239,
          240,
          241,
          242,
          243,
          244,
          245,
          246,
          247,
          248,
          249,
          250,
          251,
          252,
          253,
          254,
          255,
          256,
          257,
          258,
          259,
          260,
          261,
          262,
          263,
          264,
          265,
          266,
          267,
          268,
          269,
          270,
          271,
          272,
          273,
          274,
          275,
          276,
          277,
          278,
          279,
          280,
          281,
          282,
          283,
          284,
          285,
          286,
          287,
          288,
          289,
          290,
          291,
          292,
          293,
          294,
          295,
          296,
          297,
          298,
          299,
          300,
          301,
          302,
          303,
          304,
          305,
          306,
          307,
          308,
          309,
          310,
          311,
          312,
          313,
          314,
          315,
          316,
          317,
          318,
          319,
          320,
          321,
          322,
          323,
          324,
          325,
          326,
          327,
          328,
          329,
          330,
          331,
          332,
          333,
          334,
          335,
          336,
          337,
          338,
          339,
          340,
          341,
          342,
          343,
          344,
          345,
          346,
          347,
          348,
          349,
          350,
          351,
          352,
          353,
          354,
          355,
          356,
          357,
          358,
          359,
          360,
          361,
          362,
          363,
          364,
          365,
          366,
          367,
          368,
          369,
          370,
          371,
          372,
          373,
          374,
          375,
          376,
          377,
          378,
          379,
          380,
          381,
          382,
          383,
          384,
          385,
          386,
          387,
          388,
          389,
          390,
          391,
          392,
          393,
          394,
          395,
          396,
          397,
          398,
          399,
          400,
          401,
          402,
          403,
          404,
          405,
          406,
          407,
          408,
          409,
          410,
          411,
          412,
          413,
          414,
          415,
          416,
          417,
          418,
          419,
          420,
          421,
          422,
          423,
          424,
          425,
          426,
          427,
          428,
          429,
          430,
          431,
          432,
          433,
          434,
          435,
          436,
          437,
          438,
          439,
          440,
          441,
          442,
          443,
          444,
          445,
          446,
          447,
          448,
          449,
          450,
          451,
          452,
          453,
          454,
          455,
          456,
          457,
          458,
          459,
          460,
          461,
          462,
          463,
          464,
          465,
          466,
          467,
          468,
          469,
          470,
          471,
          472,
          473,
          474,
          475,
          476,
          477,
          478,
          479,
          480,
          481,
          482,
          483,
          484,
          485,
          486,
          487,
          488,
          489,
          490,
          491,
          492,
          493,
          494,
          495,
          496,
          497,
          498,
          499,
          500,
          501,
          502,
          503,
          504,
          505,
          506,
          507,
          508,
          509,
          510,
          511,
          512,
          513,
          514,
          515,
          516,
          517,
          518,
          519,
          520,
          521,
          522,
          523,
          524,
          525,
          526,
          527,
          528,
          529,
          530,
          531,
          532,
          533,
          534,
          535,
          536,
          537,
          538,
          539,
          540,
          541,
          542,
          543,
          544,
          545,
          546,
          547,
          548,
          549,
          550,
          551,
          552,
          553,
          554,
          555,
          556,
          557,
          558,
          559,
          560,
          561,
          562,
          563,
          564,
          565,
          566,
          567,
          568,
          569,
          570,
          571,
          572,
          573,
          574,
          575,
          576,
          577,
          578,
          579,
          580,
          581,
          582,
          583,
          584,
          585,
          586,
          587,
          588,
          589,
          590,
          591,
          592,
          593,
          594,
          595,
          596,
          597,
          598,
          599,
          600,
          601,
          602,
          603,
          604,
          605,
          606,
          607,
          608,
          609,
          610,
          611,
          612,
          613,
          614,
          615,
          616,
          617,
          618,
          619,
          620,
          621,
          622,
          623,
          624,
          625,
          626,
          627,
          628,
          629,
          630,
          631,
          632,
          633,
          634,
          635,
          636,
          637,
          638,
          639,
          640,
          641,
          642,
          643,
          644,
          645,
          646,
          647,
          648,
          649,
          650,
          651,
          652,
          653,
          654,
          655,
          656,
          657,
          658,
          659,
          660,
          661,
          662,
          663,
          664,
          665,
          666,
          667,
          668,
          669,
          670,
          671,
          672,
          673,
          674,
          675,
          676,
          677,
          678,
          679,
          680,
          681,
          682,
          683,
          684,
          685,
          686,
          687,
          688,
          689,
          690,
          691,
          692,
          693,
          694,
          695,
          696,
          697,
          698,
          699,
          700,
          701,
          702,
          703,
          704,
          705,
          706,
          707,
          708,
          709,
          710,
          711,
          712,
          713,
          714,
          715,
          716,
          717,
          718,
          719,
          720,
          721,
          722,
          723,
          724,
          725,
          726,
          727,
          728,
          729,
          730,
          731,
          732,
          733,
          734,
          735,
          736,
          737,
          738,
          739,
          740,
          741,
          742,
          743,
          744,
          745,
          746,
          747,
          748,
          749,
          750,
          751,
          752,
          753,
          754,
          755,
          756,
          757,
          758,
          759,
          760,
          761,
          762,
          763,
          764,
          765,
          766,
          767,
          768,
          769,
          770,
          771,
          772,
          773,
          774,
          775,
          776,
          777,
          778,
          779,
          780,
          781,
          782,
          783,
          784,
          785,
          786,
          787,
          788,
          789,
          790,
          791,
          792,
          793,
          794,
          795,
          796,
          797,
          798,
          799,
          800,
          801,
          802,
          803,
          804,
          805,
          806,
          807,
          808,
          809,
          810,
          811,
          812,
          813,
          814,
          815,
          816,
          817,
          818,
          819,
          820,
          821,
          822,
          823,
          824,
          825,
          826,
          827,
          828,
          829,
          830,
          831,
          832,
          833,
          834,
          835,
          836,
          837,
          838,
          839,
          840,
          841,
          842,
          843,
          844,
          845,
          846,
          847,
          848,
          849,
          850,
          851,
          852,
          853,
          854,
          855,
          856,
          857,
          858,
          859,
          860,
          861,
          862,
          863,
          864,
          865,
          866,
          867,
          868,
          869,
          870,
          871,
          872,
          873,
          874,
          875,
          876,
          877,
          878,
          879,
          880,
          881,
          882,
          883,
          884,
          885,
          886,
          887,
          888,
          889,
          890,
          891,
          892,
          893,
          894,
          895,
          896,
          897,
          898,
          899,
          900,
          901,
          902,
          903,
          904,
          905,
          906,
          907,
          908,
          909,
          910,
          911,
          912,
          913,
          914,
          915,
          916,
          917,
          918,
          919,
          920,
          921,
          922,
          923,
          924,
          925,
          926,
          927,
          928,
          929,
          930,
          931,
          932,
          933,
          934,
          935,
          936,
          937,
          938,
          939,
          940,
          941,
          942,
          943,
          944,
          945,
          946,
          947,
          948,
          949,
          950,
          951,
          952,
          953,
          954,
          955,
          956,
          957,
          958,
          959,
          960,
          961,
          962,
          963,
          964,
          965,
          966,
          967,
          968,
          969,
          970,
          971,
          972,
          973,
          974,
          975,
          976,
          977,
          978,
          979,
          980,
          981,
          982,
          983,
          984,
          985,
          986,
          987,
          988,
          989,
          990,
          991,
          992,
          993,
          994,
          995,
          996,
          997,
          998,
          999,
          1000
         ],
         "xaxis": "x",
         "y": [
          0,
          -0.49848872160006646,
          -0.69187614193619,
          -1.1012538772434501,
          -1.7785944699105243,
          -1.373202967596642,
          -1.4929147613260267,
          -1.0579571602714688,
          -0.7076564369635945,
          -0.5197034208423922,
          -0.3831725044747326,
          -0.29830253066192686,
          -0.7239993125872721,
          -0.5775295835256519,
          -0.9864123021942282,
          -0.08051739272022429,
          0.29750231690526413,
          0.06902904147766589,
          0.5643657443376459,
          1.7588737509441206,
          2.0435224854881344,
          1.9359996073766714,
          1.8558476461180802,
          2.4879263213706535,
          1.977000636474293,
          2.429033037289646,
          2.7209759012276815,
          1.8283088057215295,
          1.4628142646011473,
          2.05258097459513,
          2.2086670531858044,
          2.580884585419933,
          2.0867823233008043,
          1.4956004608003721,
          2.171864624847676,
          2.3474686270388556,
          3.42363786185074,
          4.2050498109532795,
          3.9052210042232147,
          4.696265281209336,
          5.412207227153912,
          6.496743328838825,
          6.217297229552697,
          6.949746528492603,
          6.96653599493646,
          7.470534282443841,
          7.183523500458523,
          6.848406826066656,
          7.526560382377205,
          6.901813003231237,
          6.934571904527917,
          7.124909365203071,
          6.958109280192685,
          6.7201811877074125,
          6.372678062377043,
          6.270010410769872,
          6.921347378288025,
          7.130960371722388,
          6.475890719523752,
          6.069215251975461,
          6.14181002031876,
          7.069261946929081,
          6.24530942648413,
          6.0617113048783136,
          6.840610775657563,
          6.547103544281355,
          6.641156396409427,
          6.74139434937659,
          7.258210120785561,
          6.519065006213859,
          6.173009437046545,
          6.884687869232172,
          6.963945900838019,
          7.14363489567097,
          6.688652932223063,
          6.754158247336916,
          6.876951900344656,
          6.348463853044494,
          6.340591186581031,
          7.484854049361374,
          7.8434693030336575,
          7.905085052645594,
          8.000230990293426,
          7.844816529822198,
          7.384786822218979,
          7.797878527735939,
          6.533130837738655,
          7.486853735028936,
          7.395536955182129,
          7.800655199297654,
          7.104506940672437,
          6.7997723804898955,
          7.287798227285332,
          8.008934546013192,
          7.525665521225625,
          6.596844346387777,
          6.366335593580201,
          6.753781349633545,
          6.07044968765364,
          6.312108478530969,
          7.370524370528981,
          6.732406309558601,
          6.146112053957711,
          5.600171287040453,
          5.092460916342807,
          4.15178240480645,
          4.548642911845958,
          3.5625072231500585,
          3.779347615706656,
          4.708089761998667,
          4.948481201836866,
          4.802564406302764,
          4.9622251746096095,
          4.560980666717872,
          3.3384582543580423,
          2.305863487332207,
          1.6976560620343952,
          1.603061703815939,
          2.0706235169336544,
          1.402263228605402,
          0.8811147688986899,
          0.19768594068245482,
          0.6669994754450783,
          0.8543856664094361,
          1.434665639272056,
          1.5044533149035497,
          0.7193151700420516,
          1.298826557751788,
          0.42719845433025894,
          1.0777819925173548,
          1.008700692237479,
          1.3651489801120076,
          2.039402548157236,
          1.3271801857642962,
          1.8568962221985124,
          1.6741994306745724,
          2.741135838572716,
          3.4230820148579633,
          2.95710293703649,
          2.4072634287134327,
          1.6037450348643594,
          1.8698844772301546,
          2.739070175881523,
          2.0942321365210677,
          2.3511459996495674,
          2.416971502179221,
          1.9620273468829383,
          1.5322814400216627,
          2.091532964033515,
          2.8562069482347496,
          3.13807276196778,
          3.1192026623366824,
          3.447450846720754,
          2.7329024692977217,
          3.044206754695917,
          3.018877627971152,
          2.1868742223620314,
          1.590141610400323,
          1.5752287386473391,
          0.828055281438349,
          1.1055145563739412,
          1.7669752496008027,
          1.6912618042765521,
          2.7733301366516665,
          1.6506486008783174,
          1.3422972444926973,
          1.5687478918589859,
          1.1313952042306081,
          0.5221236230485885,
          1.0288161246063057,
          0.9949893399732889,
          1.7472904908057982,
          2.7513390639477153,
          3.6200629447808055,
          3.0013303887123026,
          2.7637080809952366,
          2.149376240710127,
          2.5227158079268466,
          1.9181637076180738,
          1.651959762936288,
          1.587959847276452,
          1.2495657506193096,
          0.6554341908053309,
          0.3518123024684142,
          -0.10972638893644565,
          -1.5050604473558862,
          -1.4180080581215784,
          -1.153630131710606,
          -2.113409430846846,
          -2.433181221098262,
          -2.3486945016134952,
          -1.7065777068393064,
          -2.300829086885996,
          -1.4154970501146784,
          -2.05147169677914,
          -2.1401414113631128,
          -2.0203694651389634,
          -2.344600135407033,
          -3.0183407929503066,
          -3.321935964463717,
          -3.547806148202001,
          -3.4213496235142067,
          -4.2614750605096505,
          -3.6442678038199703,
          -3.033790129694873,
          -3.6630520504898745,
          -3.8928432194756883,
          -4.069515921515827,
          -3.6654693654499217,
          -3.291221088693793,
          -2.6109506109855793,
          -2.954360892534967,
          -3.408602978450903,
          -4.289935938236207,
          -4.410527840411753,
          -4.343892965514364,
          -3.81568752822199,
          -4.221500331459235,
          -4.314463202512468,
          -4.451283583710388,
          -4.938032711224447,
          -4.8951936193952,
          -5.421781823645263,
          -5.415151801047275,
          -5.818315471430858,
          -6.060041600529885,
          -6.059369853712936,
          -6.32159274754813,
          -5.30676797717342,
          -3.984935288540062,
          -4.567710034433358,
          -5.004114832182149,
          -5.620084273181775,
          -5.5411247899246305,
          -4.985239508927764,
          -4.327236386509385,
          -4.741173664677058,
          -5.718663521982724,
          -4.746545887851714,
          -5.448413511255046,
          -4.518337917983131,
          -4.003292620271745,
          -4.599546413195251,
          -4.216401864616911,
          -5.065086639814435,
          -4.847625464288716,
          -4.538225779949939,
          -4.252699521731852,
          -4.88668048512124,
          -5.007235710962723,
          -4.226066655149288,
          -3.9626872652511165,
          -3.565571734854726,
          -4.020618982029652,
          -2.8581232955677622,
          -1.8097721127947368,
          -1.6109026813954748,
          -0.9708642509017739,
          -1.171210433627859,
          -1.264069085641269,
          -1.7253836631307133,
          -1.3163502486969931,
          -0.45020691913567934,
          0.0939592899570506,
          -0.4570843575942428,
          -0.9863042513237259,
          -0.18240512330566894,
          -0.1166122664866844,
          -0.2642421190662075,
          0.15492213052550652,
          1.9358013437064234,
          1.9209976800310375,
          2.5589881393105847,
          2.551212786599421,
          2.5789052527792493,
          2.584606983947126,
          3.758989648709446,
          3.1435727298402423,
          3.646478560754349,
          3.7948897601288434,
          4.207646828336818,
          4.273874668642898,
          4.006896115620374,
          3.588507174575885,
          3.272069011002038,
          2.674072709083715,
          3.428562971149502,
          2.1396795878011847,
          1.1570793620739863,
          0.9344221295240618,
          1.2764243734728746,
          1.5114899964627067,
          2.4271618962078945,
          2.484382707338507,
          2.525516761162693,
          2.1849532705994057,
          1.4307077997330515,
          1.607605687327132,
          2.592145518690863,
          2.9982563628998884,
          3.623468967054405,
          3.4584959539903815,
          3.276444080803031,
          3.0155991734019545,
          2.0316628696915053,
          2.8949676862558524,
          2.904998641419736,
          3.127405297038697,
          3.7904825720138593,
          3.626759237476568,
          3.4743756073044865,
          4.411047599773791,
          3.083307709829959,
          3.4758076053041065,
          3.323513026603876,
          3.4001605770805785,
          2.6602563584522056,
          2.8651306893181188,
          2.885167207162869,
          2.15188835490983,
          2.074647218513348,
          2.344697413701325,
          2.9839973521732253,
          2.8518333885175986,
          3.291299250143827,
          3.2560392500720345,
          3.3815173496199624,
          3.7475181006648404,
          2.8382526984538785,
          2.483176652670487,
          2.054417079559655,
          1.699303659818661,
          2.107293597341359,
          1.7345252787523602,
          1.8568563249103291,
          2.2010534356783396,
          1.6977167705676055,
          2.0504053213247393,
          2.056081991766624,
          2.1533898178917195,
          2.6047196715924588,
          3.2757295659978234,
          3.5524045979739616,
          4.435935386040626,
          4.390889271924516,
          4.613913219891694,
          5.145321986787851,
          5.418966367831924,
          5.443460927084409,
          4.887198982373558,
          4.0894479766076826,
          3.0209439359899397,
          2.4769753947747843,
          1.0144957967080201,
          0.7410135227637864,
          0.994787585562166,
          0.8152795057455677,
          1.0999775200562119,
          1.051347325446244,
          1.1863839151421527,
          1.6986584521055224,
          1.556474301137687,
          1.3712604650449258,
          1.507510120780136,
          2.174489188783324,
          2.6688276307722636,
          3.6056242958204754,
          4.011748861994589,
          3.6507549624091484,
          3.383715024281292,
          3.6427861899072242,
          4.2647644312354664,
          4.407299841369092,
          4.3147438926892026,
          4.501798838022199,
          5.1809343919912125,
          4.747237520894497,
          5.129092941157814,
          5.261995918536441,
          4.73590582599363,
          5.408792897978979,
          5.62250467106053,
          4.890088810724114,
          4.276658294262919,
          4.338660060422195,
          4.883855978921503,
          5.046207282608416,
          4.7630503806385915,
          5.13564312315833,
          7.260071777029937,
          7.5435198841806,
          7.653995851792375,
          9.007152958550188,
          9.19722323639805,
          9.643665175332286,
          10.763471873989024,
          10.810161687087975,
          11.04270177817604,
          11.225047670195336,
          10.765966824880186,
          10.746237240153183,
          11.39079525005988,
          11.246010228201733,
          10.117011506966573,
          10.751765148109257,
          11.038753384137333,
          11.011106142857324,
          11.948957933112359,
          12.327116982796811,
          12.294314221201278,
          12.379599396173433,
          12.119220880590245,
          11.597686311882127,
          11.94790834303444,
          12.202562349118578,
          11.411691845315534,
          10.838512860502613,
          11.389049308155318,
          11.832029248113361,
          11.424977117086017,
          11.49745697975011,
          11.568161290351496,
          11.805693113619624,
          12.341648436836785,
          12.655659646567159,
          12.672230418530095,
          12.436491148137232,
          11.691051101045968,
          11.60072183764786,
          10.793116028813131,
          11.472200746937787,
          11.640068010224107,
          11.783635924944825,
          12.947862482834847,
          12.387983670962642,
          12.331427709956252,
          11.308999227866407,
          10.829223445143763,
          10.747361077015539,
          11.035241352377067,
          11.862245879000113,
          12.341632960506695,
          12.642293322507568,
          13.036274575661118,
          12.935795991374217,
          12.060543956832264,
          10.707053637531144,
          10.60260529883702,
          10.68572479158397,
          11.096798245573067,
          10.509428435907312,
          10.500183402598367,
          10.431297349780333,
          10.744718397619295,
          9.949381297346259,
          9.457798093502895,
          9.061409120379617,
          8.555443853831948,
          8.293537142466043,
          8.170647101387194,
          8.79847969476613,
          8.72702834160551,
          9.325010316907411,
          9.353775761574576,
          9.934144377213167,
          9.906776969547465,
          9.766890558884024,
          9.738000778925624,
          9.379734472270638,
          9.54304322739717,
          9.096500298914593,
          8.74197545776318,
          8.945168095256756,
          8.441227513187552,
          8.660375470068132,
          7.791488495334062,
          8.179919104618934,
          8.969316269042604,
          8.602031849741072,
          7.716816760960196,
          6.784221310031424,
          7.176036021955645,
          7.475469283163271,
          8.993408272544874,
          9.615621567406741,
          9.549527010312987,
          9.360603129004923,
          9.80444165119803,
          9.607450949989046,
          10.482042153378254,
          10.50689618550203,
          10.70453157464358,
          10.592600046585332,
          9.405609307144754,
          9.297817238281157,
          9.991429935949483,
          9.534936220064207,
          10.871621429750567,
          10.660096035426106,
          11.046240487860073,
          10.66449512446273,
          10.280658753005033,
          9.985095289747848,
          10.386657238246872,
          10.324981799695827,
          10.577611455599103,
          11.274314940030923,
          11.362052264546755,
          11.46814829986421,
          12.12378452921795,
          11.230013583249665,
          10.599097495361962,
          11.11027916252023,
          10.210692947518691,
          11.070634714484896,
          11.337963232385825,
          10.028790934368654,
          9.412293874362115,
          9.42948372589847,
          10.19184913581731,
          10.189389206777959,
          10.61017511229201,
          11.417331637809278,
          11.248389395274039,
          11.127573388352687,
          11.358685841461837,
          11.434392532768852,
          12.352383562670598,
          12.343373635379569,
          12.487007115797558,
          12.958641404682718,
          13.473120644908784,
          13.700071124174176,
          15.350864108884466,
          15.832930506667136,
          15.757748558101701,
          16.107896626467383,
          16.103372871240133,
          16.19298131520287,
          15.466177817310012,
          15.43271021694709,
          15.318384222711645,
          14.717664117523213,
          14.10297277614812,
          14.415792223734503,
          14.007756154083655,
          14.490995266988909,
          15.143190694319461,
          14.968691196906411,
          15.133379044858176,
          15.760675625156349,
          15.942543388984314,
          15.253252427462263,
          15.540606523617075,
          16.300077289672984,
          15.617136944190591,
          16.10406301559656,
          17.36612164644805,
          17.505311985443463,
          18.287684651918223,
          18.371140464858073,
          17.52552223415961,
          17.338974324462704,
          17.478492872475304,
          17.702727088924036,
          18.819150949457505,
          18.852529540608717,
          19.455555859288737,
          20.280101908351135,
          19.313763167962257,
          19.2310639822649,
          18.98720816101514,
          18.892664506902122,
          18.767876038123106,
          17.656267001865654,
          17.621695037465575,
          17.294591506241677,
          17.154493820902346,
          16.943641147181918,
          16.811906650550785,
          17.627659596562072,
          18.454314910136215,
          19.002739864443136,
          19.073662770802805,
          19.210836430597112,
          19.281345277027256,
          19.515591044836302,
          20.863855897373277,
          21.285539242510293,
          21.790025335698274,
          21.12095052621471,
          21.34328995114652,
          20.850552255161425,
          21.95538083037058,
          22.662732563154588,
          22.55384665735953,
          21.601485100886894,
          21.970314703566558,
          22.522423644667068,
          21.18282691829404,
          21.512480066683796,
          21.89732085762204,
          22.09004721622671,
          21.4729003482127,
          21.200941679529116,
          21.169162895956255,
          21.314412735766805,
          20.549363603083517,
          20.464515886100212,
          20.058470564599133,
          19.397182014295755,
          19.33758551375118,
          19.044897665064383,
          19.681058692493355,
          19.17040530275102,
          19.114661814324165,
          19.283546344470743,
          18.900495825906667,
          18.268980520775006,
          18.49379572227453,
          18.997109559118016,
          18.609559196745057,
          18.9311394354294,
          19.495132145510148,
          19.038391602239997,
          17.979734719455767,
          16.646081239289334,
          16.75822182815569,
          16.732023076143083,
          16.294186709336426,
          16.229169041029387,
          15.348775207118642,
          15.665447188803453,
          15.417497690744865,
          14.827070993857161,
          15.076226555318607,
          15.272797615126628,
          14.342738427086172,
          14.22895080458336,
          14.07400480557668,
          13.323846521176868,
          13.223428656922126,
          13.310172289140677,
          13.514164996066782,
          13.590704324189486,
          14.56082553487696,
          14.069889195265102,
          14.12716680527932,
          13.324380025049278,
          12.909436216418642,
          13.578694902379487,
          12.870009196917614,
          13.116955116751376,
          12.831126952441577,
          12.02428689507166,
          11.920555365151253,
          11.748125166318939,
          12.035303450052144,
          12.54506209214725,
          11.220837028287754,
          10.639742884667942,
          10.553362649992284,
          10.69696755044436,
          9.203071483144418,
          10.04239576946546,
          10.904701643135956,
          11.386616538472868,
          11.127018426057493,
          11.71020350173163,
          10.19804234830654,
          9.561635674654244,
          9.861197911068494,
          8.958095427597065,
          8.651381892144773,
          9.173592608955486,
          9.578614928114671,
          9.880482856821496,
          9.389519436790941,
          9.863476028782655,
          10.00472868128598,
          9.350440738723519,
          10.436923912531915,
          10.701467376200641,
          10.550902481202499,
          10.816128222776346,
          10.347668314963046,
          10.303764013944486,
          9.60103178081803,
          10.963545140088133,
          11.15437348979806,
          11.131877600560957,
          11.81660567964779,
          12.027627810326086,
          12.858350098484417,
          13.173239180444767,
          12.921542736450816,
          13.082236101525519,
          13.67264429076366,
          13.50939845099865,
          13.925108857554136,
          14.502329992778394,
          13.684092739932089,
          13.63522998173313,
          13.590627953149578,
          13.84052194674855,
          14.484645255231978,
          14.38953722369073,
          14.73981002600666,
          14.762402760499317,
          15.605281943877463,
          15.769204443888652,
          16.027623654603072,
          15.929228266553547,
          15.673731019810369,
          16.27609595363643,
          16.538169901878273,
          16.557462353284635,
          15.47284488520109,
          15.382664558093158,
          15.504250086896603,
          15.543274606789721,
          15.904601037880724,
          15.82977672746137,
          15.932978117334592,
          15.746634613803016,
          15.019815136132143,
          15.147871483341403,
          15.574513743743474,
          15.13073018361594,
          13.190038908634925,
          12.254513026084425,
          12.557041848697402,
          12.24248722868776,
          12.568163716771279,
          12.498493258663691,
          12.66513008888633,
          11.478010563176102,
          11.220191435792508,
          11.36085948235197,
          11.606298728032423,
          11.858153274058855,
          11.99332074116146,
          11.657171845510604,
          11.532347356570098,
          10.774412406530512,
          10.555987528773207,
          10.507867338322736,
          9.843925036788665,
          9.491729902993681,
          9.824234032606588,
          9.789931459315529,
          10.319596965495665,
          10.180852842275566,
          10.263080772395865,
          10.101986979516575,
          9.975270444547334,
          9.68195180074588,
          9.00468330267259,
          9.877522881797418,
          10.338022235880478,
          9.558979071461753,
          9.275510520783518,
          10.100662557134061,
          9.825151315332818,
          9.719527962026046,
          9.512104606490084,
          8.804868766950849,
          9.635735676497296,
          9.596277610818468,
          8.587805848590065,
          7.992476621890588,
          7.979415427766405,
          6.887633240959098,
          6.1158520534749865,
          5.686580792711465,
          6.283978682335245,
          6.626283106142695,
          5.938167263807355,
          6.370871079287455,
          5.851058305257792,
          5.383055645572537,
          5.185631102475627,
          5.436791205765041,
          5.335240464396213,
          6.0859109547037455,
          5.587322979690297,
          5.102541234053684,
          4.995660368111993,
          5.197467894104284,
          5.082584998954513,
          5.07902421999558,
          4.89458807623446,
          4.683467910580057,
          4.623420278224883,
          4.974502458516259,
          5.2978386925077965,
          4.810837510709868,
          4.338327887059684,
          3.5152468946087314,
          3.516953411467093,
          4.199528238614289,
          4.5539027468741535,
          4.821932567249566,
          4.163432686268164,
          4.733035520449078,
          5.817021407437963,
          5.355953290693145,
          6.119074101694973,
          6.123827908437631,
          5.689448556576279,
          5.379984111338434,
          5.969594309705817,
          5.080346751007283,
          5.600402025441654,
          5.27708372363817,
          4.753419854759175,
          4.874245519784388,
          4.57433516042291,
          3.826813637858308,
          4.030889376481203,
          3.7143002807907424,
          4.1526780181782375,
          5.206986415390365,
          4.817688918348692,
          5.272568813700618,
          5.009762820276492,
          4.781258430576313,
          4.938212956613097,
          5.4295089405107415,
          4.191475702292976,
          4.569253221612627,
          4.4601698298815515,
          3.829196911472512,
          2.6907737378632945,
          2.0930704595910994,
          1.112238427369041,
          1.3924301248072817,
          1.5229136535713583,
          2.0658846246360296,
          2.636893101363828,
          2.8701933496822423,
          3.2042742647139675,
          3.922480560171087,
          3.7914719934981314,
          3.813169630554975,
          3.8671262074613693,
          3.6382328030438384,
          3.665354607198652,
          3.6617100481397657,
          3.1975681554491864,
          2.6204837031051573,
          2.428294657219518,
          2.5030870730023596,
          2.518731907571268,
          2.145905396220182,
          2.5498480193490316,
          2.29212393283843,
          1.725370618548383,
          2.937438432543798,
          3.0218001258757967,
          3.283526689521616,
          3.875532084764013,
          3.848585489248414,
          3.515011031546347,
          2.6376227886206016,
          1.961091513608137,
          1.8262025239665993,
          2.657861462057283,
          2.418026754496995,
          2.7447049584574255,
          2.728120699005679,
          2.045503745757358,
          2.162562588073673,
          1.362033256281157,
          1.164028670160285,
          0.9573194348648193,
          1.3568942589758848,
          1.2431207032136828,
          2.0033609930448746,
          2.0824020151164317,
          2.6103270656306328,
          2.1876705640404297,
          2.744218275988361,
          2.941947530221677,
          3.3286178988768143,
          3.719156214759978,
          3.8145528022541373,
          4.277992153672434,
          4.378005422235047,
          3.5182909157166016,
          3.2390182461946595,
          3.244037635149832,
          3.6196828320602172,
          3.2416957573955103,
          3.373654538799196,
          4.302566176564053,
          5.254818750703007,
          5.968727637038761,
          5.851259399943581,
          5.762200659377618,
          6.3901007926211975,
          5.930068740569606,
          5.9591360897958126,
          6.603346424238317,
          6.8900070148296475,
          7.422947056264815,
          8.344103876536517,
          8.109377625914004,
          8.17641467290615,
          8.147859569837701,
          9.76535377997673,
          10.592749153667901,
          10.408807617818736,
          10.685802432627701,
          10.743154116788277,
          10.832292032607024,
          10.397340889844754,
          9.36618365335914,
          9.282495328873493,
          10.170583058385455,
          10.155654982244004,
          9.802612420088474,
          9.00513113479997,
          9.409494260851568,
          9.36138479454934,
          9.522286412537833,
          9.485602681937861,
          9.157694079358007,
          9.50147987903922,
          8.695553760048979,
          9.408481180344351,
          10.238845244388953,
          10.399589084042711,
          10.272968262133936,
          9.730832449970567,
          10.335190977040584,
          9.17188764867073,
          9.741499629285222,
          9.212712508240003,
          8.53208443573355,
          8.245803454197645,
          8.172850771630431,
          9.241209568554025,
          9.43206790463051,
          8.62027199186401,
          8.688320934380922,
          9.297789458982724,
          9.801637918319177,
          9.969395412641918,
          9.989916856795038,
          9.581210533222857,
          9.93050150260613,
          10.711304967385749,
          10.726073601060909,
          10.797143643150227,
          11.513064116721731,
          11.446162068073928,
          11.193664647271383,
          11.038808219263029,
          11.40974240246442,
          11.42921694890528,
          11.539120435687556,
          12.140768464464697,
          12.160774999721083,
          12.914006872999295,
          13.408437411653184,
          12.862055090373092,
          12.04974442701875,
          11.681139097544124,
          10.569340094797013,
          10.281380933527975,
          9.48935291907705,
          9.735300378883673,
          9.490514875986214,
          9.331187280096398,
          8.772067995930431,
          9.360413932160352,
          9.14333205958385,
          9.439527407150916,
          9.402526777684622,
          8.929627098627005,
          8.766883661864668,
          8.072663698117069,
          8.322795864991429,
          8.809655847798833,
          7.964284464637892,
          8.255571895312656,
          8.386230425966703,
          7.777907714981176,
          8.080788195782214,
          8.467114714023442,
          9.057583705424598,
          9.760569098002213,
          9.688868596251243,
          9.71235975667654,
          9.44346750841787,
          9.060174249877278,
          8.904904166077173,
          8.914701693922046,
          8.75437680588755,
          8.586406340359067
         ],
         "yaxis": "y"
        }
       ],
       "layout": {
        "legend": {
         "title": {
          "text": "variable"
         },
         "tracegroupgap": 0
        },
        "margin": {
         "t": 60
        },
        "paper_bgcolor": "rgba(1, 20, 0, 1)",
        "plot_bgcolor": "rgba(1, 0, 0, 1)",
        "template": {
         "data": {
          "bar": [
           {
            "error_x": {
             "color": "#2a3f5f"
            },
            "error_y": {
             "color": "#2a3f5f"
            },
            "marker": {
             "line": {
              "color": "#E5ECF6",
              "width": 0.5
             },
             "pattern": {
              "fillmode": "overlay",
              "size": 10,
              "solidity": 0.2
             }
            },
            "type": "bar"
           }
          ],
          "barpolar": [
           {
            "marker": {
             "line": {
              "color": "#E5ECF6",
              "width": 0.5
             },
             "pattern": {
              "fillmode": "overlay",
              "size": 10,
              "solidity": 0.2
             }
            },
            "type": "barpolar"
           }
          ],
          "carpet": [
           {
            "aaxis": {
             "endlinecolor": "#2a3f5f",
             "gridcolor": "white",
             "linecolor": "white",
             "minorgridcolor": "white",
             "startlinecolor": "#2a3f5f"
            },
            "baxis": {
             "endlinecolor": "#2a3f5f",
             "gridcolor": "white",
             "linecolor": "white",
             "minorgridcolor": "white",
             "startlinecolor": "#2a3f5f"
            },
            "type": "carpet"
           }
          ],
          "choropleth": [
           {
            "colorbar": {
             "outlinewidth": 0,
             "ticks": ""
            },
            "type": "choropleth"
           }
          ],
          "contour": [
           {
            "colorbar": {
             "outlinewidth": 0,
             "ticks": ""
            },
            "colorscale": [
             [
              0,
              "#0d0887"
             ],
             [
              0.1111111111111111,
              "#46039f"
             ],
             [
              0.2222222222222222,
              "#7201a8"
             ],
             [
              0.3333333333333333,
              "#9c179e"
             ],
             [
              0.4444444444444444,
              "#bd3786"
             ],
             [
              0.5555555555555556,
              "#d8576b"
             ],
             [
              0.6666666666666666,
              "#ed7953"
             ],
             [
              0.7777777777777778,
              "#fb9f3a"
             ],
             [
              0.8888888888888888,
              "#fdca26"
             ],
             [
              1,
              "#f0f921"
             ]
            ],
            "type": "contour"
           }
          ],
          "contourcarpet": [
           {
            "colorbar": {
             "outlinewidth": 0,
             "ticks": ""
            },
            "type": "contourcarpet"
           }
          ],
          "heatmap": [
           {
            "colorbar": {
             "outlinewidth": 0,
             "ticks": ""
            },
            "colorscale": [
             [
              0,
              "#0d0887"
             ],
             [
              0.1111111111111111,
              "#46039f"
             ],
             [
              0.2222222222222222,
              "#7201a8"
             ],
             [
              0.3333333333333333,
              "#9c179e"
             ],
             [
              0.4444444444444444,
              "#bd3786"
             ],
             [
              0.5555555555555556,
              "#d8576b"
             ],
             [
              0.6666666666666666,
              "#ed7953"
             ],
             [
              0.7777777777777778,
              "#fb9f3a"
             ],
             [
              0.8888888888888888,
              "#fdca26"
             ],
             [
              1,
              "#f0f921"
             ]
            ],
            "type": "heatmap"
           }
          ],
          "heatmapgl": [
           {
            "colorbar": {
             "outlinewidth": 0,
             "ticks": ""
            },
            "colorscale": [
             [
              0,
              "#0d0887"
             ],
             [
              0.1111111111111111,
              "#46039f"
             ],
             [
              0.2222222222222222,
              "#7201a8"
             ],
             [
              0.3333333333333333,
              "#9c179e"
             ],
             [
              0.4444444444444444,
              "#bd3786"
             ],
             [
              0.5555555555555556,
              "#d8576b"
             ],
             [
              0.6666666666666666,
              "#ed7953"
             ],
             [
              0.7777777777777778,
              "#fb9f3a"
             ],
             [
              0.8888888888888888,
              "#fdca26"
             ],
             [
              1,
              "#f0f921"
             ]
            ],
            "type": "heatmapgl"
           }
          ],
          "histogram": [
           {
            "marker": {
             "pattern": {
              "fillmode": "overlay",
              "size": 10,
              "solidity": 0.2
             }
            },
            "type": "histogram"
           }
          ],
          "histogram2d": [
           {
            "colorbar": {
             "outlinewidth": 0,
             "ticks": ""
            },
            "colorscale": [
             [
              0,
              "#0d0887"
             ],
             [
              0.1111111111111111,
              "#46039f"
             ],
             [
              0.2222222222222222,
              "#7201a8"
             ],
             [
              0.3333333333333333,
              "#9c179e"
             ],
             [
              0.4444444444444444,
              "#bd3786"
             ],
             [
              0.5555555555555556,
              "#d8576b"
             ],
             [
              0.6666666666666666,
              "#ed7953"
             ],
             [
              0.7777777777777778,
              "#fb9f3a"
             ],
             [
              0.8888888888888888,
              "#fdca26"
             ],
             [
              1,
              "#f0f921"
             ]
            ],
            "type": "histogram2d"
           }
          ],
          "histogram2dcontour": [
           {
            "colorbar": {
             "outlinewidth": 0,
             "ticks": ""
            },
            "colorscale": [
             [
              0,
              "#0d0887"
             ],
             [
              0.1111111111111111,
              "#46039f"
             ],
             [
              0.2222222222222222,
              "#7201a8"
             ],
             [
              0.3333333333333333,
              "#9c179e"
             ],
             [
              0.4444444444444444,
              "#bd3786"
             ],
             [
              0.5555555555555556,
              "#d8576b"
             ],
             [
              0.6666666666666666,
              "#ed7953"
             ],
             [
              0.7777777777777778,
              "#fb9f3a"
             ],
             [
              0.8888888888888888,
              "#fdca26"
             ],
             [
              1,
              "#f0f921"
             ]
            ],
            "type": "histogram2dcontour"
           }
          ],
          "mesh3d": [
           {
            "colorbar": {
             "outlinewidth": 0,
             "ticks": ""
            },
            "type": "mesh3d"
           }
          ],
          "parcoords": [
           {
            "line": {
             "colorbar": {
              "outlinewidth": 0,
              "ticks": ""
             }
            },
            "type": "parcoords"
           }
          ],
          "pie": [
           {
            "automargin": true,
            "type": "pie"
           }
          ],
          "scatter": [
           {
            "fillpattern": {
             "fillmode": "overlay",
             "size": 10,
             "solidity": 0.2
            },
            "type": "scatter"
           }
          ],
          "scatter3d": [
           {
            "line": {
             "colorbar": {
              "outlinewidth": 0,
              "ticks": ""
             }
            },
            "marker": {
             "colorbar": {
              "outlinewidth": 0,
              "ticks": ""
             }
            },
            "type": "scatter3d"
           }
          ],
          "scattercarpet": [
           {
            "marker": {
             "colorbar": {
              "outlinewidth": 0,
              "ticks": ""
             }
            },
            "type": "scattercarpet"
           }
          ],
          "scattergeo": [
           {
            "marker": {
             "colorbar": {
              "outlinewidth": 0,
              "ticks": ""
             }
            },
            "type": "scattergeo"
           }
          ],
          "scattergl": [
           {
            "marker": {
             "colorbar": {
              "outlinewidth": 0,
              "ticks": ""
             }
            },
            "type": "scattergl"
           }
          ],
          "scattermapbox": [
           {
            "marker": {
             "colorbar": {
              "outlinewidth": 0,
              "ticks": ""
             }
            },
            "type": "scattermapbox"
           }
          ],
          "scatterpolar": [
           {
            "marker": {
             "colorbar": {
              "outlinewidth": 0,
              "ticks": ""
             }
            },
            "type": "scatterpolar"
           }
          ],
          "scatterpolargl": [
           {
            "marker": {
             "colorbar": {
              "outlinewidth": 0,
              "ticks": ""
             }
            },
            "type": "scatterpolargl"
           }
          ],
          "scatterternary": [
           {
            "marker": {
             "colorbar": {
              "outlinewidth": 0,
              "ticks": ""
             }
            },
            "type": "scatterternary"
           }
          ],
          "surface": [
           {
            "colorbar": {
             "outlinewidth": 0,
             "ticks": ""
            },
            "colorscale": [
             [
              0,
              "#0d0887"
             ],
             [
              0.1111111111111111,
              "#46039f"
             ],
             [
              0.2222222222222222,
              "#7201a8"
             ],
             [
              0.3333333333333333,
              "#9c179e"
             ],
             [
              0.4444444444444444,
              "#bd3786"
             ],
             [
              0.5555555555555556,
              "#d8576b"
             ],
             [
              0.6666666666666666,
              "#ed7953"
             ],
             [
              0.7777777777777778,
              "#fb9f3a"
             ],
             [
              0.8888888888888888,
              "#fdca26"
             ],
             [
              1,
              "#f0f921"
             ]
            ],
            "type": "surface"
           }
          ],
          "table": [
           {
            "cells": {
             "fill": {
              "color": "#EBF0F8"
             },
             "line": {
              "color": "white"
             }
            },
            "header": {
             "fill": {
              "color": "#C8D4E3"
             },
             "line": {
              "color": "white"
             }
            },
            "type": "table"
           }
          ]
         },
         "layout": {
          "annotationdefaults": {
           "arrowcolor": "#2a3f5f",
           "arrowhead": 0,
           "arrowwidth": 1
          },
          "autotypenumbers": "strict",
          "coloraxis": {
           "colorbar": {
            "outlinewidth": 0,
            "ticks": ""
           }
          },
          "colorscale": {
           "diverging": [
            [
             0,
             "#8e0152"
            ],
            [
             0.1,
             "#c51b7d"
            ],
            [
             0.2,
             "#de77ae"
            ],
            [
             0.3,
             "#f1b6da"
            ],
            [
             0.4,
             "#fde0ef"
            ],
            [
             0.5,
             "#f7f7f7"
            ],
            [
             0.6,
             "#e6f5d0"
            ],
            [
             0.7,
             "#b8e186"
            ],
            [
             0.8,
             "#7fbc41"
            ],
            [
             0.9,
             "#4d9221"
            ],
            [
             1,
             "#276419"
            ]
           ],
           "sequential": [
            [
             0,
             "#0d0887"
            ],
            [
             0.1111111111111111,
             "#46039f"
            ],
            [
             0.2222222222222222,
             "#7201a8"
            ],
            [
             0.3333333333333333,
             "#9c179e"
            ],
            [
             0.4444444444444444,
             "#bd3786"
            ],
            [
             0.5555555555555556,
             "#d8576b"
            ],
            [
             0.6666666666666666,
             "#ed7953"
            ],
            [
             0.7777777777777778,
             "#fb9f3a"
            ],
            [
             0.8888888888888888,
             "#fdca26"
            ],
            [
             1,
             "#f0f921"
            ]
           ],
           "sequentialminus": [
            [
             0,
             "#0d0887"
            ],
            [
             0.1111111111111111,
             "#46039f"
            ],
            [
             0.2222222222222222,
             "#7201a8"
            ],
            [
             0.3333333333333333,
             "#9c179e"
            ],
            [
             0.4444444444444444,
             "#bd3786"
            ],
            [
             0.5555555555555556,
             "#d8576b"
            ],
            [
             0.6666666666666666,
             "#ed7953"
            ],
            [
             0.7777777777777778,
             "#fb9f3a"
            ],
            [
             0.8888888888888888,
             "#fdca26"
            ],
            [
             1,
             "#f0f921"
            ]
           ]
          },
          "colorway": [
           "#636efa",
           "#EF553B",
           "#00cc96",
           "#ab63fa",
           "#FFA15A",
           "#19d3f3",
           "#FF6692",
           "#B6E880",
           "#FF97FF",
           "#FECB52"
          ],
          "font": {
           "color": "#2a3f5f"
          },
          "geo": {
           "bgcolor": "white",
           "lakecolor": "white",
           "landcolor": "#E5ECF6",
           "showlakes": true,
           "showland": true,
           "subunitcolor": "white"
          },
          "hoverlabel": {
           "align": "left"
          },
          "hovermode": "closest",
          "mapbox": {
           "style": "light"
          },
          "paper_bgcolor": "white",
          "plot_bgcolor": "#E5ECF6",
          "polar": {
           "angularaxis": {
            "gridcolor": "white",
            "linecolor": "white",
            "ticks": ""
           },
           "bgcolor": "#E5ECF6",
           "radialaxis": {
            "gridcolor": "white",
            "linecolor": "white",
            "ticks": ""
           }
          },
          "scene": {
           "xaxis": {
            "backgroundcolor": "#E5ECF6",
            "gridcolor": "white",
            "gridwidth": 2,
            "linecolor": "white",
            "showbackground": true,
            "ticks": "",
            "zerolinecolor": "white"
           },
           "yaxis": {
            "backgroundcolor": "#E5ECF6",
            "gridcolor": "white",
            "gridwidth": 2,
            "linecolor": "white",
            "showbackground": true,
            "ticks": "",
            "zerolinecolor": "white"
           },
           "zaxis": {
            "backgroundcolor": "#E5ECF6",
            "gridcolor": "white",
            "gridwidth": 2,
            "linecolor": "white",
            "showbackground": true,
            "ticks": "",
            "zerolinecolor": "white"
           }
          },
          "shapedefaults": {
           "line": {
            "color": "#2a3f5f"
           }
          },
          "ternary": {
           "aaxis": {
            "gridcolor": "white",
            "linecolor": "white",
            "ticks": ""
           },
           "baxis": {
            "gridcolor": "white",
            "linecolor": "white",
            "ticks": ""
           },
           "bgcolor": "#E5ECF6",
           "caxis": {
            "gridcolor": "white",
            "linecolor": "white",
            "ticks": ""
           }
          },
          "title": {
           "x": 0.05
          },
          "xaxis": {
           "automargin": true,
           "gridcolor": "white",
           "linecolor": "white",
           "ticks": "",
           "title": {
            "standoff": 15
           },
           "zerolinecolor": "white",
           "zerolinewidth": 2
          },
          "yaxis": {
           "automargin": true,
           "gridcolor": "white",
           "linecolor": "white",
           "ticks": "",
           "title": {
            "standoff": 15
           },
           "zerolinecolor": "white",
           "zerolinewidth": 2
          }
         }
        },
        "title": {
         "text": "W_t",
         "x": 0.5
        },
        "xaxis": {
         "anchor": "y",
         "domain": [
          0,
          1
         ],
         "title": {
          "text": "index"
         }
        },
        "yaxis": {
         "anchor": "x",
         "domain": [
          0,
          1
         ],
         "title": {
          "text": "value"
         }
        }
       }
      }
     },
     "metadata": {},
     "output_type": "display_data"
    }
   ],
   "source": [
    "fig = px.line(W_t)\n",
    "fig.update_layout(title_text = \"W_t\", title_x = 0.5)\n",
    "fig.update_layout(\n",
    "    {\n",
    "        \"paper_bgcolor\": \"rgba(1, 20, 0, 1)\",\n",
    "        \"plot_bgcolor\": \"rgba(1, 0, 0, 1)\",\n",
    "    }\n",
    ")\n",
    "\n",
    "fig.show()"
   ]
  },
  {
   "cell_type": "markdown",
   "metadata": {},
   "source": [
    "# Execution of orders"
   ]
  },
  {
   "cell_type": "markdown",
   "metadata": {},
   "source": [
    "The arrivals of market buy and sell orders ($N_t^b$ and $N_t^a$, respectively) are assumed to be Cox processes (Poisson processes with stochastic intensity). The intensities $\\lambda_a(Q_t^a, S_t)$ and $\\lambda_b(Q_t^b, S_t)$ depend on the spread and the choice of quotes by the market maker (market makers may choose a lower ask price and higher bid price to increase the chance of execution)."
   ]
  },
  {
   "cell_type": "code",
   "execution_count": 97,
   "metadata": {},
   "outputs": [],
   "source": [
    "def orders_simulaton(intensity_matrix, spread_changes, spread, lambda_max, initial_intensities, q):\n",
    "    '''\n",
    "    Simulates the execution orders (either ask or bid) through acceptance-rejection algorithm.\n",
    "\n",
    "    Parameters:\n",
    "        intensity_matrix (np.array): Values of intensity in relation to market maker's choice of quotes and spread.\n",
    "        spread_changes (np.array): Times when spread shifts\n",
    "        spread (np.array): Values of spread\n",
    "        lambda_max (float): Maximum possible value of lambda needed for acceptance-rejection algorithm, serving as a reference for accepting or rejecting the given arrival time\n",
    "        initial_intensities (np.array): Arrival times for the orders but generated with lambda_max as intensity\n",
    "        q (np.array): choice of quotes of the market maker\n",
    "\n",
    "    Returns:\n",
    "        (arrival_times, q_filtered) ((list, np.array)): Final arrival times of orders and matching quotes   \n",
    "    '''\n",
    "    lambda_process = []\n",
    "\n",
    "    for t, i in zip(initial_intensities, range(len(initial_intensities) + 1)):\n",
    "        spread_position = np.sum(t >= spread_changes)  # checking the spread at the arrival time t\n",
    "        lambda_process.append(intensity_matrix[spread[spread_position - 1], q[i]])   # choosing the realisation of intensity process based on the estimated intensity function and simulated spread\n",
    "\n",
    "\n",
    "    acceptance = np.where(lambda_process / lambda_max < np.random.uniform(0, 1, len(initial_intensities)), False, True)  # accepted arrival times\n",
    "\n",
    "    arrival_times = initial_intensities[acceptance]  # final arrival times\n",
    "    q_filtered = q[acceptance]  # filtered quotes - only at accepted arrival times\n",
    "\n",
    "    return (arrival_times, q_filtered)"
   ]
  },
  {
   "cell_type": "code",
   "execution_count": 98,
   "metadata": {},
   "outputs": [],
   "source": [
    "intensity_matrix_a = np.array([[0.0539, 0.1485], \n",
    "                              [0.0465, 0.0979],\n",
    "                              [0.0401, 0.0846],\n",
    "                              [0.0360, 0.0856],\n",
    "                              [0.0435, 0.1009],\n",
    "                              [0.0554, 0.1202]]) # Estimated intensities for given quotes and spread for ask\n",
    "\n",
    "intensity_matrix_b = np.array([[0.0718, 0.1763], \n",
    "                              [0.0520, 0.1144],\n",
    "                              [0.0419, 0.0915],\n",
    "                              [0.0409, 0.0896],\n",
    "                              [0.0452, 0.0930],\n",
    "                              [0.0614, 0.1255]])    # Estimated intensities for given quotes and spread for bid\n",
    "\n",
    "intensity_matrix_sym = (intensity_matrix_a + intensity_matrix_b) / 2    # Making bid and ask sides symmetric"
   ]
  },
  {
   "cell_type": "code",
   "execution_count": 99,
   "metadata": {},
   "outputs": [],
   "source": [
    "lambda_max = np.max(intensity_matrix_sym)  # maximum lambda serving as a reference for acceptance probability\n",
    "intensity_orders_simulation = poisson_point_process_sim(np.max(lambda_max), T) # simulation of the poisson process with maximum lambda as intensity\n",
    "\n",
    "q_a_initial = np.random.binomial(1, 0.5, len(intensity_orders_simulation[1]))  # ad-hoc choice of quotes for ask\n",
    "q_b_initial = np.random.binomial(1, 0.5, len(intensity_orders_simulation[1]))  # ad-hoc choice of quotes for bid"
   ]
  },
  {
   "cell_type": "code",
   "execution_count": 100,
   "metadata": {},
   "outputs": [],
   "source": [
    "orders_a_simulated = orders_simulaton(intensity_matrix_sym, PPP_spread[1], spread_simulated, lambda_max, intensity_orders_simulation[1], q_a_initial)\n",
    "orders_b_simulated = orders_simulaton(intensity_matrix_sym, PPP_spread[1], spread_simulated, lambda_max, intensity_orders_simulation[1], q_b_initial)\n",
    "\n",
    "orders_a = orders_a_simulated[0]  # final arrival times of ask orders\n",
    "orders_b = orders_b_simulated[0]  # final arrival times of bid orders\n",
    "q_a = orders_a_simulated[1]  # final quotes of ask orders at arrival times\n",
    "q_b = orders_b_simulated[1]  # final quotes of bid orders at arrival times"
   ]
  },
  {
   "cell_type": "markdown",
   "metadata": {},
   "source": [
    "# Price process"
   ]
  },
  {
   "cell_type": "markdown",
   "metadata": {},
   "source": [
    "The price is assumed to follow Bachelier model dynamics given by: \n",
    "$$dP_t=bdt+\\sigma dW_t$$\n",
    "Therefore:\n",
    "$$P_t = P_0 + bt + \\sigma W_t$$"
   ]
  },
  {
   "cell_type": "code",
   "execution_count": 101,
   "metadata": {},
   "outputs": [],
   "source": [
    "def price_sim(b, P_0, t, sigma, W):\n",
    "    '''\n",
    "    Simulates the price process, which is assumed to follow the dynamics of the Bachelier model.\n",
    "\n",
    "    Parameters:\n",
    "        b (float): Drift parameter\n",
    "        P_0 (float): Initial price (at time t=0)\n",
    "        t (np.array): Values of spread\n",
    "        sigma (float): Volatility parameter\n",
    "        W (np.array): Realisation of the Standard Brownian Motion\n",
    "\n",
    "    Returns:\n",
    "        P (np.array): Realisation of the price process   \n",
    "    '''\n",
    "    P = P_0 + b * t + sigma * W\n",
    "\n",
    "    return P  # Bachelier model dynamics"
   ]
  },
  {
   "cell_type": "code",
   "execution_count": 102,
   "metadata": {},
   "outputs": [],
   "source": [
    "timeline = np.sort(np.concatenate((orders_a, orders_b, PPP_spread[1])))  # merged times at which there is a trade execution or change of spread\n",
    "W_t = np.cumsum(np.concatenate(([0], np.random.normal(0, np.sqrt(T * dt), int(1 / dt))))) # simulation of Brownian motion between subsequent times (variance equal to time difference)\n",
    "t_price = np.arange(0, T + T * dt / 2, T * dt) \n",
    "\n",
    "p_t = price_sim(b, P_0, t_price, sigma, np.array(W_t))  # final price process"
   ]
  },
  {
   "cell_type": "markdown",
   "metadata": {},
   "source": [
    "# Cash and inventory"
   ]
  },
  {
   "cell_type": "markdown",
   "metadata": {},
   "source": [
    "The inventory follows the natural dynamics given by arrival times of buy and sell orders and sizes of respective transactions ($L_t^a$ and $L_t^b$):\n",
    "\n",
    "$$dY_t = L_t^bdN_t^b - L_t^adN_t^a$$\n",
    "\n",
    "The cash dynamics is very similar with reversed signs (when the market makers buy, he/she uses cash and vice versa) and prices of the market maker $\\pi^b(Q_t^b, P_{t^-}, S_{t^-})$ and $\\pi^a(Q_t^a, P_{t^-}, S_{t^-})$:\n",
    "\n",
    "$$dX_t = -\\pi^b(Q_t^b, P_{t^-}, S_{t^-}) L_t^bdN_t^b + \\pi^a(Q_t^a, P_{t^-}, S_{t^-}) L_t^adN_t^a$$\n",
    "\n",
    "where \n",
    "\n",
    "$$\\pi^b(Q_t^b, P_{t^-}, S_{t^-}) = \n",
    "\\begin{cases}\n",
    "    p-\\frac{s}{2} & \\text{for } q_b = Bb \\\\\n",
    "    p-\\frac{s}{2} + \\delta & \\text{for } q_b = Bb_+\n",
    "\\end{cases}$$\n",
    "\n",
    "$$\\pi^a(Q_t^a, P_{t^-}, S_{t^-}) = \n",
    "\\begin{cases}\n",
    "    p+\\frac{s}{2} & \\text{for } q_a = Ba \\\\\n",
    "    p+\\frac{s}{2} - \\delta & \\text{for } q_a = Ba_-\n",
    "\\end{cases}$$\n",
    "\n",
    "where $p$ is the price, $s$ is the spread, $Bb$, $Ba$ are the choices of the existing spread and $Bb_+$, $Ba_-$ are the choices of spread updated by a tick to have a more favourable position.\n"
   ]
  },
  {
   "cell_type": "code",
   "execution_count": 103,
   "metadata": {},
   "outputs": [],
   "source": [
    "def inventory_sim(N_a, N_b, L_a, L_b, Y_0):\n",
    "    '''\n",
    "    Simulates the inventory process.\n",
    "\n",
    "    Parameters:\n",
    "        N_a (np.array): Arrival times of buy orders\n",
    "        N_b (np.array): Arrival times of sell orders\n",
    "        L_a (np.array): Sizes of buy orders\n",
    "        L_b (np.array): Sizes of sell orders\n",
    "        Y_0 (float): Initial inventory (at time t=0)\n",
    "\n",
    "    Returns:\n",
    "       Y (np.array): Realisation of the inventory process\n",
    "    '''\n",
    "    Y = [Y_0]\n",
    "    index_a = 0   # counter for sizes of ask orders \n",
    "    index_b = 0   # counter for sizes of bid orders \n",
    "\n",
    "    for t, index_y in zip(np.sort(np.concatenate((N_a, N_b))), range(1, len(np.concatenate((N_a, N_b)) + 1))):      # merged times of orders\n",
    "        \n",
    "        # check whether at a given time it is a bid or an ask order \n",
    "        if t in N_b:        \n",
    "            Y.append(Y[index_y - 1] + l_b[index_b])   # if bid - add inventory\n",
    "            index_b =+ 1\n",
    "        else:\n",
    "            Y.append(Y[index_y - 1] - l_a[index_a])   # if ask - subtract inventory\n",
    "            index_a =+ 1\n",
    "\n",
    "    return Y"
   ]
  },
  {
   "cell_type": "code",
   "execution_count": 104,
   "metadata": {},
   "outputs": [],
   "source": [
    "def cash_sim(N_a, N_b, L_a, L_b, X_0, delta, q_a, q_b, s, spread_changes, p, price_changes):\n",
    "    '''\n",
    "    Simulates the cash process.\n",
    "\n",
    "    Parameters:\n",
    "        N_a (np.array): Arrival times of buy orders\n",
    "        N_b (np.array): Arrival times of sell orders\n",
    "        L_a (np.array): Sizes of buy orders\n",
    "        L_b (np.array): Sizes of sell orders\n",
    "        X_0 (float): Initial cash (at time t=0)\n",
    "        delta (float): Parameter which may be used by a market maker to update the spread\n",
    "        s (np.array): Realisation of the spread process\n",
    "        spread_changes (np.array): Times when spread changes\n",
    "        p (np.array): Realisation of the price process\n",
    "        price_changes (np.array): Times when price changes\n",
    "\n",
    "    Returns:\n",
    "       X (np.array): Realisation of the cash process\n",
    "    '''\n",
    "    l_a = np.random.uniform(0, 100, len(N_a)) # ad-hoc choice of size of order for ask side\n",
    "    l_b = np.random.uniform(0, 100, len(N_b)) # ad-hoc choice of size of order for bid side\n",
    "\n",
    "    X = [X_0]\n",
    "    index_a = 0\n",
    "    index_b = 0\n",
    "\n",
    "    for t, index_x in zip(np.sort(np.concatenate((N_a, N_b))), range(1, len(np.concatenate((N_a, N_b)) + 1))):\n",
    "        \n",
    "        spread_position = np.sum(t >= spread_changes)  # extracting spread at time t\n",
    "        price_position = np.sum(t >= price_changes)  # extracting price at time t\n",
    "        \n",
    "        # check whether at a given time it is a bid or an ask order \n",
    "        if t in N_b:\n",
    "            if q_b[index_b] == 1:   # checking which quote to use\n",
    "                pi_b = p[price_position - 1] - s[spread_position - 1] / 2 + delta\n",
    "            else:\n",
    "                pi_b = p[price_position - 1] - s[spread_position - 1] / 2\n",
    "            X.append((X[index_x - 1] - pi_b * l_b[index_b]))    # if bid subtract cash as I bought\n",
    "            index_b =+ 1\n",
    "        else:\n",
    "            if q_a[index_a] == 1:\n",
    "                pi_a = p[price_position - 1] + s[spread_position - 1] / 2 - delta\n",
    "            else:\n",
    "                pi_a = p[price_position - 1] + s[spread_position - 1] / 2\n",
    "            X.append((X[index_x - 1] + pi_a * l_a[index_a]))  # If ask add cash as I sold\n",
    "            index_a =+ 1\n",
    "\n",
    "    return X"
   ]
  },
  {
   "cell_type": "code",
   "execution_count": 105,
   "metadata": {},
   "outputs": [],
   "source": [
    "l_a = np.random.uniform(0, 100, len(orders_a)) # ad-hoc choice of sizes of orders for ask side\n",
    "l_b = np.random.uniform(0, 100, len(orders_b)) # ad-hoc choice of sizes of orders for bid side"
   ]
  },
  {
   "cell_type": "code",
   "execution_count": 106,
   "metadata": {},
   "outputs": [],
   "source": [
    "Y_t = inventory_sim(orders_a, orders_b, l_a, l_b, Y_0)  # final realisation of inventory\n",
    "X_t = cash_sim(orders_a, orders_b, l_a, l_b, X_0, delta, q_a, q_b, s_t, PPP_spread[1], p_t, t_price)  # final realisation of cash"
   ]
  }
 ],
 "metadata": {
  "kernelspec": {
   "display_name": "Python 3",
   "language": "python",
   "name": "python3"
  },
  "language_info": {
   "codemirror_mode": {
    "name": "ipython",
    "version": 3
   },
   "file_extension": ".py",
   "mimetype": "text/x-python",
   "name": "python",
   "nbconvert_exporter": "python",
   "pygments_lexer": "ipython3",
   "version": "3.8.8"
  }
 },
 "nbformat": 4,
 "nbformat_minor": 2
}
